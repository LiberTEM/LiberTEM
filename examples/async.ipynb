{
 "cells": [
  {
   "cell_type": "markdown",
   "id": "informed-dragon",
   "metadata": {},
   "source": [
    "## Synchronous and asynchronous UDF execution\n",
    "\n",
    "This notebook demonstrates the following features that were introduced in release 0.7.0:\n",
    "\n",
    "* Execute several UDFs in one pass\n",
    "* Obtain intermediate results from each merge step by executing UDFs as an iterator\n",
    "* Execute UDFs asynchronously\n",
    "\n",
    "Please see example live-plotting.ipynb for the related live plotting feature!"
   ]
  },
  {
   "cell_type": "code",
   "execution_count": 1,
   "id": "virgin-duplicate",
   "metadata": {
    "execution": {
     "iopub.execute_input": "2023-06-29T12:42:31.198830Z",
     "iopub.status.busy": "2023-06-29T12:42:31.198691Z",
     "iopub.status.idle": "2023-06-29T12:42:31.771414Z",
     "shell.execute_reply": "2023-06-29T12:42:31.770790Z"
    }
   },
   "outputs": [],
   "source": [
    "import os\n",
    "import pprint\n",
    "import asyncio\n",
    "import copy\n",
    "\n",
    "import numpy as np\n",
    "\n",
    "import libertem.api as lt\n",
    "from libertem.udf.sum import SumUDF\n",
    "from libertem.udf.sumsigudf import SumSigUDF"
   ]
  },
  {
   "cell_type": "code",
   "execution_count": 2,
   "id": "painful-nirvana",
   "metadata": {
    "execution": {
     "iopub.execute_input": "2023-06-29T12:42:31.773891Z",
     "iopub.status.busy": "2023-06-29T12:42:31.773740Z",
     "iopub.status.idle": "2023-06-29T12:42:33.160305Z",
     "shell.execute_reply": "2023-06-29T12:42:33.159699Z"
    }
   },
   "outputs": [],
   "source": [
    "ctx = lt.Context()"
   ]
  },
  {
   "cell_type": "code",
   "execution_count": 3,
   "id": "behind-simon",
   "metadata": {
    "execution": {
     "iopub.execute_input": "2023-06-29T12:42:33.162815Z",
     "iopub.status.busy": "2023-06-29T12:42:33.162670Z",
     "iopub.status.idle": "2023-06-29T12:42:33.165464Z",
     "shell.execute_reply": "2023-06-29T12:42:33.165013Z"
    }
   },
   "outputs": [],
   "source": [
    "data_base_path = os.environ.get(\"TESTDATA_BASE_PATH\", \"/home/alex/Data/\")"
   ]
  },
  {
   "cell_type": "code",
   "execution_count": 4,
   "id": "hired-recipe",
   "metadata": {
    "execution": {
     "iopub.execute_input": "2023-06-29T12:42:33.167193Z",
     "iopub.status.busy": "2023-06-29T12:42:33.166915Z",
     "iopub.status.idle": "2023-06-29T12:42:33.663918Z",
     "shell.execute_reply": "2023-06-29T12:42:33.663249Z"
    }
   },
   "outputs": [],
   "source": [
    "ds = ctx.load(\"auto\", path=os.path.join(data_base_path, \"20200518 165148/default.hdr\"))"
   ]
  },
  {
   "cell_type": "code",
   "execution_count": 5,
   "id": "attached-island",
   "metadata": {
    "execution": {
     "iopub.execute_input": "2023-06-29T12:42:33.666930Z",
     "iopub.status.busy": "2023-06-29T12:42:33.666502Z",
     "iopub.status.idle": "2023-06-29T12:42:33.669884Z",
     "shell.execute_reply": "2023-06-29T12:42:33.669332Z"
    }
   },
   "outputs": [],
   "source": [
    "udfs = [SumUDF(), SumSigUDF()]"
   ]
  },
  {
   "cell_type": "markdown",
   "id": "extensive-relay",
   "metadata": {},
   "source": [
    "### Synchronous execution, only result\n",
    "\n",
    "Note that both UDFs are executed in a single pass!"
   ]
  },
  {
   "cell_type": "code",
   "execution_count": 6,
   "id": "italic-shipping",
   "metadata": {
    "execution": {
     "iopub.execute_input": "2023-06-29T12:42:33.671645Z",
     "iopub.status.busy": "2023-06-29T12:42:33.671366Z",
     "iopub.status.idle": "2023-06-29T12:42:39.943884Z",
     "shell.execute_reply": "2023-06-29T12:42:39.942885Z"
    }
   },
   "outputs": [],
   "source": [
    "res = ctx.run_udf(dataset=ds, udf=udfs)"
   ]
  },
  {
   "cell_type": "markdown",
   "id": "electrical-rubber",
   "metadata": {},
   "source": [
    "The result is a tuple with one entry per UDF:"
   ]
  },
  {
   "cell_type": "code",
   "execution_count": 7,
   "id": "parental-craps",
   "metadata": {
    "execution": {
     "iopub.execute_input": "2023-06-29T12:42:39.947232Z",
     "iopub.status.busy": "2023-06-29T12:42:39.947078Z",
     "iopub.status.idle": "2023-06-29T12:42:39.950572Z",
     "shell.execute_reply": "2023-06-29T12:42:39.949954Z"
    }
   },
   "outputs": [
    {
     "name": "stdout",
     "output_type": "stream",
     "text": [
      "({'intensity': <BufferWrapper kind=sig dtype=float32 extra_shape=()>},\n",
      " {'intensity': <BufferWrapper kind=nav dtype=float32 extra_shape=()>})\n"
     ]
    }
   ],
   "source": [
    "pprint.pprint(res)"
   ]
  },
  {
   "cell_type": "markdown",
   "id": "valued-mason",
   "metadata": {},
   "source": [
    "The previous API when passing a single UDF is not changed, i.e. it doesn't return a tuple but a single UDF result"
   ]
  },
  {
   "cell_type": "code",
   "execution_count": 8,
   "id": "shared-accused",
   "metadata": {
    "execution": {
     "iopub.execute_input": "2023-06-29T12:42:39.952505Z",
     "iopub.status.busy": "2023-06-29T12:42:39.952186Z",
     "iopub.status.idle": "2023-06-29T12:42:40.079027Z",
     "shell.execute_reply": "2023-06-29T12:42:40.078288Z"
    }
   },
   "outputs": [],
   "source": [
    "res = ctx.run_udf(dataset=ds, udf=udfs[0])"
   ]
  },
  {
   "cell_type": "code",
   "execution_count": 9,
   "id": "frozen-incident",
   "metadata": {
    "execution": {
     "iopub.execute_input": "2023-06-29T12:42:40.081693Z",
     "iopub.status.busy": "2023-06-29T12:42:40.081103Z",
     "iopub.status.idle": "2023-06-29T12:42:40.084359Z",
     "shell.execute_reply": "2023-06-29T12:42:40.083895Z"
    }
   },
   "outputs": [
    {
     "name": "stdout",
     "output_type": "stream",
     "text": [
      "{'intensity': <BufferWrapper kind=sig dtype=float32 extra_shape=()>}\n"
     ]
    }
   ],
   "source": [
    "pprint.pprint(res)"
   ]
  },
  {
   "cell_type": "markdown",
   "id": "thermal-grass",
   "metadata": {},
   "source": [
    "### Asynchronous execution, only result\n",
    "\n",
    "By setting `sync=False`, the result is awaitable:"
   ]
  },
  {
   "cell_type": "code",
   "execution_count": 10,
   "id": "narrow-washer",
   "metadata": {
    "execution": {
     "iopub.execute_input": "2023-06-29T12:42:40.086170Z",
     "iopub.status.busy": "2023-06-29T12:42:40.085814Z",
     "iopub.status.idle": "2023-06-29T12:42:40.238006Z",
     "shell.execute_reply": "2023-06-29T12:42:40.237297Z"
    }
   },
   "outputs": [
    {
     "name": "stdout",
     "output_type": "stream",
     "text": [
      "Do something else while UDFs are running in the background\n",
      "Finished\n"
     ]
    }
   ],
   "source": [
    "async_res = ctx.run_udf(dataset=ds, udf=udfs, sync=False)\n",
    "print(\"Do something else while UDFs are running in the background\")\n",
    "res = await async_res\n",
    "print(\"Finished\")"
   ]
  },
  {
   "cell_type": "code",
   "execution_count": 11,
   "id": "adolescent-chicago",
   "metadata": {
    "execution": {
     "iopub.execute_input": "2023-06-29T12:42:40.239820Z",
     "iopub.status.busy": "2023-06-29T12:42:40.239679Z",
     "iopub.status.idle": "2023-06-29T12:42:40.242984Z",
     "shell.execute_reply": "2023-06-29T12:42:40.242527Z"
    }
   },
   "outputs": [
    {
     "name": "stdout",
     "output_type": "stream",
     "text": [
      "({'intensity': <BufferWrapper kind=sig dtype=float32 extra_shape=()>},\n",
      " {'intensity': <BufferWrapper kind=nav dtype=float32 extra_shape=()>})\n"
     ]
    }
   ],
   "source": [
    "pprint.pprint(res)"
   ]
  },
  {
   "cell_type": "markdown",
   "id": "published-startup",
   "metadata": {},
   "source": [
    "Just like in the synchronous case, running a single UDF returns the UDF result directly, not a tuple:"
   ]
  },
  {
   "cell_type": "code",
   "execution_count": 12,
   "id": "considerable-tower",
   "metadata": {
    "execution": {
     "iopub.execute_input": "2023-06-29T12:42:40.244714Z",
     "iopub.status.busy": "2023-06-29T12:42:40.244356Z",
     "iopub.status.idle": "2023-06-29T12:42:40.372450Z",
     "shell.execute_reply": "2023-06-29T12:42:40.371748Z"
    }
   },
   "outputs": [
    {
     "name": "stdout",
     "output_type": "stream",
     "text": [
      "Do something else while UDF is running in the background\n",
      "Finished\n"
     ]
    }
   ],
   "source": [
    "async_res = ctx.run_udf(dataset=ds, udf=udfs[0], sync=False)\n",
    "print(\"Do something else while UDF is running in the background\")\n",
    "res = await async_res\n",
    "print(\"Finished\")"
   ]
  },
  {
   "cell_type": "code",
   "execution_count": 13,
   "id": "loose-pride",
   "metadata": {
    "execution": {
     "iopub.execute_input": "2023-06-29T12:42:40.374351Z",
     "iopub.status.busy": "2023-06-29T12:42:40.374209Z",
     "iopub.status.idle": "2023-06-29T12:42:40.377148Z",
     "shell.execute_reply": "2023-06-29T12:42:40.376690Z"
    }
   },
   "outputs": [
    {
     "name": "stdout",
     "output_type": "stream",
     "text": [
      "{'intensity': <BufferWrapper kind=sig dtype=float32 extra_shape=()>}\n"
     ]
    }
   ],
   "source": [
    "pprint.pprint(res)"
   ]
  },
  {
   "cell_type": "markdown",
   "id": "amateur-doubt",
   "metadata": {},
   "source": [
    "### Synchronous execution as an iterator\n",
    "\n",
    "This returns `UDFResults` objects with attributes `buffers` and `damage`. `buffers` is a tuple with the results per UDF, and `damage` is a `BufferWrapper` with `kind='nav'` and `dtype=bool` that indicates which parts of the navigation space have been merged already."
   ]
  },
  {
   "cell_type": "code",
   "execution_count": 14,
   "id": "compatible-bottle",
   "metadata": {
    "execution": {
     "iopub.execute_input": "2023-06-29T12:42:40.378986Z",
     "iopub.status.busy": "2023-06-29T12:42:40.378598Z",
     "iopub.status.idle": "2023-06-29T12:42:40.518014Z",
     "shell.execute_reply": "2023-06-29T12:42:40.517376Z"
    },
    "scrolled": false
   },
   "outputs": [
    {
     "name": "stdout",
     "output_type": "stream",
     "text": [
      "683 nav positions processed\n",
      "({'intensity': <BufferWrapper kind=sig dtype=float32 extra_shape=()>},\n",
      " {'intensity': <BufferWrapper kind=nav dtype=float32 extra_shape=()>})\n",
      "1366 nav positions processed\n",
      "({'intensity': <BufferWrapper kind=sig dtype=float32 extra_shape=()>},\n",
      " {'intensity': <BufferWrapper kind=nav dtype=float32 extra_shape=()>})\n",
      "2049 nav positions processed\n",
      "({'intensity': <BufferWrapper kind=sig dtype=float32 extra_shape=()>},\n",
      " {'intensity': <BufferWrapper kind=nav dtype=float32 extra_shape=()>})\n",
      "2732 nav positions processed\n",
      "({'intensity': <BufferWrapper kind=sig dtype=float32 extra_shape=()>},\n",
      " {'intensity': <BufferWrapper kind=nav dtype=float32 extra_shape=()>})\n",
      "3414 nav positions processed\n",
      "({'intensity': <BufferWrapper kind=sig dtype=float32 extra_shape=()>},\n",
      " {'intensity': <BufferWrapper kind=nav dtype=float32 extra_shape=()>})\n",
      "4097 nav positions processed\n",
      "({'intensity': <BufferWrapper kind=sig dtype=float32 extra_shape=()>},\n",
      " {'intensity': <BufferWrapper kind=nav dtype=float32 extra_shape=()>})\n",
      "4780 nav positions processed\n",
      "({'intensity': <BufferWrapper kind=sig dtype=float32 extra_shape=()>},\n",
      " {'intensity': <BufferWrapper kind=nav dtype=float32 extra_shape=()>})\n",
      "5463 nav positions processed\n",
      "({'intensity': <BufferWrapper kind=sig dtype=float32 extra_shape=()>},\n",
      " {'intensity': <BufferWrapper kind=nav dtype=float32 extra_shape=()>})\n",
      "6145 nav positions processed\n",
      "({'intensity': <BufferWrapper kind=sig dtype=float32 extra_shape=()>},\n",
      " {'intensity': <BufferWrapper kind=nav dtype=float32 extra_shape=()>})\n",
      "6828 nav positions processed\n",
      "({'intensity': <BufferWrapper kind=sig dtype=float32 extra_shape=()>},\n",
      " {'intensity': <BufferWrapper kind=nav dtype=float32 extra_shape=()>})\n",
      "7510 nav positions processed\n",
      "({'intensity': <BufferWrapper kind=sig dtype=float32 extra_shape=()>},\n",
      " {'intensity': <BufferWrapper kind=nav dtype=float32 extra_shape=()>})\n",
      "8193 nav positions processed\n",
      "({'intensity': <BufferWrapper kind=sig dtype=float32 extra_shape=()>},\n",
      " {'intensity': <BufferWrapper kind=nav dtype=float32 extra_shape=()>})\n",
      "8876 nav positions processed\n",
      "({'intensity': <BufferWrapper kind=sig dtype=float32 extra_shape=()>},\n",
      " {'intensity': <BufferWrapper kind=nav dtype=float32 extra_shape=()>})\n",
      "9559 nav positions processed\n",
      "({'intensity': <BufferWrapper kind=sig dtype=float32 extra_shape=()>},\n",
      " {'intensity': <BufferWrapper kind=nav dtype=float32 extra_shape=()>})\n",
      "10242 nav positions processed\n",
      "({'intensity': <BufferWrapper kind=sig dtype=float32 extra_shape=()>},\n",
      " {'intensity': <BufferWrapper kind=nav dtype=float32 extra_shape=()>})\n",
      "10924 nav positions processed\n",
      "({'intensity': <BufferWrapper kind=sig dtype=float32 extra_shape=()>},\n",
      " {'intensity': <BufferWrapper kind=nav dtype=float32 extra_shape=()>})\n",
      "11606 nav positions processed\n",
      "({'intensity': <BufferWrapper kind=sig dtype=float32 extra_shape=()>},\n",
      " {'intensity': <BufferWrapper kind=nav dtype=float32 extra_shape=()>})\n",
      "12289 nav positions processed\n",
      "({'intensity': <BufferWrapper kind=sig dtype=float32 extra_shape=()>},\n",
      " {'intensity': <BufferWrapper kind=nav dtype=float32 extra_shape=()>})\n",
      "12971 nav positions processed\n",
      "({'intensity': <BufferWrapper kind=sig dtype=float32 extra_shape=()>},\n",
      " {'intensity': <BufferWrapper kind=nav dtype=float32 extra_shape=()>})\n",
      "13654 nav positions processed\n",
      "({'intensity': <BufferWrapper kind=sig dtype=float32 extra_shape=()>},\n",
      " {'intensity': <BufferWrapper kind=nav dtype=float32 extra_shape=()>})\n",
      "14337 nav positions processed\n",
      "({'intensity': <BufferWrapper kind=sig dtype=float32 extra_shape=()>},\n",
      " {'intensity': <BufferWrapper kind=nav dtype=float32 extra_shape=()>})\n",
      "15019 nav positions processed\n",
      "({'intensity': <BufferWrapper kind=sig dtype=float32 extra_shape=()>},\n",
      " {'intensity': <BufferWrapper kind=nav dtype=float32 extra_shape=()>})\n",
      "15701 nav positions processed\n",
      "({'intensity': <BufferWrapper kind=sig dtype=float32 extra_shape=()>},\n",
      " {'intensity': <BufferWrapper kind=nav dtype=float32 extra_shape=()>})\n",
      "16384 nav positions processed\n",
      "({'intensity': <BufferWrapper kind=sig dtype=float32 extra_shape=()>},\n",
      " {'intensity': <BufferWrapper kind=nav dtype=float32 extra_shape=()>})\n"
     ]
    }
   ],
   "source": [
    "# NBVAL_IGNORE_OUTPUT\n",
    "# (output is ignored in nbval run because the number of nav positions can be different)\n",
    "for res in ctx.run_udf_iter(dataset=ds, udf=udfs):\n",
    "    print(np.count_nonzero(res.damage.data), \"nav positions processed\")\n",
    "    pprint.pprint(res.buffers)"
   ]
  },
  {
   "cell_type": "markdown",
   "id": "leading-smooth",
   "metadata": {},
   "source": [
    "### Asynchronous execution as an iterator\n",
    "\n",
    "This allows several iterators to proceed asynchronously in parallel. This approach is used in the backend for the web GUI of LiberTEM to run several analyses concurrently. It could also be useful to implement live feedback to instrument control from UDF results if the control solution works asynchronously.\n",
    "\n",
    "Note that the UDFs are copied here so that different instances are executed in parallel. Executing the same UDF instances concurrently can lead to undefined behavior."
   ]
  },
  {
   "cell_type": "code",
   "execution_count": 15,
   "id": "inner-ceiling",
   "metadata": {
    "execution": {
     "iopub.execute_input": "2023-06-29T12:42:40.520217Z",
     "iopub.status.busy": "2023-06-29T12:42:40.519750Z",
     "iopub.status.idle": "2023-06-29T12:42:40.777970Z",
     "shell.execute_reply": "2023-06-29T12:42:40.777542Z"
    }
   },
   "outputs": [
    {
     "name": "stdout",
     "output_type": "stream",
     "text": [
      "Do something else while UDFs are running in the background\n",
      "one 683 nav positions processed\n",
      "('one',\n",
      " ({'intensity': <BufferWrapper kind=sig dtype=float32 extra_shape=()>},\n",
      "  {'intensity': <BufferWrapper kind=nav dtype=float32 extra_shape=()>}))\n",
      "one 1365 nav positions processed\n",
      "('one',\n",
      " ({'intensity': <BufferWrapper kind=sig dtype=float32 extra_shape=()>},\n",
      "  {'intensity': <BufferWrapper kind=nav dtype=float32 extra_shape=()>}))\n",
      "one 2047 nav positions processed\n",
      "('one',\n",
      " ({'intensity': <BufferWrapper kind=sig dtype=float32 extra_shape=()>},\n",
      "  {'intensity': <BufferWrapper kind=nav dtype=float32 extra_shape=()>}))\n",
      "one 2730 nav positions processed\n",
      "('one',\n",
      " ({'intensity': <BufferWrapper kind=sig dtype=float32 extra_shape=()>},\n",
      "  {'intensity': <BufferWrapper kind=nav dtype=float32 extra_shape=()>}))\n",
      "one 3413 nav positions processed\n",
      "('one',\n",
      " ({'intensity': <BufferWrapper kind=sig dtype=float32 extra_shape=()>},\n",
      "  {'intensity': <BufferWrapper kind=nav dtype=float32 extra_shape=()>}))\n",
      "one 4096 nav positions processed\n",
      "('one',\n",
      " ({'intensity': <BufferWrapper kind=sig dtype=float32 extra_shape=()>},\n",
      "  {'intensity': <BufferWrapper kind=nav dtype=float32 extra_shape=()>}))\n",
      "one 4779 nav positions processed\n",
      "('one',\n",
      " ({'intensity': <BufferWrapper kind=sig dtype=float32 extra_shape=()>},\n",
      "  {'intensity': <BufferWrapper kind=nav dtype=float32 extra_shape=()>}))\n",
      "one 5461 nav positions processed\n",
      "('one',\n",
      " ({'intensity': <BufferWrapper kind=sig dtype=float32 extra_shape=()>},\n",
      "  {'intensity': <BufferWrapper kind=nav dtype=float32 extra_shape=()>}))\n",
      "one 6144 nav positions processed\n",
      "('one',\n",
      " ({'intensity': <BufferWrapper kind=sig dtype=float32 extra_shape=()>},\n",
      "  {'intensity': <BufferWrapper kind=nav dtype=float32 extra_shape=()>}))\n",
      "one 6827 nav positions processed\n",
      "('one',\n",
      " ({'intensity': <BufferWrapper kind=sig dtype=float32 extra_shape=()>},\n",
      "  {'intensity': <BufferWrapper kind=nav dtype=float32 extra_shape=()>}))\n",
      "one 7509 nav positions processed\n",
      "('one',\n",
      " ({'intensity': <BufferWrapper kind=sig dtype=float32 extra_shape=()>},\n",
      "  {'intensity': <BufferWrapper kind=nav dtype=float32 extra_shape=()>}))\n",
      "one 8191 nav positions processed\n",
      "('one',\n",
      " ({'intensity': <BufferWrapper kind=sig dtype=float32 extra_shape=()>},\n",
      "  {'intensity': <BufferWrapper kind=nav dtype=float32 extra_shape=()>}))\n",
      "one 8874 nav positions processed\n",
      "('one',\n",
      " ({'intensity': <BufferWrapper kind=sig dtype=float32 extra_shape=()>},\n",
      "  {'intensity': <BufferWrapper kind=nav dtype=float32 extra_shape=()>}))\n",
      "one 9557 nav positions processed\n",
      "('one',\n",
      " ({'intensity': <BufferWrapper kind=sig dtype=float32 extra_shape=()>},\n",
      "  {'intensity': <BufferWrapper kind=nav dtype=float32 extra_shape=()>}))\n",
      "one 10240 nav positions processed\n",
      "('one',\n",
      " ({'intensity': <BufferWrapper kind=sig dtype=float32 extra_shape=()>},\n",
      "  {'intensity': <BufferWrapper kind=nav dtype=float32 extra_shape=()>}))\n",
      "one 10923 nav positions processed\n",
      "('one',\n",
      " ({'intensity': <BufferWrapper kind=sig dtype=float32 extra_shape=()>},\n",
      "  {'intensity': <BufferWrapper kind=nav dtype=float32 extra_shape=()>}))\n",
      "one 11605 nav positions processed\n",
      "('one',\n",
      " ({'intensity': <BufferWrapper kind=sig dtype=float32 extra_shape=()>},\n",
      "  {'intensity': <BufferWrapper kind=nav dtype=float32 extra_shape=()>}))\n",
      "one 12288 nav positions processed\n",
      "('one',\n",
      " ({'intensity': <BufferWrapper kind=sig dtype=float32 extra_shape=()>},\n",
      "  {'intensity': <BufferWrapper kind=nav dtype=float32 extra_shape=()>}))\n",
      "one 12970 nav positions processed\n",
      "('one',\n",
      " ({'intensity': <BufferWrapper kind=sig dtype=float32 extra_shape=()>},\n",
      "  {'intensity': <BufferWrapper kind=nav dtype=float32 extra_shape=()>}))\n",
      "one 13653 nav positions processed\n",
      "('one',\n",
      " ({'intensity': <BufferWrapper kind=sig dtype=float32 extra_shape=()>},\n",
      "  {'intensity': <BufferWrapper kind=nav dtype=float32 extra_shape=()>}))\n",
      "one 14336 nav positions processed\n",
      "('one',\n",
      " ({'intensity': <BufferWrapper kind=sig dtype=float32 extra_shape=()>},\n",
      "  {'intensity': <BufferWrapper kind=nav dtype=float32 extra_shape=()>}))\n",
      "one 15019 nav positions processed\n",
      "('one',\n",
      " ({'intensity': <BufferWrapper kind=sig dtype=float32 extra_shape=()>},\n",
      "  {'intensity': <BufferWrapper kind=nav dtype=float32 extra_shape=()>}))\n",
      "one 15701 nav positions processed\n",
      "('one',\n",
      " ({'intensity': <BufferWrapper kind=sig dtype=float32 extra_shape=()>},\n",
      "  {'intensity': <BufferWrapper kind=nav dtype=float32 extra_shape=()>}))\n",
      "one 16384 nav positions processed\n",
      "('one',\n",
      " ({'intensity': <BufferWrapper kind=sig dtype=float32 extra_shape=()>},\n",
      "  {'intensity': <BufferWrapper kind=nav dtype=float32 extra_shape=()>}))\n",
      "two 683 nav positions processed\n",
      "('two',\n",
      " ({'intensity': <BufferWrapper kind=sig dtype=float32 extra_shape=()>},\n",
      "  {'intensity': <BufferWrapper kind=nav dtype=float32 extra_shape=()>}))\n",
      "two 1366 nav positions processed\n",
      "('two',\n",
      " ({'intensity': <BufferWrapper kind=sig dtype=float32 extra_shape=()>},\n",
      "  {'intensity': <BufferWrapper kind=nav dtype=float32 extra_shape=()>}))\n",
      "two 2048 nav positions processed\n",
      "('two',\n",
      " ({'intensity': <BufferWrapper kind=sig dtype=float32 extra_shape=()>},\n",
      "  {'intensity': <BufferWrapper kind=nav dtype=float32 extra_shape=()>}))\n",
      "two 2730 nav positions processed\n",
      "('two',\n",
      " ({'intensity': <BufferWrapper kind=sig dtype=float32 extra_shape=()>},\n",
      "  {'intensity': <BufferWrapper kind=nav dtype=float32 extra_shape=()>}))\n",
      "two 3413 nav positions processed\n",
      "('two',\n",
      " ({'intensity': <BufferWrapper kind=sig dtype=float32 extra_shape=()>},\n",
      "  {'intensity': <BufferWrapper kind=nav dtype=float32 extra_shape=()>}))\n",
      "two 4096 nav positions processed\n",
      "('two',\n",
      " ({'intensity': <BufferWrapper kind=sig dtype=float32 extra_shape=()>},\n",
      "  {'intensity': <BufferWrapper kind=nav dtype=float32 extra_shape=()>}))\n",
      "two 4779 nav positions processed\n",
      "('two',\n",
      " ({'intensity': <BufferWrapper kind=sig dtype=float32 extra_shape=()>},\n",
      "  {'intensity': <BufferWrapper kind=nav dtype=float32 extra_shape=()>}))\n",
      "two 5462 nav positions processed\n",
      "('two',\n",
      " ({'intensity': <BufferWrapper kind=sig dtype=float32 extra_shape=()>},\n",
      "  {'intensity': <BufferWrapper kind=nav dtype=float32 extra_shape=()>}))\n",
      "two 6145 nav positions processed\n",
      "('two',\n",
      " ({'intensity': <BufferWrapper kind=sig dtype=float32 extra_shape=()>},\n",
      "  {'intensity': <BufferWrapper kind=nav dtype=float32 extra_shape=()>}))\n",
      "two 6828 nav positions processed\n",
      "('two',\n",
      " ({'intensity': <BufferWrapper kind=sig dtype=float32 extra_shape=()>},\n",
      "  {'intensity': <BufferWrapper kind=nav dtype=float32 extra_shape=()>}))\n",
      "two 7510 nav positions processed\n",
      "('two',\n",
      " ({'intensity': <BufferWrapper kind=sig dtype=float32 extra_shape=()>},\n",
      "  {'intensity': <BufferWrapper kind=nav dtype=float32 extra_shape=()>}))\n",
      "two 8192 nav positions processed\n",
      "('two',\n",
      " ({'intensity': <BufferWrapper kind=sig dtype=float32 extra_shape=()>},\n",
      "  {'intensity': <BufferWrapper kind=nav dtype=float32 extra_shape=()>}))\n",
      "two 8875 nav positions processed\n",
      "('two',\n",
      " ({'intensity': <BufferWrapper kind=sig dtype=float32 extra_shape=()>},\n",
      "  {'intensity': <BufferWrapper kind=nav dtype=float32 extra_shape=()>}))\n",
      "two 9558 nav positions processed\n",
      "('two',\n",
      " ({'intensity': <BufferWrapper kind=sig dtype=float32 extra_shape=()>},\n",
      "  {'intensity': <BufferWrapper kind=nav dtype=float32 extra_shape=()>}))\n",
      "two 10240 nav positions processed\n",
      "('two',\n",
      " ({'intensity': <BufferWrapper kind=sig dtype=float32 extra_shape=()>},\n",
      "  {'intensity': <BufferWrapper kind=nav dtype=float32 extra_shape=()>}))\n",
      "two 10922 nav positions processed\n",
      "('two',\n",
      " ({'intensity': <BufferWrapper kind=sig dtype=float32 extra_shape=()>},\n",
      "  {'intensity': <BufferWrapper kind=nav dtype=float32 extra_shape=()>}))\n",
      "two 11605 nav positions processed\n",
      "('two',\n",
      " ({'intensity': <BufferWrapper kind=sig dtype=float32 extra_shape=()>},\n",
      "  {'intensity': <BufferWrapper kind=nav dtype=float32 extra_shape=()>}))\n",
      "two 12288 nav positions processed\n",
      "('two',\n",
      " ({'intensity': <BufferWrapper kind=sig dtype=float32 extra_shape=()>},\n",
      "  {'intensity': <BufferWrapper kind=nav dtype=float32 extra_shape=()>}))\n",
      "two 12971 nav positions processed\n",
      "('two',\n",
      " ({'intensity': <BufferWrapper kind=sig dtype=float32 extra_shape=()>},\n",
      "  {'intensity': <BufferWrapper kind=nav dtype=float32 extra_shape=()>}))\n",
      "two 13653 nav positions processed\n",
      "('two',\n",
      " ({'intensity': <BufferWrapper kind=sig dtype=float32 extra_shape=()>},\n",
      "  {'intensity': <BufferWrapper kind=nav dtype=float32 extra_shape=()>}))\n",
      "two 14336 nav positions processed\n",
      "('two',\n",
      " ({'intensity': <BufferWrapper kind=sig dtype=float32 extra_shape=()>},\n",
      "  {'intensity': <BufferWrapper kind=nav dtype=float32 extra_shape=()>}))\n",
      "two 15018 nav positions processed\n",
      "('two',\n",
      " ({'intensity': <BufferWrapper kind=sig dtype=float32 extra_shape=()>},\n",
      "  {'intensity': <BufferWrapper kind=nav dtype=float32 extra_shape=()>}))\n",
      "two 15701 nav positions processed\n",
      "('two',\n",
      " ({'intensity': <BufferWrapper kind=sig dtype=float32 extra_shape=()>},\n",
      "  {'intensity': <BufferWrapper kind=nav dtype=float32 extra_shape=()>}))\n",
      "two 16384 nav positions processed\n",
      "('two',\n",
      " ({'intensity': <BufferWrapper kind=sig dtype=float32 extra_shape=()>},\n",
      "  {'intensity': <BufferWrapper kind=nav dtype=float32 extra_shape=()>}))\n"
     ]
    },
    {
     "data": {
      "text/plain": [
       "[<libertem.udf.base.UDFResults at 0x7ff489e8af20>,\n",
       " <libertem.udf.base.UDFResults at 0x7ff48a0b2230>]"
      ]
     },
     "execution_count": 15,
     "metadata": {},
     "output_type": "execute_result"
    }
   ],
   "source": [
    "# NBVAL_IGNORE_OUTPUT\n",
    "# (output is ignored in nbval run because the number of nav positions can be different)\n",
    "async def doit(label, udfs):\n",
    "    async for res in ctx.run_udf_iter(dataset=ds, udf=udfs, sync=False):\n",
    "        print(label, np.count_nonzero(res.damage.data), \"nav positions processed\")\n",
    "        pprint.pprint((label, res.buffers))\n",
    "    return res\n",
    "        \n",
    "p1 = doit(\"one\", copy.deepcopy(udfs))\n",
    "p2 = doit(\"two\", copy.deepcopy(udfs))\n",
    "print(\"Do something else while UDFs are running in the background\")\n",
    "await asyncio.gather(p1, p2)"
   ]
  },
  {
   "cell_type": "code",
   "execution_count": null,
   "id": "realistic-helicopter",
   "metadata": {},
   "outputs": [],
   "source": []
  }
 ],
 "metadata": {
  "kernelspec": {
   "display_name": "Python (libertem39)",
   "language": "python",
   "name": "libertem39"
  },
  "language_info": {
   "codemirror_mode": {
    "name": "ipython",
    "version": 3
   },
   "file_extension": ".py",
   "mimetype": "text/x-python",
   "name": "python",
   "nbconvert_exporter": "python",
   "pygments_lexer": "ipython3",
   "version": "3.10.8"
  }
 },
 "nbformat": 4,
 "nbformat_minor": 5
}
