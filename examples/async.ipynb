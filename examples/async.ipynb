{
 "cells": [
  {
   "cell_type": "markdown",
   "id": "informed-dragon",
   "metadata": {},
   "source": [
    "## Synchronous and asynchronous UDF execution\n",
    "\n",
    "This notebook demonstrates the following features that were introduced in release 0.7.0:\n",
    "\n",
    "* Execute several UDFs in one pass\n",
    "* Obtain intermediate results from each merge step by executing UDFs as an iterator\n",
    "* Execute UDFs asynchronously\n",
    "\n",
    "Please see example live-plotting.ipynb for the related live plotting feature!"
   ]
  },
  {
   "cell_type": "code",
   "execution_count": 1,
   "id": "virgin-duplicate",
   "metadata": {},
   "outputs": [],
   "source": [
    "import pprint\n",
    "import asyncio\n",
    "import copy\n",
    "\n",
    "import numpy as np\n",
    "\n",
    "import libertem.api as lt\n",
    "from libertem.udf.sum import SumUDF\n",
    "from libertem.udf.sumsigudf import SumSigUDF"
   ]
  },
  {
   "cell_type": "code",
   "execution_count": 2,
   "id": "painful-nirvana",
   "metadata": {},
   "outputs": [],
   "source": [
    "ctx = lt.Context()"
   ]
  },
  {
   "cell_type": "code",
   "execution_count": 3,
   "id": "hired-recipe",
   "metadata": {},
   "outputs": [],
   "source": [
    "ds = ctx.load(\"auto\", path=\"E:/LargeData/LargeData/ER-C-1/projects/ptycho-4.0/data/live-ssb-paper/Ptycho01/20200518 165148/default.hdr\")"
   ]
  },
  {
   "cell_type": "code",
   "execution_count": 4,
   "id": "attached-island",
   "metadata": {},
   "outputs": [],
   "source": [
    "udfs = [SumUDF(), SumSigUDF()]"
   ]
  },
  {
   "cell_type": "markdown",
   "id": "extensive-relay",
   "metadata": {},
   "source": [
    "### Synchronous execution, only result\n",
    "\n",
    "Note that both UDFs are executed in a single pass!"
   ]
  },
  {
   "cell_type": "code",
   "execution_count": 5,
   "id": "italic-shipping",
   "metadata": {},
   "outputs": [],
   "source": [
    "res = ctx.run_udf(dataset=ds, udf=udfs)"
   ]
  },
  {
   "cell_type": "markdown",
   "id": "electrical-rubber",
   "metadata": {},
   "source": [
    "The result is a tuple with one entry per UDF:"
   ]
  },
  {
   "cell_type": "code",
   "execution_count": 6,
   "id": "parental-craps",
   "metadata": {},
   "outputs": [
    {
     "name": "stdout",
     "output_type": "stream",
     "text": [
      "({'intensity': <BufferWrapper kind=sig dtype=float32 extra_shape=()>},\n",
      " {'intensity': <BufferWrapper kind=nav dtype=float32 extra_shape=()>})\n"
     ]
    }
   ],
   "source": [
    "pprint.pprint(res)"
   ]
  },
  {
   "cell_type": "markdown",
   "id": "valued-mason",
   "metadata": {},
   "source": [
    "The previous API when passing a single UDF is not changed, i.e. it doesn't return a tuple but a single UDF result"
   ]
  },
  {
   "cell_type": "code",
   "execution_count": 7,
   "id": "shared-accused",
   "metadata": {},
   "outputs": [],
   "source": [
    "res = ctx.run_udf(dataset=ds, udf=udfs[0])"
   ]
  },
  {
   "cell_type": "code",
   "execution_count": 8,
   "id": "frozen-incident",
   "metadata": {},
   "outputs": [
    {
     "name": "stdout",
     "output_type": "stream",
     "text": [
      "{'intensity': <BufferWrapper kind=sig dtype=float32 extra_shape=()>}\n"
     ]
    }
   ],
   "source": [
    "pprint.pprint(res)"
   ]
  },
  {
   "cell_type": "markdown",
   "id": "thermal-grass",
   "metadata": {},
   "source": [
    "### Asynchronous execution, only result\n",
    "\n",
    "By setting `sync=False`, the result is awaitable:"
   ]
  },
  {
   "cell_type": "code",
   "execution_count": 9,
   "id": "narrow-washer",
   "metadata": {},
   "outputs": [
    {
     "name": "stdout",
     "output_type": "stream",
     "text": [
      "Do something else while UDFs are running in the background\n",
      "Finished\n"
     ]
    }
   ],
   "source": [
    "async_res = ctx.run_udf(dataset=ds, udf=udfs, sync=False)\n",
    "print(\"Do something else while UDFs are running in the background\")\n",
    "res = await async_res\n",
    "print(\"Finished\")"
   ]
  },
  {
   "cell_type": "code",
   "execution_count": 10,
   "id": "adolescent-chicago",
   "metadata": {},
   "outputs": [
    {
     "name": "stdout",
     "output_type": "stream",
     "text": [
      "({'intensity': <BufferWrapper kind=sig dtype=float32 extra_shape=()>},\n",
      " {'intensity': <BufferWrapper kind=nav dtype=float32 extra_shape=()>})\n"
     ]
    }
   ],
   "source": [
    "pprint.pprint(res)"
   ]
  },
  {
   "cell_type": "markdown",
   "id": "published-startup",
   "metadata": {},
   "source": [
    "Just like in the synchronous case, running a single UDF returns the UDF result directly, not a tuple:"
   ]
  },
  {
   "cell_type": "code",
   "execution_count": 11,
   "id": "considerable-tower",
   "metadata": {},
   "outputs": [
    {
     "name": "stdout",
     "output_type": "stream",
     "text": [
      "Do something else while UDF is running in the background\n",
      "Finished\n"
     ]
    }
   ],
   "source": [
    "async_res = ctx.run_udf(dataset=ds, udf=udfs[0], sync=False)\n",
    "print(\"Do something else while UDF is running in the background\")\n",
    "res = await async_res\n",
    "print(\"Finished\")"
   ]
  },
  {
   "cell_type": "code",
   "execution_count": 12,
   "id": "loose-pride",
   "metadata": {},
   "outputs": [
    {
     "name": "stdout",
     "output_type": "stream",
     "text": [
      "{'intensity': <BufferWrapper kind=sig dtype=float32 extra_shape=()>}\n"
     ]
    }
   ],
   "source": [
    "pprint.pprint(res)"
   ]
  },
  {
   "cell_type": "markdown",
   "id": "amateur-doubt",
   "metadata": {},
   "source": [
    "### Synchronous execution as an iterator\n",
    "\n",
    "This returns `UDFResults` objects with attributes `buffers` and `damage`. `buffers` is a tuple with the results per UDF, and `damage` is a `BufferWrapper` with `kind='nav'` and `dtype=bool` that indicates which parts of the navigation space have been merged already."
   ]
  },
  {
   "cell_type": "code",
   "execution_count": 13,
   "id": "compatible-bottle",
   "metadata": {
    "scrolled": false
   },
   "outputs": [
    {
     "name": "stdout",
     "output_type": "stream",
     "text": [
      "2048 nav positions processed\n",
      "({'intensity': <BufferWrapper kind=sig dtype=float32 extra_shape=()>},\n",
      " {'intensity': <BufferWrapper kind=nav dtype=float32 extra_shape=()>})\n",
      "4096 nav positions processed\n",
      "({'intensity': <BufferWrapper kind=sig dtype=float32 extra_shape=()>},\n",
      " {'intensity': <BufferWrapper kind=nav dtype=float32 extra_shape=()>})\n",
      "6144 nav positions processed\n",
      "({'intensity': <BufferWrapper kind=sig dtype=float32 extra_shape=()>},\n",
      " {'intensity': <BufferWrapper kind=nav dtype=float32 extra_shape=()>})\n",
      "8192 nav positions processed\n",
      "({'intensity': <BufferWrapper kind=sig dtype=float32 extra_shape=()>},\n",
      " {'intensity': <BufferWrapper kind=nav dtype=float32 extra_shape=()>})\n",
      "10240 nav positions processed\n",
      "({'intensity': <BufferWrapper kind=sig dtype=float32 extra_shape=()>},\n",
      " {'intensity': <BufferWrapper kind=nav dtype=float32 extra_shape=()>})\n",
      "12288 nav positions processed\n",
      "({'intensity': <BufferWrapper kind=sig dtype=float32 extra_shape=()>},\n",
      " {'intensity': <BufferWrapper kind=nav dtype=float32 extra_shape=()>})\n",
      "14336 nav positions processed\n",
      "({'intensity': <BufferWrapper kind=sig dtype=float32 extra_shape=()>},\n",
      " {'intensity': <BufferWrapper kind=nav dtype=float32 extra_shape=()>})\n",
      "16384 nav positions processed\n",
      "({'intensity': <BufferWrapper kind=sig dtype=float32 extra_shape=()>},\n",
      " {'intensity': <BufferWrapper kind=nav dtype=float32 extra_shape=()>})\n"
     ]
    }
   ],
   "source": [
    "for res in ctx.run_udf_iter(dataset=ds, udf=udfs):\n",
    "    print(np.count_nonzero(res.damage.data), \"nav positions processed\")\n",
    "    pprint.pprint(res.buffers)"
   ]
  },
  {
   "cell_type": "markdown",
   "id": "leading-smooth",
   "metadata": {},
   "source": [
    "### Asynchronous execution as an iterator\n",
    "\n",
    "This allows several iterators to proceed asynchronously in parallel. This approach is used in the backend for the web GUI of LiberTEM to run several analyses concurrently. It could also be useful to implement live feedback to instrument control from UDF results if the control solution works asynchronously.\n",
    "\n",
    "Note that the UDFs are copied here so that different instances are executed in parallel. Executing the same UDF instances concurrently can lead to undefined behavior."
   ]
  },
  {
   "cell_type": "code",
   "execution_count": 14,
   "id": "inner-ceiling",
   "metadata": {},
   "outputs": [
    {
     "name": "stdout",
     "output_type": "stream",
     "text": [
      "Do something else while UDFs are running in the background\n",
      "one 2048 nav positions processed\n",
      "('one',\n",
      " ({'intensity': <BufferWrapper kind=sig dtype=float32 extra_shape=()>},\n",
      "  {'intensity': <BufferWrapper kind=nav dtype=float32 extra_shape=()>}))\n",
      "two 2048 nav positions processed\n",
      "('two',\n",
      " ({'intensity': <BufferWrapper kind=sig dtype=float32 extra_shape=()>},\n",
      "  {'intensity': <BufferWrapper kind=nav dtype=float32 extra_shape=()>}))\n",
      "one 4096 nav positions processed\n",
      "('one',\n",
      " ({'intensity': <BufferWrapper kind=sig dtype=float32 extra_shape=()>},\n",
      "  {'intensity': <BufferWrapper kind=nav dtype=float32 extra_shape=()>}))\n",
      "two 4096 nav positions processed\n",
      "('two',\n",
      " ({'intensity': <BufferWrapper kind=sig dtype=float32 extra_shape=()>},\n",
      "  {'intensity': <BufferWrapper kind=nav dtype=float32 extra_shape=()>}))\n",
      "two 6144 nav positions processed\n",
      "('two',\n",
      " ({'intensity': <BufferWrapper kind=sig dtype=float32 extra_shape=()>},\n",
      "  {'intensity': <BufferWrapper kind=nav dtype=float32 extra_shape=()>}))\n",
      "two 8192 nav positions processed\n",
      "('two',\n",
      " ({'intensity': <BufferWrapper kind=sig dtype=float32 extra_shape=()>},\n",
      "  {'intensity': <BufferWrapper kind=nav dtype=float32 extra_shape=()>}))\n",
      "one 6144 nav positions processed\n",
      "('one',\n",
      " ({'intensity': <BufferWrapper kind=sig dtype=float32 extra_shape=()>},\n",
      "  {'intensity': <BufferWrapper kind=nav dtype=float32 extra_shape=()>}))\n",
      "one 8192 nav positions processed\n",
      "('one',\n",
      " ({'intensity': <BufferWrapper kind=sig dtype=float32 extra_shape=()>},\n",
      "  {'intensity': <BufferWrapper kind=nav dtype=float32 extra_shape=()>}))\n",
      "two 10240 nav positions processed\n",
      "('two',\n",
      " ({'intensity': <BufferWrapper kind=sig dtype=float32 extra_shape=()>},\n",
      "  {'intensity': <BufferWrapper kind=nav dtype=float32 extra_shape=()>}))\n",
      "two 12288 nav positions processed\n",
      "('two',\n",
      " ({'intensity': <BufferWrapper kind=sig dtype=float32 extra_shape=()>},\n",
      "  {'intensity': <BufferWrapper kind=nav dtype=float32 extra_shape=()>}))\n",
      "one 10240 nav positions processed\n",
      "('one',\n",
      " ({'intensity': <BufferWrapper kind=sig dtype=float32 extra_shape=()>},\n",
      "  {'intensity': <BufferWrapper kind=nav dtype=float32 extra_shape=()>}))\n",
      "one 12288 nav positions processed\n",
      "('one',\n",
      " ({'intensity': <BufferWrapper kind=sig dtype=float32 extra_shape=()>},\n",
      "  {'intensity': <BufferWrapper kind=nav dtype=float32 extra_shape=()>}))\n",
      "two 14336 nav positions processed\n",
      "('two',\n",
      " ({'intensity': <BufferWrapper kind=sig dtype=float32 extra_shape=()>},\n",
      "  {'intensity': <BufferWrapper kind=nav dtype=float32 extra_shape=()>}))\n",
      "one 14336 nav positions processed\n",
      "('one',\n",
      " ({'intensity': <BufferWrapper kind=sig dtype=float32 extra_shape=()>},\n",
      "  {'intensity': <BufferWrapper kind=nav dtype=float32 extra_shape=()>}))\n",
      "one 16384 nav positions processed\n",
      "('one',\n",
      " ({'intensity': <BufferWrapper kind=sig dtype=float32 extra_shape=()>},\n",
      "  {'intensity': <BufferWrapper kind=nav dtype=float32 extra_shape=()>}))\n",
      "two 16384 nav positions processed\n",
      "('two',\n",
      " ({'intensity': <BufferWrapper kind=sig dtype=float32 extra_shape=()>},\n",
      "  {'intensity': <BufferWrapper kind=nav dtype=float32 extra_shape=()>}))\n"
     ]
    },
    {
     "data": {
      "text/plain": [
       "[<libertem.udf.base.UDFResults at 0x1a151cf2e50>,\n",
       " <libertem.udf.base.UDFResults at 0x1a151d44130>]"
      ]
     },
     "execution_count": 14,
     "metadata": {},
     "output_type": "execute_result"
    }
   ],
   "source": [
    "async def doit(label, udfs):\n",
    "    async for res in ctx.run_udf_iter(dataset=ds, udf=udfs, sync=False):\n",
    "        print(label, np.count_nonzero(res.damage.data), \"nav positions processed\")\n",
    "        pprint.pprint((label, res.buffers))\n",
    "    return res\n",
    "        \n",
    "p1 = doit(\"one\", copy.deepcopy(udfs))\n",
    "p2 = doit(\"two\", copy.deepcopy(udfs))\n",
    "print(\"Do something else while UDFs are running in the background\")\n",
    "await asyncio.gather(p1, p2)"
   ]
  },
  {
   "cell_type": "code",
   "execution_count": null,
   "id": "meaningful-lewis",
   "metadata": {},
   "outputs": [],
   "source": []
  }
 ],
 "metadata": {
  "kernelspec": {
   "display_name": "Python 3",
   "language": "python",
   "name": "python3"
  },
  "language_info": {
   "codemirror_mode": {
    "name": "ipython",
    "version": 3
   },
   "file_extension": ".py",
   "mimetype": "text/x-python",
   "name": "python",
   "nbconvert_exporter": "python",
   "pygments_lexer": "ipython3",
   "version": "3.8.5"
  }
 },
 "nbformat": 4,
 "nbformat_minor": 5
}
