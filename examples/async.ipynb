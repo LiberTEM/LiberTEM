{
 "cells": [
  {
   "cell_type": "markdown",
   "id": "informed-dragon",
   "metadata": {},
   "source": [
    "## Synchronous and asynchronous UDF execution\n",
    "\n",
    "This notebook demonstrates the following features that were introduced in release 0.7.0:\n",
    "\n",
    "* Execute several UDFs in one pass\n",
    "* Obtain intermediate results from each merge step by executing UDFs as an iterator\n",
    "* Execute UDFs asynchronously\n",
    "\n",
    "Please see example live-plotting.ipynb for the related live plotting feature!"
   ]
  },
  {
   "cell_type": "code",
   "execution_count": 1,
   "id": "virgin-duplicate",
   "metadata": {
    "execution": {
     "iopub.execute_input": "2022-11-03T13:22:38.582376Z",
     "iopub.status.busy": "2022-11-03T13:22:38.582216Z",
     "iopub.status.idle": "2022-11-03T13:22:39.222060Z",
     "shell.execute_reply": "2022-11-03T13:22:39.221430Z"
    }
   },
   "outputs": [],
   "source": [
    "import os\n",
    "import pprint\n",
    "import asyncio\n",
    "import copy\n",
    "\n",
    "import numpy as np\n",
    "\n",
    "import libertem.api as lt\n",
    "from libertem.udf.sum import SumUDF\n",
    "from libertem.udf.sumsigudf import SumSigUDF"
   ]
  },
  {
   "cell_type": "code",
   "execution_count": 2,
   "id": "painful-nirvana",
   "metadata": {
    "execution": {
     "iopub.execute_input": "2022-11-03T13:22:39.224799Z",
     "iopub.status.busy": "2022-11-03T13:22:39.224651Z",
     "iopub.status.idle": "2022-11-03T13:22:40.605330Z",
     "shell.execute_reply": "2022-11-03T13:22:40.604664Z"
    }
   },
   "outputs": [],
   "source": [
    "ctx = lt.Context()"
   ]
  },
  {
   "cell_type": "code",
   "execution_count": 3,
   "id": "behind-simon",
   "metadata": {
    "execution": {
     "iopub.execute_input": "2022-11-03T13:22:40.608163Z",
     "iopub.status.busy": "2022-11-03T13:22:40.607900Z",
     "iopub.status.idle": "2022-11-03T13:22:40.610686Z",
     "shell.execute_reply": "2022-11-03T13:22:40.610255Z"
    }
   },
   "outputs": [],
   "source": [
    "data_base_path = os.environ.get(\"TESTDATA_BASE_PATH\", \"/home/alex/Data/\")"
   ]
  },
  {
   "cell_type": "code",
   "execution_count": 4,
   "id": "hired-recipe",
   "metadata": {
    "execution": {
     "iopub.execute_input": "2022-11-03T13:22:40.613317Z",
     "iopub.status.busy": "2022-11-03T13:22:40.612351Z",
     "iopub.status.idle": "2022-11-03T13:22:40.942631Z",
     "shell.execute_reply": "2022-11-03T13:22:40.942033Z"
    }
   },
   "outputs": [],
   "source": [
    "ds = ctx.load(\"auto\", path=os.path.join(data_base_path, \"20200518 165148/default.hdr\"))"
   ]
  },
  {
   "cell_type": "code",
   "execution_count": 5,
   "id": "attached-island",
   "metadata": {
    "execution": {
     "iopub.execute_input": "2022-11-03T13:22:40.945460Z",
     "iopub.status.busy": "2022-11-03T13:22:40.945306Z",
     "iopub.status.idle": "2022-11-03T13:22:40.948060Z",
     "shell.execute_reply": "2022-11-03T13:22:40.947610Z"
    }
   },
   "outputs": [],
   "source": [
    "udfs = [SumUDF(), SumSigUDF()]"
   ]
  },
  {
   "cell_type": "markdown",
   "id": "extensive-relay",
   "metadata": {},
   "source": [
    "### Synchronous execution, only result\n",
    "\n",
    "Note that both UDFs are executed in a single pass!"
   ]
  },
  {
   "cell_type": "code",
   "execution_count": 6,
   "id": "italic-shipping",
   "metadata": {
    "execution": {
     "iopub.execute_input": "2022-11-03T13:22:40.949973Z",
     "iopub.status.busy": "2022-11-03T13:22:40.949835Z",
     "iopub.status.idle": "2022-11-03T13:22:47.144475Z",
     "shell.execute_reply": "2022-11-03T13:22:47.143941Z"
    }
   },
   "outputs": [],
   "source": [
    "res = ctx.run_udf(dataset=ds, udf=udfs)"
   ]
  },
  {
   "cell_type": "markdown",
   "id": "electrical-rubber",
   "metadata": {},
   "source": [
    "The result is a tuple with one entry per UDF:"
   ]
  },
  {
   "cell_type": "code",
   "execution_count": 7,
   "id": "parental-craps",
   "metadata": {
    "execution": {
     "iopub.execute_input": "2022-11-03T13:22:47.147280Z",
     "iopub.status.busy": "2022-11-03T13:22:47.147109Z",
     "iopub.status.idle": "2022-11-03T13:22:47.150202Z",
     "shell.execute_reply": "2022-11-03T13:22:47.149704Z"
    }
   },
   "outputs": [
    {
     "name": "stdout",
     "output_type": "stream",
     "text": [
      "({'intensity': <BufferWrapper kind=sig dtype=float32 extra_shape=()>},\n",
      " {'intensity': <BufferWrapper kind=nav dtype=float32 extra_shape=()>})\n"
     ]
    }
   ],
   "source": [
    "pprint.pprint(res)"
   ]
  },
  {
   "cell_type": "markdown",
   "id": "valued-mason",
   "metadata": {},
   "source": [
    "The previous API when passing a single UDF is not changed, i.e. it doesn't return a tuple but a single UDF result"
   ]
  },
  {
   "cell_type": "code",
   "execution_count": 8,
   "id": "shared-accused",
   "metadata": {
    "execution": {
     "iopub.execute_input": "2022-11-03T13:22:47.152062Z",
     "iopub.status.busy": "2022-11-03T13:22:47.151902Z",
     "iopub.status.idle": "2022-11-03T13:22:47.274116Z",
     "shell.execute_reply": "2022-11-03T13:22:47.273549Z"
    }
   },
   "outputs": [],
   "source": [
    "res = ctx.run_udf(dataset=ds, udf=udfs[0])"
   ]
  },
  {
   "cell_type": "code",
   "execution_count": 9,
   "id": "frozen-incident",
   "metadata": {
    "execution": {
     "iopub.execute_input": "2022-11-03T13:22:47.276585Z",
     "iopub.status.busy": "2022-11-03T13:22:47.276402Z",
     "iopub.status.idle": "2022-11-03T13:22:47.280539Z",
     "shell.execute_reply": "2022-11-03T13:22:47.279628Z"
    }
   },
   "outputs": [
    {
     "name": "stdout",
     "output_type": "stream",
     "text": [
      "{'intensity': <BufferWrapper kind=sig dtype=float32 extra_shape=()>}\n"
     ]
    }
   ],
   "source": [
    "pprint.pprint(res)"
   ]
  },
  {
   "cell_type": "markdown",
   "id": "thermal-grass",
   "metadata": {},
   "source": [
    "### Asynchronous execution, only result\n",
    "\n",
    "By setting `sync=False`, the result is awaitable:"
   ]
  },
  {
   "cell_type": "code",
   "execution_count": 10,
   "id": "narrow-washer",
   "metadata": {
    "execution": {
     "iopub.execute_input": "2022-11-03T13:22:47.324750Z",
     "iopub.status.busy": "2022-11-03T13:22:47.324564Z",
     "iopub.status.idle": "2022-11-03T13:22:47.468938Z",
     "shell.execute_reply": "2022-11-03T13:22:47.468357Z"
    }
   },
   "outputs": [
    {
     "name": "stdout",
     "output_type": "stream",
     "text": [
      "Do something else while UDFs are running in the background\n",
      "Finished\n"
     ]
    }
   ],
   "source": [
    "async_res = ctx.run_udf(dataset=ds, udf=udfs, sync=False)\n",
    "print(\"Do something else while UDFs are running in the background\")\n",
    "res = await async_res\n",
    "print(\"Finished\")"
   ]
  },
  {
   "cell_type": "code",
   "execution_count": 11,
   "id": "adolescent-chicago",
   "metadata": {
    "execution": {
     "iopub.execute_input": "2022-11-03T13:22:47.470967Z",
     "iopub.status.busy": "2022-11-03T13:22:47.470743Z",
     "iopub.status.idle": "2022-11-03T13:22:47.473934Z",
     "shell.execute_reply": "2022-11-03T13:22:47.473465Z"
    }
   },
   "outputs": [
    {
     "name": "stdout",
     "output_type": "stream",
     "text": [
      "({'intensity': <BufferWrapper kind=sig dtype=float32 extra_shape=()>},\n",
      " {'intensity': <BufferWrapper kind=nav dtype=float32 extra_shape=()>})\n"
     ]
    }
   ],
   "source": [
    "pprint.pprint(res)"
   ]
  },
  {
   "cell_type": "markdown",
   "id": "published-startup",
   "metadata": {},
   "source": [
    "Just like in the synchronous case, running a single UDF returns the UDF result directly, not a tuple:"
   ]
  },
  {
   "cell_type": "code",
   "execution_count": 12,
   "id": "considerable-tower",
   "metadata": {
    "execution": {
     "iopub.execute_input": "2022-11-03T13:22:47.476107Z",
     "iopub.status.busy": "2022-11-03T13:22:47.475593Z",
     "iopub.status.idle": "2022-11-03T13:22:47.613892Z",
     "shell.execute_reply": "2022-11-03T13:22:47.612934Z"
    }
   },
   "outputs": [
    {
     "name": "stdout",
     "output_type": "stream",
     "text": [
      "Do something else while UDF is running in the background\n",
      "Finished\n"
     ]
    }
   ],
   "source": [
    "async_res = ctx.run_udf(dataset=ds, udf=udfs[0], sync=False)\n",
    "print(\"Do something else while UDF is running in the background\")\n",
    "res = await async_res\n",
    "print(\"Finished\")"
   ]
  },
  {
   "cell_type": "code",
   "execution_count": 13,
   "id": "loose-pride",
   "metadata": {
    "execution": {
     "iopub.execute_input": "2022-11-03T13:22:47.615848Z",
     "iopub.status.busy": "2022-11-03T13:22:47.615691Z",
     "iopub.status.idle": "2022-11-03T13:22:47.618785Z",
     "shell.execute_reply": "2022-11-03T13:22:47.618326Z"
    }
   },
   "outputs": [
    {
     "name": "stdout",
     "output_type": "stream",
     "text": [
      "{'intensity': <BufferWrapper kind=sig dtype=float32 extra_shape=()>}\n"
     ]
    }
   ],
   "source": [
    "pprint.pprint(res)"
   ]
  },
  {
   "cell_type": "markdown",
   "id": "amateur-doubt",
   "metadata": {},
   "source": [
    "### Synchronous execution as an iterator\n",
    "\n",
    "This returns `UDFResults` objects with attributes `buffers` and `damage`. `buffers` is a tuple with the results per UDF, and `damage` is a `BufferWrapper` with `kind='nav'` and `dtype=bool` that indicates which parts of the navigation space have been merged already."
   ]
  },
  {
   "cell_type": "code",
   "execution_count": 14,
   "id": "compatible-bottle",
   "metadata": {
    "execution": {
     "iopub.execute_input": "2022-11-03T13:22:47.620772Z",
     "iopub.status.busy": "2022-11-03T13:22:47.620503Z",
     "iopub.status.idle": "2022-11-03T13:22:47.847289Z",
     "shell.execute_reply": "2022-11-03T13:22:47.846683Z"
    },
    "scrolled": false
   },
   "outputs": [
    {
     "name": "stdout",
     "output_type": "stream",
     "text": [
      "683 nav positions processed\n",
      "({'intensity': <BufferWrapper kind=sig dtype=float32 extra_shape=()>},\n",
      " {'intensity': <BufferWrapper kind=nav dtype=float32 extra_shape=()>})\n",
      "1365 nav positions processed\n",
      "({'intensity': <BufferWrapper kind=sig dtype=float32 extra_shape=()>},\n",
      " {'intensity': <BufferWrapper kind=nav dtype=float32 extra_shape=()>})\n",
      "2047 nav positions processed\n",
      "({'intensity': <BufferWrapper kind=sig dtype=float32 extra_shape=()>},\n",
      " {'intensity': <BufferWrapper kind=nav dtype=float32 extra_shape=()>})\n",
      "2730 nav positions processed\n",
      "({'intensity': <BufferWrapper kind=sig dtype=float32 extra_shape=()>},\n",
      " {'intensity': <BufferWrapper kind=nav dtype=float32 extra_shape=()>})\n",
      "3412 nav positions processed\n",
      "({'intensity': <BufferWrapper kind=sig dtype=float32 extra_shape=()>},\n",
      " {'intensity': <BufferWrapper kind=nav dtype=float32 extra_shape=()>})\n",
      "4095 nav positions processed\n",
      "({'intensity': <BufferWrapper kind=sig dtype=float32 extra_shape=()>},\n",
      " {'intensity': <BufferWrapper kind=nav dtype=float32 extra_shape=()>})\n",
      "4777 nav positions processed\n",
      "({'intensity': <BufferWrapper kind=sig dtype=float32 extra_shape=()>},\n",
      " {'intensity': <BufferWrapper kind=nav dtype=float32 extra_shape=()>})\n",
      "5459 nav positions processed\n",
      "({'intensity': <BufferWrapper kind=sig dtype=float32 extra_shape=()>},\n",
      " {'intensity': <BufferWrapper kind=nav dtype=float32 extra_shape=()>})\n",
      "6142 nav positions processed\n",
      "({'intensity': <BufferWrapper kind=sig dtype=float32 extra_shape=()>},\n",
      " {'intensity': <BufferWrapper kind=nav dtype=float32 extra_shape=()>})\n",
      "6824 nav positions processed\n",
      "({'intensity': <BufferWrapper kind=sig dtype=float32 extra_shape=()>},\n",
      " {'intensity': <BufferWrapper kind=nav dtype=float32 extra_shape=()>})\n",
      "7506 nav positions processed\n",
      "({'intensity': <BufferWrapper kind=sig dtype=float32 extra_shape=()>},\n",
      " {'intensity': <BufferWrapper kind=nav dtype=float32 extra_shape=()>})\n",
      "8189 nav positions processed\n",
      "({'intensity': <BufferWrapper kind=sig dtype=float32 extra_shape=()>},\n",
      " {'intensity': <BufferWrapper kind=nav dtype=float32 extra_shape=()>})\n",
      "8872 nav positions processed\n",
      "({'intensity': <BufferWrapper kind=sig dtype=float32 extra_shape=()>},\n",
      " {'intensity': <BufferWrapper kind=nav dtype=float32 extra_shape=()>})\n",
      "9555 nav positions processed\n",
      "({'intensity': <BufferWrapper kind=sig dtype=float32 extra_shape=()>},\n",
      " {'intensity': <BufferWrapper kind=nav dtype=float32 extra_shape=()>})\n",
      "10237 nav positions processed\n",
      "({'intensity': <BufferWrapper kind=sig dtype=float32 extra_shape=()>},\n",
      " {'intensity': <BufferWrapper kind=nav dtype=float32 extra_shape=()>})\n",
      "10920 nav positions processed\n",
      "({'intensity': <BufferWrapper kind=sig dtype=float32 extra_shape=()>},\n",
      " {'intensity': <BufferWrapper kind=nav dtype=float32 extra_shape=()>})\n",
      "11603 nav positions processed\n",
      "({'intensity': <BufferWrapper kind=sig dtype=float32 extra_shape=()>},\n",
      " {'intensity': <BufferWrapper kind=nav dtype=float32 extra_shape=()>})\n",
      "12286 nav positions processed\n",
      "({'intensity': <BufferWrapper kind=sig dtype=float32 extra_shape=()>},\n",
      " {'intensity': <BufferWrapper kind=nav dtype=float32 extra_shape=()>})\n",
      "12969 nav positions processed\n",
      "({'intensity': <BufferWrapper kind=sig dtype=float32 extra_shape=()>},\n",
      " {'intensity': <BufferWrapper kind=nav dtype=float32 extra_shape=()>})\n",
      "13652 nav positions processed\n",
      "({'intensity': <BufferWrapper kind=sig dtype=float32 extra_shape=()>},\n",
      " {'intensity': <BufferWrapper kind=nav dtype=float32 extra_shape=()>})\n",
      "14335 nav positions processed\n",
      "({'intensity': <BufferWrapper kind=sig dtype=float32 extra_shape=()>},\n",
      " {'intensity': <BufferWrapper kind=nav dtype=float32 extra_shape=()>})\n",
      "15018 nav positions processed\n",
      "({'intensity': <BufferWrapper kind=sig dtype=float32 extra_shape=()>},\n",
      " {'intensity': <BufferWrapper kind=nav dtype=float32 extra_shape=()>})\n",
      "15701 nav positions processed\n",
      "({'intensity': <BufferWrapper kind=sig dtype=float32 extra_shape=()>},\n",
      " {'intensity': <BufferWrapper kind=nav dtype=float32 extra_shape=()>})\n",
      "16384 nav positions processed\n",
      "({'intensity': <BufferWrapper kind=sig dtype=float32 extra_shape=()>},\n",
      " {'intensity': <BufferWrapper kind=nav dtype=float32 extra_shape=()>})\n"
     ]
    }
   ],
   "source": [
    "# NBVAL_IGNORE_OUTPUT\n",
    "# (output is ignored in nbval run because the number of nav positions can be different)\n",
    "for res in ctx.run_udf_iter(dataset=ds, udf=udfs):\n",
    "    print(np.count_nonzero(res.damage.data), \"nav positions processed\")\n",
    "    pprint.pprint(res.buffers)"
   ]
  },
  {
   "cell_type": "markdown",
   "id": "leading-smooth",
   "metadata": {},
   "source": [
    "### Asynchronous execution as an iterator\n",
    "\n",
    "This allows several iterators to proceed asynchronously in parallel. This approach is used in the backend for the web GUI of LiberTEM to run several analyses concurrently. It could also be useful to implement live feedback to instrument control from UDF results if the control solution works asynchronously.\n",
    "\n",
    "Note that the UDFs are copied here so that different instances are executed in parallel. Executing the same UDF instances concurrently can lead to undefined behavior."
   ]
  },
  {
   "cell_type": "code",
   "execution_count": 15,
   "id": "inner-ceiling",
   "metadata": {
    "execution": {
     "iopub.execute_input": "2022-11-03T13:22:47.849466Z",
     "iopub.status.busy": "2022-11-03T13:22:47.849222Z",
     "iopub.status.idle": "2022-11-03T13:22:48.133209Z",
     "shell.execute_reply": "2022-11-03T13:22:48.132731Z"
    }
   },
   "outputs": [
    {
     "name": "stdout",
     "output_type": "stream",
     "text": [
      "Do something else while UDFs are running in the background\n",
      "one 682 nav positions processed\n",
      "('one',\n",
      " ({'intensity': <BufferWrapper kind=sig dtype=float32 extra_shape=()>},\n",
      "  {'intensity': <BufferWrapper kind=nav dtype=float32 extra_shape=()>}))\n",
      "one 1365 nav positions processed\n",
      "('one',\n",
      " ({'intensity': <BufferWrapper kind=sig dtype=float32 extra_shape=()>},\n",
      "  {'intensity': <BufferWrapper kind=nav dtype=float32 extra_shape=()>}))\n",
      "one 2047 nav positions processed\n",
      "('one',\n",
      " ({'intensity': <BufferWrapper kind=sig dtype=float32 extra_shape=()>},\n",
      "  {'intensity': <BufferWrapper kind=nav dtype=float32 extra_shape=()>}))\n",
      "one 2730 nav positions processed\n",
      "('one',\n",
      " ({'intensity': <BufferWrapper kind=sig dtype=float32 extra_shape=()>},\n",
      "  {'intensity': <BufferWrapper kind=nav dtype=float32 extra_shape=()>}))\n",
      "one 3413 nav positions processed\n",
      "('one',\n",
      " ({'intensity': <BufferWrapper kind=sig dtype=float32 extra_shape=()>},\n",
      "  {'intensity': <BufferWrapper kind=nav dtype=float32 extra_shape=()>}))\n",
      "one 4096 nav positions processed\n",
      "('one',\n",
      " ({'intensity': <BufferWrapper kind=sig dtype=float32 extra_shape=()>},\n",
      "  {'intensity': <BufferWrapper kind=nav dtype=float32 extra_shape=()>}))\n",
      "one 4779 nav positions processed\n",
      "('one',\n",
      " ({'intensity': <BufferWrapper kind=sig dtype=float32 extra_shape=()>},\n",
      "  {'intensity': <BufferWrapper kind=nav dtype=float32 extra_shape=()>}))\n",
      "one 5461 nav positions processed\n",
      "('one',\n",
      " ({'intensity': <BufferWrapper kind=sig dtype=float32 extra_shape=()>},\n",
      "  {'intensity': <BufferWrapper kind=nav dtype=float32 extra_shape=()>}))\n",
      "one 6144 nav positions processed\n",
      "('one',\n",
      " ({'intensity': <BufferWrapper kind=sig dtype=float32 extra_shape=()>},\n",
      "  {'intensity': <BufferWrapper kind=nav dtype=float32 extra_shape=()>}))\n",
      "one 6827 nav positions processed\n",
      "('one',\n",
      " ({'intensity': <BufferWrapper kind=sig dtype=float32 extra_shape=()>},\n",
      "  {'intensity': <BufferWrapper kind=nav dtype=float32 extra_shape=()>}))\n",
      "one 7509 nav positions processed\n",
      "('one',\n",
      " ({'intensity': <BufferWrapper kind=sig dtype=float32 extra_shape=()>},\n",
      "  {'intensity': <BufferWrapper kind=nav dtype=float32 extra_shape=()>}))\n",
      "one 8192 nav positions processed\n",
      "('one',\n",
      " ({'intensity': <BufferWrapper kind=sig dtype=float32 extra_shape=()>},\n",
      "  {'intensity': <BufferWrapper kind=nav dtype=float32 extra_shape=()>}))\n",
      "one 8875 nav positions processed\n",
      "('one',\n",
      " ({'intensity': <BufferWrapper kind=sig dtype=float32 extra_shape=()>},\n",
      "  {'intensity': <BufferWrapper kind=nav dtype=float32 extra_shape=()>}))\n",
      "one 9558 nav positions processed\n",
      "('one',\n",
      " ({'intensity': <BufferWrapper kind=sig dtype=float32 extra_shape=()>},\n",
      "  {'intensity': <BufferWrapper kind=nav dtype=float32 extra_shape=()>}))\n",
      "one 10241 nav positions processed\n",
      "('one',\n",
      " ({'intensity': <BufferWrapper kind=sig dtype=float32 extra_shape=()>},\n",
      "  {'intensity': <BufferWrapper kind=nav dtype=float32 extra_shape=()>}))\n",
      "one 10923 nav positions processed\n",
      "('one',\n",
      " ({'intensity': <BufferWrapper kind=sig dtype=float32 extra_shape=()>},\n",
      "  {'intensity': <BufferWrapper kind=nav dtype=float32 extra_shape=()>}))\n",
      "one 11605 nav positions processed\n",
      "('one',\n",
      " ({'intensity': <BufferWrapper kind=sig dtype=float32 extra_shape=()>},\n",
      "  {'intensity': <BufferWrapper kind=nav dtype=float32 extra_shape=()>}))\n",
      "one 12287 nav positions processed\n",
      "('one',\n",
      " ({'intensity': <BufferWrapper kind=sig dtype=float32 extra_shape=()>},\n",
      "  {'intensity': <BufferWrapper kind=nav dtype=float32 extra_shape=()>}))\n",
      "one 12969 nav positions processed\n",
      "('one',\n",
      " ({'intensity': <BufferWrapper kind=sig dtype=float32 extra_shape=()>},\n",
      "  {'intensity': <BufferWrapper kind=nav dtype=float32 extra_shape=()>}))\n",
      "one 13652 nav positions processed\n",
      "('one',\n",
      " ({'intensity': <BufferWrapper kind=sig dtype=float32 extra_shape=()>},\n",
      "  {'intensity': <BufferWrapper kind=nav dtype=float32 extra_shape=()>}))\n",
      "one 14335 nav positions processed\n",
      "('one',\n",
      " ({'intensity': <BufferWrapper kind=sig dtype=float32 extra_shape=()>},\n",
      "  {'intensity': <BufferWrapper kind=nav dtype=float32 extra_shape=()>}))\n",
      "one 15018 nav positions processed\n",
      "('one',\n",
      " ({'intensity': <BufferWrapper kind=sig dtype=float32 extra_shape=()>},\n",
      "  {'intensity': <BufferWrapper kind=nav dtype=float32 extra_shape=()>}))\n",
      "one 15701 nav positions processed\n",
      "('one',\n",
      " ({'intensity': <BufferWrapper kind=sig dtype=float32 extra_shape=()>},\n",
      "  {'intensity': <BufferWrapper kind=nav dtype=float32 extra_shape=()>}))\n",
      "one 16384 nav positions processed\n",
      "('one',\n",
      " ({'intensity': <BufferWrapper kind=sig dtype=float32 extra_shape=()>},\n",
      "  {'intensity': <BufferWrapper kind=nav dtype=float32 extra_shape=()>}))\n",
      "two 682 nav positions processed\n",
      "('two',\n",
      " ({'intensity': <BufferWrapper kind=sig dtype=float32 extra_shape=()>},\n",
      "  {'intensity': <BufferWrapper kind=nav dtype=float32 extra_shape=()>}))\n",
      "two 1365 nav positions processed\n",
      "('two',\n",
      " ({'intensity': <BufferWrapper kind=sig dtype=float32 extra_shape=()>},\n",
      "  {'intensity': <BufferWrapper kind=nav dtype=float32 extra_shape=()>}))\n",
      "two 2048 nav positions processed\n",
      "('two',\n",
      " ({'intensity': <BufferWrapper kind=sig dtype=float32 extra_shape=()>},\n",
      "  {'intensity': <BufferWrapper kind=nav dtype=float32 extra_shape=()>}))\n",
      "two 2731 nav positions processed\n",
      "('two',\n",
      " ({'intensity': <BufferWrapper kind=sig dtype=float32 extra_shape=()>},\n",
      "  {'intensity': <BufferWrapper kind=nav dtype=float32 extra_shape=()>}))\n",
      "two 3413 nav positions processed\n",
      "('two',\n",
      " ({'intensity': <BufferWrapper kind=sig dtype=float32 extra_shape=()>},\n",
      "  {'intensity': <BufferWrapper kind=nav dtype=float32 extra_shape=()>}))\n",
      "two 4096 nav positions processed\n",
      "('two',\n",
      " ({'intensity': <BufferWrapper kind=sig dtype=float32 extra_shape=()>},\n",
      "  {'intensity': <BufferWrapper kind=nav dtype=float32 extra_shape=()>}))\n",
      "two 4778 nav positions processed\n",
      "('two',\n",
      " ({'intensity': <BufferWrapper kind=sig dtype=float32 extra_shape=()>},\n",
      "  {'intensity': <BufferWrapper kind=nav dtype=float32 extra_shape=()>}))\n",
      "two 5461 nav positions processed\n",
      "('two',\n",
      " ({'intensity': <BufferWrapper kind=sig dtype=float32 extra_shape=()>},\n",
      "  {'intensity': <BufferWrapper kind=nav dtype=float32 extra_shape=()>}))\n",
      "two 6144 nav positions processed\n",
      "('two',\n",
      " ({'intensity': <BufferWrapper kind=sig dtype=float32 extra_shape=()>},\n",
      "  {'intensity': <BufferWrapper kind=nav dtype=float32 extra_shape=()>}))\n",
      "two 6827 nav positions processed\n",
      "('two',\n",
      " ({'intensity': <BufferWrapper kind=sig dtype=float32 extra_shape=()>},\n",
      "  {'intensity': <BufferWrapper kind=nav dtype=float32 extra_shape=()>}))\n",
      "two 7509 nav positions processed\n",
      "('two',\n",
      " ({'intensity': <BufferWrapper kind=sig dtype=float32 extra_shape=()>},\n",
      "  {'intensity': <BufferWrapper kind=nav dtype=float32 extra_shape=()>}))\n",
      "two 8191 nav positions processed\n",
      "('two',\n",
      " ({'intensity': <BufferWrapper kind=sig dtype=float32 extra_shape=()>},\n",
      "  {'intensity': <BufferWrapper kind=nav dtype=float32 extra_shape=()>}))\n",
      "two 8873 nav positions processed\n",
      "('two',\n",
      " ({'intensity': <BufferWrapper kind=sig dtype=float32 extra_shape=()>},\n",
      "  {'intensity': <BufferWrapper kind=nav dtype=float32 extra_shape=()>}))\n",
      "two 9556 nav positions processed\n",
      "('two',\n",
      " ({'intensity': <BufferWrapper kind=sig dtype=float32 extra_shape=()>},\n",
      "  {'intensity': <BufferWrapper kind=nav dtype=float32 extra_shape=()>}))\n",
      "two 10239 nav positions processed\n",
      "('two',\n",
      " ({'intensity': <BufferWrapper kind=sig dtype=float32 extra_shape=()>},\n",
      "  {'intensity': <BufferWrapper kind=nav dtype=float32 extra_shape=()>}))\n",
      "two 10922 nav positions processed\n",
      "('two',\n",
      " ({'intensity': <BufferWrapper kind=sig dtype=float32 extra_shape=()>},\n",
      "  {'intensity': <BufferWrapper kind=nav dtype=float32 extra_shape=()>}))\n",
      "two 11604 nav positions processed\n",
      "('two',\n",
      " ({'intensity': <BufferWrapper kind=sig dtype=float32 extra_shape=()>},\n",
      "  {'intensity': <BufferWrapper kind=nav dtype=float32 extra_shape=()>}))\n",
      "two 12287 nav positions processed\n",
      "('two',\n",
      " ({'intensity': <BufferWrapper kind=sig dtype=float32 extra_shape=()>},\n",
      "  {'intensity': <BufferWrapper kind=nav dtype=float32 extra_shape=()>}))\n",
      "two 12970 nav positions processed\n",
      "('two',\n",
      " ({'intensity': <BufferWrapper kind=sig dtype=float32 extra_shape=()>},\n",
      "  {'intensity': <BufferWrapper kind=nav dtype=float32 extra_shape=()>}))\n",
      "two 13653 nav positions processed\n",
      "('two',\n",
      " ({'intensity': <BufferWrapper kind=sig dtype=float32 extra_shape=()>},\n",
      "  {'intensity': <BufferWrapper kind=nav dtype=float32 extra_shape=()>}))\n",
      "two 14336 nav positions processed\n",
      "('two',\n",
      " ({'intensity': <BufferWrapper kind=sig dtype=float32 extra_shape=()>},\n",
      "  {'intensity': <BufferWrapper kind=nav dtype=float32 extra_shape=()>}))\n",
      "two 15018 nav positions processed\n",
      "('two',\n",
      " ({'intensity': <BufferWrapper kind=sig dtype=float32 extra_shape=()>},\n",
      "  {'intensity': <BufferWrapper kind=nav dtype=float32 extra_shape=()>}))\n",
      "two 15701 nav positions processed\n",
      "('two',\n",
      " ({'intensity': <BufferWrapper kind=sig dtype=float32 extra_shape=()>},\n",
      "  {'intensity': <BufferWrapper kind=nav dtype=float32 extra_shape=()>}))\n",
      "two 16384 nav positions processed\n",
      "('two',\n",
      " ({'intensity': <BufferWrapper kind=sig dtype=float32 extra_shape=()>},\n",
      "  {'intensity': <BufferWrapper kind=nav dtype=float32 extra_shape=()>}))\n"
     ]
    },
    {
     "data": {
      "text/plain": [
       "[<libertem.udf.base.UDFResults at 0x7fd11819b9a0>,\n",
       " <libertem.udf.base.UDFResults at 0x7fd118207550>]"
      ]
     },
     "execution_count": 15,
     "metadata": {},
     "output_type": "execute_result"
    }
   ],
   "source": [
    "# NBVAL_IGNORE_OUTPUT\n",
    "# (output is ignored in nbval run because the number of nav positions can be different)\n",
    "async def doit(label, udfs):\n",
    "    async for res in ctx.run_udf_iter(dataset=ds, udf=udfs, sync=False):\n",
    "        print(label, np.count_nonzero(res.damage.data), \"nav positions processed\")\n",
    "        pprint.pprint((label, res.buffers))\n",
    "    return res\n",
    "        \n",
    "p1 = doit(\"one\", copy.deepcopy(udfs))\n",
    "p2 = doit(\"two\", copy.deepcopy(udfs))\n",
    "print(\"Do something else while UDFs are running in the background\")\n",
    "await asyncio.gather(p1, p2)"
   ]
  },
  {
   "cell_type": "code",
   "execution_count": null,
   "id": "meaningful-lewis",
   "metadata": {},
   "outputs": [],
   "source": []
  },
  {
   "cell_type": "code",
   "execution_count": null,
   "id": "spatial-remains",
   "metadata": {},
   "outputs": [],
   "source": []
  },
  {
   "cell_type": "code",
   "execution_count": null,
   "id": "realistic-helicopter",
   "metadata": {},
   "outputs": [],
   "source": []
  }
 ],
 "metadata": {
  "kernelspec": {
   "display_name": "Python 3",
   "language": "python",
   "name": "python3"
  },
  "language_info": {
   "codemirror_mode": {
    "name": "ipython",
    "version": 3
   },
   "file_extension": ".py",
   "mimetype": "text/x-python",
   "name": "python",
   "nbconvert_exporter": "python",
   "pygments_lexer": "ipython3",
   "version": "3.10.4"
  }
 },
 "nbformat": 4,
 "nbformat_minor": 5
}
