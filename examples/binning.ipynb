{
 "cells": [
  {
   "cell_type": "markdown",
   "id": "763f597e",
   "metadata": {},
   "source": [
    "# Binning\n",
    "\n",
    "This example shows how LiberTEM can be used for fast binning of a large dataset."
   ]
  },
  {
   "cell_type": "code",
   "execution_count": 1,
   "id": "3f022ae6",
   "metadata": {
    "execution": {
     "iopub.execute_input": "2023-06-29T12:46:14.933683Z",
     "iopub.status.busy": "2023-06-29T12:46:14.933552Z",
     "iopub.status.idle": "2023-06-29T12:46:15.233209Z",
     "shell.execute_reply": "2023-06-29T12:46:15.232606Z"
    }
   },
   "outputs": [],
   "source": [
    "%matplotlib inline"
   ]
  },
  {
   "cell_type": "code",
   "execution_count": 2,
   "id": "a7990d5f",
   "metadata": {
    "execution": {
     "iopub.execute_input": "2023-06-29T12:46:15.235565Z",
     "iopub.status.busy": "2023-06-29T12:46:15.235364Z",
     "iopub.status.idle": "2023-06-29T12:46:15.797267Z",
     "shell.execute_reply": "2023-06-29T12:46:15.796642Z"
    }
   },
   "outputs": [],
   "source": [
    "import numpy as np\n",
    "import sparse\n",
    "import matplotlib.pyplot as plt\n",
    "\n",
    "from libertem.api import Context\n",
    "from libertem.udf.masks import ApplyMasksUDF"
   ]
  },
  {
   "cell_type": "code",
   "execution_count": 3,
   "id": "5a0f3575",
   "metadata": {
    "execution": {
     "iopub.execute_input": "2023-06-29T12:46:15.799811Z",
     "iopub.status.busy": "2023-06-29T12:46:15.799666Z",
     "iopub.status.idle": "2023-06-29T12:46:17.204923Z",
     "shell.execute_reply": "2023-06-29T12:46:17.204293Z"
    }
   },
   "outputs": [],
   "source": [
    "ctx = Context()"
   ]
  },
  {
   "cell_type": "markdown",
   "id": "76f4c9d7",
   "metadata": {},
   "source": [
    "## Generate test data\n",
    "Just a folded linear gradient for illustration"
   ]
  },
  {
   "cell_type": "code",
   "execution_count": 4,
   "id": "c7b3bbd1",
   "metadata": {
    "execution": {
     "iopub.execute_input": "2023-06-29T12:46:17.207184Z",
     "iopub.status.busy": "2023-06-29T12:46:17.207041Z",
     "iopub.status.idle": "2023-06-29T12:46:17.210133Z",
     "shell.execute_reply": "2023-06-29T12:46:17.209666Z"
    }
   },
   "outputs": [],
   "source": [
    "shape = (17, 19, 23, 29)\n",
    "data = np.linspace(0, 1, np.prod(shape, dtype=np.int64)).reshape(shape)"
   ]
  },
  {
   "cell_type": "code",
   "execution_count": 5,
   "id": "09b0a029",
   "metadata": {
    "execution": {
     "iopub.execute_input": "2023-06-29T12:46:17.211781Z",
     "iopub.status.busy": "2023-06-29T12:46:17.211498Z",
     "iopub.status.idle": "2023-06-29T12:46:17.230883Z",
     "shell.execute_reply": "2023-06-29T12:46:17.230376Z"
    }
   },
   "outputs": [],
   "source": [
    "ds = ctx.load('memory', data=data)"
   ]
  },
  {
   "cell_type": "markdown",
   "id": "49d56fc5",
   "metadata": {},
   "source": [
    "## Define the binning factor and determine target shape"
   ]
  },
  {
   "cell_type": "code",
   "execution_count": 6,
   "id": "8d7edcb0",
   "metadata": {
    "execution": {
     "iopub.execute_input": "2023-06-29T12:46:17.232810Z",
     "iopub.status.busy": "2023-06-29T12:46:17.232367Z",
     "iopub.status.idle": "2023-06-29T12:46:17.235307Z",
     "shell.execute_reply": "2023-06-29T12:46:17.234759Z"
    }
   },
   "outputs": [],
   "source": [
    "bin_factor = 4"
   ]
  },
  {
   "cell_type": "code",
   "execution_count": 7,
   "id": "5cb59344",
   "metadata": {
    "execution": {
     "iopub.execute_input": "2023-06-29T12:46:17.237056Z",
     "iopub.status.busy": "2023-06-29T12:46:17.236661Z",
     "iopub.status.idle": "2023-06-29T12:46:17.239563Z",
     "shell.execute_reply": "2023-06-29T12:46:17.239026Z"
    }
   },
   "outputs": [],
   "source": [
    "# ceil() to include output bins that only fit partially into the\n",
    "# source frame\n",
    "size_y = int(np.ceil(ds.shape.sig[0] / bin_factor))\n",
    "size_x = int(np.ceil(ds.shape.sig[1] / bin_factor))"
   ]
  },
  {
   "cell_type": "markdown",
   "id": "698b2e6b",
   "metadata": {},
   "source": [
    "## Create a sparse matrix for binning\n",
    "Each layer corresponds to an output bin. We calculate which pixels are in each output bin."
   ]
  },
  {
   "cell_type": "code",
   "execution_count": 8,
   "id": "2000c674",
   "metadata": {
    "execution": {
     "iopub.execute_input": "2023-06-29T12:46:17.241269Z",
     "iopub.status.busy": "2023-06-29T12:46:17.240945Z",
     "iopub.status.idle": "2023-06-29T12:46:17.250929Z",
     "shell.execute_reply": "2023-06-29T12:46:17.250457Z"
    }
   },
   "outputs": [],
   "source": [
    "bin_matrix_layers = []\n",
    "for y in range(size_y):\n",
    "    for x in range(size_x):\n",
    "        layer = np.zeros(ds.shape.sig)\n",
    "        start_y = y * bin_factor\n",
    "        stop_y = (y + 1) * bin_factor\n",
    "        start_x = x * bin_factor\n",
    "        stop_x = (x + 1) * bin_factor\n",
    "        layer[start_y:stop_y, start_x:stop_x] = 1\n",
    "        layer /= np.sum(layer)\n",
    "        bin_matrix_layers.append(sparse.COO(layer))\n",
    "bin_matrix = sparse.stack(bin_matrix_layers)"
   ]
  },
  {
   "cell_type": "code",
   "execution_count": 9,
   "id": "415eeb91",
   "metadata": {
    "execution": {
     "iopub.execute_input": "2023-06-29T12:46:17.253089Z",
     "iopub.status.busy": "2023-06-29T12:46:17.252951Z",
     "iopub.status.idle": "2023-06-29T12:46:17.255326Z",
     "shell.execute_reply": "2023-06-29T12:46:17.254893Z"
    }
   },
   "outputs": [],
   "source": [
    "def mask_factory():\n",
    "    return bin_matrix"
   ]
  },
  {
   "cell_type": "markdown",
   "id": "cb27f219",
   "metadata": {},
   "source": [
    "## Apply the matrix"
   ]
  },
  {
   "cell_type": "code",
   "execution_count": 10,
   "id": "aeac970e",
   "metadata": {
    "execution": {
     "iopub.execute_input": "2023-06-29T12:46:17.257126Z",
     "iopub.status.busy": "2023-06-29T12:46:17.256736Z",
     "iopub.status.idle": "2023-06-29T12:46:18.212280Z",
     "shell.execute_reply": "2023-06-29T12:46:18.211826Z"
    }
   },
   "outputs": [
    {
     "data": {
      "application/vnd.jupyter.widget-view+json": {
       "model_id": "724fca5615884e04b6206e01e238ee21",
       "version_major": 2,
       "version_minor": 0
      },
      "text/plain": [
       "Partitions 0/24, Frames:   0%|          | 0/323 [00:00<?, ?it/s]"
      ]
     },
     "metadata": {},
     "output_type": "display_data"
    }
   ],
   "source": [
    "udf = ApplyMasksUDF(mask_factories=mask_factory)\n",
    "result = ctx.run_udf(dataset=ds, udf=udf, progress=True)"
   ]
  },
  {
   "cell_type": "markdown",
   "id": "aee221ec",
   "metadata": {},
   "source": [
    "## Reshape and show result"
   ]
  },
  {
   "cell_type": "code",
   "execution_count": 11,
   "id": "f72bf444",
   "metadata": {
    "execution": {
     "iopub.execute_input": "2023-06-29T12:46:18.213980Z",
     "iopub.status.busy": "2023-06-29T12:46:18.213843Z",
     "iopub.status.idle": "2023-06-29T12:46:18.216490Z",
     "shell.execute_reply": "2023-06-29T12:46:18.216079Z"
    }
   },
   "outputs": [],
   "source": [
    "reshaped_result = result['intensity'].raw_data.reshape(*ds.shape.nav, size_y, size_x)"
   ]
  },
  {
   "cell_type": "code",
   "execution_count": 12,
   "id": "87587e92",
   "metadata": {
    "execution": {
     "iopub.execute_input": "2023-06-29T12:46:18.218207Z",
     "iopub.status.busy": "2023-06-29T12:46:18.217849Z",
     "iopub.status.idle": "2023-06-29T12:46:18.412926Z",
     "shell.execute_reply": "2023-06-29T12:46:18.412518Z"
    }
   },
   "outputs": [
    {
     "data": {
      "text/plain": [
       "<matplotlib.image.AxesImage at 0x7f9da468b250>"
      ]
     },
     "execution_count": 12,
     "metadata": {},
     "output_type": "execute_result"
    },
    {
     "data": {
      "image/png": "[encoded data removed]",
      "text/plain": [
       "<Figure size 640x480 with 2 Axes>"
      ]
     },
     "metadata": {},
     "output_type": "display_data"
    }
   ],
   "source": [
    "fig, axes = plt.subplots(1, 2)\n",
    "axes[0].imshow(data[0, 0])\n",
    "axes[1].imshow(reshaped_result[0, 0])"
   ]
  },
  {
   "cell_type": "code",
   "execution_count": null,
   "id": "e482d845",
   "metadata": {},
   "outputs": [],
   "source": []
  }
 ],
 "metadata": {
  "kernelspec": {
   "display_name": "Python (libertem39)",
   "language": "python",
   "name": "libertem39"
  },
  "language_info": {
   "codemirror_mode": {
    "name": "ipython",
    "version": 3
   },
   "file_extension": ".py",
   "mimetype": "text/x-python",
   "name": "python",
   "nbconvert_exporter": "python",
   "pygments_lexer": "ipython3",
   "version": "3.10.8"
  },
  "vscode": {
   "interpreter": {
    "hash": "916dbcbb3f70747c44a77c7bcd40155683ae19c65e1c03b4aa3499c5328201f1"
   }
  },
  "widgets": {
   "application/vnd.jupyter.widget-state+json": {
    "state": {
     "015426d25bbb457aa96e88ef011eb255": {
      "model_module": "@jupyter-widgets/base",
      "model_module_version": "2.0.0",
      "model_name": "LayoutModel",
      "state": {
       "_model_module": "@jupyter-widgets/base",
       "_model_module_version": "2.0.0",
       "_model_name": "LayoutModel",
       "_view_count": null,
       "_view_module": "@jupyter-widgets/base",
       "_view_module_version": "2.0.0",
       "_view_name": "LayoutView",
       "align_content": null,
       "align_items": null,
       "align_self": null,
       "border_bottom": null,
       "border_left": null,
       "border_right": null,
       "border_top": null,
       "bottom": null,
       "display": null,
       "flex": null,
       "flex_flow": null,
       "grid_area": null,
       "grid_auto_columns": null,
       "grid_auto_flow": null,
       "grid_auto_rows": null,
       "grid_column": null,
       "grid_gap": null,
       "grid_row": null,
       "grid_template_areas": null,
       "grid_template_columns": null,
       "grid_template_rows": null,
       "height": null,
       "justify_content": null,
       "justify_items": null,
       "left": null,
       "margin": null,
       "max_height": null,
       "max_width": null,
       "min_height": null,
       "min_width": null,
       "object_fit": null,
       "object_position": null,
       "order": null,
       "overflow": null,
       "padding": null,
       "right": null,
       "top": null,
       "visibility": null,
       "width": null
      }
     },
     "12abef09eef04b77af778d45e2cdf333": {
      "model_module": "@jupyter-widgets/controls",
      "model_module_version": "2.0.0",
      "model_name": "HTMLModel",
      "state": {
       "_dom_classes": [],
       "_model_module": "@jupyter-widgets/controls",
       "_model_module_version": "2.0.0",
       "_model_name": "HTMLModel",
       "_view_count": null,
       "_view_module": "@jupyter-widgets/controls",
       "_view_module_version": "2.0.0",
       "_view_name": "HTMLView",
       "description": "",
       "description_allow_html": false,
       "layout": "IPY_MODEL_1e4e85d4e474496fbe8993128c43336b",
       "placeholder": "​",
       "style": "IPY_MODEL_42d3a586561c42908f593f90a2d63398",
       "tabbable": null,
       "tooltip": null,
       "value": " 323/323 [00:00&lt;00:00, 534.15it/s]"
      }
     },
     "1e4e85d4e474496fbe8993128c43336b": {
      "model_module": "@jupyter-widgets/base",
      "model_module_version": "2.0.0",
      "model_name": "LayoutModel",
      "state": {
       "_model_module": "@jupyter-widgets/base",
       "_model_module_version": "2.0.0",
       "_model_name": "LayoutModel",
       "_view_count": null,
       "_view_module": "@jupyter-widgets/base",
       "_view_module_version": "2.0.0",
       "_view_name": "LayoutView",
       "align_content": null,
       "align_items": null,
       "align_self": null,
       "border_bottom": null,
       "border_left": null,
       "border_right": null,
       "border_top": null,
       "bottom": null,
       "display": null,
       "flex": null,
       "flex_flow": null,
       "grid_area": null,
       "grid_auto_columns": null,
       "grid_auto_flow": null,
       "grid_auto_rows": null,
       "grid_column": null,
       "grid_gap": null,
       "grid_row": null,
       "grid_template_areas": null,
       "grid_template_columns": null,
       "grid_template_rows": null,
       "height": null,
       "justify_content": null,
       "justify_items": null,
       "left": null,
       "margin": null,
       "max_height": null,
       "max_width": null,
       "min_height": null,
       "min_width": null,
       "object_fit": null,
       "object_position": null,
       "order": null,
       "overflow": null,
       "padding": null,
       "right": null,
       "top": null,
       "visibility": null,
       "width": null
      }
     },
     "2647c492540441c6b5c3d285ac72095e": {
      "model_module": "@jupyter-widgets/controls",
      "model_module_version": "2.0.0",
      "model_name": "FloatProgressModel",
      "state": {
       "_dom_classes": [],
       "_model_module": "@jupyter-widgets/controls",
       "_model_module_version": "2.0.0",
       "_model_name": "FloatProgressModel",
       "_view_count": null,
       "_view_module": "@jupyter-widgets/controls",
       "_view_module_version": "2.0.0",
       "_view_name": "ProgressView",
       "bar_style": "success",
       "description": "",
       "description_allow_html": false,
       "layout": "IPY_MODEL_99d525bc00a749ff92c255b2e03f3707",
       "max": 323.0,
       "min": 0.0,
       "orientation": "horizontal",
       "style": "IPY_MODEL_37f6bc1b92bb4aa0849b344b56bcbea6",
       "tabbable": null,
       "tooltip": null,
       "value": 323.0
      }
     },
     "37f6bc1b92bb4aa0849b344b56bcbea6": {
      "model_module": "@jupyter-widgets/controls",
      "model_module_version": "2.0.0",
      "model_name": "ProgressStyleModel",
      "state": {
       "_model_module": "@jupyter-widgets/controls",
       "_model_module_version": "2.0.0",
       "_model_name": "ProgressStyleModel",
       "_view_count": null,
       "_view_module": "@jupyter-widgets/base",
       "_view_module_version": "2.0.0",
       "_view_name": "StyleView",
       "bar_color": null,
       "description_width": ""
      }
     },
     "42d3a586561c42908f593f90a2d63398": {
      "model_module": "@jupyter-widgets/controls",
      "model_module_version": "2.0.0",
      "model_name": "HTMLStyleModel",
      "state": {
       "_model_module": "@jupyter-widgets/controls",
       "_model_module_version": "2.0.0",
       "_model_name": "HTMLStyleModel",
       "_view_count": null,
       "_view_module": "@jupyter-widgets/base",
       "_view_module_version": "2.0.0",
       "_view_name": "StyleView",
       "background": null,
       "description_width": "",
       "font_size": null,
       "text_color": null
      }
     },
     "724fca5615884e04b6206e01e238ee21": {
      "model_module": "@jupyter-widgets/controls",
      "model_module_version": "2.0.0",
      "model_name": "HBoxModel",
      "state": {
       "_dom_classes": [],
       "_model_module": "@jupyter-widgets/controls",
       "_model_module_version": "2.0.0",
       "_model_name": "HBoxModel",
       "_view_count": null,
       "_view_module": "@jupyter-widgets/controls",
       "_view_module_version": "2.0.0",
       "_view_name": "HBoxView",
       "box_style": "",
       "children": [
        "IPY_MODEL_afbc0d9f52d64859970db0df110ecbfe",
        "IPY_MODEL_2647c492540441c6b5c3d285ac72095e",
        "IPY_MODEL_12abef09eef04b77af778d45e2cdf333"
       ],
       "layout": "IPY_MODEL_015426d25bbb457aa96e88ef011eb255",
       "tabbable": null,
       "tooltip": null
      }
     },
     "960dce948944407b967890c6c8b01770": {
      "model_module": "@jupyter-widgets/controls",
      "model_module_version": "2.0.0",
      "model_name": "HTMLStyleModel",
      "state": {
       "_model_module": "@jupyter-widgets/controls",
       "_model_module_version": "2.0.0",
       "_model_name": "HTMLStyleModel",
       "_view_count": null,
       "_view_module": "@jupyter-widgets/base",
       "_view_module_version": "2.0.0",
       "_view_name": "StyleView",
       "background": null,
       "description_width": "",
       "font_size": null,
       "text_color": null
      }
     },
     "99d525bc00a749ff92c255b2e03f3707": {
      "model_module": "@jupyter-widgets/base",
      "model_module_version": "2.0.0",
      "model_name": "LayoutModel",
      "state": {
       "_model_module": "@jupyter-widgets/base",
       "_model_module_version": "2.0.0",
       "_model_name": "LayoutModel",
       "_view_count": null,
       "_view_module": "@jupyter-widgets/base",
       "_view_module_version": "2.0.0",
       "_view_name": "LayoutView",
       "align_content": null,
       "align_items": null,
       "align_self": null,
       "border_bottom": null,
       "border_left": null,
       "border_right": null,
       "border_top": null,
       "bottom": null,
       "display": null,
       "flex": null,
       "flex_flow": null,
       "grid_area": null,
       "grid_auto_columns": null,
       "grid_auto_flow": null,
       "grid_auto_rows": null,
       "grid_column": null,
       "grid_gap": null,
       "grid_row": null,
       "grid_template_areas": null,
       "grid_template_columns": null,
       "grid_template_rows": null,
       "height": null,
       "justify_content": null,
       "justify_items": null,
       "left": null,
       "margin": null,
       "max_height": null,
       "max_width": null,
       "min_height": null,
       "min_width": null,
       "object_fit": null,
       "object_position": null,
       "order": null,
       "overflow": null,
       "padding": null,
       "right": null,
       "top": null,
       "visibility": null,
       "width": null
      }
     },
     "a08d900a08bd4a088369699bb72cbe24": {
      "model_module": "@jupyter-widgets/base",
      "model_module_version": "2.0.0",
      "model_name": "LayoutModel",
      "state": {
       "_model_module": "@jupyter-widgets/base",
       "_model_module_version": "2.0.0",
       "_model_name": "LayoutModel",
       "_view_count": null,
       "_view_module": "@jupyter-widgets/base",
       "_view_module_version": "2.0.0",
       "_view_name": "LayoutView",
       "align_content": null,
       "align_items": null,
       "align_self": null,
       "border_bottom": null,
       "border_left": null,
       "border_right": null,
       "border_top": null,
       "bottom": null,
       "display": null,
       "flex": null,
       "flex_flow": null,
       "grid_area": null,
       "grid_auto_columns": null,
       "grid_auto_flow": null,
       "grid_auto_rows": null,
       "grid_column": null,
       "grid_gap": null,
       "grid_row": null,
       "grid_template_areas": null,
       "grid_template_columns": null,
       "grid_template_rows": null,
       "height": null,
       "justify_content": null,
       "justify_items": null,
       "left": null,
       "margin": null,
       "max_height": null,
       "max_width": null,
       "min_height": null,
       "min_width": null,
       "object_fit": null,
       "object_position": null,
       "order": null,
       "overflow": null,
       "padding": null,
       "right": null,
       "top": null,
       "visibility": null,
       "width": null
      }
     },
     "afbc0d9f52d64859970db0df110ecbfe": {
      "model_module": "@jupyter-widgets/controls",
      "model_module_version": "2.0.0",
      "model_name": "HTMLModel",
      "state": {
       "_dom_classes": [],
       "_model_module": "@jupyter-widgets/controls",
       "_model_module_version": "2.0.0",
       "_model_name": "HTMLModel",
       "_view_count": null,
       "_view_module": "@jupyter-widgets/controls",
       "_view_module_version": "2.0.0",
       "_view_name": "HTMLView",
       "description": "",
       "description_allow_html": false,
       "layout": "IPY_MODEL_a08d900a08bd4a088369699bb72cbe24",
       "placeholder": "​",
       "style": "IPY_MODEL_960dce948944407b967890c6c8b01770",
       "tabbable": null,
       "tooltip": null,
       "value": "Partitions 24/24, Frames: 100%"
      }
     }
    },
    "version_major": 2,
    "version_minor": 0
   }
  }
 },
 "nbformat": 4,
 "nbformat_minor": 5
}
