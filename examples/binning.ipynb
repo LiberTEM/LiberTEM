{
 "cells": [
  {
   "cell_type": "markdown",
   "id": "763f597e",
   "metadata": {},
   "source": [
    "# Binning\n",
    "\n",
    "This example shows how LiberTEM can be used for fast binning of a large dataset."
   ]
  },
  {
   "cell_type": "code",
   "execution_count": 1,
   "id": "3f022ae6",
   "metadata": {
    "execution": {
     "iopub.execute_input": "2022-11-03T13:25:57.374402Z",
     "iopub.status.busy": "2022-11-03T13:25:57.373924Z",
     "iopub.status.idle": "2022-11-03T13:25:57.685876Z",
     "shell.execute_reply": "2022-11-03T13:25:57.685277Z"
    }
   },
   "outputs": [],
   "source": [
    "%matplotlib inline"
   ]
  },
  {
   "cell_type": "code",
   "execution_count": 2,
   "id": "a7990d5f",
   "metadata": {
    "execution": {
     "iopub.execute_input": "2022-11-03T13:25:57.688810Z",
     "iopub.status.busy": "2022-11-03T13:25:57.688487Z",
     "iopub.status.idle": "2022-11-03T13:25:58.291027Z",
     "shell.execute_reply": "2022-11-03T13:25:58.290402Z"
    }
   },
   "outputs": [],
   "source": [
    "import numpy as np\n",
    "import sparse\n",
    "import matplotlib.pyplot as plt\n",
    "\n",
    "from libertem.api import Context\n",
    "from libertem.udf.masks import ApplyMasksUDF"
   ]
  },
  {
   "cell_type": "code",
   "execution_count": 3,
   "id": "5a0f3575",
   "metadata": {
    "execution": {
     "iopub.execute_input": "2022-11-03T13:25:58.294037Z",
     "iopub.status.busy": "2022-11-03T13:25:58.293883Z",
     "iopub.status.idle": "2022-11-03T13:25:59.629912Z",
     "shell.execute_reply": "2022-11-03T13:25:59.629364Z"
    }
   },
   "outputs": [
    {
     "name": "stderr",
     "output_type": "stream",
     "text": [
      "/home/weber/miniconda3/envs/libertem39/lib/python3.9/site-packages/distributed/node.py:182: UserWarning: Port 8787 is already in use.\n",
      "Perhaps you already have a cluster running?\n",
      "Hosting the HTTP server on port 33311 instead\n",
      "  warnings.warn(\n",
      "2023-01-12 17:46:05,328 - distributed.diskutils - INFO - Found stale lock file and directory '/tmp/dask-worker-space-20335/worker-puok182k', purging\n",
      "2023-01-12 17:46:05,329 - distributed.diskutils - INFO - Found stale lock file and directory '/tmp/dask-worker-space-20335/worker-aabyao71', purging\n",
      "2023-01-12 17:46:05,329 - distributed.diskutils - INFO - Found stale lock file and directory '/tmp/dask-worker-space-20335/worker-2ka8wcft', purging\n",
      "2023-01-12 17:46:05,329 - distributed.diskutils - INFO - Found stale lock file and directory '/tmp/dask-worker-space-20335/worker-jywv_h_e', purging\n",
      "2023-01-12 17:46:05,329 - distributed.diskutils - INFO - Found stale lock file and directory '/tmp/dask-worker-space-20335/worker-pexwfimn', purging\n",
      "2023-01-12 17:46:05,330 - distributed.diskutils - INFO - Found stale lock file and directory '/tmp/dask-worker-space-20335/worker-59tgcdqq', purging\n",
      "2023-01-12 17:46:05,330 - distributed.diskutils - INFO - Found stale lock file and directory '/tmp/dask-worker-space-20335/worker-j015gndf', purging\n",
      "2023-01-12 17:46:05,330 - distributed.diskutils - INFO - Found stale lock file and directory '/tmp/dask-worker-space-20335/worker-jsq_co7e', purging\n",
      "2023-01-12 17:46:05,330 - distributed.diskutils - INFO - Found stale lock file and directory '/tmp/dask-worker-space-20335/worker-hfwa88fk', purging\n",
      "2023-01-12 17:46:05,330 - distributed.diskutils - INFO - Found stale lock file and directory '/tmp/dask-worker-space-20335/worker-risvestd', purging\n",
      "2023-01-12 17:46:05,331 - distributed.diskutils - INFO - Found stale lock file and directory '/tmp/dask-worker-space-20335/worker-243wjyf7', purging\n",
      "2023-01-12 17:46:05,331 - distributed.diskutils - INFO - Found stale lock file and directory '/tmp/dask-worker-space-20335/worker-uqbzw2aj', purging\n",
      "2023-01-12 17:46:05,331 - distributed.diskutils - INFO - Found stale lock file and directory '/tmp/dask-worker-space-20335/worker-e5y9xkg4', purging\n",
      "2023-01-12 17:46:05,331 - distributed.diskutils - INFO - Found stale lock file and directory '/tmp/dask-worker-space-20335/worker-i0n5572i', purging\n",
      "2023-01-12 17:46:05,332 - distributed.diskutils - INFO - Found stale lock file and directory '/tmp/dask-worker-space-20335/worker-ezz_dlzn', purging\n",
      "2023-01-12 17:46:05,332 - distributed.diskutils - INFO - Found stale lock file and directory '/tmp/dask-worker-space-20335/worker-7t3fncwj', purging\n",
      "2023-01-12 17:46:05,332 - distributed.diskutils - INFO - Found stale lock file and directory '/tmp/dask-worker-space-20335/worker-yz_7qeiy', purging\n",
      "2023-01-12 17:46:05,332 - distributed.diskutils - INFO - Found stale lock file and directory '/tmp/dask-worker-space-20335/worker-tytmei57', purging\n",
      "2023-01-12 17:46:05,333 - distributed.diskutils - INFO - Found stale lock file and directory '/tmp/dask-worker-space-20335/worker-ziyu5pcp', purging\n",
      "2023-01-12 17:46:05,333 - distributed.diskutils - INFO - Found stale lock file and directory '/tmp/dask-worker-space-20335/worker-8ato0_wb', purging\n",
      "2023-01-12 17:46:05,333 - distributed.diskutils - INFO - Found stale lock file and directory '/tmp/dask-worker-space-20335/worker-n7il75ba', purging\n",
      "2023-01-12 17:46:05,333 - distributed.diskutils - INFO - Found stale lock file and directory '/tmp/dask-worker-space-20335/worker-gpdms9po', purging\n",
      "2023-01-12 17:46:05,333 - distributed.diskutils - INFO - Found stale lock file and directory '/tmp/dask-worker-space-20335/worker-5lug78uh', purging\n",
      "2023-01-12 17:46:05,334 - distributed.diskutils - INFO - Found stale lock file and directory '/tmp/dask-worker-space-20335/worker-_e62snqq', purging\n",
      "2023-01-12 17:46:05,334 - distributed.diskutils - INFO - Found stale lock file and directory '/tmp/dask-worker-space-20335/worker-m80aei6a', purging\n",
      "2023-01-12 17:46:05,334 - distributed.diskutils - INFO - Found stale lock file and directory '/tmp/dask-worker-space-20335/worker-kwvd977a', purging\n",
      "2023-01-12 17:46:05,334 - distributed.preloading - INFO - Creating preload: from libertem.executor.dask import worker_setup; worker_setup(resource=\"CPU\", device=10)\n",
      "2023-01-12 17:46:05,335 - distributed.utils - INFO - Reload module tmpuxnxe5ye from .py file\n",
      "2023-01-12 17:46:05,346 - distributed.preloading - INFO - Creating preload: from libertem.executor.dask import worker_setup; worker_setup(resource=\"CPU\", device=3)\n",
      "2023-01-12 17:46:05,346 - distributed.utils - INFO - Reload module tmpvq20t87c from .py file\n",
      "2023-01-12 17:46:05,354 - distributed.preloading - INFO - Creating preload: from libertem.executor.dask import worker_setup; worker_setup(resource=\"CPU\", device=14)\n",
      "2023-01-12 17:46:05,354 - distributed.utils - INFO - Reload module tmpqkldlogs from .py file\n",
      "2023-01-12 17:46:05,369 - distributed.preloading - INFO - Creating preload: from libertem.executor.dask import worker_setup; worker_setup(resource=\"CPU\", device=13)\n",
      "2023-01-12 17:46:05,370 - distributed.utils - INFO - Reload module tmpdnzwwr1z from .py file\n",
      "2023-01-12 17:46:05,382 - distributed.preloading - INFO - Creating preload: from libertem.executor.dask import worker_setup; worker_setup(resource=\"CPU\", device=9)\n",
      "2023-01-12 17:46:05,382 - distributed.utils - INFO - Reload module tmpbuwh2reh from .py file\n",
      "2023-01-12 17:46:05,392 - distributed.preloading - INFO - Creating preload: from libertem.executor.dask import worker_setup; worker_setup(resource=\"CPU\", device=6)\n",
      "2023-01-12 17:46:05,393 - distributed.utils - INFO - Reload module tmp_ir2g6re from .py file\n",
      "2023-01-12 17:46:05,403 - distributed.preloading - INFO - Creating preload: from libertem.executor.dask import worker_setup; worker_setup(resource=\"CPU\", device=15)\n",
      "2023-01-12 17:46:05,403 - distributed.utils - INFO - Reload module tmpihz62_ke from .py file\n",
      "2023-01-12 17:46:05,417 - distributed.preloading - INFO - Creating preload: from libertem.executor.dask import worker_setup; worker_setup(resource=\"CPU\", device=23)\n",
      "2023-01-12 17:46:05,417 - distributed.utils - INFO - Reload module tmpytb0guza from .py file\n",
      "2023-01-12 17:46:05,429 - distributed.preloading - INFO - Creating preload: from libertem.executor.dask import worker_setup; worker_setup(resource=\"CPU\", device=11)\n",
      "2023-01-12 17:46:05,429 - distributed.utils - INFO - Reload module tmpoife_3ol from .py file\n",
      "2023-01-12 17:46:05,487 - distributed.preloading - INFO - Creating preload: from libertem.executor.dask import worker_setup; worker_setup(resource=\"CPU\", device=4)\n",
      "2023-01-12 17:46:05,488 - distributed.utils - INFO - Reload module tmpmisbl4qs from .py file\n",
      "2023-01-12 17:46:05,497 - distributed.preloading - INFO - Creating preload: from libertem.executor.dask import worker_setup; worker_setup(resource=\"CPU\", device=0)\n",
      "2023-01-12 17:46:05,498 - distributed.utils - INFO - Reload module tmpb2x08nyy from .py file\n",
      "2023-01-12 17:46:05,508 - distributed.preloading - INFO - Creating preload: from libertem.executor.dask import worker_setup; worker_setup(resource=\"CPU\", device=1)\n",
      "2023-01-12 17:46:05,509 - distributed.utils - INFO - Reload module tmpkr60pqdc from .py file\n",
      "2023-01-12 17:46:05,513 - distributed.preloading - INFO - Creating preload: from libertem.executor.dask import worker_setup; worker_setup(resource=\"CPU\", device=21)\n",
      "2023-01-12 17:46:05,514 - distributed.utils - INFO - Reload module tmpd0_y3dey from .py file\n",
      "2023-01-12 17:46:05,533 - distributed.preloading - INFO - Creating preload: from libertem.executor.dask import worker_setup; worker_setup(resource=\"CPU\", device=2)\n",
      "2023-01-12 17:46:05,534 - distributed.utils - INFO - Reload module tmp5xho_d85 from .py file\n",
      "2023-01-12 17:46:05,545 - distributed.preloading - INFO - Creating preload: from libertem.executor.dask import worker_setup; worker_setup(resource=\"CPU\", device=22)\n",
      "2023-01-12 17:46:05,546 - distributed.utils - INFO - Reload module tmp_g1o0i9j from .py file\n",
      "2023-01-12 17:46:05,560 - distributed.preloading - INFO - Creating preload: from libertem.executor.dask import worker_setup; worker_setup(resource=\"CPU\", device=7)\n",
      "2023-01-12 17:46:05,561 - distributed.utils - INFO - Reload module tmp96889rkw from .py file\n",
      "2023-01-12 17:46:05,569 - distributed.preloading - INFO - Creating preload: from libertem.executor.dask import worker_setup; worker_setup(resource=\"CPU\", device=17)\n",
      "2023-01-12 17:46:05,570 - distributed.utils - INFO - Reload module tmperpj6six from .py file\n",
      "2023-01-12 17:46:05,578 - distributed.preloading - INFO - Creating preload: from libertem.executor.dask import worker_setup; worker_setup(resource=\"CPU\", device=12)\n",
      "2023-01-12 17:46:05,578 - distributed.utils - INFO - Reload module tmpmi6p4hd4 from .py file\n"
     ]
    },
    {
     "name": "stderr",
     "output_type": "stream",
     "text": [
      "2023-01-12 17:46:05,590 - distributed.preloading - INFO - Creating preload: from libertem.executor.dask import worker_setup; worker_setup(resource=\"CPU\", device=8)\n",
      "2023-01-12 17:46:05,591 - distributed.utils - INFO - Reload module tmptm7nqrea from .py file\n",
      "2023-01-12 17:46:05,624 - distributed.preloading - INFO - Creating preload: from libertem.executor.dask import worker_setup; worker_setup(resource=\"CPU\", device=18)\n",
      "2023-01-12 17:46:05,625 - distributed.utils - INFO - Reload module tmphal63ifm from .py file\n",
      "2023-01-12 17:46:05,635 - distributed.preloading - INFO - Creating preload: from libertem.executor.dask import worker_setup; worker_setup(resource=\"CPU\", device=16)\n",
      "2023-01-12 17:46:05,635 - distributed.utils - INFO - Reload module tmp51es4m7y from .py file\n",
      "2023-01-12 17:46:05,638 - distributed.preloading - INFO - Creating preload: from libertem.executor.dask import worker_setup; worker_setup(resource=\"CPU\", device=5)\n",
      "2023-01-12 17:46:05,638 - distributed.utils - INFO - Reload module tmpm6jjgc2g from .py file\n",
      "2023-01-12 17:46:05,654 - distributed.preloading - INFO - Creating preload: from libertem.executor.dask import worker_setup; worker_setup(resource=\"CUDA\", device=0)\n",
      "2023-01-12 17:46:05,654 - distributed.utils - INFO - Reload module tmp7dxik48v from .py file\n",
      "2023-01-12 17:46:05,668 - distributed.preloading - INFO - Creating preload: from libertem.common.tracing import maybe_setup_tracing; maybe_setup_tracing(service_name='default-service-0', service_id='0')\n",
      "2023-01-12 17:46:05,668 - distributed.utils - INFO - Reload module tmpdflrcfx7 from .py file\n",
      "2023-01-12 17:46:05,684 - distributed.preloading - INFO - Creating preload: from libertem.executor.dask import worker_setup; worker_setup(resource=\"CPU\", device=19)\n",
      "2023-01-12 17:46:05,684 - distributed.utils - INFO - Reload module tmpviy6cifk from .py file\n",
      "2023-01-12 17:46:05,695 - distributed.preloading - INFO - Creating preload: from libertem.executor.dask import worker_setup; worker_setup(resource=\"CPU\", device=20)\n",
      "2023-01-12 17:46:05,695 - distributed.utils - INFO - Reload module tmp2m9aqbmc from .py file\n",
      "2023-01-12 17:46:05,702 - distributed.preloading - INFO - Import preload module: /tmp/tmpvq20t87c.py\n",
      "2023-01-12 17:46:05,702 - distributed.preloading - INFO - Creating preload: from libertem.common.tracing import maybe_setup_tracing; maybe_setup_tracing(service_name='default-cpu-3', service_id='3')\n",
      "2023-01-12 17:46:05,703 - distributed.utils - INFO - Reload module tmpldv3o8uz from .py file\n",
      "2023-01-12 17:46:05,703 - distributed.preloading - INFO - Import preload module: /tmp/tmpldv3o8uz.py\n",
      "2023-01-12 17:46:05,703 - distributed.preloading - INFO - Creating preload: libertem.preload\n",
      "2023-01-12 17:46:05,711 - distributed.preloading - INFO - Import preload module: /tmp/tmpbuwh2reh.py\n",
      "2023-01-12 17:46:05,711 - distributed.preloading - INFO - Creating preload: from libertem.common.tracing import maybe_setup_tracing; maybe_setup_tracing(service_name='default-cpu-9', service_id='9')\n",
      "2023-01-12 17:46:05,711 - distributed.utils - INFO - Reload module tmprcnfndre from .py file\n",
      "2023-01-12 17:46:05,711 - distributed.preloading - INFO - Import preload module: /tmp/tmprcnfndre.py\n",
      "2023-01-12 17:46:05,711 - distributed.preloading - INFO - Creating preload: libertem.preload\n",
      "2023-01-12 17:46:05,726 - distributed.preloading - INFO - Import preload module: /tmp/tmpihz62_ke.py\n",
      "2023-01-12 17:46:05,727 - distributed.preloading - INFO - Creating preload: from libertem.common.tracing import maybe_setup_tracing; maybe_setup_tracing(service_name='default-cpu-15', service_id='15')\n",
      "2023-01-12 17:46:05,727 - distributed.utils - INFO - Reload module tmpxb4v9o9k from .py file\n",
      "2023-01-12 17:46:05,727 - distributed.preloading - INFO - Import preload module: /tmp/tmpxb4v9o9k.py\n",
      "2023-01-12 17:46:05,728 - distributed.preloading - INFO - Creating preload: libertem.preload\n",
      "2023-01-12 17:46:05,740 - distributed.preloading - INFO - Import preload module: /tmp/tmpoife_3ol.py\n",
      "2023-01-12 17:46:05,740 - distributed.preloading - INFO - Creating preload: from libertem.common.tracing import maybe_setup_tracing; maybe_setup_tracing(service_name='default-cpu-11', service_id='11')\n",
      "2023-01-12 17:46:05,741 - distributed.utils - INFO - Reload module tmpfveh_50p from .py file\n",
      "2023-01-12 17:46:05,741 - distributed.preloading - INFO - Import preload module: /tmp/tmpfveh_50p.py\n",
      "2023-01-12 17:46:05,741 - distributed.preloading - INFO - Creating preload: libertem.preload\n",
      "2023-01-12 17:46:05,751 - distributed.preloading - INFO - Import preload module: libertem.preload\n",
      "2023-01-12 17:46:05,752 - distributed.preloading - INFO - Import preload module: /tmp/tmp_ir2g6re.py\n",
      "2023-01-12 17:46:05,752 - distributed.preloading - INFO - Creating preload: from libertem.common.tracing import maybe_setup_tracing; maybe_setup_tracing(service_name='default-cpu-6', service_id='6')\n",
      "2023-01-12 17:46:05,753 - distributed.utils - INFO - Reload module tmpu3u5hxmx from .py file\n",
      "2023-01-12 17:46:05,753 - distributed.preloading - INFO - Import preload module: /tmp/tmpu3u5hxmx.py\n",
      "2023-01-12 17:46:05,753 - distributed.preloading - INFO - Creating preload: libertem.preload\n",
      "2023-01-12 17:46:05,758 - distributed.preloading - INFO - Import preload module: libertem.preload\n",
      "2023-01-12 17:46:05,774 - distributed.preloading - INFO - Import preload module: /tmp/tmpuxnxe5ye.py\n",
      "2023-01-12 17:46:05,774 - distributed.preloading - INFO - Creating preload: from libertem.common.tracing import maybe_setup_tracing; maybe_setup_tracing(service_name='default-cpu-10', service_id='10')\n",
      "2023-01-12 17:46:05,775 - distributed.utils - INFO - Reload module tmpvauiztwl from .py file\n",
      "2023-01-12 17:46:05,775 - distributed.preloading - INFO - Import preload module: /tmp/tmpvauiztwl.py\n",
      "2023-01-12 17:46:05,775 - distributed.preloading - INFO - Creating preload: libertem.preload\n",
      "2023-01-12 17:46:05,777 - distributed.preloading - INFO - Import preload module: libertem.preload\n",
      "2023-01-12 17:46:05,788 - distributed.preloading - INFO - Import preload module: libertem.preload\n",
      "2023-01-12 17:46:05,795 - distributed.preloading - INFO - Import preload module: /tmp/tmpdnzwwr1z.py\n",
      "2023-01-12 17:46:05,795 - distributed.preloading - INFO - Creating preload: from libertem.common.tracing import maybe_setup_tracing; maybe_setup_tracing(service_name='default-cpu-13', service_id='13')\n",
      "2023-01-12 17:46:05,796 - distributed.utils - INFO - Reload module tmpgjceznef from .py file\n",
      "2023-01-12 17:46:05,796 - distributed.preloading - INFO - Import preload module: /tmp/tmpgjceznef.py\n",
      "2023-01-12 17:46:05,796 - distributed.preloading - INFO - Creating preload: libertem.preload\n",
      "2023-01-12 17:46:05,798 - distributed.preloading - INFO - Import preload module: /tmp/tmpqkldlogs.py\n",
      "2023-01-12 17:46:05,799 - distributed.preloading - INFO - Creating preload: from libertem.common.tracing import maybe_setup_tracing; maybe_setup_tracing(service_name='default-cpu-14', service_id='14')\n",
      "2023-01-12 17:46:05,799 - distributed.utils - INFO - Reload module tmp_10g0lb9 from .py file\n",
      "2023-01-12 17:46:05,799 - distributed.preloading - INFO - Import preload module: libertem.preload\n",
      "2023-01-12 17:46:05,800 - distributed.preloading - INFO - Import preload module: /tmp/tmp_10g0lb9.py\n",
      "2023-01-12 17:46:05,800 - distributed.preloading - INFO - Creating preload: libertem.preload\n",
      "2023-01-12 17:46:05,823 - distributed.preloading - INFO - Import preload module: /tmp/tmpd0_y3dey.py\n",
      "2023-01-12 17:46:05,823 - distributed.preloading - INFO - Creating preload: from libertem.common.tracing import maybe_setup_tracing; maybe_setup_tracing(service_name='default-cpu-21', service_id='21')\n",
      "2023-01-12 17:46:05,824 - distributed.utils - INFO - Reload module tmpkybfwbvj from .py file\n",
      "2023-01-12 17:46:05,824 - distributed.preloading - INFO - Import preload module: libertem.preload\n",
      "2023-01-12 17:46:05,824 - distributed.preloading - INFO - Import preload module: /tmp/tmpkybfwbvj.py\n",
      "2023-01-12 17:46:05,824 - distributed.preloading - INFO - Creating preload: libertem.preload\n",
      "2023-01-12 17:46:05,833 - distributed.preloading - INFO - Import preload module: /tmp/tmpb2x08nyy.py\n",
      "2023-01-12 17:46:05,834 - distributed.preloading - INFO - Creating preload: from libertem.common.tracing import maybe_setup_tracing; maybe_setup_tracing(service_name='default-cpu-0', service_id='0')\n",
      "2023-01-12 17:46:05,834 - distributed.utils - INFO - Reload module tmp3gswzo_c from .py file\n",
      "2023-01-12 17:46:05,835 - distributed.preloading - INFO - Import preload module: /tmp/tmp3gswzo_c.py\n",
      "2023-01-12 17:46:05,835 - distributed.preloading - INFO - Creating preload: libertem.preload\n",
      "2023-01-12 17:46:05,838 - distributed.preloading - INFO - Import preload module: /tmp/tmp5xho_d85.py\n",
      "2023-01-12 17:46:05,838 - distributed.preloading - INFO - Creating preload: from libertem.common.tracing import maybe_setup_tracing; maybe_setup_tracing(service_name='default-cpu-2', service_id='2')\n",
      "2023-01-12 17:46:05,838 - distributed.utils - INFO - Reload module tmp9gf7ci5j from .py file\n",
      "2023-01-12 17:46:05,839 - distributed.preloading - INFO - Import preload module: /tmp/tmp9gf7ci5j.py\n",
      "2023-01-12 17:46:05,839 - distributed.preloading - INFO - Creating preload: libertem.preload\n",
      "2023-01-12 17:46:05,842 - distributed.preloading - INFO - Import preload module: /tmp/tmpytb0guza.py\n",
      "2023-01-12 17:46:05,842 - distributed.preloading - INFO - Creating preload: from libertem.common.tracing import maybe_setup_tracing; maybe_setup_tracing(service_name='default-cpu-23', service_id='23')\n",
      "2023-01-12 17:46:05,843 - distributed.utils - INFO - Reload module tmp1jg1317i from .py file\n",
      "2023-01-12 17:46:05,843 - distributed.preloading - INFO - Import preload module: /tmp/tmp1jg1317i.py\n",
      "2023-01-12 17:46:05,843 - distributed.preloading - INFO - Creating preload: libertem.preload\n",
      "2023-01-12 17:46:05,846 - distributed.preloading - INFO - Import preload module: /tmp/tmpmisbl4qs.py\n",
      "2023-01-12 17:46:05,846 - distributed.preloading - INFO - Creating preload: from libertem.common.tracing import maybe_setup_tracing; maybe_setup_tracing(service_name='default-cpu-4', service_id='4')\n",
      "2023-01-12 17:46:05,846 - distributed.utils - INFO - Reload module tmps7r31uyx from .py file\n",
      "2023-01-12 17:46:05,846 - distributed.preloading - INFO - Import preload module: /tmp/tmps7r31uyx.py\n",
      "2023-01-12 17:46:05,847 - distributed.preloading - INFO - Creating preload: libertem.preload\n",
      "2023-01-12 17:46:05,848 - distributed.preloading - INFO - Import preload module: libertem.preload\n",
      "2023-01-12 17:46:05,861 - distributed.preloading - INFO - Import preload module: libertem.preload\n",
      "2023-01-12 17:46:05,872 - distributed.preloading - INFO - Import preload module: /tmp/tmp96889rkw.py\n",
      "2023-01-12 17:46:05,872 - distributed.preloading - INFO - Creating preload: from libertem.common.tracing import maybe_setup_tracing; maybe_setup_tracing(service_name='default-cpu-7', service_id='7')\n",
      "2023-01-12 17:46:05,873 - distributed.utils - INFO - Reload module tmpk5bfxky5 from .py file\n",
      "2023-01-12 17:46:05,873 - distributed.preloading - INFO - Import preload module: libertem.preload\n",
      "2023-01-12 17:46:05,873 - distributed.preloading - INFO - Import preload module: /tmp/tmpk5bfxky5.py\n",
      "2023-01-12 17:46:05,873 - distributed.preloading - INFO - Creating preload: libertem.preload\n",
      "2023-01-12 17:46:05,882 - distributed.preloading - INFO - Import preload module: libertem.preload\n",
      "2023-01-12 17:46:05,885 - distributed.preloading - INFO - Import preload module: /tmp/tmp_g1o0i9j.py\n",
      "2023-01-12 17:46:05,886 - distributed.preloading - INFO - Creating preload: from libertem.common.tracing import maybe_setup_tracing; maybe_setup_tracing(service_name='default-cpu-22', service_id='22')\n",
      "2023-01-12 17:46:05,886 - distributed.utils - INFO - Reload module tmped1jm29u from .py file\n",
      "2023-01-12 17:46:05,886 - distributed.preloading - INFO - Import preload module: /tmp/tmped1jm29u.py\n",
      "2023-01-12 17:46:05,886 - distributed.preloading - INFO - Creating preload: libertem.preload\n",
      "2023-01-12 17:46:05,888 - distributed.preloading - INFO - Import preload module: libertem.preload\n",
      "2023-01-12 17:46:05,889 - distributed.preloading - INFO - Import preload module: /tmp/tmpmi6p4hd4.py\n",
      "2023-01-12 17:46:05,889 - distributed.preloading - INFO - Creating preload: from libertem.common.tracing import maybe_setup_tracing; maybe_setup_tracing(service_name='default-cpu-12', service_id='12')\n",
      "2023-01-12 17:46:05,890 - distributed.utils - INFO - Reload module tmpcaujv2ru from .py file\n",
      "2023-01-12 17:46:05,890 - distributed.preloading - INFO - Import preload module: /tmp/tmpcaujv2ru.py\n",
      "2023-01-12 17:46:05,890 - distributed.preloading - INFO - Creating preload: libertem.preload\n",
      "2023-01-12 17:46:05,891 - distributed.preloading - INFO - Import preload module: libertem.preload\n",
      "2023-01-12 17:46:05,893 - distributed.preloading - INFO - Import preload module: libertem.preload\n",
      "2023-01-12 17:46:05,902 - distributed.preloading - INFO - Import preload module: /tmp/tmperpj6six.py\n",
      "2023-01-12 17:46:05,903 - distributed.preloading - INFO - Creating preload: from libertem.common.tracing import maybe_setup_tracing; maybe_setup_tracing(service_name='default-cpu-17', service_id='17')\n",
      "2023-01-12 17:46:05,903 - distributed.utils - INFO - Reload module tmp1vkqo7xe from .py file\n",
      "2023-01-12 17:46:05,904 - distributed.preloading - INFO - Import preload module: /tmp/tmp1vkqo7xe.py\n",
      "2023-01-12 17:46:05,904 - distributed.preloading - INFO - Creating preload: libertem.preload\n",
      "2023-01-12 17:46:05,907 - distributed.preloading - INFO - Import preload module: /tmp/tmpkr60pqdc.py\n",
      "2023-01-12 17:46:05,907 - distributed.preloading - INFO - Creating preload: from libertem.common.tracing import maybe_setup_tracing; maybe_setup_tracing(service_name='default-cpu-1', service_id='1')\n",
      "2023-01-12 17:46:05,908 - distributed.utils - INFO - Reload module tmpsj9s8a10 from .py file\n",
      "2023-01-12 17:46:05,908 - distributed.preloading - INFO - Import preload module: /tmp/tmpsj9s8a10.py\n",
      "2023-01-12 17:46:05,908 - distributed.preloading - INFO - Creating preload: libertem.preload\n",
      "2023-01-12 17:46:05,916 - distributed.preloading - INFO - Import preload module: /tmp/tmpdflrcfx7.py\n",
      "2023-01-12 17:46:05,916 - distributed.preloading - INFO - Creating preload: libertem.preload\n",
      "2023-01-12 17:46:05,922 - distributed.preloading - INFO - Import preload module: libertem.preload\n",
      "2023-01-12 17:46:05,927 - distributed.preloading - INFO - Import preload module: /tmp/tmptm7nqrea.py\n",
      "2023-01-12 17:46:05,927 - distributed.preloading - INFO - Creating preload: from libertem.common.tracing import maybe_setup_tracing; maybe_setup_tracing(service_name='default-cpu-8', service_id='8')\n",
      "2023-01-12 17:46:05,927 - distributed.utils - INFO - Reload module tmpbvt5qpp4 from .py file\n",
      "2023-01-12 17:46:05,927 - distributed.preloading - INFO - Import preload module: /tmp/tmpbvt5qpp4.py\n",
      "2023-01-12 17:46:05,928 - distributed.preloading - INFO - Creating preload: libertem.preload\n",
      "2023-01-12 17:46:05,937 - distributed.preloading - INFO - Import preload module: libertem.preload\n",
      "2023-01-12 17:46:05,937 - distributed.preloading - INFO - Import preload module: libertem.preload\n"
     ]
    },
    {
     "name": "stderr",
     "output_type": "stream",
     "text": [
      "2023-01-12 17:46:05,951 - distributed.preloading - INFO - Import preload module: /tmp/tmpm6jjgc2g.py\n",
      "2023-01-12 17:46:05,951 - distributed.preloading - INFO - Creating preload: from libertem.common.tracing import maybe_setup_tracing; maybe_setup_tracing(service_name='default-cpu-5', service_id='5')\n",
      "2023-01-12 17:46:05,951 - distributed.utils - INFO - Reload module tmpwrkxfs_9 from .py file\n",
      "2023-01-12 17:46:05,952 - distributed.preloading - INFO - Import preload module: /tmp/tmpwrkxfs_9.py\n",
      "2023-01-12 17:46:05,952 - distributed.preloading - INFO - Creating preload: libertem.preload\n",
      "2023-01-12 17:46:05,952 - distributed.preloading - INFO - Import preload module: /tmp/tmphal63ifm.py\n",
      "2023-01-12 17:46:05,952 - distributed.preloading - INFO - Creating preload: from libertem.common.tracing import maybe_setup_tracing; maybe_setup_tracing(service_name='default-cpu-18', service_id='18')\n",
      "2023-01-12 17:46:05,952 - distributed.utils - INFO - Reload module tmpev6kwut7 from .py file\n",
      "2023-01-12 17:46:05,953 - distributed.preloading - INFO - Import preload module: /tmp/tmpev6kwut7.py\n",
      "2023-01-12 17:46:05,953 - distributed.preloading - INFO - Creating preload: libertem.preload\n",
      "2023-01-12 17:46:05,963 - distributed.preloading - INFO - Import preload module: libertem.preload\n",
      "2023-01-12 17:46:05,969 - distributed.preloading - INFO - Import preload module: libertem.preload\n",
      "2023-01-12 17:46:05,972 - distributed.preloading - INFO - Import preload module: /tmp/tmp51es4m7y.py\n",
      "2023-01-12 17:46:05,972 - distributed.preloading - INFO - Creating preload: from libertem.common.tracing import maybe_setup_tracing; maybe_setup_tracing(service_name='default-cpu-16', service_id='16')\n",
      "2023-01-12 17:46:05,972 - distributed.utils - INFO - Reload module tmpwxktz161 from .py file\n",
      "2023-01-12 17:46:05,973 - distributed.preloading - INFO - Import preload module: /tmp/tmpwxktz161.py\n",
      "2023-01-12 17:46:05,973 - distributed.preloading - INFO - Creating preload: libertem.preload\n",
      "2023-01-12 17:46:05,975 - distributed.preloading - INFO - Import preload module: libertem.preload\n",
      "2023-01-12 17:46:05,978 - distributed.preloading - INFO - Import preload module: libertem.preload\n",
      "2023-01-12 17:46:05,998 - distributed.preloading - INFO - Import preload module: libertem.preload\n",
      "2023-01-12 17:46:05,999 - distributed.preloading - INFO - Import preload module: libertem.preload\n",
      "2023-01-12 17:46:06,004 - distributed.preloading - INFO - Import preload module: /tmp/tmpviy6cifk.py\n",
      "2023-01-12 17:46:06,004 - distributed.preloading - INFO - Creating preload: from libertem.common.tracing import maybe_setup_tracing; maybe_setup_tracing(service_name='default-cpu-19', service_id='19')\n",
      "2023-01-12 17:46:06,005 - distributed.utils - INFO - Reload module tmp3palcnaf from .py file\n",
      "2023-01-12 17:46:06,005 - distributed.preloading - INFO - Import preload module: /tmp/tmp3palcnaf.py\n",
      "2023-01-12 17:46:06,005 - distributed.preloading - INFO - Creating preload: libertem.preload\n",
      "2023-01-12 17:46:06,009 - distributed.preloading - INFO - Import preload module: /tmp/tmp2m9aqbmc.py\n",
      "2023-01-12 17:46:06,009 - distributed.preloading - INFO - Creating preload: from libertem.common.tracing import maybe_setup_tracing; maybe_setup_tracing(service_name='default-cpu-20', service_id='20')\n",
      "2023-01-12 17:46:06,010 - distributed.utils - INFO - Reload module tmpp262uu1b from .py file\n",
      "2023-01-12 17:46:06,010 - distributed.preloading - INFO - Import preload module: /tmp/tmpp262uu1b.py\n",
      "2023-01-12 17:46:06,010 - distributed.preloading - INFO - Creating preload: libertem.preload\n",
      "2023-01-12 17:46:06,017 - distributed.preloading - INFO - Import preload module: libertem.preload\n",
      "2023-01-12 17:46:06,050 - distributed.preloading - INFO - Import preload module: libertem.preload\n",
      "2023-01-12 17:46:06,056 - distributed.preloading - INFO - Import preload module: libertem.preload\n",
      "2023-01-12 17:46:06,082 - distributed.preloading - INFO - Import preload module: /tmp/tmp7dxik48v.py\n",
      "2023-01-12 17:46:06,083 - distributed.preloading - INFO - Creating preload: from libertem.common.tracing import maybe_setup_tracing; maybe_setup_tracing(service_name='default-cuda-0', service_id='0')\n",
      "2023-01-12 17:46:06,083 - distributed.utils - INFO - Reload module tmp4vr8ur2u from .py file\n",
      "2023-01-12 17:46:06,083 - distributed.preloading - INFO - Import preload module: /tmp/tmp4vr8ur2u.py\n",
      "2023-01-12 17:46:06,083 - distributed.preloading - INFO - Creating preload: libertem.preload\n",
      "2023-01-12 17:46:06,128 - distributed.preloading - INFO - Import preload module: libertem.preload\n"
     ]
    }
   ],
   "source": [
    "ctx = Context()"
   ]
  },
  {
   "cell_type": "markdown",
   "id": "76f4c9d7",
   "metadata": {},
   "source": [
    "## Generate test data\n",
    "Just a folded linear gradient for illustration"
   ]
  },
  {
   "cell_type": "code",
   "execution_count": 4,
   "id": "c7b3bbd1",
   "metadata": {
    "execution": {
     "iopub.execute_input": "2022-11-03T13:25:59.632485Z",
     "iopub.status.busy": "2022-11-03T13:25:59.632224Z",
     "iopub.status.idle": "2022-11-03T13:25:59.635288Z",
     "shell.execute_reply": "2022-11-03T13:25:59.634963Z"
    }
   },
   "outputs": [],
   "source": [
    "shape = (17, 19, 23, 29)\n",
    "data = np.linspace(0, 1, np.prod(shape, dtype=np.int64)).reshape(shape)"
   ]
  },
  {
   "cell_type": "code",
   "execution_count": 5,
   "id": "09b0a029",
   "metadata": {
    "execution": {
     "iopub.execute_input": "2022-11-03T13:25:59.637089Z",
     "iopub.status.busy": "2022-11-03T13:25:59.636768Z",
     "iopub.status.idle": "2022-11-03T13:25:59.772189Z",
     "shell.execute_reply": "2022-11-03T13:25:59.771677Z"
    }
   },
   "outputs": [],
   "source": [
    "ds = ctx.load('memory', data=data)"
   ]
  },
  {
   "cell_type": "markdown",
   "id": "49d56fc5",
   "metadata": {},
   "source": [
    "## Define the binning factor and determine target shape"
   ]
  },
  {
   "cell_type": "code",
   "execution_count": 6,
   "id": "8d7edcb0",
   "metadata": {
    "execution": {
     "iopub.execute_input": "2022-11-03T13:25:59.774182Z",
     "iopub.status.busy": "2022-11-03T13:25:59.774041Z",
     "iopub.status.idle": "2022-11-03T13:25:59.776278Z",
     "shell.execute_reply": "2022-11-03T13:25:59.775952Z"
    }
   },
   "outputs": [],
   "source": [
    "bin_factor = 4"
   ]
  },
  {
   "cell_type": "code",
   "execution_count": 7,
   "id": "5cb59344",
   "metadata": {
    "execution": {
     "iopub.execute_input": "2022-11-03T13:25:59.777865Z",
     "iopub.status.busy": "2022-11-03T13:25:59.777734Z",
     "iopub.status.idle": "2022-11-03T13:25:59.780766Z",
     "shell.execute_reply": "2022-11-03T13:25:59.780432Z"
    }
   },
   "outputs": [],
   "source": [
    "# ceil() to include output bins that only fit partially into the\n",
    "# source frame\n",
    "size_y = int(np.ceil(ds.shape.sig[0] / bin_factor))\n",
    "size_x = int(np.ceil(ds.shape.sig[1] / bin_factor))"
   ]
  },
  {
   "cell_type": "markdown",
   "id": "698b2e6b",
   "metadata": {},
   "source": [
    "## Create a sparse matrix for binning\n",
    "Each layer corresponds to an output bin. We calculate which pixels are in each output bin."
   ]
  },
  {
   "cell_type": "code",
   "execution_count": 8,
   "id": "2000c674",
   "metadata": {
    "execution": {
     "iopub.execute_input": "2022-11-03T13:25:59.782646Z",
     "iopub.status.busy": "2022-11-03T13:25:59.782315Z",
     "iopub.status.idle": "2022-11-03T13:25:59.790778Z",
     "shell.execute_reply": "2022-11-03T13:25:59.790459Z"
    }
   },
   "outputs": [],
   "source": [
    "bin_matrix_layers = []\n",
    "for y in range(size_y):\n",
    "    for x in range(size_x):\n",
    "        layer = np.zeros(ds.shape.sig)\n",
    "        start_y = y * bin_factor\n",
    "        stop_y = (y + 1) * bin_factor\n",
    "        start_x = x * bin_factor\n",
    "        stop_x = (x + 1) * bin_factor\n",
    "        layer[start_y:stop_y, start_x:stop_x] = 1\n",
    "        layer /= np.sum(layer)\n",
    "        bin_matrix_layers.append(sparse.COO(layer))\n",
    "bin_matrix = sparse.stack(bin_matrix_layers)"
   ]
  },
  {
   "cell_type": "code",
   "execution_count": 9,
   "id": "415eeb91",
   "metadata": {
    "execution": {
     "iopub.execute_input": "2022-11-03T13:25:59.792404Z",
     "iopub.status.busy": "2022-11-03T13:25:59.792276Z",
     "iopub.status.idle": "2022-11-03T13:25:59.794373Z",
     "shell.execute_reply": "2022-11-03T13:25:59.794057Z"
    }
   },
   "outputs": [],
   "source": [
    "def mask_factory():\n",
    "    return bin_matrix"
   ]
  },
  {
   "cell_type": "markdown",
   "id": "cb27f219",
   "metadata": {},
   "source": [
    "## Apply the matrix"
   ]
  },
  {
   "cell_type": "code",
   "execution_count": 10,
   "id": "aeac970e",
   "metadata": {
    "execution": {
     "iopub.execute_input": "2022-11-03T13:25:59.796045Z",
     "iopub.status.busy": "2022-11-03T13:25:59.795916Z",
     "iopub.status.idle": "2022-11-03T13:26:00.693373Z",
     "shell.execute_reply": "2022-11-03T13:26:00.692844Z"
    }
   },
   "outputs": [
    {
     "data": {
      "application/vnd.jupyter.widget-view+json": {
       "model_id": "b7e0964381254484936b9486200486df",
       "version_major": 2,
       "version_minor": 0
      },
      "text/plain": [
       "Partitions 0/24, Frames:   0%|          | 0/323 [00:00<?, ?it/s]"
      ]
     },
     "metadata": {},
     "output_type": "display_data"
    },
    {
     "name": "stderr",
     "output_type": "stream",
     "text": [
      "/home/weber/miniconda3/envs/libertem39/lib/python3.9/site-packages/distributed/worker.py:2988: UserWarning: Large object of size 1.65 MiB detected in task graph: \n",
      "  (<UDFTask [<class 'libertem.udf.masks.ApplyMasksUD ... -cf73ad3e178c')\n",
      "Consider scattering large objects ahead of time\n",
      "with client.scatter to reduce scheduler burden and \n",
      "keep data on workers\n",
      "\n",
      "    future = client.submit(func, big_data)    # bad\n",
      "\n",
      "    big_future = client.scatter(big_data)     # good\n",
      "    future = client.submit(func, big_future)  # good\n",
      "  warnings.warn(\n"
     ]
    }
   ],
   "source": [
    "udf = ApplyMasksUDF(mask_factories=mask_factory)\n",
    "result = ctx.run_udf(dataset=ds, udf=udf, progress=True)"
   ]
  },
  {
   "cell_type": "markdown",
   "id": "aee221ec",
   "metadata": {},
   "source": [
    "## Reshape and show result"
   ]
  },
  {
   "cell_type": "code",
   "execution_count": 11,
   "id": "f72bf444",
   "metadata": {
    "execution": {
     "iopub.execute_input": "2022-11-03T13:26:00.695349Z",
     "iopub.status.busy": "2022-11-03T13:26:00.695205Z",
     "iopub.status.idle": "2022-11-03T13:26:00.698129Z",
     "shell.execute_reply": "2022-11-03T13:26:00.697572Z"
    }
   },
   "outputs": [],
   "source": [
    "reshaped_result = result['intensity'].raw_data.reshape(*ds.shape.nav, size_y, size_x)"
   ]
  },
  {
   "cell_type": "code",
   "execution_count": 12,
   "id": "87587e92",
   "metadata": {
    "execution": {
     "iopub.execute_input": "2022-11-03T13:26:00.700291Z",
     "iopub.status.busy": "2022-11-03T13:26:00.699754Z",
     "iopub.status.idle": "2022-11-03T13:26:00.860247Z",
     "shell.execute_reply": "2022-11-03T13:26:00.859709Z"
    }
   },
   "outputs": [
    {
     "data": {
      "text/plain": [
       "<matplotlib.image.AxesImage at 0x7fd5d874f3d0>"
      ]
     },
     "execution_count": 12,
     "metadata": {},
     "output_type": "execute_result"
    },
    {
     "data": {
      "image/png": "[encoded data removed]",
      "text/plain": [
       "<Figure size 640x480 with 2 Axes>"
      ]
     },
     "metadata": {},
     "output_type": "display_data"
    }
   ],
   "source": [
    "fig, axes = plt.subplots(1, 2)\n",
    "axes[0].imshow(data[0, 0])\n",
    "axes[1].imshow(reshaped_result[0, 0])"
   ]
  },
  {
   "cell_type": "code",
   "execution_count": null,
   "id": "e482d845",
   "metadata": {},
   "outputs": [],
   "source": []
  }
 ],
 "metadata": {
  "kernelspec": {
   "display_name": "Python (libertem39)",
   "language": "python",
   "name": "libertem39"
  },
  "language_info": {
   "codemirror_mode": {
    "name": "ipython",
    "version": 3
   },
   "file_extension": ".py",
   "mimetype": "text/x-python",
   "name": "python",
   "nbconvert_exporter": "python",
   "pygments_lexer": "ipython3",
   "version": "3.9.15"
  },
  "vscode": {
   "interpreter": {
    "hash": "916dbcbb3f70747c44a77c7bcd40155683ae19c65e1c03b4aa3499c5328201f1"
   }
  },
  "widgets": {
   "application/vnd.jupyter.widget-state+json": {
    "state": {
     "0edea1a7b3f9439c81878ca92714c6a6": {
      "model_module": "@jupyter-widgets/base",
      "model_module_version": "2.0.0",
      "model_name": "LayoutModel",
      "state": {
       "_model_module": "@jupyter-widgets/base",
       "_model_module_version": "2.0.0",
       "_model_name": "LayoutModel",
       "_view_count": null,
       "_view_module": "@jupyter-widgets/base",
       "_view_module_version": "2.0.0",
       "_view_name": "LayoutView",
       "align_content": null,
       "align_items": null,
       "align_self": null,
       "border_bottom": null,
       "border_left": null,
       "border_right": null,
       "border_top": null,
       "bottom": null,
       "display": null,
       "flex": null,
       "flex_flow": null,
       "grid_area": null,
       "grid_auto_columns": null,
       "grid_auto_flow": null,
       "grid_auto_rows": null,
       "grid_column": null,
       "grid_gap": null,
       "grid_row": null,
       "grid_template_areas": null,
       "grid_template_columns": null,
       "grid_template_rows": null,
       "height": null,
       "justify_content": null,
       "justify_items": null,
       "left": null,
       "margin": null,
       "max_height": null,
       "max_width": null,
       "min_height": null,
       "min_width": null,
       "object_fit": null,
       "object_position": null,
       "order": null,
       "overflow": null,
       "padding": null,
       "right": null,
       "top": null,
       "visibility": null,
       "width": null
      }
     },
     "4577eb6e1d6d4b908ff97fa99936fe94": {
      "model_module": "@jupyter-widgets/base",
      "model_module_version": "2.0.0",
      "model_name": "LayoutModel",
      "state": {
       "_model_module": "@jupyter-widgets/base",
       "_model_module_version": "2.0.0",
       "_model_name": "LayoutModel",
       "_view_count": null,
       "_view_module": "@jupyter-widgets/base",
       "_view_module_version": "2.0.0",
       "_view_name": "LayoutView",
       "align_content": null,
       "align_items": null,
       "align_self": null,
       "border_bottom": null,
       "border_left": null,
       "border_right": null,
       "border_top": null,
       "bottom": null,
       "display": null,
       "flex": null,
       "flex_flow": null,
       "grid_area": null,
       "grid_auto_columns": null,
       "grid_auto_flow": null,
       "grid_auto_rows": null,
       "grid_column": null,
       "grid_gap": null,
       "grid_row": null,
       "grid_template_areas": null,
       "grid_template_columns": null,
       "grid_template_rows": null,
       "height": null,
       "justify_content": null,
       "justify_items": null,
       "left": null,
       "margin": null,
       "max_height": null,
       "max_width": null,
       "min_height": null,
       "min_width": null,
       "object_fit": null,
       "object_position": null,
       "order": null,
       "overflow": null,
       "padding": null,
       "right": null,
       "top": null,
       "visibility": null,
       "width": null
      }
     },
     "8ab31e7ff97c4eff889707ee9f25954e": {
      "model_module": "@jupyter-widgets/controls",
      "model_module_version": "2.0.0",
      "model_name": "HTMLModel",
      "state": {
       "_dom_classes": [],
       "_model_module": "@jupyter-widgets/controls",
       "_model_module_version": "2.0.0",
       "_model_name": "HTMLModel",
       "_view_count": null,
       "_view_module": "@jupyter-widgets/controls",
       "_view_module_version": "2.0.0",
       "_view_name": "HTMLView",
       "description": "",
       "description_allow_html": false,
       "layout": "IPY_MODEL_9cef5981787f4fa1a8f1cba25fb02057",
       "placeholder": "​",
       "style": "IPY_MODEL_d5162760361b4d0e88609d4568ec65a3",
       "tabbable": null,
       "tooltip": null,
       "value": " 323/323 [00:00&lt;00:00, 455.14it/s]"
      }
     },
     "8d51d993dadb4356b6b520c11da7c2e9": {
      "model_module": "@jupyter-widgets/controls",
      "model_module_version": "2.0.0",
      "model_name": "FloatProgressModel",
      "state": {
       "_dom_classes": [],
       "_model_module": "@jupyter-widgets/controls",
       "_model_module_version": "2.0.0",
       "_model_name": "FloatProgressModel",
       "_view_count": null,
       "_view_module": "@jupyter-widgets/controls",
       "_view_module_version": "2.0.0",
       "_view_name": "ProgressView",
       "bar_style": "success",
       "description": "",
       "description_allow_html": false,
       "layout": "IPY_MODEL_0edea1a7b3f9439c81878ca92714c6a6",
       "max": 323,
       "min": 0,
       "orientation": "horizontal",
       "style": "IPY_MODEL_e3ca57a97e4043d4bfb6d319da6c622b",
       "tabbable": null,
       "tooltip": null,
       "value": 323
      }
     },
     "9029edbecd764bc2aa808119b230e3a3": {
      "model_module": "@jupyter-widgets/controls",
      "model_module_version": "2.0.0",
      "model_name": "HBoxModel",
      "state": {
       "_dom_classes": [],
       "_model_module": "@jupyter-widgets/controls",
       "_model_module_version": "2.0.0",
       "_model_name": "HBoxModel",
       "_view_count": null,
       "_view_module": "@jupyter-widgets/controls",
       "_view_module_version": "2.0.0",
       "_view_name": "HBoxView",
       "box_style": "",
       "children": [
        "IPY_MODEL_a1e4faeb4bc54bdb9b61b8d443186248",
        "IPY_MODEL_8d51d993dadb4356b6b520c11da7c2e9",
        "IPY_MODEL_8ab31e7ff97c4eff889707ee9f25954e"
       ],
       "layout": "IPY_MODEL_4577eb6e1d6d4b908ff97fa99936fe94",
       "tabbable": null,
       "tooltip": null
      }
     },
     "94879016376b4d70888c6611763465bf": {
      "model_module": "@jupyter-widgets/base",
      "model_module_version": "2.0.0",
      "model_name": "LayoutModel",
      "state": {
       "_model_module": "@jupyter-widgets/base",
       "_model_module_version": "2.0.0",
       "_model_name": "LayoutModel",
       "_view_count": null,
       "_view_module": "@jupyter-widgets/base",
       "_view_module_version": "2.0.0",
       "_view_name": "LayoutView",
       "align_content": null,
       "align_items": null,
       "align_self": null,
       "border_bottom": null,
       "border_left": null,
       "border_right": null,
       "border_top": null,
       "bottom": null,
       "display": null,
       "flex": null,
       "flex_flow": null,
       "grid_area": null,
       "grid_auto_columns": null,
       "grid_auto_flow": null,
       "grid_auto_rows": null,
       "grid_column": null,
       "grid_gap": null,
       "grid_row": null,
       "grid_template_areas": null,
       "grid_template_columns": null,
       "grid_template_rows": null,
       "height": null,
       "justify_content": null,
       "justify_items": null,
       "left": null,
       "margin": null,
       "max_height": null,
       "max_width": null,
       "min_height": null,
       "min_width": null,
       "object_fit": null,
       "object_position": null,
       "order": null,
       "overflow": null,
       "padding": null,
       "right": null,
       "top": null,
       "visibility": null,
       "width": null
      }
     },
     "9cef5981787f4fa1a8f1cba25fb02057": {
      "model_module": "@jupyter-widgets/base",
      "model_module_version": "2.0.0",
      "model_name": "LayoutModel",
      "state": {
       "_model_module": "@jupyter-widgets/base",
       "_model_module_version": "2.0.0",
       "_model_name": "LayoutModel",
       "_view_count": null,
       "_view_module": "@jupyter-widgets/base",
       "_view_module_version": "2.0.0",
       "_view_name": "LayoutView",
       "align_content": null,
       "align_items": null,
       "align_self": null,
       "border_bottom": null,
       "border_left": null,
       "border_right": null,
       "border_top": null,
       "bottom": null,
       "display": null,
       "flex": null,
       "flex_flow": null,
       "grid_area": null,
       "grid_auto_columns": null,
       "grid_auto_flow": null,
       "grid_auto_rows": null,
       "grid_column": null,
       "grid_gap": null,
       "grid_row": null,
       "grid_template_areas": null,
       "grid_template_columns": null,
       "grid_template_rows": null,
       "height": null,
       "justify_content": null,
       "justify_items": null,
       "left": null,
       "margin": null,
       "max_height": null,
       "max_width": null,
       "min_height": null,
       "min_width": null,
       "object_fit": null,
       "object_position": null,
       "order": null,
       "overflow": null,
       "padding": null,
       "right": null,
       "top": null,
       "visibility": null,
       "width": null
      }
     },
     "a1e4faeb4bc54bdb9b61b8d443186248": {
      "model_module": "@jupyter-widgets/controls",
      "model_module_version": "2.0.0",
      "model_name": "HTMLModel",
      "state": {
       "_dom_classes": [],
       "_model_module": "@jupyter-widgets/controls",
       "_model_module_version": "2.0.0",
       "_model_name": "HTMLModel",
       "_view_count": null,
       "_view_module": "@jupyter-widgets/controls",
       "_view_module_version": "2.0.0",
       "_view_name": "HTMLView",
       "description": "",
       "description_allow_html": false,
       "layout": "IPY_MODEL_94879016376b4d70888c6611763465bf",
       "placeholder": "​",
       "style": "IPY_MODEL_cd9ffbbea1834afaa77a4ffb11d2cfd9",
       "tabbable": null,
       "tooltip": null,
       "value": "Partitions 24/24, Frames: 100%"
      }
     },
     "cd9ffbbea1834afaa77a4ffb11d2cfd9": {
      "model_module": "@jupyter-widgets/controls",
      "model_module_version": "2.0.0",
      "model_name": "HTMLStyleModel",
      "state": {
       "_model_module": "@jupyter-widgets/controls",
       "_model_module_version": "2.0.0",
       "_model_name": "HTMLStyleModel",
       "_view_count": null,
       "_view_module": "@jupyter-widgets/base",
       "_view_module_version": "2.0.0",
       "_view_name": "StyleView",
       "background": null,
       "description_width": "",
       "font_size": null,
       "text_color": null
      }
     },
     "d5162760361b4d0e88609d4568ec65a3": {
      "model_module": "@jupyter-widgets/controls",
      "model_module_version": "2.0.0",
      "model_name": "HTMLStyleModel",
      "state": {
       "_model_module": "@jupyter-widgets/controls",
       "_model_module_version": "2.0.0",
       "_model_name": "HTMLStyleModel",
       "_view_count": null,
       "_view_module": "@jupyter-widgets/base",
       "_view_module_version": "2.0.0",
       "_view_name": "StyleView",
       "background": null,
       "description_width": "",
       "font_size": null,
       "text_color": null
      }
     },
     "e3ca57a97e4043d4bfb6d319da6c622b": {
      "model_module": "@jupyter-widgets/controls",
      "model_module_version": "2.0.0",
      "model_name": "ProgressStyleModel",
      "state": {
       "_model_module": "@jupyter-widgets/controls",
       "_model_module_version": "2.0.0",
       "_model_name": "ProgressStyleModel",
       "_view_count": null,
       "_view_module": "@jupyter-widgets/base",
       "_view_module_version": "2.0.0",
       "_view_name": "StyleView",
       "bar_color": null,
       "description_width": ""
      }
     }
    },
    "version_major": 2,
    "version_minor": 0
   }
  }
 },
 "nbformat": 4,
 "nbformat_minor": 5
}
