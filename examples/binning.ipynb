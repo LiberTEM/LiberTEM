{
 "cells": [
  {
   "cell_type": "markdown",
   "id": "763f597e",
   "metadata": {},
   "source": [
    "# Binning\n",
    "\n",
    "This example shows how LiberTEM can be used for fast binning of a large dataset."
   ]
  },
  {
   "cell_type": "code",
   "execution_count": 1,
   "id": "3f022ae6",
   "metadata": {
    "execution": {
     "iopub.execute_input": "2022-11-03T13:25:57.374402Z",
     "iopub.status.busy": "2022-11-03T13:25:57.373924Z",
     "iopub.status.idle": "2022-11-03T13:25:57.685876Z",
     "shell.execute_reply": "2022-11-03T13:25:57.685277Z"
    }
   },
   "outputs": [],
   "source": [
    "%matplotlib inline"
   ]
  },
  {
   "cell_type": "code",
   "execution_count": 2,
   "id": "a7990d5f",
   "metadata": {
    "execution": {
     "iopub.execute_input": "2022-11-03T13:25:57.688810Z",
     "iopub.status.busy": "2022-11-03T13:25:57.688487Z",
     "iopub.status.idle": "2022-11-03T13:25:58.291027Z",
     "shell.execute_reply": "2022-11-03T13:25:58.290402Z"
    }
   },
   "outputs": [],
   "source": [
    "import numpy as np\n",
    "import sparse\n",
    "import matplotlib.pyplot as plt\n",
    "\n",
    "from libertem.api import Context\n",
    "from libertem.udf.masks import ApplyMasksUDF"
   ]
  },
  {
   "cell_type": "code",
   "execution_count": 3,
   "id": "5a0f3575",
   "metadata": {
    "execution": {
     "iopub.execute_input": "2022-11-03T13:25:58.294037Z",
     "iopub.status.busy": "2022-11-03T13:25:58.293883Z",
     "iopub.status.idle": "2022-11-03T13:25:59.629912Z",
     "shell.execute_reply": "2022-11-03T13:25:59.629364Z"
    }
   },
   "outputs": [],
   "source": [
    "ctx = Context()"
   ]
  },
  {
   "cell_type": "markdown",
   "id": "76f4c9d7",
   "metadata": {},
   "source": [
    "## Generate test data\n",
    "Just a folded linear gradient for illustration"
   ]
  },
  {
   "cell_type": "code",
   "execution_count": 4,
   "id": "c7b3bbd1",
   "metadata": {
    "execution": {
     "iopub.execute_input": "2022-11-03T13:25:59.632485Z",
     "iopub.status.busy": "2022-11-03T13:25:59.632224Z",
     "iopub.status.idle": "2022-11-03T13:25:59.635288Z",
     "shell.execute_reply": "2022-11-03T13:25:59.634963Z"
    }
   },
   "outputs": [],
   "source": [
    "shape = (17, 19, 23, 29)\n",
    "data = np.linspace(0, 1, np.prod(shape, dtype=np.int64)).reshape(shape)"
   ]
  },
  {
   "cell_type": "code",
   "execution_count": 5,
   "id": "09b0a029",
   "metadata": {
    "execution": {
     "iopub.execute_input": "2022-11-03T13:25:59.637089Z",
     "iopub.status.busy": "2022-11-03T13:25:59.636768Z",
     "iopub.status.idle": "2022-11-03T13:25:59.772189Z",
     "shell.execute_reply": "2022-11-03T13:25:59.771677Z"
    }
   },
   "outputs": [],
   "source": [
    "ds = ctx.load('memory', data=data)"
   ]
  },
  {
   "cell_type": "markdown",
   "id": "49d56fc5",
   "metadata": {},
   "source": [
    "## Define the binning factor and determine target shape"
   ]
  },
  {
   "cell_type": "code",
   "execution_count": 6,
   "id": "8d7edcb0",
   "metadata": {
    "execution": {
     "iopub.execute_input": "2022-11-03T13:25:59.774182Z",
     "iopub.status.busy": "2022-11-03T13:25:59.774041Z",
     "iopub.status.idle": "2022-11-03T13:25:59.776278Z",
     "shell.execute_reply": "2022-11-03T13:25:59.775952Z"
    }
   },
   "outputs": [],
   "source": [
    "bin_factor = 4"
   ]
  },
  {
   "cell_type": "code",
   "execution_count": 7,
   "id": "5cb59344",
   "metadata": {
    "execution": {
     "iopub.execute_input": "2022-11-03T13:25:59.777865Z",
     "iopub.status.busy": "2022-11-03T13:25:59.777734Z",
     "iopub.status.idle": "2022-11-03T13:25:59.780766Z",
     "shell.execute_reply": "2022-11-03T13:25:59.780432Z"
    }
   },
   "outputs": [],
   "source": [
    "# ceil() to include output bins that only fit partially into the\n",
    "# source frame\n",
    "size_y = int(np.ceil(ds.shape.sig[0] / bin_factor))\n",
    "size_x = int(np.ceil(ds.shape.sig[1] / bin_factor))"
   ]
  },
  {
   "cell_type": "markdown",
   "id": "698b2e6b",
   "metadata": {},
   "source": [
    "## Create a sparse matrix for binning\n",
    "Each layer corresponds to an output bin. We calculate which pixels are in each output bin."
   ]
  },
  {
   "cell_type": "code",
   "execution_count": 8,
   "id": "2000c674",
   "metadata": {
    "execution": {
     "iopub.execute_input": "2022-11-03T13:25:59.782646Z",
     "iopub.status.busy": "2022-11-03T13:25:59.782315Z",
     "iopub.status.idle": "2022-11-03T13:25:59.790778Z",
     "shell.execute_reply": "2022-11-03T13:25:59.790459Z"
    }
   },
   "outputs": [],
   "source": [
    "bin_matrix_layers = []\n",
    "for y in range(size_y):\n",
    "    for x in range(size_x):\n",
    "        layer = np.zeros(ds.shape.sig)\n",
    "        start_y = y * bin_factor\n",
    "        stop_y = (y + 1) * bin_factor\n",
    "        start_x = x * bin_factor\n",
    "        stop_x = (x + 1) * bin_factor\n",
    "        layer[start_y:stop_y, start_x:stop_x] = 1\n",
    "        layer /= np.sum(layer)\n",
    "        bin_matrix_layers.append(sparse.COO(layer))\n",
    "bin_matrix = sparse.stack(bin_matrix_layers)"
   ]
  },
  {
   "cell_type": "code",
   "execution_count": 9,
   "id": "415eeb91",
   "metadata": {
    "execution": {
     "iopub.execute_input": "2022-11-03T13:25:59.792404Z",
     "iopub.status.busy": "2022-11-03T13:25:59.792276Z",
     "iopub.status.idle": "2022-11-03T13:25:59.794373Z",
     "shell.execute_reply": "2022-11-03T13:25:59.794057Z"
    }
   },
   "outputs": [],
   "source": [
    "def mask_factory():\n",
    "    return bin_matrix"
   ]
  },
  {
   "cell_type": "markdown",
   "id": "cb27f219",
   "metadata": {},
   "source": [
    "## Apply the matrix"
   ]
  },
  {
   "cell_type": "code",
   "execution_count": 10,
   "id": "aeac970e",
   "metadata": {
    "execution": {
     "iopub.execute_input": "2022-11-03T13:25:59.796045Z",
     "iopub.status.busy": "2022-11-03T13:25:59.795916Z",
     "iopub.status.idle": "2022-11-03T13:26:00.693373Z",
     "shell.execute_reply": "2022-11-03T13:26:00.692844Z"
    }
   },
   "outputs": [
    {
     "data": {
      "application/vnd.jupyter.widget-view+json": {
       "model_id": "9029edbecd764bc2aa808119b230e3a3",
       "version_major": 2,
       "version_minor": 0
      },
      "text/plain": [
       "Partitions 0/24, Frames:   0%|          | 0/323 [00:00<?, ?it/s]"
      ]
     },
     "metadata": {},
     "output_type": "display_data"
    }
   ],
   "source": [
    "udf = ApplyMasksUDF(mask_factories=mask_factory)\n",
    "result = ctx.run_udf(dataset=ds, udf=udf, progress=True)"
   ]
  },
  {
   "cell_type": "markdown",
   "id": "aee221ec",
   "metadata": {},
   "source": [
    "## Reshape and show result"
   ]
  },
  {
   "cell_type": "code",
   "execution_count": 11,
   "id": "f72bf444",
   "metadata": {
    "execution": {
     "iopub.execute_input": "2022-11-03T13:26:00.695349Z",
     "iopub.status.busy": "2022-11-03T13:26:00.695205Z",
     "iopub.status.idle": "2022-11-03T13:26:00.698129Z",
     "shell.execute_reply": "2022-11-03T13:26:00.697572Z"
    }
   },
   "outputs": [],
   "source": [
    "reshaped_result = result['intensity'].raw_data.reshape(*ds.shape.nav, size_y, size_x)"
   ]
  },
  {
   "cell_type": "code",
   "execution_count": 12,
   "id": "87587e92",
   "metadata": {
    "execution": {
     "iopub.execute_input": "2022-11-03T13:26:00.700291Z",
     "iopub.status.busy": "2022-11-03T13:26:00.699754Z",
     "iopub.status.idle": "2022-11-03T13:26:00.860247Z",
     "shell.execute_reply": "2022-11-03T13:26:00.859709Z"
    }
   },
   "outputs": [
    {
     "data": {
      "image/png": "[encoded data removed]",
      "text/plain": [
       "<Figure size 640x480 with 2 Axes>"
      ]
     },
     "metadata": {},
     "output_type": "display_data"
    }
   ],
   "source": [
    "fig, axes = plt.subplots(1, 2)\n",
    "axes[0].imshow(data[0, 0])\n",
    "axes[1].imshow(reshaped_result[0, 0]);"
   ]
  },
  {
   "cell_type": "code",
   "execution_count": null,
   "id": "e482d845",
   "metadata": {},
   "outputs": [],
   "source": []
  }
 ],
 "metadata": {
  "kernelspec": {
   "display_name": "Python 3.10.6 64-bit",
   "language": "python",
   "name": "python3"
  },
  "language_info": {
   "codemirror_mode": {
    "name": "ipython",
    "version": 3
   },
   "file_extension": ".py",
   "mimetype": "text/x-python",
   "name": "python",
   "nbconvert_exporter": "python",
   "pygments_lexer": "ipython3",
   "version": "3.10.4"
  },
  "vscode": {
   "interpreter": {
    "hash": "916dbcbb3f70747c44a77c7bcd40155683ae19c65e1c03b4aa3499c5328201f1"
   }
  },
  "widgets": {
   "application/vnd.jupyter.widget-state+json": {
    "state": {
     "0edea1a7b3f9439c81878ca92714c6a6": {
      "model_module": "@jupyter-widgets/base",
      "model_module_version": "2.0.0",
      "model_name": "LayoutModel",
      "state": {
       "_model_module": "@jupyter-widgets/base",
       "_model_module_version": "2.0.0",
       "_model_name": "LayoutModel",
       "_view_count": null,
       "_view_module": "@jupyter-widgets/base",
       "_view_module_version": "2.0.0",
       "_view_name": "LayoutView",
       "align_content": null,
       "align_items": null,
       "align_self": null,
       "border_bottom": null,
       "border_left": null,
       "border_right": null,
       "border_top": null,
       "bottom": null,
       "display": null,
       "flex": null,
       "flex_flow": null,
       "grid_area": null,
       "grid_auto_columns": null,
       "grid_auto_flow": null,
       "grid_auto_rows": null,
       "grid_column": null,
       "grid_gap": null,
       "grid_row": null,
       "grid_template_areas": null,
       "grid_template_columns": null,
       "grid_template_rows": null,
       "height": null,
       "justify_content": null,
       "justify_items": null,
       "left": null,
       "margin": null,
       "max_height": null,
       "max_width": null,
       "min_height": null,
       "min_width": null,
       "object_fit": null,
       "object_position": null,
       "order": null,
       "overflow": null,
       "padding": null,
       "right": null,
       "top": null,
       "visibility": null,
       "width": null
      }
     },
     "4577eb6e1d6d4b908ff97fa99936fe94": {
      "model_module": "@jupyter-widgets/base",
      "model_module_version": "2.0.0",
      "model_name": "LayoutModel",
      "state": {
       "_model_module": "@jupyter-widgets/base",
       "_model_module_version": "2.0.0",
       "_model_name": "LayoutModel",
       "_view_count": null,
       "_view_module": "@jupyter-widgets/base",
       "_view_module_version": "2.0.0",
       "_view_name": "LayoutView",
       "align_content": null,
       "align_items": null,
       "align_self": null,
       "border_bottom": null,
       "border_left": null,
       "border_right": null,
       "border_top": null,
       "bottom": null,
       "display": null,
       "flex": null,
       "flex_flow": null,
       "grid_area": null,
       "grid_auto_columns": null,
       "grid_auto_flow": null,
       "grid_auto_rows": null,
       "grid_column": null,
       "grid_gap": null,
       "grid_row": null,
       "grid_template_areas": null,
       "grid_template_columns": null,
       "grid_template_rows": null,
       "height": null,
       "justify_content": null,
       "justify_items": null,
       "left": null,
       "margin": null,
       "max_height": null,
       "max_width": null,
       "min_height": null,
       "min_width": null,
       "object_fit": null,
       "object_position": null,
       "order": null,
       "overflow": null,
       "padding": null,
       "right": null,
       "top": null,
       "visibility": null,
       "width": null
      }
     },
     "8ab31e7ff97c4eff889707ee9f25954e": {
      "model_module": "@jupyter-widgets/controls",
      "model_module_version": "2.0.0",
      "model_name": "HTMLModel",
      "state": {
       "_dom_classes": [],
       "_model_module": "@jupyter-widgets/controls",
       "_model_module_version": "2.0.0",
       "_model_name": "HTMLModel",
       "_view_count": null,
       "_view_module": "@jupyter-widgets/controls",
       "_view_module_version": "2.0.0",
       "_view_name": "HTMLView",
       "description": "",
       "description_allow_html": false,
       "layout": "IPY_MODEL_9cef5981787f4fa1a8f1cba25fb02057",
       "placeholder": "​",
       "style": "IPY_MODEL_d5162760361b4d0e88609d4568ec65a3",
       "tabbable": null,
       "tooltip": null,
       "value": " 323/323 [00:00&lt;00:00, 455.14it/s]"
      }
     },
     "8d51d993dadb4356b6b520c11da7c2e9": {
      "model_module": "@jupyter-widgets/controls",
      "model_module_version": "2.0.0",
      "model_name": "FloatProgressModel",
      "state": {
       "_dom_classes": [],
       "_model_module": "@jupyter-widgets/controls",
       "_model_module_version": "2.0.0",
       "_model_name": "FloatProgressModel",
       "_view_count": null,
       "_view_module": "@jupyter-widgets/controls",
       "_view_module_version": "2.0.0",
       "_view_name": "ProgressView",
       "bar_style": "success",
       "description": "",
       "description_allow_html": false,
       "layout": "IPY_MODEL_0edea1a7b3f9439c81878ca92714c6a6",
       "max": 323.0,
       "min": 0.0,
       "orientation": "horizontal",
       "style": "IPY_MODEL_e3ca57a97e4043d4bfb6d319da6c622b",
       "tabbable": null,
       "tooltip": null,
       "value": 323.0
      }
     },
     "9029edbecd764bc2aa808119b230e3a3": {
      "model_module": "@jupyter-widgets/controls",
      "model_module_version": "2.0.0",
      "model_name": "HBoxModel",
      "state": {
       "_dom_classes": [],
       "_model_module": "@jupyter-widgets/controls",
       "_model_module_version": "2.0.0",
       "_model_name": "HBoxModel",
       "_view_count": null,
       "_view_module": "@jupyter-widgets/controls",
       "_view_module_version": "2.0.0",
       "_view_name": "HBoxView",
       "box_style": "",
       "children": [
        "IPY_MODEL_a1e4faeb4bc54bdb9b61b8d443186248",
        "IPY_MODEL_8d51d993dadb4356b6b520c11da7c2e9",
        "IPY_MODEL_8ab31e7ff97c4eff889707ee9f25954e"
       ],
       "layout": "IPY_MODEL_4577eb6e1d6d4b908ff97fa99936fe94",
       "tabbable": null,
       "tooltip": null
      }
     },
     "94879016376b4d70888c6611763465bf": {
      "model_module": "@jupyter-widgets/base",
      "model_module_version": "2.0.0",
      "model_name": "LayoutModel",
      "state": {
       "_model_module": "@jupyter-widgets/base",
       "_model_module_version": "2.0.0",
       "_model_name": "LayoutModel",
       "_view_count": null,
       "_view_module": "@jupyter-widgets/base",
       "_view_module_version": "2.0.0",
       "_view_name": "LayoutView",
       "align_content": null,
       "align_items": null,
       "align_self": null,
       "border_bottom": null,
       "border_left": null,
       "border_right": null,
       "border_top": null,
       "bottom": null,
       "display": null,
       "flex": null,
       "flex_flow": null,
       "grid_area": null,
       "grid_auto_columns": null,
       "grid_auto_flow": null,
       "grid_auto_rows": null,
       "grid_column": null,
       "grid_gap": null,
       "grid_row": null,
       "grid_template_areas": null,
       "grid_template_columns": null,
       "grid_template_rows": null,
       "height": null,
       "justify_content": null,
       "justify_items": null,
       "left": null,
       "margin": null,
       "max_height": null,
       "max_width": null,
       "min_height": null,
       "min_width": null,
       "object_fit": null,
       "object_position": null,
       "order": null,
       "overflow": null,
       "padding": null,
       "right": null,
       "top": null,
       "visibility": null,
       "width": null
      }
     },
     "9cef5981787f4fa1a8f1cba25fb02057": {
      "model_module": "@jupyter-widgets/base",
      "model_module_version": "2.0.0",
      "model_name": "LayoutModel",
      "state": {
       "_model_module": "@jupyter-widgets/base",
       "_model_module_version": "2.0.0",
       "_model_name": "LayoutModel",
       "_view_count": null,
       "_view_module": "@jupyter-widgets/base",
       "_view_module_version": "2.0.0",
       "_view_name": "LayoutView",
       "align_content": null,
       "align_items": null,
       "align_self": null,
       "border_bottom": null,
       "border_left": null,
       "border_right": null,
       "border_top": null,
       "bottom": null,
       "display": null,
       "flex": null,
       "flex_flow": null,
       "grid_area": null,
       "grid_auto_columns": null,
       "grid_auto_flow": null,
       "grid_auto_rows": null,
       "grid_column": null,
       "grid_gap": null,
       "grid_row": null,
       "grid_template_areas": null,
       "grid_template_columns": null,
       "grid_template_rows": null,
       "height": null,
       "justify_content": null,
       "justify_items": null,
       "left": null,
       "margin": null,
       "max_height": null,
       "max_width": null,
       "min_height": null,
       "min_width": null,
       "object_fit": null,
       "object_position": null,
       "order": null,
       "overflow": null,
       "padding": null,
       "right": null,
       "top": null,
       "visibility": null,
       "width": null
      }
     },
     "a1e4faeb4bc54bdb9b61b8d443186248": {
      "model_module": "@jupyter-widgets/controls",
      "model_module_version": "2.0.0",
      "model_name": "HTMLModel",
      "state": {
       "_dom_classes": [],
       "_model_module": "@jupyter-widgets/controls",
       "_model_module_version": "2.0.0",
       "_model_name": "HTMLModel",
       "_view_count": null,
       "_view_module": "@jupyter-widgets/controls",
       "_view_module_version": "2.0.0",
       "_view_name": "HTMLView",
       "description": "",
       "description_allow_html": false,
       "layout": "IPY_MODEL_94879016376b4d70888c6611763465bf",
       "placeholder": "​",
       "style": "IPY_MODEL_cd9ffbbea1834afaa77a4ffb11d2cfd9",
       "tabbable": null,
       "tooltip": null,
       "value": "Partitions 24/24, Frames: 100%"
      }
     },
     "cd9ffbbea1834afaa77a4ffb11d2cfd9": {
      "model_module": "@jupyter-widgets/controls",
      "model_module_version": "2.0.0",
      "model_name": "HTMLStyleModel",
      "state": {
       "_model_module": "@jupyter-widgets/controls",
       "_model_module_version": "2.0.0",
       "_model_name": "HTMLStyleModel",
       "_view_count": null,
       "_view_module": "@jupyter-widgets/base",
       "_view_module_version": "2.0.0",
       "_view_name": "StyleView",
       "background": null,
       "description_width": "",
       "font_size": null,
       "text_color": null
      }
     },
     "d5162760361b4d0e88609d4568ec65a3": {
      "model_module": "@jupyter-widgets/controls",
      "model_module_version": "2.0.0",
      "model_name": "HTMLStyleModel",
      "state": {
       "_model_module": "@jupyter-widgets/controls",
       "_model_module_version": "2.0.0",
       "_model_name": "HTMLStyleModel",
       "_view_count": null,
       "_view_module": "@jupyter-widgets/base",
       "_view_module_version": "2.0.0",
       "_view_name": "StyleView",
       "background": null,
       "description_width": "",
       "font_size": null,
       "text_color": null
      }
     },
     "e3ca57a97e4043d4bfb6d319da6c622b": {
      "model_module": "@jupyter-widgets/controls",
      "model_module_version": "2.0.0",
      "model_name": "ProgressStyleModel",
      "state": {
       "_model_module": "@jupyter-widgets/controls",
       "_model_module_version": "2.0.0",
       "_model_name": "ProgressStyleModel",
       "_view_count": null,
       "_view_module": "@jupyter-widgets/base",
       "_view_module_version": "2.0.0",
       "_view_name": "StyleView",
       "bar_color": null,
       "description_width": ""
      }
     }
    },
    "version_major": 2,
    "version_minor": 0
   }
  }
 },
 "nbformat": 4,
 "nbformat_minor": 5
}
