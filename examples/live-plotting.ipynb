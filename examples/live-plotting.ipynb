{
 "cells": [
  {
   "cell_type": "markdown",
   "metadata": {},
   "source": [
    "# Live plotting for LiberTEM UDFs\n",
    "\n",
    "This example requires additional packages `ipympl` and `ipywidgets` for arranging plots.\n",
    "\n",
    "See also https://ipywidgets.readthedocs.io/en/stable/user_install.html#installing-in-classic-jupyter-notebook\n",
    "in case the plots don't show."
   ]
  },
  {
   "cell_type": "code",
   "execution_count": 1,
   "metadata": {},
   "outputs": [],
   "source": [
    "%matplotlib widget"
   ]
  },
  {
   "cell_type": "code",
   "execution_count": 2,
   "metadata": {},
   "outputs": [],
   "source": [
    "%load_ext autoreload"
   ]
  },
  {
   "cell_type": "code",
   "execution_count": 3,
   "metadata": {},
   "outputs": [],
   "source": [
    "%load_ext line_profiler"
   ]
  },
  {
   "cell_type": "code",
   "execution_count": 4,
   "metadata": {},
   "outputs": [],
   "source": [
    "import time\n",
    "\n",
    "import matplotlib.pyplot as plt\n",
    "import ipywidgets\n",
    "import numpy as np\n",
    "\n",
    "import libertem.api as lt\n",
    "from libertem.viz.mpl import MPLLive2DPlot\n",
    "from libertem.viz.bqp import BQLive2DPlot"
   ]
  },
  {
   "cell_type": "code",
   "execution_count": 5,
   "metadata": {},
   "outputs": [
    {
     "name": "stderr",
     "output_type": "stream",
     "text": [
      "c:\\users\\dwebe\\documents\\src\\libertem\\src\\libertem\\utils\\devices.py:72: RuntimeWarning: CUDARuntimeError('cudaErrorUnsupportedPtxVersion: the provided PTX was compiled with an unsupported toolchain.')\n",
      "  warnings.warn(repr(e), RuntimeWarning)\n"
     ]
    }
   ],
   "source": [
    "%autoreload\n",
    "ctx = lt.Context(plot_class=BQLive2DPlot)"
   ]
  },
  {
   "cell_type": "markdown",
   "metadata": {},
   "source": [
    "## Specifying the dataset\n",
    "\n",
    "Most formats can be loaded using the `\"auto\"` type, but some may need additional parameters.\n",
    "\n",
    "See the [loading data](https://libertem.github.io/LiberTEM/formats.html) section of the LiberTEM docs for details."
   ]
  },
  {
   "cell_type": "code",
   "execution_count": 6,
   "metadata": {},
   "outputs": [],
   "source": [
    "ds = ctx.load(\"auto\", path=\"E:/LargeData/LargeData/ER-C-1/projects/ptycho-4.0/data/live-ssb-paper/Ptycho01/20200518 165148/default.hdr\")\n",
    "ds.set_num_cores(32)"
   ]
  },
  {
   "cell_type": "markdown",
   "metadata": {},
   "source": [
    "After loading, some information is available in the `diagnostics` attribute:"
   ]
  },
  {
   "cell_type": "code",
   "execution_count": 7,
   "metadata": {},
   "outputs": [
    {
     "data": {
      "text/plain": [
       "[{'name': 'Data type', 'value': 'u08'},\n",
       " {'name': 'Partition shape', 'value': '(512, 256, 256)'},\n",
       " {'name': 'Number of partitions', 'value': '32'},\n",
       " {'name': 'Number of frames skipped at the beginning', 'value': 0},\n",
       " {'name': 'Number of frames ignored at the end', 'value': 0},\n",
       " {'name': 'Number of blank frames inserted at the beginning', 'value': 0},\n",
       " {'name': 'Number of blank frames inserted at the end', 'value': 0}]"
      ]
     },
     "execution_count": 7,
     "metadata": {},
     "output_type": "execute_result"
    }
   ],
   "source": [
    "ds.diagnostics"
   ]
  },
  {
   "cell_type": "code",
   "execution_count": 8,
   "metadata": {},
   "outputs": [],
   "source": [
    "from libertem.udf import UDF\n",
    "\n",
    "\n",
    "class SumOfPixels(UDF):\n",
    "    def get_result_buffers(self):\n",
    "        return {\n",
    "            'sum_of_pixels': self.buffer(kind='nav', dtype='float32')\n",
    "        }\n",
    "    \n",
    "    def process_frame(self, frame):\n",
    "        self.results.sum_of_pixels[:] = np.sum(frame)"
   ]
  },
  {
   "cell_type": "markdown",
   "metadata": {},
   "source": [
    "This can now be run using the `Context.run_udf` method:"
   ]
  },
  {
   "cell_type": "code",
   "execution_count": 9,
   "metadata": {},
   "outputs": [],
   "source": [
    "udf = SumOfPixels()"
   ]
  },
  {
   "cell_type": "code",
   "execution_count": 10,
   "metadata": {},
   "outputs": [],
   "source": [
    "roi = np.ones(ds.shape.nav, dtype=bool)\n",
    "roi[:, :40] = 0"
   ]
  },
  {
   "cell_type": "code",
   "execution_count": 11,
   "metadata": {},
   "outputs": [],
   "source": [
    "ctx.plot_class = MPLLive2DPlot"
   ]
  },
  {
   "cell_type": "code",
   "execution_count": 12,
   "metadata": {},
   "outputs": [
    {
     "data": {
      "application/vnd.jupyter.widget-view+json": {
       "model_id": "08bc909bc88f4c41888d78c552df2999",
       "version_major": 2,
       "version_minor": 0
      },
      "text/plain": [
       "Canvas(toolbar=Toolbar(toolitems=[('Home', 'Reset original view', 'home', 'home'), ('Back', 'Back to previous …"
      ]
     },
     "metadata": {},
     "output_type": "display_data"
    }
   ],
   "source": [
    "%autoreload\n",
    "res_pixelsum = ctx.run_udf(dataset=ds, udf=udf, roi=roi, plots=True)"
   ]
  },
  {
   "cell_type": "code",
   "execution_count": 13,
   "metadata": {},
   "outputs": [
    {
     "data": {
      "application/vnd.jupyter.widget-view+json": {
       "model_id": "eeee1ad7f46e46679a7967a442b913ba",
       "version_major": 2,
       "version_minor": 0
      },
      "text/plain": [
       "Canvas(toolbar=Toolbar(toolitems=[('Home', 'Reset original view', 'home', 'home'), ('Back', 'Back to previous …"
      ]
     },
     "metadata": {},
     "output_type": "display_data"
    },
    {
     "data": {
      "application/vnd.jupyter.widget-view+json": {
       "model_id": "2b0f11b7a17b4f83ae0f40abcea097f0",
       "version_major": 2,
       "version_minor": 0
      },
      "text/plain": [
       "Canvas(toolbar=Toolbar(toolitems=[('Home', 'Reset original view', 'home', 'home'), ('Back', 'Back to previous …"
      ]
     },
     "metadata": {},
     "output_type": "display_data"
    }
   ],
   "source": [
    "%autoreload\n",
    "res_pixelsum = ctx.run_udf(dataset=ds, udf=udf, roi=roi, plots=[['sum_of_pixels', ('sum_of_pixels', np.sqrt)]])"
   ]
  },
  {
   "cell_type": "code",
   "execution_count": 14,
   "metadata": {},
   "outputs": [],
   "source": [
    "def my_custom_channel(udf_result, damage):\n",
    "    return (udf_result['sum_of_pixels'].data > 9.1e4, damage)\n",
    "\n",
    "def square(buffer):\n",
    "    return buffer**2"
   ]
  },
  {
   "cell_type": "code",
   "execution_count": 15,
   "metadata": {},
   "outputs": [],
   "source": [
    "%autoreload\n",
    "live_plot = MPLLive2DPlot(dataset=ds, udf=udf, channel='sum_of_pixels')\n",
    "live_plot_2 = MPLLive2DPlot(dataset=ds, udf=udf, channel=my_custom_channel)\n",
    "live_plot_3 = MPLLive2DPlot(dataset=ds, udf=udf, channel=('sum_of_pixels', square))\n",
    "\n",
    "live_bqp = BQLive2DPlot(dataset=ds, udf=udf, channel='sum_of_pixels')\n",
    "live_bqp_2 = BQLive2DPlot(dataset=ds, udf=udf, channel=my_custom_channel)\n",
    "live_bqp_3 = BQLive2DPlot(dataset=ds, udf=udf, channel=('sum_of_pixels', square), title=\"Hello\")"
   ]
  },
  {
   "cell_type": "code",
   "execution_count": 16,
   "metadata": {},
   "outputs": [
    {
     "data": {
      "application/vnd.jupyter.widget-view+json": {
       "model_id": "7fa34e7ba7ce44c4adf543ceca823477",
       "version_major": 2,
       "version_minor": 0
      },
      "text/plain": [
       "VBox(children=(HBox(children=(Output(), Output(), Output())), HBox(children=(Output(), Output(), Output()))))"
      ]
     },
     "metadata": {},
     "output_type": "display_data"
    }
   ],
   "source": [
    "outputs = []\n",
    "\n",
    "for plot in (live_plot, live_plot_2, live_plot_3):\n",
    "    output = ipywidgets.Output()\n",
    "    with output:\n",
    "        plot.display()\n",
    "        plot.fig.tight_layout()\n",
    "        plot.fig.set_size_inches((3, 3))\n",
    "        plot.fig.canvas.toolbar_position = 'bottom'\n",
    "    outputs.append(output)\n",
    "\n",
    "l1 = ipywidgets.HBox(outputs)\n",
    "\n",
    "outputs2 = []\n",
    "for plot in (live_bqp, live_bqp_2, live_bqp_3):\n",
    "    output = ipywidgets.Output()\n",
    "    with output:\n",
    "        plot.display()\n",
    "    outputs2.append(output)\n",
    "l2 = ipywidgets.HBox(outputs2)\n",
    "ipywidgets.VBox((l1, l2))"
   ]
  },
  {
   "cell_type": "code",
   "execution_count": 17,
   "metadata": {},
   "outputs": [
    {
     "name": "stdout",
     "output_type": "stream",
     "text": [
      "Wall time: 2.36 s\n"
     ]
    },
    {
     "data": {
      "text/plain": [
       "{'sum_of_pixels': <BufferWrapper kind=nav dtype=float32 extra_shape=()>}"
      ]
     },
     "execution_count": 17,
     "metadata": {},
     "output_type": "execute_result"
    }
   ],
   "source": [
    "%%time\n",
    "ctx.run_udf(dataset=ds, udf=udf, plots=[live_plot, live_plot_2, live_plot_3, live_bqp, live_bqp_2, live_bqp_3])"
   ]
  },
  {
   "cell_type": "code",
   "execution_count": 18,
   "metadata": {},
   "outputs": [],
   "source": [
    "from libertem.udf.raw import PickUDF"
   ]
  },
  {
   "cell_type": "code",
   "execution_count": 19,
   "metadata": {},
   "outputs": [],
   "source": [
    "roi = np.zeros(ds.shape.nav, dtype=bool)\n",
    "roi[0,0] = True\n",
    "pick_udf = PickUDF()"
   ]
  },
  {
   "cell_type": "code",
   "execution_count": 20,
   "metadata": {},
   "outputs": [
    {
     "data": {
      "application/vnd.jupyter.widget-view+json": {
       "model_id": "977b0d949dd144d4a12edceb8f7aa7bd",
       "version_major": 2,
       "version_minor": 0
      },
      "text/plain": [
       "Canvas(toolbar=Toolbar(toolitems=[('Home', 'Reset original view', 'home', 'home'), ('Back', 'Back to previous …"
      ]
     },
     "metadata": {},
     "output_type": "display_data"
    },
    {
     "data": {
      "text/plain": [
       "{'intensity': <BufferWrapper kind=single dtype=uint8 extra_shape=(1, 256, 256)>}"
      ]
     },
     "execution_count": 20,
     "metadata": {},
     "output_type": "execute_result"
    }
   ],
   "source": [
    "%autoreload\n",
    "ctx.run_udf(dataset=ds, udf=pick_udf, roi=roi, plots=True)"
   ]
  },
  {
   "cell_type": "code",
   "execution_count": 21,
   "metadata": {},
   "outputs": [],
   "source": [
    "def custom_single_channel(udf_result, damage):\n",
    "    return (udf_result['intensity'].data.squeeze().astype(float)**2, True)"
   ]
  },
  {
   "cell_type": "code",
   "execution_count": 22,
   "metadata": {},
   "outputs": [
    {
     "data": {
      "application/vnd.jupyter.widget-view+json": {
       "model_id": "2dda710224704b8889732893547ece67",
       "version_major": 2,
       "version_minor": 0
      },
      "text/plain": [
       "Canvas(toolbar=Toolbar(toolitems=[('Home', 'Reset original view', 'home', 'home'), ('Back', 'Back to previous …"
      ]
     },
     "metadata": {},
     "output_type": "display_data"
    }
   ],
   "source": [
    "%autoreload\n",
    "live_plot_pick = MPLLive2DPlot(dataset=ds, udf=pick_udf, channel=custom_single_channel, roi=roi)\n",
    "live_plot_pick.display()"
   ]
  },
  {
   "cell_type": "code",
   "execution_count": 23,
   "metadata": {},
   "outputs": [
    {
     "data": {
      "text/plain": [
       "{'intensity': <BufferWrapper kind=single dtype=uint8 extra_shape=(1, 256, 256)>}"
      ]
     },
     "execution_count": 23,
     "metadata": {},
     "output_type": "execute_result"
    }
   ],
   "source": [
    "%autoreload\n",
    "ctx.run_udf(dataset=ds, udf=pick_udf, roi=roi, plots=[live_plot_pick])"
   ]
  },
  {
   "cell_type": "code",
   "execution_count": null,
   "metadata": {},
   "outputs": [],
   "source": []
  }
 ],
 "metadata": {
  "kernelspec": {
   "display_name": "Python 3",
   "language": "python",
   "name": "python3"
  },
  "language_info": {
   "codemirror_mode": {
    "name": "ipython",
    "version": 3
   },
   "file_extension": ".py",
   "mimetype": "text/x-python",
   "name": "python",
   "nbconvert_exporter": "python",
   "pygments_lexer": "ipython3",
   "version": "3.8.5"
  }
 },
 "nbformat": 4,
 "nbformat_minor": 2
}
