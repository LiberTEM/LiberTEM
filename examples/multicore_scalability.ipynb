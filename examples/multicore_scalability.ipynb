{
 "cells": [
  {
   "cell_type": "code",
   "execution_count": 1,
   "metadata": {},
   "outputs": [],
   "source": [
    "%matplotlib nbagg"
   ]
  },
  {
   "cell_type": "code",
   "execution_count": 2,
   "metadata": {},
   "outputs": [],
   "source": [
    "import os\n",
    "os.environ[\"OMP_NUM_THREADS\"] = \"1\"\n",
    "os.environ[\"OPENBLAS_NUM_THREADS\"] = \"1\""
   ]
  },
  {
   "cell_type": "markdown",
   "metadata": {},
   "source": [
    "Hardware information:\n",
    "```\n",
    "Model name:          Intel(R) Xeon(R) CPU E3-1505M v5 @ 2.80GHz\n",
    "Thread(s) per core:  2\n",
    "Core(s) per socket:  4\n",
    "Socket(s):           1\n",
    "L1d cache:           32K\n",
    "L1i cache:           32K\n",
    "L2 cache:            256K\n",
    "L3 cache:            8192K\n",
    "```"
   ]
  },
  {
   "cell_type": "code",
   "execution_count": 3,
   "metadata": {},
   "outputs": [
    {
     "name": "stdout",
     "output_type": "stream",
     "text": [
      "blas_mkl_info:\n",
      "  NOT AVAILABLE\n",
      "blis_info:\n",
      "  NOT AVAILABLE\n",
      "openblas_info:\n",
      "    libraries = ['openblas', 'openblas']\n",
      "    library_dirs = ['/usr/local/lib']\n",
      "    language = c\n",
      "    define_macros = [('HAVE_CBLAS', None)]\n",
      "blas_opt_info:\n",
      "    libraries = ['openblas', 'openblas']\n",
      "    library_dirs = ['/usr/local/lib']\n",
      "    language = c\n",
      "    define_macros = [('HAVE_CBLAS', None)]\n",
      "lapack_mkl_info:\n",
      "  NOT AVAILABLE\n",
      "openblas_lapack_info:\n",
      "    libraries = ['openblas', 'openblas']\n",
      "    library_dirs = ['/usr/local/lib']\n",
      "    language = c\n",
      "    define_macros = [('HAVE_CBLAS', None)]\n",
      "lapack_opt_info:\n",
      "    libraries = ['openblas', 'openblas']\n",
      "    library_dirs = ['/usr/local/lib']\n",
      "    language = c\n",
      "    define_macros = [('HAVE_CBLAS', None)]\n"
     ]
    }
   ],
   "source": [
    "import numpy as np\n",
    "np.show_config()"
   ]
  },
  {
   "cell_type": "markdown",
   "metadata": {},
   "source": [
    "OpenBLAS version:\n",
    "```\n",
    "$ dpkg -l libopenblas-base\n",
    "ii  libopenblas-base:amd64   0.2.20+ds-4       amd64             Optimized BLAS (linear algebra) library (shared libra\n",
    "```"
   ]
  },
  {
   "cell_type": "code",
   "execution_count": 4,
   "metadata": {},
   "outputs": [
    {
     "name": "stderr",
     "output_type": "stream",
     "text": [
      "/home/clausen/.virtualenvs/libertem/lib/python3.6/importlib/_bootstrap.py:219: RuntimeWarning: numpy.dtype size changed, may indicate binary incompatibility. Expected 96, got 88\n",
      "  return f(*args, **kwds)\n"
     ]
    }
   ],
   "source": [
    "import gc\n",
    "import time\n",
    "import seaborn\n",
    "import pandas as pd\n",
    "import matplotlib.pyplot as plt\n",
    "from libertem.io.dataset.hdf5 import H5DataSet\n",
    "from libertem.io.dataset.hdfs import BinaryHDFSDataSet\n",
    "from libertem.executor.dask import DaskJobExecutor\n",
    "from libertem.job.masks import ApplyMasksJob"
   ]
  },
  {
   "cell_type": "code",
   "execution_count": 5,
   "metadata": {},
   "outputs": [],
   "source": [
    "def make_masks(n=5, shape=(128, 128)):\n",
    "    masks=[\n",
    "        lambda: np.random.randn(*shape)\n",
    "        for i in range(n)\n",
    "    ]\n",
    "    return masks"
   ]
  },
  {
   "cell_type": "code",
   "execution_count": 11,
   "metadata": {},
   "outputs": [],
   "source": [
    "executor = DaskJobExecutor.make_local(cluster_kwargs={\"threads_per_worker\": 1, \"n_workers\": 1})\n",
    "# executor = DaskJobExecutor(scheduler_uri=\"tcp://localhost:8786\")\n",
    "\n",
    "\n",
    "masks = make_masks(n=16)\n",
    "\n",
    "def process_with_params(num_masks, stackheight):\n",
    "    ds = BinaryHDFSDataSet(index_path=\"/test/index.json\", host='localhost', port=8020, tileshape=(1, stackheight, 128, 128))\n",
    "    job = ApplyMasksJob(dataset=ds, mask_factories=masks[:num_masks])\n",
    "    for result in executor.run_job(job):\n",
    "        for tile in result:\n",
    "            pass\n",
    "    # TODO: ds.close()"
   ]
  },
  {
   "cell_type": "code",
   "execution_count": 13,
   "metadata": {},
   "outputs": [
    {
     "name": "stdout",
     "output_type": "stream",
     "text": [
      "CPU times: user 245 ms, sys: 43.8 ms, total: 289 ms\n",
      "Wall time: 1.09 s\n"
     ]
    }
   ],
   "source": [
    "%time process_with_params(num_masks=1, stackheight=8)"
   ]
  },
  {
   "cell_type": "code",
   "execution_count": 14,
   "metadata": {
    "scrolled": true
   },
   "outputs": [
    {
     "name": "stdout",
     "output_type": "stream",
     "text": [
      "{'num_masks': 1, 'n_workers': 1, 'stackheight': 4, 'time': 2.2843596935272217}\n",
      "{'num_masks': 1, 'n_workers': 1, 'stackheight': 4, 'time': 2.200774908065796}\n",
      "{'num_masks': 1, 'n_workers': 1, 'stackheight': 4, 'time': 2.286098003387451}\n",
      "{'num_masks': 1, 'n_workers': 1, 'stackheight': 8, 'time': 1.8917052745819092}\n",
      "{'num_masks': 1, 'n_workers': 1, 'stackheight': 8, 'time': 1.9091999530792236}\n",
      "{'num_masks': 1, 'n_workers': 1, 'stackheight': 8, 'time': 1.900893211364746}\n",
      "{'num_masks': 2, 'n_workers': 1, 'stackheight': 4, 'time': 2.6782169342041016}\n",
      "{'num_masks': 2, 'n_workers': 1, 'stackheight': 4, 'time': 2.7789499759674072}\n",
      "{'num_masks': 2, 'n_workers': 1, 'stackheight': 4, 'time': 2.6540112495422363}\n",
      "{'num_masks': 2, 'n_workers': 1, 'stackheight': 8, 'time': 2.2629542350769043}\n",
      "{'num_masks': 2, 'n_workers': 1, 'stackheight': 8, 'time': 2.2806808948516846}\n",
      "{'num_masks': 2, 'n_workers': 1, 'stackheight': 8, 'time': 2.3068854808807373}\n",
      "{'num_masks': 4, 'n_workers': 1, 'stackheight': 4, 'time': 2.8975679874420166}\n",
      "{'num_masks': 4, 'n_workers': 1, 'stackheight': 4, 'time': 2.9196157455444336}\n",
      "{'num_masks': 4, 'n_workers': 1, 'stackheight': 4, 'time': 2.866041898727417}\n",
      "{'num_masks': 4, 'n_workers': 1, 'stackheight': 8, 'time': 2.4236299991607666}\n",
      "{'num_masks': 4, 'n_workers': 1, 'stackheight': 8, 'time': 2.423818826675415}\n",
      "{'num_masks': 4, 'n_workers': 1, 'stackheight': 8, 'time': 2.387937307357788}\n",
      "{'num_masks': 8, 'n_workers': 1, 'stackheight': 4, 'time': 3.553874969482422}\n",
      "{'num_masks': 8, 'n_workers': 1, 'stackheight': 4, 'time': 3.3624444007873535}\n",
      "{'num_masks': 8, 'n_workers': 1, 'stackheight': 4, 'time': 3.3899035453796387}\n",
      "{'num_masks': 8, 'n_workers': 1, 'stackheight': 8, 'time': 2.670086622238159}\n",
      "{'num_masks': 8, 'n_workers': 1, 'stackheight': 8, 'time': 2.7134804725646973}\n",
      "{'num_masks': 8, 'n_workers': 1, 'stackheight': 8, 'time': 2.7464704513549805}\n",
      "{'num_masks': 16, 'n_workers': 1, 'stackheight': 4, 'time': 4.758831977844238}\n",
      "{'num_masks': 16, 'n_workers': 1, 'stackheight': 4, 'time': 4.554625034332275}\n",
      "{'num_masks': 16, 'n_workers': 1, 'stackheight': 4, 'time': 4.609938859939575}\n",
      "{'num_masks': 16, 'n_workers': 1, 'stackheight': 8, 'time': 3.341233968734741}\n"
     ]
    },
    {
     "name": "stderr",
     "output_type": "stream",
     "text": [
      "distributed.utils_perf - WARNING - full garbage collections took 18% CPU time recently (threshold: 10%)\n"
     ]
    },
    {
     "name": "stdout",
     "output_type": "stream",
     "text": [
      "{'num_masks': 16, 'n_workers': 1, 'stackheight': 8, 'time': 3.1759493350982666}\n",
      "{'num_masks': 16, 'n_workers': 1, 'stackheight': 8, 'time': 3.2638323307037354}\n"
     ]
    },
    {
     "name": "stderr",
     "output_type": "stream",
     "text": [
      "distributed.utils_perf - WARNING - full garbage collections took 19% CPU time recently (threshold: 10%)\n",
      "distributed.utils_perf - WARNING - full garbage collections took 19% CPU time recently (threshold: 10%)\n",
      "distributed.utils_perf - WARNING - full garbage collections took 19% CPU time recently (threshold: 10%)\n"
     ]
    },
    {
     "name": "stdout",
     "output_type": "stream",
     "text": [
      "{'num_masks': 1, 'n_workers': 2, 'stackheight': 4, 'time': 1.342029333114624}\n"
     ]
    },
    {
     "name": "stderr",
     "output_type": "stream",
     "text": [
      "distributed.utils_perf - WARNING - full garbage collections took 19% CPU time recently (threshold: 10%)\n",
      "distributed.utils_perf - WARNING - full garbage collections took 19% CPU time recently (threshold: 10%)\n"
     ]
    },
    {
     "name": "stdout",
     "output_type": "stream",
     "text": [
      "{'num_masks': 1, 'n_workers': 2, 'stackheight': 4, 'time': 1.2849011421203613}\n"
     ]
    },
    {
     "name": "stderr",
     "output_type": "stream",
     "text": [
      "distributed.utils_perf - WARNING - full garbage collections took 19% CPU time recently (threshold: 10%)\n",
      "distributed.utils_perf - WARNING - full garbage collections took 19% CPU time recently (threshold: 10%)\n"
     ]
    },
    {
     "name": "stdout",
     "output_type": "stream",
     "text": [
      "{'num_masks': 1, 'n_workers': 2, 'stackheight': 4, 'time': 1.2366390228271484}\n"
     ]
    },
    {
     "name": "stderr",
     "output_type": "stream",
     "text": [
      "distributed.utils_perf - WARNING - full garbage collections took 19% CPU time recently (threshold: 10%)\n"
     ]
    },
    {
     "name": "stdout",
     "output_type": "stream",
     "text": [
      "{'num_masks': 1, 'n_workers': 2, 'stackheight': 8, 'time': 1.0511102676391602}\n"
     ]
    },
    {
     "name": "stderr",
     "output_type": "stream",
     "text": [
      "distributed.utils_perf - WARNING - full garbage collections took 19% CPU time recently (threshold: 10%)\n"
     ]
    },
    {
     "name": "stdout",
     "output_type": "stream",
     "text": [
      "{'num_masks': 1, 'n_workers': 2, 'stackheight': 8, 'time': 1.0730791091918945}\n"
     ]
    },
    {
     "name": "stderr",
     "output_type": "stream",
     "text": [
      "distributed.utils_perf - WARNING - full garbage collections took 19% CPU time recently (threshold: 10%)\n"
     ]
    },
    {
     "name": "stdout",
     "output_type": "stream",
     "text": [
      "{'num_masks': 1, 'n_workers': 2, 'stackheight': 8, 'time': 1.043600082397461}\n"
     ]
    },
    {
     "name": "stderr",
     "output_type": "stream",
     "text": [
      "distributed.utils_perf - WARNING - full garbage collections took 19% CPU time recently (threshold: 10%)\n",
      "distributed.utils_perf - WARNING - full garbage collections took 19% CPU time recently (threshold: 10%)\n"
     ]
    },
    {
     "name": "stdout",
     "output_type": "stream",
     "text": [
      "{'num_masks': 2, 'n_workers': 2, 'stackheight': 4, 'time': 1.4675140380859375}\n"
     ]
    },
    {
     "name": "stderr",
     "output_type": "stream",
     "text": [
      "distributed.utils_perf - WARNING - full garbage collections took 19% CPU time recently (threshold: 10%)\n",
      "distributed.utils_perf - WARNING - full garbage collections took 19% CPU time recently (threshold: 10%)\n"
     ]
    },
    {
     "name": "stdout",
     "output_type": "stream",
     "text": [
      "{'num_masks': 2, 'n_workers': 2, 'stackheight': 4, 'time': 1.5089867115020752}\n"
     ]
    },
    {
     "name": "stderr",
     "output_type": "stream",
     "text": [
      "distributed.utils_perf - WARNING - full garbage collections took 19% CPU time recently (threshold: 10%)\n",
      "distributed.utils_perf - WARNING - full garbage collections took 19% CPU time recently (threshold: 10%)\n"
     ]
    },
    {
     "name": "stdout",
     "output_type": "stream",
     "text": [
      "{'num_masks': 2, 'n_workers': 2, 'stackheight': 4, 'time': 1.4825708866119385}\n"
     ]
    },
    {
     "name": "stderr",
     "output_type": "stream",
     "text": [
      "distributed.utils_perf - WARNING - full garbage collections took 19% CPU time recently (threshold: 10%)\n"
     ]
    },
    {
     "name": "stdout",
     "output_type": "stream",
     "text": [
      "{'num_masks': 2, 'n_workers': 2, 'stackheight': 8, 'time': 1.2474253177642822}\n"
     ]
    },
    {
     "name": "stderr",
     "output_type": "stream",
     "text": [
      "distributed.utils_perf - WARNING - full garbage collections took 19% CPU time recently (threshold: 10%)\n"
     ]
    },
    {
     "name": "stdout",
     "output_type": "stream",
     "text": [
      "{'num_masks': 2, 'n_workers': 2, 'stackheight': 8, 'time': 1.2633893489837646}\n"
     ]
    },
    {
     "name": "stderr",
     "output_type": "stream",
     "text": [
      "distributed.utils_perf - WARNING - full garbage collections took 19% CPU time recently (threshold: 10%)\n"
     ]
    },
    {
     "name": "stdout",
     "output_type": "stream",
     "text": [
      "{'num_masks': 2, 'n_workers': 2, 'stackheight': 8, 'time': 1.2420499324798584}\n"
     ]
    },
    {
     "name": "stderr",
     "output_type": "stream",
     "text": [
      "distributed.utils_perf - WARNING - full garbage collections took 19% CPU time recently (threshold: 10%)\n",
      "distributed.utils_perf - WARNING - full garbage collections took 19% CPU time recently (threshold: 10%)\n"
     ]
    },
    {
     "name": "stdout",
     "output_type": "stream",
     "text": [
      "{'num_masks': 4, 'n_workers': 2, 'stackheight': 4, 'time': 1.6078071594238281}\n"
     ]
    },
    {
     "name": "stderr",
     "output_type": "stream",
     "text": [
      "distributed.utils_perf - WARNING - full garbage collections took 19% CPU time recently (threshold: 10%)\n",
      "distributed.utils_perf - WARNING - full garbage collections took 19% CPU time recently (threshold: 10%)\n"
     ]
    },
    {
     "name": "stdout",
     "output_type": "stream",
     "text": [
      "{'num_masks': 4, 'n_workers': 2, 'stackheight': 4, 'time': 1.5978991985321045}\n"
     ]
    },
    {
     "name": "stderr",
     "output_type": "stream",
     "text": [
      "distributed.utils_perf - WARNING - full garbage collections took 19% CPU time recently (threshold: 10%)\n",
      "distributed.utils_perf - WARNING - full garbage collections took 19% CPU time recently (threshold: 10%)\n"
     ]
    },
    {
     "name": "stdout",
     "output_type": "stream",
     "text": [
      "{'num_masks': 4, 'n_workers': 2, 'stackheight': 4, 'time': 1.6258296966552734}\n"
     ]
    },
    {
     "name": "stderr",
     "output_type": "stream",
     "text": [
      "distributed.utils_perf - WARNING - full garbage collections took 19% CPU time recently (threshold: 10%)\n"
     ]
    },
    {
     "name": "stdout",
     "output_type": "stream",
     "text": [
      "{'num_masks': 4, 'n_workers': 2, 'stackheight': 8, 'time': 1.3665297031402588}\n"
     ]
    },
    {
     "name": "stderr",
     "output_type": "stream",
     "text": [
      "distributed.utils_perf - WARNING - full garbage collections took 19% CPU time recently (threshold: 10%)\n"
     ]
    },
    {
     "name": "stdout",
     "output_type": "stream",
     "text": [
      "{'num_masks': 4, 'n_workers': 2, 'stackheight': 8, 'time': 1.3624229431152344}\n"
     ]
    },
    {
     "name": "stderr",
     "output_type": "stream",
     "text": [
      "distributed.utils_perf - WARNING - full garbage collections took 19% CPU time recently (threshold: 10%)\n"
     ]
    },
    {
     "name": "stdout",
     "output_type": "stream",
     "text": [
      "{'num_masks': 4, 'n_workers': 2, 'stackheight': 8, 'time': 1.32814359664917}\n"
     ]
    },
    {
     "name": "stderr",
     "output_type": "stream",
     "text": [
      "distributed.utils_perf - WARNING - full garbage collections took 19% CPU time recently (threshold: 10%)\n",
      "distributed.utils_perf - WARNING - full garbage collections took 19% CPU time recently (threshold: 10%)\n"
     ]
    },
    {
     "name": "stdout",
     "output_type": "stream",
     "text": [
      "{'num_masks': 8, 'n_workers': 2, 'stackheight': 4, 'time': 1.8711307048797607}\n"
     ]
    },
    {
     "name": "stderr",
     "output_type": "stream",
     "text": [
      "distributed.utils_perf - WARNING - full garbage collections took 19% CPU time recently (threshold: 10%)\n",
      "distributed.utils_perf - WARNING - full garbage collections took 19% CPU time recently (threshold: 10%)\n"
     ]
    },
    {
     "name": "stdout",
     "output_type": "stream",
     "text": [
      "{'num_masks': 8, 'n_workers': 2, 'stackheight': 4, 'time': 1.8928630352020264}\n"
     ]
    },
    {
     "name": "stderr",
     "output_type": "stream",
     "text": [
      "distributed.utils_perf - WARNING - full garbage collections took 19% CPU time recently (threshold: 10%)\n",
      "distributed.utils_perf - WARNING - full garbage collections took 19% CPU time recently (threshold: 10%)\n"
     ]
    },
    {
     "name": "stdout",
     "output_type": "stream",
     "text": [
      "{'num_masks': 8, 'n_workers': 2, 'stackheight': 4, 'time': 1.9427008628845215}\n"
     ]
    },
    {
     "name": "stderr",
     "output_type": "stream",
     "text": [
      "distributed.utils_perf - WARNING - full garbage collections took 19% CPU time recently (threshold: 10%)\n"
     ]
    },
    {
     "name": "stdout",
     "output_type": "stream",
     "text": [
      "{'num_masks': 8, 'n_workers': 2, 'stackheight': 8, 'time': 1.603440284729004}\n"
     ]
    },
    {
     "name": "stderr",
     "output_type": "stream",
     "text": [
      "distributed.utils_perf - WARNING - full garbage collections took 19% CPU time recently (threshold: 10%)\n"
     ]
    },
    {
     "name": "stdout",
     "output_type": "stream",
     "text": [
      "{'num_masks': 8, 'n_workers': 2, 'stackheight': 8, 'time': 1.5122416019439697}\n"
     ]
    },
    {
     "name": "stderr",
     "output_type": "stream",
     "text": [
      "distributed.utils_perf - WARNING - full garbage collections took 19% CPU time recently (threshold: 10%)\n"
     ]
    },
    {
     "name": "stdout",
     "output_type": "stream",
     "text": [
      "{'num_masks': 8, 'n_workers': 2, 'stackheight': 8, 'time': 1.4678490161895752}\n"
     ]
    },
    {
     "name": "stderr",
     "output_type": "stream",
     "text": [
      "distributed.utils_perf - WARNING - full garbage collections took 19% CPU time recently (threshold: 10%)\n",
      "distributed.utils_perf - WARNING - full garbage collections took 19% CPU time recently (threshold: 10%)\n"
     ]
    },
    {
     "name": "stdout",
     "output_type": "stream",
     "text": [
      "{'num_masks': 16, 'n_workers': 2, 'stackheight': 4, 'time': 2.5678398609161377}\n"
     ]
    },
    {
     "name": "stderr",
     "output_type": "stream",
     "text": [
      "distributed.utils_perf - WARNING - full garbage collections took 19% CPU time recently (threshold: 10%)\n",
      "distributed.utils_perf - WARNING - full garbage collections took 19% CPU time recently (threshold: 10%)\n"
     ]
    },
    {
     "name": "stdout",
     "output_type": "stream",
     "text": [
      "{'num_masks': 16, 'n_workers': 2, 'stackheight': 4, 'time': 2.55597186088562}\n"
     ]
    },
    {
     "name": "stderr",
     "output_type": "stream",
     "text": [
      "distributed.utils_perf - WARNING - full garbage collections took 19% CPU time recently (threshold: 10%)\n",
      "distributed.utils_perf - WARNING - full garbage collections took 19% CPU time recently (threshold: 10%)\n"
     ]
    },
    {
     "name": "stdout",
     "output_type": "stream",
     "text": [
      "{'num_masks': 16, 'n_workers': 2, 'stackheight': 4, 'time': 2.6622209548950195}\n"
     ]
    },
    {
     "name": "stderr",
     "output_type": "stream",
     "text": [
      "distributed.utils_perf - WARNING - full garbage collections took 19% CPU time recently (threshold: 10%)\n"
     ]
    },
    {
     "name": "stdout",
     "output_type": "stream",
     "text": [
      "{'num_masks': 16, 'n_workers': 2, 'stackheight': 8, 'time': 1.7942354679107666}\n"
     ]
    },
    {
     "name": "stderr",
     "output_type": "stream",
     "text": [
      "distributed.utils_perf - WARNING - full garbage collections took 19% CPU time recently (threshold: 10%)\n"
     ]
    },
    {
     "name": "stdout",
     "output_type": "stream",
     "text": [
      "{'num_masks': 16, 'n_workers': 2, 'stackheight': 8, 'time': 1.8958323001861572}\n",
      "{'num_masks': 16, 'n_workers': 2, 'stackheight': 8, 'time': 1.8718068599700928}\n"
     ]
    },
    {
     "name": "stderr",
     "output_type": "stream",
     "text": [
      "distributed.utils_perf - WARNING - full garbage collections took 19% CPU time recently (threshold: 10%)\n",
      "distributed.utils_perf - WARNING - full garbage collections took 19% CPU time recently (threshold: 10%)\n",
      "distributed.utils_perf - WARNING - full garbage collections took 19% CPU time recently (threshold: 10%)\n"
     ]
    },
    {
     "name": "stdout",
     "output_type": "stream",
     "text": [
      "{'num_masks': 1, 'n_workers': 3, 'stackheight': 4, 'time': 1.031109094619751}\n"
     ]
    },
    {
     "name": "stderr",
     "output_type": "stream",
     "text": [
      "distributed.utils_perf - WARNING - full garbage collections took 19% CPU time recently (threshold: 10%)\n",
      "distributed.utils_perf - WARNING - full garbage collections took 20% CPU time recently (threshold: 10%)\n"
     ]
    },
    {
     "name": "stdout",
     "output_type": "stream",
     "text": [
      "{'num_masks': 1, 'n_workers': 3, 'stackheight': 4, 'time': 1.0163195133209229}\n"
     ]
    },
    {
     "name": "stderr",
     "output_type": "stream",
     "text": [
      "distributed.utils_perf - WARNING - full garbage collections took 20% CPU time recently (threshold: 10%)\n",
      "distributed.utils_perf - WARNING - full garbage collections took 20% CPU time recently (threshold: 10%)\n"
     ]
    },
    {
     "name": "stdout",
     "output_type": "stream",
     "text": [
      "{'num_masks': 1, 'n_workers': 3, 'stackheight': 4, 'time': 1.0718193054199219}\n"
     ]
    },
    {
     "name": "stderr",
     "output_type": "stream",
     "text": [
      "distributed.utils_perf - WARNING - full garbage collections took 20% CPU time recently (threshold: 10%)\n"
     ]
    },
    {
     "name": "stdout",
     "output_type": "stream",
     "text": [
      "{'num_masks': 1, 'n_workers': 3, 'stackheight': 8, 'time': 0.9277801513671875}\n"
     ]
    },
    {
     "name": "stderr",
     "output_type": "stream",
     "text": [
      "distributed.utils_perf - WARNING - full garbage collections took 20% CPU time recently (threshold: 10%)\n"
     ]
    },
    {
     "name": "stdout",
     "output_type": "stream",
     "text": [
      "{'num_masks': 1, 'n_workers': 3, 'stackheight': 8, 'time': 0.8753650188446045}\n"
     ]
    },
    {
     "name": "stderr",
     "output_type": "stream",
     "text": [
      "distributed.utils_perf - WARNING - full garbage collections took 20% CPU time recently (threshold: 10%)\n"
     ]
    },
    {
     "name": "stdout",
     "output_type": "stream",
     "text": [
      "{'num_masks': 1, 'n_workers': 3, 'stackheight': 8, 'time': 0.9050571918487549}\n"
     ]
    },
    {
     "name": "stderr",
     "output_type": "stream",
     "text": [
      "distributed.utils_perf - WARNING - full garbage collections took 20% CPU time recently (threshold: 10%)\n",
      "distributed.utils_perf - WARNING - full garbage collections took 20% CPU time recently (threshold: 10%)\n"
     ]
    },
    {
     "name": "stdout",
     "output_type": "stream",
     "text": [
      "{'num_masks': 2, 'n_workers': 3, 'stackheight': 4, 'time': 1.192591667175293}\n"
     ]
    },
    {
     "name": "stderr",
     "output_type": "stream",
     "text": [
      "distributed.utils_perf - WARNING - full garbage collections took 20% CPU time recently (threshold: 10%)\n",
      "distributed.utils_perf - WARNING - full garbage collections took 20% CPU time recently (threshold: 10%)\n"
     ]
    },
    {
     "name": "stdout",
     "output_type": "stream",
     "text": [
      "{'num_masks': 2, 'n_workers': 3, 'stackheight': 4, 'time': 1.1841461658477783}\n"
     ]
    },
    {
     "name": "stderr",
     "output_type": "stream",
     "text": [
      "distributed.utils_perf - WARNING - full garbage collections took 20% CPU time recently (threshold: 10%)\n",
      "distributed.utils_perf - WARNING - full garbage collections took 20% CPU time recently (threshold: 10%)\n"
     ]
    },
    {
     "name": "stdout",
     "output_type": "stream",
     "text": [
      "{'num_masks': 2, 'n_workers': 3, 'stackheight': 4, 'time': 1.1980745792388916}\n"
     ]
    },
    {
     "name": "stderr",
     "output_type": "stream",
     "text": [
      "distributed.utils_perf - WARNING - full garbage collections took 20% CPU time recently (threshold: 10%)\n"
     ]
    },
    {
     "name": "stdout",
     "output_type": "stream",
     "text": [
      "{'num_masks': 2, 'n_workers': 3, 'stackheight': 8, 'time': 1.0339365005493164}\n"
     ]
    },
    {
     "name": "stderr",
     "output_type": "stream",
     "text": [
      "distributed.utils_perf - WARNING - full garbage collections took 20% CPU time recently (threshold: 10%)\n"
     ]
    },
    {
     "name": "stdout",
     "output_type": "stream",
     "text": [
      "{'num_masks': 2, 'n_workers': 3, 'stackheight': 8, 'time': 1.0571398735046387}\n"
     ]
    },
    {
     "name": "stderr",
     "output_type": "stream",
     "text": [
      "distributed.utils_perf - WARNING - full garbage collections took 20% CPU time recently (threshold: 10%)\n"
     ]
    },
    {
     "name": "stdout",
     "output_type": "stream",
     "text": [
      "{'num_masks': 2, 'n_workers': 3, 'stackheight': 8, 'time': 0.9922096729278564}\n"
     ]
    },
    {
     "name": "stderr",
     "output_type": "stream",
     "text": [
      "distributed.utils_perf - WARNING - full garbage collections took 20% CPU time recently (threshold: 10%)\n",
      "distributed.utils_perf - WARNING - full garbage collections took 20% CPU time recently (threshold: 10%)\n"
     ]
    },
    {
     "name": "stdout",
     "output_type": "stream",
     "text": [
      "{'num_masks': 4, 'n_workers': 3, 'stackheight': 4, 'time': 1.3046956062316895}\n"
     ]
    },
    {
     "name": "stderr",
     "output_type": "stream",
     "text": [
      "distributed.utils_perf - WARNING - full garbage collections took 20% CPU time recently (threshold: 10%)\n",
      "distributed.utils_perf - WARNING - full garbage collections took 20% CPU time recently (threshold: 10%)\n"
     ]
    },
    {
     "name": "stdout",
     "output_type": "stream",
     "text": [
      "{'num_masks': 4, 'n_workers': 3, 'stackheight': 4, 'time': 1.2929513454437256}\n"
     ]
    },
    {
     "name": "stderr",
     "output_type": "stream",
     "text": [
      "distributed.utils_perf - WARNING - full garbage collections took 20% CPU time recently (threshold: 10%)\n",
      "distributed.utils_perf - WARNING - full garbage collections took 20% CPU time recently (threshold: 10%)\n"
     ]
    },
    {
     "name": "stdout",
     "output_type": "stream",
     "text": [
      "{'num_masks': 4, 'n_workers': 3, 'stackheight': 4, 'time': 1.3045539855957031}\n"
     ]
    },
    {
     "name": "stderr",
     "output_type": "stream",
     "text": [
      "distributed.utils_perf - WARNING - full garbage collections took 20% CPU time recently (threshold: 10%)\n"
     ]
    },
    {
     "name": "stdout",
     "output_type": "stream",
     "text": [
      "{'num_masks': 4, 'n_workers': 3, 'stackheight': 8, 'time': 1.0672187805175781}\n"
     ]
    },
    {
     "name": "stderr",
     "output_type": "stream",
     "text": [
      "distributed.utils_perf - WARNING - full garbage collections took 20% CPU time recently (threshold: 10%)\n"
     ]
    },
    {
     "name": "stdout",
     "output_type": "stream",
     "text": [
      "{'num_masks': 4, 'n_workers': 3, 'stackheight': 8, 'time': 1.0189628601074219}\n"
     ]
    },
    {
     "name": "stderr",
     "output_type": "stream",
     "text": [
      "distributed.utils_perf - WARNING - full garbage collections took 20% CPU time recently (threshold: 10%)\n"
     ]
    },
    {
     "name": "stdout",
     "output_type": "stream",
     "text": [
      "{'num_masks': 4, 'n_workers': 3, 'stackheight': 8, 'time': 1.0924742221832275}\n"
     ]
    },
    {
     "name": "stderr",
     "output_type": "stream",
     "text": [
      "distributed.utils_perf - WARNING - full garbage collections took 20% CPU time recently (threshold: 10%)\n",
      "distributed.utils_perf - WARNING - full garbage collections took 20% CPU time recently (threshold: 10%)\n"
     ]
    },
    {
     "name": "stdout",
     "output_type": "stream",
     "text": [
      "{'num_masks': 8, 'n_workers': 3, 'stackheight': 4, 'time': 1.450918436050415}\n"
     ]
    },
    {
     "name": "stderr",
     "output_type": "stream",
     "text": [
      "distributed.utils_perf - WARNING - full garbage collections took 20% CPU time recently (threshold: 10%)\n",
      "distributed.utils_perf - WARNING - full garbage collections took 20% CPU time recently (threshold: 10%)\n"
     ]
    },
    {
     "name": "stdout",
     "output_type": "stream",
     "text": [
      "{'num_masks': 8, 'n_workers': 3, 'stackheight': 4, 'time': 1.4169998168945312}\n"
     ]
    },
    {
     "name": "stderr",
     "output_type": "stream",
     "text": [
      "distributed.utils_perf - WARNING - full garbage collections took 20% CPU time recently (threshold: 10%)\n",
      "distributed.utils_perf - WARNING - full garbage collections took 20% CPU time recently (threshold: 10%)\n"
     ]
    },
    {
     "name": "stdout",
     "output_type": "stream",
     "text": [
      "{'num_masks': 8, 'n_workers': 3, 'stackheight': 4, 'time': 1.5526206493377686}\n"
     ]
    },
    {
     "name": "stderr",
     "output_type": "stream",
     "text": [
      "distributed.utils_perf - WARNING - full garbage collections took 20% CPU time recently (threshold: 10%)\n"
     ]
    },
    {
     "name": "stdout",
     "output_type": "stream",
     "text": [
      "{'num_masks': 8, 'n_workers': 3, 'stackheight': 8, 'time': 1.308805227279663}\n"
     ]
    },
    {
     "name": "stderr",
     "output_type": "stream",
     "text": [
      "distributed.utils_perf - WARNING - full garbage collections took 20% CPU time recently (threshold: 10%)\n"
     ]
    },
    {
     "name": "stdout",
     "output_type": "stream",
     "text": [
      "{'num_masks': 8, 'n_workers': 3, 'stackheight': 8, 'time': 1.2961359024047852}\n"
     ]
    },
    {
     "name": "stderr",
     "output_type": "stream",
     "text": [
      "distributed.utils_perf - WARNING - full garbage collections took 20% CPU time recently (threshold: 10%)\n"
     ]
    },
    {
     "name": "stdout",
     "output_type": "stream",
     "text": [
      "{'num_masks': 8, 'n_workers': 3, 'stackheight': 8, 'time': 1.2058918476104736}\n"
     ]
    },
    {
     "name": "stderr",
     "output_type": "stream",
     "text": [
      "distributed.utils_perf - WARNING - full garbage collections took 20% CPU time recently (threshold: 10%)\n",
      "distributed.utils_perf - WARNING - full garbage collections took 20% CPU time recently (threshold: 10%)\n"
     ]
    },
    {
     "name": "stdout",
     "output_type": "stream",
     "text": [
      "{'num_masks': 16, 'n_workers': 3, 'stackheight': 4, 'time': 2.0938100814819336}\n"
     ]
    },
    {
     "name": "stderr",
     "output_type": "stream",
     "text": [
      "distributed.utils_perf - WARNING - full garbage collections took 20% CPU time recently (threshold: 10%)\n",
      "distributed.utils_perf - WARNING - full garbage collections took 21% CPU time recently (threshold: 10%)\n"
     ]
    },
    {
     "name": "stdout",
     "output_type": "stream",
     "text": [
      "{'num_masks': 16, 'n_workers': 3, 'stackheight': 4, 'time': 2.0496041774749756}\n"
     ]
    },
    {
     "name": "stderr",
     "output_type": "stream",
     "text": [
      "distributed.utils_perf - WARNING - full garbage collections took 21% CPU time recently (threshold: 10%)\n",
      "distributed.utils_perf - WARNING - full garbage collections took 20% CPU time recently (threshold: 10%)\n"
     ]
    },
    {
     "name": "stdout",
     "output_type": "stream",
     "text": [
      "{'num_masks': 16, 'n_workers': 3, 'stackheight': 4, 'time': 1.9482886791229248}\n"
     ]
    },
    {
     "name": "stderr",
     "output_type": "stream",
     "text": [
      "distributed.utils_perf - WARNING - full garbage collections took 20% CPU time recently (threshold: 10%)\n"
     ]
    },
    {
     "name": "stdout",
     "output_type": "stream",
     "text": [
      "{'num_masks': 16, 'n_workers': 3, 'stackheight': 8, 'time': 1.4436163902282715}\n"
     ]
    },
    {
     "name": "stderr",
     "output_type": "stream",
     "text": [
      "distributed.utils_perf - WARNING - full garbage collections took 20% CPU time recently (threshold: 10%)\n"
     ]
    },
    {
     "name": "stdout",
     "output_type": "stream",
     "text": [
      "{'num_masks': 16, 'n_workers': 3, 'stackheight': 8, 'time': 1.4448869228363037}\n",
      "{'num_masks': 16, 'n_workers': 3, 'stackheight': 8, 'time': 1.5428800582885742}\n"
     ]
    },
    {
     "name": "stderr",
     "output_type": "stream",
     "text": [
      "distributed.utils_perf - WARNING - full garbage collections took 20% CPU time recently (threshold: 10%)\n",
      "distributed.utils_perf - WARNING - full garbage collections took 20% CPU time recently (threshold: 10%)\n",
      "distributed.utils_perf - WARNING - full garbage collections took 20% CPU time recently (threshold: 10%)\n"
     ]
    },
    {
     "name": "stdout",
     "output_type": "stream",
     "text": [
      "{'num_masks': 1, 'n_workers': 4, 'stackheight': 4, 'time': 0.8833813667297363}\n"
     ]
    },
    {
     "name": "stderr",
     "output_type": "stream",
     "text": [
      "distributed.utils_perf - WARNING - full garbage collections took 20% CPU time recently (threshold: 10%)\n",
      "distributed.utils_perf - WARNING - full garbage collections took 20% CPU time recently (threshold: 10%)\n"
     ]
    },
    {
     "name": "stdout",
     "output_type": "stream",
     "text": [
      "{'num_masks': 1, 'n_workers': 4, 'stackheight': 4, 'time': 0.846259593963623}\n"
     ]
    },
    {
     "name": "stderr",
     "output_type": "stream",
     "text": [
      "distributed.utils_perf - WARNING - full garbage collections took 20% CPU time recently (threshold: 10%)\n",
      "distributed.utils_perf - WARNING - full garbage collections took 20% CPU time recently (threshold: 10%)\n"
     ]
    },
    {
     "name": "stdout",
     "output_type": "stream",
     "text": [
      "{'num_masks': 1, 'n_workers': 4, 'stackheight': 4, 'time': 0.8673086166381836}\n"
     ]
    },
    {
     "name": "stderr",
     "output_type": "stream",
     "text": [
      "distributed.utils_perf - WARNING - full garbage collections took 20% CPU time recently (threshold: 10%)\n"
     ]
    },
    {
     "name": "stdout",
     "output_type": "stream",
     "text": [
      "{'num_masks': 1, 'n_workers': 4, 'stackheight': 8, 'time': 0.7098124027252197}\n"
     ]
    },
    {
     "name": "stderr",
     "output_type": "stream",
     "text": [
      "distributed.utils_perf - WARNING - full garbage collections took 20% CPU time recently (threshold: 10%)\n"
     ]
    },
    {
     "name": "stdout",
     "output_type": "stream",
     "text": [
      "{'num_masks': 1, 'n_workers': 4, 'stackheight': 8, 'time': 0.7333743572235107}\n"
     ]
    },
    {
     "name": "stderr",
     "output_type": "stream",
     "text": [
      "distributed.utils_perf - WARNING - full garbage collections took 20% CPU time recently (threshold: 10%)\n"
     ]
    },
    {
     "name": "stdout",
     "output_type": "stream",
     "text": [
      "{'num_masks': 1, 'n_workers': 4, 'stackheight': 8, 'time': 0.6877820491790771}\n"
     ]
    },
    {
     "name": "stderr",
     "output_type": "stream",
     "text": [
      "distributed.utils_perf - WARNING - full garbage collections took 20% CPU time recently (threshold: 10%)\n",
      "distributed.utils_perf - WARNING - full garbage collections took 20% CPU time recently (threshold: 10%)\n"
     ]
    },
    {
     "name": "stdout",
     "output_type": "stream",
     "text": [
      "{'num_masks': 2, 'n_workers': 4, 'stackheight': 4, 'time': 0.9592459201812744}\n"
     ]
    },
    {
     "name": "stderr",
     "output_type": "stream",
     "text": [
      "distributed.utils_perf - WARNING - full garbage collections took 20% CPU time recently (threshold: 10%)\n",
      "distributed.utils_perf - WARNING - full garbage collections took 20% CPU time recently (threshold: 10%)\n"
     ]
    },
    {
     "name": "stdout",
     "output_type": "stream",
     "text": [
      "{'num_masks': 2, 'n_workers': 4, 'stackheight': 4, 'time': 0.994985818862915}\n"
     ]
    },
    {
     "name": "stderr",
     "output_type": "stream",
     "text": [
      "distributed.utils_perf - WARNING - full garbage collections took 20% CPU time recently (threshold: 10%)\n",
      "distributed.utils_perf - WARNING - full garbage collections took 20% CPU time recently (threshold: 10%)\n"
     ]
    },
    {
     "name": "stdout",
     "output_type": "stream",
     "text": [
      "{'num_masks': 2, 'n_workers': 4, 'stackheight': 4, 'time': 0.9823062419891357}\n"
     ]
    },
    {
     "name": "stderr",
     "output_type": "stream",
     "text": [
      "distributed.utils_perf - WARNING - full garbage collections took 20% CPU time recently (threshold: 10%)\n"
     ]
    },
    {
     "name": "stdout",
     "output_type": "stream",
     "text": [
      "{'num_masks': 2, 'n_workers': 4, 'stackheight': 8, 'time': 0.8746514320373535}\n"
     ]
    },
    {
     "name": "stderr",
     "output_type": "stream",
     "text": [
      "distributed.utils_perf - WARNING - full garbage collections took 20% CPU time recently (threshold: 10%)\n"
     ]
    },
    {
     "name": "stdout",
     "output_type": "stream",
     "text": [
      "{'num_masks': 2, 'n_workers': 4, 'stackheight': 8, 'time': 0.8327968120574951}\n"
     ]
    },
    {
     "name": "stderr",
     "output_type": "stream",
     "text": [
      "distributed.utils_perf - WARNING - full garbage collections took 20% CPU time recently (threshold: 10%)\n"
     ]
    },
    {
     "name": "stdout",
     "output_type": "stream",
     "text": [
      "{'num_masks': 2, 'n_workers': 4, 'stackheight': 8, 'time': 0.8784613609313965}\n"
     ]
    },
    {
     "name": "stderr",
     "output_type": "stream",
     "text": [
      "distributed.utils_perf - WARNING - full garbage collections took 20% CPU time recently (threshold: 10%)\n",
      "distributed.utils_perf - WARNING - full garbage collections took 20% CPU time recently (threshold: 10%)\n"
     ]
    },
    {
     "name": "stdout",
     "output_type": "stream",
     "text": [
      "{'num_masks': 4, 'n_workers': 4, 'stackheight': 4, 'time': 1.0693516731262207}\n"
     ]
    },
    {
     "name": "stderr",
     "output_type": "stream",
     "text": [
      "distributed.utils_perf - WARNING - full garbage collections took 20% CPU time recently (threshold: 10%)\n",
      "distributed.utils_perf - WARNING - full garbage collections took 20% CPU time recently (threshold: 10%)\n"
     ]
    },
    {
     "name": "stdout",
     "output_type": "stream",
     "text": [
      "{'num_masks': 4, 'n_workers': 4, 'stackheight': 4, 'time': 1.0470523834228516}\n"
     ]
    },
    {
     "name": "stderr",
     "output_type": "stream",
     "text": [
      "distributed.utils_perf - WARNING - full garbage collections took 20% CPU time recently (threshold: 10%)\n",
      "distributed.utils_perf - WARNING - full garbage collections took 20% CPU time recently (threshold: 10%)\n"
     ]
    },
    {
     "name": "stdout",
     "output_type": "stream",
     "text": [
      "{'num_masks': 4, 'n_workers': 4, 'stackheight': 4, 'time': 1.0489404201507568}\n"
     ]
    },
    {
     "name": "stderr",
     "output_type": "stream",
     "text": [
      "distributed.utils_perf - WARNING - full garbage collections took 20% CPU time recently (threshold: 10%)\n"
     ]
    },
    {
     "name": "stdout",
     "output_type": "stream",
     "text": [
      "{'num_masks': 4, 'n_workers': 4, 'stackheight': 8, 'time': 0.8435215950012207}\n"
     ]
    },
    {
     "name": "stderr",
     "output_type": "stream",
     "text": [
      "distributed.utils_perf - WARNING - full garbage collections took 20% CPU time recently (threshold: 10%)\n"
     ]
    },
    {
     "name": "stdout",
     "output_type": "stream",
     "text": [
      "{'num_masks': 4, 'n_workers': 4, 'stackheight': 8, 'time': 0.8169825077056885}\n"
     ]
    },
    {
     "name": "stderr",
     "output_type": "stream",
     "text": [
      "distributed.utils_perf - WARNING - full garbage collections took 20% CPU time recently (threshold: 10%)\n"
     ]
    },
    {
     "name": "stdout",
     "output_type": "stream",
     "text": [
      "{'num_masks': 4, 'n_workers': 4, 'stackheight': 8, 'time': 0.90126633644104}\n"
     ]
    },
    {
     "name": "stderr",
     "output_type": "stream",
     "text": [
      "distributed.utils_perf - WARNING - full garbage collections took 20% CPU time recently (threshold: 10%)\n",
      "distributed.utils_perf - WARNING - full garbage collections took 20% CPU time recently (threshold: 10%)\n"
     ]
    },
    {
     "name": "stdout",
     "output_type": "stream",
     "text": [
      "{'num_masks': 8, 'n_workers': 4, 'stackheight': 4, 'time': 1.2785959243774414}\n"
     ]
    },
    {
     "name": "stderr",
     "output_type": "stream",
     "text": [
      "distributed.utils_perf - WARNING - full garbage collections took 20% CPU time recently (threshold: 10%)\n",
      "distributed.utils_perf - WARNING - full garbage collections took 20% CPU time recently (threshold: 10%)\n"
     ]
    },
    {
     "name": "stdout",
     "output_type": "stream",
     "text": [
      "{'num_masks': 8, 'n_workers': 4, 'stackheight': 4, 'time': 1.272406816482544}\n"
     ]
    },
    {
     "name": "stderr",
     "output_type": "stream",
     "text": [
      "distributed.utils_perf - WARNING - full garbage collections took 20% CPU time recently (threshold: 10%)\n",
      "distributed.utils_perf - WARNING - full garbage collections took 20% CPU time recently (threshold: 10%)\n"
     ]
    },
    {
     "name": "stdout",
     "output_type": "stream",
     "text": [
      "{'num_masks': 8, 'n_workers': 4, 'stackheight': 4, 'time': 1.3209071159362793}\n"
     ]
    },
    {
     "name": "stderr",
     "output_type": "stream",
     "text": [
      "distributed.utils_perf - WARNING - full garbage collections took 20% CPU time recently (threshold: 10%)\n"
     ]
    },
    {
     "name": "stdout",
     "output_type": "stream",
     "text": [
      "{'num_masks': 8, 'n_workers': 4, 'stackheight': 8, 'time': 1.0823378562927246}\n"
     ]
    },
    {
     "name": "stderr",
     "output_type": "stream",
     "text": [
      "distributed.utils_perf - WARNING - full garbage collections took 20% CPU time recently (threshold: 10%)\n"
     ]
    },
    {
     "name": "stdout",
     "output_type": "stream",
     "text": [
      "{'num_masks': 8, 'n_workers': 4, 'stackheight': 8, 'time': 0.9937891960144043}\n"
     ]
    },
    {
     "name": "stderr",
     "output_type": "stream",
     "text": [
      "distributed.utils_perf - WARNING - full garbage collections took 20% CPU time recently (threshold: 10%)\n"
     ]
    },
    {
     "name": "stdout",
     "output_type": "stream",
     "text": [
      "{'num_masks': 8, 'n_workers': 4, 'stackheight': 8, 'time': 0.978830099105835}\n"
     ]
    },
    {
     "name": "stderr",
     "output_type": "stream",
     "text": [
      "distributed.utils_perf - WARNING - full garbage collections took 20% CPU time recently (threshold: 10%)\n",
      "distributed.utils_perf - WARNING - full garbage collections took 20% CPU time recently (threshold: 10%)\n"
     ]
    },
    {
     "name": "stdout",
     "output_type": "stream",
     "text": [
      "{'num_masks': 16, 'n_workers': 4, 'stackheight': 4, 'time': 1.7378530502319336}\n"
     ]
    },
    {
     "name": "stderr",
     "output_type": "stream",
     "text": [
      "distributed.utils_perf - WARNING - full garbage collections took 20% CPU time recently (threshold: 10%)\n",
      "distributed.utils_perf - WARNING - full garbage collections took 20% CPU time recently (threshold: 10%)\n"
     ]
    },
    {
     "name": "stdout",
     "output_type": "stream",
     "text": [
      "{'num_masks': 16, 'n_workers': 4, 'stackheight': 4, 'time': 1.8634533882141113}\n"
     ]
    },
    {
     "name": "stderr",
     "output_type": "stream",
     "text": [
      "distributed.utils_perf - WARNING - full garbage collections took 20% CPU time recently (threshold: 10%)\n",
      "distributed.utils_perf - WARNING - full garbage collections took 21% CPU time recently (threshold: 10%)\n"
     ]
    },
    {
     "name": "stdout",
     "output_type": "stream",
     "text": [
      "{'num_masks': 16, 'n_workers': 4, 'stackheight': 4, 'time': 1.7348194122314453}\n"
     ]
    },
    {
     "name": "stderr",
     "output_type": "stream",
     "text": [
      "distributed.utils_perf - WARNING - full garbage collections took 21% CPU time recently (threshold: 10%)\n"
     ]
    },
    {
     "name": "stdout",
     "output_type": "stream",
     "text": [
      "{'num_masks': 16, 'n_workers': 4, 'stackheight': 8, 'time': 1.2182843685150146}\n"
     ]
    },
    {
     "name": "stderr",
     "output_type": "stream",
     "text": [
      "distributed.utils_perf - WARNING - full garbage collections took 21% CPU time recently (threshold: 10%)\n"
     ]
    },
    {
     "name": "stdout",
     "output_type": "stream",
     "text": [
      "{'num_masks': 16, 'n_workers': 4, 'stackheight': 8, 'time': 1.2907545566558838}\n",
      "{'num_masks': 16, 'n_workers': 4, 'stackheight': 8, 'time': 1.2863407135009766}\n"
     ]
    },
    {
     "name": "stderr",
     "output_type": "stream",
     "text": [
      "distributed.utils_perf - WARNING - full garbage collections took 21% CPU time recently (threshold: 10%)\n",
      "distributed.utils_perf - WARNING - full garbage collections took 21% CPU time recently (threshold: 10%)\n",
      "distributed.utils_perf - WARNING - full garbage collections took 21% CPU time recently (threshold: 10%)\n"
     ]
    },
    {
     "name": "stdout",
     "output_type": "stream",
     "text": [
      "{'num_masks': 1, 'n_workers': 5, 'stackheight': 4, 'time': 0.7836499214172363}\n"
     ]
    },
    {
     "name": "stderr",
     "output_type": "stream",
     "text": [
      "distributed.utils_perf - WARNING - full garbage collections took 21% CPU time recently (threshold: 10%)\n",
      "distributed.utils_perf - WARNING - full garbage collections took 21% CPU time recently (threshold: 10%)\n"
     ]
    },
    {
     "name": "stdout",
     "output_type": "stream",
     "text": [
      "{'num_masks': 1, 'n_workers': 5, 'stackheight': 4, 'time': 0.7931466102600098}\n"
     ]
    },
    {
     "name": "stderr",
     "output_type": "stream",
     "text": [
      "distributed.utils_perf - WARNING - full garbage collections took 21% CPU time recently (threshold: 10%)\n",
      "distributed.utils_perf - WARNING - full garbage collections took 21% CPU time recently (threshold: 10%)\n"
     ]
    },
    {
     "name": "stdout",
     "output_type": "stream",
     "text": [
      "{'num_masks': 1, 'n_workers': 5, 'stackheight': 4, 'time': 0.7856605052947998}\n"
     ]
    },
    {
     "name": "stderr",
     "output_type": "stream",
     "text": [
      "distributed.utils_perf - WARNING - full garbage collections took 21% CPU time recently (threshold: 10%)\n"
     ]
    },
    {
     "name": "stdout",
     "output_type": "stream",
     "text": [
      "{'num_masks': 1, 'n_workers': 5, 'stackheight': 8, 'time': 0.7302074432373047}\n"
     ]
    },
    {
     "name": "stderr",
     "output_type": "stream",
     "text": [
      "distributed.utils_perf - WARNING - full garbage collections took 21% CPU time recently (threshold: 10%)\n"
     ]
    },
    {
     "name": "stdout",
     "output_type": "stream",
     "text": [
      "{'num_masks': 1, 'n_workers': 5, 'stackheight': 8, 'time': 0.6686630249023438}\n"
     ]
    },
    {
     "name": "stderr",
     "output_type": "stream",
     "text": [
      "distributed.utils_perf - WARNING - full garbage collections took 21% CPU time recently (threshold: 10%)\n"
     ]
    },
    {
     "name": "stdout",
     "output_type": "stream",
     "text": [
      "{'num_masks': 1, 'n_workers': 5, 'stackheight': 8, 'time': 0.6509106159210205}\n"
     ]
    },
    {
     "name": "stderr",
     "output_type": "stream",
     "text": [
      "distributed.utils_perf - WARNING - full garbage collections took 21% CPU time recently (threshold: 10%)\n",
      "distributed.utils_perf - WARNING - full garbage collections took 21% CPU time recently (threshold: 10%)\n"
     ]
    },
    {
     "name": "stdout",
     "output_type": "stream",
     "text": [
      "{'num_masks': 2, 'n_workers': 5, 'stackheight': 4, 'time': 0.9503645896911621}\n"
     ]
    },
    {
     "name": "stderr",
     "output_type": "stream",
     "text": [
      "distributed.utils_perf - WARNING - full garbage collections took 21% CPU time recently (threshold: 10%)\n",
      "distributed.utils_perf - WARNING - full garbage collections took 22% CPU time recently (threshold: 10%)\n"
     ]
    },
    {
     "name": "stdout",
     "output_type": "stream",
     "text": [
      "{'num_masks': 2, 'n_workers': 5, 'stackheight': 4, 'time': 0.9680521488189697}\n"
     ]
    },
    {
     "name": "stderr",
     "output_type": "stream",
     "text": [
      "distributed.utils_perf - WARNING - full garbage collections took 22% CPU time recently (threshold: 10%)\n",
      "distributed.utils_perf - WARNING - full garbage collections took 21% CPU time recently (threshold: 10%)\n"
     ]
    },
    {
     "name": "stdout",
     "output_type": "stream",
     "text": [
      "{'num_masks': 2, 'n_workers': 5, 'stackheight': 4, 'time': 0.923823356628418}\n"
     ]
    },
    {
     "name": "stderr",
     "output_type": "stream",
     "text": [
      "distributed.utils_perf - WARNING - full garbage collections took 22% CPU time recently (threshold: 10%)\n"
     ]
    },
    {
     "name": "stdout",
     "output_type": "stream",
     "text": [
      "{'num_masks': 2, 'n_workers': 5, 'stackheight': 8, 'time': 0.8807804584503174}\n"
     ]
    },
    {
     "name": "stderr",
     "output_type": "stream",
     "text": [
      "distributed.utils_perf - WARNING - full garbage collections took 22% CPU time recently (threshold: 10%)\n"
     ]
    },
    {
     "name": "stdout",
     "output_type": "stream",
     "text": [
      "{'num_masks': 2, 'n_workers': 5, 'stackheight': 8, 'time': 0.8015854358673096}\n"
     ]
    },
    {
     "name": "stderr",
     "output_type": "stream",
     "text": [
      "distributed.utils_perf - WARNING - full garbage collections took 22% CPU time recently (threshold: 10%)\n"
     ]
    },
    {
     "name": "stdout",
     "output_type": "stream",
     "text": [
      "{'num_masks': 2, 'n_workers': 5, 'stackheight': 8, 'time': 0.8206775188446045}\n"
     ]
    },
    {
     "name": "stderr",
     "output_type": "stream",
     "text": [
      "distributed.utils_perf - WARNING - full garbage collections took 22% CPU time recently (threshold: 10%)\n",
      "distributed.utils_perf - WARNING - full garbage collections took 22% CPU time recently (threshold: 10%)\n"
     ]
    },
    {
     "name": "stdout",
     "output_type": "stream",
     "text": [
      "{'num_masks': 4, 'n_workers': 5, 'stackheight': 4, 'time': 1.024226427078247}\n"
     ]
    },
    {
     "name": "stderr",
     "output_type": "stream",
     "text": [
      "distributed.utils_perf - WARNING - full garbage collections took 22% CPU time recently (threshold: 10%)\n",
      "distributed.utils_perf - WARNING - full garbage collections took 22% CPU time recently (threshold: 10%)\n"
     ]
    },
    {
     "name": "stdout",
     "output_type": "stream",
     "text": [
      "{'num_masks': 4, 'n_workers': 5, 'stackheight': 4, 'time': 1.0284669399261475}\n"
     ]
    },
    {
     "name": "stderr",
     "output_type": "stream",
     "text": [
      "distributed.utils_perf - WARNING - full garbage collections took 22% CPU time recently (threshold: 10%)\n",
      "distributed.utils_perf - WARNING - full garbage collections took 22% CPU time recently (threshold: 10%)\n"
     ]
    },
    {
     "name": "stdout",
     "output_type": "stream",
     "text": [
      "{'num_masks': 4, 'n_workers': 5, 'stackheight': 4, 'time': 1.0936214923858643}\n"
     ]
    },
    {
     "name": "stderr",
     "output_type": "stream",
     "text": [
      "distributed.utils_perf - WARNING - full garbage collections took 22% CPU time recently (threshold: 10%)\n"
     ]
    },
    {
     "name": "stdout",
     "output_type": "stream",
     "text": [
      "{'num_masks': 4, 'n_workers': 5, 'stackheight': 8, 'time': 0.8338215351104736}\n"
     ]
    },
    {
     "name": "stderr",
     "output_type": "stream",
     "text": [
      "distributed.utils_perf - WARNING - full garbage collections took 22% CPU time recently (threshold: 10%)\n"
     ]
    },
    {
     "name": "stdout",
     "output_type": "stream",
     "text": [
      "{'num_masks': 4, 'n_workers': 5, 'stackheight': 8, 'time': 0.8329994678497314}\n"
     ]
    },
    {
     "name": "stderr",
     "output_type": "stream",
     "text": [
      "distributed.utils_perf - WARNING - full garbage collections took 22% CPU time recently (threshold: 10%)\n"
     ]
    },
    {
     "name": "stdout",
     "output_type": "stream",
     "text": [
      "{'num_masks': 4, 'n_workers': 5, 'stackheight': 8, 'time': 0.8854246139526367}\n"
     ]
    },
    {
     "name": "stderr",
     "output_type": "stream",
     "text": [
      "distributed.utils_perf - WARNING - full garbage collections took 22% CPU time recently (threshold: 10%)\n",
      "distributed.utils_perf - WARNING - full garbage collections took 22% CPU time recently (threshold: 10%)\n"
     ]
    },
    {
     "name": "stdout",
     "output_type": "stream",
     "text": [
      "{'num_masks': 8, 'n_workers': 5, 'stackheight': 4, 'time': 1.1579444408416748}\n"
     ]
    },
    {
     "name": "stderr",
     "output_type": "stream",
     "text": [
      "distributed.utils_perf - WARNING - full garbage collections took 22% CPU time recently (threshold: 10%)\n",
      "distributed.utils_perf - WARNING - full garbage collections took 22% CPU time recently (threshold: 10%)\n"
     ]
    },
    {
     "name": "stdout",
     "output_type": "stream",
     "text": [
      "{'num_masks': 8, 'n_workers': 5, 'stackheight': 4, 'time': 1.195577621459961}\n"
     ]
    },
    {
     "name": "stderr",
     "output_type": "stream",
     "text": [
      "distributed.utils_perf - WARNING - full garbage collections took 22% CPU time recently (threshold: 10%)\n",
      "distributed.utils_perf - WARNING - full garbage collections took 22% CPU time recently (threshold: 10%)\n"
     ]
    },
    {
     "name": "stdout",
     "output_type": "stream",
     "text": [
      "{'num_masks': 8, 'n_workers': 5, 'stackheight': 4, 'time': 1.2051329612731934}\n"
     ]
    },
    {
     "name": "stderr",
     "output_type": "stream",
     "text": [
      "distributed.utils_perf - WARNING - full garbage collections took 22% CPU time recently (threshold: 10%)\n"
     ]
    },
    {
     "name": "stdout",
     "output_type": "stream",
     "text": [
      "{'num_masks': 8, 'n_workers': 5, 'stackheight': 8, 'time': 1.0069198608398438}\n"
     ]
    },
    {
     "name": "stderr",
     "output_type": "stream",
     "text": [
      "distributed.utils_perf - WARNING - full garbage collections took 22% CPU time recently (threshold: 10%)\n"
     ]
    },
    {
     "name": "stdout",
     "output_type": "stream",
     "text": [
      "{'num_masks': 8, 'n_workers': 5, 'stackheight': 8, 'time': 1.007406234741211}\n"
     ]
    },
    {
     "name": "stderr",
     "output_type": "stream",
     "text": [
      "distributed.utils_perf - WARNING - full garbage collections took 22% CPU time recently (threshold: 10%)\n"
     ]
    },
    {
     "name": "stdout",
     "output_type": "stream",
     "text": [
      "{'num_masks': 8, 'n_workers': 5, 'stackheight': 8, 'time': 1.0119102001190186}\n"
     ]
    },
    {
     "name": "stderr",
     "output_type": "stream",
     "text": [
      "distributed.utils_perf - WARNING - full garbage collections took 22% CPU time recently (threshold: 10%)\n",
      "distributed.utils_perf - WARNING - full garbage collections took 22% CPU time recently (threshold: 10%)\n"
     ]
    },
    {
     "name": "stdout",
     "output_type": "stream",
     "text": [
      "{'num_masks': 16, 'n_workers': 5, 'stackheight': 4, 'time': 1.690354347229004}\n"
     ]
    },
    {
     "name": "stderr",
     "output_type": "stream",
     "text": [
      "distributed.utils_perf - WARNING - full garbage collections took 22% CPU time recently (threshold: 10%)\n",
      "distributed.utils_perf - WARNING - full garbage collections took 22% CPU time recently (threshold: 10%)\n"
     ]
    },
    {
     "name": "stdout",
     "output_type": "stream",
     "text": [
      "{'num_masks': 16, 'n_workers': 5, 'stackheight': 4, 'time': 1.6535193920135498}\n"
     ]
    },
    {
     "name": "stderr",
     "output_type": "stream",
     "text": [
      "distributed.utils_perf - WARNING - full garbage collections took 22% CPU time recently (threshold: 10%)\n",
      "distributed.utils_perf - WARNING - full garbage collections took 22% CPU time recently (threshold: 10%)\n"
     ]
    },
    {
     "name": "stdout",
     "output_type": "stream",
     "text": [
      "{'num_masks': 16, 'n_workers': 5, 'stackheight': 4, 'time': 1.6297099590301514}\n"
     ]
    },
    {
     "name": "stderr",
     "output_type": "stream",
     "text": [
      "distributed.utils_perf - WARNING - full garbage collections took 22% CPU time recently (threshold: 10%)\n"
     ]
    },
    {
     "name": "stdout",
     "output_type": "stream",
     "text": [
      "{'num_masks': 16, 'n_workers': 5, 'stackheight': 8, 'time': 1.1839654445648193}\n"
     ]
    },
    {
     "name": "stderr",
     "output_type": "stream",
     "text": [
      "distributed.utils_perf - WARNING - full garbage collections took 22% CPU time recently (threshold: 10%)\n"
     ]
    },
    {
     "name": "stdout",
     "output_type": "stream",
     "text": [
      "{'num_masks': 16, 'n_workers': 5, 'stackheight': 8, 'time': 1.1572601795196533}\n",
      "{'num_masks': 16, 'n_workers': 5, 'stackheight': 8, 'time': 1.1558215618133545}\n"
     ]
    },
    {
     "name": "stderr",
     "output_type": "stream",
     "text": [
      "distributed.utils_perf - WARNING - full garbage collections took 22% CPU time recently (threshold: 10%)\n",
      "distributed.utils_perf - WARNING - full garbage collections took 22% CPU time recently (threshold: 10%)\n",
      "distributed.utils_perf - WARNING - full garbage collections took 22% CPU time recently (threshold: 10%)\n"
     ]
    },
    {
     "name": "stdout",
     "output_type": "stream",
     "text": [
      "{'num_masks': 1, 'n_workers': 6, 'stackheight': 4, 'time': 0.7519111633300781}\n"
     ]
    },
    {
     "name": "stderr",
     "output_type": "stream",
     "text": [
      "distributed.utils_perf - WARNING - full garbage collections took 22% CPU time recently (threshold: 10%)\n",
      "distributed.utils_perf - WARNING - full garbage collections took 22% CPU time recently (threshold: 10%)\n"
     ]
    },
    {
     "name": "stdout",
     "output_type": "stream",
     "text": [
      "{'num_masks': 1, 'n_workers': 6, 'stackheight': 4, 'time': 0.7169134616851807}\n"
     ]
    },
    {
     "name": "stderr",
     "output_type": "stream",
     "text": [
      "distributed.utils_perf - WARNING - full garbage collections took 22% CPU time recently (threshold: 10%)\n",
      "distributed.utils_perf - WARNING - full garbage collections took 22% CPU time recently (threshold: 10%)\n"
     ]
    },
    {
     "name": "stdout",
     "output_type": "stream",
     "text": [
      "{'num_masks': 1, 'n_workers': 6, 'stackheight': 4, 'time': 0.7427663803100586}\n"
     ]
    },
    {
     "name": "stderr",
     "output_type": "stream",
     "text": [
      "distributed.utils_perf - WARNING - full garbage collections took 22% CPU time recently (threshold: 10%)\n"
     ]
    },
    {
     "name": "stdout",
     "output_type": "stream",
     "text": [
      "{'num_masks': 1, 'n_workers': 6, 'stackheight': 8, 'time': 0.6027750968933105}\n"
     ]
    },
    {
     "name": "stderr",
     "output_type": "stream",
     "text": [
      "distributed.utils_perf - WARNING - full garbage collections took 22% CPU time recently (threshold: 10%)\n"
     ]
    },
    {
     "name": "stdout",
     "output_type": "stream",
     "text": [
      "{'num_masks': 1, 'n_workers': 6, 'stackheight': 8, 'time': 0.6292424201965332}\n"
     ]
    },
    {
     "name": "stderr",
     "output_type": "stream",
     "text": [
      "distributed.utils_perf - WARNING - full garbage collections took 22% CPU time recently (threshold: 10%)\n"
     ]
    },
    {
     "name": "stdout",
     "output_type": "stream",
     "text": [
      "{'num_masks': 1, 'n_workers': 6, 'stackheight': 8, 'time': 0.6311650276184082}\n"
     ]
    },
    {
     "name": "stderr",
     "output_type": "stream",
     "text": [
      "distributed.utils_perf - WARNING - full garbage collections took 22% CPU time recently (threshold: 10%)\n",
      "distributed.utils_perf - WARNING - full garbage collections took 22% CPU time recently (threshold: 10%)\n"
     ]
    },
    {
     "name": "stdout",
     "output_type": "stream",
     "text": [
      "{'num_masks': 2, 'n_workers': 6, 'stackheight': 4, 'time': 0.8283402919769287}\n"
     ]
    },
    {
     "name": "stderr",
     "output_type": "stream",
     "text": [
      "distributed.utils_perf - WARNING - full garbage collections took 22% CPU time recently (threshold: 10%)\n",
      "distributed.utils_perf - WARNING - full garbage collections took 22% CPU time recently (threshold: 10%)\n"
     ]
    },
    {
     "name": "stdout",
     "output_type": "stream",
     "text": [
      "{'num_masks': 2, 'n_workers': 6, 'stackheight': 4, 'time': 0.8050966262817383}\n"
     ]
    },
    {
     "name": "stderr",
     "output_type": "stream",
     "text": [
      "distributed.utils_perf - WARNING - full garbage collections took 22% CPU time recently (threshold: 10%)\n",
      "distributed.utils_perf - WARNING - full garbage collections took 22% CPU time recently (threshold: 10%)\n"
     ]
    },
    {
     "name": "stdout",
     "output_type": "stream",
     "text": [
      "{'num_masks': 2, 'n_workers': 6, 'stackheight': 4, 'time': 0.842231273651123}\n"
     ]
    },
    {
     "name": "stderr",
     "output_type": "stream",
     "text": [
      "distributed.utils_perf - WARNING - full garbage collections took 22% CPU time recently (threshold: 10%)\n"
     ]
    },
    {
     "name": "stdout",
     "output_type": "stream",
     "text": [
      "{'num_masks': 2, 'n_workers': 6, 'stackheight': 8, 'time': 0.7478015422821045}\n"
     ]
    },
    {
     "name": "stderr",
     "output_type": "stream",
     "text": [
      "distributed.utils_perf - WARNING - full garbage collections took 22% CPU time recently (threshold: 10%)\n"
     ]
    },
    {
     "name": "stdout",
     "output_type": "stream",
     "text": [
      "{'num_masks': 2, 'n_workers': 6, 'stackheight': 8, 'time': 0.722461462020874}\n"
     ]
    },
    {
     "name": "stderr",
     "output_type": "stream",
     "text": [
      "distributed.utils_perf - WARNING - full garbage collections took 22% CPU time recently (threshold: 10%)\n"
     ]
    },
    {
     "name": "stdout",
     "output_type": "stream",
     "text": [
      "{'num_masks': 2, 'n_workers': 6, 'stackheight': 8, 'time': 0.7097492218017578}\n"
     ]
    },
    {
     "name": "stderr",
     "output_type": "stream",
     "text": [
      "distributed.utils_perf - WARNING - full garbage collections took 22% CPU time recently (threshold: 10%)\n",
      "distributed.utils_perf - WARNING - full garbage collections took 22% CPU time recently (threshold: 10%)\n"
     ]
    },
    {
     "name": "stdout",
     "output_type": "stream",
     "text": [
      "{'num_masks': 4, 'n_workers': 6, 'stackheight': 4, 'time': 0.903005838394165}\n"
     ]
    },
    {
     "name": "stderr",
     "output_type": "stream",
     "text": [
      "distributed.utils_perf - WARNING - full garbage collections took 22% CPU time recently (threshold: 10%)\n",
      "distributed.utils_perf - WARNING - full garbage collections took 22% CPU time recently (threshold: 10%)\n"
     ]
    },
    {
     "name": "stdout",
     "output_type": "stream",
     "text": [
      "{'num_masks': 4, 'n_workers': 6, 'stackheight': 4, 'time': 0.874645471572876}\n"
     ]
    },
    {
     "name": "stderr",
     "output_type": "stream",
     "text": [
      "distributed.utils_perf - WARNING - full garbage collections took 22% CPU time recently (threshold: 10%)\n",
      "distributed.utils_perf - WARNING - full garbage collections took 22% CPU time recently (threshold: 10%)\n"
     ]
    },
    {
     "name": "stdout",
     "output_type": "stream",
     "text": [
      "{'num_masks': 4, 'n_workers': 6, 'stackheight': 4, 'time': 0.926973819732666}\n"
     ]
    },
    {
     "name": "stderr",
     "output_type": "stream",
     "text": [
      "distributed.utils_perf - WARNING - full garbage collections took 22% CPU time recently (threshold: 10%)\n"
     ]
    },
    {
     "name": "stdout",
     "output_type": "stream",
     "text": [
      "{'num_masks': 4, 'n_workers': 6, 'stackheight': 8, 'time': 0.7854151725769043}\n"
     ]
    },
    {
     "name": "stderr",
     "output_type": "stream",
     "text": [
      "distributed.utils_perf - WARNING - full garbage collections took 23% CPU time recently (threshold: 10%)\n"
     ]
    },
    {
     "name": "stdout",
     "output_type": "stream",
     "text": [
      "{'num_masks': 4, 'n_workers': 6, 'stackheight': 8, 'time': 0.7637457847595215}\n"
     ]
    },
    {
     "name": "stderr",
     "output_type": "stream",
     "text": [
      "distributed.utils_perf - WARNING - full garbage collections took 23% CPU time recently (threshold: 10%)\n"
     ]
    },
    {
     "name": "stdout",
     "output_type": "stream",
     "text": [
      "{'num_masks': 4, 'n_workers': 6, 'stackheight': 8, 'time': 0.7503035068511963}\n"
     ]
    },
    {
     "name": "stderr",
     "output_type": "stream",
     "text": [
      "distributed.utils_perf - WARNING - full garbage collections took 23% CPU time recently (threshold: 10%)\n",
      "distributed.utils_perf - WARNING - full garbage collections took 23% CPU time recently (threshold: 10%)\n"
     ]
    },
    {
     "name": "stdout",
     "output_type": "stream",
     "text": [
      "{'num_masks': 8, 'n_workers': 6, 'stackheight': 4, 'time': 1.1435983180999756}\n"
     ]
    },
    {
     "name": "stderr",
     "output_type": "stream",
     "text": [
      "distributed.utils_perf - WARNING - full garbage collections took 23% CPU time recently (threshold: 10%)\n",
      "distributed.utils_perf - WARNING - full garbage collections took 23% CPU time recently (threshold: 10%)\n"
     ]
    },
    {
     "name": "stdout",
     "output_type": "stream",
     "text": [
      "{'num_masks': 8, 'n_workers': 6, 'stackheight': 4, 'time': 1.0957615375518799}\n"
     ]
    },
    {
     "name": "stderr",
     "output_type": "stream",
     "text": [
      "distributed.utils_perf - WARNING - full garbage collections took 23% CPU time recently (threshold: 10%)\n",
      "distributed.utils_perf - WARNING - full garbage collections took 23% CPU time recently (threshold: 10%)\n"
     ]
    },
    {
     "name": "stdout",
     "output_type": "stream",
     "text": [
      "{'num_masks': 8, 'n_workers': 6, 'stackheight': 4, 'time': 1.0790159702301025}\n"
     ]
    },
    {
     "name": "stderr",
     "output_type": "stream",
     "text": [
      "distributed.utils_perf - WARNING - full garbage collections took 23% CPU time recently (threshold: 10%)\n"
     ]
    },
    {
     "name": "stdout",
     "output_type": "stream",
     "text": [
      "{'num_masks': 8, 'n_workers': 6, 'stackheight': 8, 'time': 0.8953311443328857}\n"
     ]
    },
    {
     "name": "stderr",
     "output_type": "stream",
     "text": [
      "distributed.utils_perf - WARNING - full garbage collections took 23% CPU time recently (threshold: 10%)\n"
     ]
    },
    {
     "name": "stdout",
     "output_type": "stream",
     "text": [
      "{'num_masks': 8, 'n_workers': 6, 'stackheight': 8, 'time': 0.9063656330108643}\n"
     ]
    },
    {
     "name": "stderr",
     "output_type": "stream",
     "text": [
      "distributed.utils_perf - WARNING - full garbage collections took 23% CPU time recently (threshold: 10%)\n"
     ]
    },
    {
     "name": "stdout",
     "output_type": "stream",
     "text": [
      "{'num_masks': 8, 'n_workers': 6, 'stackheight': 8, 'time': 0.9226253032684326}\n"
     ]
    },
    {
     "name": "stderr",
     "output_type": "stream",
     "text": [
      "distributed.utils_perf - WARNING - full garbage collections took 23% CPU time recently (threshold: 10%)\n",
      "distributed.utils_perf - WARNING - full garbage collections took 23% CPU time recently (threshold: 10%)\n"
     ]
    },
    {
     "name": "stdout",
     "output_type": "stream",
     "text": [
      "{'num_masks': 16, 'n_workers': 6, 'stackheight': 4, 'time': 1.583597183227539}\n"
     ]
    },
    {
     "name": "stderr",
     "output_type": "stream",
     "text": [
      "distributed.utils_perf - WARNING - full garbage collections took 23% CPU time recently (threshold: 10%)\n",
      "distributed.utils_perf - WARNING - full garbage collections took 23% CPU time recently (threshold: 10%)\n"
     ]
    },
    {
     "name": "stdout",
     "output_type": "stream",
     "text": [
      "{'num_masks': 16, 'n_workers': 6, 'stackheight': 4, 'time': 1.5775482654571533}\n"
     ]
    },
    {
     "name": "stderr",
     "output_type": "stream",
     "text": [
      "distributed.utils_perf - WARNING - full garbage collections took 23% CPU time recently (threshold: 10%)\n",
      "distributed.utils_perf - WARNING - full garbage collections took 23% CPU time recently (threshold: 10%)\n"
     ]
    },
    {
     "name": "stdout",
     "output_type": "stream",
     "text": [
      "{'num_masks': 16, 'n_workers': 6, 'stackheight': 4, 'time': 1.5646748542785645}\n"
     ]
    },
    {
     "name": "stderr",
     "output_type": "stream",
     "text": [
      "distributed.utils_perf - WARNING - full garbage collections took 23% CPU time recently (threshold: 10%)\n"
     ]
    },
    {
     "name": "stdout",
     "output_type": "stream",
     "text": [
      "{'num_masks': 16, 'n_workers': 6, 'stackheight': 8, 'time': 1.1014928817749023}\n"
     ]
    },
    {
     "name": "stderr",
     "output_type": "stream",
     "text": [
      "distributed.utils_perf - WARNING - full garbage collections took 23% CPU time recently (threshold: 10%)\n"
     ]
    },
    {
     "name": "stdout",
     "output_type": "stream",
     "text": [
      "{'num_masks': 16, 'n_workers': 6, 'stackheight': 8, 'time': 1.1928558349609375}\n",
      "{'num_masks': 16, 'n_workers': 6, 'stackheight': 8, 'time': 1.2298877239227295}\n"
     ]
    },
    {
     "name": "stderr",
     "output_type": "stream",
     "text": [
      "distributed.utils_perf - WARNING - full garbage collections took 23% CPU time recently (threshold: 10%)\n",
      "distributed.utils_perf - WARNING - full garbage collections took 23% CPU time recently (threshold: 10%)\n",
      "distributed.utils_perf - WARNING - full garbage collections took 23% CPU time recently (threshold: 10%)\n"
     ]
    },
    {
     "name": "stdout",
     "output_type": "stream",
     "text": [
      "{'num_masks': 1, 'n_workers': 7, 'stackheight': 4, 'time': 0.6996922492980957}\n"
     ]
    },
    {
     "name": "stderr",
     "output_type": "stream",
     "text": [
      "distributed.utils_perf - WARNING - full garbage collections took 23% CPU time recently (threshold: 10%)\n",
      "distributed.utils_perf - WARNING - full garbage collections took 23% CPU time recently (threshold: 10%)\n"
     ]
    },
    {
     "name": "stdout",
     "output_type": "stream",
     "text": [
      "{'num_masks': 1, 'n_workers': 7, 'stackheight': 4, 'time': 0.7049551010131836}\n"
     ]
    },
    {
     "name": "stderr",
     "output_type": "stream",
     "text": [
      "distributed.utils_perf - WARNING - full garbage collections took 23% CPU time recently (threshold: 10%)\n",
      "distributed.utils_perf - WARNING - full garbage collections took 23% CPU time recently (threshold: 10%)\n"
     ]
    },
    {
     "name": "stdout",
     "output_type": "stream",
     "text": [
      "{'num_masks': 1, 'n_workers': 7, 'stackheight': 4, 'time': 0.6901652812957764}\n"
     ]
    },
    {
     "name": "stderr",
     "output_type": "stream",
     "text": [
      "distributed.utils_perf - WARNING - full garbage collections took 23% CPU time recently (threshold: 10%)\n"
     ]
    },
    {
     "name": "stdout",
     "output_type": "stream",
     "text": [
      "{'num_masks': 1, 'n_workers': 7, 'stackheight': 8, 'time': 0.6260957717895508}\n"
     ]
    },
    {
     "name": "stderr",
     "output_type": "stream",
     "text": [
      "distributed.utils_perf - WARNING - full garbage collections took 23% CPU time recently (threshold: 10%)\n"
     ]
    },
    {
     "name": "stdout",
     "output_type": "stream",
     "text": [
      "{'num_masks': 1, 'n_workers': 7, 'stackheight': 8, 'time': 0.6162283420562744}\n"
     ]
    },
    {
     "name": "stderr",
     "output_type": "stream",
     "text": [
      "distributed.utils_perf - WARNING - full garbage collections took 23% CPU time recently (threshold: 10%)\n"
     ]
    },
    {
     "name": "stdout",
     "output_type": "stream",
     "text": [
      "{'num_masks': 1, 'n_workers': 7, 'stackheight': 8, 'time': 0.6651167869567871}\n"
     ]
    },
    {
     "name": "stderr",
     "output_type": "stream",
     "text": [
      "distributed.utils_perf - WARNING - full garbage collections took 23% CPU time recently (threshold: 10%)\n",
      "distributed.utils_perf - WARNING - full garbage collections took 23% CPU time recently (threshold: 10%)\n"
     ]
    },
    {
     "name": "stdout",
     "output_type": "stream",
     "text": [
      "{'num_masks': 2, 'n_workers': 7, 'stackheight': 4, 'time': 0.7929348945617676}\n"
     ]
    },
    {
     "name": "stderr",
     "output_type": "stream",
     "text": [
      "distributed.utils_perf - WARNING - full garbage collections took 23% CPU time recently (threshold: 10%)\n",
      "distributed.utils_perf - WARNING - full garbage collections took 23% CPU time recently (threshold: 10%)\n"
     ]
    },
    {
     "name": "stdout",
     "output_type": "stream",
     "text": [
      "{'num_masks': 2, 'n_workers': 7, 'stackheight': 4, 'time': 0.8324315547943115}\n"
     ]
    },
    {
     "name": "stderr",
     "output_type": "stream",
     "text": [
      "distributed.utils_perf - WARNING - full garbage collections took 23% CPU time recently (threshold: 10%)\n",
      "distributed.utils_perf - WARNING - full garbage collections took 23% CPU time recently (threshold: 10%)\n"
     ]
    },
    {
     "name": "stdout",
     "output_type": "stream",
     "text": [
      "{'num_masks': 2, 'n_workers': 7, 'stackheight': 4, 'time': 0.8467588424682617}\n"
     ]
    },
    {
     "name": "stderr",
     "output_type": "stream",
     "text": [
      "distributed.utils_perf - WARNING - full garbage collections took 23% CPU time recently (threshold: 10%)\n"
     ]
    },
    {
     "name": "stdout",
     "output_type": "stream",
     "text": [
      "{'num_masks': 2, 'n_workers': 7, 'stackheight': 8, 'time': 0.730217695236206}\n"
     ]
    },
    {
     "name": "stderr",
     "output_type": "stream",
     "text": [
      "distributed.utils_perf - WARNING - full garbage collections took 23% CPU time recently (threshold: 10%)\n"
     ]
    },
    {
     "name": "stdout",
     "output_type": "stream",
     "text": [
      "{'num_masks': 2, 'n_workers': 7, 'stackheight': 8, 'time': 0.7437944412231445}\n"
     ]
    },
    {
     "name": "stderr",
     "output_type": "stream",
     "text": [
      "distributed.utils_perf - WARNING - full garbage collections took 23% CPU time recently (threshold: 10%)\n"
     ]
    },
    {
     "name": "stdout",
     "output_type": "stream",
     "text": [
      "{'num_masks': 2, 'n_workers': 7, 'stackheight': 8, 'time': 0.6996405124664307}\n"
     ]
    },
    {
     "name": "stderr",
     "output_type": "stream",
     "text": [
      "distributed.utils_perf - WARNING - full garbage collections took 23% CPU time recently (threshold: 10%)\n",
      "distributed.utils_perf - WARNING - full garbage collections took 23% CPU time recently (threshold: 10%)\n"
     ]
    },
    {
     "name": "stdout",
     "output_type": "stream",
     "text": [
      "{'num_masks': 4, 'n_workers': 7, 'stackheight': 4, 'time': 0.8991940021514893}\n"
     ]
    },
    {
     "name": "stderr",
     "output_type": "stream",
     "text": [
      "distributed.utils_perf - WARNING - full garbage collections took 23% CPU time recently (threshold: 10%)\n",
      "distributed.utils_perf - WARNING - full garbage collections took 23% CPU time recently (threshold: 10%)\n"
     ]
    },
    {
     "name": "stdout",
     "output_type": "stream",
     "text": [
      "{'num_masks': 4, 'n_workers': 7, 'stackheight': 4, 'time': 0.8465385437011719}\n"
     ]
    },
    {
     "name": "stderr",
     "output_type": "stream",
     "text": [
      "distributed.utils_perf - WARNING - full garbage collections took 23% CPU time recently (threshold: 10%)\n",
      "distributed.utils_perf - WARNING - full garbage collections took 23% CPU time recently (threshold: 10%)\n"
     ]
    },
    {
     "name": "stdout",
     "output_type": "stream",
     "text": [
      "{'num_masks': 4, 'n_workers': 7, 'stackheight': 4, 'time': 0.8633403778076172}\n"
     ]
    },
    {
     "name": "stderr",
     "output_type": "stream",
     "text": [
      "distributed.utils_perf - WARNING - full garbage collections took 23% CPU time recently (threshold: 10%)\n"
     ]
    },
    {
     "name": "stdout",
     "output_type": "stream",
     "text": [
      "{'num_masks': 4, 'n_workers': 7, 'stackheight': 8, 'time': 0.7448956966400146}\n"
     ]
    },
    {
     "name": "stderr",
     "output_type": "stream",
     "text": [
      "distributed.utils_perf - WARNING - full garbage collections took 23% CPU time recently (threshold: 10%)\n"
     ]
    },
    {
     "name": "stdout",
     "output_type": "stream",
     "text": [
      "{'num_masks': 4, 'n_workers': 7, 'stackheight': 8, 'time': 0.7630603313446045}\n"
     ]
    },
    {
     "name": "stderr",
     "output_type": "stream",
     "text": [
      "distributed.utils_perf - WARNING - full garbage collections took 23% CPU time recently (threshold: 10%)\n"
     ]
    },
    {
     "name": "stdout",
     "output_type": "stream",
     "text": [
      "{'num_masks': 4, 'n_workers': 7, 'stackheight': 8, 'time': 0.7353971004486084}\n"
     ]
    },
    {
     "name": "stderr",
     "output_type": "stream",
     "text": [
      "distributed.utils_perf - WARNING - full garbage collections took 23% CPU time recently (threshold: 10%)\n",
      "distributed.utils_perf - WARNING - full garbage collections took 23% CPU time recently (threshold: 10%)\n"
     ]
    },
    {
     "name": "stdout",
     "output_type": "stream",
     "text": [
      "{'num_masks': 8, 'n_workers': 7, 'stackheight': 4, 'time': 1.058619737625122}\n"
     ]
    },
    {
     "name": "stderr",
     "output_type": "stream",
     "text": [
      "distributed.utils_perf - WARNING - full garbage collections took 23% CPU time recently (threshold: 10%)\n",
      "distributed.utils_perf - WARNING - full garbage collections took 23% CPU time recently (threshold: 10%)\n"
     ]
    },
    {
     "name": "stdout",
     "output_type": "stream",
     "text": [
      "{'num_masks': 8, 'n_workers': 7, 'stackheight': 4, 'time': 1.1039018630981445}\n"
     ]
    },
    {
     "name": "stderr",
     "output_type": "stream",
     "text": [
      "distributed.utils_perf - WARNING - full garbage collections took 23% CPU time recently (threshold: 10%)\n",
      "distributed.utils_perf - WARNING - full garbage collections took 23% CPU time recently (threshold: 10%)\n"
     ]
    },
    {
     "name": "stdout",
     "output_type": "stream",
     "text": [
      "{'num_masks': 8, 'n_workers': 7, 'stackheight': 4, 'time': 1.143113374710083}\n"
     ]
    },
    {
     "name": "stderr",
     "output_type": "stream",
     "text": [
      "distributed.utils_perf - WARNING - full garbage collections took 23% CPU time recently (threshold: 10%)\n"
     ]
    },
    {
     "name": "stdout",
     "output_type": "stream",
     "text": [
      "{'num_masks': 8, 'n_workers': 7, 'stackheight': 8, 'time': 0.8445837497711182}\n"
     ]
    },
    {
     "name": "stderr",
     "output_type": "stream",
     "text": [
      "distributed.utils_perf - WARNING - full garbage collections took 23% CPU time recently (threshold: 10%)\n"
     ]
    },
    {
     "name": "stdout",
     "output_type": "stream",
     "text": [
      "{'num_masks': 8, 'n_workers': 7, 'stackheight': 8, 'time': 0.8811547756195068}\n"
     ]
    },
    {
     "name": "stderr",
     "output_type": "stream",
     "text": [
      "distributed.utils_perf - WARNING - full garbage collections took 23% CPU time recently (threshold: 10%)\n"
     ]
    },
    {
     "name": "stdout",
     "output_type": "stream",
     "text": [
      "{'num_masks': 8, 'n_workers': 7, 'stackheight': 8, 'time': 0.9244863986968994}\n"
     ]
    },
    {
     "name": "stderr",
     "output_type": "stream",
     "text": [
      "distributed.utils_perf - WARNING - full garbage collections took 23% CPU time recently (threshold: 10%)\n",
      "distributed.utils_perf - WARNING - full garbage collections took 23% CPU time recently (threshold: 10%)\n"
     ]
    },
    {
     "name": "stdout",
     "output_type": "stream",
     "text": [
      "{'num_masks': 16, 'n_workers': 7, 'stackheight': 4, 'time': 1.6211402416229248}\n"
     ]
    },
    {
     "name": "stderr",
     "output_type": "stream",
     "text": [
      "distributed.utils_perf - WARNING - full garbage collections took 23% CPU time recently (threshold: 10%)\n",
      "distributed.utils_perf - WARNING - full garbage collections took 23% CPU time recently (threshold: 10%)\n"
     ]
    },
    {
     "name": "stdout",
     "output_type": "stream",
     "text": [
      "{'num_masks': 16, 'n_workers': 7, 'stackheight': 4, 'time': 1.458526372909546}\n"
     ]
    },
    {
     "name": "stderr",
     "output_type": "stream",
     "text": [
      "distributed.utils_perf - WARNING - full garbage collections took 23% CPU time recently (threshold: 10%)\n",
      "distributed.utils_perf - WARNING - full garbage collections took 23% CPU time recently (threshold: 10%)\n"
     ]
    },
    {
     "name": "stdout",
     "output_type": "stream",
     "text": [
      "{'num_masks': 16, 'n_workers': 7, 'stackheight': 4, 'time': 1.5003986358642578}\n"
     ]
    },
    {
     "name": "stderr",
     "output_type": "stream",
     "text": [
      "distributed.utils_perf - WARNING - full garbage collections took 23% CPU time recently (threshold: 10%)\n"
     ]
    },
    {
     "name": "stdout",
     "output_type": "stream",
     "text": [
      "{'num_masks': 16, 'n_workers': 7, 'stackheight': 8, 'time': 1.0628657341003418}\n"
     ]
    },
    {
     "name": "stderr",
     "output_type": "stream",
     "text": [
      "distributed.utils_perf - WARNING - full garbage collections took 23% CPU time recently (threshold: 10%)\n"
     ]
    },
    {
     "name": "stdout",
     "output_type": "stream",
     "text": [
      "{'num_masks': 16, 'n_workers': 7, 'stackheight': 8, 'time': 1.2280352115631104}\n",
      "{'num_masks': 16, 'n_workers': 7, 'stackheight': 8, 'time': 1.1354742050170898}\n"
     ]
    },
    {
     "name": "stderr",
     "output_type": "stream",
     "text": [
      "distributed.utils_perf - WARNING - full garbage collections took 24% CPU time recently (threshold: 10%)\n",
      "distributed.utils_perf - WARNING - full garbage collections took 24% CPU time recently (threshold: 10%)\n",
      "distributed.utils_perf - WARNING - full garbage collections took 24% CPU time recently (threshold: 10%)\n"
     ]
    },
    {
     "name": "stdout",
     "output_type": "stream",
     "text": [
      "{'num_masks': 1, 'n_workers': 8, 'stackheight': 4, 'time': 0.7230572700500488}\n"
     ]
    },
    {
     "name": "stderr",
     "output_type": "stream",
     "text": [
      "distributed.utils_perf - WARNING - full garbage collections took 24% CPU time recently (threshold: 10%)\n",
      "distributed.utils_perf - WARNING - full garbage collections took 24% CPU time recently (threshold: 10%)\n"
     ]
    },
    {
     "name": "stdout",
     "output_type": "stream",
     "text": [
      "{'num_masks': 1, 'n_workers': 8, 'stackheight': 4, 'time': 0.6994411945343018}\n"
     ]
    },
    {
     "name": "stderr",
     "output_type": "stream",
     "text": [
      "distributed.utils_perf - WARNING - full garbage collections took 24% CPU time recently (threshold: 10%)\n",
      "distributed.utils_perf - WARNING - full garbage collections took 24% CPU time recently (threshold: 10%)\n"
     ]
    },
    {
     "name": "stdout",
     "output_type": "stream",
     "text": [
      "{'num_masks': 1, 'n_workers': 8, 'stackheight': 4, 'time': 0.6941003799438477}\n"
     ]
    },
    {
     "name": "stderr",
     "output_type": "stream",
     "text": [
      "distributed.utils_perf - WARNING - full garbage collections took 23% CPU time recently (threshold: 10%)\n"
     ]
    },
    {
     "name": "stdout",
     "output_type": "stream",
     "text": [
      "{'num_masks': 1, 'n_workers': 8, 'stackheight': 8, 'time': 0.625777006149292}\n"
     ]
    },
    {
     "name": "stderr",
     "output_type": "stream",
     "text": [
      "distributed.utils_perf - WARNING - full garbage collections took 24% CPU time recently (threshold: 10%)\n"
     ]
    },
    {
     "name": "stdout",
     "output_type": "stream",
     "text": [
      "{'num_masks': 1, 'n_workers': 8, 'stackheight': 8, 'time': 0.5777561664581299}\n"
     ]
    },
    {
     "name": "stderr",
     "output_type": "stream",
     "text": [
      "distributed.utils_perf - WARNING - full garbage collections took 24% CPU time recently (threshold: 10%)\n"
     ]
    },
    {
     "name": "stdout",
     "output_type": "stream",
     "text": [
      "{'num_masks': 1, 'n_workers': 8, 'stackheight': 8, 'time': 0.6201701164245605}\n"
     ]
    },
    {
     "name": "stderr",
     "output_type": "stream",
     "text": [
      "distributed.utils_perf - WARNING - full garbage collections took 24% CPU time recently (threshold: 10%)\n",
      "distributed.utils_perf - WARNING - full garbage collections took 24% CPU time recently (threshold: 10%)\n"
     ]
    },
    {
     "name": "stdout",
     "output_type": "stream",
     "text": [
      "{'num_masks': 2, 'n_workers': 8, 'stackheight': 4, 'time': 0.7832562923431396}\n"
     ]
    },
    {
     "name": "stderr",
     "output_type": "stream",
     "text": [
      "distributed.utils_perf - WARNING - full garbage collections took 24% CPU time recently (threshold: 10%)\n",
      "distributed.utils_perf - WARNING - full garbage collections took 24% CPU time recently (threshold: 10%)\n"
     ]
    },
    {
     "name": "stdout",
     "output_type": "stream",
     "text": [
      "{'num_masks': 2, 'n_workers': 8, 'stackheight': 4, 'time': 0.8033888339996338}\n"
     ]
    },
    {
     "name": "stderr",
     "output_type": "stream",
     "text": [
      "distributed.utils_perf - WARNING - full garbage collections took 24% CPU time recently (threshold: 10%)\n",
      "distributed.utils_perf - WARNING - full garbage collections took 24% CPU time recently (threshold: 10%)\n"
     ]
    },
    {
     "name": "stdout",
     "output_type": "stream",
     "text": [
      "{'num_masks': 2, 'n_workers': 8, 'stackheight': 4, 'time': 0.787499189376831}\n"
     ]
    },
    {
     "name": "stderr",
     "output_type": "stream",
     "text": [
      "distributed.utils_perf - WARNING - full garbage collections took 24% CPU time recently (threshold: 10%)\n"
     ]
    },
    {
     "name": "stdout",
     "output_type": "stream",
     "text": [
      "{'num_masks': 2, 'n_workers': 8, 'stackheight': 8, 'time': 0.7096500396728516}\n"
     ]
    },
    {
     "name": "stderr",
     "output_type": "stream",
     "text": [
      "distributed.utils_perf - WARNING - full garbage collections took 24% CPU time recently (threshold: 10%)\n"
     ]
    },
    {
     "name": "stdout",
     "output_type": "stream",
     "text": [
      "{'num_masks': 2, 'n_workers': 8, 'stackheight': 8, 'time': 0.6973459720611572}\n"
     ]
    },
    {
     "name": "stderr",
     "output_type": "stream",
     "text": [
      "distributed.utils_perf - WARNING - full garbage collections took 24% CPU time recently (threshold: 10%)\n"
     ]
    },
    {
     "name": "stdout",
     "output_type": "stream",
     "text": [
      "{'num_masks': 2, 'n_workers': 8, 'stackheight': 8, 'time': 0.7263095378875732}\n"
     ]
    },
    {
     "name": "stderr",
     "output_type": "stream",
     "text": [
      "distributed.utils_perf - WARNING - full garbage collections took 24% CPU time recently (threshold: 10%)\n",
      "distributed.utils_perf - WARNING - full garbage collections took 24% CPU time recently (threshold: 10%)\n"
     ]
    },
    {
     "name": "stdout",
     "output_type": "stream",
     "text": [
      "{'num_masks': 4, 'n_workers': 8, 'stackheight': 4, 'time': 0.8624591827392578}\n"
     ]
    },
    {
     "name": "stderr",
     "output_type": "stream",
     "text": [
      "distributed.utils_perf - WARNING - full garbage collections took 24% CPU time recently (threshold: 10%)\n",
      "distributed.utils_perf - WARNING - full garbage collections took 24% CPU time recently (threshold: 10%)\n"
     ]
    },
    {
     "name": "stdout",
     "output_type": "stream",
     "text": [
      "{'num_masks': 4, 'n_workers': 8, 'stackheight': 4, 'time': 0.8684556484222412}\n"
     ]
    },
    {
     "name": "stderr",
     "output_type": "stream",
     "text": [
      "distributed.utils_perf - WARNING - full garbage collections took 24% CPU time recently (threshold: 10%)\n",
      "distributed.utils_perf - WARNING - full garbage collections took 24% CPU time recently (threshold: 10%)\n"
     ]
    },
    {
     "name": "stdout",
     "output_type": "stream",
     "text": [
      "{'num_masks': 4, 'n_workers': 8, 'stackheight': 4, 'time': 0.8347845077514648}\n"
     ]
    },
    {
     "name": "stderr",
     "output_type": "stream",
     "text": [
      "distributed.utils_perf - WARNING - full garbage collections took 24% CPU time recently (threshold: 10%)\n"
     ]
    },
    {
     "name": "stdout",
     "output_type": "stream",
     "text": [
      "{'num_masks': 4, 'n_workers': 8, 'stackheight': 8, 'time': 0.7086963653564453}\n"
     ]
    },
    {
     "name": "stderr",
     "output_type": "stream",
     "text": [
      "distributed.utils_perf - WARNING - full garbage collections took 24% CPU time recently (threshold: 10%)\n"
     ]
    },
    {
     "name": "stdout",
     "output_type": "stream",
     "text": [
      "{'num_masks': 4, 'n_workers': 8, 'stackheight': 8, 'time': 0.7320206165313721}\n"
     ]
    },
    {
     "name": "stderr",
     "output_type": "stream",
     "text": [
      "distributed.utils_perf - WARNING - full garbage collections took 24% CPU time recently (threshold: 10%)\n"
     ]
    },
    {
     "name": "stdout",
     "output_type": "stream",
     "text": [
      "{'num_masks': 4, 'n_workers': 8, 'stackheight': 8, 'time': 0.7222881317138672}\n"
     ]
    },
    {
     "name": "stderr",
     "output_type": "stream",
     "text": [
      "distributed.utils_perf - WARNING - full garbage collections took 24% CPU time recently (threshold: 10%)\n",
      "distributed.utils_perf - WARNING - full garbage collections took 24% CPU time recently (threshold: 10%)\n"
     ]
    },
    {
     "name": "stdout",
     "output_type": "stream",
     "text": [
      "{'num_masks': 8, 'n_workers': 8, 'stackheight': 4, 'time': 1.0983035564422607}\n"
     ]
    },
    {
     "name": "stderr",
     "output_type": "stream",
     "text": [
      "distributed.utils_perf - WARNING - full garbage collections took 24% CPU time recently (threshold: 10%)\n",
      "distributed.utils_perf - WARNING - full garbage collections took 24% CPU time recently (threshold: 10%)\n"
     ]
    },
    {
     "name": "stdout",
     "output_type": "stream",
     "text": [
      "{'num_masks': 8, 'n_workers': 8, 'stackheight': 4, 'time': 1.0940876007080078}\n"
     ]
    },
    {
     "name": "stderr",
     "output_type": "stream",
     "text": [
      "distributed.utils_perf - WARNING - full garbage collections took 24% CPU time recently (threshold: 10%)\n",
      "distributed.utils_perf - WARNING - full garbage collections took 24% CPU time recently (threshold: 10%)\n"
     ]
    },
    {
     "name": "stdout",
     "output_type": "stream",
     "text": [
      "{'num_masks': 8, 'n_workers': 8, 'stackheight': 4, 'time': 1.0590827465057373}\n"
     ]
    },
    {
     "name": "stderr",
     "output_type": "stream",
     "text": [
      "distributed.utils_perf - WARNING - full garbage collections took 25% CPU time recently (threshold: 10%)\n"
     ]
    },
    {
     "name": "stdout",
     "output_type": "stream",
     "text": [
      "{'num_masks': 8, 'n_workers': 8, 'stackheight': 8, 'time': 0.9115386009216309}\n"
     ]
    },
    {
     "name": "stderr",
     "output_type": "stream",
     "text": [
      "distributed.utils_perf - WARNING - full garbage collections took 25% CPU time recently (threshold: 10%)\n"
     ]
    },
    {
     "name": "stdout",
     "output_type": "stream",
     "text": [
      "{'num_masks': 8, 'n_workers': 8, 'stackheight': 8, 'time': 0.8931179046630859}\n"
     ]
    },
    {
     "name": "stderr",
     "output_type": "stream",
     "text": [
      "distributed.utils_perf - WARNING - full garbage collections took 25% CPU time recently (threshold: 10%)\n"
     ]
    },
    {
     "name": "stdout",
     "output_type": "stream",
     "text": [
      "{'num_masks': 8, 'n_workers': 8, 'stackheight': 8, 'time': 0.8568413257598877}\n"
     ]
    },
    {
     "name": "stderr",
     "output_type": "stream",
     "text": [
      "distributed.utils_perf - WARNING - full garbage collections took 25% CPU time recently (threshold: 10%)\n",
      "distributed.utils_perf - WARNING - full garbage collections took 24% CPU time recently (threshold: 10%)\n"
     ]
    },
    {
     "name": "stdout",
     "output_type": "stream",
     "text": [
      "{'num_masks': 16, 'n_workers': 8, 'stackheight': 4, 'time': 1.466740608215332}\n"
     ]
    },
    {
     "name": "stderr",
     "output_type": "stream",
     "text": [
      "distributed.utils_perf - WARNING - full garbage collections took 24% CPU time recently (threshold: 10%)\n",
      "distributed.utils_perf - WARNING - full garbage collections took 24% CPU time recently (threshold: 10%)\n"
     ]
    },
    {
     "name": "stdout",
     "output_type": "stream",
     "text": [
      "{'num_masks': 16, 'n_workers': 8, 'stackheight': 4, 'time': 1.5495202541351318}\n"
     ]
    },
    {
     "name": "stderr",
     "output_type": "stream",
     "text": [
      "distributed.utils_perf - WARNING - full garbage collections took 24% CPU time recently (threshold: 10%)\n",
      "distributed.utils_perf - WARNING - full garbage collections took 24% CPU time recently (threshold: 10%)\n"
     ]
    },
    {
     "name": "stdout",
     "output_type": "stream",
     "text": [
      "{'num_masks': 16, 'n_workers': 8, 'stackheight': 4, 'time': 1.5253920555114746}\n"
     ]
    },
    {
     "name": "stderr",
     "output_type": "stream",
     "text": [
      "distributed.utils_perf - WARNING - full garbage collections took 24% CPU time recently (threshold: 10%)\n"
     ]
    },
    {
     "name": "stdout",
     "output_type": "stream",
     "text": [
      "{'num_masks': 16, 'n_workers': 8, 'stackheight': 8, 'time': 1.0898056030273438}\n"
     ]
    },
    {
     "name": "stderr",
     "output_type": "stream",
     "text": [
      "distributed.utils_perf - WARNING - full garbage collections took 24% CPU time recently (threshold: 10%)\n"
     ]
    },
    {
     "name": "stdout",
     "output_type": "stream",
     "text": [
      "{'num_masks': 16, 'n_workers': 8, 'stackheight': 8, 'time': 1.1862730979919434}\n",
      "{'num_masks': 16, 'n_workers': 8, 'stackheight': 8, 'time': 1.1212384700775146}\n"
     ]
    },
    {
     "name": "stderr",
     "output_type": "stream",
     "text": [
      "distributed.utils - ERROR - Worker failed to start\n",
      "Traceback (most recent call last):\n",
      "  File \"/home/clausen/.virtualenvs/libertem/lib/python3.6/site-packages/distributed/utils.py\", line 646, in log_errors\n",
      "    yield\n",
      "  File \"/home/clausen/.virtualenvs/libertem/lib/python3.6/site-packages/distributed/deploy/local.py\", line 307, in scale_up\n",
      "    for i in range(n - len(self.scheduler.workers))]\n",
      "  File \"/home/clausen/.virtualenvs/libertem/lib/python3.6/site-packages/tornado/gen.py\", line 1133, in run\n",
      "    value = future.result()\n",
      "  File \"/home/clausen/.virtualenvs/libertem/lib/python3.6/site-packages/tornado/gen.py\", line 883, in callback\n",
      "    result_list.append(f.result())\n",
      "  File \"/home/clausen/.virtualenvs/libertem/lib/python3.6/site-packages/tornado/gen.py\", line 1147, in run\n",
      "    yielded = self.gen.send(value)\n",
      "  File \"/home/clausen/.virtualenvs/libertem/lib/python3.6/site-packages/distributed/deploy/local.py\", line 215, in _start_worker\n",
      "    raise gen.TimeoutError(\"Worker failed to start\")\n",
      "tornado.util.TimeoutError: Worker failed to start\n",
      "Future exception was never retrieved\n",
      "future: <Future finished exception=TimeoutError('Worker failed to start',)>\n",
      "Traceback (most recent call last):\n",
      "  File \"/home/clausen/.virtualenvs/libertem/lib/python3.6/site-packages/tornado/gen.py\", line 1141, in run\n",
      "    yielded = self.gen.throw(*exc_info)\n",
      "  File \"/home/clausen/.virtualenvs/libertem/lib/python3.6/site-packages/distributed/deploy/local.py\", line 307, in scale_up\n",
      "    for i in range(n - len(self.scheduler.workers))]\n",
      "  File \"/home/clausen/.virtualenvs/libertem/lib/python3.6/site-packages/tornado/gen.py\", line 1133, in run\n",
      "    value = future.result()\n",
      "  File \"/home/clausen/.virtualenvs/libertem/lib/python3.6/site-packages/tornado/gen.py\", line 883, in callback\n",
      "    result_list.append(f.result())\n",
      "  File \"/home/clausen/.virtualenvs/libertem/lib/python3.6/site-packages/tornado/gen.py\", line 1147, in run\n",
      "    yielded = self.gen.send(value)\n",
      "  File \"/home/clausen/.virtualenvs/libertem/lib/python3.6/site-packages/distributed/deploy/local.py\", line 215, in _start_worker\n",
      "    raise gen.TimeoutError(\"Worker failed to start\")\n",
      "tornado.util.TimeoutError: Worker failed to start\n",
      "distributed.utils - ERROR - Worker failed to start\n",
      "Traceback (most recent call last):\n",
      "  File \"/home/clausen/.virtualenvs/libertem/lib/python3.6/site-packages/distributed/utils.py\", line 646, in log_errors\n",
      "    yield\n",
      "  File \"/home/clausen/.virtualenvs/libertem/lib/python3.6/site-packages/distributed/deploy/local.py\", line 307, in scale_up\n",
      "    for i in range(n - len(self.scheduler.workers))]\n",
      "  File \"/home/clausen/.virtualenvs/libertem/lib/python3.6/site-packages/tornado/gen.py\", line 1133, in run\n",
      "    value = future.result()\n",
      "  File \"/home/clausen/.virtualenvs/libertem/lib/python3.6/site-packages/tornado/gen.py\", line 883, in callback\n",
      "    result_list.append(f.result())\n",
      "  File \"/home/clausen/.virtualenvs/libertem/lib/python3.6/site-packages/tornado/gen.py\", line 1147, in run\n",
      "    yielded = self.gen.send(value)\n",
      "  File \"/home/clausen/.virtualenvs/libertem/lib/python3.6/site-packages/distributed/deploy/local.py\", line 215, in _start_worker\n",
      "    raise gen.TimeoutError(\"Worker failed to start\")\n",
      "tornado.util.TimeoutError: Worker failed to start\n",
      "Future exception was never retrieved\n",
      "future: <Future finished exception=TimeoutError('Worker failed to start',)>\n",
      "Traceback (most recent call last):\n",
      "  File \"/home/clausen/.virtualenvs/libertem/lib/python3.6/site-packages/tornado/gen.py\", line 1141, in run\n",
      "    yielded = self.gen.throw(*exc_info)\n",
      "  File \"/home/clausen/.virtualenvs/libertem/lib/python3.6/site-packages/distributed/deploy/local.py\", line 307, in scale_up\n",
      "    for i in range(n - len(self.scheduler.workers))]\n",
      "  File \"/home/clausen/.virtualenvs/libertem/lib/python3.6/site-packages/tornado/gen.py\", line 1133, in run\n",
      "    value = future.result()\n",
      "  File \"/home/clausen/.virtualenvs/libertem/lib/python3.6/site-packages/tornado/gen.py\", line 883, in callback\n",
      "    result_list.append(f.result())\n",
      "  File \"/home/clausen/.virtualenvs/libertem/lib/python3.6/site-packages/tornado/gen.py\", line 1147, in run\n",
      "    yielded = self.gen.send(value)\n",
      "  File \"/home/clausen/.virtualenvs/libertem/lib/python3.6/site-packages/distributed/deploy/local.py\", line 215, in _start_worker\n",
      "    raise gen.TimeoutError(\"Worker failed to start\")\n",
      "tornado.util.TimeoutError: Worker failed to start\n",
      "distributed.utils - ERROR - Worker failed to start\n",
      "Traceback (most recent call last):\n",
      "  File \"/home/clausen/.virtualenvs/libertem/lib/python3.6/site-packages/distributed/utils.py\", line 646, in log_errors\n",
      "    yield\n",
      "  File \"/home/clausen/.virtualenvs/libertem/lib/python3.6/site-packages/distributed/deploy/local.py\", line 307, in scale_up\n",
      "    for i in range(n - len(self.scheduler.workers))]\n",
      "  File \"/home/clausen/.virtualenvs/libertem/lib/python3.6/site-packages/tornado/gen.py\", line 1133, in run\n",
      "    value = future.result()\n",
      "  File \"/home/clausen/.virtualenvs/libertem/lib/python3.6/site-packages/tornado/gen.py\", line 883, in callback\n",
      "    result_list.append(f.result())\n",
      "  File \"/home/clausen/.virtualenvs/libertem/lib/python3.6/site-packages/tornado/gen.py\", line 1147, in run\n",
      "    yielded = self.gen.send(value)\n",
      "  File \"/home/clausen/.virtualenvs/libertem/lib/python3.6/site-packages/distributed/deploy/local.py\", line 215, in _start_worker\n",
      "    raise gen.TimeoutError(\"Worker failed to start\")\n",
      "tornado.util.TimeoutError: Worker failed to start\n",
      "Future exception was never retrieved\n",
      "future: <Future finished exception=TimeoutError('Worker failed to start',)>\n",
      "Traceback (most recent call last):\n",
      "  File \"/home/clausen/.virtualenvs/libertem/lib/python3.6/site-packages/tornado/gen.py\", line 1141, in run\n",
      "    yielded = self.gen.throw(*exc_info)\n",
      "  File \"/home/clausen/.virtualenvs/libertem/lib/python3.6/site-packages/distributed/deploy/local.py\", line 307, in scale_up\n",
      "    for i in range(n - len(self.scheduler.workers))]\n",
      "  File \"/home/clausen/.virtualenvs/libertem/lib/python3.6/site-packages/tornado/gen.py\", line 1133, in run\n",
      "    value = future.result()\n",
      "  File \"/home/clausen/.virtualenvs/libertem/lib/python3.6/site-packages/tornado/gen.py\", line 883, in callback\n",
      "    result_list.append(f.result())\n",
      "  File \"/home/clausen/.virtualenvs/libertem/lib/python3.6/site-packages/tornado/gen.py\", line 1147, in run\n",
      "    yielded = self.gen.send(value)\n",
      "  File \"/home/clausen/.virtualenvs/libertem/lib/python3.6/site-packages/distributed/deploy/local.py\", line 215, in _start_worker\n",
      "    raise gen.TimeoutError(\"Worker failed to start\")\n",
      "tornado.util.TimeoutError: Worker failed to start\n",
      "distributed.utils - ERROR - Worker failed to start\n",
      "Traceback (most recent call last):\n",
      "  File \"/home/clausen/.virtualenvs/libertem/lib/python3.6/site-packages/distributed/utils.py\", line 646, in log_errors\n",
      "    yield\n",
      "  File \"/home/clausen/.virtualenvs/libertem/lib/python3.6/site-packages/distributed/deploy/local.py\", line 307, in scale_up\n",
      "    for i in range(n - len(self.scheduler.workers))]\n",
      "  File \"/home/clausen/.virtualenvs/libertem/lib/python3.6/site-packages/tornado/gen.py\", line 1133, in run\n",
      "    value = future.result()\n",
      "  File \"/home/clausen/.virtualenvs/libertem/lib/python3.6/site-packages/tornado/gen.py\", line 883, in callback\n",
      "    result_list.append(f.result())\n",
      "  File \"/home/clausen/.virtualenvs/libertem/lib/python3.6/site-packages/tornado/gen.py\", line 1147, in run\n",
      "    yielded = self.gen.send(value)\n",
      "  File \"/home/clausen/.virtualenvs/libertem/lib/python3.6/site-packages/distributed/deploy/local.py\", line 215, in _start_worker\n",
      "    raise gen.TimeoutError(\"Worker failed to start\")\n",
      "tornado.util.TimeoutError: Worker failed to start\n",
      "Future exception was never retrieved\n",
      "future: <Future finished exception=TimeoutError('Worker failed to start',)>\n",
      "Traceback (most recent call last):\n",
      "  File \"/home/clausen/.virtualenvs/libertem/lib/python3.6/site-packages/tornado/gen.py\", line 1141, in run\n",
      "    yielded = self.gen.throw(*exc_info)\n",
      "  File \"/home/clausen/.virtualenvs/libertem/lib/python3.6/site-packages/distributed/deploy/local.py\", line 307, in scale_up\n",
      "    for i in range(n - len(self.scheduler.workers))]\n",
      "  File \"/home/clausen/.virtualenvs/libertem/lib/python3.6/site-packages/tornado/gen.py\", line 1133, in run\n",
      "    value = future.result()\n",
      "  File \"/home/clausen/.virtualenvs/libertem/lib/python3.6/site-packages/tornado/gen.py\", line 883, in callback\n",
      "    result_list.append(f.result())\n",
      "  File \"/home/clausen/.virtualenvs/libertem/lib/python3.6/site-packages/tornado/gen.py\", line 1147, in run\n",
      "    yielded = self.gen.send(value)\n",
      "  File \"/home/clausen/.virtualenvs/libertem/lib/python3.6/site-packages/distributed/deploy/local.py\", line 215, in _start_worker\n",
      "    raise gen.TimeoutError(\"Worker failed to start\")\n",
      "tornado.util.TimeoutError: Worker failed to start\n"
     ]
    },
    {
     "name": "stderr",
     "output_type": "stream",
     "text": [
      "distributed.utils - ERROR - Worker failed to start\n",
      "Traceback (most recent call last):\n",
      "  File \"/home/clausen/.virtualenvs/libertem/lib/python3.6/site-packages/distributed/utils.py\", line 646, in log_errors\n",
      "    yield\n",
      "  File \"/home/clausen/.virtualenvs/libertem/lib/python3.6/site-packages/distributed/deploy/local.py\", line 307, in scale_up\n",
      "    for i in range(n - len(self.scheduler.workers))]\n",
      "  File \"/home/clausen/.virtualenvs/libertem/lib/python3.6/site-packages/tornado/gen.py\", line 1133, in run\n",
      "    value = future.result()\n",
      "  File \"/home/clausen/.virtualenvs/libertem/lib/python3.6/site-packages/tornado/gen.py\", line 883, in callback\n",
      "    result_list.append(f.result())\n",
      "  File \"/home/clausen/.virtualenvs/libertem/lib/python3.6/site-packages/tornado/gen.py\", line 1147, in run\n",
      "    yielded = self.gen.send(value)\n",
      "  File \"/home/clausen/.virtualenvs/libertem/lib/python3.6/site-packages/distributed/deploy/local.py\", line 215, in _start_worker\n",
      "    raise gen.TimeoutError(\"Worker failed to start\")\n",
      "tornado.util.TimeoutError: Worker failed to start\n",
      "Future exception was never retrieved\n",
      "future: <Future finished exception=TimeoutError('Worker failed to start',)>\n",
      "Traceback (most recent call last):\n",
      "  File \"/home/clausen/.virtualenvs/libertem/lib/python3.6/site-packages/tornado/gen.py\", line 1141, in run\n",
      "    yielded = self.gen.throw(*exc_info)\n",
      "  File \"/home/clausen/.virtualenvs/libertem/lib/python3.6/site-packages/distributed/deploy/local.py\", line 307, in scale_up\n",
      "    for i in range(n - len(self.scheduler.workers))]\n",
      "  File \"/home/clausen/.virtualenvs/libertem/lib/python3.6/site-packages/tornado/gen.py\", line 1133, in run\n",
      "    value = future.result()\n",
      "  File \"/home/clausen/.virtualenvs/libertem/lib/python3.6/site-packages/tornado/gen.py\", line 883, in callback\n",
      "    result_list.append(f.result())\n",
      "  File \"/home/clausen/.virtualenvs/libertem/lib/python3.6/site-packages/tornado/gen.py\", line 1147, in run\n",
      "    yielded = self.gen.send(value)\n",
      "  File \"/home/clausen/.virtualenvs/libertem/lib/python3.6/site-packages/distributed/deploy/local.py\", line 215, in _start_worker\n",
      "    raise gen.TimeoutError(\"Worker failed to start\")\n",
      "tornado.util.TimeoutError: Worker failed to start\n"
     ]
    }
   ],
   "source": [
    "results = []\n",
    "for n_workers in range(1, 9):\n",
    "    cluster = executor.client.cluster\n",
    "    cluster.scale_up(n_workers, ncores=1)\n",
    "    for num_masks in [1, 2, 4, 8, 16]:\n",
    "        for stackheight in [4, 8]:\n",
    "            for repeat in range(3):\n",
    "                gc.collect()\n",
    "                t0 = time.time()\n",
    "                process_with_params(num_masks=num_masks + 1, stackheight=stackheight)\n",
    "                t1 = time.time()\n",
    "                result = {\n",
    "                    \"num_masks\": num_masks,\n",
    "                    \"n_workers\": n_workers,\n",
    "                    \"stackheight\": stackheight,\n",
    "                    \"time\": t1 - t0,\n",
    "                }\n",
    "                results.append(result)\n",
    "                print(result)"
   ]
  },
  {
   "cell_type": "code",
   "execution_count": 15,
   "metadata": {},
   "outputs": [],
   "source": [
    "df = pd.DataFrame(results)"
   ]
  },
  {
   "cell_type": "code",
   "execution_count": 16,
   "metadata": {},
   "outputs": [
    {
     "data": {
      "application/javascript": [
       "/* Put everything inside the global mpl namespace */\n",
       "window.mpl = {};\n",
       "\n",
       "\n",
       "mpl.get_websocket_type = function() {\n",
       "    if (typeof(WebSocket) !== 'undefined') {\n",
       "        return WebSocket;\n",
       "    } else if (typeof(MozWebSocket) !== 'undefined') {\n",
       "        return MozWebSocket;\n",
       "    } else {\n",
       "        alert('Your browser does not have WebSocket support.' +\n",
       "              'Please try Chrome, Safari or Firefox ≥ 6. ' +\n",
       "              'Firefox 4 and 5 are also supported but you ' +\n",
       "              'have to enable WebSockets in about:config.');\n",
       "    };\n",
       "}\n",
       "\n",
       "mpl.figure = function(figure_id, websocket, ondownload, parent_element) {\n",
       "    this.id = figure_id;\n",
       "\n",
       "    this.ws = websocket;\n",
       "\n",
       "    this.supports_binary = (this.ws.binaryType != undefined);\n",
       "\n",
       "    if (!this.supports_binary) {\n",
       "        var warnings = document.getElementById(\"mpl-warnings\");\n",
       "        if (warnings) {\n",
       "            warnings.style.display = 'block';\n",
       "            warnings.textContent = (\n",
       "                \"This browser does not support binary websocket messages. \" +\n",
       "                    \"Performance may be slow.\");\n",
       "        }\n",
       "    }\n",
       "\n",
       "    this.imageObj = new Image();\n",
       "\n",
       "    this.context = undefined;\n",
       "    this.message = undefined;\n",
       "    this.canvas = undefined;\n",
       "    this.rubberband_canvas = undefined;\n",
       "    this.rubberband_context = undefined;\n",
       "    this.format_dropdown = undefined;\n",
       "\n",
       "    this.image_mode = 'full';\n",
       "\n",
       "    this.root = $('<div/>');\n",
       "    this._root_extra_style(this.root)\n",
       "    this.root.attr('style', 'display: inline-block');\n",
       "\n",
       "    $(parent_element).append(this.root);\n",
       "\n",
       "    this._init_header(this);\n",
       "    this._init_canvas(this);\n",
       "    this._init_toolbar(this);\n",
       "\n",
       "    var fig = this;\n",
       "\n",
       "    this.waiting = false;\n",
       "\n",
       "    this.ws.onopen =  function () {\n",
       "            fig.send_message(\"supports_binary\", {value: fig.supports_binary});\n",
       "            fig.send_message(\"send_image_mode\", {});\n",
       "            if (mpl.ratio != 1) {\n",
       "                fig.send_message(\"set_dpi_ratio\", {'dpi_ratio': mpl.ratio});\n",
       "            }\n",
       "            fig.send_message(\"refresh\", {});\n",
       "        }\n",
       "\n",
       "    this.imageObj.onload = function() {\n",
       "            if (fig.image_mode == 'full') {\n",
       "                // Full images could contain transparency (where diff images\n",
       "                // almost always do), so we need to clear the canvas so that\n",
       "                // there is no ghosting.\n",
       "                fig.context.clearRect(0, 0, fig.canvas.width, fig.canvas.height);\n",
       "            }\n",
       "            fig.context.drawImage(fig.imageObj, 0, 0);\n",
       "        };\n",
       "\n",
       "    this.imageObj.onunload = function() {\n",
       "        fig.ws.close();\n",
       "    }\n",
       "\n",
       "    this.ws.onmessage = this._make_on_message_function(this);\n",
       "\n",
       "    this.ondownload = ondownload;\n",
       "}\n",
       "\n",
       "mpl.figure.prototype._init_header = function() {\n",
       "    var titlebar = $(\n",
       "        '<div class=\"ui-dialog-titlebar ui-widget-header ui-corner-all ' +\n",
       "        'ui-helper-clearfix\"/>');\n",
       "    var titletext = $(\n",
       "        '<div class=\"ui-dialog-title\" style=\"width: 100%; ' +\n",
       "        'text-align: center; padding: 3px;\"/>');\n",
       "    titlebar.append(titletext)\n",
       "    this.root.append(titlebar);\n",
       "    this.header = titletext[0];\n",
       "}\n",
       "\n",
       "\n",
       "\n",
       "mpl.figure.prototype._canvas_extra_style = function(canvas_div) {\n",
       "\n",
       "}\n",
       "\n",
       "\n",
       "mpl.figure.prototype._root_extra_style = function(canvas_div) {\n",
       "\n",
       "}\n",
       "\n",
       "mpl.figure.prototype._init_canvas = function() {\n",
       "    var fig = this;\n",
       "\n",
       "    var canvas_div = $('<div/>');\n",
       "\n",
       "    canvas_div.attr('style', 'position: relative; clear: both; outline: 0');\n",
       "\n",
       "    function canvas_keyboard_event(event) {\n",
       "        return fig.key_event(event, event['data']);\n",
       "    }\n",
       "\n",
       "    canvas_div.keydown('key_press', canvas_keyboard_event);\n",
       "    canvas_div.keyup('key_release', canvas_keyboard_event);\n",
       "    this.canvas_div = canvas_div\n",
       "    this._canvas_extra_style(canvas_div)\n",
       "    this.root.append(canvas_div);\n",
       "\n",
       "    var canvas = $('<canvas/>');\n",
       "    canvas.addClass('mpl-canvas');\n",
       "    canvas.attr('style', \"left: 0; top: 0; z-index: 0; outline: 0\")\n",
       "\n",
       "    this.canvas = canvas[0];\n",
       "    this.context = canvas[0].getContext(\"2d\");\n",
       "\n",
       "    var backingStore = this.context.backingStorePixelRatio ||\n",
       "\tthis.context.webkitBackingStorePixelRatio ||\n",
       "\tthis.context.mozBackingStorePixelRatio ||\n",
       "\tthis.context.msBackingStorePixelRatio ||\n",
       "\tthis.context.oBackingStorePixelRatio ||\n",
       "\tthis.context.backingStorePixelRatio || 1;\n",
       "\n",
       "    mpl.ratio = (window.devicePixelRatio || 1) / backingStore;\n",
       "\n",
       "    var rubberband = $('<canvas/>');\n",
       "    rubberband.attr('style', \"position: absolute; left: 0; top: 0; z-index: 1;\")\n",
       "\n",
       "    var pass_mouse_events = true;\n",
       "\n",
       "    canvas_div.resizable({\n",
       "        start: function(event, ui) {\n",
       "            pass_mouse_events = false;\n",
       "        },\n",
       "        resize: function(event, ui) {\n",
       "            fig.request_resize(ui.size.width, ui.size.height);\n",
       "        },\n",
       "        stop: function(event, ui) {\n",
       "            pass_mouse_events = true;\n",
       "            fig.request_resize(ui.size.width, ui.size.height);\n",
       "        },\n",
       "    });\n",
       "\n",
       "    function mouse_event_fn(event) {\n",
       "        if (pass_mouse_events)\n",
       "            return fig.mouse_event(event, event['data']);\n",
       "    }\n",
       "\n",
       "    rubberband.mousedown('button_press', mouse_event_fn);\n",
       "    rubberband.mouseup('button_release', mouse_event_fn);\n",
       "    // Throttle sequential mouse events to 1 every 20ms.\n",
       "    rubberband.mousemove('motion_notify', mouse_event_fn);\n",
       "\n",
       "    rubberband.mouseenter('figure_enter', mouse_event_fn);\n",
       "    rubberband.mouseleave('figure_leave', mouse_event_fn);\n",
       "\n",
       "    canvas_div.on(\"wheel\", function (event) {\n",
       "        event = event.originalEvent;\n",
       "        event['data'] = 'scroll'\n",
       "        if (event.deltaY < 0) {\n",
       "            event.step = 1;\n",
       "        } else {\n",
       "            event.step = -1;\n",
       "        }\n",
       "        mouse_event_fn(event);\n",
       "    });\n",
       "\n",
       "    canvas_div.append(canvas);\n",
       "    canvas_div.append(rubberband);\n",
       "\n",
       "    this.rubberband = rubberband;\n",
       "    this.rubberband_canvas = rubberband[0];\n",
       "    this.rubberband_context = rubberband[0].getContext(\"2d\");\n",
       "    this.rubberband_context.strokeStyle = \"#000000\";\n",
       "\n",
       "    this._resize_canvas = function(width, height) {\n",
       "        // Keep the size of the canvas, canvas container, and rubber band\n",
       "        // canvas in synch.\n",
       "        canvas_div.css('width', width)\n",
       "        canvas_div.css('height', height)\n",
       "\n",
       "        canvas.attr('width', width * mpl.ratio);\n",
       "        canvas.attr('height', height * mpl.ratio);\n",
       "        canvas.attr('style', 'width: ' + width + 'px; height: ' + height + 'px;');\n",
       "\n",
       "        rubberband.attr('width', width);\n",
       "        rubberband.attr('height', height);\n",
       "    }\n",
       "\n",
       "    // Set the figure to an initial 600x600px, this will subsequently be updated\n",
       "    // upon first draw.\n",
       "    this._resize_canvas(600, 600);\n",
       "\n",
       "    // Disable right mouse context menu.\n",
       "    $(this.rubberband_canvas).bind(\"contextmenu\",function(e){\n",
       "        return false;\n",
       "    });\n",
       "\n",
       "    function set_focus () {\n",
       "        canvas.focus();\n",
       "        canvas_div.focus();\n",
       "    }\n",
       "\n",
       "    window.setTimeout(set_focus, 100);\n",
       "}\n",
       "\n",
       "mpl.figure.prototype._init_toolbar = function() {\n",
       "    var fig = this;\n",
       "\n",
       "    var nav_element = $('<div/>')\n",
       "    nav_element.attr('style', 'width: 100%');\n",
       "    this.root.append(nav_element);\n",
       "\n",
       "    // Define a callback function for later on.\n",
       "    function toolbar_event(event) {\n",
       "        return fig.toolbar_button_onclick(event['data']);\n",
       "    }\n",
       "    function toolbar_mouse_event(event) {\n",
       "        return fig.toolbar_button_onmouseover(event['data']);\n",
       "    }\n",
       "\n",
       "    for(var toolbar_ind in mpl.toolbar_items) {\n",
       "        var name = mpl.toolbar_items[toolbar_ind][0];\n",
       "        var tooltip = mpl.toolbar_items[toolbar_ind][1];\n",
       "        var image = mpl.toolbar_items[toolbar_ind][2];\n",
       "        var method_name = mpl.toolbar_items[toolbar_ind][3];\n",
       "\n",
       "        if (!name) {\n",
       "            // put a spacer in here.\n",
       "            continue;\n",
       "        }\n",
       "        var button = $('<button/>');\n",
       "        button.addClass('ui-button ui-widget ui-state-default ui-corner-all ' +\n",
       "                        'ui-button-icon-only');\n",
       "        button.attr('role', 'button');\n",
       "        button.attr('aria-disabled', 'false');\n",
       "        button.click(method_name, toolbar_event);\n",
       "        button.mouseover(tooltip, toolbar_mouse_event);\n",
       "\n",
       "        var icon_img = $('<span/>');\n",
       "        icon_img.addClass('ui-button-icon-primary ui-icon');\n",
       "        icon_img.addClass(image);\n",
       "        icon_img.addClass('ui-corner-all');\n",
       "\n",
       "        var tooltip_span = $('<span/>');\n",
       "        tooltip_span.addClass('ui-button-text');\n",
       "        tooltip_span.html(tooltip);\n",
       "\n",
       "        button.append(icon_img);\n",
       "        button.append(tooltip_span);\n",
       "\n",
       "        nav_element.append(button);\n",
       "    }\n",
       "\n",
       "    var fmt_picker_span = $('<span/>');\n",
       "\n",
       "    var fmt_picker = $('<select/>');\n",
       "    fmt_picker.addClass('mpl-toolbar-option ui-widget ui-widget-content');\n",
       "    fmt_picker_span.append(fmt_picker);\n",
       "    nav_element.append(fmt_picker_span);\n",
       "    this.format_dropdown = fmt_picker[0];\n",
       "\n",
       "    for (var ind in mpl.extensions) {\n",
       "        var fmt = mpl.extensions[ind];\n",
       "        var option = $(\n",
       "            '<option/>', {selected: fmt === mpl.default_extension}).html(fmt);\n",
       "        fmt_picker.append(option)\n",
       "    }\n",
       "\n",
       "    // Add hover states to the ui-buttons\n",
       "    $( \".ui-button\" ).hover(\n",
       "        function() { $(this).addClass(\"ui-state-hover\");},\n",
       "        function() { $(this).removeClass(\"ui-state-hover\");}\n",
       "    );\n",
       "\n",
       "    var status_bar = $('<span class=\"mpl-message\"/>');\n",
       "    nav_element.append(status_bar);\n",
       "    this.message = status_bar[0];\n",
       "}\n",
       "\n",
       "mpl.figure.prototype.request_resize = function(x_pixels, y_pixels) {\n",
       "    // Request matplotlib to resize the figure. Matplotlib will then trigger a resize in the client,\n",
       "    // which will in turn request a refresh of the image.\n",
       "    this.send_message('resize', {'width': x_pixels, 'height': y_pixels});\n",
       "}\n",
       "\n",
       "mpl.figure.prototype.send_message = function(type, properties) {\n",
       "    properties['type'] = type;\n",
       "    properties['figure_id'] = this.id;\n",
       "    this.ws.send(JSON.stringify(properties));\n",
       "}\n",
       "\n",
       "mpl.figure.prototype.send_draw_message = function() {\n",
       "    if (!this.waiting) {\n",
       "        this.waiting = true;\n",
       "        this.ws.send(JSON.stringify({type: \"draw\", figure_id: this.id}));\n",
       "    }\n",
       "}\n",
       "\n",
       "\n",
       "mpl.figure.prototype.handle_save = function(fig, msg) {\n",
       "    var format_dropdown = fig.format_dropdown;\n",
       "    var format = format_dropdown.options[format_dropdown.selectedIndex].value;\n",
       "    fig.ondownload(fig, format);\n",
       "}\n",
       "\n",
       "\n",
       "mpl.figure.prototype.handle_resize = function(fig, msg) {\n",
       "    var size = msg['size'];\n",
       "    if (size[0] != fig.canvas.width || size[1] != fig.canvas.height) {\n",
       "        fig._resize_canvas(size[0], size[1]);\n",
       "        fig.send_message(\"refresh\", {});\n",
       "    };\n",
       "}\n",
       "\n",
       "mpl.figure.prototype.handle_rubberband = function(fig, msg) {\n",
       "    var x0 = msg['x0'] / mpl.ratio;\n",
       "    var y0 = (fig.canvas.height - msg['y0']) / mpl.ratio;\n",
       "    var x1 = msg['x1'] / mpl.ratio;\n",
       "    var y1 = (fig.canvas.height - msg['y1']) / mpl.ratio;\n",
       "    x0 = Math.floor(x0) + 0.5;\n",
       "    y0 = Math.floor(y0) + 0.5;\n",
       "    x1 = Math.floor(x1) + 0.5;\n",
       "    y1 = Math.floor(y1) + 0.5;\n",
       "    var min_x = Math.min(x0, x1);\n",
       "    var min_y = Math.min(y0, y1);\n",
       "    var width = Math.abs(x1 - x0);\n",
       "    var height = Math.abs(y1 - y0);\n",
       "\n",
       "    fig.rubberband_context.clearRect(\n",
       "        0, 0, fig.canvas.width, fig.canvas.height);\n",
       "\n",
       "    fig.rubberband_context.strokeRect(min_x, min_y, width, height);\n",
       "}\n",
       "\n",
       "mpl.figure.prototype.handle_figure_label = function(fig, msg) {\n",
       "    // Updates the figure title.\n",
       "    fig.header.textContent = msg['label'];\n",
       "}\n",
       "\n",
       "mpl.figure.prototype.handle_cursor = function(fig, msg) {\n",
       "    var cursor = msg['cursor'];\n",
       "    switch(cursor)\n",
       "    {\n",
       "    case 0:\n",
       "        cursor = 'pointer';\n",
       "        break;\n",
       "    case 1:\n",
       "        cursor = 'default';\n",
       "        break;\n",
       "    case 2:\n",
       "        cursor = 'crosshair';\n",
       "        break;\n",
       "    case 3:\n",
       "        cursor = 'move';\n",
       "        break;\n",
       "    }\n",
       "    fig.rubberband_canvas.style.cursor = cursor;\n",
       "}\n",
       "\n",
       "mpl.figure.prototype.handle_message = function(fig, msg) {\n",
       "    fig.message.textContent = msg['message'];\n",
       "}\n",
       "\n",
       "mpl.figure.prototype.handle_draw = function(fig, msg) {\n",
       "    // Request the server to send over a new figure.\n",
       "    fig.send_draw_message();\n",
       "}\n",
       "\n",
       "mpl.figure.prototype.handle_image_mode = function(fig, msg) {\n",
       "    fig.image_mode = msg['mode'];\n",
       "}\n",
       "\n",
       "mpl.figure.prototype.updated_canvas_event = function() {\n",
       "    // Called whenever the canvas gets updated.\n",
       "    this.send_message(\"ack\", {});\n",
       "}\n",
       "\n",
       "// A function to construct a web socket function for onmessage handling.\n",
       "// Called in the figure constructor.\n",
       "mpl.figure.prototype._make_on_message_function = function(fig) {\n",
       "    return function socket_on_message(evt) {\n",
       "        if (evt.data instanceof Blob) {\n",
       "            /* FIXME: We get \"Resource interpreted as Image but\n",
       "             * transferred with MIME type text/plain:\" errors on\n",
       "             * Chrome.  But how to set the MIME type?  It doesn't seem\n",
       "             * to be part of the websocket stream */\n",
       "            evt.data.type = \"image/png\";\n",
       "\n",
       "            /* Free the memory for the previous frames */\n",
       "            if (fig.imageObj.src) {\n",
       "                (window.URL || window.webkitURL).revokeObjectURL(\n",
       "                    fig.imageObj.src);\n",
       "            }\n",
       "\n",
       "            fig.imageObj.src = (window.URL || window.webkitURL).createObjectURL(\n",
       "                evt.data);\n",
       "            fig.updated_canvas_event();\n",
       "            fig.waiting = false;\n",
       "            return;\n",
       "        }\n",
       "        else if (typeof evt.data === 'string' && evt.data.slice(0, 21) == \"data:image/png;base64\") {\n",
       "            fig.imageObj.src = evt.data;\n",
       "            fig.updated_canvas_event();\n",
       "            fig.waiting = false;\n",
       "            return;\n",
       "        }\n",
       "\n",
       "        var msg = JSON.parse(evt.data);\n",
       "        var msg_type = msg['type'];\n",
       "\n",
       "        // Call the  \"handle_{type}\" callback, which takes\n",
       "        // the figure and JSON message as its only arguments.\n",
       "        try {\n",
       "            var callback = fig[\"handle_\" + msg_type];\n",
       "        } catch (e) {\n",
       "            console.log(\"No handler for the '\" + msg_type + \"' message type: \", msg);\n",
       "            return;\n",
       "        }\n",
       "\n",
       "        if (callback) {\n",
       "            try {\n",
       "                // console.log(\"Handling '\" + msg_type + \"' message: \", msg);\n",
       "                callback(fig, msg);\n",
       "            } catch (e) {\n",
       "                console.log(\"Exception inside the 'handler_\" + msg_type + \"' callback:\", e, e.stack, msg);\n",
       "            }\n",
       "        }\n",
       "    };\n",
       "}\n",
       "\n",
       "// from http://stackoverflow.com/questions/1114465/getting-mouse-location-in-canvas\n",
       "mpl.findpos = function(e) {\n",
       "    //this section is from http://www.quirksmode.org/js/events_properties.html\n",
       "    var targ;\n",
       "    if (!e)\n",
       "        e = window.event;\n",
       "    if (e.target)\n",
       "        targ = e.target;\n",
       "    else if (e.srcElement)\n",
       "        targ = e.srcElement;\n",
       "    if (targ.nodeType == 3) // defeat Safari bug\n",
       "        targ = targ.parentNode;\n",
       "\n",
       "    // jQuery normalizes the pageX and pageY\n",
       "    // pageX,Y are the mouse positions relative to the document\n",
       "    // offset() returns the position of the element relative to the document\n",
       "    var x = e.pageX - $(targ).offset().left;\n",
       "    var y = e.pageY - $(targ).offset().top;\n",
       "\n",
       "    return {\"x\": x, \"y\": y};\n",
       "};\n",
       "\n",
       "/*\n",
       " * return a copy of an object with only non-object keys\n",
       " * we need this to avoid circular references\n",
       " * http://stackoverflow.com/a/24161582/3208463\n",
       " */\n",
       "function simpleKeys (original) {\n",
       "  return Object.keys(original).reduce(function (obj, key) {\n",
       "    if (typeof original[key] !== 'object')\n",
       "        obj[key] = original[key]\n",
       "    return obj;\n",
       "  }, {});\n",
       "}\n",
       "\n",
       "mpl.figure.prototype.mouse_event = function(event, name) {\n",
       "    var canvas_pos = mpl.findpos(event)\n",
       "\n",
       "    if (name === 'button_press')\n",
       "    {\n",
       "        this.canvas.focus();\n",
       "        this.canvas_div.focus();\n",
       "    }\n",
       "\n",
       "    var x = canvas_pos.x * mpl.ratio;\n",
       "    var y = canvas_pos.y * mpl.ratio;\n",
       "\n",
       "    this.send_message(name, {x: x, y: y, button: event.button,\n",
       "                             step: event.step,\n",
       "                             guiEvent: simpleKeys(event)});\n",
       "\n",
       "    /* This prevents the web browser from automatically changing to\n",
       "     * the text insertion cursor when the button is pressed.  We want\n",
       "     * to control all of the cursor setting manually through the\n",
       "     * 'cursor' event from matplotlib */\n",
       "    event.preventDefault();\n",
       "    return false;\n",
       "}\n",
       "\n",
       "mpl.figure.prototype._key_event_extra = function(event, name) {\n",
       "    // Handle any extra behaviour associated with a key event\n",
       "}\n",
       "\n",
       "mpl.figure.prototype.key_event = function(event, name) {\n",
       "\n",
       "    // Prevent repeat events\n",
       "    if (name == 'key_press')\n",
       "    {\n",
       "        if (event.which === this._key)\n",
       "            return;\n",
       "        else\n",
       "            this._key = event.which;\n",
       "    }\n",
       "    if (name == 'key_release')\n",
       "        this._key = null;\n",
       "\n",
       "    var value = '';\n",
       "    if (event.ctrlKey && event.which != 17)\n",
       "        value += \"ctrl+\";\n",
       "    if (event.altKey && event.which != 18)\n",
       "        value += \"alt+\";\n",
       "    if (event.shiftKey && event.which != 16)\n",
       "        value += \"shift+\";\n",
       "\n",
       "    value += 'k';\n",
       "    value += event.which.toString();\n",
       "\n",
       "    this._key_event_extra(event, name);\n",
       "\n",
       "    this.send_message(name, {key: value,\n",
       "                             guiEvent: simpleKeys(event)});\n",
       "    return false;\n",
       "}\n",
       "\n",
       "mpl.figure.prototype.toolbar_button_onclick = function(name) {\n",
       "    if (name == 'download') {\n",
       "        this.handle_save(this, null);\n",
       "    } else {\n",
       "        this.send_message(\"toolbar_button\", {name: name});\n",
       "    }\n",
       "};\n",
       "\n",
       "mpl.figure.prototype.toolbar_button_onmouseover = function(tooltip) {\n",
       "    this.message.textContent = tooltip;\n",
       "};\n",
       "mpl.toolbar_items = [[\"Home\", \"Reset original view\", \"fa fa-home icon-home\", \"home\"], [\"Back\", \"Back to  previous view\", \"fa fa-arrow-left icon-arrow-left\", \"back\"], [\"Forward\", \"Forward to next view\", \"fa fa-arrow-right icon-arrow-right\", \"forward\"], [\"\", \"\", \"\", \"\"], [\"Pan\", \"Pan axes with left mouse, zoom with right\", \"fa fa-arrows icon-move\", \"pan\"], [\"Zoom\", \"Zoom to rectangle\", \"fa fa-square-o icon-check-empty\", \"zoom\"], [\"\", \"\", \"\", \"\"], [\"Download\", \"Download plot\", \"fa fa-floppy-o icon-save\", \"download\"]];\n",
       "\n",
       "mpl.extensions = [\"eps\", \"jpeg\", \"pdf\", \"png\", \"ps\", \"raw\", \"svg\", \"tif\"];\n",
       "\n",
       "mpl.default_extension = \"png\";var comm_websocket_adapter = function(comm) {\n",
       "    // Create a \"websocket\"-like object which calls the given IPython comm\n",
       "    // object with the appropriate methods. Currently this is a non binary\n",
       "    // socket, so there is still some room for performance tuning.\n",
       "    var ws = {};\n",
       "\n",
       "    ws.close = function() {\n",
       "        comm.close()\n",
       "    };\n",
       "    ws.send = function(m) {\n",
       "        //console.log('sending', m);\n",
       "        comm.send(m);\n",
       "    };\n",
       "    // Register the callback with on_msg.\n",
       "    comm.on_msg(function(msg) {\n",
       "        //console.log('receiving', msg['content']['data'], msg);\n",
       "        // Pass the mpl event to the overridden (by mpl) onmessage function.\n",
       "        ws.onmessage(msg['content']['data'])\n",
       "    });\n",
       "    return ws;\n",
       "}\n",
       "\n",
       "mpl.mpl_figure_comm = function(comm, msg) {\n",
       "    // This is the function which gets called when the mpl process\n",
       "    // starts-up an IPython Comm through the \"matplotlib\" channel.\n",
       "\n",
       "    var id = msg.content.data.id;\n",
       "    // Get hold of the div created by the display call when the Comm\n",
       "    // socket was opened in Python.\n",
       "    var element = $(\"#\" + id);\n",
       "    var ws_proxy = comm_websocket_adapter(comm)\n",
       "\n",
       "    function ondownload(figure, format) {\n",
       "        window.open(figure.imageObj.src);\n",
       "    }\n",
       "\n",
       "    var fig = new mpl.figure(id, ws_proxy,\n",
       "                           ondownload,\n",
       "                           element.get(0));\n",
       "\n",
       "    // Call onopen now - mpl needs it, as it is assuming we've passed it a real\n",
       "    // web socket which is closed, not our websocket->open comm proxy.\n",
       "    ws_proxy.onopen();\n",
       "\n",
       "    fig.parent_element = element.get(0);\n",
       "    fig.cell_info = mpl.find_output_cell(\"<div id='\" + id + \"'></div>\");\n",
       "    if (!fig.cell_info) {\n",
       "        console.error(\"Failed to find cell for figure\", id, fig);\n",
       "        return;\n",
       "    }\n",
       "\n",
       "    var output_index = fig.cell_info[2]\n",
       "    var cell = fig.cell_info[0];\n",
       "\n",
       "};\n",
       "\n",
       "mpl.figure.prototype.handle_close = function(fig, msg) {\n",
       "    var width = fig.canvas.width/mpl.ratio\n",
       "    fig.root.unbind('remove')\n",
       "\n",
       "    // Update the output cell to use the data from the current canvas.\n",
       "    fig.push_to_output();\n",
       "    var dataURL = fig.canvas.toDataURL();\n",
       "    // Re-enable the keyboard manager in IPython - without this line, in FF,\n",
       "    // the notebook keyboard shortcuts fail.\n",
       "    IPython.keyboard_manager.enable()\n",
       "    $(fig.parent_element).html('<img src=\"' + dataURL + '\" width=\"' + width + '\">');\n",
       "    fig.close_ws(fig, msg);\n",
       "}\n",
       "\n",
       "mpl.figure.prototype.close_ws = function(fig, msg){\n",
       "    fig.send_message('closing', msg);\n",
       "    // fig.ws.close()\n",
       "}\n",
       "\n",
       "mpl.figure.prototype.push_to_output = function(remove_interactive) {\n",
       "    // Turn the data on the canvas into data in the output cell.\n",
       "    var width = this.canvas.width/mpl.ratio\n",
       "    var dataURL = this.canvas.toDataURL();\n",
       "    this.cell_info[1]['text/html'] = '<img src=\"' + dataURL + '\" width=\"' + width + '\">';\n",
       "}\n",
       "\n",
       "mpl.figure.prototype.updated_canvas_event = function() {\n",
       "    // Tell IPython that the notebook contents must change.\n",
       "    IPython.notebook.set_dirty(true);\n",
       "    this.send_message(\"ack\", {});\n",
       "    var fig = this;\n",
       "    // Wait a second, then push the new image to the DOM so\n",
       "    // that it is saved nicely (might be nice to debounce this).\n",
       "    setTimeout(function () { fig.push_to_output() }, 1000);\n",
       "}\n",
       "\n",
       "mpl.figure.prototype._init_toolbar = function() {\n",
       "    var fig = this;\n",
       "\n",
       "    var nav_element = $('<div/>')\n",
       "    nav_element.attr('style', 'width: 100%');\n",
       "    this.root.append(nav_element);\n",
       "\n",
       "    // Define a callback function for later on.\n",
       "    function toolbar_event(event) {\n",
       "        return fig.toolbar_button_onclick(event['data']);\n",
       "    }\n",
       "    function toolbar_mouse_event(event) {\n",
       "        return fig.toolbar_button_onmouseover(event['data']);\n",
       "    }\n",
       "\n",
       "    for(var toolbar_ind in mpl.toolbar_items){\n",
       "        var name = mpl.toolbar_items[toolbar_ind][0];\n",
       "        var tooltip = mpl.toolbar_items[toolbar_ind][1];\n",
       "        var image = mpl.toolbar_items[toolbar_ind][2];\n",
       "        var method_name = mpl.toolbar_items[toolbar_ind][3];\n",
       "\n",
       "        if (!name) { continue; };\n",
       "\n",
       "        var button = $('<button class=\"btn btn-default\" href=\"#\" title=\"' + name + '\"><i class=\"fa ' + image + ' fa-lg\"></i></button>');\n",
       "        button.click(method_name, toolbar_event);\n",
       "        button.mouseover(tooltip, toolbar_mouse_event);\n",
       "        nav_element.append(button);\n",
       "    }\n",
       "\n",
       "    // Add the status bar.\n",
       "    var status_bar = $('<span class=\"mpl-message\" style=\"text-align:right; float: right;\"/>');\n",
       "    nav_element.append(status_bar);\n",
       "    this.message = status_bar[0];\n",
       "\n",
       "    // Add the close button to the window.\n",
       "    var buttongrp = $('<div class=\"btn-group inline pull-right\"></div>');\n",
       "    var button = $('<button class=\"btn btn-mini btn-primary\" href=\"#\" title=\"Stop Interaction\"><i class=\"fa fa-power-off icon-remove icon-large\"></i></button>');\n",
       "    button.click(function (evt) { fig.handle_close(fig, {}); } );\n",
       "    button.mouseover('Stop Interaction', toolbar_mouse_event);\n",
       "    buttongrp.append(button);\n",
       "    var titlebar = this.root.find($('.ui-dialog-titlebar'));\n",
       "    titlebar.prepend(buttongrp);\n",
       "}\n",
       "\n",
       "mpl.figure.prototype._root_extra_style = function(el){\n",
       "    var fig = this\n",
       "    el.on(\"remove\", function(){\n",
       "\tfig.close_ws(fig, {});\n",
       "    });\n",
       "}\n",
       "\n",
       "mpl.figure.prototype._canvas_extra_style = function(el){\n",
       "    // this is important to make the div 'focusable\n",
       "    el.attr('tabindex', 0)\n",
       "    // reach out to IPython and tell the keyboard manager to turn it's self\n",
       "    // off when our div gets focus\n",
       "\n",
       "    // location in version 3\n",
       "    if (IPython.notebook.keyboard_manager) {\n",
       "        IPython.notebook.keyboard_manager.register_events(el);\n",
       "    }\n",
       "    else {\n",
       "        // location in version 2\n",
       "        IPython.keyboard_manager.register_events(el);\n",
       "    }\n",
       "\n",
       "}\n",
       "\n",
       "mpl.figure.prototype._key_event_extra = function(event, name) {\n",
       "    var manager = IPython.notebook.keyboard_manager;\n",
       "    if (!manager)\n",
       "        manager = IPython.keyboard_manager;\n",
       "\n",
       "    // Check for shift+enter\n",
       "    if (event.shiftKey && event.which == 13) {\n",
       "        this.canvas_div.blur();\n",
       "        event.shiftKey = false;\n",
       "        // Send a \"J\" for go to next cell\n",
       "        event.which = 74;\n",
       "        event.keyCode = 74;\n",
       "        manager.command_mode();\n",
       "        manager.handle_keydown(event);\n",
       "    }\n",
       "}\n",
       "\n",
       "mpl.figure.prototype.handle_save = function(fig, msg) {\n",
       "    fig.ondownload(fig, null);\n",
       "}\n",
       "\n",
       "\n",
       "mpl.find_output_cell = function(html_output) {\n",
       "    // Return the cell and output element which can be found *uniquely* in the notebook.\n",
       "    // Note - this is a bit hacky, but it is done because the \"notebook_saving.Notebook\"\n",
       "    // IPython event is triggered only after the cells have been serialised, which for\n",
       "    // our purposes (turning an active figure into a static one), is too late.\n",
       "    var cells = IPython.notebook.get_cells();\n",
       "    var ncells = cells.length;\n",
       "    for (var i=0; i<ncells; i++) {\n",
       "        var cell = cells[i];\n",
       "        if (cell.cell_type === 'code'){\n",
       "            for (var j=0; j<cell.output_area.outputs.length; j++) {\n",
       "                var data = cell.output_area.outputs[j];\n",
       "                if (data.data) {\n",
       "                    // IPython >= 3 moved mimebundle to data attribute of output\n",
       "                    data = data.data;\n",
       "                }\n",
       "                if (data['text/html'] == html_output) {\n",
       "                    return [cell, data, j];\n",
       "                }\n",
       "            }\n",
       "        }\n",
       "    }\n",
       "}\n",
       "\n",
       "// Register the function which deals with the matplotlib target/channel.\n",
       "// The kernel may be null if the page has been refreshed.\n",
       "if (IPython.notebook.kernel != null) {\n",
       "    IPython.notebook.kernel.comm_manager.register_target('matplotlib', mpl.mpl_figure_comm);\n",
       "}\n"
      ],
      "text/plain": [
       "<IPython.core.display.Javascript object>"
      ]
     },
     "metadata": {},
     "output_type": "display_data"
    },
    {
     "data": {
      "text/html": [
       "<img src=\"data:image/png;base64,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\" width=\"963\">"
      ],
      "text/plain": [
       "<IPython.core.display.HTML object>"
      ]
     },
     "metadata": {},
     "output_type": "display_data"
    }
   ],
   "source": [
    "table = df.pivot_table(values='time', columns=['stackheight', \"n_workers\"], index=[\"num_masks\"])\n",
    "cmap = \"RdYlGn_r\"\n",
    "seaborn.heatmap(table, annot=True, cmap=cmap, fmt=\".2f\")\n",
    "plt.show()"
   ]
  },
  {
   "cell_type": "code",
   "execution_count": 17,
   "metadata": {
    "scrolled": false
   },
   "outputs": [
    {
     "data": {
      "application/javascript": [
       "/* Put everything inside the global mpl namespace */\n",
       "window.mpl = {};\n",
       "\n",
       "\n",
       "mpl.get_websocket_type = function() {\n",
       "    if (typeof(WebSocket) !== 'undefined') {\n",
       "        return WebSocket;\n",
       "    } else if (typeof(MozWebSocket) !== 'undefined') {\n",
       "        return MozWebSocket;\n",
       "    } else {\n",
       "        alert('Your browser does not have WebSocket support.' +\n",
       "              'Please try Chrome, Safari or Firefox ≥ 6. ' +\n",
       "              'Firefox 4 and 5 are also supported but you ' +\n",
       "              'have to enable WebSockets in about:config.');\n",
       "    };\n",
       "}\n",
       "\n",
       "mpl.figure = function(figure_id, websocket, ondownload, parent_element) {\n",
       "    this.id = figure_id;\n",
       "\n",
       "    this.ws = websocket;\n",
       "\n",
       "    this.supports_binary = (this.ws.binaryType != undefined);\n",
       "\n",
       "    if (!this.supports_binary) {\n",
       "        var warnings = document.getElementById(\"mpl-warnings\");\n",
       "        if (warnings) {\n",
       "            warnings.style.display = 'block';\n",
       "            warnings.textContent = (\n",
       "                \"This browser does not support binary websocket messages. \" +\n",
       "                    \"Performance may be slow.\");\n",
       "        }\n",
       "    }\n",
       "\n",
       "    this.imageObj = new Image();\n",
       "\n",
       "    this.context = undefined;\n",
       "    this.message = undefined;\n",
       "    this.canvas = undefined;\n",
       "    this.rubberband_canvas = undefined;\n",
       "    this.rubberband_context = undefined;\n",
       "    this.format_dropdown = undefined;\n",
       "\n",
       "    this.image_mode = 'full';\n",
       "\n",
       "    this.root = $('<div/>');\n",
       "    this._root_extra_style(this.root)\n",
       "    this.root.attr('style', 'display: inline-block');\n",
       "\n",
       "    $(parent_element).append(this.root);\n",
       "\n",
       "    this._init_header(this);\n",
       "    this._init_canvas(this);\n",
       "    this._init_toolbar(this);\n",
       "\n",
       "    var fig = this;\n",
       "\n",
       "    this.waiting = false;\n",
       "\n",
       "    this.ws.onopen =  function () {\n",
       "            fig.send_message(\"supports_binary\", {value: fig.supports_binary});\n",
       "            fig.send_message(\"send_image_mode\", {});\n",
       "            if (mpl.ratio != 1) {\n",
       "                fig.send_message(\"set_dpi_ratio\", {'dpi_ratio': mpl.ratio});\n",
       "            }\n",
       "            fig.send_message(\"refresh\", {});\n",
       "        }\n",
       "\n",
       "    this.imageObj.onload = function() {\n",
       "            if (fig.image_mode == 'full') {\n",
       "                // Full images could contain transparency (where diff images\n",
       "                // almost always do), so we need to clear the canvas so that\n",
       "                // there is no ghosting.\n",
       "                fig.context.clearRect(0, 0, fig.canvas.width, fig.canvas.height);\n",
       "            }\n",
       "            fig.context.drawImage(fig.imageObj, 0, 0);\n",
       "        };\n",
       "\n",
       "    this.imageObj.onunload = function() {\n",
       "        fig.ws.close();\n",
       "    }\n",
       "\n",
       "    this.ws.onmessage = this._make_on_message_function(this);\n",
       "\n",
       "    this.ondownload = ondownload;\n",
       "}\n",
       "\n",
       "mpl.figure.prototype._init_header = function() {\n",
       "    var titlebar = $(\n",
       "        '<div class=\"ui-dialog-titlebar ui-widget-header ui-corner-all ' +\n",
       "        'ui-helper-clearfix\"/>');\n",
       "    var titletext = $(\n",
       "        '<div class=\"ui-dialog-title\" style=\"width: 100%; ' +\n",
       "        'text-align: center; padding: 3px;\"/>');\n",
       "    titlebar.append(titletext)\n",
       "    this.root.append(titlebar);\n",
       "    this.header = titletext[0];\n",
       "}\n",
       "\n",
       "\n",
       "\n",
       "mpl.figure.prototype._canvas_extra_style = function(canvas_div) {\n",
       "\n",
       "}\n",
       "\n",
       "\n",
       "mpl.figure.prototype._root_extra_style = function(canvas_div) {\n",
       "\n",
       "}\n",
       "\n",
       "mpl.figure.prototype._init_canvas = function() {\n",
       "    var fig = this;\n",
       "\n",
       "    var canvas_div = $('<div/>');\n",
       "\n",
       "    canvas_div.attr('style', 'position: relative; clear: both; outline: 0');\n",
       "\n",
       "    function canvas_keyboard_event(event) {\n",
       "        return fig.key_event(event, event['data']);\n",
       "    }\n",
       "\n",
       "    canvas_div.keydown('key_press', canvas_keyboard_event);\n",
       "    canvas_div.keyup('key_release', canvas_keyboard_event);\n",
       "    this.canvas_div = canvas_div\n",
       "    this._canvas_extra_style(canvas_div)\n",
       "    this.root.append(canvas_div);\n",
       "\n",
       "    var canvas = $('<canvas/>');\n",
       "    canvas.addClass('mpl-canvas');\n",
       "    canvas.attr('style', \"left: 0; top: 0; z-index: 0; outline: 0\")\n",
       "\n",
       "    this.canvas = canvas[0];\n",
       "    this.context = canvas[0].getContext(\"2d\");\n",
       "\n",
       "    var backingStore = this.context.backingStorePixelRatio ||\n",
       "\tthis.context.webkitBackingStorePixelRatio ||\n",
       "\tthis.context.mozBackingStorePixelRatio ||\n",
       "\tthis.context.msBackingStorePixelRatio ||\n",
       "\tthis.context.oBackingStorePixelRatio ||\n",
       "\tthis.context.backingStorePixelRatio || 1;\n",
       "\n",
       "    mpl.ratio = (window.devicePixelRatio || 1) / backingStore;\n",
       "\n",
       "    var rubberband = $('<canvas/>');\n",
       "    rubberband.attr('style', \"position: absolute; left: 0; top: 0; z-index: 1;\")\n",
       "\n",
       "    var pass_mouse_events = true;\n",
       "\n",
       "    canvas_div.resizable({\n",
       "        start: function(event, ui) {\n",
       "            pass_mouse_events = false;\n",
       "        },\n",
       "        resize: function(event, ui) {\n",
       "            fig.request_resize(ui.size.width, ui.size.height);\n",
       "        },\n",
       "        stop: function(event, ui) {\n",
       "            pass_mouse_events = true;\n",
       "            fig.request_resize(ui.size.width, ui.size.height);\n",
       "        },\n",
       "    });\n",
       "\n",
       "    function mouse_event_fn(event) {\n",
       "        if (pass_mouse_events)\n",
       "            return fig.mouse_event(event, event['data']);\n",
       "    }\n",
       "\n",
       "    rubberband.mousedown('button_press', mouse_event_fn);\n",
       "    rubberband.mouseup('button_release', mouse_event_fn);\n",
       "    // Throttle sequential mouse events to 1 every 20ms.\n",
       "    rubberband.mousemove('motion_notify', mouse_event_fn);\n",
       "\n",
       "    rubberband.mouseenter('figure_enter', mouse_event_fn);\n",
       "    rubberband.mouseleave('figure_leave', mouse_event_fn);\n",
       "\n",
       "    canvas_div.on(\"wheel\", function (event) {\n",
       "        event = event.originalEvent;\n",
       "        event['data'] = 'scroll'\n",
       "        if (event.deltaY < 0) {\n",
       "            event.step = 1;\n",
       "        } else {\n",
       "            event.step = -1;\n",
       "        }\n",
       "        mouse_event_fn(event);\n",
       "    });\n",
       "\n",
       "    canvas_div.append(canvas);\n",
       "    canvas_div.append(rubberband);\n",
       "\n",
       "    this.rubberband = rubberband;\n",
       "    this.rubberband_canvas = rubberband[0];\n",
       "    this.rubberband_context = rubberband[0].getContext(\"2d\");\n",
       "    this.rubberband_context.strokeStyle = \"#000000\";\n",
       "\n",
       "    this._resize_canvas = function(width, height) {\n",
       "        // Keep the size of the canvas, canvas container, and rubber band\n",
       "        // canvas in synch.\n",
       "        canvas_div.css('width', width)\n",
       "        canvas_div.css('height', height)\n",
       "\n",
       "        canvas.attr('width', width * mpl.ratio);\n",
       "        canvas.attr('height', height * mpl.ratio);\n",
       "        canvas.attr('style', 'width: ' + width + 'px; height: ' + height + 'px;');\n",
       "\n",
       "        rubberband.attr('width', width);\n",
       "        rubberband.attr('height', height);\n",
       "    }\n",
       "\n",
       "    // Set the figure to an initial 600x600px, this will subsequently be updated\n",
       "    // upon first draw.\n",
       "    this._resize_canvas(600, 600);\n",
       "\n",
       "    // Disable right mouse context menu.\n",
       "    $(this.rubberband_canvas).bind(\"contextmenu\",function(e){\n",
       "        return false;\n",
       "    });\n",
       "\n",
       "    function set_focus () {\n",
       "        canvas.focus();\n",
       "        canvas_div.focus();\n",
       "    }\n",
       "\n",
       "    window.setTimeout(set_focus, 100);\n",
       "}\n",
       "\n",
       "mpl.figure.prototype._init_toolbar = function() {\n",
       "    var fig = this;\n",
       "\n",
       "    var nav_element = $('<div/>')\n",
       "    nav_element.attr('style', 'width: 100%');\n",
       "    this.root.append(nav_element);\n",
       "\n",
       "    // Define a callback function for later on.\n",
       "    function toolbar_event(event) {\n",
       "        return fig.toolbar_button_onclick(event['data']);\n",
       "    }\n",
       "    function toolbar_mouse_event(event) {\n",
       "        return fig.toolbar_button_onmouseover(event['data']);\n",
       "    }\n",
       "\n",
       "    for(var toolbar_ind in mpl.toolbar_items) {\n",
       "        var name = mpl.toolbar_items[toolbar_ind][0];\n",
       "        var tooltip = mpl.toolbar_items[toolbar_ind][1];\n",
       "        var image = mpl.toolbar_items[toolbar_ind][2];\n",
       "        var method_name = mpl.toolbar_items[toolbar_ind][3];\n",
       "\n",
       "        if (!name) {\n",
       "            // put a spacer in here.\n",
       "            continue;\n",
       "        }\n",
       "        var button = $('<button/>');\n",
       "        button.addClass('ui-button ui-widget ui-state-default ui-corner-all ' +\n",
       "                        'ui-button-icon-only');\n",
       "        button.attr('role', 'button');\n",
       "        button.attr('aria-disabled', 'false');\n",
       "        button.click(method_name, toolbar_event);\n",
       "        button.mouseover(tooltip, toolbar_mouse_event);\n",
       "\n",
       "        var icon_img = $('<span/>');\n",
       "        icon_img.addClass('ui-button-icon-primary ui-icon');\n",
       "        icon_img.addClass(image);\n",
       "        icon_img.addClass('ui-corner-all');\n",
       "\n",
       "        var tooltip_span = $('<span/>');\n",
       "        tooltip_span.addClass('ui-button-text');\n",
       "        tooltip_span.html(tooltip);\n",
       "\n",
       "        button.append(icon_img);\n",
       "        button.append(tooltip_span);\n",
       "\n",
       "        nav_element.append(button);\n",
       "    }\n",
       "\n",
       "    var fmt_picker_span = $('<span/>');\n",
       "\n",
       "    var fmt_picker = $('<select/>');\n",
       "    fmt_picker.addClass('mpl-toolbar-option ui-widget ui-widget-content');\n",
       "    fmt_picker_span.append(fmt_picker);\n",
       "    nav_element.append(fmt_picker_span);\n",
       "    this.format_dropdown = fmt_picker[0];\n",
       "\n",
       "    for (var ind in mpl.extensions) {\n",
       "        var fmt = mpl.extensions[ind];\n",
       "        var option = $(\n",
       "            '<option/>', {selected: fmt === mpl.default_extension}).html(fmt);\n",
       "        fmt_picker.append(option)\n",
       "    }\n",
       "\n",
       "    // Add hover states to the ui-buttons\n",
       "    $( \".ui-button\" ).hover(\n",
       "        function() { $(this).addClass(\"ui-state-hover\");},\n",
       "        function() { $(this).removeClass(\"ui-state-hover\");}\n",
       "    );\n",
       "\n",
       "    var status_bar = $('<span class=\"mpl-message\"/>');\n",
       "    nav_element.append(status_bar);\n",
       "    this.message = status_bar[0];\n",
       "}\n",
       "\n",
       "mpl.figure.prototype.request_resize = function(x_pixels, y_pixels) {\n",
       "    // Request matplotlib to resize the figure. Matplotlib will then trigger a resize in the client,\n",
       "    // which will in turn request a refresh of the image.\n",
       "    this.send_message('resize', {'width': x_pixels, 'height': y_pixels});\n",
       "}\n",
       "\n",
       "mpl.figure.prototype.send_message = function(type, properties) {\n",
       "    properties['type'] = type;\n",
       "    properties['figure_id'] = this.id;\n",
       "    this.ws.send(JSON.stringify(properties));\n",
       "}\n",
       "\n",
       "mpl.figure.prototype.send_draw_message = function() {\n",
       "    if (!this.waiting) {\n",
       "        this.waiting = true;\n",
       "        this.ws.send(JSON.stringify({type: \"draw\", figure_id: this.id}));\n",
       "    }\n",
       "}\n",
       "\n",
       "\n",
       "mpl.figure.prototype.handle_save = function(fig, msg) {\n",
       "    var format_dropdown = fig.format_dropdown;\n",
       "    var format = format_dropdown.options[format_dropdown.selectedIndex].value;\n",
       "    fig.ondownload(fig, format);\n",
       "}\n",
       "\n",
       "\n",
       "mpl.figure.prototype.handle_resize = function(fig, msg) {\n",
       "    var size = msg['size'];\n",
       "    if (size[0] != fig.canvas.width || size[1] != fig.canvas.height) {\n",
       "        fig._resize_canvas(size[0], size[1]);\n",
       "        fig.send_message(\"refresh\", {});\n",
       "    };\n",
       "}\n",
       "\n",
       "mpl.figure.prototype.handle_rubberband = function(fig, msg) {\n",
       "    var x0 = msg['x0'] / mpl.ratio;\n",
       "    var y0 = (fig.canvas.height - msg['y0']) / mpl.ratio;\n",
       "    var x1 = msg['x1'] / mpl.ratio;\n",
       "    var y1 = (fig.canvas.height - msg['y1']) / mpl.ratio;\n",
       "    x0 = Math.floor(x0) + 0.5;\n",
       "    y0 = Math.floor(y0) + 0.5;\n",
       "    x1 = Math.floor(x1) + 0.5;\n",
       "    y1 = Math.floor(y1) + 0.5;\n",
       "    var min_x = Math.min(x0, x1);\n",
       "    var min_y = Math.min(y0, y1);\n",
       "    var width = Math.abs(x1 - x0);\n",
       "    var height = Math.abs(y1 - y0);\n",
       "\n",
       "    fig.rubberband_context.clearRect(\n",
       "        0, 0, fig.canvas.width, fig.canvas.height);\n",
       "\n",
       "    fig.rubberband_context.strokeRect(min_x, min_y, width, height);\n",
       "}\n",
       "\n",
       "mpl.figure.prototype.handle_figure_label = function(fig, msg) {\n",
       "    // Updates the figure title.\n",
       "    fig.header.textContent = msg['label'];\n",
       "}\n",
       "\n",
       "mpl.figure.prototype.handle_cursor = function(fig, msg) {\n",
       "    var cursor = msg['cursor'];\n",
       "    switch(cursor)\n",
       "    {\n",
       "    case 0:\n",
       "        cursor = 'pointer';\n",
       "        break;\n",
       "    case 1:\n",
       "        cursor = 'default';\n",
       "        break;\n",
       "    case 2:\n",
       "        cursor = 'crosshair';\n",
       "        break;\n",
       "    case 3:\n",
       "        cursor = 'move';\n",
       "        break;\n",
       "    }\n",
       "    fig.rubberband_canvas.style.cursor = cursor;\n",
       "}\n",
       "\n",
       "mpl.figure.prototype.handle_message = function(fig, msg) {\n",
       "    fig.message.textContent = msg['message'];\n",
       "}\n",
       "\n",
       "mpl.figure.prototype.handle_draw = function(fig, msg) {\n",
       "    // Request the server to send over a new figure.\n",
       "    fig.send_draw_message();\n",
       "}\n",
       "\n",
       "mpl.figure.prototype.handle_image_mode = function(fig, msg) {\n",
       "    fig.image_mode = msg['mode'];\n",
       "}\n",
       "\n",
       "mpl.figure.prototype.updated_canvas_event = function() {\n",
       "    // Called whenever the canvas gets updated.\n",
       "    this.send_message(\"ack\", {});\n",
       "}\n",
       "\n",
       "// A function to construct a web socket function for onmessage handling.\n",
       "// Called in the figure constructor.\n",
       "mpl.figure.prototype._make_on_message_function = function(fig) {\n",
       "    return function socket_on_message(evt) {\n",
       "        if (evt.data instanceof Blob) {\n",
       "            /* FIXME: We get \"Resource interpreted as Image but\n",
       "             * transferred with MIME type text/plain:\" errors on\n",
       "             * Chrome.  But how to set the MIME type?  It doesn't seem\n",
       "             * to be part of the websocket stream */\n",
       "            evt.data.type = \"image/png\";\n",
       "\n",
       "            /* Free the memory for the previous frames */\n",
       "            if (fig.imageObj.src) {\n",
       "                (window.URL || window.webkitURL).revokeObjectURL(\n",
       "                    fig.imageObj.src);\n",
       "            }\n",
       "\n",
       "            fig.imageObj.src = (window.URL || window.webkitURL).createObjectURL(\n",
       "                evt.data);\n",
       "            fig.updated_canvas_event();\n",
       "            fig.waiting = false;\n",
       "            return;\n",
       "        }\n",
       "        else if (typeof evt.data === 'string' && evt.data.slice(0, 21) == \"data:image/png;base64\") {\n",
       "            fig.imageObj.src = evt.data;\n",
       "            fig.updated_canvas_event();\n",
       "            fig.waiting = false;\n",
       "            return;\n",
       "        }\n",
       "\n",
       "        var msg = JSON.parse(evt.data);\n",
       "        var msg_type = msg['type'];\n",
       "\n",
       "        // Call the  \"handle_{type}\" callback, which takes\n",
       "        // the figure and JSON message as its only arguments.\n",
       "        try {\n",
       "            var callback = fig[\"handle_\" + msg_type];\n",
       "        } catch (e) {\n",
       "            console.log(\"No handler for the '\" + msg_type + \"' message type: \", msg);\n",
       "            return;\n",
       "        }\n",
       "\n",
       "        if (callback) {\n",
       "            try {\n",
       "                // console.log(\"Handling '\" + msg_type + \"' message: \", msg);\n",
       "                callback(fig, msg);\n",
       "            } catch (e) {\n",
       "                console.log(\"Exception inside the 'handler_\" + msg_type + \"' callback:\", e, e.stack, msg);\n",
       "            }\n",
       "        }\n",
       "    };\n",
       "}\n",
       "\n",
       "// from http://stackoverflow.com/questions/1114465/getting-mouse-location-in-canvas\n",
       "mpl.findpos = function(e) {\n",
       "    //this section is from http://www.quirksmode.org/js/events_properties.html\n",
       "    var targ;\n",
       "    if (!e)\n",
       "        e = window.event;\n",
       "    if (e.target)\n",
       "        targ = e.target;\n",
       "    else if (e.srcElement)\n",
       "        targ = e.srcElement;\n",
       "    if (targ.nodeType == 3) // defeat Safari bug\n",
       "        targ = targ.parentNode;\n",
       "\n",
       "    // jQuery normalizes the pageX and pageY\n",
       "    // pageX,Y are the mouse positions relative to the document\n",
       "    // offset() returns the position of the element relative to the document\n",
       "    var x = e.pageX - $(targ).offset().left;\n",
       "    var y = e.pageY - $(targ).offset().top;\n",
       "\n",
       "    return {\"x\": x, \"y\": y};\n",
       "};\n",
       "\n",
       "/*\n",
       " * return a copy of an object with only non-object keys\n",
       " * we need this to avoid circular references\n",
       " * http://stackoverflow.com/a/24161582/3208463\n",
       " */\n",
       "function simpleKeys (original) {\n",
       "  return Object.keys(original).reduce(function (obj, key) {\n",
       "    if (typeof original[key] !== 'object')\n",
       "        obj[key] = original[key]\n",
       "    return obj;\n",
       "  }, {});\n",
       "}\n",
       "\n",
       "mpl.figure.prototype.mouse_event = function(event, name) {\n",
       "    var canvas_pos = mpl.findpos(event)\n",
       "\n",
       "    if (name === 'button_press')\n",
       "    {\n",
       "        this.canvas.focus();\n",
       "        this.canvas_div.focus();\n",
       "    }\n",
       "\n",
       "    var x = canvas_pos.x * mpl.ratio;\n",
       "    var y = canvas_pos.y * mpl.ratio;\n",
       "\n",
       "    this.send_message(name, {x: x, y: y, button: event.button,\n",
       "                             step: event.step,\n",
       "                             guiEvent: simpleKeys(event)});\n",
       "\n",
       "    /* This prevents the web browser from automatically changing to\n",
       "     * the text insertion cursor when the button is pressed.  We want\n",
       "     * to control all of the cursor setting manually through the\n",
       "     * 'cursor' event from matplotlib */\n",
       "    event.preventDefault();\n",
       "    return false;\n",
       "}\n",
       "\n",
       "mpl.figure.prototype._key_event_extra = function(event, name) {\n",
       "    // Handle any extra behaviour associated with a key event\n",
       "}\n",
       "\n",
       "mpl.figure.prototype.key_event = function(event, name) {\n",
       "\n",
       "    // Prevent repeat events\n",
       "    if (name == 'key_press')\n",
       "    {\n",
       "        if (event.which === this._key)\n",
       "            return;\n",
       "        else\n",
       "            this._key = event.which;\n",
       "    }\n",
       "    if (name == 'key_release')\n",
       "        this._key = null;\n",
       "\n",
       "    var value = '';\n",
       "    if (event.ctrlKey && event.which != 17)\n",
       "        value += \"ctrl+\";\n",
       "    if (event.altKey && event.which != 18)\n",
       "        value += \"alt+\";\n",
       "    if (event.shiftKey && event.which != 16)\n",
       "        value += \"shift+\";\n",
       "\n",
       "    value += 'k';\n",
       "    value += event.which.toString();\n",
       "\n",
       "    this._key_event_extra(event, name);\n",
       "\n",
       "    this.send_message(name, {key: value,\n",
       "                             guiEvent: simpleKeys(event)});\n",
       "    return false;\n",
       "}\n",
       "\n",
       "mpl.figure.prototype.toolbar_button_onclick = function(name) {\n",
       "    if (name == 'download') {\n",
       "        this.handle_save(this, null);\n",
       "    } else {\n",
       "        this.send_message(\"toolbar_button\", {name: name});\n",
       "    }\n",
       "};\n",
       "\n",
       "mpl.figure.prototype.toolbar_button_onmouseover = function(tooltip) {\n",
       "    this.message.textContent = tooltip;\n",
       "};\n",
       "mpl.toolbar_items = [[\"Home\", \"Reset original view\", \"fa fa-home icon-home\", \"home\"], [\"Back\", \"Back to  previous view\", \"fa fa-arrow-left icon-arrow-left\", \"back\"], [\"Forward\", \"Forward to next view\", \"fa fa-arrow-right icon-arrow-right\", \"forward\"], [\"\", \"\", \"\", \"\"], [\"Pan\", \"Pan axes with left mouse, zoom with right\", \"fa fa-arrows icon-move\", \"pan\"], [\"Zoom\", \"Zoom to rectangle\", \"fa fa-square-o icon-check-empty\", \"zoom\"], [\"\", \"\", \"\", \"\"], [\"Download\", \"Download plot\", \"fa fa-floppy-o icon-save\", \"download\"]];\n",
       "\n",
       "mpl.extensions = [\"eps\", \"jpeg\", \"pdf\", \"png\", \"ps\", \"raw\", \"svg\", \"tif\"];\n",
       "\n",
       "mpl.default_extension = \"png\";var comm_websocket_adapter = function(comm) {\n",
       "    // Create a \"websocket\"-like object which calls the given IPython comm\n",
       "    // object with the appropriate methods. Currently this is a non binary\n",
       "    // socket, so there is still some room for performance tuning.\n",
       "    var ws = {};\n",
       "\n",
       "    ws.close = function() {\n",
       "        comm.close()\n",
       "    };\n",
       "    ws.send = function(m) {\n",
       "        //console.log('sending', m);\n",
       "        comm.send(m);\n",
       "    };\n",
       "    // Register the callback with on_msg.\n",
       "    comm.on_msg(function(msg) {\n",
       "        //console.log('receiving', msg['content']['data'], msg);\n",
       "        // Pass the mpl event to the overridden (by mpl) onmessage function.\n",
       "        ws.onmessage(msg['content']['data'])\n",
       "    });\n",
       "    return ws;\n",
       "}\n",
       "\n",
       "mpl.mpl_figure_comm = function(comm, msg) {\n",
       "    // This is the function which gets called when the mpl process\n",
       "    // starts-up an IPython Comm through the \"matplotlib\" channel.\n",
       "\n",
       "    var id = msg.content.data.id;\n",
       "    // Get hold of the div created by the display call when the Comm\n",
       "    // socket was opened in Python.\n",
       "    var element = $(\"#\" + id);\n",
       "    var ws_proxy = comm_websocket_adapter(comm)\n",
       "\n",
       "    function ondownload(figure, format) {\n",
       "        window.open(figure.imageObj.src);\n",
       "    }\n",
       "\n",
       "    var fig = new mpl.figure(id, ws_proxy,\n",
       "                           ondownload,\n",
       "                           element.get(0));\n",
       "\n",
       "    // Call onopen now - mpl needs it, as it is assuming we've passed it a real\n",
       "    // web socket which is closed, not our websocket->open comm proxy.\n",
       "    ws_proxy.onopen();\n",
       "\n",
       "    fig.parent_element = element.get(0);\n",
       "    fig.cell_info = mpl.find_output_cell(\"<div id='\" + id + \"'></div>\");\n",
       "    if (!fig.cell_info) {\n",
       "        console.error(\"Failed to find cell for figure\", id, fig);\n",
       "        return;\n",
       "    }\n",
       "\n",
       "    var output_index = fig.cell_info[2]\n",
       "    var cell = fig.cell_info[0];\n",
       "\n",
       "};\n",
       "\n",
       "mpl.figure.prototype.handle_close = function(fig, msg) {\n",
       "    var width = fig.canvas.width/mpl.ratio\n",
       "    fig.root.unbind('remove')\n",
       "\n",
       "    // Update the output cell to use the data from the current canvas.\n",
       "    fig.push_to_output();\n",
       "    var dataURL = fig.canvas.toDataURL();\n",
       "    // Re-enable the keyboard manager in IPython - without this line, in FF,\n",
       "    // the notebook keyboard shortcuts fail.\n",
       "    IPython.keyboard_manager.enable()\n",
       "    $(fig.parent_element).html('<img src=\"' + dataURL + '\" width=\"' + width + '\">');\n",
       "    fig.close_ws(fig, msg);\n",
       "}\n",
       "\n",
       "mpl.figure.prototype.close_ws = function(fig, msg){\n",
       "    fig.send_message('closing', msg);\n",
       "    // fig.ws.close()\n",
       "}\n",
       "\n",
       "mpl.figure.prototype.push_to_output = function(remove_interactive) {\n",
       "    // Turn the data on the canvas into data in the output cell.\n",
       "    var width = this.canvas.width/mpl.ratio\n",
       "    var dataURL = this.canvas.toDataURL();\n",
       "    this.cell_info[1]['text/html'] = '<img src=\"' + dataURL + '\" width=\"' + width + '\">';\n",
       "}\n",
       "\n",
       "mpl.figure.prototype.updated_canvas_event = function() {\n",
       "    // Tell IPython that the notebook contents must change.\n",
       "    IPython.notebook.set_dirty(true);\n",
       "    this.send_message(\"ack\", {});\n",
       "    var fig = this;\n",
       "    // Wait a second, then push the new image to the DOM so\n",
       "    // that it is saved nicely (might be nice to debounce this).\n",
       "    setTimeout(function () { fig.push_to_output() }, 1000);\n",
       "}\n",
       "\n",
       "mpl.figure.prototype._init_toolbar = function() {\n",
       "    var fig = this;\n",
       "\n",
       "    var nav_element = $('<div/>')\n",
       "    nav_element.attr('style', 'width: 100%');\n",
       "    this.root.append(nav_element);\n",
       "\n",
       "    // Define a callback function for later on.\n",
       "    function toolbar_event(event) {\n",
       "        return fig.toolbar_button_onclick(event['data']);\n",
       "    }\n",
       "    function toolbar_mouse_event(event) {\n",
       "        return fig.toolbar_button_onmouseover(event['data']);\n",
       "    }\n",
       "\n",
       "    for(var toolbar_ind in mpl.toolbar_items){\n",
       "        var name = mpl.toolbar_items[toolbar_ind][0];\n",
       "        var tooltip = mpl.toolbar_items[toolbar_ind][1];\n",
       "        var image = mpl.toolbar_items[toolbar_ind][2];\n",
       "        var method_name = mpl.toolbar_items[toolbar_ind][3];\n",
       "\n",
       "        if (!name) { continue; };\n",
       "\n",
       "        var button = $('<button class=\"btn btn-default\" href=\"#\" title=\"' + name + '\"><i class=\"fa ' + image + ' fa-lg\"></i></button>');\n",
       "        button.click(method_name, toolbar_event);\n",
       "        button.mouseover(tooltip, toolbar_mouse_event);\n",
       "        nav_element.append(button);\n",
       "    }\n",
       "\n",
       "    // Add the status bar.\n",
       "    var status_bar = $('<span class=\"mpl-message\" style=\"text-align:right; float: right;\"/>');\n",
       "    nav_element.append(status_bar);\n",
       "    this.message = status_bar[0];\n",
       "\n",
       "    // Add the close button to the window.\n",
       "    var buttongrp = $('<div class=\"btn-group inline pull-right\"></div>');\n",
       "    var button = $('<button class=\"btn btn-mini btn-primary\" href=\"#\" title=\"Stop Interaction\"><i class=\"fa fa-power-off icon-remove icon-large\"></i></button>');\n",
       "    button.click(function (evt) { fig.handle_close(fig, {}); } );\n",
       "    button.mouseover('Stop Interaction', toolbar_mouse_event);\n",
       "    buttongrp.append(button);\n",
       "    var titlebar = this.root.find($('.ui-dialog-titlebar'));\n",
       "    titlebar.prepend(buttongrp);\n",
       "}\n",
       "\n",
       "mpl.figure.prototype._root_extra_style = function(el){\n",
       "    var fig = this\n",
       "    el.on(\"remove\", function(){\n",
       "\tfig.close_ws(fig, {});\n",
       "    });\n",
       "}\n",
       "\n",
       "mpl.figure.prototype._canvas_extra_style = function(el){\n",
       "    // this is important to make the div 'focusable\n",
       "    el.attr('tabindex', 0)\n",
       "    // reach out to IPython and tell the keyboard manager to turn it's self\n",
       "    // off when our div gets focus\n",
       "\n",
       "    // location in version 3\n",
       "    if (IPython.notebook.keyboard_manager) {\n",
       "        IPython.notebook.keyboard_manager.register_events(el);\n",
       "    }\n",
       "    else {\n",
       "        // location in version 2\n",
       "        IPython.keyboard_manager.register_events(el);\n",
       "    }\n",
       "\n",
       "}\n",
       "\n",
       "mpl.figure.prototype._key_event_extra = function(event, name) {\n",
       "    var manager = IPython.notebook.keyboard_manager;\n",
       "    if (!manager)\n",
       "        manager = IPython.keyboard_manager;\n",
       "\n",
       "    // Check for shift+enter\n",
       "    if (event.shiftKey && event.which == 13) {\n",
       "        this.canvas_div.blur();\n",
       "        event.shiftKey = false;\n",
       "        // Send a \"J\" for go to next cell\n",
       "        event.which = 74;\n",
       "        event.keyCode = 74;\n",
       "        manager.command_mode();\n",
       "        manager.handle_keydown(event);\n",
       "    }\n",
       "}\n",
       "\n",
       "mpl.figure.prototype.handle_save = function(fig, msg) {\n",
       "    fig.ondownload(fig, null);\n",
       "}\n",
       "\n",
       "\n",
       "mpl.find_output_cell = function(html_output) {\n",
       "    // Return the cell and output element which can be found *uniquely* in the notebook.\n",
       "    // Note - this is a bit hacky, but it is done because the \"notebook_saving.Notebook\"\n",
       "    // IPython event is triggered only after the cells have been serialised, which for\n",
       "    // our purposes (turning an active figure into a static one), is too late.\n",
       "    var cells = IPython.notebook.get_cells();\n",
       "    var ncells = cells.length;\n",
       "    for (var i=0; i<ncells; i++) {\n",
       "        var cell = cells[i];\n",
       "        if (cell.cell_type === 'code'){\n",
       "            for (var j=0; j<cell.output_area.outputs.length; j++) {\n",
       "                var data = cell.output_area.outputs[j];\n",
       "                if (data.data) {\n",
       "                    // IPython >= 3 moved mimebundle to data attribute of output\n",
       "                    data = data.data;\n",
       "                }\n",
       "                if (data['text/html'] == html_output) {\n",
       "                    return [cell, data, j];\n",
       "                }\n",
       "            }\n",
       "        }\n",
       "    }\n",
       "}\n",
       "\n",
       "// Register the function which deals with the matplotlib target/channel.\n",
       "// The kernel may be null if the page has been refreshed.\n",
       "if (IPython.notebook.kernel != null) {\n",
       "    IPython.notebook.kernel.comm_manager.register_target('matplotlib', mpl.mpl_figure_comm);\n",
       "}\n"
      ],
      "text/plain": [
       "<IPython.core.display.Javascript object>"
      ]
     },
     "metadata": {},
     "output_type": "display_data"
    },
    {
     "data": {
      "text/html": [
       "<img src=\"data:image/png;base64,iVBORw0KGgoAAAANSUhEUgAABQAAAAPACAYAAABq3NR5AAAgAElEQVR4Xuzdedxd07k48CfziJhJQsQQ85QQU0YEVUrF0LS3Qil6Ua0aWtTcW1RUlQ6UUqWlppoaCSKSiCEJmkpRJKQhJCER0ogk7++zj5/DW2/ynnPec95zzj7f/U/vzbv2Ws/6Puuu+1lP9z67RV1dXV24CBAgQIAAAQIECBAgQIAAAQIECBBIpUALBcBU5tWkCBAgQIAAAQIECBAgQIAAAQIECGQEFAAtBAIECBAgQIAAAQIECBAgQIAAAQIpFlAATHFyTY0AAQIECBAgQIAAAQIECBAgQICAAqA1QIAAAQIECBAgQIAAAQIECBAgQCDFAgqAKU6uqREgQIAAAQIECBAgQIAAAQIECBBQALQGCBAgQIAAAQIECBAgQIAAAQIECKRYQAEwxck1NQIECBAgQIAAAQIECBAgQIAAAQIKgNYAAQIECBAgQIAAAQIECBAgQIAAgRQLKACmOLmmRoAAAQIECBAgQIAAAQIECBAgQEAB0BogQIAAAQIECBAgQIAAAQIECBAgkGIBBcAUJ9fUCBAgQIAAAQIECBAgQIAAAQIECCgAWgMECBAgQIAAAQIECBAgQIAAAQIEUiygAJji5JoaAQIECBAgQIAAAQIECBAgQIAAAQVAa4AAAQIECBAgQIAAAQIECBAgQIBAigUUAFOcXFMjQIAAAQIECBAgQIAAAQIECBAgoABoDRAgQIAAAQIECBAgQIAAAQIECBBIsYACYIqTa2oECBAgQIAAAQIECBAgQIAAAQIEFACtAQIECBAgQIAAAQIECBAgQIAAAQIpFlAATHFyTY0AAQIECBAgQIAAAQIECBAgQICAAqA1QIAAAQIECBAgQIAAAQIECBAgQCDFAgqAKU6uqREgQIAAAQIECBAgQIAAAQIECBBQALQGCBAgQIAAAQIECBAgQIAAAQIECKRYQAEwxck1NQIECBAgQIAAAQIECBAgQIAAAQIKgNYAAQIECBAgQIAAAQIECBAgQIAAgRQLKACmOLmmRoAAAQIECBAgQIAAAQIECBAgQEAB0BogQIAAAQIECBAgQIAAAQIECBAgkGIBBcAUJ9fUCBAgQIAAAQIECBAgQIAAAQIECCgAWgMECBAgQIAAAQIECBAgQIAAAQIEUiygAJji5JoaAQIECBAgQIAAAQIECBAgQIAAAQVAa4AAAQIECBAgQIAAAQIECBAgQIBAigUUAFOcXFMjQIAAAQIECBAgQIAAAQIECBAgoABoDRAgQIAAAQIECBAgQIAAAQIECBBIsYACYIqTa2oECBAgQIAAAQIECBAgQIAAAQIEFACtAQIECBAgQIAAAQIECBAgQIAAAQIpFlAATHFyTY0AAQIECBAgQIAAAQIECBAgQICAAqA1QIAAAQIECBAgQIAAAQIECBAgQCDFAgqAKU6uqREgQIAAAQIECBAgQIAAAQIECBBQALQGCBAgQIAAAQIECBAgQIAAAQIECKRYQAEwxck1NQIECBAgQIAAAQIECBAgQIAAAQIKgNYAAQIECBAgQIAAAQIECBAgQIAAgRQLKACmOLmmRoAAAQIECBAgQIAAAQIECBAgQEAB0BogQIAAAQIECBAgQIAAAQIECBAgkGIBBcAUJ9fUCBAgQIAAAQIECBAgQIAAAQIECCgAWgMECBAgQIAAAQIECBAgQIAAAQIEUiygAJji5JoaAQIECBAgQIAAAQIECBAgQIAAAQVAa4AAAQIECBAgQIAAAQIECBAgQIBAigUUAFOcXFMjQIAAAQIECBAgQIAAAQIECBAgoABoDRAgQIAAAQIECBAgQIAAAQIECBBIsYACYIqTa2oECBAgQIAAAQIECBAgQIAAAQIEFACtAQIECBAgQIAAAQIECBAgQIAAAQIpFlAATHFyTY0AAQIECBAgQIAAAQIECBAgQICAAqA1QIAAAQIECBAgQIAAAQIECBAgQCDFAgqAKU6uqREgQIAAAQIECBAgQIAAAQIECBBQALQGCBAgQIAAAQIECBAgQIAAAQIECKRYQAEwxck1NQIECBAgQIAAAQIECBAgQIAAAQIKgNYAAQIECBAgQIAAAQIECBAgQIAAgRQLKACmOLmmRoAAAQIECBAgQIAAAQIECBAgQEAB0BogQIAAAQIECBAgQIAAAQIECBAgkGIBBcAUJ9fUCBAgQIAAAQIECBAgQIAAAQIECCgAWgMECBAgQIAAAQIECBAgQIAAAQIEUiygAJji5JoaAQIECBAgQIAAAQIECBAgQIAAAQVAa4AAAQIECBAgQIAAAQIECBAgQIBAigUUAFOcXFMjQIAAAQIECBAgQIAAAQIECBAgoABoDRAgQIAAAQIECBAgQIAAAQIECBBIsYACYIqTa2oECBAgQIAAAQIECBAgQIAAAQIEFACtAQIECBAgQIAAAQIECBAgQIAAAQIpFlAATHFyTY0AAQIECBAgQIAAAQIECBAgQICAAqA1QIAAAQIECBAgQIAAAQIECBAgQCDFAgqAKU6uqREgQIAAAQIECBAgQIAAAQIECBBQALQGCBAgQIAAAQIECBAgQIAAAQIECKRYQAEwxck1NQIECBAgQIAAAQIECBAgQIAAAQIKgNYAAQIECBAgQIAAAQIECBAgQIAAgRQLKACmOLmmRoAAAQIECBAgQIAAAQIECBAgQEAB0BogQIAAAQIECBAgQIAAAQIECBAgkGIBBcAUJ9fUCBAgQIAAAQIECBAgQIAAAQIECCgAWgMECBAgQIAAAQIECBAgQIAAAQIEUiygAJji5JoaAQIECBAgQIAAAQIECBAgQIAAAQVAa4AAAQIECBAgQIAAAQIECBAgQIBAigUUAFOcXFMjQIAAAQIECBAgQIAAAQIECBAgoABoDRAgQIAAAQIECBAgQIAAAQIECBBIsYACYIqTa2oECBAgQIAAAQIECBAgQIAAAQIEFACtAQIECBAgQIAAAQIECBAgQIAAAQIpFlAATHFyTY0AAQIECBAgQIAAAQIECBAgQICAAqA1QIAAAQIECBAgQIAAAQIECBAgQCDFAgqAKU6uqREgQIAAAQIECBAgQIAAAQIECBBQALQGCBAgQIAAAQIECBAgQIAAAQIECKRYQAEwxck1NQIECBAgQIAAAQIECBAgQIAAAQIKgNYAAQIECBAgQIAAAQIECBAgQIAAgRQLKACmOLmmRoAAAQIECBAgQIAAAQIECBAgQEAB0BogQIAAAQIECBAgQIAAAQIECBAgkGIBBcAUJ9fUCBAgQIAAAQIECBAgQIAAAQIECCgAWgMECBAgQIAAAQIECBAgQIAAAQIEUiygAJji5JoaAQIECBAgQIAAAQIECBAgQIAAAQVAa4AAAQIECBAgQIAAAQIECBAgQIBAigUUAFOcXFMjQIAAAQIECBAgQIAAAQIECBAgoABoDRAgQIAAAQIECBAgQIAAAQIECBBIsYACYIqTa2oECBAgQIAAAQIECBAgQIAAAQIEFACtAQIECBAgQIAAAQIECBAgQIAAAQIpFlAATHFyTY0AAQIECBAgQIAAAQIECBAgQICAAqA1QIAAAQIECBAgQIAAAQIECBAgQCDFAgqAKU6uqREgQIAAAQIECBAgQIAAAQIECBBQALQGCBAgQIAAAQIECBAgQIAAAQIECKRYQAEwxck1NQIECBAgQIAAAQIECBAgQIAAAQIKgNYAAQIECBAgQIAAAQIECBAgQIAAgRQLKACmOLmmRoAAAQIECBAgQIAAAQIECBAgQEAB0BogQIAAAQIECBAgQIAAAQIECBAgkGIBBcAUJ9fUCBAgQIAAAQIECBAgQIAAAQIECCgAWgMECBAgQIAAAQIECBAgQIAAAQIEUiygAJji5JoaAQIECBAgQIAAAQIECBAgQIAAAQVAa4AAAQIECBAgQIAAAQIECBAgQIBAigUUAFOcXFMjQIAAAQIECBAgQIAAAQIECBAgoABoDRAgQIAAAQIECBAgQIAAAQIECBBIsYACYIqTW8lTW7x4cUydOjUT4tprrx2tW7eu5HDFRoAAAQIECBAgQIAAAQIEqlJg6dKlMWfOnEzs2267bbRv374q5yHopgkoADbNz90FCjzzzDPRt2/fAu92GwECBAgQIECAAAECBAgQIJCvwNNPPx0777xzvrdpnwIBBcAUJLEap6AAWI1ZEzMBAgQIECBAgAABAgQIVLOAAmA1Z69psSsANs3P3QUKzJgxI3r27Jm5O9mA1l9//QJ7chsBAgQIECBAgAABAgQIECCwIoG33nor+wbe9OnTY6ONNoJVgwIKgDWY9EqY8r///e/YYIMNMqHMnDkzunfvXglhiYEAAQIECBAgQIAAAQIECKRKwPk7VekseDIKgAXTubEpAjagpui5lwABAgQIECBAgAABAgQI5Cbg/J2bU9pbKQCmPcMVOj8bUIUmRlgECBAgQIAAAQIECBAgkCoB5+9UpbPgySgAFkznxqYI2ICaoudeAgQIECBAgAABAgQIECCQm4Dzd25OaW+lAJj2DFfo/GxAFZoYYREgQIAAAQIECBAgQIBAqgScv1OVzoInowBYMJ0bmyJgA2qKnnsJECBAgAABAgQIECBAgEBuAs7fuTmlvZUCYNozXKHzswFVaGKERYAAAQIECBAgQIAAAQKpEnD+TlU6C56MAmDBdG5sioANqCl67iVAgAABAgQIECBAgAABArkJOH/n5pT2VgqAac9whc7PBlShiREWAQIECBAgQIAAAQIECKRKwPk7VekseDIKgAXTubEpAjagpui5lwABAgQIECBAgAABAgQI5Cbg/J2bU9pbKQCmPcMVOj8bUIUmRlgECBAgQIAAAQIECBAgkCoB5+9UpbPgySgAFkznxqYI2ICaoudeAgQIECBAgAABAgTKJbB8+fL44IMP4v33348lS5bEsmXLyhWKcWtEoFWrVtGxY8fo0qVLtG/fPu9ZO3/nTZbKGxQAU5nWyp+UDajycyRCAgQIECBAgAABAgTqCyxcuDBmzZoVdXV1aAiURWC11VaL9ddfP1q0aJHz+M7fOVOluqECYKrTW7mTswFVbm5ERoAAAQIECBAgQIDAFwUaKv4lRZjk6SwXgVIKLF26tF73a6+9dqy11lo5D+n8nTNVqhsqAKY6vZU7ORtQ5eZGZAQIECBAgAABAgQI1BdIXvt9+eWXs0/+de7cOdZYY43Ma5n5PInFlUAhAslr5vPnz4933nkne/smm2wSbdu2zak75++cmFLfSAEw9SmuzAnagCozL6IiQIAAAQIECBAgQOCLAsnv/SWv/iZXUvzr3r27wp+F0uwCSQFw3rx5mXHXXXfdTBE6l8v5Oxel9LdRAEx/jityhjagikyLoAgQIECAAAECBAgQaEAgOb8krwAn14YbbhidOnXiRKDZBRYvXhzTp0/PFqI32GCDnGJw/s6JKfWNFABTn+LKnKANqDLzIioCBAgQIECAAAECBL4o8Nprr8VHH32Ueepv88039/SfRVIWgeTjMy+99FLmVfTk9d/kNeBcLufvXJTS30YBMP05rsgZ2oAqMi2CIkCAAAECBAgQIECgAYF//etfkXyIoXXr1rHZZpsxIlA2gULWovN32dJVUQMrAFZUOmonGBtQ7eTaTAkQIECAAAECBAhUu0AhRZdqn7P4K1OgkLXo/F2ZuWzuqBQAm1vceBkBG5CFQIAAAQIECBAgQIBAtQgUUnSplrmJs7oEClmLzt/VleNSRasAWCpZ/a5UwAZkgRAgQIAAAQIECBAgUC0ChRRdqmVu4qwugULWovN3deW4VNEqAJZKVr8KgNYAAQIECBAgQIAAAQKpECik6JKKiZtExQkUshYVACsujWUJSAGwLOwGtQFZAwQIECBAgAABAgQIVItAIUWXaplbtcd5/vnnxwUXXJCZRvJ13LRfhaxF5++0r4rc5qcAmJuTVkUWsAEVGVR3BAgQIECAAAECBAiUTKCQokvJgtFxPQEFwMYXhPN340a10EIBsBayXIFztAFVYFKERIAAAQIECBAgQIBAgwIKgM2/MG688cY4+uijMwNPnz49NtpoowaDUABsPDfO340b1UILBcBayHIFztEGVIFJERIBAgQIECBAgAABAgqAFbIGci0AVki4zRZGIcVo5+9mS09FD6QAWNHpSW9wNqD05tbMCBAgQIAAAQIECKRNoJCiS9oMmns+CoANixeyFp2/m3v1VuZ4CoCVmZfUR2UDSn2KTZAAAQIECBAgQIBAagQKKbqkZvJlmogCoAJgmZZeaodVAExtait7YtVYAFy+vC5eePP9eOTFt6NT29bx7QEbVzay6AgQIECAAAECBAgQKIqAAmBRGHPq5LHHHovBgwc32nbMmDExaNCgaOw3AJPfDnz99ddj+PDhkRQVp0yZEiNGjIjHH3885s6dG926dYuvfOUrcdZZZ8Vaa62VHfeJJ56In//85/HUU0/FO++8k2l36KGHxjnnnBOrrLLKSuNbtmxZ/PGPf4y//OUvmfHmzZsXnTt3ji233DIOOeSQ+M53vhMdOnRodI4NNShkLVbj+bsgHDetVEAB0AIpi0C1bUBjXnwnzrzz7/HOwo8yXt26dIjxZw6OFi1alMXPoAQIECBAgAABAgQINJ9AIUWX5osuXSOVsgC41157xbHHHhtLliz5AlqvXr1i7Nixsd5668Xll18eZ5xxRtTV1X2hXe/evTPtkoJeQ9cbb7yRKSg+//zzK0zMpptuGg888EAkY+Z7FbIWq+38na+J9rkJKADm5qRVkQWqbQN6afbC2PfKx+spjPxe/9hivVWLLKM7AgQIECBAgAABAgQqTaCQokulzaFa4vnwww8zX/3961//mnnaLrkeeuih6Nq1a70p9OzZMzp16pTzE4A77LBDTJs2LZLi22mnnRbbbrttLFy4MG644YbM03rJ9Y1vfCPzhN7QoUNj1113jZNPPjk233zzzJOCV111VTz44IOZdmeeeWZccsklXyBNnvTbcccdY+bMmdGuXbv49re/HQMHDsx8wfiDDz6IUaNGxS9+8YtYtGhRbLzxxpmnA1dbbbW8UlPIWqy283deIBrnLKAAmDOVhsUUqLYNKPlvfvpdOiZmzf9PluH0fTePEwdvWkwWfREgQIAAAQIECBAgUIECuRRdkp8Mem/RF58sq8DpFC2k1Tu2jZYtS/NWVK6/AZjrK8DJpHffffcYPXp0dOzYsZ7BYYcdFnfccUe0atUqU5BLXkG+7bbbMv/7p1fyWm+/fv3iySefjDXXXDNmz54drVu3rtdPUkC89dZbo0ePHpG8opwUKf/7evbZZ6N///6RFDqT145/8pOf5JWPXNbif3dYbefvvEA0zllAATBnKg2LKVCNG9C5f/1H/GHi61mGPj1Wjzu/s3sxWfRFgAABAgQIECBAgEAFCuRSdJn3wUfR5+KHKzD60oU0+Zy9Y83O7UoyQLELgMnPN73wwguZ3+H77ysp1u25556Zf06Kg8kTfGusscYX2v3+97+Pb33rW5l/T17x3W677bJtZsyYkXm6MCkU3nfffXHAAQes0CV5gvCyyy7LPNU4a9asvPxyWYv/3WE1nr/zQtE4JwEFwJyYNCq2QDVuQI+99E4c9ftnshTJz/9NPmdIrNGpbbF59EeAAAECBAgQIECAQAUJ5FJ0UQAsbsKKXQDcfvvt47nnnmswyHfffTfzVF9yHXTQQXHPPfc02C55ZbdPnz6Zv919991x8MEHZ9tdc801cdJJJ2UKiO+//369pwf/u7Pk9/8+LRAmHyjZcMMNc8bLZS0qAObMWVMNFQBrKt2VM9lqLAAu/nhZ7Hjh6PjPx8uykFccvn0c0rt75cCKhAABAgQIECBAgACBogvkUnRRACwue7ELgMlrvrfffnuDQS5fvjxbsDv99NMzT+c1dL322muxySabZP70hz/8Ib75zW9mmx199NGZrwzneyVfGe7bt2/Ot+WyFhUAc+asqYYKgDWV7sqZbDUWABO9b/9hUoye9nYW8svbrR/XfL135cCKhAABAgQIECBAgACBogvkUnRRACwue7ELgMOHD19pgS55RTi5zjvvvMyHRRq6ktd8P/1dv+R14KOOOuqzs+GXv5z9SEg+Esnrx4MGDcr5llzWogJgzpw11VABsKbSXTmTrdYC4J+ffiN+eNfULOQq7VrHlHOHRJtWLSsHVyQECBAgQIAAAQIECBRVIJeii4+AFJU8U6xLnqpLruSrwMmXdBu6cv0ISKkLgPvtt1/ma8VrrbVW5gMguV6ffs041/a5rEUFwFw1a6udAmBt5btiZlutBcC3318cu/zfI/Ucb/32LrH7JmtVjK1ACBAgQIAAAQIECBAorkAhRZfiRlB7vVVbAfDTLwC3a9cu84Xfz39BuJjZK2QtVuv5u5hu+opQALQKyiJQzRvQgb8cH1NnLci6HduvZ5xzwFZlcTQoAQIECBAgQIAAAQKlFyik6FL6qNI9wk033ZR9xbYangC8/PLLI/n9wOR68sknY5dddilJggpZi9V8/i4JYo12qgBYo4kv97SreQP6+eiX4xeP/CtLuPFaneLR03L/zYZy2xufAAECBAgQIECAAIH8BAopuuQ3gtb/LXDbbbfF1772tcw/v/jii7H55ps3iFQprwC/9NJLseWWW0ZdXV0m7j/96U8lSWoha7Gaz98lQazRThUAazTx5Z52NW9Af//3/PjK1RPqET76g4Gx8dqdy81qfAIECBAgQIAAAQIESiBQSNGlBGHUVJePP/54DBw4MDPnBx54IPbff/+KLgAmwR1xxBHZLw2PGDEiTj311BXmLHmqMXlScNiwYXnltZC1WM3n77xwNF6pgAKgBVIWgWregJIf993lp4/EnIUfZe3O+fKWcWz/jctiaVACBAgQIECAAAECBEorUEjRpbQRpb/3hQsXxjrrrBOLFy+O3r17xyWXXBI9evSIli0/+QBjt27dokOHDpkv9l5wwQWZf0uevvvvK/l4yOuvvx6l/ghIMu67774bO++8c7z22muZMAYMGBBHHnlkbL311pH8NuC8efPi+eefj5EjR8ajjz4aX/3qV+OOO+7IK5mFrMVqPn/nhaOxAqA1UHkC1b4BnXnH3+O2STOzsLtvsmbc+u1dKw9aRAQIECBAgAABAgQINFmgkKJLkwfVQZx55plx2WWXNSiRfGl30KBBFVUATAKdPXt2HH744TFu3LhGM5h85fiGG25otN3nGxSyFqv9/J0XkMYrFPAEoMVRFoFq34AeemF2HH/z5Kxd65YtYsq5Q2LV9m3K4mlQAgQIECBAgAABAgRKJ1BI0aV00dROz8kTfddff3384Q9/iBdeeCEWLFgQy5YtywBUagHw0+wkry0nvwM4ceLETFHw448/ji5dusRmm20Wu+22W3zlK1/JPCGY71XIWqz283e+Rto3LKAAaGWURaDaN6APP1oaO144OpYsW571u/rrO8YB23Uti6dBCRAgQIAAAQIECBAonUAhRZfSRaPnWhYoZC1W+/m7lvNdzLkrABZTU185C6RhAxp+w9Mx9uU52TkfsmO3uOKIHXI20JAAAQIECBAgQIAAgeoQKKToUh0zE2W1CRSyFtNw/q62PFVivAqAlZiVGogpDRvQHybOiHP/+kI2W6t3bBOTzhkSrVq2qIEMmiIBAgQIECBAgACB2hEopOhSOzpm2pwChazFNJy/m9M4rWMpAKY1sxU+rzRsQDPfXRT9LxtTT/rO7+wWfXqsUeH6wiNAgAABAgQIECBAIB+BQoou+fSvLYFcBQpZi2k4f+fqo92KBRQArY6yCKRlA9r354/HS28vzBr+76BN4oz9tiiLqUEJECBAgAABAgQIECiNQCFFl9JEotdaFyhkLabl/F3ruW/q/BUAmyro/oIE0rIBXTryxfj1Y69mDbZYb5UY+b38v+RUEKKbCBAgQIAAAQIECBBoFoFCii7NEphBak6gkLWYlvN3zSW7yBNWACwyqO5yE0jLBjRpxrtx6G8m1pv0+DMHR/fVO+YGoRUBAgQIECBAgAABAhUvUEjRpeInJcCqFChkLabl/F2VCaugoBUAKygZtRRKWjagZcvros/Fo2P+oo+z6bvooK3jm7ttVEvpNFcCBAgQIECAAAECqRYopOiSahCTK5tAIWsxLefvsqGnZGAFwJQkstqmkaYN6Pu3PRd3Pzsrm4JBm68dNx7dt9pSIl4CBAgQIECAAAECBFYgUEjRBSaBUggUshbTdP4uhWmt9KkAWCuZrrB5pmkDuu/5N+PkPz2bFW7bumU8d+6Q6Ni2dYWpC4cAAQIECBAgQIAAgUIECim6FDKOewg0JlDIWkzT+bsxH39fsYACoNVRFoE0bUAL/vNx9L5odCSvA396XXfkTjFkq3XLYmtQAgQIECBAgAABAgSKK1BI0aW4EeiNwCcChazFNJ2/rYPCBRQAC7erd+ekSZPiwQcfjPHjx8e0adNizpw50aZNm+jatWvsscceccwxx0S/fv2aNNpjjz0WgwcPzquPgQMHRnLff18bbbRRvP7664321aNHj5gxY0aj7fJtkLYN6GvXTownX3s3yzCs7wbx00O2y5dFewIECBAgQIAAAQIEKlCgkKJLBU5DSCkQKGQtpu38nYI0lmUKCoBFYB8wYECMGzeu0Z6OPPLIuO6666Jt27aNtm2oQSEFwOOOOy5++9vfKgAWJJ77Tdc9/lr85MF/Zm9YZ5V28dRZe0WLFi1y70RLAgQIECBAgAABAgQqUqCQoktFTkRQVS9QyFpUAKz6tBdlAgqARWDcdNNN49VXX8087XfYYYdF//79Y8MNN4xly5bFxIkTY8SIETFr1icfiRg2bFjceuutBY364YcfxvTp0xu996STToqxY8dm2k2YMCF23333FRYADzrooLj44otX2GdSrOzVq1ejY+bbIG0b0KtzPoi9Rnxi/ul1/8n9Yptuq+VLoz0BAlMIljoAACAASURBVAQIECBAgAABAhUm8Nprr8VHH32UiSo5H7Vq1arCIhROLQgsX748Xn755airq4t27drFxhtvnNO003b+zmnSGn1BQAGwCIvigAMOiOTpvqFDhzb4/wjmzp2beQ04+T/U5EqKc8lTg6W45s+fH+utt17m/zklhcnkvx1o6Pr0FeDhw4fHjTfeWIpQVtpn2jagZAMefPljMWPeouy8v793rzhl782a3daABAgQIECAAAECBAgUV2D27Nnx3nvvZTpdZ511Ys011yzuAHojkIPA+++/n324qEuXLrH++uvncFdE2s7fOU1aoy8IKAA206K4//7748ADD8yMdvLJJ8dVV11VkpGT131POOGETN8XXHBBnHvuuQ2OowBYfP4L75sWN0z47AnN7buvFn89qWm/+1j8KPVIgAABAgQIECBAgEC+AosXL673NlZSAFx11VUzT2H52Z98NbXPVyB58u+DDz6IpBCdvGmYXBtssEF07tw5p64UAHNiSn0jBcBmSnHy+u6n/8e5//77xwMPPFCSkZMnDZ944onM/xNKHlNPCn0NXQqAxeef8Mrc+MbvnqrX8dNn7RXrrNq++IPpkQABAgQIECBAgACBZhV48803Y8GCBfXGTM5dXgdu1jTU5GBJ0S956+zTq0OHDpF8sDPX4rMCYE0umy9MWgGwmdbBu+++m31MPHkS8N577y36yMnvECav/SZX8orxp78DqABYdOoGO1yydHn0uWh0LPxoafbvlw7dNo7YecPmCcAoBAgQIECAAAECBAiUTCApwMybNy/mzJlTsjF0TKAxgaT4l3xzoGXLlo01zf5dATBnqlQ3VABspvTefffdccghh2RGO+OMM+LSSy8t+sjnnXdeXHjhhZl+r7/++vjWt761wjE+fQKwZ8+emUfXk+Jh8t8qrLvuutG3b9/Mx0qSD4Tk+t8o5DuZtG5AJ94yJR6Y+laWY5+t1o1rj9wpXx7tCRAgQIAAAQIECBCoUIElS5ZkXsdM3vJK/ufk9UwXgVIKJE+ZJoW/VVZZJTp16pT3OT2t5+9SmqexbwXAZshq8v8Qdtttt3j66aczo02aNCn69OlT1JGT/zYqefovee032RjefvvtzOawouvTAuDKgkheJ77tttuiW7dueceabDAru956661MoTG5Zs6cGd27d897jEq84c7J/44f/OX5bGgd27aKKT8eEu3b+EpYJeZLTAQIECBAgAABAgQIEEi7gAJg2jOc2/wUAHNzalKrESNGxGmnnZbpI3kK8M4772xSfw3dPG7cuOyXhb/+9a/HLbfcstIxkk/Xb7nllrHPPvvENttsE6uttlokXxCeOHFi/PrXv84U5ZIraZP8W/L3fK58nhxMUwFw3gcfxU4/eTg+9/MMcdO3+sbAXmvnw6ctAQIECBAgQIAAAQIECBAoioACYFEYq74TBcASpzD5Hb699947li5dmvlc/NSpUzP/WezruOOOi+uuuy7T7ciRI2Pfffdd6RBJsS/5bHhD18KFC+PQQw+NUaNGZf78/e9/P6644oq8Qq7VAmCCdMivJsSUN+ZnvYbv1iMuOGibvPw0JkCAAAECBAgQIECAAAECxRBQACyGYvX3oQBYwhy+8MIL0b9//3jvvfeiffv28dBDD2Wf0ivmsMkn6ddff/3ME3xdu3aNN954o8lfokq+brXxxhtH8vGS5DcGkv9s27ZtzmHX6ivACdA1Y16Jnz30Utaq++odYtwZg/P+nYacsTUkQIAAAQIECBAgQIAAAQIrEFAAtDQSAQXAEq2D6dOnR79+/SL5VHzyg53Ja7/JRzVKcd1+++1xxBFHZLo+/fTT47LLLivKMCeeeGL86le/yvQ1YcKE2H333YvSb9JJmjegf771fnzpF+PqWY36/oDote6Kf5OxaLA6IkCAAAECBAgQIECAAAECnxNI8/lbonMXUADM3SrnlknRL3nyL/kgR/Iq7I033hhHHnlkzvfn2/CAAw6IBx54IHNb8opx8pt+xbiuueaaOOmkkzJdJUXGww47rBjdZvpI8waUfJBlj0sejTcXLM56nbnfFvGdQZsUzU9HBAgQIECAAAECBAgQIEAgF4E0n79zmb82nwgoABZ5JcydOzcGDhwY06ZNy/R89dVXR/IkXamud955J/OV3uQ3Bnv37h2TJ08u2lDJ03+fxq4AmB/rOfdMjT8++Ub2pp03Wj3+ckLxnqDMLxqtCRAgQIAAAQIECBAgQKBWBRQAazXz9eetAFjEdZD8bt6ee+4ZU6ZMyfR6ySWXxJlnnlnEEb7Y1ZVXXpn5SEdyJf/zKaecUrTxkqf/kqcAk2v8+PGxxx57FK3vtG9AY158J46+8ZmsV8sWEZPPGRKrd8r9dxSLhq0jAgQIECBAgAABAgQIEKhZgbSfv2s2sXlOXAEwT7AVNV+0aFHss88+md/KS66zzz47Lr744iL1vuJukqf+nn322WjTpk3MmjUr1l577aKMmRQzN9lkk5g3b1507Ngx8xGQdu3aFaXvpJO0b0CLP14WO1w4KhZ/vDxrduURO8TBO3YrmqGOCBAgQIAAAQIECBAgQIBAYwJpP383Nn9//0RAAbAIK2HJkiVx4IEHxqhRozK9JU/hJU/j5XslvxV49NFHZ24777zz4vzzz19pF8lXhj/9vb9k/HvvvTenIUeOHJl5TblDhw4Ntv/ggw9i6NCh2fmcfPLJcdVVV+XUd66NamEDOvamZ+Lhf76TJTlw+67xy2E75kqkHQECBAgQIECAAAECBAgQaLJALZy/m4xUAx0oABYhyUmx7K677sr0lLwCnBT/ko9/rOhq27Zt9OrV6wt/zrcAeMYZZ8TPfvazTD933HFHpmiXyzVo0KDMx0IOOeSQzJeKkyf9OnfuHMlTf0888UT85je/iTfe+OT36zbffPPMv62xxhq5dJ1zm1rYgG596o046+6pWZNV27eOyT8eEm1atczZSUMCBAgQIECAAAECBAgQINAUgVo4fzfFp1buVQAsQqZXVuxrqPsePXrEjBkzmlQAXL58eWywwQaRfHF49dVXj9mzZ0dSWMzlSgqAY8eObbRp8pTgLbfckvnISLGvWtiAZi9YHLv+9JF6dH8+btfYdeM1i82pPwIECBAgQIAAAQIECBAg0KBALZy/pb5xAQXAxo0abVGOAuDo0aMzvzmYXCeccEL8+te/bjTOTxtMmjQpHnnkkZg4cWK89NJLkXy5eP78+Znf+uvatWvssssuMWzYsEz/+c4t1yBqZQP68lXj4oU338+yHDdg4zhr/y1zZdKOAAECBAgQIECAAAECBAg0SaBWzt9NQqqBmxUAayDJlTjFWtmArhj1Ulz16CvZFGy8dqd49AeDKjElYiJAgAABAgQIECBAgACBFArUyvk7hakr6pQUAIvKqbNcBWplA3p+5vw46JpPvgz96TXmtEHRc61OuVJpR4AAAQIECBAgQIAAAQIEChaolfN3wUA1cqMCYI0kutKmWSsb0PLlddH3/x6JuR98lE3Bjw/YKo7p17PSUiIeAgQIECBAgAABAgQIEEihQK2cv1OYuqJOSQGwqJw6y1WgljagM+54Pm6f9O8szR6brhm3HLtrrlTaESBAgAABAgQIECBAgACBggVq6fxdMFIN3KgAWANJrsQp1tIGNPIfs+OEP07OpqF1yxbx7LlDYpX2bSoxNWIiQIAAAQIECBAgQIAAgRQJ1NL5O0VpK/pUFACLTqrDXARqaQP64KOl0fvC0bFk2fIsza++0Tv233b9XKi0IUCAAAECBAgQIECAAAECBQvU0vm7YKQauFEBsAaSXIlTrLUN6JvXPxXj/jU3m4qhvbvHiMO3r8TUiIkAAQIECBAgQIAAAQIEUiRQa+fvFKWuqFNRACwqp85yFai1DejGCdPj/PumZXnW7NQ2nj5772jVskWuZNoRIECAAAECBAgQIECAAIG8BWrt/J03UI3coABYI4mutGnW2gb0xrxFMeBnY+ql4a7/3T16b7h6paVGPAQIECBAgAABAgQIECCQIoFaO3+nKHVFnYoCYFE5dZarQC1uQEOuGBv/eueDLNFJgzeN0/bdPFcy7QgQIECAAAECBAgQIECAQN4CtXj+zhupBm5QAKyBJFfiFGtxA/rp3/4Zvx37WjYdW66/avztlP6VmB4xESBAgAABAgQIECBAgEBKBGrx/J2S1BV1GgqAReXUWa4CtbgBPT393Tj8txPrET3xwz2ja5cOubJpR4AAAQIECBAgQIAAAQIE8hKoxfN3XkA10lgBsEYSXWnTrMUNaOmy5dHn4odjwX8+zqbj4oO3if/ZtUelpUc8BAgQIECAAAECBAgQIJASgVo8f6ckdUWdhgJgUTl1lqtArW5Ap/z52fjrc29mmfbcYp244aidc2XTjgABAgQIECBAgAABAgQI5CVQq+fvvJBqoLECYA0kuRKnWKsb0F+fmxWn/Pm5bEratW4Zz527T3Ro26oS0yQmAgQIECBAgAABAgQIEKhygVo9f1d52ooevgJg0Ul1mItArW5ACxZ9HL0vHh3Lltdlma4fvlPsteW6ubBpQ4AAAQIECBAgQIAAAQIE8hKo1fN3Xkg10FgBsAaSXIlTrOUN6IjfToynpr+bTcuwvhvGTw/ZthLTJCYCBAgQIECAAAECBAgQqHKBWj5/V3nqihq+AmBROXWWq0Atb0DXPv5q/N+DL2ap1l21XTz5o72iRYsWufJpR4AAAQIECBAgQIAAAQIEchKo5fN3TkA10kgBsEYSXWnTrOUN6JV3Poi9rxhbLyX3n9wvtum2WqWlSTwECBAgQIAAAQIECBAgUOUCtXz+rvLUFTV8BcCicuosV4Fa3oDq6upi0OWPxevzFmW5Th3SK76712a58mlHgAABAgQIECBAgAABAgRyEqjl83dOQDXSSAGwRhJdadOs9Q3ogvteiN9PmJFNy/YbdIm/nrhHpaVJPAQIECBAgAABAgQIECBQ5QK1fv6u8vQVLXwFwKJR6igfgVrfgMb/a278z/VP1SN75uy9Y+1V2uXDqC0BAgQIECBAgAABAgQIEFipQK2fvy2PTwQUAK2EsgjU+ga0ZOny2PHCUfHhkmVZ/8sO3S4O32mDsuTDoAQIECBAgAABAgQIECCQToFaP3+nM6v5z0oBMH8zdxRBwAYU8Z0/To6//WN2VnO/rdeL33yzTxF0dUGAAAECBAgQIECAAAECBD4RcP62EhIBBUDroCwCNqCIv0yaGaff8fesf6e2rWLKuUOiXetWZcmJQQkQIECAAAECBAgQIEAgfQLO3+nLaSEzUgAsRM09TRawAUXMWfhR9P2/h6Ou7jPOm4/pG/03W7vJvjogQIAAAQIECBAgQIAAAQKJgPO3dZAIKABaB2URsAF9wn7wNRPiuZnzszk4aveN4vyvbF2WnBiUAAECBAgQIECAAAECBNIn4PydvpwWMiMFwELU3NNkARvQJ4S/fORfMWL0y1nPDdboEI+fPjhatGjRZGMdECBAgAABAgQIECBAgAAB529rIBFQALQOyiJgA/qE/YU3F8SXrxpfLwcPnzogNl1nlbLkxaAECBAgQIAAAQIECBAgkC4B5+905bPQ2SgAFirnviYJ2IA+4aurq4vdfvpozH5/cdbzR1/aIo4fuEmTfN1MgAABAgQIECBAgAABAgQSAedv6yARUAC0DsoiYAP6jP2su6fGrU+9kf2Hvj3XiNuP360seTEoAQIECBAgQIAAAQIECKRLwPk7XfksdDYKgIXKua9JAjagz/ge+efbccxNk7L/0Kpli5h8zt7RpWPbJhm7mQABAgQIECBAgAABAgQIOH9bA4mAAqB1UBYBG9Bn7Is/XhY7XDgqFn+8PPuPv/jaDnHQDt3KkhuDEiBAgAABAgQIECBAgEB6BJy/05PLpsxEAbApeu4tWMAGVJ/umBufiUdefCf7j1/ZvmtcNWzHgn3dSIAAAQIECBAgQIAAAQIEEgHnb+sgEVAAtA7KImADqs9+y1Ovx9l3/yP7j6u2bx1TfjwkWrdqWZb8GJQAAQIECBAgQIAAAQIE0iHg/J2OPDZ1FgqATRV0f0ECNqD6bG8t+E/ma8Cfv247btfYZeM1C/J1EwECBAgQIECAAAECBAgQSAScv62DREAB0Dooi4AN6Ivs+/9iXEx76/3sH44fsHH8aP8ty5IfgxIgQIAAAQIECBAgQIBAOgScv9ORx6bOQgGwqYLuL0jABvRFthGjXopfPvpK9g+brtM5Hj51YEG+biJAgAABAgQIECBAgAABAomA87d1kAgoAFoHZRGwAX2R/dk33ouv/uqJen8Ye/qg6LFmp7LkyKAECBAgQIAAAQIECBAgUP0Czt/Vn8NizEABsBiK+shbwAb0RbLly+ti5588HPM+XJL943kHbhVH79Ezb183ECBAgAABAgQIECBAgACBRMD52zpIBBQArYOyCNiAGmY/7S/Pxx2T/539Y//N1oqbj9mlLDkyKAECBAgQIECAAAECBAhUv4Dzd/XnsBgzUAAshqI+8hawATVM9repb8V3bpmS/WObVi3i2XP3ic7tWudt7AYCBAgQIECAAAECBAgQIOD8bQ0kAgqA1kFZBGxADbMvXPxx9L5odHy8rC7b4Df/0zv222b9suTJoAQIECBAgAABAgQIECBQ3QLO39Wdv2JFrwBYLEn95CVgA1ox1//87qkY/8rcbIPD+nSPnx22fV6+GhMgQIAAAQIECBAgQIAAgUTA+ds6SAQUAK2DsgjYgFbMfsP46XHh/dOyDdbq3DaePmvvaNmyRVlyZVACBAgQIECAAAECBAgQqF4B5+/qzV0xI1cALKamvnIWsAGtmOr1eR/GwJ89Vq/BPSfuETts0CVnXw0JECBAgAABAgQIECBAgEAi4PxtHSQCCoDWQVkEbEArZ99rxGPx6pwPs42+u+emceo+m5clVwYlQIAAAQIECBAgQIAAgeoVcP6u3twVM3IFwGJq6itnARvQyql++uA/47ePv5ZttHXXVeOB7/bP2VdDAgQIECBAgAABAgQIECCQCDh/WweJgAKgdVAWARvQytmfem1eHHHtk/UaTfzRnrH+ah3Kki+DEiBAgAABAgQIECBAgEB1Cjh/V2feih21AmCxRfWXk4ANaOVMS5ctj94XjY73Fy/NNvzJV7eJb+zSIydfjQgQIECAAAECBAgQIECAQCLg/G0dJAIKgNZBWQRsQI2zf/dPz8a9z7+ZbbjXFuvE9Uft3PiNWhAgQIAAAQIECBAgQIAAgf8v4PxtKSgAWgNlE7ABNU7/1+dmxSl/fi7bsF3rlvHcuftEh7atGr9ZCwIECBAgQIAAAQIECBAg4AlAa+D/C3gC0FIoi4ACYOPs8xctybwGvLzus7Y3HLVT7LnFuo3frAUBAgQIECBAgAABAgQIEFAAtAYUAK2BcgooAOamf/hvJsbTM97NNv7GLhvGT766bW43a0WAAAECBAgQIECAAAECNS/g/F3zSyAD4AlA66AsAjag3Nh/M/bVuORvL2Ybr79a+3jih3tGixYtcutAKwIECBAgQIAAAQIECBCoaQHn75pOf3byCoDWQVkEbEC5sf/r7YUx5OeP12v84Hf7x1ZdV82tA60IECBAgAABAgQIECBAoKYFnL9rOv0KgNJfXgEbUG7+dXV1MeBnY2Lmu//J3nDaPr3ipD03y60DrQgQIECAAAECBAgQIECgpgWcv2s6/QqA0l9eARtQ7v7n3/tC3PjEjOwNO27YJe7+3z1y70BLAgQIECBAgAABAgQIEKhZAefvmk19vYl7Bdg6KIuADSh39sdfnhNH3vD0Z1X7FhHPnL13rNW5Xe6daEmAAAECBAgQIECAAAECNSng/F2Taf/CpBUArYOyCNiAcmf/aOmy2PHC0bFoybLsTZcftn0c2qd77p1oSYAAAQIECBAgQIAAAQI1KeD8XZNpVwCU9soQsAHll4fjb54UD73wdvam/bddL371jT75daI1AQIECBAgQIAAAQIECNScgPN3zaW8wQl7AtA6KIuADSg/9tufmRln3Pn37E2d27WOKT8eEm1bt8yvI60JECBAgAABAgQIECBAoKYEnL9rKt0rnKwCoHVQFgEbUH7s7yxcHH1/8ki9m245dpfYY9O18utIawIECBAgQIAAAQIECBCoKQHn75pKtwKgdFeWgA0o/3wcdM2EeH7m/OyN39qjZ5x74Fb5d+QOAgQIECBAgAABAgQIEKgZAefvmkn1SifqCUDroCwCNqD82a965F9xxeiXszf2WLNjPHbaoGjRokX+nbmDAAECBAgQIECAAAECBGpCwPm7JtLc6CQVABslyq3BpEmT4sEHH4zx48fHtGnTYs6cOdGmTZvo2rVr7LHHHnHMMcdEv379cutsJa3OP//8uOCCC3LqZ8yYMTFo0KCVtp07d25cddVVcc8998SMGTMybTfaaKM4+OCD45RTTok111wzp7HybWQDylcs4h+zFsQBvxxf78aHTx0Ym67TOf/O3EGAAAECBAgQIECAAAECNSHg/F0TaW50kgqAjRI13mDAgAExbty4RhseeeSRcd1110Xbtm0bbbuiBsUsAD711FOZQt/s2bMbHG799dfPFAb79u1bcLwrutEGlD9pXV1d7PrTR+Lt9z/K3nzW/lvEcQM2yb8zdxAgQIAAAQIECBAgQIBATQg4f9dEmhudpAJgo0SNN9h0003j1VdfzTztd9hhh0X//v1jww03jGXLlsXEiRNjxIgRMWvWrExHw4YNi1tvvbXxTlfQ4vMFwKlTp660n549e0anTp0abDNz5szo06dP5knF1q1bx6mnnhoHHHBApu39998fV1xxRSxdujTWWWedmDx5cnTv3r3gmBu60QZUGOeP7poaf3r6jezNu/RcI247frfCOnMXAQIECBAgQIAAAQIECKRewPk79SnOaYIKgDkxrbxRUjhLnu4bOnRotGrV6guNk9dsk9eAX375k99vGzt2bCRPDRZyfb4AmDwRVuiVxHvzzTdnbr/99tszhcvPX8m/HXHEEZl/Gj58eNx4442FDtXgfTagwjgfnvZ2HPuHSdmbW7VsEVPOGRKrdWxTWIfuIkCAAAECBAgQIECAAIFUCzh/pzq9OU9OATBnqqY1TJ6qO/DAAzOdnHzyyZnf3SvkKkYBMHnlt1u3brF8+fLYd999Y+TIkQ2Gst9++8VDDz0ULVu2zDzBuN566xUSsgJg0dQi/rNkWexw4aj4aOnybK9XDdsxvrJ91yKOoisCBAgQIECAAAECBAgQSIuAAmBaMtm0eSgANs0v57s//PDD6Nz5k4817L///vHAAw/kfO/nGxajAHjttdfG8ccfn+n2z3/+c/ZJv/8OKPlb8spycv32t7+N4447rqCYG7rJBlQ45dG/fzrGvDQn28HBO3SNK7+2Y+EdupMAAQIECBAgQIAAAQIEUivg/J3a1OY1MQXAvLgKb/zuu+9mv6ibPAl47733FtRZMQqAn3/996233lrhk33J35LfNUyu5J6bbrqpoJgVAIvGluno5idfjx/f849sp106tolJZ+8drVu1LO5AeiNAgAABAgQIECBAgACBqhdQAKz6FBZlAgqARWFsvJO77747DjnkkEzDM844Iy699NLGb2qgxecLgEOGDInnnnsu5s+fH126dImtttoqktd2k6f7Vl999RX2v9NOO2U+7LHaaqtl7l3ZlbR5//33Y+edd46nn366oJgVAIvGlulo1vz/xB6XPFqv07+csFvsvNEaxR1IbwQIECBAgAABAgQIECBQ9QIKgFWfwqJMQAGwKIwr7yT5rb3ddtstW0CbNGlS5gu8hVyfLwCu6P6kGJh8tOOggw5qsEnyW35vv/12bL311vGPf3z2JFlDjbfZZpt44YUXMk8JJk8E5nolG8zKrqSvvn37ZpokXyQu9leGc42zWtvtd+Xj8eLshdnwTxi4SfzwS1tU63TETYAAAQIECBAgQIAAAQIlElAALBFslXWrANgMCRsxYkScdtppmZGSpwDvvPPOgkdNCoB33XVXHHzwwZkCWvKK7scffxwvvfRS3HLLLTFq1KhM38nXiO+777740pe+9IWxOnXqFIsWLYpddtklnnzyyZXGkrRJnvxLfr9w4cLPCk6NTaBFixaNNcn+XQEwZ6psw5899GJcM+bV7P/ea93OMer7A/PvyB0ECBAgQIAAAQIECBAgkGoBBcBUpzfnySkA5kxVWMOxY8fG3nvvHUuXLo111lknpk6dmvnPQq9PX/dd0f3JxzpOOOGEzJ+T4uCrr74a7du3r9c8KQ4mTyX2798/Hn/88ZWGMmDAgBg3blymoJjMIddLATBXqcLaTX79vRj66yfq3TzujMGxwRodC+vQXQQIECBAgAABAgQIECCQSgEFwFSmNe9JKQDmTZb7Dcmrs0mR7b333ssU4R566KFICmqlvo499ti4/vrrM8P88Y9/jG984xv1hmyOJwC9AlzaLC9bXhc7/+ThePfDJdmBLvjK1jF8941KO7DeCRAgQIAAAQIECBAgQKCqBBQAqypdJQtWAbBEtNOnT49+/frFm2++mXl6Lnntd0W/yVfsEJ555pns7+t9+9vfjmuvvbbeEM3xG4CNzckG1JhQ438/9fbn4q4ps7INB/RaO/7wrU9+V9FFgAABAgQIECBAgAABAgQSAedv6yARUAAswTpIin7Jk3+vvfZaJK/CJh/kOPLII0swUsNdfvjhh5nf7Euu/fffPx544IF6DX0FuNlSUdKBHvj7W3HirVOyY7Rt1TKePXdIdGrXuqTj6pwAAQIECBAgQIAAAQIEqkdAAbB6clXKSBUAi6w7d+7cGDhwYEybNi3T89VXXx0nnnhikUdZeXfJBz6S13xXVABMipE333xz5u/J13iTJwIbupK/Jb8jmFzJPTfddFPR5mEDajrlDxTPZgAAIABJREFUwsUfx44Xjo6ly+uynf32m31i360bzmfTR9QDAQIECBAgQIAAAQIECFSbgPN3tWWsNPEqABbRdcGCBbHnnnvGlCmfPJV1ySWXxJlnnlnEEXLratKkSbHzzjtnGie/B3jdddfVuzF5Jfj444/P/Nuf//znOOKIIxrsOPnbsGHDMn9LPi5y3HHH5RZADq1sQDkg5dDkG797Mia8Mi/b8vCdusdlh26fw52aECBAgAABAgQIECBAgEAtCDh/10KWG5+jAmDjRjm1SJ6622effWLChAmZ9meffXZcfPHFOd1b7EbJ7/797ne/y3SbPOn3P//zP/WGmD17dnTr1i3zJeB99903Ro4c2WAI++23X+bDJS1btoxZs2at8EnBQuK3ARWi9sV7rh8/PS66/5OnTZNrrc7t4umz9oqWLVsUZwC9ECBAgAABAgQIECBAgEBVCzh/V3X6iha8AmARKJcsWRIHHnhgjBo1KtPbKaecEldeeWXePSe/FXj00Udn7jvvvPPi/PPPr9fH1KlTo0OHDrHpppuusO/PP92XvNr7yiuvZF8H/vxNn38N+C9/+Usceuih9fpM/u3www/P/Nvw4cMzv2NYzMsGVBzNGXM/jEGXP1avs7+euEdsv0GX4gygFwIECBAgQIAAAQIECBCoagHn76pOX9GCVwAsAuXQoUPjrrvuyvSUvAKcFP+Sj3+s6Grbtm306tXrC39urACY/D15pXfw4MHxpS99KbbddttYc801Y+nSpfHiiy/GLbfcki1CJl8evvvuuzOFyYaumTNnRp8+fWLOnDnRunXr+MEPfhAHHHBApun9998fI0aMyPS79tprZ15p7t69exGkPuvCBlQ8zj1HPBavzfkw2+F399osTh3yxfVVvBH1RIAAAQIECBAgQIAAAQLVIuD8XS2ZKm2cCoBF8F1Zsa+h7nv06BEzZswoqAD46ROCKws7KQpef/31cdBBB610dk899VQcfPDBkbwS3NCVPEF4zz33xC677FIEpfpd2ICKR/qTB6bFdeOmZzvcptuqcf/J/Ys3gJ4IECBAgAABAgQIECBAoGoFnL+rNnVFDVwBsAiczVUAfOeddzJP502cODGeffbZePvtt2PevHlRV1cXa6yxRmy//faR/G7fUUcdFauuumpOM0u+WvyLX/wiU+j7tCjZs2fPTPHwe9/7XuYJw1JcNqDiqU58dV4Mu+7Jeh0++aO9Yr3V2hdvED0RIECAAAECBAgQIECAQFUKOH9XZdqKHrQCYNFJdZiLgA0oF6Xc2ny8bHn0vmh0LFy8NHvDTw/ZNob13TC3DrQiQIAAAQIECBAgQIAAgdQKOH+nNrV5TUwBMC8ujYslYAMqluQn/Zx065S4/+9vZTvde8t143fDdyruIHojQIAAAQIECBAgQIAAgaoTcP6uupSVJGAFwJKw6rQxARtQY0L5/f3uZ/8d37/t+exNHdq0imfPHRLt27TKryOtCRAgQIAAAQIECBAgQCBVAs7fqUpnwZNRACyYzo1NEbABNUXvi/e+++GS2Oni0bG87rO//f7onWPw5usUdyC9ESBAgAABAgQIECBAgEBVCTh/V1W6ShasAmDJaHW8MgEbUPHXx6G/fiImvf5etuNv7tojLjp4m+IPpEcCBAgQIECAAAECBAgQqBoB5++qSVVJA1UALCmvzlckYAMq/tr41WOvxGUjX8p23K1Lhxh/5uDI9yvVxY9MjwQIECBAgAABAgQIECBQLgHn73LJV9a4CoCVlY+aicYGVPxUvzR7Yex75eP1Oh75vf6xxXqrFn8wPRIgQIAAAQIECBAgQIBAVQg4f1dFmkoepAJgyYkN0JCADaj466Kuri76XTomZs3/T7bz0/fdPE4cvGnxB9MjAQIECBAgQIAAAQIECFSFgPN3VaSp5EEqAJac2AAKgM23Bs776z/ipomvZwfs02P1uPM7uzdfAEYiQIAAAQIECBAgQIAAgYoSUACsqHSULRgFwLLR1/bANqDS5H/sy3Ni+A1PZztv0SJi8jlDYo1ObUszoF4JECBAgAABAgQIECBAoKIFnL8rOj3NFpwCYLNRG+jzAjag0qyHxR8vi94XjY5FS5ZlBxhx2PYxtE/30gyoVwIECBAgQIAAAQIECBCoaAHn74pOT7MFpwDYbNQGUgBsnjVw3B8mxahpb2cH+/K268c13+jdPIMbhQABAgQIECBAgAABAgQqSkABsKLSUbZgFADLRl/bA9uASpf/2555I868c2p2gFXatY7JPx4SbVu3LN2geiZAgAABAgQIECBAgACBihRw/q7ItDR7UAqAzU5uwETABlS6dfDO+4uj7/89Um+AW4/dJXbfdK3SDapnAgQIECBAgAABAgQIEKhIAefvikxLswelANjs5AZUACz9GvjK1ePj7/9ekB3omH4948cHbFX6gY1AgAABAgQIECBAgAABAhUloABYUekoWzAKgGWjr+2BbUClzf+VD78cVz78r+wgPdfqFGNOG1TaQfVOgAABAgQIECBAgAABAhUn4PxdcSkpS0AKgGVhN6gNqLRrYOq/F8SBV4+vN8ijPxgYG6/dubQD650AAQIECBAgQIAAAQIEKkrA+bui0lG2YBQAy0Zf2wPbgEqb/+XL62LXnz4S7yz8KDvQOV/eMo7tv3FpB9Y7AQIECBAgQIAAAQIECFSUgPN3RaWjbMEoAJaNvrYHtgGVPv8/vPPv8ednZmYH2m3jNeNPx+1a+oGNQIAAAQIECBAgQIAAAQIVI+D8XTGpKGsgCoBl5a/dwW1Apc/9qBdmx3E3T84O1Lpli5j84yGxWoc2pR/cCAQIECBAgAABAgQIECBQEQLO3xWRhrIHoQBY9hTUZgA2oNLn/cOPlsaOF42OJUuXZwe7+us7xgHbdS394EYgQIAAAQIECBAgQIAAgYoQcP6uiDSUPQgFwLKnoDYDsAE1T96H3/B0jH15TnawQ3bsFlccsUPzDG4UAgQIECBAgAABAgQIECi7gPN32VNQEQEoAFZEGmovCBtQ8+T8DxNnxLl/fSE72Ood28Skc4ZEq5YtmicAoxAgQIAAAQIECBAgQIBAWQWcv8vKXzGDKwBWTCpqKxAbUPPk+9/vLYp+l46pN9id39kt+vRYo3kCMAoBAgQIECBAgAABAgQIlFXA+bus/BUzuAJgxaSitgKxATVfvve78vF4cfbC7ID/O2iTOGO/LZovACMRIECAAAECBAgQIECAQNkEnL/LRl9RAysAVlQ6aicYG1Dz5fqykS/Grx57NTvgFuutEiO/N6D5AjASAQIECBAgQIAAAQIECJRNwPm7bPQVNbACYEWlo3aCsQE1X64nv/5uDP31xHoDjj9zcHRfvWPzBWEkAgQIECBAgAABAgQIECiLgPN3WdgrblAFwIpLSW0EZANqvjwvW14XO108Ot5b9HF20AsP2jqO3G2j5gvCSAQIECBAgAABAgQIECBQFgHn77KwV9ygCoAVl5LaCMgG1Lx5PvW25+KuZ2dlBx3Ya+246Vt9mzcIoxEgQIAAAQIECBAgQIBAsws4fzc7eUUOqABYkWlJf1A2oObN8f1/fzNOuvXZ7KBtW7WMZ88dEp3atW7eQIxGgAABAgQIECBAgAABAs0q4PzdrNwVO5gCYMWmJt2B2YCaN78L/vNx9LlodCxdXpcd+Npv9ol9tl6veQMxGgECBAgQIECAAAECBAg0q4Dzd7NyV+xgCoAVm5p0B2YDav78Drv2yZj42rzswF/beYO4ZOh2zR+IEQkQIECAAAECBAgQIECg2QScv5uNuqIHUgCs6PSkNzgbUPPn9nfjXouLH/hnduB1VmkXT/5or2jZskXzB2NEAgQIECBAgAABAgQIEGgWAefvZmGu+EEUACs+RekM0AbU/Hl9bc4HseeIsfUGvu+kfrFt99WaPxgjEiBAgAABAgQIECBAgECzCDh/NwtzxQ+iAFjxKUpngDag8uR18OWPxfS5H2YH/97em8X39u5VnmCMSoAAAQIECBAgQIAAAQIlF3D+LjlxVQygAFgVaUpfkDag8uT0ovunxfXjp2cH3677anHvSf3KE4xRCRAgQIAAAQIECBAgQKDkAs7fJSeuigEUAKsiTekL0gZUnpw+8crc+Prvnqo3+NNn7RXrrNq+PAEZlQABAgQIECBAgAABAgRKKuD8XVLequlcAbBqUpWuQG1A5cnnkqXLo89Fo2PhR0uzAVw6dNs4YucNyxOQUQkQIECAAAECBAgQIECgpALO3yXlrZrOFQCrJlXpCtQGVL58nnjLlHhg6lvZAPbZat249sidyheQkQkQIECAAAECBAgQIECgZALO3yWjraqOFQCrKl3pCdYGVL5c3jn53/GDvzyfDaBj21Yx5cdDon2bVuULysgECBAgQIAAAQIECBAgUBIB5++SsFZdpwqAVZeydARsAypfHt/9cEn0uXh01NV9FsNN3+obA3utXb6gjEyAAAECBAgQIECAAAECJRFw/i4Ja9V1qgBYdSlLR8A2oPLmceivn4jJr7+XDWL4bj3igoO2KW9QRidAgAABAgQIECBAgACBogs4fxedtCo7VACsyrRVf9A2oPLm8Joxr8TPHnopG0S3Lh1i/JmDo0WLFuUNzOgECBAgQIAAAQIECBAgUFQB5++iclZtZwqAVZu66g7cBlTe/L04+/3Y78px9YJ46HsDYvP1VilvYEYnQIAAAQIECBAgQIAAgaIKOH8XlbNqO1MArNrUVXfgNqDy5q+uri76XTomZs3/TzaQM/bbPP530KblDczoBAgQIECAAAECBAgQIFBUAefvonJWbWcKgFWbuuoO3AZU/vz9+J5/xM1Pvp4NZKceq8cd39m9/IGJgAABAgQIECBAgAABAgSKJuD8XTTKqu5IAbCq01e9wduAyp+7MS+9E0f//plsIC1bREw6Z0is0alt+YMTAQECBAgQIECAAAECBAgURcD5uyiMVd+JAmDVp7A6J2ADKn/eFn+8LHa8cHT85+Nl2WB+fsT28dUdu5c/OBEQIECAAAECBAgQIECAQFEEnL+Lwlj1nSgAVn0Kq3MCNqDKyNuxN02Kh//5djaYA7ZbP67+eu/KCE4UBAgQIECAAAECBAgQINBkAefvJhOmogMFwFSksfomYQOqjJz96ek34kd3Tc0Gs0r71jHlx0OiTauWlRGgKAgQIECAAAECBAgQIECgSQLO303iS83NCoCpSWV1TcQGVBn5mr1gcez600fqBfOnb+8au22yZmUEKAoCBAgQIECAAAECBAgQaJKA83eT+FJzswJgalJZXROxAVVOvg745bj4x6z3swF9u3/POPvLW1VOgCIhQIAAAQIECBAgQIAAgYIFnL8LpkvVjQqAqUpn9UzGBlQ5ubpi9Mtx1SP/yga08dqd4tEfDKqcAEVCgAABAgQIECBAgAABAgULOH8XTJeqGxUAU5XO6pmMDahycvX8zPlx0DUT6gU05rRB0XOtTpUTpEgIECBAgAABAgQIECBAoCAB5++C2FJ3kwJg6lJaHROyAVVOnpYvr4tdfvpIzFn4UTaoHx+wVRzTr2flBCkSAgQIECBAgAABAgQIEChIwPm7ILbU3aQAmLqUVseEbECVlacz7/h73DZpZjaoPTZdM245dtfKClI0BAgQIECAAAECBAgQIJC3gPN33mSpvEEBMJVprfxJ2YAqK0cPvTA7jr95cjao1i1bxLPnDolV2reprEBFQ4AAAQIECBAgQIAAAQJ5CTh/58WV2sYKgKlNbWVPzAZUWfn58KOlseOFo2PJsuXZwK75eu/48nbrV1agoiFAgAABAgQIECBAgACBvAScv/PiSm1jBcDUprayJ2YDqrz8HHnD0/H4y3OygR3Su1tccfgOlReoiAgQIECAAAECBAgQIEAgZwHn75ypUt1QATDV6a3cydmAKi83Nz0xI86794VsYGt0ahvPnL13tGrZovKCFREBAgQIECBAgAABAgQI5CTg/J0TU+obKQCmPsWVOUEbUOXlZea7i6L/ZWPqBXbnd3aPPj1Wr7xgRUSAAAECBAgQIECAAAECOQk4f+fElPpGCoCpT3FlTtAGVJl52efnY+Pltz/IBnfi4E3i9H23qMxgRUWAAAECBAgQIECAAAECjQo4fzdKVBMNFABrIs2VN0kbUOXlJInokr+9GL8Z+2o2uC3WWyVGfm9AZQYrKgIECBAgQIAAAQIECBBoVMD5u1GimmigAFgTaa68SdqAKi8nSUTPzHg3DvvNxHrBTfjhntGtS4fKDFhUBAgQIECAAAECBAgQILBSAedvCyQRUAC0DsoiYAMqC3ujgy5dtjx2+snDMX/Rx9m2Fx28TXxz1x6N3qsBAQIECBAgQIAAAQIECFSegPN35eWkHBEpAJZD3ZhhA6rcRfC9Pz8b9zz3ZjbAwZuvHb8/um/lBiwyAgQIECBAgAABAgQIEFihgPO3xZEIKAAWaR1MmjQpHnzwwRg/fnxMmzYt5syZE23atImuXbvGHnvsEcccc0z069evyaMtWLAg7r///nj44YdjypQpMWPGjFi0aFF06dIlttlmmzjggAMyYyX/+8qujTbaKF5//fVG4+nRo0dmjGJfNqBiixavv3uffzO++6dnsx22bd0ynjt3SHRs27p4g+iJAAECBAgQIECAAAECBJpFwPm7WZgrfhAFwCKkaMCAATFu3LhGezryyCPjuuuui7Zt2zbatqEGf/vb3+KrX/1qfPTRRyu9f7311otbb701Bg8evMJ2CoAFpaAmblqw6OPoffHoWLa8Ljvf3x25U+y91bo1MX+TJECAAAECBAgQIECAQJoEFADTlM3C56IAWLhd9s5NN900Xn311czTfocddlj0798/Ntxww1i2bFlMnDgxRowYEbNmzcq0HzZsWKY4V8j1xz/+Mb75zW9Gy5YtY8iQIbHffvvF9ttvn3naL/k/6FtuuSVuu+22TNcdO3aMCRMmxA477NDgUJ8WAA866KC4+OKLVxhOUqzs1atXIeGu9B4bUNFJi9rhEb+dGE9Nfzfb57C+G8ZPD9m2qGPojAABAgQIECBAgAABAgRKL+D8XXrjahhBAbAIWUpeu02e7hs6dGi0atXqCz3OnTs38xrwyy+/nPnb2LFjI3lqMN8rKe6NGTMmzjrrrEyBsaHrl7/8ZXz3u9/N/Cl5AvDRRx9tsN2nBcDhw4fHjTfemG8oTW5vA2oyYUk7uPbxV+P/HnwxO8a6q7aLJ3+0V7Ro0aKk4+qcAAECBAgQIECAAAECBIor4PxdXM9q7U0BsJkyl/xu34EHHpgZ7eSTT46rrrqqZCPvvPPOkfwmYfKk4Ntvvx1rrbXWF8ZSACwZfyo6fuWdD2LvK8bWm8v9J/eLbbqtlor5mQQBAgQIECBAgAABAgRqRUABsFYyvfJ5KgA20zr48MMPo3PnzpnR9t9//3jggQdKNvLpp58el19+eab/p59+OpKC4H9fCoAl409Fx3V1dTH48sdixrxF2fmcOqRXfHevzVIxP5MgQIAAAQIECBAgQIBArQgoANZKphUAKyLT7777bqy55pqZWJInAe+9996SxZW8Apy8CpxckydPjt69eysAlkw7vR1feN+0uGHC9OwEt9+gS/z1xD3SO2EzI0CAAAECBAgQIECAQAoFFABTmNQCpuQJwALQCrnl7rvvjkMOOSRz6xlnnBGXXnppId3kdE/yYZC///3v0aZNm0h+f3DVVVddYQGwZ8+emb8nHzFJPlqy7rrrRt++fTMfK0k+EFKq33yzAeWUyrI2mvDK3PjG756qF8PTZ+8V66zSvqxxGZwAAQIECBAgQIAAAQIEchdw/s7dKs0tFQCbIbvLly+P3XbbLfM6bnIlv8/Xp0+fkoycvFqcfJQkuZL/vO+++xoc59NXgFcWRPLhkuTDI926dcs71mSDWdn11ltvZQqNyTVz5szo3r173mO4obQCS5Yuj94XjY4PPlqaHeiyodvF4TtvUNqB9U6AAAECBAgQIECAAAECRRNQACwaZVV3pADYDOkbMWJEnHbaaZmRkqcA77zzzpKMmrxmnLzu+/rrr2e+RvzMM8/Ejjvu2OBYvXr1ii233DL22Wef2GabbWK11VaL+fPnx8SJE+PXv/51piiXXEmb5N+Sv+dz5fPkoAJgPrLN2/Z/b5kcD06dnR10363Xjd9+c6fmDcJoBAgQIECAAAECBAgQIFCwgAJgwXSpulEBsMTpHDt2bOy9996xdOnSWGeddWLq1KmZ/yz2lby+mzzxN3LkyEzX5513Xpx//vkrHCYp9nXp0qXBvy9cuDAOPfTQGDVqVObv3//+9+OKK67IK2QFwLy4KrbxHZP/Haf95flsfB3btopnzx0S7Vq3qtiYBUaAAAECBAgQIECAAAECnwkoAFoNiYACYAnXwQsvvBD9+/eP9957L9q3bx8PPfRQDBgwoCQjHn/88XHttddm+k4Kgffcc0/mKcBCrwULFsTGG28cyVOFnTp1yvxn27Ztc+7OK8A5U1V0w7kffBQ7/+ThqKv7LMw/fKtvDOi1dkXHLTgCBAgQIECAAAECBAgQ+ERAAdBKUAAs4RqYPn169OvXL958881MIS557Tf5qEYprh/96EdxySWXZLpOCo5JobFDhw5NHurEE0+MX/3qV5l+JkyYELvvvnuT+/y0AxtQ0ShL3tFXfzUhnn1jfnaco3bfKM7/ytYlH9cABAgQIECAAAECBAgQINB0AefvphumoQdPAJYgi0nRLynEvfbaa5mv6N54441x5JFHlmCkyHxN+Ic//GGm7+T3/8aMGdPgV38LGfyaa66Jk046KXPr7bffHocddlgh3TR4jw2oaJQl7+jqR/8Vl496OTvOBmt0iMdPH1yyL0SXfEIGIECAAAECBAgQIECAQA0JOH/XULJXMlUFwCKvg7lz58bAgQNj2rRpmZ6vvvrqSJ6kK8WVPJ33ad/Jxzoef/zxWGuttYo21Of7VwAsGmvVdTTtzfdj/6vG1Yt79PcHxGbrrlJ1cxEwAQIECBAgQIAAAQIEak1AAbDWMt7wfBUAi7gOkt/N23PPPWPKlCmZXpPXcs8888wijvBZVzfffHMMHz486urqMr/VN27cuOjatWtRx0qe/kueAkyu8ePHxx577FG0/m1ARaMseUfJGtv9kkfjrQWLs2P98EtbxAkDNyn52AYgQIAAAQIECBAgQIAAgaYJOH83zS8tdysAFimTixYtin322SfzW3nJdfbZZ8fFF19cpN7rd3PXXXfF4YcfHsmXf7t3754p/m200UZFHSspZm6yySYxb9686NixY+YjIO3atSvaGDagolE2S0dn3z01bnnqjexYfTdaI24/YbdmGdsgBAgQIECAAAECBAgQIFC4gPN34XZpulMBsAjZXLJkSRx44IExatSoTG+nnHJKXHnllXn3nPxW4NFHH52577zzzovzzz//C30kYyRjJWOus846mdd+N99887zGGjlyZOY15RV9KOSDDz6IoUOHZudz8sknx1VXXZXXGI01tgE1JlRZf3/0xbfjWzdOygbVskXElB8PiS4dc/8ydGXNSDQECBAgQIAAAQIECBCoDQHn79rIc2OzVABsTCiHvyfFsuSpvORKXgFOin/Jxz9WdLVt2zZ69er1hT83VgB88sknY6+99orkacM2bdpkPi6y3XbbrTTC5AnBLl261GszaNCgmDp1ahxyyCGZLxUnT/p17tw5kqf+nnjiifjNb34Tb7zxydNeSXEx+bc11lgjB4ncm9iAcreqhJaLP14WO1w4KhZ/vDwbzi++tkMctEO3SghPDAQIECBAgAABAgQIECCwAgHnb0sjEVAALMI6WFmxr6Hue/ToETNmzMi7AJg8EXjBBRfkFfHvf//7OOqoo75QABw7dmyj/SRPCd5yyy3RrVvxizw2oEb5K67BMTc+E4+8+E42rq9s3zWuGrZjxcUpIAIECBAgQIAAAQIECBD4TMD522pQACzSGqi2AuCkSZPikUceiYkTJ8ZLL70UyZeL58+fn/mtv+RDIrvssksMGzYs85uG+c4tV1IbUK5SldPu1qfeiLPunpoNaNX2rTOvAbdu1bJyghQJAQIECBAgQIAAgf/H3n1ASVFtCx/fE2HIOWcQiRJmBiSDRBEEFUQUAQUBRcWEXgyAGFDMERFREFEEs6JIznHIOSfJQWAYGCb1W1U+StoeZjpUd6V/rXXX+y5T55y9f7vuWevsr7sLAQQQcBPg/M0DQQOQZ8AwATYgw+j9XvjYuWS5cfRct/HfDrhRGlYq7PecDEQAAQQQQAABBBBAAAEEEAiuAOfv4PpaZXa+AmyVStksTjYgaxb0lvcXy5Yj57XgBzavJMM6VrdmMkSNAAIIIIAAAggggAACCDhAgPO3A4rsRYo0AL1A4hb9BdiA9DcNxYxvz9oh78/brS1VuWhumftky1AszRoIIIAAAggggAACCCCAAAJ+CHD+9gPNhkNoANqwqFZIiQ3IClXyjHH9obPS9aOlbn9Y8FRLqVAktzUTImoEEEAAAQQQQAABBBBAwOYCnL9tXmAv06MB6CUUt+krwAakr2eoZsvIcEmDV+fIqQsp2pLDO9WQ+5tWDFUIrIMAAggggAACCCCAAAIIIOCDAOdvH7BsfCsNQBsX18ypsQGZuTpZxzZ0+gaZvuYv7aamVYrIV/0bWjchIkcAAQQQQAABBBBAAAEEbCzA+dvGxfUhNRqAPmBxq34CbED6WYZ6ppmbj8qgr9Zqy0ZFhMnaF9pK3pxRoQ6F9RBAAAEEEEAAAQQQQAABBLIR4PzNI6II0ADkOTBEgA3IEHZdFr1wOU3qjZolqekubb6x99SXm2uX1GV+JkEAAQQQQAABBBBAAAEEENBPgPO3fpZWnokGoJWrZ+HY2YAsXDwRuXfCSlm865SWRLfYMvJm9zrWToroEUAsHgtGAAAgAElEQVQAAQQQQAABBBBAAAEbCnD+tmFR/UiJBqAfaAwJXIANKHBDI2f4Yuk+efHXrVoIhXNHy+rn2kh4eJiRYbE2AggggAACCCCAAAIIIIDAfwQ4f/NIKAI0AHkODBFgAzKEXbdFD5xOkhZvLHCb78eHGku9cgV1W4OJEEAAAQQQQAABBBBAAAEEAhfg/B24oR1moAFohypaMAc2IAsW7T8ht3l7oew+cUH710duqiJPtrve+omRAQIIIIAAAggggAACCCBgIwHO3zYqZgCp0AAMAI+h/guwAflvZ5aRo3/fJuMW7dXCqVEyn/w+pJlZwiMOBBBAAAEEEEAAAQQQQAABEeH8zWOgCNAA5DkwRIANyBB2XRddufe09Ph0hducy4fdJCXzx+i6DpMhgAACCCCAAAIIIIAAAgj4L8D52387O42kAWinalooFzYgCxXrGqGmpWdI7Mtz5NylVO2OV26rJfc0LG/95MgAAQQQQAABBBBAAAEEELCJAOdvmxQywDRoAAYIyHD/BNiA/HMz26ghU9fJz+uPaGG1rlZMJvSNN1uYxIMAAggggAACCCCAAAIIOFaA87djS++WOA1AngNDBNiADGHXfdGf1x+WIVPXa/PmiAyX9cPbSUx0hO5rMSECCCCAAAIIIIAAAggggIDvApy/fTez4wgagHasqgVyYgOyQJG8CPHsxRT1a8DpGS7t7s/7xslN1Yp7MZpbEEAAAQQQQAABBBBAAAEEgi3A+TvYwtaYnwagNepkuyjZgOxT0jvHLZdV+85oCd3dsJy8eltt+yRIJggggAACCCCAAAIIIICAhQU4f1u4eDqGTgNQR0ym8l6ADch7K7PfOW7hHhn9x3YtzBL5coryNuCwsDCzh058CCCAAAIIIIAAAggggIDtBTh/277EXiVIA9ArJm7SW4ANSG9R4+bbfSJR2ry9yC2AGY82lZql8hsXFCsjgAACCCCAAAIIIIAAAgioApy/eRAUARqAPAeGCLABGcIelEVdLpe0eGOBHDxzUZv/ybZV5ZHW1wVlPSZFAAEEEEAAAQQQQAABBBDwXoDzt/dWdr6TBqCdq2vi3NiATFwcP0Ib+csWmbhsvzaybtkC8tPgJn7MxBAEEEAAAQQQQAABBBBAAAE9BTh/66lp3bloAFq3dpaOnA3I0uXzCH7xrpNy74RV2r8rP/+36tk2UjRvDnslSjYIIIAAAggggAACCCCAgMUEOH9brGBBCpcGYJBgmTZrATYgez0hl9PSpf6o2ZKUkq4l9ka3G6R7XFl7JUo2CCCAAAIIIIAAAggggIDFBDh/W6xgQQqXBmCQYJmWBqDTnoFBk9fIzC3HtLRvrlVCxvaKdRoD+SKAAAIIIIAAAggggAACphKgAWiqchgWDA1Aw+idvTAbkP3qPy3hkDz93UYtsdzREbJueDuJjgy3X7JkhAACCCCAAAIIIIAAAghYRIDzt0UKFeQwaQAGGZjpMxdgA7Lfk3Ey8bLEvzLHLbGv+jWUptcVsV+yZIQAAggggAACCCCAAAIIWESA87dFChXkMGkABhmY6WkAOukZ6PLRUtlw6KyW8n1NKsiIzjWdRECuCCCAAAIIIIAAAggggICpBGgAmqochgVDA9AwemcvzAZkz/q/P3eXvD17p5ZcuUK5ZOHQlhKmvBaYCwEEEEAAAQQQQAABBBBAIOQCnL9DTm7KBWkAmrIs9g+KDcieNd58+Jx0+mCJW3JznmghVYrlsWfCZIUAAggggAACCCCAAAIImFyA87fJCxSi8GgAhgiaZdwF2IDs+US4XC5pNHqeHDufrCX4bMdqMqB5ZXsmTFYIIIAAAggggAACCCCAgMkFOH+bvEAhCo8GYIigWYYGoFOegWd/3CRfrzyopduwYiH5dmAjp6RPnggggAACCCCAAAIIIICAqQRoAJqqHIYFQwPQMHpnL8wGZN/6z912XPpNStASjAgPk7XPt5X8uaLsmzSZIYAAAggggAACCCCAAAImFeD8bdLChDgsGoAhBme5fwTYgOz7JFxKSZe6o2bJ5bQMLcn37qorXeqWtm/SZIYAAggggAACCCCAAAIImFSA87dJCxPisGgAhhic5WgAOuEZuH/iapm3/YSWape6peS9u+o5IXVyRAABBBBAAAEEEEAAAQRMJUAD0FTlMCwYGoCG0Tt7YTYge9f/qxUH5PmfNmtJ5o+JkjXPt5HIiHB7J052CCCAAAIIIIAAAggggIDJBDh/m6wgBoVDA9AgeKcvywZk7yfgyNlL0vi1eW5JThvYSBpULGTvxMkOAQQQQAABBBBAAAEEEDCZAOdvkxXEoHBoABoE7/Rl2YDs/wTc/N5i2Xb0vJbowBaVZNjN1e2fOBkigAACCCCAAAIIIIAAAiYS4PxtomIYGAoNQAPxnbw0G5D9q//mnzvkw/m7tUSvK5ZHZj/Rwv6JkyECCCCAAAIIIIAAAgggYCIBzt8mKoaBodAANBDfyUuzAdm/+msP/i23f7zMLdFFQ1tJucK57J88GSKAAAIIIIAAAggggAACJhHg/G2SQhgcBg1Agwvg1OXZgOxf+fQMlzR4ZY6cTkrRkh3ZuYb0bVLR/smTIQIIIIAAAggggAACCCBgEgHO3yYphMFh0AA0uABOXZ4NyBmVf3LaBvl+7V9ass2uKyKT+zV0RvJkiQACCCCAAAIIIIAAAgiYQIDztwmKYIIQaACaoAhODIENyBlV/33TUXloylot2eiIcFk7vK3kyRHpDACyRAABBBBAAAEEEEAAAQQMFuD8bXABTLI8DUCTFMJpYbABOaPiicmpUm/UbEnLcGkJf9IrVjrUKuEMALJEAAEEEEAAAQQQQAABBAwW4PxtcAFMsjwNQJMUwmlhsAE5p+L3fLZClu4+rSV8Z1wZGdOtjnMAyBQBBBBAAAEEEEAAAQQQMFCA87eB+CZamgagiYrhpFDYgJxT7c+X7JNRv23VEi6SJ4esera1hIeHOQeBTBFAAAEEEEAAAQQQQAABgwQ4fxsEb7JlaQCarCBOCYcNyCmVFjlwOklavLHALeGfBzeROmULOAeBTBFAAAEEEEAAAQQQQAABgwQ4fxsEb7JlaQCarCBOCYcNyCmV/ifP1m8tkD0nk7SkH219nTzRtqqzEMgWAQQQQAABBBBAAAEEEDBAgPO3AegmXJIGoAmL4oSQ2ICcUOV/c3z1923y6aK92j/UKp1PfnukmbMQyBYBBBBAAAEEEEAAAQQQMECA87cB6CZckgagCYvihJDYgJxQ5X9zXLH3tNz16Qq3pFcMay0l8ud0FgTZIoAAAggggAACCCCAAAIhFuD8HWJwky5HA9CkhbF7WGxAdq+we36p6RkS+9JsOZ+cpv3h1dtqy90NyzkLgmwRQAABBBBAAAEEEEAAgRALcP4OMbhJl6MBaNLC2D0sNiC7V9gzv0e+WSe/bjii/aFN9WLyWZ9450GQMQIIIIAAAggggAACCCAQQgHO3yHENvFSNABNXBw7h8YGZOfqZp7bT+sOy2Pfrtf+mDMqXNYPbyc5oyKch0HGCCCAAAIIIIAAAggggECIBDh/hwja5MvQADR5gewaHhuQXSt77bz+TkqR2JdnS4br33u+6BsvraoVcx4GGSOAAAIIIIAAAggggAACIRLg/B0iaJMvQwPQ5AWya3hsQHatbNZ5df9kmaze/7d2U68by8nLXWs7E4OsEUAAAQQQQAABBBBAAIEQCHD+DgGyBZagAWiBItkxRDYgO1Y1+5zGLtgjr8/crt1YKn9OWfq/myQsLCz7wdyBAAIIIIAAAggggAACCCDgswDnb5/JbDmABqAty2r+pNiAzF+jYES483iitHtnkdvUfwxpJtVL5gvGcsyJAAIIIIAAAggggAACCDhegPO34x8BFYAGIM+BIQJsQIawG76oy+WSZmPmy19/X9JiGdr+ehncqorhsREAAggggAACCCCAAAIIIGBHAc7fdqyq7znRAPTdjBE6CLAB6YBo0SlG/LxZJi0/oEVfv1wB+eGhJhbNhrARQAABBBBAAAEEEEAAAXMLcP42d31CFR0NwFBJs46bABuQcx+IhTtPSp/PV2kAys//JTzXRgrnyeFcFDJHAAEEEEAAAQQQQAABBIIkwPk7SLAWm5YGoMUKZpdw2YDsUknf80hOTZf6L82Wiynp2uC3uteRO2LL+D4ZIxBAAAEEEEAAAQQQQAABBLIU4PzNA6II0ADkOTBEgA3IEHbTLDpwcoL8ueW4Fs8ttUvKR/fUN018BIIAAggggAACCCCAAAII2EWA87ddKhlYHjQAA/NjtJ8CbEB+wtlk2LTVh+Tp7zdq2eTNESlrXmgr0ZHhNsmQNBBAAAEEEEAAAQQQQAABcwhw/jZHHYyOggag0RVw6PpsQA4t/P+nfSIxWRq8MtcN4ev+DaVxlSLOhiF7BBBAAAEEEEAAAQQQQEBnAc7fOoNadDoagDoVLiEhQX7//XdZsmSJbN26VU6ePClRUVFSqlQpadKkifTr10+aNm2q02r/TPPNN9/IF198IRs3bpSzZ89K8eLFpVmzZjJ48GBp1KiRV2tdvHhRPvzwQ5k+fbrs2bNHLl++LGXLlpVbbrlFHn30USlfvrxX8/h6ExuQr2L2u7/Lh0tkw1/ntMT6Na0oL3SqYb9EyQgBBBBAAAEEEEAAAQQQMFCA87eB+CZamgagDsVo3ry5LF68ONuZevfuLePHj5fo6Ohs783qhkuXLkm3bt3UhmNmV3h4uAwfPlxGjBiR5Tq7d++Wjh07yq5duzK9L1++fDJlyhTp1KlTQPFmNpgNSHdSy0343pxd8s6cnVrcFQrnkvlPtZQw5bXAXAgggAACCCCAAAIIIIAAAroIcP7WhdHyk9AA1KGEVapUUT89p3zar3v37uqn8MqVKyfp6emyfPlyeeutt+Tw4cPqSj179pSvv/46oFWVOaZOnarO0apVKxkyZIi69qZNm+TVV19VY1GucePGyYABAzJdKzExUeLi4mTnzn8aMA888IDcddddEhMTI/Pnz5fRo0fLhQsXJFeuXLJ06VKpW7duQDH/dzAbkK6clpxs8+Fz0umDJW6xz32yhVQumseS+RA0AggggAACCCCAAAIIIGBGAc7fZqxK6GOiAaiDufIJOeXTfXfccYdERER4zHjq1Cn1a8BXmm0LFy4U5VOD/lzz5s2T1q1bq0M7d+4sP/74o9uaylqxsbFy8OBBKVCggOzdu1cKFizosZTyCcGXXnpJ/fcxY8bI0KFD3e5ZtmyZtGjRQtLS0tT/u2DBAn/CveYYNiBdOS05mcvlkhtHz5Xj5y9r8T/Xsbo80LySJfMhaAQQQAABBBBAAAEEEEDAjAKcv81YldDHRAMwROa//fab2rBTrkceeUTef/99v1ZWvrL7xx9/SGRkpOzbt0/KlCnjMY/y6UDlU4LXau6lpqZK0aJF5dy5c1K9enXZvHmzKF8b/u81aNAg9VOEyrVq1SqJj4/3K+bMBrEB6UZp6YmG/bBRvll1SMvhxkqFZOoA736/0tKJEzwCCCCAAAIIIIAAAgggECIBzt8hgjb5MjQAQ1SgpKQkyZPnn682Kk28GTNm+Lyy8rXdIkWKSEpKinTo0EFtBGZ2KX9XGnznz59XXwaifJrv6mvWrFnSvn179Z9ee+01eeaZZzKdZ8WKFdrLRIYNG6Z+vViviw1IL0lrzzN763F54MsELYmI8DBZ+0JbyR8TZe3EiB4BBBBAAAEEEEAAAQQQMIkA52+TFMLgMGgAhqgAZ86ckcKFC6urKZ8E/OWXX3xe+eqv/yq/0fe///3vmnMoDT6l0ad8UlB506/yRuIr19Vf/1V+o/DGG2/MdB7l67/58+dXxytfWVa+uqzXxQakl6S157mYkiZ1R82WlLQMLZEPetaTznVKWTsxokcAAQQQQAABBBBAAAEETCLA+dskhTA4DBqAISqA8lt9t99+u7ra008/La+//rrPK3/44Yfq14eVS5mva9eu15xDeTHIla8Zb9myRWrUqKHdq7xB+Pvvv1f/+99//63+VuC1rjp16sjGjRvVTxSeOHHC55ivNYANSDdKy0/U94tVsmDHSS2P2+qVlnd66PvSGcsjkQACCCCAAAIIIIAAAggg4KcA528/4Ww2jAZgCAqakZGhfpVW+R095UpISFBf1OHrpXzi70rjcPXq1epbfK91vfnmm9qLPWbOnKl95Ve5X/nE38qVKyV37tzqm36zupQXnFz5unJycrLkyJHDq7CVDSar6+jRo9KgQQP1lkOHDmX6W4ZeLcRNlheYvHy/vPDzFi2PArmiZM3zbUX5OjAXAggggAACCCCAAAIIIIBAYAI0AAPzs8toGoAhqORbb70lTz31lLqS8inAK5++83XpwYMHy8cff6wO27Ztm1SrVu2aU4wdO1Yeeugh9e/fffed+obiK1fNmjVl69atUrx4cTl27FiWYfTo0UOmTZum3qO8YfjK15iziz0szPvmDQ3A7DTt/fe//r4oTV+f75bkd4MaSVyFQvZOnOwQQAABBBBAAAEEEEAAgRAI0AAMAbIFlqABGOQiKb+b16ZNG1F+T69YsWKyadMm9f/6c/Xr108+//xzdeiePXukUqVK15xGuU+5X7kmT54svXr10u6tXLmy7N27V8qWLSsHDx7MMpTevXur45XLl0YdDUB/KuzcMR3eXSTbjyVqAA+2rCzPdLh2g9u5UmSOAAIIIIAAAggggAACCPgmQAPQNy+73k0DMIiVVX57r1mzZurv7OXMmVP+/PNP9WUa/l5W+gQgXwH2t8rOHDdm5nb5eMEeLfnri+eVPx/3/38rzlQkawQQQAABBBBAAAEEEEDAU4AGIE+FIkADMEjPwb59+6Rp06Zy5MgRiYiIUL/226VLl4BWs9JvAGaXKBtQdkLO+vuaA2fkjrHL3ZJe/HQrKVsol7MgyBYBBBBAAAEEEEAAAQQQ0FmA87fOoBadjgZgEAqnNP2UT/4pX7NVvgo7ceJEUb5KG+jFW4ADFWS8WQXSM1wS/8ocOZOUooU4qktN6d2ogllDJi4EEEAAAQQQQAABBBBAwBICNAAtUaagB0kDUGdi5UUZLVq0UF+yoVxK00756q4e17x586R169bqVKNHjxblE4HXutq3by+zZs2SyMhIuXjxokRFRWm3Dh8+XF566SX1vy9fvlx9K3Bml/K7hQUKFJCkpCT1q8vK7xnqdbEB6SVpn3memLZeflh7WEuoRdWiMun+f94UzYUAAggggAACCCCAAAIIIOCfAOdv/9zsNooGoI4VPXfunNx0002ydu1addbXXntNnnnmGd1WSExMlCJFikhKSop06NBB/vjjj0znVv5etGhROX/+vDRq1EiWLVvmdp/SGFQahNnFuGLFCnW8cg0bNkxeffVV3XJhA9KN0jYTzdh4VAZ//c//dpQrOiJc1g1vK7lzRNomRxJBAAEEEEAAAQQQQAABBEItwPk71OLmXI8GoE51UT5l165dO1m6dKk643PPPScvv/yyTrP/O03Hjh3Vxp/yyT7ldwbLlCnjscbUqVOlZ8+e6r+PGTNGhg4d6naP0iBU3kSsNCyrV68uystKMntr76BBg2TcuHHq2FWrVkl8fLxu+bAB6UZpm4nOJ6dK/VGzJS3DpeX06b2x0q5mCdvkSCIIIIAAAggggAACCCCAQKgFOH+HWtyc69EA1KEuSkOtc+fO6ldulWvIkCHy7rvv+jyz8luB9913nzpuxIgRMnLkSI85rv4a8K233io//PCD+pKRK5fyFeTY2Fg5ePCg+vVd5XcICxYs6DHP1V8DzqxJqHw1WPnar/I1YOUrzQsWLPA5n6wGsAHpymmbye4ev0KW7Tmt5dMjrqy83u0G2+RHIggggAACCCCAAAIIIIBAqAU4f4da3Jzr0QDUoS533HGH2ohTLuUrwErzL7NP1F1ZKjo6WqpWreqxsjcNQGWQ8uk+5VN+ytWqVSt57LHHpFSpUrJp0yZ55ZVXZM+ePerflE/vDRgwINMMla8Tx8XFyc6dO9W/K/fdddddEhMTI/Pnz1e/7nvhwgX1vytfIa5bt64OUv9OwQakK6dtJvts8V55ecY2LZ+ieXPIymGtJTw8zDY5kggCCCCAAAIIIIAAAgggEEoBzt+h1DbvWjQAdahNVs2+zKYvX7687N+/3+8G4KVLl6Rbt27y+++/Zxp9eHi4vPDCC5l+gvDqAbt37xblK8W7du3KdJ58+fLJlClTpFOnTjoouU/BBqQ7qS0m3HcqSVq96f5p018ebiI3lClgi/xIAgEEEEAAAQQQQAABBBAItQDn71CLm3M9GoA61CXUDcArIX/99deifGpww4YNcvbsWSlevLg0a9ZMHn74Ye3lHdmlp7zh96OPPpLp06eL0hBUvs5ctmxZtTGofJVZaVYG42IDCoaqPea86c0FsvdUkpbMkNbXyeNtPT8xa49syQIBBBBAAAEEEEAAAQQQCK4A5+/g+lpldhqAVqmUzeJkA7JZQXVM5+XftspnS/ZpM9YunV9+faSpjiswFQIIIIAAAggggAACCCDgHAHO386pdVaZ0gDkOTBEgA3IEHZLLLpszym5e/xKt1hXPttaiufLaYn4CRIBBBBAAAEEEEAAAQQQMJMA528zVcO4WGgAGmfv6JXZgBxd/iyTT03PkPqjZkvi5TTtvtdury13NSgHGgIIIIAAAggggAACCCCAgI8CnL99BLPp7TQAbVpYs6fFBmT2Chkb3+Cv18qMjUe1INrWKC7je8cZGxSrI4AAAggggAACCCCAAAIWFOD8bcGiBSFkGoBBQGXK7AXYgLI3cvIdP6z9S56YtkEjiImKkHXD20rOqAgns5A7AggggAACCCCAAAIIIOCzAOdvn8lsOYAGoC3Lav6k2IDMXyMjIzyTlCKxL88Wl+vfKCbeFy8try9mZFisjQACCCCAAAIIIIAAAghYToDzt+VKFpSAaQAGhZVJsxNgA8pOiL/fMXaZrDnwtwbRu1F5GdWlFjAIIIAAAggggAACCCCAAAI+CHD+9gHLxrfSALRxcc2cGhuQmatjjtg+XrBbxszcoQVTukCMLHmmlYSFhZkjQKJAAAEEEEAAAQQQQAABBCwgwPnbAkUKQYg0AEOAzBKeAmxAPBXZCew4lijt313kdtufjzWX60vkzW4of0cAAQQQQAABBBBAAAEEEPh/Ac7fPAqKAA1AngNDBNiADGG31KIul0uavj5fDp+9pMX9dIfr5aGWVSyVB8EigAACCCCAAAIIIIAAAkYKcP42Ut88a9MANE8tHBUJG5Cjyu13ssN/3ixfLj+gjY8rX1C+e7Cx3/MxEAEEEEAAAQQQQAABBBBwmgDnb6dVPPN8aQDyHBgiwAZkCLvlFl2w44T0/WK1Fnd4mEjC822lUO5oy+VCwAgggAACCCCAAAIIIICAEQKcv41QN9+aNADNVxNHRMQG5IgyB5xkcmq61Bs1Wy6lpmtzvX1nHbm9fpmA52YCBBBAAAEEEEAAAQQQQMAJApy/nVDl7HOkAZi9EXcEQYANKAioNp3ygS8TZPbW41p2t9xQUj66u75NsyUtBBBAAAEEEEAAAQQQQEBfAc7f+npadTYagFatnMXjZgOyeAFDGP7UVQflfz9s0lbMmyNS1g5vK1ER4SGMgqUQQAABBBBAAAEEEEAAAWsKcP62Zt30jpoGoN6izOeVABuQV0zcJCLHzydLw1fnull8/UBDaVy5CD4IIIAAAggggAACCCCAAALZCHD+5hFRBGgA8hwYIsAGZAi7ZRft/MES2XT4nBZ//6YV5flONSybD4EjgAACCCCAAAIIIIAAAqES4PwdKmlzr0MD0Nz1sW10bEC2LW1QEntn9k55b+4ube5KRXLLvKdaBmUtJkUAAQQQQAABBBBAAAEE7CTA+dtO1fQ/FxqA/tsxMgABNqAA8Bw4dONfZ+XWD5e6ZT7vyRZSqWgeB2qQMgIIIIAAAggggAACCCDgvQDnb++t7HwnDUA7V9fEubEBmbg4JgwtI8MlDUfPlZOJl7Xonr+luvRvVsmE0RISAggggAACCCCAAAIIIGAeAc7f5qmFkZHQADRS38FrswE5uPh+pv7Mdxvl24RD2ujGlQvL1w/c6OdsDEMAAQQQQAABBBBAAAEEnCHA+dsZdc4uSxqA2Qnx96AIsAEFhdXWk/655ZgMnLxGyzEyPEzWDm8r+XJG2TpvkkMAAQQQQAABBBBAAAEEAhHg/B2Inn3G0gC0Ty0tlQkbkKXKZYpgky6nSb1RsyUlPUOL56O768stN5Q0RXwEgQACCCCAAAIIIIAAAgiYUYDztxmrEvqYaACG3pwVRYQNiMfAH4E+n6+ShTtPakNvr19a3r6zrj9TMQYBBBBAAAEEEEAAAQQQcIQA529HlDnbJGkAZkvEDcEQYAMKhqr95/xy+X4Z/vMWLdFCuaNl9XNtJCI8zP7JkyECCCCAAAIIIIAAAggg4IcA528/0Gw4hAagDYtqhZTYgKxQJfPFeOjMRWk2Zr5bYN8/2Fhiyxc0X7BEhAACCCCAAAIIIIAAAgiYQIDztwmKYIIQaACaoAhODIENyIlV1yfn9u8skh3HE7XJBreqLEPbV9NncmZBAAEEEEAAAQQQQAABBGwmwPnbZgX1Mx0agH7CMSwwATagwPycPPr1mdtl7II9GkG1Enll5mPNnUxC7ggggAACCCCAAAIIIIDANQU4f/NwKAI0AHkODBFgAzKE3RaLJuw/I90+We6Wy5JnWkmZgrlskR9JIIAAAggggAACCCCAAAJ6CnD+1lPTunPRALRu7SwdORuQpctnaPDpGS6JfXm2nL2YqsXxUpeacm+jCobGxeIIIIAAAggggAACCCCAgBkFOH+bsSqhj4kGYOjNWVFE2IB4DAIRePzb9fLjusPaFC2vLyoT72sQyJSMRQABBDAa5rIAACAASURBVBBAAAEEEEAAAQRsKcD525Zl9TkpGoA+kzFADwE2ID0UnTvHrxuOyCPfrNMAoiPDZf3wtpIrOtK5KGSOAAIIIIAAAggggAACCGQiwPmbx0IRoAHIc2CIABuQIey2WfTcpVSp/9JsUb4OfOUa3ztO2tYobpscSQQBBBBAAAEEEEAAAQQQ0EOA87ceitafgwag9WtoyQzYgCxZNlMFfdeny2XF3jNaTD0blJXRt99gqhgJBgEEEEAAAQQQQAABBBAwWoDzt9EVMMf6NADNUQfHRcEG5LiS657w+EV75ZXft2nzFsubQ1Y+21rCwsJ0X4sJEUAAAQQQQAABBBBAAAGrCnD+tmrl9I2bBqC+nszmpQAbkJdQ3HZNgT0nL0jrtxa6/f23R5pKrdL5UUMAAQQQQAABBBBAAAEEEPh/Ac7fPAqKAA1AngNDBNiADGG31aIul0tavblA9p++qOX1eJuqMqTNdbbKk2QQQAABBBBAAAEEEEAAgUAEOH8HomefsTQA7VNLS2XCBmSpcpk22FG/bpXPl+7T4qtTJr/8/HBT08ZLYAgggAACCCCAAAIIIIBAqAU4f4da3Jzr0QA0Z11sHxUbkO1LHJIEl+0+JXd/ttJtrVXPtZZieXOGZH0WQQABBBBAAAEEEEAAAQTMLsD52+wVCk18NABD48wq/xFgA+KR0EMgJS1DYl+aLYmX07Tpxtxxg9wZX1aP6ZkDAQQQQAABBBBAAAEEELC8AOdvy5dQlwRoAOrCyCS+CrAB+SrG/dcSGDxlrczYdFT7c/uaxWXcvXGAIYAAAggggAACCCCAAAIIiAjnbx4DRYAGIM+BIQJsQIaw23LR79f8JU9O36Dllis6QtYNbys5IiNsmS9JIYAAAggggAACCCCAAAK+CHD+9kXLvvfSALRvbU2dGRuQqctjqeBOX7gsca/MEZfr37C/vL+BNK9a1FJ5ECwCCCCAAAIIIIAAAgggEAwBzt/BULXenDQArVczW0TMBmSLMpomids/XiprD57V4unbuIKMvLWmaeIjEAQQQAABBBBAAAEEEEDAKAHO30bJm2tdGoDmqodjomEDckypQ5LoR/N3yxt/7tDWKlMwRhY/3UrCwsJCsj6LIIAAAggggAACCCCAAAJmFeD8bdbKhDYuGoCh9Wa1/xdgA+JR0FNg29HzcvN7i92mnPV4c6laPK+eyzAXAggggAACCCCAAAIIIGA5Ac7flitZUAKmARgUVibNToANKDsh/u6LgMvlkiavzZMj55K1Yc90qCYPtqzsyzTciwACCCCAAAIIIIAAAgjYToDzt+1K6ldCNAD9YmNQoAJsQIEKMv6/As//tEm+WnFQ++f4CgVl+qDGQCGAAAIIIIAAAggggAACjhbg/O3o8mvJ0wDkOTBEgA3IEHZbLzp/+wm5b+JqLcfwMJE1z7eVgrmjbZ03ySGAAAIIIIAAAggggAACWQlw/ub5UARoAPIcGCLABmQIu60XTU5Nl7qjZklyaoaW57s96krXeqVtnTfJIYAAAggggAACCCCAAAI0AHkGshOgAZidEH8PigANwKCwOn7S/pNWy5xtJzSHznVKyQc96zneBQAEEEAAAQQQQAABBBBwrgDnb+fW/urMaQDyHBgiwAZkCLvtF/165UF59sdNWp75ckbKmhfaSlREuO1zJ0EEEEAAAQQQQAABBBBAIDMBzt88F4oADUCeA0ME2IAMYbf9osfOJcuNo+e65Tl1wI1yY6XCts+dBBFAAAEEEEAAAQQQQAABGoA8A9cSoAHIs2GIAA1AQ9gdsegt7y+WLUfOa7kOaF5Jnu1Y3RG5kyQCCCCAAAIIIIAAAggg8F8Bzt88E4oADUCeA0ME2IAMYXfEom/P3invz92l5Vq5aG6Z+2RLR+ROkggggAACCCCAAAIIIIAADUCegcwEaADyXBgiQAPQEHZHLLrh0Fnp8tFSt1wXPNVSKhTJ7Yj8SRIBBBBAAAEEEEAAAQQQuFqA8zfPgyJAA5DnwBABNiBD2B2xaEaGSxq8OldOXbis5Tu8Uw25v2lFR+RPkggggAACCCCAAAIIIIAADUCegf8K0ADkmTBEgAagIeyOWfTp7zbItIS/tHybVikiX/Vv6Jj8SRQBBBBAAAEEEEAAAQQQuCLA+ZtnQRGgAchzYIgAG5Ah7I5ZdObmYzLoqzVavlERYbL2hbaSN2eUYwxIFAEEEEAAAQQQQAABBBBQBDh/8xzQAOQZMEyADcgwekcsfOFymtQfNVtS0jO0fMfeU19url3SEfmTJAIIIIAAAggggAACCCBwRYDzN88CDUCeAcME2IAMo3fMwvdOWCmLd53S8r2jfhl56846jsmfRBFAAAEEEEAAAQQQQAABRYDzN88BDUCeAcME2IAMo3fMwhOX7pORv27V8i2cO1pWPddGIsLDHGNAoggggAACCCCAAAIIIIAA52+eARqAPAOGCbABGUbvmIUPnr4ozd+Y75bvDw81lvrlCjrGgEQRQAABBBBAAAEEEEAAAc7fPAM0AHkGDBNgAzKM3lELt317oew6cUHL+eFWVeSp9tc7yoBkEUAAAQQQQAABBBBAwNkCnL+dXf8r2fMWYJ4DQwTYgAxhd9yio//YJuMW7tXyrl4yn/wxpJnjHEgYAQQQQAABBBBAAAEEnCvA+du5tb86cxqAOj0HJ06ckFWrVqn/Wb16tfqf06dPq7P36dNHJk6cGPBKCxYskFatWvk0T4sWLUQZ99+rQoUKcuDAgWznKl++vOzfvz/b+3y9gQ3IVzHu90dg1b4zcue45W5Dl/3vJilVIMaf6RiDAAIIIIAAAggggAACCFhOgPO35UoWlIBpAOrEGhZ27RcLGNkAHDBggIwbN44GoE51ZhprCaSlZ0jsy3Pk3KVULfCXu9aSXjeWt1YiRIsAAggggAACCCCAAAII+ClAA9BPOJsNowGoU0GvbgCWK1dOqlWrJrNmzVJn16sBmJSUJPv27cs24ocfflgWLlyo3rd06VJp3LjxNRuAXbp0kZdffvmac0ZHR0vVqlWzXdPXG9iAfBXjfn8FhkxdJz+vP6INv6laMfm8b7y/0zEOAQQQQAABBBBAAAEEELCUAOdvS5UraMHSANSJdsSIERIfH6/+p3jx4urXZitWrKhrA9CbUM+ePSslSpSQy5cvS5UqVWTXrl2ZDrvyFWC9mpPexHb1PWxAvopxv78CP68/LEOmrteG54gMl/XD20lMdIS/UzIOAQQQQAABBBBAAAEEELCMAOdvy5QqqIHSAAwSr1ENQOXrvoMGDVKzevHFF2X48OE0AINUY6a1hsC5i6lS/+XZkp7h0gKe0CdOWlcvbo0EiBIBBBBAAAEEEEAAAQQQCECABmAAeDYaSgMwSMU0qgHYpEkTWbZsmShfSd67d68on/TL7OITgEEqPNOaUqDHuOWyct8ZLba7G5aTV2+rbcpYCQoBBBBAAAEEEEAAAQQQ0FOABqCemtadiwZgkGpnRANwz5496td+lat58+ba7wDSAAxSkZnWMgKfLtojr/6+XYu3RL6csnzYTWqjnAsBBBBAAAEEEEAAAQQQsLMADUA7V9f73GgAem/l051GNACV3yEcNWqUGueECRPk/vvvv2bMVz4BqPxOYb58+URpHqanp6u/X9igQQPp2bOnKC8ICVaDhA3Ip8eJmwMU2H3igrR5+58X41y5ZjzaVGqWyh/gzAxHAAEEEEAAAQQQQAABBMwtwPnb3PUJVXQ0AIMkHeoGoMvlUj/9p3ztNyYmRo4fPy558+bNtgGYVfrK14m//fZbKV26tM9KygaT1XX06FG10ahchw4dkjJlyvi8BgMQ8FZA+d9HyzcXyIHTF7UhT7atKo+0vs7bKbgPAQQQQAABBBBAAAEEELCkAA1AS5ZN96BpAOpO+s+EoW4ALl68WP3ar3LdfffdMmXKlCwzq1q1qlSvXl3atWsntWrVkvz584vyBuHly5fL2LFj1aaccin3KP+m/N2Xy5dPDtIA9EWWe/0VePHXLfLF0v3a8LplC8hPg5v4Ox3jEEAAAQQQQAABBBBAAAFLCNAAtESZgh4kDcAgEYe6AThgwAAZP368ms3MmTOlffv2WWamNPsKFCiQ6T2JiYnSrVs3mTVrlvr3xx9/XN5++22fpGgA+sTFzSEQWLLrlPSasFJbSfn5v1XPtpGieXOEYHWWQAABBBBAAAEEEEAAAQSMEaABaIy72ValARikioSyAZicnCwlS5ZUP8FXqlQpOXjwoERERASU2blz56RSpUpy5swZyZ07t/p/o6OjvZ6TrwB7TcWNIRJIScuQeqNmSVJKurbimG43yJ1xZUMUAcsggAACCCCAAAIIIIAAAqEXoAEYenMzrkgDMEhVCWUDcNq0adKjRw81k6FDh8qYMWN0yWrw4MHy8ccfq3MtXbpUGjdurMu8yiRsQLpRMpEPAg9+tUb+2HxMG9GhZgn55N5YH2bgVgQQQAABBBBAAAEEEEDAWgKcv61Vr2BFSwMwSLKhbAB26tRJZsyYoWayadMm9Tf99Lg++ugjefjhh9WplCZj9+7d9ZhWnYMNSDdKJvJBYHrCIRn63UZtRO7oCFk7vK3kiAzsE7M+hMCtCCCAAAIIIIAAAggggEBIBTh/h5TbtIvRAAxSaULVADxx4oT6lt60tDSpX7++rFmzRreMlE//KZ8CpAGoGykTGSxwMvGyNHh1jrhc/wYyuV8DaXZdUYMjY3kEEEAAAQQQQAABBBBAIDgCNACD42q1WWkABqlioWoAvvvuu+pLOpRL+X8PGTJEt4yUT/8pnwJUriVLlkiTJvq9MZUNSLcyMZGPAl0/WirrD53VRvVtXEFG3lrTx1m4HQEEEEAAAQQQQAABBBCwhgDnb2vUKdhR0gAMknCoGoDKp/7WrVsnUVFRcvjwYSlaVJ9PMikvAalcubKcPn1acuXKpb4EJEcO/d6WygYUpAePabMV+GDuLnlr9k7tvrKFYmTR0Fbiy5urs12EGxBAAAEEEEAAAQQQQAABkwhw/jZJIQwOgwZgkArgTwNw4sSJct9996kRjRgxQkaOHJlldFu2bNF+769z587yyy+/eJXNzJkzpUWLFhITE5Pp/RcuXJA77rhDZs2apf79kUcekffff9+rub29iQ3IWynu01tgy5Fzcsv7S9ymnfNEc6lSLK/eSzEfAggggAACCCCAAAIIIGC4AOdvw0tgigBoAOpUBuUrsrt379ZmO3XqlPpGXuVSvjrbv39/t5X69u3rsbKvDcCnn35a3njjDXWe7777Tm3aeXO1bNlSfVnI7bffLk2bNlU/6ZcnTx5RPvW3bNky+eSTT+TgwYPqVNdff736b4UKFfJmaq/vYQPymoobdRZwuVzSaPQ8OXY+WZt52M3VZGCLyjqvxHQIIIAAAggggAACCCCAgPECnL+Nr4EZIqABqFMVlIbepEmTvJ5NaUL89/KlAZiRkSFly5aVI0eOSMGCBeXYsWMSHR3t1fpKA3DhwoXZ3qt8SnDKlCnqS0b0vtiA9BZlPl8Env1xk3y98p8mt3I1qFhIpg1s5MsU3IsAAggggAACCCCAAAIIWEKA87clyhT0IGkA6kQc6gbg7NmzpV27dmr0gwYNkrFjx3qdSUJCgsydO1eWL18uO3bsEOXTimfPnlV/669UqVLSsGFD6dmzpzp/sH4XjQ3I63JxYxAE5m0/LvdPTNBmjggPkzXPt5ECubxrogchJKZEAAEEEEAAAQQQQAABBIIiwPk7KKyWm5QGoOVKZo+A2YDsUUerZpGcmi51R82S5NQMLYX37qorXerq/2lXqxoRNwIIIIAAAggggAACCNhDgPO3PeoYaBY0AAMVZLxfAmxAfrExSEeBfhNXy9ztJ7QZu9QtJe/dVU/HFZgKAQQQQAABBBBAAAEEEDBegPO38TUwQwQ0AM1QBQfGwAbkwKKbLOUpKw/Icz9u1qLKHxOlfg04MiLcZJESDgIIIIAAAggggAACCCDgvwDnb//t7DSSBqCdqmmhXNiALFQsm4Z69Nwl9W3AV1/Ki0CUF4JwIYAAAggggAACCCCAAAJ2EeD8bZdKBpYHDcDA/BjtpwAbkJ9wDNNVoON7i2Xr0fPanANbVJJhN1fXdQ0mQwABBBBAAAEEEEAAAQSMFOD8baS+edamAWieWjgqEjYgR5XbtMm+NWuHfDBvtxbfdcXyyOwnWpg2XgJDAAEEEEAAAQQQQAABBHwV4Pztq5g976cBaM+6mj4rNiDTl8gRAa47+Lfc9vEyt1wXDW0l5QrnckT+JIkAAggggAACCCCAAAL2F+D8bf8ae5MhDUBvlLhHdwE2IN1JmdAPgYwMl8S/MkdOJ6Voo0d0riH3Nanox2wMQQABBBBAAAEEEEAAAQTMJ8D523w1MSIiGoBGqLOmsAHxEJhF4KnpG+S7NX9p4TS7rohM7tfQLOERBwIIIIAAAggggAACCCAQkADn74D4bDOYBqBtSmmtRNiArFUvO0f7x6aj8uCUtVqKURFhsm54O8mTI9LOaZMbAggggAACCCCAAAIIOESA87dDCp1NmjQAeQ4MEWADMoSdRTMRSExOlfovzZbUdJf210961ZcOtUrihQACCCCAAAIIIIAAAghYXoDzt+VLqEsCNAB1YWQSXwXYgHwV4/5gCvT6bKUs2X1KW6J7bBl5o3udYC7J3AgggAACCCCAAAIIIIBASAQ4f4eE2fSL0AA0fYnsGSAbkD3ratWsPl+yT0b9tlULv0ieaFn1bBsJDw+zakrEjQACCCCAAAIIIIAAAgioApy/eRAUARqAPAeGCLABGcLOotcQOHA6SVq8scDtrz8NbiJ1yxbADAEEEEAAAQQQQAABBBCwtADnb0uXT7fgaQDqRslEvgiwAfmixb2hEGj91gLZczJJW+rRm6rIE+2uD8XSrIEAAggggAACCCCAAAIIBE2A83fQaC01MQ1AS5XLPsGyAdmnlnbJZPTv22Tcor1aOjVL5ZMZjzazS3rkgQACCCCAAAIIIIAAAg4V4Pzt0ML/J20agDwHhgiwARnCzqJZCKzce1p6fLrC7Y4Vw1pLifw5cUMAAQQQQAABBBBAAAEELCvA+duypdM1cBqAunIymbcCbEDeSnFfqATS0jOk/kuz5Xxymrbkq7fVlrsblgtVCKyDAAIIIIAAAggggAACCOguwPlbd1JLTkgD0JJls37QbEDWr6EdM3j0m3Xyy4YjWmptqheTz/rE2zFVckIAAQQQQAABBBBAAAGHCHD+dkihs0mTBiDPgSECbECGsLNoNgI/rz8sQ6au1+7KGRUu64e3k5xREdghgAACCCCAAAIIIIAAApYU4PxtybLpHjQNQN1JmdAbATYgb5S4J9QCZy+mqF8DznD9u/IXfeOlVbVioQ6F9RBAAAEEEEAAAQQQQAABXQQ4f+vCaPlJaABavoTWTIANyJp1c0LUd36yXFbtP6Ol2uvGcvJy19pOSJ0cEUAAAQQQQAABBBBAwIYCnL9tWFQ/UqIB6AcaQwIXYAMK3JAZgiPwycI98tof27XJS+XPKUv/d5OEhYUFZ0FmRQABBBBAAAEEEEAAAQSCKMD5O4i4FpqaBqCFimWnUNmA7FRNe+Wy63iitH1nkVtSvz/aTGqUymevRMkGAQQQQAABBBBAAAEEHCHA+dsRZc42SRqA2RJxQzAE2ICCocqcegi4XC5p/sZ8OXTmkjbdU+2qysM3XafH9MyBAAIIIIAAAggggAACCIRUgPN3SLlNuxgNQNOWxt6BsQHZu75Wz27kL1tk4rL9Whr1yhWQHx9qYvW0iB8BBBBAAAEEEEAAAQQcKMD524FFzyRlGoA8B4YIsAEZws6iXgos2nlSen++Srtb+fm/1c+1kSJ5cng5A7chgAACCCCAAAIIIIAAAuYQ4PxtjjoYHQUNQKMr4ND12YAcWniLpH05LV3qjZotF1PStYjf7F5HusWWsUgGhIkAAggggAACCCCAAAII/CPA+ZsnQRGgAchzYIgAG5Ah7Czqg8DAyQny55bj2oiOtUvIx/fE+jADtyKAAAIIIIAAAggggAACxgtw/ja+BmaIgAagGargwBjYgBxYdIulPG31IXn6+41a1HlyRMraF9pKdGS4xTIhXAQQQAABBBBAAAEEEHCyAOdvJ1f/39xpAPIcGCLABmQIO4v6IHAiMVkavDLXbcSU/g2lSZUiPszCrQgggAACCCCAAAIIIICAsQKcv431N8vqNADNUgmHxcEG5LCCWzTdLh8tlQ2HzmrR39+kogzvXMOi2RA2AggggAACCCCAAAIIOFGA87cTq+6ZMw1AngNDBNiADGFnUR8F3p+7S96evVMbVb5wLlnwVEsJU14LzIUAAggggAACCCCAAAIIWECA87cFihSCEGkAhgCZJTwF2IB4KqwgsPnwOen0wRK3UOc+2UIqF81jhfCJEQEEEEAAAQQQQAABBBDgLcA8A6oADUAeBEMEaAAaws6iPgq4XC65cfRcOX7+sjbyuY7V5YHmlXycidsRQAABBBBAAAEEEEAAAWMEOH8b4262VWkAmq0iDomHDcghhbZBmsN+2CTfrDqoZXJjpUIydUAjG2RGCggggAACCCCAAAIIIOAEAc7fTqhy9jnSAMzeiDuCIMAGFARUpgyKwJytx6X/lwna3BHhYbL2hbaSPyYqKOsxKQIIIIAAAggggAACCCCgpwDnbz01rTsXDUDr1s7SkbMBWbp8jgr+Ukq61B01Sy6nZWh5v9+zntxap5SjHEgWAQQQQAABBBBAAAEErCnA+duaddM7ahqAeosyn1cCbEBeMXGTSQTu+2KVzN9xUouma91S8u5d9UwSHWEggAACCCCAAAIIIIAAAtcW4PzN06EI0ADkOTBEgA3IEHYW9VNg8ooD8sJPm7XRBXJFScJzbSQyItzPGRmGAAIIIIAAAggggAACCIRGgPN3aJzNvgoNQLNXyKbxsQHZtLA2Tevw2UvS5LV5btlNH9RI4isUsmnGpIUAAggggAACCCCAAAJ2EeD8bZdKBpYHDcDA/BjtpwAbkJ9wDDNMoMO7i2T7sURt/UEtKsv/bq5mWDwsjAACCCCAAAIIIIAAAgh4I8D52xsl+99DA9D+NTZlhmxApiwLQWUh8Maf2+Wj+Xu0OwrnjpaJ9zWQ2mXy44YAAggggAACCCCAAAIImFaA87dpSxPSwGgAhpSbxa4IsAHxLFhNYM2Bv+WOscvcwo6JipB3etSRDrVKWi0d4kUAAQQQQAABBBBAAAGHCHD+dkihs0mTBiDPgSECbECGsLNoAAIul0vu+WylLNtz2mOWpztcLw+2qCxhYWEBrMBQBBBAAAEEEEAAAQQQQEB/Ac7f+ptacUYagFasmg1iZgOyQREdmMLfSSny4JQ1smLvGY/s76hfRl69vZbkiIxwoAwpI4AAAggggAACCCCAgFkFOH+btTKhjYsGYGi9We3/BdiAeBSsKpCSliHP/7RJpiX85ZFCgwqF5JN7Y6VQ7mirpkfcCCCAAAIIIIAAAgggYDMBzt82K6if6dAA9BOOYYEJsAEF5sdoYwWUrwOPX7xXRv+xXVwu91jKFcoln/eNkyrF8hobJKsjgAACCCCAAAIIIIAAAiLC+ZvHQBGgAchzYIgAG5Ah7Cyqs8DsrcdlyNR1cjEl3W3mvDkj5eN76kuz64rqvCLTIYAAAggggAACCCCAAAK+CXD+9s3LrnfTALRrZU2eFxuQyQtEeF4LbDlyTvpPSpCj55LdxkSEh8nIW2vKvTeW93oubkQAAQQQQAABBBBAAAEE9Bbg/K23qDXnowFozbpZPmo2IMuXkASuEjhxPlke+DJBNvx1zsOlb+MK8vwt1SUyIhwzBBBAAAEEEEAAAQQQQCDkApy/Q05uygVpAJqyLPYPig3I/jV2WoaXUtLlqekbZMamox6pt7y+qHzQs57kzRnlNBbyRQABBBBAAAEEEEAAAYMFOH8bXACTLE8D0CSFcFoYbEBOq7gz8s3IcMk7c3bKB/N2eyRctXgemdAnXsoWyuUMDLJEAAEEEEAAAQQQQAABUwhw/jZFGQwPggag4SVwZgBsQM6su1Oy/nHdX/LMd5skJT3DLeXCuaPl096xElu+kFMoyBMBBBBAAAEEEEAAAQQMFuD8bXABTLI8DUCTFMJpYbABOa3izss3Yf8ZGTh5jZxOSnFLPjoiXMZ0u0G61ivtPBQyRgABBBBAAAEEEEAAgZALcP4OObkpF6QBaMqy2D8oNiD715gMRQ6duSj3T1wtu05c8OB49KYq8libqhIeHgYVAggggAACCCCAAAIIIBA0Ac7fQaO11MQ0AC1VLvsEywZkn1qSSdYC55NT5ZGv18nCnSc9bryldkl5s3sdiYmOgBEBBBBAAAEEEEAAAQQQCIoA5++gsFpuUhqAliuZPQJmA7JHHcnCO4G09Ax5ecY2mbhsv8eAOmXyy/jecVIsX07vJuMuBBBAAAEEEEAAAQQQQMAHAc7fPmDZ+FYagDYurplTYwMyc3WILVgCk5fvl5G/bpX0DJfbEiXz55TP+sRJzVL5g7U08yKAAAIIIIAAAggggIBDBTh/O7Tw/0mbBiDPgSECbECGsLOoCQQW7Twpg6eslcTLaW7R5IqOkPfuqidtaxQ3QZSEgAACCCCAAAIIIIAAAnYR4Pxtl0oGlgcNwMD8GO2nABuQn3AMs4XAruOJ0m9Sghw8c9Etn7AwkWE3V5MHmlWSMOW/cCGAAAIIIIAAAggggAACAQpw/g4Q0CbDaQDapJBWS4MNyGoVI169Bc4kpcjAyQmyev/fHlP3iCsrL3WtJdGR4Xovy3wIIIAAAggggAACCCDgMAHO3w4r+DXSpQHIc2CIABuQIewsajKBy2npMuyHTfLD2sMekd1YqZB80itWCuSKNlnUhIMAAggggAACCCCAAAJWEuD8VLgqAwAAIABJREFUbaVqBS9WGoDBs2XmLATYgHg8EPhHwOVyydiFe2TMzB0eJBWL5JYJfeKkUtE8cCGAAAIIIIAAAggggAACfglw/vaLzXaDaADarqTWSIgNyBp1IsrQCczcfFQe+3a9JKdmuC2aPyZKxt5TXxpXKRK6YFgJAQQQQAABBBBAAAEEbCPA+ds2pQwoERqAAfH9O/jEiROyatUq9T+rV69W/3P69Gn1hj59+sjEiRN1WWnkyJHy4osvejXX/PnzpWXLllnee+rUKXn//fflp59+kv3796v3VqhQQbp27SpDhgyRwoULe7WWrzexAfkqxv1OENj01znp/+VqOX7+slu6keFh6m8C9mxQzgkM5IgAAggggAACCCCAAAI6CnD+1hHTwlPRANSpeFm9sdOsDcCVK1eqjb5jx45lqlCyZEm1MdigQQOdlP6dhg1Id1ImtInAsXPJahNw8+HzHhn1b1pRhnWsLhHhvCHYJuUmDQQQQAABBBBAAAEEgi7A+TvoxJZYgAagTmW6ugFYrlw5qVatmsyaNUudPVgNwE2bNmUZfcWKFSV37tyZ3nPo0CGJjY2VkydPSmRkpDzxxBPSqVMn9d7ffvtN3n77bUlLS5NixYrJmjVrpEyZMjpJ/TMNG5CunExmM4GLKWny+Lfr5c8txz0ya12tmLzXs57kyRFps6xJBwEEEEAAAQQQQAABBIIhwPk7GKrWm5MGoE41GzFihMTHx6v/KV68uPp1WqUBF8wGoPLyAH+v3r17y+TJk9Xh06ZNk+7du7tNpfxbjx49dI//yiJsQP5WjnFOEcjIcMkbs3bI2AV7PFKuViKvTOgbL6ULxDiFgzwRQAABBBBAAAEEEEDATwHO337C2WwYDcAgFdTMDUDlK7+lS5eWjIwMad++vcycOTNThQ4dOsiff/4p4eHhcvjwYSlRooRuWmxAulEykc0Fpicckmd/3CSp6e4N/yJ5csj43rFSr1xBmwuQHgIIIIAAAggggAACCAQiwPk7ED37jKUBGKRamrkB+Omnn8rAgQPVzKdOnap90u+/FMrfevbsqf7zuHHjZMCAAbppsQHpRslEDhBYufe0DPxqjZy9mOqWbY7IcHmzex3pXKeUAxRIEQEEEEAAAQQQQAABBPwR4Pztj5r9xtAADFJNzdwAvPrrv0ePHr3mJ/uUv5Uq9U9jQRkzadIk3bTYgHSjZCKHCBw4nST3T1wte04meWT8eJuq8mjrKpLVy4gcwkSaCCCAAAIIIIAAAggg8B8Bzt88EooADcAgPQehaAC2bdtW1q9fL2fPnpUCBQpIjRo1RPnarvLpvoIFr/21wLi4OPXFHvnz51fHZnUp95w/f179bcNVq1bppsUGpBslEzlI4NylVHn467WyeNcpj6xvrVNKxnS7QXJGRThIhFQRQAABBBBAAAEEEEAgOwHO39kJOePvNACDVOdQNACvFbrSDJw4caJ06dIl01uU3/I7fvy41KxZUzZv3pylQK1atWTLli3qpwSVTwR6eykbTFaXMleDBg3UW5Q3Euv9lmFv4+Q+BKwmkJqeISN/2SJTVh70CL1+uQIy7t44KZo3h9XSIl4EEEAAAQQQQAABBBAIkgANwCDBWmxaGoBBKlgwG4A//PCDdO3aVW2gKV/RTU1NlR07dsiUKVNk1qxZakYRERHy66+/ys033+yRYe7cueXixYvSsGFDWbFiRZYCyj3KJ//y5MkjiYmJXmv58lVEGoBes3IjAqqA8gbwicv2y0u/bZWM/7wMXHkz8IS+cVKtRD60EEAAAQQQQAABBBBAAAGhAchDoAjQAAzScxCsBuCVr/teK2zlZR2DBg1S/6w0B/fs2SM5c+Z0u11pDipvAG7WrJksWrQoS4HmzZvL4sWL1YZiWlqa11o0AL2m4kYE/BaYv+OEPPL1Orlw2f1/m7mjI+TDu+tLq2rF/J6bgQgggAACCCCAAAIIIGAPARqA9qhjoFnQAAxU8Brjg9UA9Cbc/v37y4QJE9Rbv/rqK7nnnnvchoXiE4B8BdibSnEPAoEL7DiWqL4c5PDZS26ThYeJPH9LDbmvSQVeDhI4MzMggAACCCCAAAIIIGBZARqAli2droHTANSV89/JjGwArl69Wvt9vQceeEA+/fRTtyxD8RuA2bGyAWUnxN8R8F7g1IXLMuDLBFl70POlPvc0LCcjb60pURHh3k/InQgggAACCCCAAAIIIGAbAc7ftillQInQAAyI79qDjWwAJiUlqb/Zp1wdO3aUGTNmuAXKW4CDVHSmRcBAgeTUdHnm+43y8/ojHlE0rVJEPrqnvuSPiTIwQpZGAAEEEEAAAQQQQAABIwRoABqhbr41aQAGqSZGNgCVF3woX/O9VgOwd+/eMnnyZPXvytt4lU8EZnYpf1N+R1C5lDGTJk3STYsNSDdKJkJAE1BeDvLBvN3y9uydHiqVi+aWCX3ipUKRf/YGLgQQQAABBBBAAAEEEHCGAOdvZ9Q5uyxpAGYn5OffjWwAJiQkSHx8vBq58nuA48ePd8tC+UrwwIED1X+bOnWq9OjRI9Mslb/17NlT/ZvycpEBAwb4qeE5jA1IN0omQsBD4LeNR+TJaRvkclqG298K5IqST3rFyo2VCqOGAAIIIIAAAggggAACDhHg/O2QQmeTJg3AID0HRjYAld/9++yzz9TMlE/69erVyy3LY8eOSenSpdU3Abdv315mzpyZqUKHDh3kzz//lPDwcDl8+PA1PynoDyEbkD9qjEHAe4H1h85K/0kJovw+4NVXVESYvHJbbbkzrqz3k3EnAggggAACCCCAAAIIWFaA87dlS6dr4DQAdeX8dzJ/GoATJ06U++67T51kxIgRMnLkSLfoNm3aJDExMVKlSpVrRn31p/uUr/bu3r1b+zrw1YOu/hrw9OnTpVu3bm5zKv925513qv/Wp08fUWLT82ID0lOTuRDIXEB5M3C/iatl+7FEjxsGtagsT7e/XsKV1wVzIYAAAggggAACCCCAgG0FOH/btrQ+JUYD0Ceua9+8ZMkStdl25Tp16pQMHTpU/a9NmjRRv4p79dW3b1+PybJrACp/V+Zp1aqV3HzzzVK7dm0pXLiwpKWlyfbt22XKlCkya9Ysdd6IiAj58ccfpXPnzpkGfejQIYmNjZWTJ09KZGSkPPnkk9KpUyf13t9++03eeustdd6iRYvK2rVrpUyZMjpJ/TMNG5CunEyGwDUFLlxOk8emrpM520543NOuRnF59666kis6EkEEEEAAAQQQQAABBBCwqQDnb5sW1se0aAD6CHat25WGni8vyVB+rP+/lzcNwCufEMwqbKUpOGHCBOnSpUuW2a1cuVK6du0qyleCM7uUTxD+9NNP0rBhQ52U/p2GDUh3UiZE4JoC6Rkuee2PbTJ+8T6Pe2qWyief9YmTkvljEEQAAQQQQAABBBBAAAEbCnD+tmFR/UiJBqAfaJkNCUUD8MSJE+qn85YvXy7r1q2T48ePy+nTp0VpJhYqVEjq1Kkjyu/2KbHky5fPq8yUTyq+9957aqNP+dqyclWsWFFtHj722GPqJwyDcbEBBUOVORHIWmDqqoPy/E+bJS3D/f8DoljeHGoT8IYyBSBEAAEEEEAAAQQQQAABmwlw/rZZQf1Mhwagn3AMC0yADSgwP0Yj4K/Asj2n5MGv1sq5S6luU+SMCpd37qwrN9cu6e/UjEMAAQQQQAABBBBAAAETCnD+NmFRDAiJBqAB6CzJbwDyDCBgpMDekxek36QE2XcqySOMoe2vl4daVpawMF4OYmSNWBsBBBBAAAEEEEAAAb0EaADqJWnteWgAWrt+lo2eDciypSNwmwicvZiifhJw+d7THhndXr+0jL69tuSIjLBJtqSBAAIIIIAAAggggIBzBTh/O7f2V2dOA5DnwBABNiBD2FkUATeBlLQMGf7zZpm6+pCHTHyFgvJJr1gpnCcHaggggAACCCCAAAIIIGBhAc7fFi6ejqHTANQRk6m8F2AD8t6KOxEIpoDyEqEJS/bJK79vk/++nLxsoRj5vE+8XFc8bzBDYG4EEEAAAQQQQAABBBAIogDn7yDiWmhqGoAWKpadQmUDslM1ycUOAnO2HpdHp66TiynpbunkzREpH95TX1pULWqHNMkBAQQQQAABBBBAAAHHCXD+dlzJM02YBiDPgSECbECGsLMoAlkKbD1yXvpPWi1HziW73RcRHiYjOteQ3o0qIIgAAggggAACCCCAAAIWE+D8bbGCBSlcGoBBgmXarAXYgHhCEDCnwInEZHngyzWy4dBZjwD7NCovL3SqIZER4eYMnqgQQAABBBBAAAEEEEDAQ4DzNw+FIkADkOfAEAE2IEPYWRQBrwSSU9PlyekbZMbGox73N69aVD68u57kyxnl1VzchAACCCCAAAIIIIAAAsYKcP421t8sq9MANEslHBYHG5DDCk66lhPIyHDJu3N3yftzd3nEfl2xPPJ533gpWyiX5fIiYAQQQAABBBBAAAEEnCbA+dtpFc88XxqAPAeGCLABGcLOogj4LPDTusPy9PcbJSUtw21sodzR8um9sRJXoZDPczIAAQQQQAABBBBAAAEEQifA+Tt01mZeiQagmatj49jYgGxcXFKzncCaA2dkwJdr5HRSiltu0RHh8nq32nJbvTK2y5mEEEAAAQQQQAABBBCwiwDnb7tUMrA8aAAG5sdoPwXYgPyEYxgCBgkcOnNR+k1aLTuPX/CI4OFWVeSJtlUlPDzMoOhYFgEEEEAAAQQQQAABBK4lwPmbZ0MRoAHIc2CIABuQIewsikBAAonJqfLIN+tkwY6THvN0rF1C3upeV2KiIwJag8EIIIAAAggggAACCCCgrwDnb309rTobDUCrVs7icbMBWbyAhO9YgbT0DHnl923yxdL9HgY3lMkvn/WOk2L5cjrWh8QRQAABBBBAAAEEEDCbAOdvs1XEmHhoABrj7vhV2YAc/wgAYHGBySsOyMhftkh6hsstk5L5c8r43nFSq3R+i2dI+AgggAACCCCAAAII2EOA87c96hhoFjQAAxVkvF8CbEB+sTEIAVMJLN51Uh6aslYSk9Pc4oqJipD37qor7WqWMFW8BIMAAggggAACCCCAgBMFOH87seqeOdMA5DkwRIANyBB2FkVAd4HdJy7I/RNXy8EzF93mDgsT+V+HajKgeSUJU/4LFwIIIIAAAggggAACCBgiwPnbEHbTLUoD0HQlcUZAbEDOqDNZOkPgTFKKDJq8RlbtP+OR8J1xZeTlrrUlOjLcGRhkiQACCCCAAAIIIICAyQQ4f5usIAaFQwPQIHinL8sG5PQngPztJnA5LV2e+3GzfLfmL4/UGlYsJJ/0ipWCuaPtljb5IIAAAggggAACCCBgegHO36YvUUgCpAEYEmYW+a8AGxDPBAL2E3C5XPLJwr3y+sztHslVKJxLJvSNl8pF89gvcTJCAAEEEEAAAQQQQMDEApy/TVycEIZGAzCE2Cz1rwAbEE8DAvYVmLn5mDz+7Xq5lJrulmS+nJEytlesNKlSxL7JkxkCCCCAAAIIIIAAAiYT4PxtsoIYFA4NQIPgnb4sG5DTnwDyt7vA5sPnpN+k1XL8/GW3VCPCw+SlLrXk7obl7E5AfggggAACCCCAAAIImEKA87cpymB4EDQADS+BMwNgA3Jm3cnaWQLHziVL/y9Xy+bD5z0S79e0ojzbsbooDUEuBBBAAAEEEEAAAQQQCJ4A5+/g2VppZhqAVqqWjWJlA7JRMUkFgSwELqakyRPfbpCZW4553HVTtWLyfs96kidHJIYIIIAAAggggAACCCAQJAHO30GCtdi0NAAtVjC7hMsGZJdKkgcC2QtkZLjkzVk75OMFezxurlYir3zWJ07KFMyV/UTcgQACCCCAAAIIIIAAAj4LcP72mcyWA2gA2rKs5k+KDcj8NSJCBPQW+H7NX/K/HzZKarrLbeoieaLl095xUr9cQb2XZD4EEEAAAQQQQAABBBwvwPnb8Y+ACkADkOfAEAE2IEPYWRQBwwVW7TsjAycnyN8XU91iiY4Mlze715Fb65QyPEYCQAABBBBAAAEEEEDATgKcv+1UTf9zoQHovx0jAxBgAwoAj6EIWFzgwOkk6TcpQXafuOCRyWNtrpMhra+TsDBeDmLxMhM+AggggAACCCCAgEkEOH+bpBAGh0ED0OACOHV5NiCnVp68EfhH4NylVHn467WyeNcpDxLlU4Bjut0gOaMi4EIAAQQQQAABBBBAAIEABTh/Bwhok+E0AG1SSKulwQZktYoRLwL6C6SlZ8iLv26VySsOeExet2wB+bR3rBTLm1P/hZkRAQQQQAABBBBAAAEHCXD+dlCxs0iVBiDPgSECbECGsLMoAqYUmLRsv7z46xbJcH83iJQuEKO+Ibh6yXymjJugEEAAAQQQQAABBBCwggDnbytUKfgx0gAMvjErZCLABsRjgQACVwss2HFCHv56nVy4nOYGkzs6Qj64u57cVK04YAgggAACCCCAAAIIIOCHAOdvP9BsOIQGoA2LaoWU2ICsUCViRCC0AjuOJUq/Savlr78vuS0cHibybMfq0q9pRV4OEtqSsBoCCCCAAAIIIICADQQ4f9ugiDqkQANQB0Sm8F2ADch3M0Yg4ASBUxcuy8DJa2TNgb890u3ZoJyM6lJToiLCnUBBjggggAACCCCAAAII6CLA+VsXRstPQgPQ8iW0ZgJsQNasG1EjEAqB5NR0GfbDJvlx3WGP5ZpUKSwf3x0r+XNFhSIU1kAAAQQQQAABBBBAwPICnL8tX0JdEqABqAsjk/gqwAbkqxj3I+AsAZfLJR/O2y1vzd7pkXilIrllQt94qVgkt7NQyBYBBBBAAAEEEEAAAT8EOH/7gWbDITQAbVhUK6TEBmSFKhEjAsYLzNh4VJ6Ytl4up2W4BZM/Jko+6RUrjSoXNj5IIkAAAQQQQAABBBBAwMQCnL9NXJwQhkYDMITYLPWvABsQTwMCCHgrsOHQWen/ZYKcTLzsNiQyPExeva223Blf1tupuA8BBBBAAAEEEEAAAccJcP52XMkzTZgGIM+BIQJsQIawsygClhU4cvaS9JuUINuOnvfIYWDzSvJ0h2oSobwumAsBBBBAAAEEEEAAAQTcBDh/80AoAjQAeQ4MEWADMoSdRRGwtEDS5TQZMnW9zNl23COPtjWKy7s96kruHJGWzpHgEUAAAQQQQAABBBDQW4Dzt96i1pyPBqA162b5qNmALF9CEkDAEIH0DJeMmbldxi3a67F+jZL5ZELfOCmZP8aQ2FgUAQQQQAABBBBAAAEzCnD+NmNVQh8TDcDQm7OiiLAB8RgggEAgAt+uPijP/bhZ0jJcbtMUy5tDxveOkzplCwQyPWMRQAABBBBAAAEEELCNAOdv25QyoERoAAbEx2B/BdiA/JVjHAIIXBFYvue0PDhljZy9mOqGkiMyXN6+s67cckNJsBBAAAEEEEAAAQQQcLwA52/HPwIqAA1AngNDBNiADGFnUQRsJ7DvVJL0m7ha9p5K8sjtqXZVZXCrKhIWxstBbFd4EkIAAQQQQAABBBDwWoDzt9dUtr6RBqCty2ve5NiAzFsbIkPAagLnLqaqnwRctue0R+i31Sstr91RW3JERlgtLeJFAAEEEEAAAQQQQEAXAc7fujBafhIagJYvoTUTYAOyZt2IGgGzCqSmZ8jwn7fIN6sOeoQYW76gjLs3VorkyWHW8IkLAQQQQAABBBBAAIGgCXD+DhqtpSamAWipctknWDYg+9SSTBAwi4DL5ZIJS/bJK79vE5f7u0GkTMEY+bxvvFQtntcs4RIHAggggAACCCCAAAIhEeD8HRJm0y9CA9D0JbJngGxA9qwrWSFgBoE5W4/LkKnrJCkl3S2cvDki5YO760nL64uZIUxiQAABBBBAAAEEEEAgJAKcv0PCbPpFaACavkT2DJANyJ51JSsEzCKw7eh56T8pQQ6fveQWUniYyIjONaVP4wpmCZU4EEAAAQQQQAABBBAIqgDn76DyWmZyGoCWKZW9AmUDslc9yQYBMwqcSEyWAV+ukfWHznqE17tReRneqYZERoSbMXRiQgABBBBAAAEEEEBANwHO37pRWnoiGoCWLp91g2cDsm7tiBwBKwkkp6bLU9M3yG8bj3qE3ey6IvLRPfUlX84oK6VErAgggAACCCCAAAII+CTA+dsnLtveTAPQtqU1d2JsQOauD9EhYCcB5eUg787ZJe/N3eWRVpVieeTzPvFSrnAuO6VMLggggAACCCCAAAIIaAKcv3kYFAEagDwHhgiwARnCzqIIOFrg5/WHZeh3GyUlLcPNoWCuKPm0d5zEVyjkaB+SRwABBBBAAAEEELCnAOdve9bV16xoAPoqxv26CLAB6cLIJAgg4KPAmgN/y8DJCXLqQorbyOiIcBl9e225I7aMjzNyOwIIIIAAAggggAAC5hbg/G3u+oQqOhqAoZJmHTcBNiAeCAQQMErgr78vSr+JCbLjeKJHCA+1rCxPtbtewpXXBXMhgAACCCCAAAIIIGADAc7fNiiiDinQANQBkSl8F2AD8t2MEQggoJ9AYnKqPPrNOpm/46THpB1qlpB3etSVmOgI/RZkJgQQQAABBBBAAAEEDBLg/G0QvMmWpQFosoI4JRw2IKdUmjwRMK9AeoZLXpmxTT5fus8jyNql88tnfeKkeL6c5k2AyBBAAAEEEEAAAQQQ8EKA87cXSA64hQagA4psxhTZgMxYFWJCwJkCU1YekOE/bxGlIXj1VSJfTrUJWKt0fmfCkDUCCCCAAAIIIICALQQ4f9uijAEnQQMwYEIm8EeADcgfNcYggECwBJbsOiUPTlkjiclpbkvEREXIu3fVlfY1SwRraeZFAAEEEEAAAQQQQCCoApy/g8prmclpAFqmVPYKlA3IXvUkGwTsILD7xAXpN2m1HDh90S2dsDCRp9tXk0EtKkmY8l+4EEAAAQQQQAABBBCwkADnbwsVK4ih0gAMIi5TX1uADYinAwEEzCjwd1KKDPxqjazad8YjvG6xZeTV22pLdGS4GUMnJgQQQAABBBBAAAEEMhXg/M2DoQjQAOQ5MESADcgQdhZFAAEvBFLSMuS5HzfJ9DV/edzdoGIh+aRXrBTKHe3FTNyCAAIIIIAAAggggIDxApy/ja+BGSKgAWiGKjgwBjYgBxadlBGwkIDL5ZJxi/bK6zO3i8v93SBSvnAumdAnXqoUy2OhjAgVAQQQQAABBBBAwKkCnL+dWnn3vGkA8hwYIsAGZAg7iyLwf+3dB3gVVfr48TcVklBCr6EqTQUEsSMiqAjYK6517b2srKLroiuiYu9lLfi3l0V/SlcpKkWwgvQmofcUSELq/3lPcsNNuElukpl7Z+Z+z/PwgGTunHM+73HIvDkFgWoKTFuyVe78+HfJziso88n6dWPl3iHd5JJ+KRIbw5LgarJyOQIIIIAAAggggEAIBXj/DiG2g6siAWhRcLZv3y4LFiwwvxYuXGh+7dq1y9z9yiuvlPHjx1tSU3p6ukycOFG+/fZb+fXXX+Wvv/6SrKwsSU5OlsMPP1yGDx8u11xzjfnvykqHDh1k/fr1Vbapffv2pg6rCw8gq0W5HwII2CXw56Z0ufbdn2VrRs5BVRzavJ48MKy7nNy1uV3Vc18EEEAAAQQQQAABBGolwPt3rfg882ESgBaFsrKTIa1KAE6ZMkXOPfdc2b9/f6WtbtmypXz44YcycODACq8jAWhR4LkNAghEhMC2jByTBFy8KT1gf/sf2tQkAru1bBARHnQSAQQQQAABBBBAwD0CJADdEys7W0oC0CJd/wRgu3btpFu3bjJ9+nRzd6sSgO+//75cfvnlEh0dLaeeeqoMGTJEevXqZWb76f/QH3zwgXzyySemzsTERJkzZ4707t07YA99CcCzzz5bxowZU6FCfHy8dOnSxSKlA7fhAWQ5KTdEAAGbBbJzC+S+CYvk/37fHLCm6CiRi/ulyF2ndpHm9eva3BpujwACCCCAAAIIIIBAcAK8fwfn5PWrSABaFOHRo0dLv379zK8WLVqYZbMdO3a0NAGoyb2ZM2fK/fffL5pkDFRefPFFuf32282XdAbgjBkzKk0AWpWcrC4jD6DqinE9Agg4RWDump0yZuIyWbolI2CTkuJj5KaTO8u1/TtJ3bgYpzSbdiCAAAIIIIAAAghEqADv3xEa+HLdJgFo0ziwIwEYbFM1Cfnzzz+bmYLbtm2Tpk2bHvRR3wxAEoDBqnIdAgggcECgoLBIJvy6UZ6ctkK2ZwbelqFVw7ryzyFd5exebSRapwdSEEAAAQQQQAABBBAIgwAJwDCgO7BKEoA2BSWcCcCRI0fKU089ZXqmh5JoQrB8IQFoU+C5LQIIRJRAVm6+vPH9Wnl99tqDTgr2QfRs21D+NayHHN2xcUTZ0FkEEEAAAQQQQAABZwiQAHRGHMLdChKANkUgnAlAXQKsS4G1/PLLL9KnTx8SgDbFmdsigAACKrA1PUeenr5CPv91oxQVBTYZclhLue+MbtKhaRJoCCCAAAIIIIAAAgiETIAEYMioHV0RCUCbwhPOBKAeDLJo0SKJi4uTnTt3SoMGB59K6ZsBqPsU6tfXrFkjBQUFZv/Co48+WkaMGCF6QEhlpxvXho4HUG30+CwCCDhVYMnmdHl00jKZu2ZXwCbGxUTJFcd1kNtPOVQaJsY5tRu0CwEEEEAAAQQQQMBDArx/eyiYtegKCcBa4FX20XAlACdNmiTDhw83TdPfv/7664DN9CUAK+vDCSecYE4VbtOmTbWV9AFTWdmyZYtJNGrZsGGDtG3bttp18AEEEEDAiQJFRUXy3bLtMnbKMlm7Y1/AJjZMiJM7Bh0qlx3bXuJjo53YDdqEAAIIIIAAAggg4BEBEoAeCWQtu0ECsJaAFX08HAnA3bt3m+W+69evl5iYGFm4cKEceeSRAZvYpUsX6d4zuSnfAAAgAElEQVS9u5x22mly+OGHS8OGDSUtLU3mzZsnr776qknKadFr9O/069Up1Zk5SAKwOrJciwACbhHIKyiUD39Klee+XSl7svICNrtDk0QZNbS7nNajhW0zrt3iRTsRQAABBBBAAAEE7BEgAWiPq9vuSgLQpoiFOgGoy3d1xt/UqVNNj0aPHi0PPfRQhb3TZF9ycnLAr2dmZsoFF1wg06dPN1+/66675JlnnqmWFAnAanFxMQIIeFggPTtPXp65WsbP+UtyCwoD9vSYjo3NQSFHtK3eD1s8zEbXEEAAAQQQQAABBCwSIAFoEaTLb0MC0KYAhjoBeMMNN8gbb7xheqOJwC+//NLMAqxpSU9Pl06dOonOKkxKSjK/x8fHB307lgAHTcWFCCAQIQKpu7LkianLZdLiLRX2+Lw+bWTk6V2lVcOECFGhmwgggAACCCCAAAJ2C5AAtFvYHfcnAWhTnEKZABw1apQ8/vjjpif9+/eXadOmSUJC7V8eb7nlFnnllVfMfefMmSPHH3+8ZVo8gCyj5EYIIOAygZ//2i2PTFomf2xIC9jyunHRcn3/TnLDgM6SVCfWZb2juQgggAACCCCAAAJOE+D922kRCU97SADa5B6qBOATTzwh9913n+mF7v83c+bMgKf+1qSbL7/8stx6663mo59++qlceOGFNblNwM/wALKMkhshgIALBQoLi+TrRZtl3NQVsiktO2APmtWvI/ec1kUu6JsiMdFRLuwlTUYAAQQQQAABBBBwggDv306IQvjbQALQphiEIgGos/N0lp4WPazj+++/l6ZNm1rWI//7kwC0jJUbIYAAAqUCOXkF8vacdfLKzDWyd39+QJluLeub/QFPPNS65zshQAABBBBAAAEEEIgcARKAkRPrynpKAtCmcWB3AvC9996TK6+8UoqKisxefT/88IO0bt3a0t7o7D+dBajlxx9/lBNOOMGy+/MAsoySGyGAgAcEdu7dL89+s1I+WpAqhUWBOzSwazO5f2h3ObRFfQ/0mC4ggAACCCCAAAIIhEqA9+9QSTu7HhKANsXHzgTghAkT5KKLLhI9+bdt27Ym+dehQwdLe6KHgHTu3Fl27doliYmJ5hCQOnXqWFYHDyDLKLkRAgh4SGDltkwZO3mZzFqxI2CvdCnwpUe3kzsHHypN6ln3TPYQIV1BAAEEEEAAAQQQKCfA+zdDQgVIANo0DmqSABw/frxcffXVpkWjR4+Whx566KDWTZ8+Xc4880zJzc2V5s2bm2W/Xbt2rVYvpk6dKgMGDKjwoJC9e/fK+eefL1qXlttuu01eeOGFatVR1cU8gKoS4usIIBDJAt+v3CGPTlomK7ZlBmSoXydWbjnlELnq+A5SN67mJ75HsjF9RwABBBBAAAEEIkWA9+9IiXTl/SQBaNE40CWyq1evLr3bzp07ZeTIkea/denstddeW6amq6666qCaq0oAzp8/XwYNGiRZWVkSFxcnen3Pnj0r7YHOEExOTi5zzcknnyyLFy+W8847T0488UQz069evXqis/7mzp0rr732mqSmpprPaHJR/65x48YWSRXfhgeQpZzcDAEEPChQUFgkn/68QZ6evlJ0iXCg0iY5Qe47o5sM79lKoqI4KMSDw4AuIYAAAggggAACtRbg/bvWhJ64AQlAi8KoCb1333036Lvp3n3lS1UJQJ0R+PDDDwddh174zjvvSPlkoyYAZ8+eXeV9dJbgBx98IG3atKny2upewAOoumJcjwACkSqgh4O8NmuN/PeHtbI/vzAgw5Htks1BIX3bN4pUJvqNAAIIIIAAAgggUIEA798MDRUgAWjROHBTAvDnn3+W7777TubNmycrVqwQna2YlpZm9vrTg0SOOeYYGTFihJx22mm2zSjhAWTRwOM2CCAQMQKb07LlyWkr5IvfNlXYZ50JeO+QbpLSODFiXOgoAggggAACCCCAQOUCvH8zQkgAMgbCJsADKGz0VIwAAi4XWLQxTcZMXCYL/todsCfxMdFy9Ykd5JaBh0iDunEu7y3NRwABBBBAAAEEEKitAO/ftRX0xueZAeiNOLquFzyAXBcyGowAAg4S0G0kpi3ZKo9NWS7rd2UFbFnjpHi5a/ChMuLodhIbE+2g1tMUBBBAAAEEEEAAgVAK8P4dSm3n1kUC0Lmx8XTLeAB5Orx0DgEEQiSQm18o781fL89/u1IycvID1tq5WZI8MKy7DOza3LZtHULUXapBAAEEEEAAAQQQqIEA7981QPPgR0gAejCobugSDyA3RIk2IoCAWwT27MuVF2askvfmrZf8woMPmdJ+nHBIE3lgaA/p0bqBW7pFOxFAAAEEEEAAAQQsEOD92wJED9yCBKAHgujGLvAAcmPUaDMCCDhdYO2OvfL4lOUyfem2gE2NihK5sG9buee0rtK8QV2nd4f2IYAAAggggAACCFggwPu3BYgeuAUJQA8E0Y1d4AHkxqjRZgQQcIvA/LW7ZMykpfLnpoyATU6Mj5EbTuos153UURLjY93SLdqJAAIIIIAAAgggUAMB3r9rgObBj5AA9GBQ3dAlHkBuiBJtRAABNwsUFhbJl79vknFTV8jWjJyAXWnZoK6MPL2rnHtkG4mOjnJzd2k7AggggAACCCCAQAUCvH8zNFSABCDjICwCPIDCwk6lCCAQgQLZuQXy5g9r5dXZayQrtyCgwOFtGpj9AY/r3CQChegyAggggAACCCDgbQHev70d32B7RwIwWCmus1SAB5ClnNwMAQQQqFJge0aOPD19pXz6ywYpCnxOiJzao4WMOqObdGpWr8r7cQECCCCAAAIIIICAOwR4/3ZHnOxuJQlAu4W5f0ABHkAMDAQQQCA8Aks3Z8jYycvkx9U7AzYgNjpKLju2vdwx6FBplBQfnkZSKwIIIIAAAggggIBlArx/W0bp6huRAHR1+NzbeB5A7o0dLUcAAfcLFBUVyawVO+TRyctk9fa9ATvUoG6s3D7oULniuA4SHxvt/k7TAwQQQAABBBBAIEIFeP+O0MCX6zYJQMZBWAR4AIWFnUoRQACBMgL5BYXy0cIN8uw3K2X3vtyAOu2bJMp9Q7rJkMNbSlQUB4UwhBBAAAEEEEAAAbcJ8P7ttojZ014SgPa4ctcqBHgAMUQQQAAB5whk5OTJKzPXyNs/rpPcgsKADevXoZH8a1gP6ZWS7JyG0xIEEEAAAQQQQACBKgV4/66SKCIuIAEYEWF2Xid5ADkvJrQIAQQQ2LA7S8ZNWyFf/7G5QoxzereWkUO6SZvkBMAQQAABBBBAAAEEXCDA+7cLghSCJpIADAEyVRwswAOIUYEAAgg4V+DX1D0yZuJS+TU1LWAj68RGy7X9O8pNJx8i9erEOrcjtAwBBBBAAAEEEEBAeP9mEKgACUDGQVgEeACFhZ1KEUAAgaAF9KCQSYu3yONTlsvGPdkBP9e0Xh25+9QuctFRbSU2hoNCgsblQgQQQAABBBBAIIQCvH+HENvBVZEAdHBwvNw0HkBeji59QwABLwnk5BXIu3P/kpdmrJbM/fkBu9a1RX25f1h3GdClmZe6Tl8QQAABBBBAAAFPCPD+7Ykw1roTJABrTcgNaiLAA6gmanwGAQQQCJ/Arr375fnvVskHP6VKQWFRwIZoAvCBYd2lS4v64WsoNSOAAAIIIIAAAgiUEeD9mwGhAiQAGQdhEeABFBZ2KkUAAQRqLbB6e6Y8Nnm5fLd8e8B7RUeJXHJ0O7lrcBdpVr9OrevjBggggAACCCCAAAK1E+D9u3Z+Xvk0CUCvRNJl/eAB5LKA0VwEEECgnMCc1TtlzKRlsmxLRkAbPRzkppM7yzUndpS6cTH4IYAAAggggAACCIRJgPfvMME7rFoSgA4LSKQ0hwdQpESafiKAgJcFdCnw/37ZKE9NXyHbM/cH7Gqb5AT555CucmbP1hKt0wMpCCCAAAIIIIAAAiEV4P07pNyOrYwEoGND4+2G8QDydnzpHQIIRJbAvv358vr3a+WN79dITl5hwM73SkmWB4d1l6M6NI4sHHqLAAIIIIAAAgiEWYD37zAHwCHVkwB0SCAirRk8gCIt4vQXAQQiQWBLerY8NW2lTPhtoxQFPidEhh7RUu4d0k3aN0mKBBL6iAACCCCAAAIIhF2A9++wh8ARDSAB6IgwRF4jeABFXszpMQIIRI7An5vSZcykpTJ/7e6AnY6LiZKrju8gt55yqDRMiIscGHqKAAIIIIAAAgiEQYD37zCgO7BKEoAODEokNIkHUCREmT4igEAkCxQVFck3S7fJY1OWy7qd+wJSNEqMkzsGHSp/O7a9xMVERzIXfUcAAQQQQAABBGwT4P3bNlpX3ZgEoKvC5Z3G8gDyTizpCQIIIFCZQG5+oXzw03p5/rtVkpaVF/DSTk2TZNTQ7jK4e3OJiuKgEEYUAggggAACCCBgpQDv31ZquvdeJADdGztXt5wHkKvDR+MRQACBagukZ+XJizNWybvz/pK8gsAbBB7XqYk8MKy7HN6mYbXvzwcQQAABBBBAAAEEAgvw/s3IUAESgIyDsAjwAAoLO5UigAACYRdYv2ufPD5luUz5c2vAtugEwPP7tJV7TusqLRvWDXt7aQACCCCAAAIIIOB2Ad6/3R5Ba9pPAtAaR+5STQEeQNUE43IEEEDAYwIL1u2WRyctlT82pgfsWUJcjFx/Uie5YUAnSYyP9Vjv6Q4CCCCAAAIIIBA6Ad6/Q2ft5JpIADo5Oh5uGw8gDweXriGAAAJBChQWFslXf2yWcVOXy+b0nICfal6/jtxzelczKzAmmv0Bg6TlMgQQQAABBBBAoFSA928GgwqQAGQchEWAB1BY2KkUAQQQcKRATl6BvPXjOnll5mrZl1sQsI09WjWQfw3rLscf0tSRfaBRCCCAAAIIIICAUwV4/3ZqZELbLhKAofWmthIBHkAMBQQQQACB8gI7MvfLM9+slE8Wpkph4HNCzEnB953RXQ5pXg9ABBBAAAEEEEAAgSAEeP8OAikCLiEBGAFBdmIXeQA5MSq0CQEEEHCGwIqtmfLo5GXy/codARukS4EvO6ad3DG4izROindGo2kFAggggAACCCDgUAHevx0amBA3iwRgiMGprliABxAjAQEEEECgKoFZK7bL2MnLZOW2vQEvrV83Vm475RC58vgOUic2pqrb8XUEEEAAAQQQQCAiBXj/jsiwH9RpEoCMg7AI8AAKCzuVIoAAAq4TyC8olE9/3ijPfLNCdu7NDdj+lMYJct+Q7jL0iJYSFcVBIa4LMg1GAAEEEEAAAVsFeP+2ldc1NycB6JpQeauhPIC8FU96gwACCNgtkJmTJ6/OWiNv/rhOcvMLA1bXt30jc1DIke0a2d0c7o8AAggggAACCLhGgPdv14TK1oaSALSVl5tXJMADiLGBAAIIIFATgY17suTJaSvk/37fXOHHz+rVWv45pKu0bZRYkyr4DAIIIIAAAggg4CkB3r89Fc4ad4YEYI3p+GBtBHgA1UaPzyKAAAII/L4hTcZMXCo/r98TECM+NlquObGj3HxyZ6lfNw4wBBBAAAEEEEAgYgV4/47Y0JfpOAlAxkFYBHgAhYWdShFAAAFPCRQVFcnUP7fKY1OWS+rurIB9a5IUL3ed2kUu6ZcisTHRnuo/nUEAAQQQQAABBIIR4P07GCXvX0MC0PsxdmQPeQA5Miw0CgEEEHClwP78Anlv3np5/rtVkpmTH7APhzavJ/cP6y4nd2nGQSGujDKNRgABBBBAAIGaCvD+XVM5b32OBKC34uma3vAAck2oaCgCCCDgGoE9+3JNEvD9+eslv7AoYLv7H9pUHhjWXbq1bOCaftFQBBBAAAEEEECgNgK8f9dGzzufJQHonVi6qic8gFwVLhqLAAIIuEpg7Y69ZlnwN0u3BWx3dJTIxf1SzNLg5vXruqpvNBYBBBBAAAEEEKiuAO/f1RXz5vUkAL0ZV8f3igeQ40NEAxFAAAHXC8xds1MenbRMlmzOCNiXpPgYuenkznLNiZ0kIT7G9f2lAwgggAACCCCAQCAB3r8ZFypAApBxEBYBHkBhYadSBBBAIOIECguLZMJvm+TJactlW8b+gP1v1bCu/HNIVzm7VxuJ1umBFAQQQAABBBBAwEMCvH97KJi16AoJwFrg8dGaC/AAqrkdn0QAAQQQqL5AVm6+/Pf7dfLa7DWSnVcQ8AY92zaUB4Z2l2M6Nal+BXwCAQQQQAABBBBwqADv3w4NTIibRQIwxOBUVyzAA4iRgAACCCAQDoFtGTny9PQV8tkvG6Uo8DkhcvphLWTUGd2lQ9OkcDSROhFAAAEEEEAAAUsFeP+2lNO1NyMB6NrQubvhPIDcHT9ajwACCLhdYMnmdLM/4Nw1uwJ2JS4mSi4/toPcPugQSU6Md3t3aT8CCCCAAAIIRLAA798RHHy/rpMAZByERYAHUFjYqRQBBBBAwE+gqKhIZizfLmMnL5M1O/YFtGmYECd3DDpULju2vcTHRuOHAAIIIIAAAgi4ToD3b9eFzJYGkwC0hZWbViXAA6gqIb6OAAIIIBAqgbyCQvloQao8+81K2ZOVF7DaDk0SZdTQ7nJajxYSFcVBIaGKDfUggAACCCCAQO0FeP+uvaEX7kAC0AtRdGEfeAC5MGg0GQEEEPC4QHp2nrwyc7W8M+cvyS0oDNjbozs2lgeH9ZAj2jb0uAbdQwABBBBAAAGvCPD+7ZVI1q4fJABr58enayjAA6iGcHwMAQQQQMB2gQ27s+Txqctl0qItFdZ1TMfG0qlZkrRrnCTtmyRKu8aJ5vf6deNsbx8VIIAAAggggAAC1RHg/bs6Wt69lgSgd2Pr6J7xAHJ0eGgcAggggICI/LJ+tzwycZn8viEtaI9GiXHSrkmStC9JCGpisDg5mCTN69eR6GiWDweNyYUIIIAAAgggYIkA79+WMLr+JiQAXR9Cd3aAB5A740arEUAAgUgT0INCvl60RZ6Yslw2pWXXqvt1YqNLZwrqzMF2jRNMYrBdk0Rp2yhB6sTG1Or+fBgBBBBAAAEEEAgkwPs340IFSAAyDsIiwAMoLOxUigACCCBQQ4GcvAKzN+DLM1fL3v35NbxLxR/Tc0VaN0yQFE0KanKwSfGSYvPnxonSMJGlxZajc0MEEEAAAQQiRID37wgJdBXdJAHIOAiLAA+gsLBTKQIIIIBALQX0oJA5q3fKup37RPcKXL8rS1J3Z8nm9GwpKqrlzSv5eMOEuDJ7DWpiMKVkmXHLBnVZWmwfPXdGAAEEEEDA9QK8f7s+hJZ0gASgJYzcpLoCPICqK8b1CCCAAAJOFtifXyAb92SbZGDqLl9icF9pgnB/fuBTha3oU3xstKQ0KllOXLrnYPEMwraNEqVuHEuLrXDmHggggAACCLhVgPdvt0bO2naTALTWk7sFKcADKEgoLkMAAQQQcL1AYWGR7Ni73yQD1+/aZ5KEvpmD+ufd+3Jt7aPOEDRLin0Hk+i+g/rnxomSnBgnUbr+mIIAAggggAACnhXg/duzoa1Wx0gAVouLi60S4AFklST3QQABBBBwu0BGTp6ZNWhmD5YmB4tnD25Oy5ZCG5cW168be2CvwSYlJxbrLMImidKqYYLEcGqx24cX7UcAAQQQQEB4/2YQqAAJQMZBWAR4AIWFnUoRQAABBFwmkJtfaE4fLl5aXJwUXF+yzFj/LjuvwLYexcdEm9OJfXsNmlmDTZJMwjClUaIkxLO02DZ8bowAAggggICFArx/W4jp4luRAHRx8NzcdB5Abo4ebUcAAQQQcIJAUVHx0mLfnoOaGCw+mKR4mfHOvfYuLW5ev07JwSTFSUGTGCxZWtw4KZ6lxU4YJLQBAQQQQAABEWYAMgqMAAlABkJYBEgAhoWdShFAAAEEIkhg7/78kqXFZfcd1FmEOquwwMa1xfXqxBbvM1iyrLh4D8LiRGGrhnUlNiY6giJBVxFAAAEEEAivAO/f4fV3Su0kAJ0SiQhrBw+gCAs43UUAAQQQcJRAXkGhbEnLkfW7D5xUXDxzMNssNd6Xa9/S4tjoKGnTKKE0QaiJQZMgLEkWJsbHOsqKxiCAAAIIIOB2Ad6/3R5Ba9pPAtAaR+5STQEeQNUE43IEEEAAAQRCJKBLi3ftyy05qfhAgtAsNd6dJTsy99vakqb1ipcW6ynFmhg8MJMwSZrWY2mxrfjcHAEEEEDAkwK8f3syrNXuFAnAapPxASsEeABZocg9EEAAAQQQCL1AVm5+yaEkB04tLj6YZJ9s3JMt+TYuLU6MjzEJwdKkoB5KUrLUuHVygsSxtDj0A4IaEUAAAQQcL8D7t+NDFJIGkgAMCTOVlBfgAcSYQAABBBBAwHsC+bq0OD3HJAiLTyzeV7IPoSYIsyRzf75tnY6JjpLWyXXNXoPFew76HUzSJEl0X0IKAggggAACkSjA+3ckRv3gPpMAZByERYAHUFjYqRQBBBBAAIGwCejS4j1ZeaWnFPuWFBf/vk+2Zdi7tLhJUnxpYtDMItTZgyWJwmb163BqcdhGBhUjgAACCNgtwPu33cLuuD8JQIvitH37dlmwYIH5tXDhQvNr165d5u5XXnmljB8/3qKaDtzmo48+knfeeUcWLVokaWlp0qJFC+nfv7/ccsstctxxxwVVX1ZWlrz00kvy2WefyZo1a2T//v2SkpIiw4YNk9tvv13at28f1H2qexEPoOqKcT0CCCCAAALeFsjOLZCNe3wzB4uXFBcvLc6SDXuyJK+gyDaAhLjipcUpJbMGfQeStG+SJG2SEyQ+llOLbcPnxggggAACtgvw/m07sSsqIAFoUZiioqIqvJPVCcDs7Gy54IILZPLkyQHrjI6Oln//+98yevToSnu3evVqGTp0qKxatSrgdQ0aNJAPPvhAhg8fbpHSgdvwALKclBsigAACCCDgWYGCwiLZmpFTPHuw5DASXWZs/rxrn2Tk2Le0ODpKpFXDhOLZguZQkuKZg4e3bigpjROYOejZUUfHEEAAAe8I8P7tnVjWpickAGuj5/dZ/wRgu3btpFu3bjJ9+nRzhdUJwBEjRsjHH39s7j1w4EC54447pHXr1rJ48WIZO3asmcmn5fXXX5frr78+YA8zMzPlqKOOkpUrV5qvX3fddXLJJZdIQkKCzJw5Ux577DHZu3evJCYmypw5c6R3794WSRXfhgeQpZzcDAEEEEAAgYgWSMvynVrsO5jkwOnFmjgssmnyoJ5KfGS7RnJku2Tp066R9GzbUBLj2WswogcjnUcAAQQcKMD7twODEoYmkQC0CF1n2/Xr18/80qW4f/31l3Ts2NHyBOCMGTNk0KBB5r5nnnmmfPHFFxITE1Pai507d0rfvn0lNTVVkpOTZe3atdKoUaODeqkzBB955BHz9+PGjZORI0eWuWbu3LkyYMAAyc/PN7/PmjXLIikSgJZCcjMEEEAAAQQQqFQgJ0+XFmdL6u7ipKD+MrMHS37l5hdaJqgHkXRvVV+OTGkkfdoXJwV1aXFlK0Usq5wbIYAAAgggUIEACUCGhgqQALRpHNiVANQlu1OmTJHY2FhZt26dtG3b9qAe6OxAnSVYUXIvLy9PmjVrJunp6dK9e3f5888/RZcNly833nijmUWoRfc21OSmVYUHkFWS3AcBBBBAAAEEaipQWFgk2zJ1aXHxcmJzerFZWly8/2BaVl5Nb136OT18RGcI6kxB3yzBJE4krrUrN0AAAQQQCF6A9+/grbx8JQlAm6JrRwJQl+02bdpUcnNzZciQISYRGKjo1zXBl5GRYQ4D0dl8/kWXJp9++unmrx5//HG59957A95n/vz5pYeJjBo1yiwvtqrwALJKkvsggAACCCCAgF0C6dl5skGTgiUnFRfvOZglK7Zlyu59uTWqVmcJdm1Rv3SGoCYGOzRhlmCNMPkQAggggEBQArx/B8Xk+YtIANoUYjsSgP7Lf3WPvvvuu6/C1muCTxN9OlNQT/qNi4srvdZ/+e+8efPk2GOPDXgfXf7bsGFD8/mTTjpJZs+ebZkWDyDLKLkRAggggAACCIRYoKioyMwW/DV1j/y6Pk1+27BHlm3JFD2spCalsc4STNFZgsXLhnulJAuzBGsiyWcQQAABBAIJ8P7NuFABEoA2jQM7EoAvvfSS3HbbbabFuvffOeecU2Hr9WCQF154wXx9yZIl0qNHj9Jr9QTh//3vf+a/9+zZY/YKrKj06tVLFi1aZGYUbt++3TItHkCWUXIjBBBAAAEEEHCAQFZuvizamG6Sgr+lpslvqXtk596azRLUk4e7tmxQmhDs0y5ZOjZNYi9BB8SZJiCAAAJuFOD9241Rs77NJACtNzV3tCMBqDP+nnjiCXP/hQsXmlN8KypPPfVU6cEeU6dOLV3yq9frjL+ffvpJkpKSzEm/lZXhw4fLpEmTzCU5OTlSp06doMT0AVNZ2bJlixx99NHmkg0bNgTcyzCoirgIAQQQQAABBBBwoIDOEtywO7skIbhHfk1Nk6VbMmo8SzA5Mc7MEtQZgn3aF88SrMdegg6MPE1CAAEEnCdAAtB5MQlHi0gA2qRuRwLwlltukVdeecW0eNmyZdKtW7cKW//qq6/KzTffbL7++eefy/nnn1967WGHHSZLly41pxVv3bq1UoGLL75YPv30U3ONnjDcpEmToMSqc9odCcCgSLkIAQQQQAABBFwukJ1bIIs3Fc8S/HV9cVJw5979NepVlM4SbFG/5HCRZJMU7MQswRpZ8iEEEEDA6wIkAL0e4eD6RwIwOKdqX2VHAvCaa66Rt99+27RlzZo10qlTpwrbpdfp9Vree+89ueyyy0qv7dy5s6xdu1ZSUlIkNTW10r5dccUV5vNaqpOoIwFY7SHDBxBAAAEEEEAgwgR0luDGPb5ZgmkmMbh0c4bk13AvwYYJcX7LhnWWYEOpX/fAPtARxkt3EUAAAQRKBEgAMhRUgASgTePAjgSgm2YAsgTYpoHFbRFAAAEEEEDA0w22ma0AACAASURBVAI5eSWzBM0MweJZgjsyaz5LsEvz4hOHj0zRpcPJ0qlpPYnWTQYpCCCAAAIRI0ACMGJCXWlHSQDaNA7sSAC6aQ/Aqlh5AFUlxNcRQAABBBBAAAERnSW4KU1nCaaZZcO/bUiTpZvTJa+gZicON6gba5YN+04c7t0uWRowS5ChhgACCHhagPdvT4c36M6RAAyaqnoX2pEA5BTg6sWAqxFAAAEEEEAAAS8K6CzBP0v2EtQTh3Wm4LaMms8SPLR5vdIZgnrISOdmzBL04rihTwggELkCJAAjN/b+PScBaNM4sCMBOGPGDBk0aJBp8WOPPSY6I7Cicvrpp8v06dMlNjZWsrKyJC7uwP4v//73v+WRRx4xH503b545FThQyc/Pl+TkZNm3b5+cdNJJMnv2bMu0eABZRsmNEEAAAQQQQCDCBXSW4Ob0nOIZgiUJwSW1mCVYv26s9PY7cVj/rPsLUhBAAAEE3CnA+7c742Z1q0kAWi1acj87EoCZmZnStGlTyc3NlSFDhsiUKVMCtl6/3qxZM8nIyJDjjjtO5s6dW+Y6TQxqglDL448/Lvfee2/A+8yfP998XsuoUaNk7NixlmnxALKMkhshgAACCCCAAAIHCegswSWbM+Q3s4+gnjqcJlszcmosdUjzetKnXbLoDEE9cfgQZgnW2JIPIoAAAqEW4P071OLOrI8EoE1xsSMBqE0dOnSoSfzpzL5169ZJ27ZtD+rBxx9/LCNGjDB/P27cOBk5cmSZazRB2Lx5c0lPT5fu3bvLkiVLJNCpvTfeeKO8/vrr5rMLFiyQfv36WabFA8gySm6EAAIIIIAAAggEJbAlPdskAosPF9kjSzZlSG5BYVCfLX9R/TqxovsH6n6CmhjUQ0YaJjJLsEaYfAgBBBCwWYD3b5uBXXJ7EoA2BaomCcDx48fL1VdfbVo0evRoeeihhw5qnf8y4LPOOksmTJggMTExpdft3LlT+vbtK6mpqWb57tq1a6VRo0YH3cd/GXCgJKEuDdZlv7oMeMCAATJr1ixLpXgAWcrJzRBAAAEEEEAAgWoL7M8vniXoWzqsswV1KXFNS+dmSaUzBPWQkUOb15cYThyuKSefQwABBCwT4P3bMkpX34gEoEXh+/HHH2X16tVlEnG+mXcnnHCCXHvttWVquuqqqw6qOZgEoH5IZ/fpLD8tAwcOlDvvvFNat24tixcvlkcffVTWrFljvqaz966//vqAPdTlxEcddZSsXLnSfF2vu+SSSyQhIUFmzpxplvvu3bvX/LcuIe7du7dFUsW34QFkKSc3QwABBBBAAAEELBHYqnsJmiXDxScOL96ULrn5NZslWE9nCaboLMHipcP6e3JivCXt5CYIIIAAAsEL8P4dvJWXryQBaFF0NaH37rvvBn033ay5fAk2AZidnS0XXHCBTJ48OWB90dHR8uCDDwacQej/AU1Y6pLiVatWBbxPgwYN5IMPPpDhw4cH3a9gL+QBFKwU1yGAAAIIIIAAAuET0FmCS3WWYGqa2U9QDxnZlJZd4wZ1apZU5sThLi2YJVhjTD6IAAIIBCnA+3eQUB6/jASgRQEOZQLQ1+QPP/xQNGn4xx9/SFpamrRo0UL69+8vt956a+nhHVV1T0/4ffnll+Wzzz4zMxh1f8CUlBSTGLzjjjukffv2Vd2iRl/nAVQjNj6EAAIIIIAAAgiEXWBbRsmJwxvSzEzBRbWYJZgUHyO9Sk8cLt5LsFESswTDHmQagAACnhLg/dtT4axxZ0gA1piOD9ZGgAdQbfT4LAIIIIAAAggg4BwBXSK8dIvvxOHipGBtZgl2bJpUumxYlw53aVFPYmOindNhWoIAAgi4TID3b5cFzKbmkgC0CZbbVi7AA4gRggACCCCAAAIIeFdgu84SLFk2rHsKLtqYLvtruJdgos4SbJssfdr79hJsJI2ZJejdwUPPEEDAcgHevy0ndeUNSQC6MmzubzQPIPfHkB4ggAACCCCAAALBCuQVFMqyLcUnDpvE4IY9smF3zfcS7NAksfhgkfaN5MiUZOnWsj6zBIMNBtchgEDECfD+HXEhD9hhEoCMg7AI8AAKCzuVIoAAAggggAACjhHYnpljDhXRGYL6+6KNaZKTV7MTh3WWYM+2DeXIdo1MYrBPu2RpUq+OY/pKQxBAAIFwCvD+HU5959RNAtA5sYiolvAAiqhw01kEEEAAAQQQQKBKAZ0luHxLZklCsHimYOrurCo/V9EF7ZskmtmBfdoXJwWZJVhjSj6IAAIuF+D92+UBtKj5JAAtguQ21RPgAVQ9L65GAAEEEEAAAQQiUWBH5n75TWcI+k4c3pgu2XkFNaJIiIuRI9o2LJ0hqInBpswSrJElH0IAAXcJ8P7trnjZ1VoSgHbJct9KBXgAMUAQQAABBBBAAAEEqiuQr7MEt2aapKDOENTlw+t31XyWYErjhJKEYMkswVb1JY4Th6sbFq5HAAGHC/D+7fAAhah5JABDBE01ZQV4ADEiEEAAAQQQQAABBKwQ2LVXZwkWJwP11x8baj5LsG5ctPRskyxHlp44nCzN69e1opncAwEEEAibAO/fYaN3VMUkAB0VjshpDA+gyIk1PUUAAQQQQAABBEIpoLMEV2zTvQTT5Lf1xcuH1+3cV+MmtG3kmyWYbA4Z6dG6AbMEa6zJBxFAIBwCvH+HQ915dZIAdF5MIqJFPIAiIsx0EgEEEEAAAQQQcITA7n25JcuGi08c/mNDmuzLrdlegnVio6V7qwbSKDFOEuvESr34WEnS3+vEmN+L/1z8e1KdGPPnxHjf38VIUnysREdHOcKFRiCAQGQI8P4dGXGuqpckAKsS4uu2CPAAsoWVmyKAAAIIIIAAAggEIVBQWCQrtvpOHE4zycG1tZglGESVZS5JjC9OFhYnCouTgiZR6EskliYVyyYSTVLRfK04saj/rfeKiiKhWN0YcD0CkSTA+3ckRbvivpIAZByERYAHUFjYqRQBBBBAAAEEEECgAoE9OktwQ/EMQd1L8PfUms8SDCWy5v58ScHSpGJJkrDMjMRyiUP/BKLvz/q77oNIQjGUEaQuBOwX4P3bfmM31EAC0A1R8mAbeQB5MKh0CQEEEEAAAQQQ8JCAzhJcuU1PHD5wwMjaHTXfS9AtNDHRUWZW4YFlzDrrsNyMxTJLnw/MUvTNUCyd2VgnVnTJNAlFt0SfdnpVgPdvr0a2ev0iAVg9L662SIAHkEWQ3AYBBBBAAAEEEEAgZAJpWTpLME027M6SffsLZN/+fNm7P9/8vi9X/1z8d2X/vkBy8wtD1kanVRQbHVV2ubPfMmb//RJN0tAv0Vi6HLrkel9CMj422mldpD0IOF6A92/HhygkDSQBGBJmKikvwAOIMYEAAggggAACCCAQKQKaAMwyCUJNDhYcSBqWSSD6Jw9L/lz6mbKfyy8sihS6g/oZHxNdvG9iyR6KZfdT9NtX0bfHYsl+iv6fMZ8tWRIdG0NCMWIHUwR1nPfvCAp2JV0lAcg4CIsAD6CwsFMpAggggAACCCCAgMsFioqKJLeg8KAZiL7kom/2YXHCsdyMxApmKUZwPtEsUa5oP8TyScPiJc4Hko9142IkQX/Fx5i9E/XP+ncse3b5/2QebD7v3x4Mag26RAKwBmh8pPYCPIBqb8gdEEAAAQQQQAABBBCorYAmFPfnF5bOSiyfSDyQUCy75Lk0uVhulqIuhS6K3AmKJhx6MItJDJYkBDVBWPrf5s8HkoUmiXjQ132JxWiTUPQlGX338/1dXEwU+yvW9n+ACPk8798REugqukkCkHEQFgEeQGFhp1IEEEAAAQQQQAABBGwV0IRidp5vmXP5pGHxUmbfnonFycWDZyn6L5POyi2wtb1uvrke2HIgyVicVAyUdKxTmkQ8kHisOOlYfI86JUlK/TPLpN08Sorbzvu3+2NoRQ9IAFqhyD2qLcADqNpkfAABBBBAAAEEEEAAgYgTKCwskqy8ihOJBw5hCXAAi2+/xdwDB7Pk5EXugSw1HTw60zDQTMSDZyaWJCHNkuiDZy76Jx0T4otnN/qu0981oUmxR4D3b3tc3XZXEoBui5hH2ssDyCOBpBsIIIAAAggggAACCLhIoKCwyJzYfOC05nKnOZfMSjxwaEvZA1hMwjE3X7JzC4p/5RVIJO+haGXo9YRn3yzG4n0VS5ZLlyyR9k8WHvj6gWuqSjr69meMjsBEI+/fVo5U996LBKB7Y+fqlvMAcnX4aDwCCCCAAAIIIIAAAgiIiC55zisoXvack3cgKWj+uyRBqH/WZKF+XWcgmv/2+zvfn0vvUfq1wuJ7lvyK9L0VrRpwvgNbzHJpv/0XyyYVi/dm9F8KHejrmlTs1bah45dJ8/5t1ehx931IALo7fq5tPQ8g14aOhiOAAAIIIIAAAggggECIBXyHtZQmBEuSi8VJx+Kkou9rFSciC0sTkWWu90tUskS6+oFd+p/TJTE+tvofDOEneP8OIbaDqyIB6ODgeLlpPIC8HF36hgACCCCAAAIIIIAAAm4U0D0X9VToQLMU/ROLB/7sl3z0SyTu95vlmJ1XMpPR7+u5+d7Zi3Ht2KHi9GXFvH+78f9G69tMAtB6U+4YhAAPoCCQuAQBBBBAAAEEEEAAAQQQ8KCA7sXoP5txf/6BmYyVLo8unfnotzzafzak3zJsvb8uz7az1ImNlhVjzrCzCkvuzfu3JYyuvwkJQNeH0J0d4AHkzrjRagQQQAABBBBAAAEEEEDALQL5BYWSozMaS/Zg9N9vMZh9GgPt43hgdmShaAJwzn2nOJ6D92/HhygkDSQBGBJmKikvwAOIMYEAAggggAACCCCAAAIIIICA/QK8f9tv7IYaSAC6IUoebCMPIA8GlS4hgAACCCCAAAIIIIAAAgg4ToD3b8eFJCwNIgEYFnYq5QHEGEAAAQQQQAABBBBAAAEEEEDAfgHev+03dkMNJADdECUPtpEHkAeDSpcQQAABBBBAAAEEEEAAAQQcJ8D7t+NCEpYGkQAMCzuV8gBiDCCAAAIIIIAAAggggAACCCBgvwDv3/Ybu6EGEoBuiJIH28gDyINBpUsIIIAAAggggAACCCCAAAKOE+D923EhCUuDSACGhZ1KeQAxBhBAAAEEEEAAAQQQQAABBBCwX4D3b/uN3VADCUA3RMmDbeQB5MGg0iUEEEAAAQQQQAABBBBAAAHHCfD+7biQhKVBJADDwk6lPIAYAwgggAACCCCAAAIIIIAAAgjYL8D7t/3GbqiBBKAbouTBNvIA8mBQ6RICCCCAAAIIIIAAAggggIDjBHj/dlxIwtIgEoBhYadSHkCMAQQQQAABBBBAAAEEEEAAAQTsF+D9235jN9RAAtANUfJgG3kAeTCodAkBBBBAAAEEEEAAAQQQQMBxArx/Oy4kYWkQCcCwsFMpDyDGAAIIIIAAAggggAACCCCAAAL2C/D+bb+xG2ogAeiGKHmwjTyAPBhUuoQAAggggAACCCCAAAIIIOA4Ad6/HReSsDSIBGBY2KmUBxBjAAEEEEAAAQQQQAABBBBAAAH7BXj/tt/YDTWQAHRDlDzYRh5AHgwqXUIAAQQQQAABBBBAAAEEEHCcAO/fjgtJWBpEAjAs7FTKA4gxgAACCCCAAAIIIIAAAggggID9Arx/22/shhpIALohSh5sIw8gDwaVLiGAAAIIIIAAAggggAACCDhOgPdvx4UkLA0iARgWdirlAcQYQAABBBBAAAEEEEAAAQQQQMB+Ad6/7Td2Qw0kAN0QJQ+2kQeQB4NKlxBAAAEEEEAAAQQQQAABBBwnwPu340ISlgaRAAwLO5XyAGIMIIAAAggggAACCCCAAAIIIGC/AO/f9hu7oQYSgG6IkgfbyAPIg0GlSwgggAACCCCAAAIIIIAAAo4T4P3bcSEJS4NIAIaFnUp5ADEGEEAAAQQQQAABBBBAAAEEELBfgPdv+43dUAMJQDdEyYNt5AHkwaDSJQQQQAABBBBAAAEEEEAAAccJ8P7tuJCEpUEkAMPCTqU8gBgDCCCAAAIIIIAAAggggAACCNgvwPu3/cZuqIEEoBui5ME28gDyYFDpEgIIIIAAAggggAACCCCAgOMEeP92XEjC0iASgGFhp1IeQIwBBBBAAAEEEEAAAQQQQAABBOwX4P3bfmM31EAC0A1R8mAbeQB5MKh0CQEEEEAAAQQQQAABBBBAwHECvH87LiRhaRAJwLCwUykPIMYAAggggAACCCCAAAIIIIAAAvYL8P5tv7EbaiAB6IYoebCNf/31l3Ts2NH0bMGCBdKqVSsP9pIuIYAAAggggAACCCCAAAIIIBBegS1btsjRRx9tGrFu3Trp0KFDeBtE7WERIAEYFnYqXbhwYekDCA0EEEAAAQQQQAABBBBAAAEEELBfQCfg9OvXz/6KqMFxAiQAHReSyGgQCcDIiDO9RAABBBBAAAEEEEAAAQQQcI4ACUDnxCLULSEBGGpx6jMCOTk5snjxYvPnZs2aSWxsrONl/KdNs2zZ8eGypYGMAVtYXXVTxoCrwmVLYxkDtrC65qbE3zWhsq2hjAHbaF1zY8aAa0JlW0PdOAby8/Nlx44dxuSII46QunXr2ubDjZ0rQALQubGhZQ4TYONUhwUkDM1hDIQB3WFVMgYcFpAwNIcxEAZ0B1VJ/B0UjDA1hTEQJngHVcsYcFAwwtQUxkCY4Km21gIkAGtNyA0iRYAHfaREuuJ+MgYYA4wBxgBjILLHAPGP7Phr7xkDjAHGAGOAMcAYcKsACUC3Ro52h1yAB33IyR1XIWPAcSEJeYMYAyEnd1yFjAHHhSSkDSL+IeV2ZGWMAUeGJaSNYgyElNuRlTEGHBkWGhWEAAnAIJC4BAF+4ssYYAwwBhgDjAHGAGOAlz7GAGOAMcAYYAwwBhgDbhUgAejWyNHukAvwoA85ueMqZAw4LiQhbxBjIOTkjquQMeC4kIS0QcQ/pNyOrIwx4MiwhLRRjIGQcjuyMsaAI8NCo4IQIAEYBBKXIMCsD8YAY4AxwBhgDDAGGAO89DEGGAOMAcYAY4AxwBhwqwAJQLdGjnaHXIAHfcjJHVchY8BxIQl5gxgDISd3XIWMAceFJKQNIv4h5XZkZYwBR4YlpI1iDISU25GVMQYcGRYaFYQACcAgkLgEAWZ9MAYYA4wBxgBjgDHAGOCljzHAGGAMMAYYA4wBxoBbBUgAujVytBsBBBBAAAEEEEAAAQQQQAABBBBAAIEgBEgABoHEJQgggAACCCCAAAIIIIAAAggggAACCLhVgASgWyNHuxFAAAEEEEAAAQQQQAABBBBAAAEEEAhCgARgEEhcggACCCCAAAIIIIAAAggggAACCCCAgFsFSAC6NXK0GwEEEEAAAQQQQAABBBBAAAEEEEAAgSAESAAGgcQlCCCAAAIIIIAAAggggAACCCCAAAIIuFWABKBbI0e7EUAAAQQQQAABBBBAAAEEEEAAAQQQCEKABGAQSFyCAAIIIIAAAggggAACCCCAAAIIIICAWwVIALo1crQbAQQQQAABBBBAAAEEEEAAAQQQQACBIARIAAaBxCUIIIAAAggggAACCCCAAAIIIIAAAgi4VYAEoFsjR7sRQAABBBBAAAEEEEAAAQQQQAABBBAIQoAEYBBIXBKZAtu3b5cFCxaYXwsXLjS/du3aZTCuvPJKGT9+fGTCRFCvf/75Z5k8ebL8+OOPsnTpUtmxY4fExcVJ69at5YQTTpBrrrlGTjzxxAgSiayuZmRkmPjr//s6FjZt2mTGQHZ2tiQnJ0uPHj1k6NChZhw0adIksnDordx7770ybty4UomZM2fKySefjIwHBaKiooLq1YABA2TWrFlBXctF7hVITU2Vt956SyZNmiTr16+XzMxMadasmXTo0EEGDhwoF110kRx++OHu7SAtP0hAn+2zZ8+ulgz/JlSLyzUX5+bmyv/7f/9PPvvsM1m0aJHs3r3bvBu0adNGjj/+eLnuuuvM7xQEnCpAAtCpkaFdYReo7Bt+EoBhD4/tDTjppJPkhx9+qLKeK664Qv773/9KfHx8lddygbsEvv32Wzn11FOrbHTTpk3l/fffl9NPP73Ka7nAGwK///679OvXT/Lz80kAeiOklfaCBGAEBDnILr744osyatQo2bdvX4WfuOOOO+S5554L8o5c5gaB6iYAo6OjRRPFmhSieEdAE/7Dhg2TJUuWVNqp2267TZ5//nkJ9t8O7wjREzcIkAB0Q5RoY1gE/B/a7dq1k27dusn06dNNW0gAhiUkIa30kEMOkTVr1pjZfhdeeKH0799fdBwUFBTIvHnz5OmnnzYzwrSMGDFCPvzww5C2j8rsF9AE4N///nczo6Nv376SkpIirVq1ksLCQtm4caN8/vnnMmHCBDMmNAGss4V79eplf8OoIawCGv9jjz3WzAxt3ry56GxxLcz2CGtYbK3c9/3ATTfdJDfffHOFdSUlJUnHjh1tbQs3D5/AmDFj5MEHHzQN6NKli5npoz8IaNiwoVkh8ttvv8kXX3whxxxzjDzzzDPhayg1Wy6wbt26SpO+WqGuFLn44otN3frDQ987g+WN4YZhEcjLy5MjjzyyNPnXs2dPufvuu6Vr165mFrCuFtJ3A98PBx577DG57777wtJWKkWgMgESgIwPBCoQGD16tPnGTn+1aNFC/vrrr9Jv7EkAen/YDB8+XHR23/nnny8xMTEHdXjnzp1mGfDKlSvN13RpiM4apHhHQBN7gWLv38Mvv/xSzj33XPNX+rsmBCneFtCZPXfddZf5oZDGXL/J10IC0Ltx9yUA9fuChx56yLsdpWcVCnz33XcyePBg83X93uDNN980y/4CFV0iyKqAyBtM/ttCvPfee3LZZZdFHoKHe6w/9NUJAVqOO+44s0qo/PeIv/zyi/maJgt1qxjdNiY2NtbDKnTNjQIkAN0YNdocFgESgGFhd3SlEydOlDPPPNO0Uaf7v/DCC45uL42zR0ATQStWrBBdCqzf7FG8K6BLug477DDZu3ev2etNk34PP/wwCUDvhtz0jASgxwNcRfd01q8+51etWmVmeeuesLzUR/aYKN97HSO6SkRXhtSrV0+2bdsmiYmJIHlIQGf7Pfvss6ZHX331Ven3/+W7eN5555mZwFp0j8AjjjjCQwp0xQsCJAC9EEX6EBIBEoAhYXZVJTrNX7/R06KHQeiG4JTIE9BZwvpCqGNBl4FQvCugCX9N/PtmgetsMBKA3o23r2ckAL0f48p6OHXqVDnjjDPMJbrdh277QUHAX+Cbb76R0047zfzVVVddJe+88w5AHhO49dZb5eWXXza9+vPPP80PAwOVkSNHylNPPWW+pN8b6hYyFAScJEAC0EnRoC2OFiAB6OjwhKVxevKX7/RXTQzoTwQpkSWgM//0tEc9DOKoo44y+8JRvCnw6aefmv2dGjduXDrjkwSgN2NdvlckACMjzhX1Uk96f/vtt81M0PT0dKlfv765VL8H0L3/9PsAfS5QIlfg8ssvN4eBaZkxY4bZO5jiLQE9AOj22283nQpmBqA+L9LS0qRBgwbegqA3rhcgAej6ENKBUAmQAAyVtHvq0Sn+OtVfyz//+U954okn3NN4WlpjgaysLLPM5+uvv5Zx48aZpT5a9Jv/v/3tbzW+Lx90roB+E9+9e3fZunWrOfX72muvNY0lAejcmFnZMl8CsEePHlJUVGT2BNa9n1q2bCnHH3+8mfHDC7+V4s66l8700QMe9ICXtWvXmlmAuvenzgLyFd+hILodSJ06dZzVAVpjq4BuCaHPAl0V0r59e9EDQzj91VbysNxc9/7u3LmzZGRkmD3Ade/v8nsA6kFAekiY7gOq3w/6ksJhaTCVIlCBAAlAhgYCQQqQAAwSKkIu0/1edKNfPflVC9P8vR348ePHy9VXX11hJ/Wkt7Fjx/JNv0eHwfXXX28Sf/pNv2787Xu5IwHo0YCX61YwL/PnnHOO6HNCT4SleEdA/63Xwz70d93uQf/dr2y/X00I63YgegAAJTIE3n33XfNDAC0PPPCA6GnRFG8K6Mw/3QJAfxCsJwLfeeed5kRwTQLPmTPHnAKsW8H06dNHJk+ebA6RpCDgNAESgE6LCO1xrAAJQMeGJiwN03/k77nnHlO3zgL83//+F5Z2UGloBCpKAPbu3VveeOMN82JI8aaAJvwGDBhgftKvP93XJd++QgLQmzEv36ukpCQ566yzZNCgQeYwCN3vUw/80Rkgr732mlkGqkXHie4FVtHpsJGh5a1e7tmzp3R5b926dSUnJ0datWolTz75pNn7V/9Ot37QE2Dnz59vOs+J8N4aA1X1Rp8LuuxXi24LogkhincFli9fbhJ9b731lpkR7l804Tdq1Ci57rrrOATGu0PA9T0jAej6ENKBUAmQAAyVtPPr0Ze+wYMHm33fmjdvLosXLza/U7wroEtAN27caDqYnZ0ta9asEd0TTpeB65KQ5557ToYPH+5dgAjtmS7j0VM/9Rt+3dhbl3z7FxKAkTEw9P//imZ06RYAekCEJoe1PP/886X7REWGjrd7qc/9lJSU0k7qya6//vqrdO3atUzH9d8FnR34xx9/mL/XZOAxxxzjbRx6Z74v0GW/OkNUl37OmzcPFQ8L6PcE+u/+m2++aX4IFKjoftAPPvig+aERBQEnCpAAdGJUaJMjBUgAOjIsIW/UkiVLpH///qKzAvQn/9OmTZOTTjop5O2gQmcIvPfee+ZEWF0iqD8N9i0DckbraEVtBXwJvnbt2pk9wHQmGAnA2qp67/O6L5zODMzLy5NDDjlEVq1a5b1ORmiPdN+vZs2alfZeDwHQJG+gokt/fT8Iuuuuu+SZZ56JULXI6fbjjz9uZnxpefXVV+XGG2+MnM5HWE91j0f9YY+uCtAVAf/4xz/M1jCdOnUyM4N/+ukn+c9//iM//vij+Z5QTwK+++67I0yJ7rpBgASgG6JEGx0hu6p3pgAAGVBJREFUQALQEWEIayN0Y+cTTzxRNm/ebP7x12W/Z599dljbROXhF9CTYXU2oCaHUlNTOQ0y/CGxpAU6609n/+lP/P/v//4v4E/zmQFoCbUnbjJs2DCz55MWPSSodevWnuhXpHdi//795od9vjJx4kTRWAcqmgTQE4J1dYB+r6CJAoq3BXwHxOjBL1u2bJFGjRp5u8MR3DtdBaBJPS26LYz+8Ld80f/3TzvtNJk5c6ZER0eb2cL6fQQFAScJkAB0UjRoi6MFSAA6Ojy2N06TfjrzT2d66E/29B//K664wvZ6qcD5AnoipO/03w8++EAuvfRS5zeaFlYpcMMNN5j9HfWn+48++mjA6z///PPS/T91yY+eEqvlzDPPPGi2YJUVcoGrBfxfDvVwKPYFdXU4yzRet/jwLffTJb49e/assHO6P6CeFq5LhPWHCBTvCujhb77/z88//3zRfw8o3hTQvf6aNm0qu3fvNns86l6PFRU9DER/AKBFDwl59tlnvYlCr1wrQALQtaGj4aEWIAEYanHn1KdLgHRzd10CqOWll16SW265xTkNpCVhFdBN//Unvlr0JGDfcqCwNorKay2gy7n1dMeaFJ0t3KFDh5p8lM+4VOCf//ynORhCCwlAlwaxgmYPHDhQZs2aZb6qM3r09M+Kii9ZqDPD/vzzT29B0JsyAroc/MUXXzR/p6fD6g9+KN4U0KS+Jve16KqPjz/+uMKO6kzghIQE8/UhQ4bIlClTvIlCr1wrQALQtaGj4aEWIAEYanFn1Jeeni6nnHKK+aZfi+73oqf9URDwCfifEPzCCy/IbbfdBo4HBEgAeiCIIeyC7v2me8Bp0YMB2rRpE8LaqcpOgdGjR5u9vbToLC+d7RWoZGRkmMNidLaQ/lBI9wimeFNA9/vU/8d1ZqjuEamrRGJjY73ZWXol/nuBVjXbMzMzUxo0aGDU9N+Fr7/+GkEEHCVAAtBR4aAxThYgAejk6NjTtqysLPNNvE7n1/LAAw/ImDFj7KmMu7pWwH/vL9335eSTT3ZtX2h49QTYA7B6Xl69Wmd86iEgul+kngq+evVqr3Y1Ivu1aNGi0n28dLuH999/P6CDzhj2HQT1yCOPyL/+9a+I9IqETuuMP98e0HfccYc899xzkdDtiO2jnvKs+ztqkl/3d12/fn2FCV/dJ9Q3G1R/IKw/GKYg4CQBEoBOigZtcbQACUBHh8fyxumLnP4DPn36dHNvvsGznNjxN9SZfZdcckmZDeDLN1r3dvGd8taxY0dz+qceEEOJDAESgN6Ps87e0JMfK5rds23bNvP13377zWA8/fTTnPzowWExdOhQs5RPN/bX7wsGDRpUppe6RFD3g9PZn/Hx8Wa/YGaBenAglHTpggsuKN3/9ZdffpE+ffp4t7P0zAjo/s4fffSR+bP+268zg8uXPXv2mP3/fFsG6Sxg3xYxMCLgFAESgE6JBO1wnIAe4+7/U3yd/q2bfGs54YQT5Nprry3TZt9PfR3XERpUIwGd4j9hwgTzWV0CrD/d1cM/Kir6Db9uDEzxjoDu4aZLOXQs6Dd0OrOnXr165u8WL14seuCHb3aoxl+X/w0ePNg7APSkSgESgFUSuf4CfQ7ocj99Dhx33HFmb0fd30m/J9B94V5//XXzZy36nPj2229FTwSleEtg5cqVcswxx0haWpr5oZBu7q9JQR0LuufjY489ZpJ/Wp544gnRPSEp3hTQJI/uB6cnRB9++OHm+wGK9wX0UJ++ffuKrg7SopME9CRgPShM9/2bP3++eVdITU01X9cfEui/BxQEnCZAAtBpEaE9jhGo7v5PuucLxTsClSX7AvWyffv2orNEKd4R0Bd9XeZRVWnbtq28/fbbcuqpp1Z1KV/3mAAJQI8FNEB3gn0OaILwzTffNHvAUbwpoD8Y1plfOuszUNHvG3SrEF3+S/GuwGuvvSY33XST6eC4ceNKJwd4t8f0zCegCb0RI0aU/tCnIhmdOKD7heqyYQoCThMgAei0iNAexwiQAHRMKMLSEBKAYWF3VKUrVqwws/p0lp/OBtaXvl27dpkZH3rSY+/evc0GzxdddJEkJiY6qu00JjQCJABD4xzOWmbPni36a968eWZZp872032gdDZwSkqKHH/88WYWiM4OpHhfQP8N0JNfv/zyS9G9H3W7EJ0Npnu/6n5flZ0Q7H2dyOihrgKaO3eu2e5DZ3vpnnCUyBHQZ8Bbb71ltgRYsmSJmRWsW0S0bNnSbAOgS4XPOuusSlcNRY4WPXWiAAlAJ0aFNiGAAAIIIIAAAggggAACCCCAAAIIIGCRAAlAiyC5DQIIIIAAAggggAACCCCAAAIIIIAAAk4UIAHoxKjQJgQQQAABBBBAAAEEEEAAAQQQQAABBCwSIAFoESS3QQABBBBAAAEEEEAAAQQQQAABBBBAwIkCJACdGBXahAACCCCAAAIIIIAAAggggAACCCCAgEUCJAAtguQ2CCCAAAIIIIAAAggggAACCCCAAAIIOFGABKATo0KbEEAAAQQQQAABBBBAAAEEEEAAAQQQsEiABKBFkNwGAQQQQAABBBBAAAEEEEAAAQQQQAABJwqQAHRiVGgTAggggAACCCCAAAIIIIAAAggggAACFgmQALQIktsggAACCCCAAAIIIIAAAggggAACCCDgRAESgE6MCm1CAAEEEEAAAQQQQAABBBBAAAEEEEDAIgESgBZBchsEEEAAAQQQQAABBBBAAAEEEEAAAQScKEAC0IlRoU0IIIAAAggggAACCCCAAAIIIIAAAghYJEAC0CJIboMAAggggAACCCCAAAIIIIAAAggggIATBUgAOjEqtAkBBBBAAAEEEEAAAQQQQAABBBBAAAGLBEgAWgTJbRBAAAEEEEAAAQQQQAABBBBAAAEEEHCiAAlAJ0aFNiGAAAIIIIAAAggggAACCCCAAAIIIGCRAAlAiyC5DQIIIIAAAggggEDlAh06dJD169fLlVdeKePHj4cLAQQQQAABBBBAIEQCJABDBE01CCCAAAIIIIBApAuQAIz0EUD/EUAAAQQQQCBcAiQAwyVPvQgggAACCCCAQIQJkACMsIDTXQQQQAABBBBwjAAJQMeEgoYggAACCCCAAALeFiAB6O340jsEEEAAAQQQcK4ACUDnxoaWIYAAAggggAACnhIgAeipcNIZBBBAAAEEEHCRAAlAFwWLpiKAAAIIIIAAAm4WIAHo5ujRdgQQQAABBBBwswAJQDdHj7YjgAACCCCAQEgEHnroIXn44YdNXUVFRZKTkyMvvviifPTRR7Jq1Srz9927d5crrrhCbrzxRomNja11u37++Wfp16+fuc+UKVNkyJAhB93z5JNPltmzZ5u/f/bZZ+XOO+886Bptz+uvvy4tW7aULVu2BGzX119/Le+++67Mnz9fduzYIfXq1ZMuXbrI2WefLbfeeqv570BFT/K9+uqrzZfWrVsnrVq1kldffVU+/vhjWb16tezatUtGjx4t6qclmATg2LFj5YEHHjDXn3vuuca4Tp06ZarPzs6W//73v/Lll1/KkiVLZM+ePZKcnCy9e/eWESNGmDjExMQEbHPbtm1l06ZNcs0118ibb74pCxculJdeesk4qk9BQYHk5+eXflbvrV+fNGmSrFixQvbu3Wvqat68uXTt2lVOO+00Of/886VZs2a1jjk3QAABBBBAAAEE7BIgAWiXLPdFAAEEEEAAAc8I+CcAt27dapJxv//+e8D+nXnmmSYxFR0dXav+ayKqcePGkpGRIffee688/vjjZe63f/9+k4jSZKQWTdZpveWLJiaXL18uF198sUnM+Rf97KWXXipffPFFhW1t3bq1SX5pcq188U8AaiLtuuuuO8gl2ASgJlZHjhwpTz/9tKlGE4ua5CufyPvtt9/knHPOkdTU1ArbfOyxx8pXX30VMCnnnwDUPmnSVK19RevzJQA1uTh48GDRmFdWNOmpiVYKAggggAACCCDgVAESgE6NDO1CAAEEEEAAAccI+CcAjz/+eNHZeZrw0WSfJul0Ztgjjzwiy5YtM21+7bXX5IYbbqh1+4cNGyaTJ0+WY445xszO8y86Y01nAPpKo0aNZOfOnWUSj9u2bTMz/7S88sorctNNN5W5hyYFP/30U/N3vXr1kn/84x9mJuPu3btNslATfJqY0z4uWrRI2rRpU+bz/gnAnj17yuLFi+Xyyy83yUatV5N0OnvvjDPOMJ+raAagJuA0efjOO++Y6+666y6TCIyKiipT38qVK+Woo46SzMxMadiwoZmdqLMkNamnsw01AfrGG2+YhJ7GSY3Kz8b0JQAPO+wwEy9tk/a7b9++kpeXJ3PmzDEJVy2aIPzjjz8kLi7OxFMTvy1atJDCwkLZsGGDiYkmT++55x4SgLUe7dwAAQQQQAABBOwUIAFopy73RgABBBBAAAFPCPgnADUZNH369DLJN+2kJs169OghmnTTZJgmjmpbxo0bZ5JRmsTSpaj+S3H/85//mOW1OkNNk1a6LFZnx/nP1NPknibjtCxdutQk93xFZ/UNHz7c/OegQYNMojE+Pr5Mk3UG3vXXX2/+7qKLLpJPPvmkzNf9E4D6BV1Sq0trKyqBEoA6k1GX7fpmIWq/HnzwwYC30EToggULTBJw2rRpJjFZvmi/zjrrLJOke/vtt0uXKPuu8yUA9b816alJQk0mli+abNQlvloqm+GnCdK0tDTRBCwFAQQQQAABBBBwqgAJQKdGhnYhgAACCCCAgGME/BOAd999d+ky1fINHDVqlFmqqzPXNGEXKLFUnU5pskuTXlrK7wN4yimnyMyZM+XJJ580yTv9c/l9AG+++WaTvNL96jQx6V+GDh1q7qkJzTVr1khKSkrApp166qny7bffmiSkzujTff58xT8BqO357rvvKu1e+QSg7qeny3n1c2qm+yrecsstAe+h/dM6tJRPZpb/gO7JN2HCBDnppJNK90j0XeOfAJw7d64cd9xxAev7/vvvZcCAAeZruhRYk7sUBBBAAAEEEEDArQIkAN0aOdqNAAIIIIAAAiET8E8A/vLLL9KnT5+AdX/++edy4YUXmq+Vn41Xk8bqXnQ6y02XvPrvA5ibm2v2/9NZf7r3niYAdTZg+X0AdZmrJsu0Tb6lvtoOva8mJ7OyskSXGU+cOLHC5vnPIvzwww/NbD1f8U8AvvXWW/L3v/+90m76JwB1ia8mITXJqclFPYRE9yOsqOiy4Oeee060T3/++Wel9Tz//PNmbz9dfqx99N+P0ZcA7Nixo6xdu7bC++jhLnoQihbdm1BnY1IQQAABBBBAAAG3CpAAdGvkaDcCCCCAAAIIhEzAPwG4b98+SUxMDFj3jBkzzHJaLTqDrH///rVuo+6fN3Xq1DL7AP7www9mdpsm8XTvO10CrLPV/PcB1NN8deafFj3F1n9mnf/y1sqW3Opn169fb/bJ03L//ffLo48+Wtqn8oeA6NLcyoovAagn527cuNEkJxMSEuSzzz4zicjKilr++OOP1fZUH/+lwr4EYEWHpvhXoPsIzps3z/yVJh51ZqHuu6izMisaA9VuIB9AAAEEEEAAAQRCIEACMATIVIEAAggggAAC7hbwTwDqnm8VlVmzZsnAgQPNl3XJqv8hHTUV0CXFurTYfx/AMWPGmH3yfLP3/E8E9s089J+NqDPmNIHlK3p4hW/pa1UHlui969ataz6qB5/okmJf8U8Arl69Wjp37lxpN30JQP+LdGadzrCrquh+fJq4rG7Rwzo06ecrvgTgVVddVXroSEX31CTlBRdcID/99FOZS3TZtPr97W9/kyuvvNLMNKQggAACCCCAAAJOFiAB6OTo0DYEEEAAAQQQcIRAOBOA/sk63z6Avn35dP8/PYFWiyYeNQHp2wfwtttuMzP/mjVrZvb/8z9R1/+er7/+eulBH4Gwg00Arlu3rnSmYEVB8yUATzjhBNGEobZLZ9Jpv3RGY2XlkEMOMXsV6vJrXS4cbOnWrVuZk4B9CUA9rEQPLamqaMJX90DUQ0r0wBA9Odg/CXzooYeaJdjaPgoCCCCAAAIIIOBUARKATo0M7UIAAQQQQAABxwiEMwGo+/Xpfn+69Fj3AXzkkUfMf+vedrr/n2/Z7cMPPyzaTt/S1iOOOMLslafLVnU2oH+xYwlwdRKAOmtOZ/1p0lKXKuvpxrrMWRODFRXfCcA6E3D58uU1HhvVTQCWr0iXFH/zzTeiiVNNuGrRGGgsKAgggAACCCCAgFMFSAA6NTK0CwEEEEAAAQQcIxDOBKAinH766TJ9+nSz99wzzzxjEmW+/f9iYmKMk85O0yXHug/gihUrpEWLFmam2gsvvCA6G9C/VOcQEN2f76KLLjIfr+wQkOomAHX58OLFi83Jvjt37pT69evLtGnTKjyVV5cfa9JNZzLqzEGd2ViTUtsEoH+dugRbZ/9p0QNF9GARCgIIIIAAAggg4EQBEoBOjAptQgABBBBAAAFHCYQ7ATh27Fh54IEHzFJWnTn32GOPHXR6r/8+gLo/oM4U1LJo0SLR2YDli57Aq0tv4+PjzdJa/33y/K/1JR+17tTUVGnVqlXpl/33AKxJAlBv9Mcff5gk4O7du6VBgwZmdt3RRx99UHs10eY7KORf//pXaf+qO1CsTABqMvYf//iHaYKeZtyvX7/qNofrEUAAAQQQQACBkAiQAAwJM5UggAACCCCAgJsFwp0AnDt3bunyWJ35l56eLv77//lsdQagzgT0XdOkSROzxNZ//z/ftZMmTZLhw4eb/9RTeSdOnCh6uIV/efvtt0X3ytOiswA/+eSTMl+3IgGoN9SDS/T05D179pi265575U8U1tmM+ne//vqrSYRqW84777wKh5UmFvUQj/KnCwebAPTV07Nnz4B1aHv03ppEjY6Oli1btpSeuuzmsU7bEUAAAQQQQMCbAiQAvRlXeoUAAggggAACFgqEOwGYl5dXuu+fr1v++//5/s6/nfp35557rkyYMKFCCU3q6RJfLXq4xt133y16aIYm4j7++GPRBKAmuho3bmxmErZp08aWBKDe9JdffpHBgwdLWlqaWcb83XffyZFHHlmmvlWrVpnZgXqNJjXPOussk5jUAzh0KfT27dtNgvDrr782J/fqnol6irJ/CTYBqAeEXHfddaa+M88807SlZcuWorHQ5b5qo23UEmifRQuHH7dCAAEEEEAAAQRqLUACsNaE3AABBBBAAAEEvC4Q7gSg+vpO/tU/l9//z+evh1LowRq+8txzz8kdd9xRYXhycnLk0ksvNSfcVlRat24tOluwd+/eB11i1QxA3411Ga32MyMjwyQdZ8yYIb169SpTr57Cqwk3/b2q8uijj8r9999f5rLqJgCrquPEE0+Ur776yiQtKQgggAACCCCAgFMFSAA6NTK0CwEEEEAAAQQcI+CEBOCYMWNE9/bToktPdclu+aIJPT0hWPcD1PL7778flEALhKoz5jSZN3/+fHMgR1JSknTp0kXOOeccufXWW80pvYGK1QlArUPboEuSMzMzpWnTpiYJWH4Pw4KCAjNDUWc36kxIXeZcWFgouuRZZzBqUk5nP5afQaj3DzYBqIY6w0/3JNQ6Nm/ebA4f0QNUmjdvLn379pVLLrnEzEDUJcAUBBBAAAEEEEDAyQIkAJ0cHdqGAAIIIIAAAggggAACCCCAAAIIIIBALQVIANYSkI8jgAACCCCAAAIIIIAAAggggAACCCDgZAESgE6ODm1DAAEEEEAAAQQQQAABBBBAAAEEEECglgIkAGsJyMcRQAABBBBAAAEEEEAAAQQQQAABBBBwsgAJQCdHh7YhgAACCCCAgKsFNm3aJHv27Kl2H/QQjo4dO1b7c3wAAQQQQAABBBBAAIFAAiQAGRcIIIAAAggggIBNAldddZW8++671b77gAEDZNasWdX+HB9AAAEEEEAAAQQQQIAEIGMAAQQQQAABBBAIoQAJwBBiUxUCCCCAAAIIIIBAhQLMAGRwIIAAAggggAACCCCAAAIIIIAAAggg4GEBEoAeDi5dQwABBBBAAAEEEEAAAQQQQAABBBBAgAQgYwABBBBAAAEEEEAAAQQQQAABBBBAAAEPC5AA9HBw6RoCCCCAAAIIIIAAAggggAACCCCAAAIkABkDCCCAAAIIIIAAAggggAACCCCAAAIIeFiABKCHg0vXEEAAAQQQQAABBBBAAAEEEEAAAQQQIAHIGEAAAQQQQAABBBBAAAEEEEAAAQQQQMDDAiQAPRxcuoYAAggggAACCCCAAAIIIIAAAggggAAJQMYAAggggAACCCCAAAIIIIAAAggggAACHhYgAejh4NI1BBBAAAEEEEAAAQQQQAABBBBAAAEESAAyBhBAAAEEEEAAAQQQQAABBBBAAAEEEPCwAAlADweXriGAAAIIIIAAAggggAACCCCAAAIIIEACkDGAAAIIIIAAAggggAACCCCAAAIIIICAhwVIAHo4uHQNAQQQQAABBBBAAAEEEEAAAQQQQAABEoCMAQQQQAABBBBAAAEEEEAAAQQQQAABBDwsQALQw8GlawgggAACCCCAAAIIIIAAAggggAACCJAAZAwggAACCCCAAAIIIIAAAggggAACCCDgYQESgB4OLl1DAAEEEEAAAQQQQAABBBBAAAEEEEDg/wO58u9ga0qqggAAAABJRU5ErkJggg==\" width=\"640\">"
      ],
      "text/plain": [
       "<IPython.core.display.HTML object>"
      ]
     },
     "metadata": {},
     "output_type": "display_data"
    },
    {
     "data": {
      "text/plain": [
       "<matplotlib.axes._subplots.AxesSubplot at 0x7ff5d849f828>"
      ]
     },
     "execution_count": 17,
     "metadata": {},
     "output_type": "execute_result"
    }
   ],
   "source": [
    "df.groupby([\"n_workers\"]).mean()[[\"time\"]].plot()"
   ]
  },
  {
   "cell_type": "code",
   "execution_count": 21,
   "metadata": {},
   "outputs": [
    {
     "name": "stderr",
     "output_type": "stream",
     "text": [
      "/home/clausen/.virtualenvs/libertem/lib/python3.6/site-packages/IPython/core/interactiveshell.py:2961: FutureWarning: 'n_workers' is both an index level and a column label.\n",
      "Defaulting to column, but this will raise an ambiguity error in a future version\n",
      "  exec(code_obj, self.user_global_ns, self.user_ns)\n"
     ]
    }
   ],
   "source": [
    "df2 = pd.merge(\n",
    "    df[df.stackheight == 4].groupby(\"n_workers\")[\"n_workers\", \"time\"].mean(),\n",
    "    df[df.stackheight == 8].groupby(\"n_workers\")[\"n_workers\", \"time\"].mean(),\n",
    "    on=\"n_workers\",\n",
    ")"
   ]
  },
  {
   "cell_type": "code",
   "execution_count": 22,
   "metadata": {},
   "outputs": [
    {
     "data": {
      "text/html": [
       "<div>\n",
       "<style scoped>\n",
       "    .dataframe tbody tr th:only-of-type {\n",
       "        vertical-align: middle;\n",
       "    }\n",
       "\n",
       "    .dataframe tbody tr th {\n",
       "        vertical-align: top;\n",
       "    }\n",
       "\n",
       "    .dataframe thead th {\n",
       "        text-align: right;\n",
       "    }\n",
       "</style>\n",
       "<table border=\"1\" class=\"dataframe\">\n",
       "  <thead>\n",
       "    <tr style=\"text-align: right;\">\n",
       "      <th></th>\n",
       "      <th>n_workers</th>\n",
       "      <th>time_x</th>\n",
       "      <th>time_y</th>\n",
       "    </tr>\n",
       "  </thead>\n",
       "  <tbody>\n",
       "    <tr>\n",
       "      <th>0</th>\n",
       "      <td>1</td>\n",
       "      <td>3.186350</td>\n",
       "      <td>2.513251</td>\n",
       "    </tr>\n",
       "    <tr>\n",
       "      <th>1</th>\n",
       "      <td>2</td>\n",
       "      <td>1.776460</td>\n",
       "      <td>1.408210</td>\n",
       "    </tr>\n",
       "    <tr>\n",
       "      <th>2</th>\n",
       "      <td>3</td>\n",
       "      <td>1.407234</td>\n",
       "      <td>1.147491</td>\n",
       "    </tr>\n",
       "    <tr>\n",
       "      <th>3</th>\n",
       "      <td>4</td>\n",
       "      <td>1.193791</td>\n",
       "      <td>0.941932</td>\n",
       "    </tr>\n",
       "    <tr>\n",
       "      <th>4</th>\n",
       "      <td>5</td>\n",
       "      <td>1.125550</td>\n",
       "      <td>0.908557</td>\n",
       "    </tr>\n",
       "    <tr>\n",
       "      <th>5</th>\n",
       "      <td>6</td>\n",
       "      <td>1.029072</td>\n",
       "      <td>0.839415</td>\n",
       "    </tr>\n",
       "    <tr>\n",
       "      <th>6</th>\n",
       "      <td>7</td>\n",
       "      <td>1.004114</td>\n",
       "      <td>0.826736</td>\n",
       "    </tr>\n",
       "    <tr>\n",
       "      <th>7</th>\n",
       "      <td>8</td>\n",
       "      <td>0.989971</td>\n",
       "      <td>0.811922</td>\n",
       "    </tr>\n",
       "  </tbody>\n",
       "</table>\n",
       "</div>"
      ],
      "text/plain": [
       "   n_workers    time_x    time_y\n",
       "0          1  3.186350  2.513251\n",
       "1          2  1.776460  1.408210\n",
       "2          3  1.407234  1.147491\n",
       "3          4  1.193791  0.941932\n",
       "4          5  1.125550  0.908557\n",
       "5          6  1.029072  0.839415\n",
       "6          7  1.004114  0.826736\n",
       "7          8  0.989971  0.811922"
      ]
     },
     "execution_count": 22,
     "metadata": {},
     "output_type": "execute_result"
    }
   ],
   "source": [
    "df2"
   ]
  },
  {
   "cell_type": "code",
   "execution_count": 23,
   "metadata": {},
   "outputs": [
    {
     "data": {
      "application/javascript": [
       "/* Put everything inside the global mpl namespace */\n",
       "window.mpl = {};\n",
       "\n",
       "\n",
       "mpl.get_websocket_type = function() {\n",
       "    if (typeof(WebSocket) !== 'undefined') {\n",
       "        return WebSocket;\n",
       "    } else if (typeof(MozWebSocket) !== 'undefined') {\n",
       "        return MozWebSocket;\n",
       "    } else {\n",
       "        alert('Your browser does not have WebSocket support.' +\n",
       "              'Please try Chrome, Safari or Firefox ≥ 6. ' +\n",
       "              'Firefox 4 and 5 are also supported but you ' +\n",
       "              'have to enable WebSockets in about:config.');\n",
       "    };\n",
       "}\n",
       "\n",
       "mpl.figure = function(figure_id, websocket, ondownload, parent_element) {\n",
       "    this.id = figure_id;\n",
       "\n",
       "    this.ws = websocket;\n",
       "\n",
       "    this.supports_binary = (this.ws.binaryType != undefined);\n",
       "\n",
       "    if (!this.supports_binary) {\n",
       "        var warnings = document.getElementById(\"mpl-warnings\");\n",
       "        if (warnings) {\n",
       "            warnings.style.display = 'block';\n",
       "            warnings.textContent = (\n",
       "                \"This browser does not support binary websocket messages. \" +\n",
       "                    \"Performance may be slow.\");\n",
       "        }\n",
       "    }\n",
       "\n",
       "    this.imageObj = new Image();\n",
       "\n",
       "    this.context = undefined;\n",
       "    this.message = undefined;\n",
       "    this.canvas = undefined;\n",
       "    this.rubberband_canvas = undefined;\n",
       "    this.rubberband_context = undefined;\n",
       "    this.format_dropdown = undefined;\n",
       "\n",
       "    this.image_mode = 'full';\n",
       "\n",
       "    this.root = $('<div/>');\n",
       "    this._root_extra_style(this.root)\n",
       "    this.root.attr('style', 'display: inline-block');\n",
       "\n",
       "    $(parent_element).append(this.root);\n",
       "\n",
       "    this._init_header(this);\n",
       "    this._init_canvas(this);\n",
       "    this._init_toolbar(this);\n",
       "\n",
       "    var fig = this;\n",
       "\n",
       "    this.waiting = false;\n",
       "\n",
       "    this.ws.onopen =  function () {\n",
       "            fig.send_message(\"supports_binary\", {value: fig.supports_binary});\n",
       "            fig.send_message(\"send_image_mode\", {});\n",
       "            if (mpl.ratio != 1) {\n",
       "                fig.send_message(\"set_dpi_ratio\", {'dpi_ratio': mpl.ratio});\n",
       "            }\n",
       "            fig.send_message(\"refresh\", {});\n",
       "        }\n",
       "\n",
       "    this.imageObj.onload = function() {\n",
       "            if (fig.image_mode == 'full') {\n",
       "                // Full images could contain transparency (where diff images\n",
       "                // almost always do), so we need to clear the canvas so that\n",
       "                // there is no ghosting.\n",
       "                fig.context.clearRect(0, 0, fig.canvas.width, fig.canvas.height);\n",
       "            }\n",
       "            fig.context.drawImage(fig.imageObj, 0, 0);\n",
       "        };\n",
       "\n",
       "    this.imageObj.onunload = function() {\n",
       "        fig.ws.close();\n",
       "    }\n",
       "\n",
       "    this.ws.onmessage = this._make_on_message_function(this);\n",
       "\n",
       "    this.ondownload = ondownload;\n",
       "}\n",
       "\n",
       "mpl.figure.prototype._init_header = function() {\n",
       "    var titlebar = $(\n",
       "        '<div class=\"ui-dialog-titlebar ui-widget-header ui-corner-all ' +\n",
       "        'ui-helper-clearfix\"/>');\n",
       "    var titletext = $(\n",
       "        '<div class=\"ui-dialog-title\" style=\"width: 100%; ' +\n",
       "        'text-align: center; padding: 3px;\"/>');\n",
       "    titlebar.append(titletext)\n",
       "    this.root.append(titlebar);\n",
       "    this.header = titletext[0];\n",
       "}\n",
       "\n",
       "\n",
       "\n",
       "mpl.figure.prototype._canvas_extra_style = function(canvas_div) {\n",
       "\n",
       "}\n",
       "\n",
       "\n",
       "mpl.figure.prototype._root_extra_style = function(canvas_div) {\n",
       "\n",
       "}\n",
       "\n",
       "mpl.figure.prototype._init_canvas = function() {\n",
       "    var fig = this;\n",
       "\n",
       "    var canvas_div = $('<div/>');\n",
       "\n",
       "    canvas_div.attr('style', 'position: relative; clear: both; outline: 0');\n",
       "\n",
       "    function canvas_keyboard_event(event) {\n",
       "        return fig.key_event(event, event['data']);\n",
       "    }\n",
       "\n",
       "    canvas_div.keydown('key_press', canvas_keyboard_event);\n",
       "    canvas_div.keyup('key_release', canvas_keyboard_event);\n",
       "    this.canvas_div = canvas_div\n",
       "    this._canvas_extra_style(canvas_div)\n",
       "    this.root.append(canvas_div);\n",
       "\n",
       "    var canvas = $('<canvas/>');\n",
       "    canvas.addClass('mpl-canvas');\n",
       "    canvas.attr('style', \"left: 0; top: 0; z-index: 0; outline: 0\")\n",
       "\n",
       "    this.canvas = canvas[0];\n",
       "    this.context = canvas[0].getContext(\"2d\");\n",
       "\n",
       "    var backingStore = this.context.backingStorePixelRatio ||\n",
       "\tthis.context.webkitBackingStorePixelRatio ||\n",
       "\tthis.context.mozBackingStorePixelRatio ||\n",
       "\tthis.context.msBackingStorePixelRatio ||\n",
       "\tthis.context.oBackingStorePixelRatio ||\n",
       "\tthis.context.backingStorePixelRatio || 1;\n",
       "\n",
       "    mpl.ratio = (window.devicePixelRatio || 1) / backingStore;\n",
       "\n",
       "    var rubberband = $('<canvas/>');\n",
       "    rubberband.attr('style', \"position: absolute; left: 0; top: 0; z-index: 1;\")\n",
       "\n",
       "    var pass_mouse_events = true;\n",
       "\n",
       "    canvas_div.resizable({\n",
       "        start: function(event, ui) {\n",
       "            pass_mouse_events = false;\n",
       "        },\n",
       "        resize: function(event, ui) {\n",
       "            fig.request_resize(ui.size.width, ui.size.height);\n",
       "        },\n",
       "        stop: function(event, ui) {\n",
       "            pass_mouse_events = true;\n",
       "            fig.request_resize(ui.size.width, ui.size.height);\n",
       "        },\n",
       "    });\n",
       "\n",
       "    function mouse_event_fn(event) {\n",
       "        if (pass_mouse_events)\n",
       "            return fig.mouse_event(event, event['data']);\n",
       "    }\n",
       "\n",
       "    rubberband.mousedown('button_press', mouse_event_fn);\n",
       "    rubberband.mouseup('button_release', mouse_event_fn);\n",
       "    // Throttle sequential mouse events to 1 every 20ms.\n",
       "    rubberband.mousemove('motion_notify', mouse_event_fn);\n",
       "\n",
       "    rubberband.mouseenter('figure_enter', mouse_event_fn);\n",
       "    rubberband.mouseleave('figure_leave', mouse_event_fn);\n",
       "\n",
       "    canvas_div.on(\"wheel\", function (event) {\n",
       "        event = event.originalEvent;\n",
       "        event['data'] = 'scroll'\n",
       "        if (event.deltaY < 0) {\n",
       "            event.step = 1;\n",
       "        } else {\n",
       "            event.step = -1;\n",
       "        }\n",
       "        mouse_event_fn(event);\n",
       "    });\n",
       "\n",
       "    canvas_div.append(canvas);\n",
       "    canvas_div.append(rubberband);\n",
       "\n",
       "    this.rubberband = rubberband;\n",
       "    this.rubberband_canvas = rubberband[0];\n",
       "    this.rubberband_context = rubberband[0].getContext(\"2d\");\n",
       "    this.rubberband_context.strokeStyle = \"#000000\";\n",
       "\n",
       "    this._resize_canvas = function(width, height) {\n",
       "        // Keep the size of the canvas, canvas container, and rubber band\n",
       "        // canvas in synch.\n",
       "        canvas_div.css('width', width)\n",
       "        canvas_div.css('height', height)\n",
       "\n",
       "        canvas.attr('width', width * mpl.ratio);\n",
       "        canvas.attr('height', height * mpl.ratio);\n",
       "        canvas.attr('style', 'width: ' + width + 'px; height: ' + height + 'px;');\n",
       "\n",
       "        rubberband.attr('width', width);\n",
       "        rubberband.attr('height', height);\n",
       "    }\n",
       "\n",
       "    // Set the figure to an initial 600x600px, this will subsequently be updated\n",
       "    // upon first draw.\n",
       "    this._resize_canvas(600, 600);\n",
       "\n",
       "    // Disable right mouse context menu.\n",
       "    $(this.rubberband_canvas).bind(\"contextmenu\",function(e){\n",
       "        return false;\n",
       "    });\n",
       "\n",
       "    function set_focus () {\n",
       "        canvas.focus();\n",
       "        canvas_div.focus();\n",
       "    }\n",
       "\n",
       "    window.setTimeout(set_focus, 100);\n",
       "}\n",
       "\n",
       "mpl.figure.prototype._init_toolbar = function() {\n",
       "    var fig = this;\n",
       "\n",
       "    var nav_element = $('<div/>')\n",
       "    nav_element.attr('style', 'width: 100%');\n",
       "    this.root.append(nav_element);\n",
       "\n",
       "    // Define a callback function for later on.\n",
       "    function toolbar_event(event) {\n",
       "        return fig.toolbar_button_onclick(event['data']);\n",
       "    }\n",
       "    function toolbar_mouse_event(event) {\n",
       "        return fig.toolbar_button_onmouseover(event['data']);\n",
       "    }\n",
       "\n",
       "    for(var toolbar_ind in mpl.toolbar_items) {\n",
       "        var name = mpl.toolbar_items[toolbar_ind][0];\n",
       "        var tooltip = mpl.toolbar_items[toolbar_ind][1];\n",
       "        var image = mpl.toolbar_items[toolbar_ind][2];\n",
       "        var method_name = mpl.toolbar_items[toolbar_ind][3];\n",
       "\n",
       "        if (!name) {\n",
       "            // put a spacer in here.\n",
       "            continue;\n",
       "        }\n",
       "        var button = $('<button/>');\n",
       "        button.addClass('ui-button ui-widget ui-state-default ui-corner-all ' +\n",
       "                        'ui-button-icon-only');\n",
       "        button.attr('role', 'button');\n",
       "        button.attr('aria-disabled', 'false');\n",
       "        button.click(method_name, toolbar_event);\n",
       "        button.mouseover(tooltip, toolbar_mouse_event);\n",
       "\n",
       "        var icon_img = $('<span/>');\n",
       "        icon_img.addClass('ui-button-icon-primary ui-icon');\n",
       "        icon_img.addClass(image);\n",
       "        icon_img.addClass('ui-corner-all');\n",
       "\n",
       "        var tooltip_span = $('<span/>');\n",
       "        tooltip_span.addClass('ui-button-text');\n",
       "        tooltip_span.html(tooltip);\n",
       "\n",
       "        button.append(icon_img);\n",
       "        button.append(tooltip_span);\n",
       "\n",
       "        nav_element.append(button);\n",
       "    }\n",
       "\n",
       "    var fmt_picker_span = $('<span/>');\n",
       "\n",
       "    var fmt_picker = $('<select/>');\n",
       "    fmt_picker.addClass('mpl-toolbar-option ui-widget ui-widget-content');\n",
       "    fmt_picker_span.append(fmt_picker);\n",
       "    nav_element.append(fmt_picker_span);\n",
       "    this.format_dropdown = fmt_picker[0];\n",
       "\n",
       "    for (var ind in mpl.extensions) {\n",
       "        var fmt = mpl.extensions[ind];\n",
       "        var option = $(\n",
       "            '<option/>', {selected: fmt === mpl.default_extension}).html(fmt);\n",
       "        fmt_picker.append(option)\n",
       "    }\n",
       "\n",
       "    // Add hover states to the ui-buttons\n",
       "    $( \".ui-button\" ).hover(\n",
       "        function() { $(this).addClass(\"ui-state-hover\");},\n",
       "        function() { $(this).removeClass(\"ui-state-hover\");}\n",
       "    );\n",
       "\n",
       "    var status_bar = $('<span class=\"mpl-message\"/>');\n",
       "    nav_element.append(status_bar);\n",
       "    this.message = status_bar[0];\n",
       "}\n",
       "\n",
       "mpl.figure.prototype.request_resize = function(x_pixels, y_pixels) {\n",
       "    // Request matplotlib to resize the figure. Matplotlib will then trigger a resize in the client,\n",
       "    // which will in turn request a refresh of the image.\n",
       "    this.send_message('resize', {'width': x_pixels, 'height': y_pixels});\n",
       "}\n",
       "\n",
       "mpl.figure.prototype.send_message = function(type, properties) {\n",
       "    properties['type'] = type;\n",
       "    properties['figure_id'] = this.id;\n",
       "    this.ws.send(JSON.stringify(properties));\n",
       "}\n",
       "\n",
       "mpl.figure.prototype.send_draw_message = function() {\n",
       "    if (!this.waiting) {\n",
       "        this.waiting = true;\n",
       "        this.ws.send(JSON.stringify({type: \"draw\", figure_id: this.id}));\n",
       "    }\n",
       "}\n",
       "\n",
       "\n",
       "mpl.figure.prototype.handle_save = function(fig, msg) {\n",
       "    var format_dropdown = fig.format_dropdown;\n",
       "    var format = format_dropdown.options[format_dropdown.selectedIndex].value;\n",
       "    fig.ondownload(fig, format);\n",
       "}\n",
       "\n",
       "\n",
       "mpl.figure.prototype.handle_resize = function(fig, msg) {\n",
       "    var size = msg['size'];\n",
       "    if (size[0] != fig.canvas.width || size[1] != fig.canvas.height) {\n",
       "        fig._resize_canvas(size[0], size[1]);\n",
       "        fig.send_message(\"refresh\", {});\n",
       "    };\n",
       "}\n",
       "\n",
       "mpl.figure.prototype.handle_rubberband = function(fig, msg) {\n",
       "    var x0 = msg['x0'] / mpl.ratio;\n",
       "    var y0 = (fig.canvas.height - msg['y0']) / mpl.ratio;\n",
       "    var x1 = msg['x1'] / mpl.ratio;\n",
       "    var y1 = (fig.canvas.height - msg['y1']) / mpl.ratio;\n",
       "    x0 = Math.floor(x0) + 0.5;\n",
       "    y0 = Math.floor(y0) + 0.5;\n",
       "    x1 = Math.floor(x1) + 0.5;\n",
       "    y1 = Math.floor(y1) + 0.5;\n",
       "    var min_x = Math.min(x0, x1);\n",
       "    var min_y = Math.min(y0, y1);\n",
       "    var width = Math.abs(x1 - x0);\n",
       "    var height = Math.abs(y1 - y0);\n",
       "\n",
       "    fig.rubberband_context.clearRect(\n",
       "        0, 0, fig.canvas.width, fig.canvas.height);\n",
       "\n",
       "    fig.rubberband_context.strokeRect(min_x, min_y, width, height);\n",
       "}\n",
       "\n",
       "mpl.figure.prototype.handle_figure_label = function(fig, msg) {\n",
       "    // Updates the figure title.\n",
       "    fig.header.textContent = msg['label'];\n",
       "}\n",
       "\n",
       "mpl.figure.prototype.handle_cursor = function(fig, msg) {\n",
       "    var cursor = msg['cursor'];\n",
       "    switch(cursor)\n",
       "    {\n",
       "    case 0:\n",
       "        cursor = 'pointer';\n",
       "        break;\n",
       "    case 1:\n",
       "        cursor = 'default';\n",
       "        break;\n",
       "    case 2:\n",
       "        cursor = 'crosshair';\n",
       "        break;\n",
       "    case 3:\n",
       "        cursor = 'move';\n",
       "        break;\n",
       "    }\n",
       "    fig.rubberband_canvas.style.cursor = cursor;\n",
       "}\n",
       "\n",
       "mpl.figure.prototype.handle_message = function(fig, msg) {\n",
       "    fig.message.textContent = msg['message'];\n",
       "}\n",
       "\n",
       "mpl.figure.prototype.handle_draw = function(fig, msg) {\n",
       "    // Request the server to send over a new figure.\n",
       "    fig.send_draw_message();\n",
       "}\n",
       "\n",
       "mpl.figure.prototype.handle_image_mode = function(fig, msg) {\n",
       "    fig.image_mode = msg['mode'];\n",
       "}\n",
       "\n",
       "mpl.figure.prototype.updated_canvas_event = function() {\n",
       "    // Called whenever the canvas gets updated.\n",
       "    this.send_message(\"ack\", {});\n",
       "}\n",
       "\n",
       "// A function to construct a web socket function for onmessage handling.\n",
       "// Called in the figure constructor.\n",
       "mpl.figure.prototype._make_on_message_function = function(fig) {\n",
       "    return function socket_on_message(evt) {\n",
       "        if (evt.data instanceof Blob) {\n",
       "            /* FIXME: We get \"Resource interpreted as Image but\n",
       "             * transferred with MIME type text/plain:\" errors on\n",
       "             * Chrome.  But how to set the MIME type?  It doesn't seem\n",
       "             * to be part of the websocket stream */\n",
       "            evt.data.type = \"image/png\";\n",
       "\n",
       "            /* Free the memory for the previous frames */\n",
       "            if (fig.imageObj.src) {\n",
       "                (window.URL || window.webkitURL).revokeObjectURL(\n",
       "                    fig.imageObj.src);\n",
       "            }\n",
       "\n",
       "            fig.imageObj.src = (window.URL || window.webkitURL).createObjectURL(\n",
       "                evt.data);\n",
       "            fig.updated_canvas_event();\n",
       "            fig.waiting = false;\n",
       "            return;\n",
       "        }\n",
       "        else if (typeof evt.data === 'string' && evt.data.slice(0, 21) == \"data:image/png;base64\") {\n",
       "            fig.imageObj.src = evt.data;\n",
       "            fig.updated_canvas_event();\n",
       "            fig.waiting = false;\n",
       "            return;\n",
       "        }\n",
       "\n",
       "        var msg = JSON.parse(evt.data);\n",
       "        var msg_type = msg['type'];\n",
       "\n",
       "        // Call the  \"handle_{type}\" callback, which takes\n",
       "        // the figure and JSON message as its only arguments.\n",
       "        try {\n",
       "            var callback = fig[\"handle_\" + msg_type];\n",
       "        } catch (e) {\n",
       "            console.log(\"No handler for the '\" + msg_type + \"' message type: \", msg);\n",
       "            return;\n",
       "        }\n",
       "\n",
       "        if (callback) {\n",
       "            try {\n",
       "                // console.log(\"Handling '\" + msg_type + \"' message: \", msg);\n",
       "                callback(fig, msg);\n",
       "            } catch (e) {\n",
       "                console.log(\"Exception inside the 'handler_\" + msg_type + \"' callback:\", e, e.stack, msg);\n",
       "            }\n",
       "        }\n",
       "    };\n",
       "}\n",
       "\n",
       "// from http://stackoverflow.com/questions/1114465/getting-mouse-location-in-canvas\n",
       "mpl.findpos = function(e) {\n",
       "    //this section is from http://www.quirksmode.org/js/events_properties.html\n",
       "    var targ;\n",
       "    if (!e)\n",
       "        e = window.event;\n",
       "    if (e.target)\n",
       "        targ = e.target;\n",
       "    else if (e.srcElement)\n",
       "        targ = e.srcElement;\n",
       "    if (targ.nodeType == 3) // defeat Safari bug\n",
       "        targ = targ.parentNode;\n",
       "\n",
       "    // jQuery normalizes the pageX and pageY\n",
       "    // pageX,Y are the mouse positions relative to the document\n",
       "    // offset() returns the position of the element relative to the document\n",
       "    var x = e.pageX - $(targ).offset().left;\n",
       "    var y = e.pageY - $(targ).offset().top;\n",
       "\n",
       "    return {\"x\": x, \"y\": y};\n",
       "};\n",
       "\n",
       "/*\n",
       " * return a copy of an object with only non-object keys\n",
       " * we need this to avoid circular references\n",
       " * http://stackoverflow.com/a/24161582/3208463\n",
       " */\n",
       "function simpleKeys (original) {\n",
       "  return Object.keys(original).reduce(function (obj, key) {\n",
       "    if (typeof original[key] !== 'object')\n",
       "        obj[key] = original[key]\n",
       "    return obj;\n",
       "  }, {});\n",
       "}\n",
       "\n",
       "mpl.figure.prototype.mouse_event = function(event, name) {\n",
       "    var canvas_pos = mpl.findpos(event)\n",
       "\n",
       "    if (name === 'button_press')\n",
       "    {\n",
       "        this.canvas.focus();\n",
       "        this.canvas_div.focus();\n",
       "    }\n",
       "\n",
       "    var x = canvas_pos.x * mpl.ratio;\n",
       "    var y = canvas_pos.y * mpl.ratio;\n",
       "\n",
       "    this.send_message(name, {x: x, y: y, button: event.button,\n",
       "                             step: event.step,\n",
       "                             guiEvent: simpleKeys(event)});\n",
       "\n",
       "    /* This prevents the web browser from automatically changing to\n",
       "     * the text insertion cursor when the button is pressed.  We want\n",
       "     * to control all of the cursor setting manually through the\n",
       "     * 'cursor' event from matplotlib */\n",
       "    event.preventDefault();\n",
       "    return false;\n",
       "}\n",
       "\n",
       "mpl.figure.prototype._key_event_extra = function(event, name) {\n",
       "    // Handle any extra behaviour associated with a key event\n",
       "}\n",
       "\n",
       "mpl.figure.prototype.key_event = function(event, name) {\n",
       "\n",
       "    // Prevent repeat events\n",
       "    if (name == 'key_press')\n",
       "    {\n",
       "        if (event.which === this._key)\n",
       "            return;\n",
       "        else\n",
       "            this._key = event.which;\n",
       "    }\n",
       "    if (name == 'key_release')\n",
       "        this._key = null;\n",
       "\n",
       "    var value = '';\n",
       "    if (event.ctrlKey && event.which != 17)\n",
       "        value += \"ctrl+\";\n",
       "    if (event.altKey && event.which != 18)\n",
       "        value += \"alt+\";\n",
       "    if (event.shiftKey && event.which != 16)\n",
       "        value += \"shift+\";\n",
       "\n",
       "    value += 'k';\n",
       "    value += event.which.toString();\n",
       "\n",
       "    this._key_event_extra(event, name);\n",
       "\n",
       "    this.send_message(name, {key: value,\n",
       "                             guiEvent: simpleKeys(event)});\n",
       "    return false;\n",
       "}\n",
       "\n",
       "mpl.figure.prototype.toolbar_button_onclick = function(name) {\n",
       "    if (name == 'download') {\n",
       "        this.handle_save(this, null);\n",
       "    } else {\n",
       "        this.send_message(\"toolbar_button\", {name: name});\n",
       "    }\n",
       "};\n",
       "\n",
       "mpl.figure.prototype.toolbar_button_onmouseover = function(tooltip) {\n",
       "    this.message.textContent = tooltip;\n",
       "};\n",
       "mpl.toolbar_items = [[\"Home\", \"Reset original view\", \"fa fa-home icon-home\", \"home\"], [\"Back\", \"Back to  previous view\", \"fa fa-arrow-left icon-arrow-left\", \"back\"], [\"Forward\", \"Forward to next view\", \"fa fa-arrow-right icon-arrow-right\", \"forward\"], [\"\", \"\", \"\", \"\"], [\"Pan\", \"Pan axes with left mouse, zoom with right\", \"fa fa-arrows icon-move\", \"pan\"], [\"Zoom\", \"Zoom to rectangle\", \"fa fa-square-o icon-check-empty\", \"zoom\"], [\"\", \"\", \"\", \"\"], [\"Download\", \"Download plot\", \"fa fa-floppy-o icon-save\", \"download\"]];\n",
       "\n",
       "mpl.extensions = [\"eps\", \"jpeg\", \"pdf\", \"png\", \"ps\", \"raw\", \"svg\", \"tif\"];\n",
       "\n",
       "mpl.default_extension = \"png\";var comm_websocket_adapter = function(comm) {\n",
       "    // Create a \"websocket\"-like object which calls the given IPython comm\n",
       "    // object with the appropriate methods. Currently this is a non binary\n",
       "    // socket, so there is still some room for performance tuning.\n",
       "    var ws = {};\n",
       "\n",
       "    ws.close = function() {\n",
       "        comm.close()\n",
       "    };\n",
       "    ws.send = function(m) {\n",
       "        //console.log('sending', m);\n",
       "        comm.send(m);\n",
       "    };\n",
       "    // Register the callback with on_msg.\n",
       "    comm.on_msg(function(msg) {\n",
       "        //console.log('receiving', msg['content']['data'], msg);\n",
       "        // Pass the mpl event to the overridden (by mpl) onmessage function.\n",
       "        ws.onmessage(msg['content']['data'])\n",
       "    });\n",
       "    return ws;\n",
       "}\n",
       "\n",
       "mpl.mpl_figure_comm = function(comm, msg) {\n",
       "    // This is the function which gets called when the mpl process\n",
       "    // starts-up an IPython Comm through the \"matplotlib\" channel.\n",
       "\n",
       "    var id = msg.content.data.id;\n",
       "    // Get hold of the div created by the display call when the Comm\n",
       "    // socket was opened in Python.\n",
       "    var element = $(\"#\" + id);\n",
       "    var ws_proxy = comm_websocket_adapter(comm)\n",
       "\n",
       "    function ondownload(figure, format) {\n",
       "        window.open(figure.imageObj.src);\n",
       "    }\n",
       "\n",
       "    var fig = new mpl.figure(id, ws_proxy,\n",
       "                           ondownload,\n",
       "                           element.get(0));\n",
       "\n",
       "    // Call onopen now - mpl needs it, as it is assuming we've passed it a real\n",
       "    // web socket which is closed, not our websocket->open comm proxy.\n",
       "    ws_proxy.onopen();\n",
       "\n",
       "    fig.parent_element = element.get(0);\n",
       "    fig.cell_info = mpl.find_output_cell(\"<div id='\" + id + \"'></div>\");\n",
       "    if (!fig.cell_info) {\n",
       "        console.error(\"Failed to find cell for figure\", id, fig);\n",
       "        return;\n",
       "    }\n",
       "\n",
       "    var output_index = fig.cell_info[2]\n",
       "    var cell = fig.cell_info[0];\n",
       "\n",
       "};\n",
       "\n",
       "mpl.figure.prototype.handle_close = function(fig, msg) {\n",
       "    var width = fig.canvas.width/mpl.ratio\n",
       "    fig.root.unbind('remove')\n",
       "\n",
       "    // Update the output cell to use the data from the current canvas.\n",
       "    fig.push_to_output();\n",
       "    var dataURL = fig.canvas.toDataURL();\n",
       "    // Re-enable the keyboard manager in IPython - without this line, in FF,\n",
       "    // the notebook keyboard shortcuts fail.\n",
       "    IPython.keyboard_manager.enable()\n",
       "    $(fig.parent_element).html('<img src=\"' + dataURL + '\" width=\"' + width + '\">');\n",
       "    fig.close_ws(fig, msg);\n",
       "}\n",
       "\n",
       "mpl.figure.prototype.close_ws = function(fig, msg){\n",
       "    fig.send_message('closing', msg);\n",
       "    // fig.ws.close()\n",
       "}\n",
       "\n",
       "mpl.figure.prototype.push_to_output = function(remove_interactive) {\n",
       "    // Turn the data on the canvas into data in the output cell.\n",
       "    var width = this.canvas.width/mpl.ratio\n",
       "    var dataURL = this.canvas.toDataURL();\n",
       "    this.cell_info[1]['text/html'] = '<img src=\"' + dataURL + '\" width=\"' + width + '\">';\n",
       "}\n",
       "\n",
       "mpl.figure.prototype.updated_canvas_event = function() {\n",
       "    // Tell IPython that the notebook contents must change.\n",
       "    IPython.notebook.set_dirty(true);\n",
       "    this.send_message(\"ack\", {});\n",
       "    var fig = this;\n",
       "    // Wait a second, then push the new image to the DOM so\n",
       "    // that it is saved nicely (might be nice to debounce this).\n",
       "    setTimeout(function () { fig.push_to_output() }, 1000);\n",
       "}\n",
       "\n",
       "mpl.figure.prototype._init_toolbar = function() {\n",
       "    var fig = this;\n",
       "\n",
       "    var nav_element = $('<div/>')\n",
       "    nav_element.attr('style', 'width: 100%');\n",
       "    this.root.append(nav_element);\n",
       "\n",
       "    // Define a callback function for later on.\n",
       "    function toolbar_event(event) {\n",
       "        return fig.toolbar_button_onclick(event['data']);\n",
       "    }\n",
       "    function toolbar_mouse_event(event) {\n",
       "        return fig.toolbar_button_onmouseover(event['data']);\n",
       "    }\n",
       "\n",
       "    for(var toolbar_ind in mpl.toolbar_items){\n",
       "        var name = mpl.toolbar_items[toolbar_ind][0];\n",
       "        var tooltip = mpl.toolbar_items[toolbar_ind][1];\n",
       "        var image = mpl.toolbar_items[toolbar_ind][2];\n",
       "        var method_name = mpl.toolbar_items[toolbar_ind][3];\n",
       "\n",
       "        if (!name) { continue; };\n",
       "\n",
       "        var button = $('<button class=\"btn btn-default\" href=\"#\" title=\"' + name + '\"><i class=\"fa ' + image + ' fa-lg\"></i></button>');\n",
       "        button.click(method_name, toolbar_event);\n",
       "        button.mouseover(tooltip, toolbar_mouse_event);\n",
       "        nav_element.append(button);\n",
       "    }\n",
       "\n",
       "    // Add the status bar.\n",
       "    var status_bar = $('<span class=\"mpl-message\" style=\"text-align:right; float: right;\"/>');\n",
       "    nav_element.append(status_bar);\n",
       "    this.message = status_bar[0];\n",
       "\n",
       "    // Add the close button to the window.\n",
       "    var buttongrp = $('<div class=\"btn-group inline pull-right\"></div>');\n",
       "    var button = $('<button class=\"btn btn-mini btn-primary\" href=\"#\" title=\"Stop Interaction\"><i class=\"fa fa-power-off icon-remove icon-large\"></i></button>');\n",
       "    button.click(function (evt) { fig.handle_close(fig, {}); } );\n",
       "    button.mouseover('Stop Interaction', toolbar_mouse_event);\n",
       "    buttongrp.append(button);\n",
       "    var titlebar = this.root.find($('.ui-dialog-titlebar'));\n",
       "    titlebar.prepend(buttongrp);\n",
       "}\n",
       "\n",
       "mpl.figure.prototype._root_extra_style = function(el){\n",
       "    var fig = this\n",
       "    el.on(\"remove\", function(){\n",
       "\tfig.close_ws(fig, {});\n",
       "    });\n",
       "}\n",
       "\n",
       "mpl.figure.prototype._canvas_extra_style = function(el){\n",
       "    // this is important to make the div 'focusable\n",
       "    el.attr('tabindex', 0)\n",
       "    // reach out to IPython and tell the keyboard manager to turn it's self\n",
       "    // off when our div gets focus\n",
       "\n",
       "    // location in version 3\n",
       "    if (IPython.notebook.keyboard_manager) {\n",
       "        IPython.notebook.keyboard_manager.register_events(el);\n",
       "    }\n",
       "    else {\n",
       "        // location in version 2\n",
       "        IPython.keyboard_manager.register_events(el);\n",
       "    }\n",
       "\n",
       "}\n",
       "\n",
       "mpl.figure.prototype._key_event_extra = function(event, name) {\n",
       "    var manager = IPython.notebook.keyboard_manager;\n",
       "    if (!manager)\n",
       "        manager = IPython.keyboard_manager;\n",
       "\n",
       "    // Check for shift+enter\n",
       "    if (event.shiftKey && event.which == 13) {\n",
       "        this.canvas_div.blur();\n",
       "        event.shiftKey = false;\n",
       "        // Send a \"J\" for go to next cell\n",
       "        event.which = 74;\n",
       "        event.keyCode = 74;\n",
       "        manager.command_mode();\n",
       "        manager.handle_keydown(event);\n",
       "    }\n",
       "}\n",
       "\n",
       "mpl.figure.prototype.handle_save = function(fig, msg) {\n",
       "    fig.ondownload(fig, null);\n",
       "}\n",
       "\n",
       "\n",
       "mpl.find_output_cell = function(html_output) {\n",
       "    // Return the cell and output element which can be found *uniquely* in the notebook.\n",
       "    // Note - this is a bit hacky, but it is done because the \"notebook_saving.Notebook\"\n",
       "    // IPython event is triggered only after the cells have been serialised, which for\n",
       "    // our purposes (turning an active figure into a static one), is too late.\n",
       "    var cells = IPython.notebook.get_cells();\n",
       "    var ncells = cells.length;\n",
       "    for (var i=0; i<ncells; i++) {\n",
       "        var cell = cells[i];\n",
       "        if (cell.cell_type === 'code'){\n",
       "            for (var j=0; j<cell.output_area.outputs.length; j++) {\n",
       "                var data = cell.output_area.outputs[j];\n",
       "                if (data.data) {\n",
       "                    // IPython >= 3 moved mimebundle to data attribute of output\n",
       "                    data = data.data;\n",
       "                }\n",
       "                if (data['text/html'] == html_output) {\n",
       "                    return [cell, data, j];\n",
       "                }\n",
       "            }\n",
       "        }\n",
       "    }\n",
       "}\n",
       "\n",
       "// Register the function which deals with the matplotlib target/channel.\n",
       "// The kernel may be null if the page has been refreshed.\n",
       "if (IPython.notebook.kernel != null) {\n",
       "    IPython.notebook.kernel.comm_manager.register_target('matplotlib', mpl.mpl_figure_comm);\n",
       "}\n"
      ],
      "text/plain": [
       "<IPython.core.display.Javascript object>"
      ]
     },
     "metadata": {},
     "output_type": "display_data"
    },
    {
     "data": {
      "text/html": [
       "<img src=\"data:image/png;base64,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\" width=\"640\">"
      ],
      "text/plain": [
       "<IPython.core.display.HTML object>"
      ]
     },
     "metadata": {},
     "output_type": "display_data"
    },
    {
     "data": {
      "text/plain": [
       "<matplotlib.axes._subplots.AxesSubplot at 0x7ff5d84384e0>"
      ]
     },
     "execution_count": 23,
     "metadata": {},
     "output_type": "execute_result"
    }
   ],
   "source": [
    "df2.set_index('n_workers').plot()"
   ]
  },
  {
   "cell_type": "code",
   "execution_count": 20,
   "metadata": {},
   "outputs": [
    {
     "data": {
      "text/plain": [
       "240"
      ]
     },
     "execution_count": 20,
     "metadata": {},
     "output_type": "execute_result"
    }
   ],
   "source": [
    "len(results)"
   ]
  },
  {
   "cell_type": "code",
   "execution_count": null,
   "metadata": {},
   "outputs": [],
   "source": []
  }
 ],
 "metadata": {
  "kernelspec": {
   "display_name": "Python 3",
   "language": "python",
   "name": "python3"
  },
  "language_info": {
   "codemirror_mode": {
    "name": "ipython",
    "version": 3
   },
   "file_extension": ".py",
   "mimetype": "text/x-python",
   "name": "python",
   "nbconvert_exporter": "python",
   "pygments_lexer": "ipython3",
   "version": "3.6.6"
  }
 },
 "nbformat": 4,
 "nbformat_minor": 2
}
