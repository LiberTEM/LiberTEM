{
 "cells": [
  {
   "cell_type": "code",
   "execution_count": 2,
   "metadata": {},
   "outputs": [],
   "source": [
    "import os\n",
    "os.environ[\"OMP_NUM_THREADS\"] = \"1\"\n",
    "os.environ[\"MKL_NUM_THREADS\"] = \"1\"\n",
    "os.environ[\"OPENBLAS_NUM_THREADS\"] = \"1\""
   ]
  },
  {
   "cell_type": "code",
   "execution_count": 114,
   "metadata": {},
   "outputs": [],
   "source": [
    "import math\n",
    "import time\n",
    "\n",
    "import numpy as np\n",
    "import scipy.sparse as sp\n",
    "from scipy.stats import ortho_group\n",
    "import matplotlib.pyplot as plt\n",
    "from sklearn.decomposition import IncrementalPCA\n",
    "import fbpca\n",
    "\n",
    "from libertem import api\n",
    "from libertem.udf.pca_data import run_pca"
   ]
  },
  {
   "cell_type": "code",
   "execution_count": 4,
   "metadata": {},
   "outputs": [],
   "source": [
    "def diffsnorm(data, reconstruct):\n",
    "    return math.sqrt(norm(data-reconstruct))\n"
   ]
  },
  {
   "cell_type": "code",
   "execution_count": 5,
   "metadata": {},
   "outputs": [],
   "source": [
    "def eig_error(eig_approx, eig):\n",
    "    corr = np.linalg.norm(eig_approx-eig)\n",
    "    corr = np.inner(eig_approx, eig)\n",
    "    return corr\n"
   ]
  },
  {
   "cell_type": "code",
   "execution_count": 6,
   "metadata": {},
   "outputs": [],
   "source": [
    "def subspace_error(U_approx, U):\n",
    "    n_components = U.shape[1]\n",
    "    A = U_approx.T.dot(U)\n",
    "    B = U_approx.dot(U_approx.T)\n",
    "\n",
    "    err = np.sqrt(n_components+np.trace(B.dot(B)) - 2 * np.trace(A.dot(A.T)))\n",
    "\n",
    "    frob = np.linalg.norm(U-U_approx, ord='fro')\n",
    "\n",
    "    return err/np.sqrt(n_components )\n"
   ]
  },
  {
   "cell_type": "code",
   "execution_count": 56,
   "metadata": {},
   "outputs": [
    {
     "data": {
      "text/plain": [
       "(1024, 1024)"
      ]
     },
     "execution_count": 56,
     "metadata": {},
     "output_type": "execute_result"
    }
   ],
   "source": [
    "component = ortho_group.rvs(dim=1024)\n",
    "loading = np.random.randint(10, size=(1024, 1024))\n",
    "\n",
    "data = loading @ component\n",
    "data.shape"
   ]
  },
  {
   "cell_type": "code",
   "execution_count": 65,
   "metadata": {},
   "outputs": [
    {
     "data": {
      "text/plain": [
       "-1.5612511283791264e-17"
      ]
     },
     "execution_count": 65,
     "metadata": {},
     "output_type": "execute_result"
    }
   ],
   "source": [
    "# orthogonality of component vectors\n",
    "component[:, 0].dot(component[:, 1])"
   ]
  },
  {
   "cell_type": "code",
   "execution_count": 51,
   "metadata": {},
   "outputs": [],
   "source": [
    "U, S, V = fbpca.pca(data, k=90)"
   ]
  },
  {
   "cell_type": "code",
   "execution_count": 52,
   "metadata": {},
   "outputs": [
    {
     "data": {
      "text/plain": [
       "((100, 90), (90,), (90, 100))"
      ]
     },
     "execution_count": 52,
     "metadata": {},
     "output_type": "execute_result"
    }
   ],
   "source": [
    "U.shape, S.shape, V.shape"
   ]
  },
  {
   "cell_type": "code",
   "execution_count": 53,
   "metadata": {},
   "outputs": [],
   "source": [
    "reconstructed_data = (data @ V.T) @ V"
   ]
  },
  {
   "cell_type": "code",
   "execution_count": 54,
   "metadata": {},
   "outputs": [
    {
     "name": "stdout",
     "output_type": "stream",
     "text": [
      "norm difference wih 10 components using full batch data: 21.972807532955855\n",
      "norm difference wih 20 components using full batch data: 20.78629975302382\n",
      "norm difference wih 30 components using full batch data: 20.135651280030093\n",
      "norm difference wih 40 components using full batch data: 18.77952031545645\n",
      "norm difference wih 50 components using full batch data: 18.012494102734134\n",
      "norm difference wih 60 components using full batch data: 17.337344197987598\n",
      "norm difference wih 70 components using full batch data: 15.3847590727006\n",
      "norm difference wih 80 components using full batch data: 14.484753467118395\n",
      "norm difference wih 90 components using full batch data: 11.796164713228398\n",
      "norm difference wih 100 components using full batch data: 9.930634480581639e-07\n"
     ]
    }
   ],
   "source": [
    "for n_component in range(10, 110, 10):\n",
    "    U, S, V = fbpca.pca(data, k=n_component)\n",
    "    reconstructed_data = (data @ V.T) @ V\n",
    "    norm_diff = diffsnorm(reconstructed_data, data)\n",
    "    print(f\"norm difference wih {n_component} components using full batch data: {norm_diff}\")"
   ]
  },
  {
   "cell_type": "code",
   "execution_count": 99,
   "metadata": {},
   "outputs": [],
   "source": [
    "def modify_loading(loading, component):\n",
    "    n_sample, n_component = loading.shape\n",
    "\n",
    "    minimum = np.amin(loading, axis=0)\n",
    "    maximum = np.amax(loading, axis=0)\n",
    "\n",
    "    idx = []\n",
    "\n",
    "    for i in range(n_sample):\n",
    "        check = np.where((loading[i, :] == minimum) | (loading[i, :] == maximum), True, False)\n",
    "        if True in check:\n",
    "            idx.append(i)\n",
    "\n",
    "    src_loading = loading[np.array(idx)]\n",
    "    src_data = src_loading @ component\n",
    "\n",
    "    return src_data\n"
   ]
  },
  {
   "cell_type": "code",
   "execution_count": 75,
   "metadata": {},
   "outputs": [],
   "source": [
    "# reformat data into sig and nav dimension\n",
    "data = data.reshape((32, 32, 32, 32))"
   ]
  },
  {
   "cell_type": "code",
   "execution_count": 108,
   "metadata": {},
   "outputs": [],
   "source": [
    "def process_partition(data, n_components=100):\n",
    "    \"\"\"\n",
    "    Split data into four partitions and apply PCA on each partition\n",
    "    \"\"\"\n",
    "    partition = []\n",
    "    \n",
    "    for i in range(2):\n",
    "        for j in range(2):\n",
    "            part = data[i*16:i*16+16, j*16:j*16+16, :, :]\n",
    "            part_reshape = part.reshape((part.shape[0]*part.shape[1], part.shape[2]*part.shape[3]))\n",
    "            U, S, V = fbpca.pca(part_reshape, k=n_components)\n",
    "            \n",
    "            partition.append((U, S, V, part_reshape[0]))\n",
    "    \n",
    "    return partition\n"
   ]
  },
  {
   "cell_type": "code",
   "execution_count": 109,
   "metadata": {},
   "outputs": [],
   "source": [
    "def merge(data, partition, n_components=100):\n",
    "    \"\"\"\n",
    "    Merge PCA results from partitions\n",
    "    \"\"\"\n",
    "    ipca = IncrementalPCA(n_components=n_components)\n",
    "    \n",
    "    for part in partition:\n",
    "        reconstruct = modify_loading(part[0]*part[1], part[2])\n",
    "        ipca.partial_fit(reconstruct)\n",
    "    \n",
    "    data = data.reshape((1024, 1024))\n",
    "    data_transformed = ipca.fit_transform(data)\n",
    "    reconstructed_data = ipca.inverse_transform(data_transformed)\n",
    "    \n",
    "    return data_transformed, reconstructed_data\n",
    "        \n",
    "        "
   ]
  },
  {
   "cell_type": "code",
   "execution_count": 115,
   "metadata": {},
   "outputs": [
    {
     "name": "stdout",
     "output_type": "stream",
     "text": [
      "Takes 1.2645699977874756 sec\n"
     ]
    }
   ],
   "source": [
    "start = time.time()\n",
    "\n",
    "partition = process_partition(data) # generate partitions and run PCA on them\n",
    "data_transformed, reconstructed_data = merge(data, partition) # merge partitions\n",
    "\n",
    "end = time.time()\n",
    "\n",
    "print(f\"Takes {end-start} sec\")"
   ]
  },
  {
   "cell_type": "code",
   "execution_count": 116,
   "metadata": {},
   "outputs": [
    {
     "data": {
      "text/plain": [
       "49.44601289607006"
      ]
     },
     "execution_count": 116,
     "metadata": {},
     "output_type": "execute_result"
    }
   ],
   "source": [
    "orig_data = data.reshape((1024, 1024))\n",
    "diffsnorm(reconstructed_data, orig_data)"
   ]
  },
  {
   "cell_type": "code",
   "execution_count": 113,
   "metadata": {},
   "outputs": [
    {
     "data": {
      "text/plain": [
       "(1024, 100)"
      ]
     },
     "execution_count": 113,
     "metadata": {},
     "output_type": "execute_result"
    }
   ],
   "source": [
    "data_transformed.shape # transformed data"
   ]
  },
  {
   "cell_type": "code",
   "execution_count": null,
   "metadata": {},
   "outputs": [],
   "source": [
    "for i in range(20):\n",
    "    component = data_transformed[:, i]\n",
    "    vis = component.reshape((32, 32))\n",
    "    \n",
    "    f, axes = plt.subplots"
   ]
  }
 ],
 "metadata": {
  "kernelspec": {
   "display_name": "Python (libertem)",
   "language": "python",
   "name": "libertem"
  },
  "language_info": {
   "codemirror_mode": {
    "name": "ipython",
    "version": 3
   },
   "file_extension": ".py",
   "mimetype": "text/x-python",
   "name": "python",
   "nbconvert_exporter": "python",
   "pygments_lexer": "ipython3",
   "version": "3.6.8"
  }
 },
 "nbformat": 4,
 "nbformat_minor": 2
}
