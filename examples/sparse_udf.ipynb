{
 "cells": [
  {
   "cell_type": "markdown",
   "id": "7eca3226",
   "metadata": {},
   "source": [
    "# Sparse processing with LiberTEM\n",
    "\n",
    "This notebook demonstrates support for sparse data in LiberTEM, both the generation of sparse data from such formats, and the processing of these data using both sparse-compatible and -incompatible UDFs.\n",
    "\n",
    "Additionally, the notebook demonstrates sparse-GPU-array support, which requires a working CUDA/CuPy installation to run correctly.\n",
    "\n",
    "Some preliminaries:"
   ]
  },
  {
   "cell_type": "code",
   "execution_count": 1,
   "id": "e1d5bcbf",
   "metadata": {},
   "outputs": [],
   "source": [
    "%matplotlib inline\n",
    "import pathlib\n",
    "import tempfile"
   ]
  },
  {
   "cell_type": "code",
   "execution_count": 2,
   "id": "db764011",
   "metadata": {},
   "outputs": [],
   "source": [
    "# Write files in a temporary directory\n",
    "# Not guaranteed to be cleaned up in a Notebook in *all* circumstances\n",
    "td = tempfile.TemporaryDirectory()\n",
    "workdir = pathlib.Path(td.name)"
   ]
  },
  {
   "cell_type": "markdown",
   "id": "769c267a",
   "metadata": {},
   "source": [
    "## Create some example data\n",
    "\n",
    "For our sparse input data we'll mock some diffraction data of the type you might acquire with a direct electron camera (low count, many zeros):"
   ]
  },
  {
   "cell_type": "code",
   "execution_count": 3,
   "id": "d09613a4",
   "metadata": {},
   "outputs": [],
   "source": [
    "import numpy as np\n",
    "import matplotlib.pyplot as plt\n",
    "import skimage.draw as skdraw\n",
    "\n",
    "nav_shape = (8, 32)\n",
    "sig_shape = (64, 64)\n",
    "# For a bit of interest we will mock a quantum well-like structure\n",
    "# with a different brightfield intensity and a beam shift\n",
    "qw_region = (14, 19)\n",
    "radius = 8\n",
    "qw_shift = {qw_region[0]: (0, -1), qw_region[1] - 1: (0, 1)}"
   ]
  },
  {
   "cell_type": "code",
   "execution_count": 4,
   "id": "bc28547c",
   "metadata": {},
   "outputs": [],
   "source": [
    "def get_diff_frame(dim, radius, shift_yx=(0, 0), intensity=3, bkg_sparsity=0.9):\n",
    "    \"\"\"Return a single diffraction spot with Poisson-esque noise characteristics\"\"\"\n",
    "    bkg = np.random.poisson(lam=1, size=(dim, dim))\n",
    "    bkg_mask = np.random.choice([0, 1], p=(bkg_sparsity, 1-bkg_sparsity), size=(dim, dim))\n",
    "    disk = np.random.poisson(lam=intensity, size=(dim, dim))\n",
    "    rr, cc = skdraw.disk((dim // 2 + shift_yx[0], dim // 2 + shift_yx[1]), int(radius))\n",
    "    disk_mask = np.zeros((dim, dim))\n",
    "    disk_mask[rr, cc] = 1\n",
    "    return np.minimum(bkg * bkg_mask + disk * disk_mask, 255).astype(np.uint8)"
   ]
  },
  {
   "cell_type": "markdown",
   "id": "9c23e929",
   "metadata": {},
   "source": [
    "Build the data cube frame-by-frame:"
   ]
  },
  {
   "cell_type": "code",
   "execution_count": 5,
   "id": "78a0d9ad",
   "metadata": {},
   "outputs": [],
   "source": [
    "dense_data = np.zeros(nav_shape + sig_shape, dtype=np.uint8)\n",
    "\n",
    "for y in range(nav_shape[0]):\n",
    "    for x in range(nav_shape[1]):\n",
    "        dense_data[y, x] = get_diff_frame(\n",
    "            sig_shape[0],\n",
    "            radius,\n",
    "            shift_yx=qw_shift.get(x, (0, 0)),\n",
    "            intensity=4 if x in range(*qw_region) else 3,\n",
    "        )"
   ]
  },
  {
   "cell_type": "markdown",
   "id": "4ff3236f",
   "metadata": {},
   "source": [
    "Plot the first frame to see how it looks:"
   ]
  },
  {
   "cell_type": "code",
   "execution_count": 6,
   "id": "ef35f583",
   "metadata": {},
   "outputs": [
    {
     "data": {
      "text/plain": [
       "Text(0.5, 1.0, 'Example frame')"
      ]
     },
     "execution_count": 6,
     "metadata": {},
     "output_type": "execute_result"
    },
    {
     "data": {
      "image/png": "[encoded data removed]",
      "text/plain": [
       "<Figure size 432x288 with 2 Axes>"
      ]
     },
     "metadata": {
      "needs_background": "light"
     },
     "output_type": "display_data"
    }
   ],
   "source": [
    "plt.imshow(dense_data[0, 0])\n",
    "plt.colorbar()\n",
    "plt.title('Example frame')"
   ]
  },
  {
   "cell_type": "markdown",
   "id": "7277030c",
   "metadata": {},
   "source": [
    "Here are some stats about this data:"
   ]
  },
  {
   "cell_type": "code",
   "execution_count": 7,
   "id": "1e0068d4",
   "metadata": {
    "scrolled": true
   },
   "outputs": [
    {
     "name": "stdout",
     "output_type": "stream",
     "text": [
      "Density: 0.105\n",
      "Byte-size: 1.0 MB\n"
     ]
    }
   ],
   "source": [
    "# NBVAL_IGNORE_OUTPUT\n",
    "print(f'Density: {np.count_nonzero(dense_data) / dense_data.size:.3f}')\n",
    "print(f'Byte-size: {dense_data.size * dense_data.dtype.itemsize / 2**20} MB')"
   ]
  },
  {
   "cell_type": "markdown",
   "id": "d8a10b6d",
   "metadata": {},
   "source": [
    "## Storage of raw sparse data on disk (CSR-format)\n",
    "\n",
    "We can use `sparseconverter` to get a sparse representation of this data in Scipy CSR format. At time of writing, the data must be in the form of a 2D array, so we roll the `nav_shape` and `sig_shape` into two flat dimensions:"
   ]
  },
  {
   "cell_type": "code",
   "execution_count": 8,
   "id": "adc9b046",
   "metadata": {},
   "outputs": [
    {
     "data": {
      "text/plain": [
       "<256x4096 sparse matrix of type '<class 'numpy.uint8'>'\n",
       "\twith 110282 stored elements in Compressed Sparse Row format>"
      ]
     },
     "execution_count": 8,
     "metadata": {},
     "output_type": "execute_result"
    }
   ],
   "source": [
    "# NBVAL_IGNORE_OUTPUT\n",
    "from sparseconverter import SCIPY_CSR, for_backend\n",
    "\n",
    "# Convert to 2D for scipy.csr_matrix compatibility\n",
    "data_2d = dense_data.reshape(np.prod(nav_shape), np.prod(sig_shape))\n",
    "data_sparse = for_backend(data_2d, SCIPY_CSR)\n",
    "data_sparse"
   ]
  },
  {
   "cell_type": "markdown",
   "id": "2b090a73",
   "metadata": {},
   "source": [
    "`sparseconverter` provides a unified API for conversion between many sparse array formats in major Python libraries. For this part of the example we will use Scipy CSR as it supports a storage on disk in a raw format directly compatible with LiberTEM.\n",
    "\n",
    "The format is composed of three binary files:\n",
    "\n",
    "- `data`: containing the flattened, nonzero array values, available as `data_sparse.data`\n",
    "- `indices`: containing column indices corresponding to values in `data`, available as `data_sparse.indices`\n",
    "- `indptr`: containing the per-row slices into `data` and `indices`, available as `data_sparse.indptr`\n",
    "\n",
    "(see https://docs.scipy.org/doc/scipy/reference/generated/scipy.sparse.csr_matrix.html#scipy.sparse.csr_matrix for more information).\n",
    "\n",
    "We can save these three arrays to disk for processing with LiberTEM's `RawCSRDataSet`:"
   ]
  },
  {
   "cell_type": "code",
   "execution_count": 9,
   "id": "c784e622",
   "metadata": {},
   "outputs": [],
   "source": [
    "data_sparse.data.tofile(workdir / 'values.raw')\n",
    "data_sparse.indices.tofile(workdir / 'coords.raw')\n",
    "data_sparse.indptr.tofile(workdir / 'indptr.raw')"
   ]
  },
  {
   "cell_type": "markdown",
   "id": "504b73bc",
   "metadata": {},
   "source": [
    "The total size of data on disk is:"
   ]
  },
  {
   "cell_type": "code",
   "execution_count": 10,
   "id": "64a8c70e",
   "metadata": {},
   "outputs": [
    {
     "name": "stdout",
     "output_type": "stream",
     "text": [
      "Size on disk: 0.53 MB\n"
     ]
    }
   ],
   "source": [
    "import os\n",
    "print(f\"Size on disk: {sum(os.path.getsize(workdir / f) for f in ('indptr.raw', 'coords.raw', 'values.raw')) / 2**20:.2f} MB\")"
   ]
  },
  {
   "cell_type": "markdown",
   "id": "aa37a336",
   "metadata": {},
   "source": [
    "which is not a huge saving compared to the dense form, but this will depend on the overall sparsity.\n",
    "\n",
    "To allow LiberTEM to read the data, we also need to create a parameter file containing the metadata for the format, which tells the dataset where to find `indptr`, `coords` and `values`. Here we do this in the code, but normally this would be created in a text editor or by the software generating the data."
   ]
  },
  {
   "cell_type": "code",
   "execution_count": 11,
   "id": "cbb45874",
   "metadata": {},
   "outputs": [],
   "source": [
    "metadata = f\"\"\"\n",
    "[params]\n",
    "filetype = \"raw_csr\"\n",
    "nav_shape = {list(nav_shape)}\n",
    "sig_shape = {list(sig_shape)}\n",
    "\n",
    "[raw_csr]\n",
    "indptr_file = \"indptr.raw\"\n",
    "indptr_dtype = \"{str(data_sparse.indptr.dtype)}\"\n",
    "\n",
    "indices_file = \"coords.raw\"\n",
    "indices_dtype = \"{str(data_sparse.indices.dtype)}\"\n",
    "\n",
    "data_file = \"values.raw\"\n",
    "data_dtype = \"{str(data_sparse.data.dtype)}\"\n",
    "\"\"\"\n",
    "\n",
    "param_file = workdir / 'sparse.toml'\n",
    "\n",
    "with param_file.open('w') as f:\n",
    "    f.write(metadata)"
   ]
  },
  {
   "cell_type": "markdown",
   "id": "26fd91fa",
   "metadata": {},
   "source": [
    "The format of the metadata file is TOML (https://toml.io/en/)."
   ]
  },
  {
   "cell_type": "markdown",
   "id": "3f9e7a6a",
   "metadata": {},
   "source": [
    "## Processing with LiberTEM - Standard analyses\n",
    "\n",
    "First we load the dataset using the `raw_csr` format keyword and the path to our sparse CSR parameter file:"
   ]
  },
  {
   "cell_type": "code",
   "execution_count": 12,
   "id": "00717c35",
   "metadata": {},
   "outputs": [],
   "source": [
    "import libertem.api as lt\n",
    "\n",
    "ctx = lt.Context.make_with('inline')\n",
    "dataset_csr = ctx.load(\"raw_csr\", path=param_file)"
   ]
  },
  {
   "cell_type": "markdown",
   "id": "71d530f0",
   "metadata": {},
   "source": [
    "We can get a brightfield-like view of the data using a disk-sum analysis:"
   ]
  },
  {
   "cell_type": "code",
   "execution_count": 13,
   "id": "f410f914",
   "metadata": {
    "scrolled": true
   },
   "outputs": [
    {
     "data": {
      "text/plain": [
       "Text(0.5, 1.0, 'Brightfield (counts)')"
      ]
     },
     "execution_count": 13,
     "metadata": {},
     "output_type": "execute_result"
    },
    {
     "data": {
      "image/png": "[encoded data removed]",
      "text/plain": [
       "<Figure size 432x288 with 2 Axes>"
      ]
     },
     "metadata": {
      "needs_background": "light"
     },
     "output_type": "display_data"
    }
   ],
   "source": [
    "disk_a = ctx.create_disk_analysis(dataset_csr)\n",
    "disk_r = ctx.run(disk_a)\n",
    "\n",
    "plt.imshow(disk_r.intensity.raw_data)\n",
    "plt.colorbar(orientation=\"horizontal\")\n",
    "plt.title('Brightfield (counts)')"
   ]
  },
  {
   "cell_type": "markdown",
   "id": "12a49449",
   "metadata": {},
   "source": [
    "The log-sum of all frames in the dataset:"
   ]
  },
  {
   "cell_type": "code",
   "execution_count": 14,
   "id": "5c94631b",
   "metadata": {},
   "outputs": [
    {
     "data": {
      "text/plain": [
       "Text(0.5, 1.0, 'Logsum frame')"
      ]
     },
     "execution_count": 14,
     "metadata": {},
     "output_type": "execute_result"
    },
    {
     "data": {
      "image/png": "[encoded data removed]",
      "text/plain": [
       "<Figure size 432x288 with 2 Axes>"
      ]
     },
     "metadata": {
      "needs_background": "light"
     },
     "output_type": "display_data"
    }
   ],
   "source": [
    "from libertem.udf.logsum import LogsumUDF\n",
    "logsum_r = ctx.run_udf(dataset=dataset_csr, udf=LogsumUDF())\n",
    "\n",
    "plt.imshow(logsum_r['logsum'].data)\n",
    "plt.colorbar()\n",
    "plt.title('Logsum frame')"
   ]
  },
  {
   "cell_type": "markdown",
   "id": "a1abc1e2",
   "metadata": {},
   "source": [
    "And we can measure the shift of the central disk in the x-direction using a centre-of-mass analysis:"
   ]
  },
  {
   "cell_type": "code",
   "execution_count": 15,
   "id": "7eb934cc",
   "metadata": {},
   "outputs": [
    {
     "data": {
      "text/plain": [
       "Text(0.5, 1.0, 'CoM-X-shift (px)')"
      ]
     },
     "execution_count": 15,
     "metadata": {},
     "output_type": "execute_result"
    },
    {
     "data": {
      "image/png": "[encoded data removed]",
      "text/plain": [
       "<Figure size 432x288 with 2 Axes>"
      ]
     },
     "metadata": {
      "needs_background": "light"
     },
     "output_type": "display_data"
    }
   ],
   "source": [
    "com_a = ctx.create_com_analysis(dataset_csr, cx=sig_shape[1] // 2, cy=sig_shape[0] // 2, mask_radius=radius * 1.2)\n",
    "com_r = ctx.run(com_a)\n",
    "\n",
    "from matplotlib.colors import CenteredNorm\n",
    "plt.imshow(com_r.x.raw_data, cmap='bwr', norm=CenteredNorm())\n",
    "plt.colorbar(orientation=\"horizontal\")\n",
    "plt.title('CoM-X-shift (px)')"
   ]
  },
  {
   "cell_type": "markdown",
   "id": "8d95debf",
   "metadata": {},
   "source": [
    "As expected, the `raw_csr` dataset is transparently compatible with standard LiberTEM UDFs and analyses, despite the data being stored in a sparse form.\n",
    "\n",
    "## Other sparse formats\n",
    "\n",
    "As of time of writing, the only LiberTEM support for reading sparse data from disk is in the 2D-CSR format used above. However, in-memory sparse data of almost any format can be processed using the existing `MemoryDataSet`. This is thanks to the `sparseconverter` library which finds an efficient conversion from the source data to the formats supported by a given UDF. (If a UDF supports the format already in-memory, no conversion is carried out).\n",
    "\n",
    "GCXS is a sparse array format which is a generalisation of the CSR / CSC format described above, notably supporting multi-dimensional arrays beyond 2D. It is provided by the `pydata.sparse` library (https://sparse.pydata.org/en/stable/generated/sparse.GCXS.html), and supported in `sparseconverter`:"
   ]
  },
  {
   "cell_type": "code",
   "execution_count": 16,
   "id": "fe956ee0",
   "metadata": {},
   "outputs": [
    {
     "data": {
      "text/html": [
       "<table><tbody><tr><th style=\"text-align: left\">Format</th><td style=\"text-align: left\">gcxs</td></tr><tr><th style=\"text-align: left\">Data Type</th><td style=\"text-align: left\">uint8</td></tr><tr><th style=\"text-align: left\">Shape</th><td style=\"text-align: left\">(8, 32, 64, 64)</td></tr><tr><th style=\"text-align: left\">nnz</th><td style=\"text-align: left\">110282</td></tr><tr><th style=\"text-align: left\">Density</th><td style=\"text-align: left\">0.10517311096191406</td></tr><tr><th style=\"text-align: left\">Read-only</th><td style=\"text-align: left\">True</td></tr><tr><th style=\"text-align: left\">Size</th><td style=\"text-align: left\">969.3K</td></tr><tr><th style=\"text-align: left\">Storage ratio</th><td style=\"text-align: left\">0.9</td></tr><tr><th style=\"text-align: left\">Compressed Axes</th><td style=\"text-align: left\">(0,)</td></tr></tbody></table>"
      ],
      "text/plain": [
       "<GCXS: shape=(8, 32, 64, 64), dtype=uint8, nnz=110282, fill_value=0, compressed_axes=(0,)>"
      ]
     },
     "execution_count": 16,
     "metadata": {},
     "output_type": "execute_result"
    }
   ],
   "source": [
    "# NBVAL_IGNORE_OUTPUT\n",
    "from sparseconverter import SPARSE_GCXS\n",
    "data_gcxs = for_backend(dense_data, SPARSE_GCXS)\n",
    "data_gcxs"
   ]
  },
  {
   "cell_type": "code",
   "execution_count": 17,
   "id": "fa7c323a",
   "metadata": {},
   "outputs": [],
   "source": [
    "dataset_gcxs = ctx.load('memory', data=data_gcxs, num_partitions=1)"
   ]
  },
  {
   "cell_type": "markdown",
   "id": "7630a3df",
   "metadata": {},
   "source": [
    "By default this dataset will first try to provide data to the analysis in GCXS format, but supports ingestion from and conversion to the following formats:"
   ]
  },
  {
   "cell_type": "code",
   "execution_count": 18,
   "id": "86ff0c36",
   "metadata": {},
   "outputs": [
    {
     "data": {
      "text/plain": [
       "('sparse.GCXS',\n",
       " 'sparse.COO',\n",
       " 'scipy.sparse.csr_matrix',\n",
       " 'scipy.sparse.csc_matrix',\n",
       " 'scipy.sparse.coo_matrix',\n",
       " 'sparse.DOK',\n",
       " 'cupyx.scipy.sparse.csc_matrix',\n",
       " 'cupyx.scipy.sparse.csr_matrix',\n",
       " 'cupyx.scipy.sparse.coo_matrix',\n",
       " 'numpy.matrix',\n",
       " 'numpy',\n",
       " 'cuda',\n",
       " 'cupy')"
      ]
     },
     "execution_count": 18,
     "metadata": {},
     "output_type": "execute_result"
    }
   ],
   "source": [
    "dataset_gcxs.array_backends"
   ]
  },
  {
   "cell_type": "markdown",
   "id": "0ae339e7",
   "metadata": {},
   "source": [
    "Of course, at the high-level the underlying format and any conversion is transparent, and standard analyses will run correctly:"
   ]
  },
  {
   "cell_type": "code",
   "execution_count": 19,
   "id": "87eeb962",
   "metadata": {},
   "outputs": [],
   "source": [
    "disk_a_gcxs = ctx.create_disk_analysis(dataset_gcxs)\n",
    "disk_r_gcxs = ctx.run(disk_a_gcxs)\n",
    "assert np.allclose(disk_r_gcxs.intensity.raw_data, disk_r.intensity.raw_data)"
   ]
  },
  {
   "cell_type": "markdown",
   "id": "ee88a591",
   "metadata": {},
   "source": [
    "The `MemoryDataSet` can also be used to perform conversion on-the-fly for a particular analysis using the `array_backends` argument. In this case the compatibility is explicit and the analysis must be compatible with at least one of the backends.\n",
    "\n",
    "The following will explicitly convert from GCXS to `scipy` COO format, and will automatically handle reshaping the data from the 4D data cube to a 2D flat-sig, flat-nav format during processing. Normally this kind of explicit conversion is not advised as it is the analysis itself which determines which inputs it supports; the dataset uses the analysis declaration to choose the most efficient conversion to carry out."
   ]
  },
  {
   "cell_type": "code",
   "execution_count": 20,
   "id": "dc15e586",
   "metadata": {},
   "outputs": [],
   "source": [
    "from sparseconverter import SCIPY_COO\n",
    "dataset_coo = ctx.load('memory', data=data_gcxs, array_backends=(SCIPY_COO,))"
   ]
  },
  {
   "cell_type": "code",
   "execution_count": 21,
   "id": "78acd16f",
   "metadata": {},
   "outputs": [],
   "source": [
    "disk_a_coo = ctx.create_disk_analysis(dataset_coo)\n",
    "disk_r_coo = ctx.run(disk_a_coo)\n",
    "assert np.allclose(disk_r_gcxs.intensity.raw_data, disk_r_coo.intensity.raw_data)"
   ]
  },
  {
   "cell_type": "markdown",
   "id": "898300e0",
   "metadata": {},
   "source": [
    "## Defining sparse-compatible UDFs\n",
    "\n",
    "We will now define some custom analyses (UDFs) which are sparse-compatible.\n",
    "\n",
    "### Maximum compatibility\n",
    "\n",
    "Naturally, if our UDF is sufficiently simple it can automatically support the majority of array-like usage, for example getting the mean value for each frame:"
   ]
  },
  {
   "cell_type": "code",
   "execution_count": 22,
   "id": "39fab2f4",
   "metadata": {},
   "outputs": [],
   "source": [
    "from sparseconverter import get_backend\n",
    "from libertem.udf.base import UDF\n",
    "\n",
    "class MeanFrameUDF(UDF):\n",
    "    \"\"\"\n",
    "    Compute the mean value of each frame and return a nav-shape array of means\n",
    "    \n",
    "    Supports the vast majority of sparse and GPU backends\n",
    "    \n",
    "    As a side effect prints the array type of frame (once-per-partition)\n",
    "    \"\"\"\n",
    "    def get_backends(self):\n",
    "        # Support all recommended array backends\n",
    "        # This is possible because we are only calling xp.mean on the array\n",
    "        # and most frameworks implement a mean(array)\n",
    "        return self.BACKEND_ALL\n",
    "    \n",
    "    def process_frame(self, frame):\n",
    "        # frame.mean() and assign the result\n",
    "        # self.xp can also be used to get numpy or\n",
    "        # cupy as appropriate to the worker\n",
    "        # see note below for self.forbuf\n",
    "        self.results.means[:] = self.forbuf(\n",
    "            frame.mean(),\n",
    "            self.results.means\n",
    "        )\n",
    "        # One-time print to print array type (only on)\n",
    "        if getattr(self, '_new_part', True):\n",
    "            print(f'Frame format: {get_backend(frame)}')\n",
    "            self._new_part = False        \n",
    "\n",
    "    def get_result_buffers(self):\n",
    "        # Declare the result array and its dtype\n",
    "        # np.result_type helps choose a compatible dtype\n",
    "        # for computation on the input dtype\n",
    "        # where='device' means result data will be accumulated\n",
    "        # in the GPU when running in this context, rather than\n",
    "        # transferring to the CPU each time\n",
    "        dtype = np.result_type(self.meta.input_dtype, np.float32)\n",
    "        return {\n",
    "            'means': self.buffer(\n",
    "                kind=\"nav\", dtype=dtype, where='device'\n",
    "            ),\n",
    "        }"
   ]
  },
  {
   "cell_type": "markdown",
   "id": "297c8f6f",
   "metadata": {},
   "source": [
    "Some notes:\n",
    "\n",
    "- The value `self.BACKEND_ALL` contains a list of 'standard' sparse / GPU backends which implement the majority of the numpy array interface and so can be used in this style of UDF. That said, there is no guarantee that each implementation will give identical results (or even run) without proper testing. The number of possible combinations is large, and the features of each API subtly different, and so it is not feasible to guarantee full compatability in all cases."
   ]
  },
  {
   "cell_type": "code",
   "execution_count": 23,
   "id": "ebbcb697",
   "metadata": {},
   "outputs": [
    {
     "data": {
      "text/plain": [
       "('cupyx.scipy.sparse.csr_matrix',\n",
       " 'cupyx.scipy.sparse.csc_matrix',\n",
       " 'cupyx.scipy.sparse.coo_matrix',\n",
       " 'scipy.sparse.csr_matrix',\n",
       " 'scipy.sparse.csc_matrix',\n",
       " 'scipy.sparse.coo_matrix',\n",
       " 'cupy',\n",
       " 'numpy',\n",
       " 'sparse.COO',\n",
       " 'sparse.GCXS')"
      ]
     },
     "execution_count": 23,
     "metadata": {},
     "output_type": "execute_result"
    }
   ],
   "source": [
    "UDF.BACKEND_ALL"
   ]
  },
  {
   "cell_type": "markdown",
   "id": "8f8c8de1",
   "metadata": {},
   "source": [
    "- The `self.forbuf(array, result_buffer)` helper method is used when assigning a result as it ensures that the data is densified or reshaped (if necessary) to support assignment into the result buffer. This abstracts away the details of handling multiple sparse frameworks with different APIs (2D vs nD, auto-densify vs. raise on assignment, etc).\n",
    "\n",
    "Let's test our UDF on a range of input formats, including the directly on the dense data for comparison:"
   ]
  },
  {
   "cell_type": "code",
   "execution_count": 24,
   "id": "f592f2ac",
   "metadata": {},
   "outputs": [],
   "source": [
    "dataset_dense = ctx.load('memory', data=dense_data, sig_dims=2, num_partitions=1)"
   ]
  },
  {
   "cell_type": "code",
   "execution_count": 25,
   "id": "709e755c",
   "metadata": {},
   "outputs": [
    {
     "name": "stdout",
     "output_type": "stream",
     "text": [
      "Frame format: numpy\n",
      "RESULT => 63.60888671875\n",
      "Frame format: scipy.sparse.csr_matrix\n",
      "RESULT => 63.60888671875\n",
      "Frame format: sparse.GCXS\n",
      "RESULT => 63.60888671875\n"
     ]
    }
   ],
   "source": [
    "# NBVAL_IGNORE_OUTPUT\n",
    "print(f\"RESULT => {ctx.run_udf(dataset_dense, MeanFrameUDF())['means'].data.sum()}\")\n",
    "print(f\"RESULT => {ctx.run_udf(dataset_csr, MeanFrameUDF())['means'].data.sum()}\")\n",
    "res = ctx.run_udf(dataset_gcxs, MeanFrameUDF())\n",
    "print(f\"RESULT => {res['means'].data.sum()}\")"
   ]
  },
  {
   "cell_type": "code",
   "execution_count": 26,
   "id": "d9a65145",
   "metadata": {},
   "outputs": [
    {
     "data": {
      "text/plain": [
       "Text(0.5, 1.0, 'Mean counts per-pixel')"
      ]
     },
     "execution_count": 26,
     "metadata": {},
     "output_type": "execute_result"
    },
    {
     "data": {
      "image/png": "[encoded data removed]",
      "text/plain": [
       "<Figure size 432x288 with 2 Axes>"
      ]
     },
     "metadata": {
      "needs_background": "light"
     },
     "output_type": "display_data"
    }
   ],
   "source": [
    "plt.imshow(res['means'].data)\n",
    "plt.colorbar(orientation=\"horizontal\")\n",
    "plt.title('Mean counts per-pixel')"
   ]
  },
  {
   "cell_type": "markdown",
   "id": "4106e565",
   "metadata": {},
   "source": [
    "#### CuPy support\n",
    "\n",
    "This UDF will also run on GPU through CuPy, on both `cupy` dense and `cupyx.scipy.sparse` arrays. The following section verifies if CuPy is available:"
   ]
  },
  {
   "cell_type": "code",
   "execution_count": 27,
   "id": "f0c08e15",
   "metadata": {},
   "outputs": [],
   "source": [
    "has_cupy = True\n",
    "try:\n",
    "    import cupy as cp\n",
    "except ImportError:\n",
    "    has_cupy = False\n",
    "if has_cupy:\n",
    "    from cupy_backends.cuda.api.runtime import CUDARuntimeError\n",
    "    try:\n",
    "        array = cp.zeros((1,))\n",
    "    except CUDARuntimeError:\n",
    "        has_cupy = False"
   ]
  },
  {
   "cell_type": "markdown",
   "id": "2b1f17f7",
   "metadata": {},
   "source": [
    "We can again use the `MemoryDataSet` to perform on-the-fly conversion from the dense data we generated into a `cupyx.scipy.sparse.csr_matrix` format, to supply to our 'wide-support' UDF. To ensure that the computation actually happens on the GPU we create a LiberTEM context with one `CUDA` worker and zero cpu-workers.\n",
    "\n",
    "The following cell will only run if CuPy is available:"
   ]
  },
  {
   "cell_type": "code",
   "execution_count": 28,
   "id": "e27cc4fb",
   "metadata": {},
   "outputs": [
    {
     "name": "stderr",
     "output_type": "stream",
     "text": [
      "C:\\Users\\weber\\miniconda3\\envs\\libertem310\\lib\\site-packages\\distributed\\node.py:179: UserWarning: Port 8787 is already in use.\n",
      "Perhaps you already have a cluster running?\n",
      "Hosting the HTTP server on port 64880 instead\n",
      "  warnings.warn(\n"
     ]
    }
   ],
   "source": [
    "if has_cupy:\n",
    "    from libertem.executor.dask import DaskJobExecutor, cluster_spec\n",
    "    ctx_cupy = lt.Context(\n",
    "        # FIXME NEEDS TO BE SIMPLIFIED!!!\n",
    "        DaskJobExecutor.make_local(\n",
    "            cluster_spec(\n",
    "                cpus=0,\n",
    "                cudas=1,\n",
    "                cuda_info={0: {'mem_info': (512 * 2**20, 1024 * 2**20)}},\n",
    "                has_cupy=True\n",
    "            )\n",
    "        )\n",
    "    )"
   ]
  },
  {
   "cell_type": "code",
   "execution_count": 29,
   "id": "f1111bf7",
   "metadata": {
    "scrolled": false
   },
   "outputs": [
    {
     "name": "stderr",
     "output_type": "stream",
     "text": [
      "C:\\Users\\weber\\miniconda3\\envs\\libertem310\\lib\\site-packages\\distributed\\worker.py:2843: UserWarning: Large object of size 1.00 MiB detected in task graph: \n",
      "  (<UDFTask [<class '__main__.MeanFrameUDF'>]>, 'UDF ... -7a8c79794d62')\n",
      "Consider scattering large objects ahead of time\n",
      "with client.scatter to reduce scheduler burden and \n",
      "keep data on workers\n",
      "\n",
      "    future = client.submit(func, big_data)    # bad\n",
      "\n",
      "    big_future = client.scatter(big_data)     # good\n",
      "    future = client.submit(func, big_future)  # good\n",
      "  warnings.warn(\n"
     ]
    },
    {
     "name": "stdout",
     "output_type": "stream",
     "text": [
      "RESULT => 63.60888671875\n"
     ]
    }
   ],
   "source": [
    "# NBVAL_IGNORE_OUTPUT\n",
    "if has_cupy:\n",
    "    from sparseconverter import CUPY_SCIPY_CSR\n",
    "    \n",
    "    dataset_cupy_csr = ctx_cupy.load('memory', data=dense_data, array_backends=(CUPY_SCIPY_CSR,))\n",
    "    print(f\"RESULT => {ctx_cupy.run_udf(dataset_cupy_csr, MeanFrameUDF())['means'].data.sum()}\")"
   ]
  },
  {
   "cell_type": "markdown",
   "id": "50cded2a",
   "metadata": {},
   "source": [
    "With this particular CUDA-only `Context`, dense datasets will be automatically be moved to the GPU, as long as the UDF supports it (if not then this strange `Context` will raise an error):"
   ]
  },
  {
   "cell_type": "code",
   "execution_count": 30,
   "id": "e974ad43",
   "metadata": {},
   "outputs": [
    {
     "name": "stdout",
     "output_type": "stream",
     "text": [
      "RESULT => 63.60888671875 (on GPU)\n"
     ]
    }
   ],
   "source": [
    "# NBVAL_IGNORE_OUTPUT\n",
    "if has_cupy:\n",
    "    print(f\"RESULT => {ctx_cupy.run_udf(dataset_dense, MeanFrameUDF())['means'].data.sum()} (on GPU)\")"
   ]
  },
  {
   "cell_type": "markdown",
   "id": "7ea23307",
   "metadata": {},
   "source": [
    "### Declaring Specific API compatibility\n",
    "\n",
    "We can also rely on a specific library's API in our UDFs, by declaring compatibility with a subset of the available backends. For example a `scipy.sparse` matrix does not support the `np.where` function, which we could use for value thresholding:"
   ]
  },
  {
   "cell_type": "code",
   "execution_count": 31,
   "id": "1c08851d",
   "metadata": {},
   "outputs": [
    {
     "name": "stdout",
     "output_type": "stream",
     "text": [
      "ValueError: setting an array element with a sequence.\n"
     ]
    }
   ],
   "source": [
    "import scipy.sparse\n",
    "# raises ValueError\n",
    "rand_data = np.random.randint(0, 5, size=(10, 10))\n",
    "sparse_d = scipy.sparse.csr_matrix(rand_data)\n",
    "try:\n",
    "    np.where(sparse_d > 2, sparse_d, 0)\n",
    "except ValueError as e:\n",
    "    print(f'ValueError: {e}')"
   ]
  },
  {
   "cell_type": "markdown",
   "id": "042f0f97",
   "metadata": {},
   "source": [
    "However there is a sparse-supporting `where` function of `pydata.sparse`:"
   ]
  },
  {
   "cell_type": "code",
   "execution_count": 32,
   "id": "4c397fce",
   "metadata": {},
   "outputs": [
    {
     "name": "stdout",
     "output_type": "stream",
     "text": [
      "<GCXS: shape=(10, 10), dtype=int32, nnz=31, fill_value=0, compressed_axes=(0,)>\n"
     ]
    }
   ],
   "source": [
    "# NBVAL_IGNORE_OUTPUT\n",
    "import sparse\n",
    "sparse_d = sparse.GCXS.from_numpy(rand_data)\n",
    "print(sparse.where(sparse_d > 2, sparse_d, 0))"
   ]
  },
  {
   "cell_type": "markdown",
   "id": "61b8cee5",
   "metadata": {},
   "source": [
    "The example is a bit contrived, but if we wanted to take advantage of `sparse.where` for processing sparse data, we can do this by declaring specific backends:"
   ]
  },
  {
   "cell_type": "code",
   "execution_count": 33,
   "id": "f659d655",
   "metadata": {},
   "outputs": [],
   "source": [
    "from libertem.udf.sum import SumUDF\n",
    "from sparseconverter import SPARSE_COO, SPARSE_GCXS\n",
    "\n",
    "class ThresholdSumSparse(SumUDF):\n",
    "    \"\"\"\n",
    "    Sum the values of pixels with a value > threshold\n",
    "    \n",
    "    Uses sparse.where for thresholding, which is compatible\n",
    "    with pydata.sparse arrays (declared in get_backends)\n",
    "    \"\"\"\n",
    "    def __init__(self, threshold=0, dtype='float32'):\n",
    "        UDF.__init__(self, threshold=threshold, dtype=dtype)\n",
    "    \n",
    "    def get_backends(self):\n",
    "        # process_tile is compatible with pydata.sparse arrays only\n",
    "        # it would be possible to adapt this UDF to also run on\n",
    "        # dense numpy and cupy arrays via np.where (not done here)\n",
    "        return (SPARSE_COO, SPARSE_GCXS,)\n",
    "    \n",
    "    def process_tile(self, tile):\n",
    "        more_than_t = sparse.where(tile > self.params.threshold, tile, 0)\n",
    "        sum_per_tile = more_than_t.sum(axis=0)\n",
    "        \n",
    "        self.results.intensity[:] += self.forbuf(\n",
    "            sum_per_tile,\n",
    "            self.results.intensity\n",
    "        )"
   ]
  },
  {
   "cell_type": "markdown",
   "id": "c7328b9b",
   "metadata": {},
   "source": [
    "We can run this in parallel with the normal SumUDF maintaining the sparse-compatibility of ThresholdSumSparse. Firstly we run on the dense dataset (for example purposes):"
   ]
  },
  {
   "cell_type": "code",
   "execution_count": 34,
   "id": "5b9276c0",
   "metadata": {},
   "outputs": [],
   "source": [
    "threshold_level = 3\n",
    "sum_results = ctx.run_udf(dataset_dense, udf=(SumUDF(), ThresholdSumSparse(threshold=threshold_level)))"
   ]
  },
  {
   "cell_type": "markdown",
   "id": "f830035d",
   "metadata": {},
   "source": [
    "We can see the difference in background noise level between the two UDFs:"
   ]
  },
  {
   "cell_type": "code",
   "execution_count": 35,
   "id": "4a39b167",
   "metadata": {},
   "outputs": [
    {
     "data": {
      "text/plain": [
       "Text(0.5, 0.98, 'Dense input data')"
      ]
     },
     "execution_count": 35,
     "metadata": {},
     "output_type": "execute_result"
    },
    {
     "data": {
      "image/png": "[encoded data removed]",
      "text/plain": [
       "<Figure size 576x360 with 2 Axes>"
      ]
     },
     "metadata": {
      "needs_background": "light"
     },
     "output_type": "display_data"
    }
   ],
   "source": [
    "from matplotlib.colors import LogNorm\n",
    "fig, (ax0, ax1) = plt.subplots(1, 2, figsize=(8, 5))\n",
    "ax0.imshow(sum_results[0]['intensity'].data + 1, norm=LogNorm(vmin=1, vmax=1000))\n",
    "ax0.set_title('Sum frame')\n",
    "ax1.imshow(sum_results[1]['intensity'].data + 1, norm=LogNorm(vmin=1, vmax=1000))\n",
    "ax1.set_title(f'Sum frame (values > {threshold_level})')\n",
    "fig.suptitle('Dense input data')"
   ]
  },
  {
   "cell_type": "markdown",
   "id": "f24e7e7b",
   "metadata": {},
   "source": [
    "Even if we supply data in a different format, the UDF definition is used to convert to a compatible form. Here we use the on-disk raw CSR (`scipy`) data, and LiberTEM handles conversion to `sparse.GCXS` to take advantage of `sparse.where`:"
   ]
  },
  {
   "cell_type": "code",
   "execution_count": 36,
   "id": "5d2f685d",
   "metadata": {},
   "outputs": [],
   "source": [
    "sum_results_sparse = ctx.run_udf(dataset_csr, udf=(SumUDF(), ThresholdSumSparse(threshold=threshold_level)))"
   ]
  },
  {
   "cell_type": "code",
   "execution_count": 37,
   "id": "f16be26d",
   "metadata": {},
   "outputs": [
    {
     "data": {
      "text/plain": [
       "Text(0.5, 0.98, 'RawCSR input data')"
      ]
     },
     "execution_count": 37,
     "metadata": {},
     "output_type": "execute_result"
    },
    {
     "data": {
      "image/png": "[encoded data removed]",
      "text/plain": [
       "<Figure size 576x360 with 2 Axes>"
      ]
     },
     "metadata": {
      "needs_background": "light"
     },
     "output_type": "display_data"
    }
   ],
   "source": [
    "fig, (ax0, ax1) = plt.subplots(1, 2, figsize=(8, 5))\n",
    "ax0.imshow(sum_results[0]['intensity'].data + 1, norm=LogNorm(vmin=1, vmax=1000))\n",
    "ax0.set_title('Sum frame')\n",
    "ax1.imshow(sum_results[1]['intensity'].data + 1, norm=LogNorm(vmin=1, vmax=1000))\n",
    "ax1.set_title(f'Sum frame (values > {threshold_level})')\n",
    "fig.suptitle('RawCSR input data')"
   ]
  },
  {
   "cell_type": "markdown",
   "id": "9eb4d507",
   "metadata": {},
   "source": [
    "This is not the most efficient way to perform a threshold-sum, but demonstrates that UDFs can declare their compatibility explicitly and LiberTEM will handle conversion as appropriate."
   ]
  },
  {
   "cell_type": "markdown",
   "id": "0a36821b",
   "metadata": {},
   "source": [
    "## Dask and HyperSpy integration"
   ]
  },
  {
   "cell_type": "code",
   "execution_count": 38,
   "id": "a999446a",
   "metadata": {},
   "outputs": [],
   "source": [
    "from libertem.contrib.daskadapter import make_dask_array"
   ]
  },
  {
   "cell_type": "markdown",
   "id": "4779cdc6",
   "metadata": {},
   "source": [
    "### Dask array with sparse chunks\n",
    "\n",
    "We explicitly request a sparse backend with ndarray support for the chunks by passing the `array_backend` parameter.\n",
    "See https://docs.dask.org/en/stable/array-sparse.html for details on sparse Dask arrays!"
   ]
  },
  {
   "cell_type": "code",
   "execution_count": 39,
   "id": "03905b77",
   "metadata": {},
   "outputs": [],
   "source": [
    "sparse_dask_array, workers = make_dask_array(dataset_csr, array_backend=SPARSE_GCXS)"
   ]
  },
  {
   "cell_type": "code",
   "execution_count": 40,
   "id": "383163d5",
   "metadata": {},
   "outputs": [
    {
     "data": {
      "text/html": [
       "<table>\n",
       "    <tr>\n",
       "        <td>\n",
       "            <table>\n",
       "                <thead>\n",
       "                    <tr>\n",
       "                        <td> </td>\n",
       "                        <th> Array </th>\n",
       "                        <th> Chunk </th>\n",
       "                    </tr>\n",
       "                </thead>\n",
       "                <tbody>\n",
       "                    \n",
       "                    <tr>\n",
       "                        <th> Bytes </th>\n",
       "                        <td> 4.00 MiB </td>\n",
       "                        <td> 4.00 MiB </td>\n",
       "                    </tr>\n",
       "                    \n",
       "                    <tr>\n",
       "                        <th> Shape </th>\n",
       "                        <td> (8, 32, 64, 64) </td>\n",
       "                        <td> (8, 32, 64, 64) </td>\n",
       "                    </tr>\n",
       "                    <tr>\n",
       "                        <th> Count </th>\n",
       "                        <td> 4 Tasks </td>\n",
       "                        <td> 1 Chunks </td>\n",
       "                    </tr>\n",
       "                    <tr>\n",
       "                    <th> Type </th>\n",
       "                    <td> float32 </td>\n",
       "                    <td> numpy.ndarray </td>\n",
       "                    </tr>\n",
       "                </tbody>\n",
       "            </table>\n",
       "        </td>\n",
       "        <td>\n",
       "        <svg width=\"423\" height=\"205\" style=\"stroke:rgb(0,0,0);stroke-width:1\" >\n",
       "\n",
       "  <!-- Horizontal lines -->\n",
       "  <line x1=\"0\" y1=\"0\" x2=\"39\" y2=\"0\" style=\"stroke-width:2\" />\n",
       "  <line x1=\"0\" y1=\"27\" x2=\"39\" y2=\"27\" style=\"stroke-width:2\" />\n",
       "\n",
       "  <!-- Vertical lines -->\n",
       "  <line x1=\"0\" y1=\"0\" x2=\"0\" y2=\"27\" style=\"stroke-width:2\" />\n",
       "  <line x1=\"39\" y1=\"0\" x2=\"39\" y2=\"27\" style=\"stroke-width:2\" />\n",
       "\n",
       "  <!-- Colored Rectangle -->\n",
       "  <polygon points=\"0.0,0.0 39.793935054828374,0.0 39.793935054828374,27.675387197907465 0.0,27.675387197907465\" style=\"fill:#ECB172A0;stroke-width:0\"/>\n",
       "\n",
       "  <!-- Text -->\n",
       "  <text x=\"19.896968\" y=\"47.675387\" font-size=\"1.0rem\" font-weight=\"100\" text-anchor=\"middle\" >8</text>\n",
       "  <text x=\"59.793935\" y=\"13.837694\" font-size=\"1.0rem\" font-weight=\"100\" text-anchor=\"middle\" transform=\"rotate(0,59.793935,13.837694)\">1</text>\n",
       "\n",
       "\n",
       "  <!-- Horizontal lines -->\n",
       "  <line x1=\"109\" y1=\"0\" x2=\"144\" y2=\"35\" style=\"stroke-width:2\" />\n",
       "  <line x1=\"109\" y1=\"120\" x2=\"144\" y2=\"155\" style=\"stroke-width:2\" />\n",
       "\n",
       "  <!-- Vertical lines -->\n",
       "  <line x1=\"109\" y1=\"0\" x2=\"109\" y2=\"120\" style=\"stroke-width:2\" />\n",
       "  <line x1=\"144\" y1=\"35\" x2=\"144\" y2=\"155\" style=\"stroke-width:2\" />\n",
       "\n",
       "  <!-- Colored Rectangle -->\n",
       "  <polygon points=\"109.0,0.0 144.29411764705884,35.294117647058826 144.29411764705884,155.29411764705884 109.0,120.0\" style=\"fill:#ECB172A0;stroke-width:0\"/>\n",
       "\n",
       "  <!-- Horizontal lines -->\n",
       "  <line x1=\"109\" y1=\"0\" x2=\"229\" y2=\"0\" style=\"stroke-width:2\" />\n",
       "  <line x1=\"144\" y1=\"35\" x2=\"264\" y2=\"35\" style=\"stroke-width:2\" />\n",
       "\n",
       "  <!-- Vertical lines -->\n",
       "  <line x1=\"109\" y1=\"0\" x2=\"144\" y2=\"35\" style=\"stroke-width:2\" />\n",
       "  <line x1=\"229\" y1=\"0\" x2=\"264\" y2=\"35\" style=\"stroke-width:2\" />\n",
       "\n",
       "  <!-- Colored Rectangle -->\n",
       "  <polygon points=\"109.0,0.0 229.0,0.0 264.29411764705884,35.294117647058826 144.29411764705884,35.294117647058826\" style=\"fill:#ECB172A0;stroke-width:0\"/>\n",
       "\n",
       "  <!-- Horizontal lines -->\n",
       "  <line x1=\"144\" y1=\"35\" x2=\"264\" y2=\"35\" style=\"stroke-width:2\" />\n",
       "  <line x1=\"144\" y1=\"155\" x2=\"264\" y2=\"155\" style=\"stroke-width:2\" />\n",
       "\n",
       "  <!-- Vertical lines -->\n",
       "  <line x1=\"144\" y1=\"35\" x2=\"144\" y2=\"155\" style=\"stroke-width:2\" />\n",
       "  <line x1=\"264\" y1=\"35\" x2=\"264\" y2=\"155\" style=\"stroke-width:2\" />\n",
       "\n",
       "  <!-- Colored Rectangle -->\n",
       "  <polygon points=\"144.29411764705884,35.294117647058826 264.29411764705884,35.294117647058826 264.29411764705884,155.29411764705884 144.29411764705884,155.29411764705884\" style=\"fill:#ECB172A0;stroke-width:0\"/>\n",
       "\n",
       "  <!-- Text -->\n",
       "  <text x=\"204.294118\" y=\"175.294118\" font-size=\"1.0rem\" font-weight=\"100\" text-anchor=\"middle\" >64</text>\n",
       "  <text x=\"284.294118\" y=\"95.294118\" font-size=\"1.0rem\" font-weight=\"100\" text-anchor=\"middle\" transform=\"rotate(0,284.294118,95.294118)\">64</text>\n",
       "  <text x=\"116.647059\" y=\"157.647059\" font-size=\"1.0rem\" font-weight=\"100\" text-anchor=\"middle\" transform=\"rotate(45,116.647059,157.647059)\">32</text>\n",
       "</svg>\n",
       "        </td>\n",
       "    </tr>\n",
       "</table>"
      ],
      "text/plain": [
       "dask.array<reshape, shape=(8, 32, 64, 64), dtype=float32, chunksize=(8, 32, 64, 64), chunktype=numpy.ndarray>"
      ]
     },
     "execution_count": 40,
     "metadata": {},
     "output_type": "execute_result"
    }
   ],
   "source": [
    "sparse_dask_array"
   ]
  },
  {
   "cell_type": "code",
   "execution_count": 41,
   "id": "9ed1db15",
   "metadata": {},
   "outputs": [
    {
     "name": "stdout",
     "output_type": "stream",
     "text": [
      "63.60888671875\n"
     ]
    }
   ],
   "source": [
    "# NBVAL_IGNORE_OUTPUT\n",
    "print(sparse_dask_array.sum().compute() / np.prod(sparse_dask_array.shape[2:]))"
   ]
  },
  {
   "cell_type": "markdown",
   "id": "10f62464",
   "metadata": {},
   "source": [
    "### Dask array with dense CuPy chunks\n",
    "\n",
    "We explicitly request the CUPY backend for the chunks by passing the `array_backend` parameter.\n",
    "See https://docs.dask.org/en/stable/gpu.html for details on Dask arrays on GPUs!"
   ]
  },
  {
   "cell_type": "code",
   "execution_count": 42,
   "id": "5f49a07d",
   "metadata": {},
   "outputs": [],
   "source": [
    "# NBVAL_IGNORE_OUTPUT\n",
    "if has_cupy:\n",
    "    from sparseconverter import CUPY\n",
    "    \n",
    "    cupy_dask_array, workers = make_dask_array(dataset_csr, array_backend=CUPY)\n",
    "    cupy_dask_array"
   ]
  },
  {
   "cell_type": "code",
   "execution_count": 43,
   "id": "c88271b3",
   "metadata": {},
   "outputs": [
    {
     "name": "stdout",
     "output_type": "stream",
     "text": [
      "63.608887\n"
     ]
    }
   ],
   "source": [
    "# NBVAL_IGNORE_OUTPUT\n",
    "if has_cupy:\n",
    "    print(cupy_dask_array.sum().compute() / np.prod(cupy_dask_array.shape[2:]))"
   ]
  },
  {
   "cell_type": "markdown",
   "id": "5cad1f6d",
   "metadata": {},
   "source": [
    "### Using pyxem on a sparse dataset\n",
    "\n",
    "By default `make_dask_array()` will convert chunks to NumPy since that is expected by most downstream users, including pyxem and HyperSpy."
   ]
  },
  {
   "cell_type": "code",
   "execution_count": 44,
   "id": "5bbf3d53",
   "metadata": {},
   "outputs": [
    {
     "name": "stderr",
     "output_type": "stream",
     "text": [
      "WARNING:silx.opencl.common:Unable to import pyOpenCl. Please install it from: https://pypi.org/project/pyopencl\n"
     ]
    }
   ],
   "source": [
    "import pyxem"
   ]
  },
  {
   "cell_type": "code",
   "execution_count": 45,
   "id": "41b9b091",
   "metadata": {},
   "outputs": [],
   "source": [
    "dense_dask_array, workers = make_dask_array(dataset_csr)\n",
    "dense_4d = pyxem.signals.LazyDiffraction2D(dense_dask_array)"
   ]
  },
  {
   "cell_type": "code",
   "execution_count": 46,
   "id": "d319d224",
   "metadata": {},
   "outputs": [
    {
     "name": "stdout",
     "output_type": "stream",
     "text": [
      "[########################################] | 100% Completed | 115.50 ms\n"
     ]
    },
    {
     "data": {
      "image/png": "[encoded data removed]",
      "text/plain": [
       "<Figure size 432x144 with 2 Axes>"
      ]
     },
     "metadata": {
      "needs_background": "light"
     },
     "output_type": "display_data"
    },
    {
     "data": {
      "image/png": "[encoded data removed]",
      "text/plain": [
       "<Figure size 432x392.727 with 2 Axes>"
      ]
     },
     "metadata": {
      "needs_background": "light"
     },
     "output_type": "display_data"
    }
   ],
   "source": [
    "# NBVAL_IGNORE_OUTPUT\n",
    "dense_4d.plot()"
   ]
  },
  {
   "cell_type": "code",
   "execution_count": null,
   "id": "68742cc4",
   "metadata": {},
   "outputs": [],
   "source": []
  }
 ],
 "metadata": {
  "kernelspec": {
   "display_name": "Python 3 (ipykernel)",
   "language": "python",
   "name": "python3"
  },
  "language_info": {
   "codemirror_mode": {
    "name": "ipython",
    "version": 3
   },
   "file_extension": ".py",
   "mimetype": "text/x-python",
   "name": "python",
   "nbconvert_exporter": "python",
   "pygments_lexer": "ipython3",
   "version": "3.10.4"
  }
 },
 "nbformat": 4,
 "nbformat_minor": 5
}
