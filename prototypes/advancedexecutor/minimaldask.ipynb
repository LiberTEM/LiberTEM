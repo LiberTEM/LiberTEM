{
 "cells": [
  {
   "cell_type": "code",
   "execution_count": 1,
   "id": "suspected-strip",
   "metadata": {},
   "outputs": [],
   "source": [
    "import numpy as np\n",
    "import distributed\n",
    "import dask\n",
    "import dask.array as da\n",
    "from libertem.common import Slice, Shape"
   ]
  },
  {
   "cell_type": "code",
   "execution_count": 2,
   "id": "blind-stage",
   "metadata": {},
   "outputs": [],
   "source": [
    "c = distributed.Client()"
   ]
  },
  {
   "cell_type": "code",
   "execution_count": 3,
   "id": "parliamentary-british",
   "metadata": {},
   "outputs": [],
   "source": [
    "path = r'E:\\LargeData\\LargeData\\ER-C-1\\groups\\data_science\\data\\reference\\EMPAD\\BiFeO3\\scan_11_x256_y256.raw'\n",
    "shape = (256, 256, 130, 128)\n",
    "dtype=np.float32"
   ]
  },
  {
   "cell_type": "code",
   "execution_count": 4,
   "id": "checked-george",
   "metadata": {},
   "outputs": [],
   "source": [
    "def mmap_load_chunk(filename, shape, dtype, offset, sl):\n",
    "    data = np.memmap(filename, mode='r', shape=shape, dtype=dtype, offset=offset)\n",
    "    return data[sl]\n",
    "\n",
    "\n",
    "def mmap_dask_array(filename, shape, dtype, offset=0, blocksize=5):\n",
    "    load = dask.delayed(mmap_load_chunk)\n",
    "    chunks = []\n",
    "    for index in range(0, shape[0], blocksize):\n",
    "        # Truncate the last chunk if necessary\n",
    "        chunk_size = min(blocksize, shape[0] - index)\n",
    "        chunk = dask.array.from_delayed(\n",
    "            load(\n",
    "                filename,\n",
    "                shape=shape,\n",
    "                dtype=dtype,\n",
    "                offset=offset,\n",
    "                sl=slice(index, index + chunk_size)\n",
    "            ),\n",
    "            shape=(chunk_size, ) + shape[1:],\n",
    "            dtype=dtype\n",
    "        )\n",
    "        chunks.append(chunk)\n",
    "    return da.concatenate(chunks, axis=0)\n"
   ]
  },
  {
   "cell_type": "code",
   "execution_count": 5,
   "id": "dependent-hours",
   "metadata": {},
   "outputs": [],
   "source": [
    "arr = mmap_dask_array(\n",
    "    filename=path,\n",
    "    shape=shape,\n",
    "    dtype=dtype,\n",
    "    blocksize=8\n",
    ")"
   ]
  },
  {
   "cell_type": "code",
   "execution_count": 6,
   "id": "cognitive-miracle",
   "metadata": {},
   "outputs": [],
   "source": [
    "flat_masks_T = np.random.random((np.prod(shape[2:]), 2))"
   ]
  },
  {
   "cell_type": "code",
   "execution_count": 7,
   "id": "forbidden-advocate",
   "metadata": {},
   "outputs": [],
   "source": [
    "da_masks_T = c.scatter(flat_masks_T)"
   ]
  },
  {
   "cell_type": "code",
   "execution_count": 8,
   "id": "dental-central",
   "metadata": {},
   "outputs": [],
   "source": [
    "def calculate_partition(partition, sl, flat_masks_T):\n",
    "    '''\n",
    "    Depends on unsliced sig since it doesn't have a MaskContainer to do the slicing and transposing!\n",
    "    To get a distributed scattered \"MaskContainer\" we may have to precompute the tiles it needs and submit them as futures?\n",
    "    '''\n",
    "    if hasattr(partition, 'compute'):\n",
    "        partition = partition.compute()\n",
    "    flat_nav = np.prod(partition.shape[:2])\n",
    "    flat_sig = np.prod(partition.shape[2:])\n",
    "    flat_partition = partition.reshape((flat_nav, flat_sig))\n",
    "    result = flat_partition @ flat_masks_T\n",
    "    debug = (type(partition), type(sl), type(flat_masks_T))\n",
    "    return (sl, result.reshape((*partition.shape[:2], flat_masks_T.shape[-1])), debug)"
   ]
  },
  {
   "cell_type": "code",
   "execution_count": 9,
   "id": "indonesian-maine",
   "metadata": {},
   "outputs": [],
   "source": [
    "assert all(len(ch) == 1 for ch in arr.chunks[1:])"
   ]
  },
  {
   "cell_type": "code",
   "execution_count": 10,
   "id": "killing-wilson",
   "metadata": {},
   "outputs": [
    {
     "name": "stdout",
     "output_type": "stream",
     "text": [
      "Wall time: 6.44 s\n"
     ]
    }
   ],
   "source": [
    "%%time\n",
    "ref = (arr.reshape((np.prod(shape[:2]), np.prod(shape[2:]))) @ flat_masks_T).reshape((*shape[:2], flat_masks_T.shape[-1])).compute()"
   ]
  },
  {
   "cell_type": "code",
   "execution_count": 11,
   "id": "elegant-liberia",
   "metadata": {},
   "outputs": [],
   "source": [
    "result = np.zeros((*shape[:2], flat_masks_T.shape[-1]), dtype=np.result_type(dtype, flat_masks_T.dtype))"
   ]
  },
  {
   "cell_type": "markdown",
   "id": "trying-lexington",
   "metadata": {},
   "source": [
    "## Use Dask array blocks\n",
    "\n",
    "They are transmitted as-is to the function. The function has to compute it itself, apparently there's no specific interoperability between Dask arrays and futures."
   ]
  },
  {
   "cell_type": "code",
   "execution_count": 12,
   "id": "coastal-guatemala",
   "metadata": {},
   "outputs": [
    {
     "name": "stdout",
     "output_type": "stream",
     "text": [
      "(<class 'numpy.memmap'>, <class 'libertem.common.slice.Slice'>, <class 'numpy.ndarray'>)\n",
      "(<class 'numpy.memmap'>, <class 'libertem.common.slice.Slice'>, <class 'numpy.ndarray'>)\n",
      "(<class 'numpy.memmap'>, <class 'libertem.common.slice.Slice'>, <class 'numpy.ndarray'>)\n",
      "(<class 'numpy.memmap'>, <class 'libertem.common.slice.Slice'>, <class 'numpy.ndarray'>)\n",
      "(<class 'numpy.memmap'>, <class 'libertem.common.slice.Slice'>, <class 'numpy.ndarray'>)\n",
      "(<class 'numpy.ndarray'>, <class 'libertem.common.slice.Slice'>, <class 'numpy.ndarray'>)\n",
      "(<class 'numpy.memmap'>, <class 'libertem.common.slice.Slice'>, <class 'numpy.ndarray'>)\n",
      "(<class 'numpy.memmap'>, <class 'libertem.common.slice.Slice'>, <class 'numpy.ndarray'>)\n",
      "(<class 'numpy.memmap'>, <class 'libertem.common.slice.Slice'>, <class 'numpy.ndarray'>)\n",
      "(<class 'numpy.memmap'>, <class 'libertem.common.slice.Slice'>, <class 'numpy.ndarray'>)\n",
      "(<class 'numpy.memmap'>, <class 'libertem.common.slice.Slice'>, <class 'numpy.ndarray'>)\n",
      "(<class 'numpy.memmap'>, <class 'libertem.common.slice.Slice'>, <class 'numpy.ndarray'>)\n",
      "(<class 'numpy.ndarray'>, <class 'libertem.common.slice.Slice'>, <class 'numpy.ndarray'>)\n",
      "(<class 'numpy.ndarray'>, <class 'libertem.common.slice.Slice'>, <class 'numpy.ndarray'>)\n",
      "(<class 'numpy.ndarray'>, <class 'libertem.common.slice.Slice'>, <class 'numpy.ndarray'>)\n",
      "(<class 'numpy.ndarray'>, <class 'libertem.common.slice.Slice'>, <class 'numpy.ndarray'>)\n",
      "(<class 'numpy.memmap'>, <class 'libertem.common.slice.Slice'>, <class 'numpy.ndarray'>)\n",
      "(<class 'numpy.ndarray'>, <class 'libertem.common.slice.Slice'>, <class 'numpy.ndarray'>)\n",
      "(<class 'numpy.ndarray'>, <class 'libertem.common.slice.Slice'>, <class 'numpy.ndarray'>)\n",
      "(<class 'numpy.ndarray'>, <class 'libertem.common.slice.Slice'>, <class 'numpy.ndarray'>)\n",
      "(<class 'numpy.ndarray'>, <class 'libertem.common.slice.Slice'>, <class 'numpy.ndarray'>)\n",
      "(<class 'numpy.ndarray'>, <class 'libertem.common.slice.Slice'>, <class 'numpy.ndarray'>)\n",
      "(<class 'numpy.ndarray'>, <class 'libertem.common.slice.Slice'>, <class 'numpy.ndarray'>)\n",
      "(<class 'numpy.ndarray'>, <class 'libertem.common.slice.Slice'>, <class 'numpy.ndarray'>)\n",
      "(<class 'numpy.ndarray'>, <class 'libertem.common.slice.Slice'>, <class 'numpy.ndarray'>)\n",
      "(<class 'numpy.ndarray'>, <class 'libertem.common.slice.Slice'>, <class 'numpy.ndarray'>)\n",
      "(<class 'numpy.ndarray'>, <class 'libertem.common.slice.Slice'>, <class 'numpy.ndarray'>)\n",
      "(<class 'numpy.ndarray'>, <class 'libertem.common.slice.Slice'>, <class 'numpy.ndarray'>)\n",
      "(<class 'numpy.ndarray'>, <class 'libertem.common.slice.Slice'>, <class 'numpy.ndarray'>)\n",
      "(<class 'numpy.ndarray'>, <class 'libertem.common.slice.Slice'>, <class 'numpy.ndarray'>)\n",
      "(<class 'numpy.ndarray'>, <class 'libertem.common.slice.Slice'>, <class 'numpy.ndarray'>)\n",
      "(<class 'numpy.ndarray'>, <class 'libertem.common.slice.Slice'>, <class 'numpy.ndarray'>)\n",
      "Wall time: 6.49 s\n"
     ]
    }
   ],
   "source": [
    "%%time\n",
    "start = 0\n",
    "futures = []\n",
    "for index, size  in enumerate(arr.chunks[0]):\n",
    "    partition = arr.blocks[index]\n",
    "    sl = Slice(origin=(start, 0, 0, 0), shape=Shape((size, *shape[1:]), sig_dims=2))\n",
    "    fut = c.submit(\n",
    "        calculate_partition,\n",
    "        partition=partition,\n",
    "        sl=sl,\n",
    "        flat_masks_T=da_masks_T,\n",
    "    )\n",
    "    futures.append(fut)\n",
    "    start += size\n",
    "\n",
    "for fut, res in distributed.as_completed(futures, with_results=True):\n",
    "    res_sl, res_data, debug = res\n",
    "    real_res_sl = res_sl.get(nav_only=True)\n",
    "    result[real_res_sl] = res_data\n",
    "    print(debug)"
   ]
  },
  {
   "cell_type": "code",
   "execution_count": 13,
   "id": "accepted-dodge",
   "metadata": {},
   "outputs": [
    {
     "data": {
      "text/plain": [
       "True"
      ]
     },
     "execution_count": 13,
     "metadata": {},
     "output_type": "execute_result"
    }
   ],
   "source": [
    "np.allclose(ref, result)"
   ]
  },
  {
   "cell_type": "markdown",
   "id": "beginning-nudist",
   "metadata": {},
   "source": [
    "## Submit the partition calculation as a future\n",
    "\n",
    "In this example it is really lightweight since it just memory-maps and slices an array."
   ]
  },
  {
   "cell_type": "code",
   "execution_count": 14,
   "id": "together-audio",
   "metadata": {},
   "outputs": [
    {
     "name": "stdout",
     "output_type": "stream",
     "text": [
      "(<class 'numpy.memmap'>, <class 'libertem.common.slice.Slice'>, <class 'numpy.ndarray'>)\n",
      "(<class 'numpy.memmap'>, <class 'libertem.common.slice.Slice'>, <class 'numpy.ndarray'>)\n",
      "(<class 'numpy.memmap'>, <class 'libertem.common.slice.Slice'>, <class 'numpy.ndarray'>)\n",
      "(<class 'numpy.ndarray'>, <class 'libertem.common.slice.Slice'>, <class 'numpy.ndarray'>)\n",
      "(<class 'numpy.memmap'>, <class 'libertem.common.slice.Slice'>, <class 'numpy.ndarray'>)\n",
      "(<class 'numpy.memmap'>, <class 'libertem.common.slice.Slice'>, <class 'numpy.ndarray'>)\n",
      "(<class 'numpy.memmap'>, <class 'libertem.common.slice.Slice'>, <class 'numpy.ndarray'>)\n",
      "(<class 'numpy.memmap'>, <class 'libertem.common.slice.Slice'>, <class 'numpy.ndarray'>)\n",
      "(<class 'numpy.ndarray'>, <class 'libertem.common.slice.Slice'>, <class 'numpy.ndarray'>)\n",
      "(<class 'numpy.ndarray'>, <class 'libertem.common.slice.Slice'>, <class 'numpy.ndarray'>)\n",
      "(<class 'numpy.memmap'>, <class 'libertem.common.slice.Slice'>, <class 'numpy.ndarray'>)\n",
      "(<class 'numpy.ndarray'>, <class 'libertem.common.slice.Slice'>, <class 'numpy.ndarray'>)\n",
      "(<class 'numpy.memmap'>, <class 'libertem.common.slice.Slice'>, <class 'numpy.ndarray'>)\n",
      "(<class 'numpy.memmap'>, <class 'libertem.common.slice.Slice'>, <class 'numpy.ndarray'>)\n",
      "(<class 'numpy.memmap'>, <class 'libertem.common.slice.Slice'>, <class 'numpy.ndarray'>)\n",
      "(<class 'numpy.memmap'>, <class 'libertem.common.slice.Slice'>, <class 'numpy.ndarray'>)\n",
      "(<class 'numpy.memmap'>, <class 'libertem.common.slice.Slice'>, <class 'numpy.ndarray'>)\n",
      "(<class 'numpy.memmap'>, <class 'libertem.common.slice.Slice'>, <class 'numpy.ndarray'>)\n",
      "(<class 'numpy.memmap'>, <class 'libertem.common.slice.Slice'>, <class 'numpy.ndarray'>)\n",
      "(<class 'numpy.memmap'>, <class 'libertem.common.slice.Slice'>, <class 'numpy.ndarray'>)\n",
      "(<class 'numpy.memmap'>, <class 'libertem.common.slice.Slice'>, <class 'numpy.ndarray'>)\n",
      "(<class 'numpy.memmap'>, <class 'libertem.common.slice.Slice'>, <class 'numpy.ndarray'>)\n",
      "(<class 'numpy.memmap'>, <class 'libertem.common.slice.Slice'>, <class 'numpy.ndarray'>)\n",
      "(<class 'numpy.memmap'>, <class 'libertem.common.slice.Slice'>, <class 'numpy.ndarray'>)\n",
      "(<class 'numpy.memmap'>, <class 'libertem.common.slice.Slice'>, <class 'numpy.ndarray'>)\n",
      "(<class 'numpy.memmap'>, <class 'libertem.common.slice.Slice'>, <class 'numpy.ndarray'>)\n",
      "(<class 'numpy.memmap'>, <class 'libertem.common.slice.Slice'>, <class 'numpy.ndarray'>)\n",
      "(<class 'numpy.memmap'>, <class 'libertem.common.slice.Slice'>, <class 'numpy.ndarray'>)\n",
      "(<class 'numpy.memmap'>, <class 'libertem.common.slice.Slice'>, <class 'numpy.ndarray'>)\n",
      "(<class 'numpy.memmap'>, <class 'libertem.common.slice.Slice'>, <class 'numpy.ndarray'>)\n",
      "(<class 'numpy.memmap'>, <class 'libertem.common.slice.Slice'>, <class 'numpy.ndarray'>)\n",
      "(<class 'numpy.memmap'>, <class 'libertem.common.slice.Slice'>, <class 'numpy.ndarray'>)\n",
      "Wall time: 3.94 s\n"
     ]
    }
   ],
   "source": [
    "%%time\n",
    "start = 0\n",
    "futures = []\n",
    "for index, size  in enumerate(arr.chunks[0]):\n",
    "    partition = c.submit(\n",
    "        mmap_load_chunk,\n",
    "        filename=path,\n",
    "        shape=shape,\n",
    "        dtype=dtype,\n",
    "        offset=0,\n",
    "        sl=slice(start, start+size)\n",
    "    )\n",
    "    sl = Slice(origin=(start, 0, 0, 0), shape=Shape((size, *shape[1:]), sig_dims=2))\n",
    "    fut = c.submit(\n",
    "        calculate_partition,\n",
    "        partition=partition,\n",
    "        sl=sl,\n",
    "        flat_masks_T=da_masks_T,\n",
    "    )\n",
    "    futures.append(fut)\n",
    "    start += size\n",
    "\n",
    "for fut, res in distributed.as_completed(futures, with_results=True):\n",
    "    res_sl, res_data, debug = res\n",
    "    real_res_sl = res_sl.get(nav_only=True)\n",
    "    result[real_res_sl] = res_data\n",
    "    print(debug)"
   ]
  },
  {
   "cell_type": "code",
   "execution_count": 15,
   "id": "alert-reminder",
   "metadata": {},
   "outputs": [
    {
     "data": {
      "text/plain": [
       "True"
      ]
     },
     "execution_count": 15,
     "metadata": {},
     "output_type": "execute_result"
    }
   ],
   "source": [
    "np.allclose(ref, result)"
   ]
  },
  {
   "cell_type": "code",
   "execution_count": null,
   "id": "consecutive-brick",
   "metadata": {},
   "outputs": [],
   "source": []
  }
 ],
 "metadata": {
  "kernelspec": {
   "display_name": "Python 3",
   "language": "python",
   "name": "python3"
  },
  "language_info": {
   "codemirror_mode": {
    "name": "ipython",
    "version": 3
   },
   "file_extension": ".py",
   "mimetype": "text/x-python",
   "name": "python",
   "nbconvert_exporter": "python",
   "pygments_lexer": "ipython3",
   "version": "3.8.5"
  }
 },
 "nbformat": 4,
 "nbformat_minor": 5
}
