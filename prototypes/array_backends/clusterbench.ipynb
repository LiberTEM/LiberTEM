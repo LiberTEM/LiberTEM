{
 "cells": [
  {
   "cell_type": "code",
   "execution_count": 1,
   "id": "7579970f",
   "metadata": {},
   "outputs": [],
   "source": [
    "import numpy as np\n",
    "\n",
    "from libertem.api import Context\n",
    "from libertem.udf.masks import ApplyMasksUDF\n",
    "from libertem.udf.stddev import StdDevUDF\n",
    "from libertem.udf.logsum import LogsumUDF"
   ]
  },
  {
   "cell_type": "code",
   "execution_count": 2,
   "id": "196aaa97",
   "metadata": {},
   "outputs": [
    {
     "name": "stderr",
     "output_type": "stream",
     "text": [
      "distributed.utils - INFO - Reload module tmpmutz_tfa from .py file\n",
      "distributed.utils - INFO - Reload module tmp02n06yc3 from .py file\n",
      "distributed.utils - INFO - Reload module tmp1atq8_oi from .py file\n",
      "distributed.utils - INFO - Reload module tmp7hlfty5w from .py file\n",
      "distributed.utils - INFO - Reload module tmpukwbwwsi from .py file\n",
      "distributed.utils - INFO - Reload module tmpeug08vmo from .py file\n",
      "distributed.utils - INFO - Reload module tmpmbuturp5 from .py file\n",
      "distributed.utils - INFO - Reload module tmpmdrohdbo from .py file\n",
      "distributed.utils - INFO - Reload module tmpqhcrus5i from .py file\n",
      "distributed.utils - INFO - Reload module tmpxwszhrbh from .py file\n",
      "distributed.utils - INFO - Reload module tmpp6oa8d62 from .py file\n",
      "distributed.utils - INFO - Reload module tmpe7f4x9uo from .py file\n",
      "distributed.utils - INFO - Reload module tmp8av9g1ga from .py file\n",
      "distributed.utils - INFO - Reload module tmp6olhdgyk from .py file\n",
      "distributed.utils - INFO - Reload module tmp1615bo8q from .py file\n",
      "distributed.utils - INFO - Reload module tmp815vbq12 from .py file\n",
      "distributed.utils - INFO - Reload module tmpeaed56e3 from .py file\n",
      "distributed.utils - INFO - Reload module tmph3zmpqxh from .py file\n",
      "distributed.utils - INFO - Reload module tmpaupt7pfi from .py file\n",
      "distributed.utils - INFO - Reload module tmp7ycuenlv from .py file\n",
      "distributed.preloading - INFO - Import preload module: /tmp/tmpmutz_tfa.py\n",
      "distributed.utils - INFO - Reload module tmpjmec7f7l from .py file\n",
      "distributed.preloading - INFO - Import preload module: /tmp/tmpjmec7f7l.py\n",
      "distributed.utils - INFO - Reload module tmptzli7gyd from .py file\n",
      "distributed.preloading - INFO - Import preload module: /tmp/tmp02n06yc3.py\n",
      "distributed.utils - INFO - Reload module tmpk5f9j8m_ from .py file\n",
      "distributed.preloading - INFO - Import preload module: /tmp/tmpk5f9j8m_.py\n",
      "distributed.utils - INFO - Reload module tmpw40zi2t0 from .py file\n",
      "distributed.preloading - INFO - Import preload module: /tmp/tmp7hlfty5w.py\n",
      "distributed.utils - INFO - Reload module tmp8sqjzjvg from .py file\n",
      "distributed.preloading - INFO - Import preload module: /tmp/tmp8sqjzjvg.py\n",
      "distributed.utils - INFO - Reload module tmp3zv8f2mc from .py file\n",
      "distributed.preloading - INFO - Import preload module: /tmp/tmpukwbwwsi.py\n",
      "distributed.utils - INFO - Reload module tmpiviy3agn from .py file\n",
      "distributed.preloading - INFO - Import preload module: /tmp/tmpiviy3agn.py\n",
      "distributed.preloading - INFO - Import preload module: libertem.preload\n",
      "distributed.preloading - INFO - Import preload module: /tmp/tmpmdrohdbo.py\n",
      "distributed.utils - INFO - Reload module tmpm0e2dbqh from .py file\n",
      "distributed.preloading - INFO - Import preload module: /tmp/tmpm0e2dbqh.py\n",
      "distributed.preloading - INFO - Import preload module: /tmp/tmpeug08vmo.py\n",
      "distributed.utils - INFO - Reload module tmp2bfh_w0l from .py file\n",
      "distributed.preloading - INFO - Import preload module: /tmp/tmp2bfh_w0l.py\n",
      "distributed.preloading - INFO - Import preload module: libertem.preload\n",
      "distributed.preloading - INFO - Import preload module: libertem.preload\n",
      "distributed.preloading - INFO - Import preload module: /tmp/tmp1atq8_oi.py\n",
      "distributed.utils - INFO - Reload module tmpu4c_omzd from .py file\n",
      "distributed.preloading - INFO - Import preload module: /tmp/tmpu4c_omzd.py\n",
      "distributed.utils - INFO - Reload module tmpg9wbuks1 from .py file\n",
      "distributed.preloading - INFO - Import preload module: libertem.preload\n",
      "distributed.preloading - INFO - Import preload module: /tmp/tmpqhcrus5i.py\n",
      "distributed.utils - INFO - Reload module tmp78tex430 from .py file\n",
      "distributed.preloading - INFO - Import preload module: /tmp/tmp78tex430.py\n",
      "distributed.preloading - INFO - Import preload module: libertem.preload\n",
      "distributed.preloading - INFO - Import preload module: libertem.preload\n",
      "distributed.preloading - INFO - Import preload module: /tmp/tmpmbuturp5.py\n",
      "distributed.utils - INFO - Reload module tmp1ag805hq from .py file\n",
      "distributed.preloading - INFO - Import preload module: /tmp/tmp1ag805hq.py\n",
      "distributed.utils - INFO - Reload module tmprgamy34j from .py file\n",
      "distributed.preloading - INFO - Import preload module: libertem.preload\n",
      "distributed.preloading - INFO - Import preload module: libertem.preload\n",
      "distributed.preloading - INFO - Import preload module: libertem.preload\n",
      "distributed.preloading - INFO - Import preload module: /tmp/tmpg9wbuks1.py\n",
      "distributed.preloading - INFO - Import preload module: /tmp/tmpe7f4x9uo.py\n",
      "distributed.utils - INFO - Reload module tmpnj5byss_ from .py file\n",
      "distributed.preloading - INFO - Import preload module: /tmp/tmpnj5byss_.py\n",
      "distributed.preloading - INFO - Import preload module: /tmp/tmp1615bo8q.py\n",
      "distributed.utils - INFO - Reload module tmpu7gudg1z from .py file\n",
      "distributed.preloading - INFO - Import preload module: /tmp/tmpu7gudg1z.py\n",
      "distributed.preloading - INFO - Import preload module: /tmp/tmpxwszhrbh.py\n",
      "distributed.utils - INFO - Reload module tmph003qua8 from .py file\n",
      "distributed.preloading - INFO - Import preload module: /tmp/tmph003qua8.py\n",
      "distributed.preloading - INFO - Import preload module: /tmp/tmp6olhdgyk.py\n",
      "distributed.utils - INFO - Reload module tmpstv3leta from .py file\n",
      "distributed.preloading - INFO - Import preload module: /tmp/tmpstv3leta.py\n",
      "distributed.preloading - INFO - Import preload module: /tmp/tmp8av9g1ga.py\n",
      "distributed.utils - INFO - Reload module tmp5vbts1r_ from .py file\n",
      "distributed.preloading - INFO - Import preload module: /tmp/tmp5vbts1r_.py\n",
      "distributed.preloading - INFO - Import preload module: /tmp/tmp815vbq12.py\n",
      "distributed.utils - INFO - Reload module tmpo8wqfwjp from .py file\n",
      "distributed.preloading - INFO - Import preload module: /tmp/tmpo8wqfwjp.py\n",
      "distributed.preloading - INFO - Import preload module: libertem.preload\n",
      "distributed.preloading - INFO - Import preload module: /tmp/tmpp6oa8d62.py\n",
      "distributed.utils - INFO - Reload module tmptdaw08g_ from .py file\n",
      "distributed.preloading - INFO - Import preload module: /tmp/tmptdaw08g_.py\n",
      "distributed.preloading - INFO - Import preload module: libertem.preload\n",
      "distributed.preloading - INFO - Import preload module: /tmp/tmph3zmpqxh.py\n",
      "distributed.utils - INFO - Reload module tmp49itzpeg from .py file\n",
      "distributed.preloading - INFO - Import preload module: /tmp/tmp49itzpeg.py\n",
      "distributed.preloading - INFO - Import preload module: libertem.preload\n",
      "distributed.preloading - INFO - Import preload module: libertem.preload\n",
      "distributed.preloading - INFO - Import preload module: libertem.preload\n",
      "distributed.preloading - INFO - Import preload module: /tmp/tmpaupt7pfi.py\n",
      "distributed.utils - INFO - Reload module tmp2jrrez57 from .py file\n",
      "distributed.preloading - INFO - Import preload module: /tmp/tmp2jrrez57.py\n",
      "distributed.preloading - INFO - Import preload module: libertem.preload\n",
      "distributed.preloading - INFO - Import preload module: libertem.preload\n",
      "distributed.preloading - INFO - Import preload module: libertem.preload\n",
      "distributed.preloading - INFO - Import preload module: /tmp/tmp7ycuenlv.py\n",
      "distributed.utils - INFO - Reload module tmp0ix8su06 from .py file\n",
      "distributed.preloading - INFO - Import preload module: /tmp/tmp0ix8su06.py\n",
      "distributed.preloading - INFO - Import preload module: libertem.preload\n",
      "distributed.preloading - INFO - Import preload module: /tmp/tmpw40zi2t0.py\n",
      "distributed.utils - INFO - Reload module tmpdixot3qm from .py file\n",
      "distributed.preloading - INFO - Import preload module: /tmp/tmpdixot3qm.py\n",
      "distributed.preloading - INFO - Import preload module: /tmp/tmptzli7gyd.py\n",
      "distributed.utils - INFO - Reload module tmpcce_kbwt from .py file\n",
      "distributed.preloading - INFO - Import preload module: /tmp/tmpcce_kbwt.py\n",
      "distributed.preloading - INFO - Import preload module: /tmp/tmpeaed56e3.py\n",
      "distributed.utils - INFO - Reload module tmpnl_nvwzu from .py file\n",
      "distributed.preloading - INFO - Import preload module: /tmp/tmpnl_nvwzu.py\n",
      "distributed.preloading - INFO - Import preload module: libertem.preload\n",
      "distributed.preloading - INFO - Import preload module: libertem.preload\n",
      "distributed.preloading - INFO - Import preload module: libertem.preload\n",
      "distributed.preloading - INFO - Import preload module: /tmp/tmp3zv8f2mc.py\n",
      "distributed.utils - INFO - Reload module tmpvqxigp5n from .py file\n",
      "distributed.preloading - INFO - Import preload module: /tmp/tmpvqxigp5n.py\n"
     ]
    },
    {
     "name": "stderr",
     "output_type": "stream",
     "text": [
      "distributed.preloading - INFO - Import preload module: libertem.preload\n",
      "distributed.preloading - INFO - Import preload module: libertem.preload\n",
      "distributed.preloading - INFO - Import preload module: /tmp/tmprgamy34j.py\n",
      "distributed.utils - INFO - Reload module tmpqv6o0qbg from .py file\n",
      "distributed.preloading - INFO - Import preload module: /tmp/tmpqv6o0qbg.py\n",
      "distributed.preloading - INFO - Import preload module: libertem.preload\n",
      "distributed.preloading - INFO - Import preload module: libertem.preload\n"
     ]
    }
   ],
   "source": [
    "ctx = Context()"
   ]
  },
  {
   "cell_type": "code",
   "execution_count": 3,
   "id": "74699c85",
   "metadata": {},
   "outputs": [],
   "source": [
    "ds = ctx.load('RAW', path='/cachedata/weber/tmpsparse.raw', sig_shape=(512, 512), nav_shape=(512, 256), dtype=np.float32)"
   ]
  },
  {
   "cell_type": "code",
   "execution_count": 4,
   "id": "1f925e63",
   "metadata": {},
   "outputs": [],
   "source": [
    "def mask_factory():\n",
    "    return np.ones((3, ) + tuple(ds.shape.sig))\n",
    "\n",
    "udfs = [ApplyMasksUDF(mask_factories=mask_factory)]  # , StdDevUDF(), LogsumUDF()"
   ]
  },
  {
   "cell_type": "code",
   "execution_count": 5,
   "id": "1ce1ca28",
   "metadata": {},
   "outputs": [
    {
     "name": "stdout",
     "output_type": "stream",
     "text": [
      "CPU times: user 3.28 s, sys: 744 ms, total: 4.02 s\n",
      "Wall time: 8.55 s\n"
     ]
    }
   ],
   "source": [
    "%%time\n",
    "res = ctx.run_udf(dataset=ds, udf=udfs)"
   ]
  },
  {
   "cell_type": "code",
   "execution_count": 6,
   "id": "19893eeb",
   "metadata": {},
   "outputs": [
    {
     "name": "stdout",
     "output_type": "stream",
     "text": [
      "CPU times: user 2.99 s, sys: 585 ms, total: 3.57 s\n",
      "Wall time: 6.89 s\n"
     ]
    }
   ],
   "source": [
    "%%time\n",
    "res = ctx.run_udf(dataset=ds, udf=udfs)"
   ]
  },
  {
   "cell_type": "markdown",
   "id": "ff9a363b",
   "metadata": {},
   "source": [
    "## Baseline\n",
    "CPU times: user 6.75 s, sys: 2.9 s, total: 9.65 s\n",
    "Wall time: 22.6 s\n",
    "## 8 per GPU hybrid\n",
    "CPU times: user 5.05 s, sys: 1.97 s, total: 7.02 s\n",
    "Wall time: 20.2 s\n",
    "## 8 per GPU CPU 2x oversubscribed\n",
    "CPU times: user 6.93 s, sys: 2.74 s, total: 9.68 s\n",
    "Wall time: 19.3 s\n",
    "## 4 per GPU, CPU 2x oversubscribed\n",
    "CPU times: user 6.53 s, sys: 2.69 s, total: 9.22 s\n",
    "Wall time: 18.9 s\n",
    "## 4 per GPU no oversubscription\n",
    "CPU times: user 5.66 s, sys: 2.21 s, total: 7.87 s\n",
    "Wall time: 19.2 s\n"
   ]
  },
  {
   "cell_type": "code",
   "execution_count": 7,
   "id": "5d1782c3",
   "metadata": {},
   "outputs": [
    {
     "data": {
      "text/plain": [
       "137438953472"
      ]
     },
     "execution_count": 7,
     "metadata": {},
     "output_type": "execute_result"
    }
   ],
   "source": [
    "512 * 512 * 512 * 256 * 4"
   ]
  },
  {
   "cell_type": "code",
   "execution_count": 8,
   "id": "5acfba8d",
   "metadata": {},
   "outputs": [
    {
     "data": {
      "text/plain": [
       "7.248677248677249"
      ]
     },
     "execution_count": 8,
     "metadata": {},
     "output_type": "execute_result"
    }
   ],
   "source": [
    "137 / 18.9"
   ]
  },
  {
   "cell_type": "code",
   "execution_count": 9,
   "id": "998a3f51",
   "metadata": {},
   "outputs": [],
   "source": [
    "import cupy\n",
    "import numba"
   ]
  },
  {
   "cell_type": "code",
   "execution_count": 10,
   "id": "1c610749",
   "metadata": {},
   "outputs": [
    {
     "data": {
      "text/plain": [
       "(8463777792, 25447170048)"
      ]
     },
     "execution_count": 10,
     "metadata": {},
     "output_type": "execute_result"
    }
   ],
   "source": [
    "cupy.cuda.Device(0).mem_info"
   ]
  },
  {
   "cell_type": "code",
   "execution_count": 11,
   "id": "f0edf42b",
   "metadata": {},
   "outputs": [
    {
     "ename": "SyntaxError",
     "evalue": "invalid syntax (502497447.py, line 2)",
     "output_type": "error",
     "traceback": [
      "\u001b[0;36m  File \u001b[0;32m\"/tmp/ipykernel_1373921/502497447.py\"\u001b[0;36m, line \u001b[0;32m2\u001b[0m\n\u001b[0;31m    print(device.)\u001b[0m\n\u001b[0m                 ^\u001b[0m\n\u001b[0;31mSyntaxError\u001b[0m\u001b[0;31m:\u001b[0m invalid syntax\n"
     ]
    }
   ],
   "source": [
    "for device in numba.cuda.gpus:\n",
    "    print(device.)"
   ]
  },
  {
   "cell_type": "code",
   "execution_count": null,
   "id": "4ff72b9b",
   "metadata": {},
   "outputs": [],
   "source": [
    "numba.cuda.detect()"
   ]
  },
  {
   "cell_type": "code",
   "execution_count": null,
   "id": "59e2aa32",
   "metadata": {},
   "outputs": [],
   "source": [
    "numba.cuda.current_context(0).get_memory_info()"
   ]
  },
  {
   "cell_type": "code",
   "execution_count": null,
   "id": "c19b7658",
   "metadata": {},
   "outputs": [],
   "source": []
  }
 ],
 "metadata": {
  "kernelspec": {
   "display_name": "Python 3 (ipykernel)",
   "language": "python",
   "name": "python3"
  },
  "language_info": {
   "codemirror_mode": {
    "name": "ipython",
    "version": 3
   },
   "file_extension": ".py",
   "mimetype": "text/x-python",
   "name": "python",
   "nbconvert_exporter": "python",
   "pygments_lexer": "ipython3",
   "version": "3.8.11"
  }
 },
 "nbformat": 4,
 "nbformat_minor": 5
}
