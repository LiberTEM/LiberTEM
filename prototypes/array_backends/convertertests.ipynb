{
 "cells": [
  {
   "cell_type": "code",
   "execution_count": 93,
   "id": "fc876892",
   "metadata": {},
   "outputs": [
    {
     "name": "stdout",
     "output_type": "stream",
     "text": [
      "<class 'numpy.complex64'> <class 'cupyx.scipy.sparse._csr.csr_matrix'> ok\n",
      "<class 'numpy.complex64'> <class 'cupyx.scipy.sparse._csc.csc_matrix'> ok\n",
      "<class 'numpy.complex64'> <class 'cupyx.scipy.sparse._coo.coo_matrix'> ok\n",
      "<class 'numpy.complex128'> <class 'cupyx.scipy.sparse._csr.csr_matrix'> *** RESULTS DIFFER ***\n",
      "nonzeros [ 1.+0.j  0.+1.j  0.+1.j -1.-1.j]\n",
      "data [ 1.+0.j -1.-1.j]\n",
      "sums 1j -1j\n",
      "a\n",
      " [[ 1.+0.j  0.+1.j]\n",
      " [ 0.+1.j -1.-1.j]]\n",
      "check\n",
      " [[ 1.+0.j  0.+0.j]\n",
      " [ 0.+0.j -1.-1.j]]\n",
      "diff\n",
      " [[0.+0.j 0.-1.j]\n",
      " [0.-1.j 0.+0.j]]\n",
      "<class 'numpy.complex128'> <class 'cupyx.scipy.sparse._csc.csc_matrix'> *** RESULTS DIFFER ***\n",
      "nonzeros [ 1.+0.j  0.+1.j  0.+1.j -1.-1.j]\n",
      "data [ 1.+0.j -1.-1.j]\n",
      "sums 1j -1j\n",
      "a\n",
      " [[ 1.+0.j  0.+1.j]\n",
      " [ 0.+1.j -1.-1.j]]\n",
      "check\n",
      " [[ 1.+0.j  0.+0.j]\n",
      " [ 0.+0.j -1.-1.j]]\n",
      "diff\n",
      " [[0.+0.j 0.-1.j]\n",
      " [0.-1.j 0.+0.j]]\n",
      "<class 'numpy.complex128'> <class 'cupyx.scipy.sparse._coo.coo_matrix'> ok\n"
     ]
    }
   ],
   "source": [
    "import numpy as np\n",
    "import cupy as cp\n",
    "import cupyx\n",
    "\n",
    "for dtype in np.complex64, np.complex128:\n",
    "    for sparse_cls in (\n",
    "        cupyx.scipy.sparse.csr_matrix, cupyx.scipy.sparse.csc_matrix, cupyx.scipy.sparse.coo_matrix\n",
    "    ):\n",
    "        \n",
    "        a = cp.array([\n",
    "            (1, 1j),\n",
    "            (1j, -1-1j)\n",
    "\n",
    "        ]).astype(dtype)\n",
    "        sp = sparse_cls(a)\n",
    "        check = sp.todense()\n",
    "        if not np.allclose(a, check):\n",
    "            print(dtype, sparse_cls, \"*** RESULTS DIFFER ***\")\n",
    "            print(\"nonzeros\", a[a != 0])\n",
    "            print(\"data\", sp.data)\n",
    "            print(\"sums\", a.sum(), sp.sum())\n",
    "            print(\"a\\n\", a)\n",
    "            print(\"check\\n\", check)\n",
    "            print(\"diff\\n\", check - a)\n",
    "        else:\n",
    "            print(dtype, sparse_cls, \"ok\")"
   ]
  },
  {
   "cell_type": "code",
   "execution_count": 72,
   "id": "626120dd",
   "metadata": {},
   "outputs": [],
   "source": [
    "a = np.array([\n",
    "    (1, 1j),\n",
    "    (1j, -1-1j)\n",
    "    \n",
    "]).astype(np.complex128)"
   ]
  },
  {
   "cell_type": "code",
   "execution_count": 73,
   "id": "54227f0d",
   "metadata": {},
   "outputs": [
    {
     "data": {
      "text/plain": [
       "(array([[ 1.+0.j,  0.+1.j],\n",
       "        [ 0.+1.j, -1.-1.j]]),\n",
       " array([[ 1.+0.j,  0.+1.j],\n",
       "        [ 0.+1.j, -1.-1.j]]))"
      ]
     },
     "execution_count": 73,
     "metadata": {},
     "output_type": "execute_result"
    }
   ],
   "source": [
    "a"
   ]
  },
  {
   "cell_type": "code",
   "execution_count": 79,
   "id": "dddf3d64",
   "metadata": {},
   "outputs": [
    {
     "data": {
      "text/plain": [
       "array([[ 1.+0.j,  0.+1.j],\n",
       "       [ 0.+1.j, -1.-1.j]])"
      ]
     },
     "execution_count": 79,
     "metadata": {},
     "output_type": "execute_result"
    }
   ],
   "source": [
    "aa = cp.array(a)\n",
    "aa"
   ]
  },
  {
   "cell_type": "code",
   "execution_count": 78,
   "id": "cd7654b9",
   "metadata": {},
   "outputs": [
    {
     "data": {
      "text/plain": [
       "<cupyx.scipy.sparse._csr.csr_matrix at 0x7f2f7eea7a00>"
      ]
     },
     "execution_count": 78,
     "metadata": {},
     "output_type": "execute_result"
    }
   ],
   "source": [
    "left = cupyx.scipy.sparse.csr_matrix(aa)\n",
    "left"
   ]
  },
  {
   "cell_type": "code",
   "execution_count": 88,
   "id": "1d03f322",
   "metadata": {},
   "outputs": [
    {
     "name": "stdout",
     "output_type": "stream",
     "text": [
      "allclose False\n",
      "aa\n",
      " [[ 1.+0.j  0.+1.j]\n",
      " [ 0.+1.j -1.-1.j]]\n",
      "check\n",
      " [[ 1.+0.j  0.+0.j]\n",
      " [ 0.+0.j -1.-1.j]]\n",
      "diff\n",
      " [[0.+0.j 0.-1.j]\n",
      " [0.-1.j 0.+0.j]]\n"
     ]
    }
   ],
   "source": [
    "check = left.todense()\n",
    "print(\"allclose\", np.allclose(aa, check))\n",
    "print(\"aa\\n\", aa)\n",
    "print(\"check\\n\", check)\n",
    "print(\"diff\\n\", check - aa)"
   ]
  },
  {
   "cell_type": "code",
   "execution_count": 81,
   "id": "d3ebe6d6",
   "metadata": {},
   "outputs": [
    {
     "data": {
      "text/plain": [
       "array([[0.+0.j, 0.-1.j],\n",
       "       [0.-1.j, 0.+0.j]])"
      ]
     },
     "execution_count": 81,
     "metadata": {},
     "output_type": "execute_result"
    }
   ],
   "source": [
    "check - aa"
   ]
  }
 ],
 "metadata": {
  "kernelspec": {
   "display_name": "Python 3 (ipykernel)",
   "language": "python",
   "name": "python3"
  },
  "language_info": {
   "codemirror_mode": {
    "name": "ipython",
    "version": 3
   },
   "file_extension": ".py",
   "mimetype": "text/x-python",
   "name": "python",
   "nbconvert_exporter": "python",
   "pygments_lexer": "ipython3",
   "version": "3.8.11"
  }
 },
 "nbformat": 4,
 "nbformat_minor": 5
}
