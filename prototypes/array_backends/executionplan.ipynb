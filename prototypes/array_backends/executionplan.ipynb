{
 "cells": [
  {
   "cell_type": "code",
   "execution_count": 51,
   "id": "20a218f2",
   "metadata": {},
   "outputs": [],
   "source": [
    "from libertem.common.array_backends import (\n",
    "    CPU_BACKENDS, CUDA_BACKENDS, CUPY_BACKENDS, NUMPY, CUPY, CUDA, SPARSE_GCXS, SCIPY_COO, CUPY_SCIPY_COO, BACKENDS\n",
    ")\n",
    "from collections import OrderedDict, defaultdict"
   ]
  },
  {
   "cell_type": "code",
   "execution_count": 87,
   "id": "4481a87e",
   "metadata": {},
   "outputs": [],
   "source": [
    "class UDF1:\n",
    "    def get_backends(self):\n",
    "        # Preference for dense, only ndarray\n",
    "        return (NUMPY, CUPY, SPARSE_GCXS)\n",
    "\n",
    "class UDF2:\n",
    "    def get_backends(self):\n",
    "        # Fallback, legacy default\n",
    "        return (NUMPY, )\n",
    "\n",
    "class UDF3:\n",
    "    def get_backends(self):\n",
    "        # Preference for sparse, duplicate backend specified\n",
    "        return (SCIPY_COO, CUPY_SCIPY_COO, CUPY, NUMPY, NUMPY)\n",
    "\n",
    "class UDF4:\n",
    "    def get_backends(self):\n",
    "        # Return single value instead of iterable\n",
    "        return CUPY_SCIPY_COO\n",
    "    \n",
    "class UDF5:\n",
    "    def get_backends(self):\n",
    "        # Fallback, legacy default\n",
    "        return (CUDA, CUPY)"
   ]
  },
  {
   "cell_type": "code",
   "execution_count": 95,
   "id": "70a6745a",
   "metadata": {},
   "outputs": [],
   "source": [
    "class DS1:\n",
    "    @property\n",
    "    def array_backends(self):\n",
    "        return (NUMPY, CUDA)\n",
    "\n",
    "class DS2:\n",
    "    @property\n",
    "    def array_backends(self):\n",
    "        # Supposed event dataset\n",
    "        return (SCIPY_COO, CUPY_SCIPY_COO)\n",
    "\n",
    "class DS3:\n",
    "    @property\n",
    "    def array_backends(self):\n",
    "        return (NUMPY, CUDA, CUPY)"
   ]
  },
  {
   "cell_type": "code",
   "execution_count": 96,
   "id": "33f66a28",
   "metadata": {},
   "outputs": [],
   "source": [
    "def _canonical_backends(backends):\n",
    "    if isinstance(backends, str):\n",
    "        return (backends, )\n",
    "    else:\n",
    "        return backends"
   ]
  },
  {
   "cell_type": "code",
   "execution_count": 99,
   "id": "aa218e68",
   "metadata": {},
   "outputs": [],
   "source": [
    "def execution_plan(ds, device_class, udfs, available_backends=BACKENDS):\n",
    "    remaining = list(udfs)\n",
    "    execution_plan = OrderedDict()\n",
    "    if device_class == 'cuda':\n",
    "        native_backends = available_backends.intersection(CUDA_BACKENDS)\n",
    "    elif device_class == 'cpu':\n",
    "        native_backends = available_backends(CPU_BACKENDS)\n",
    "    else:\n",
    "        raise ValueError(f\"Unknown device class{device_class}, allowed are 'cuda' and 'cpu'.\")\n",
    "        \n",
    "    aggregate_udf_aversion = defaultdict(lambda: 0.)\n",
    "    for udf in remaining:\n",
    "        backends = _canonical_backends(udf.get_backends())\n",
    "        for i, b in enumerate(backends):\n",
    "            aggregate_udf_aversion[b] += i / len(backends)\n",
    "    \n",
    "    backend_popularity = sorted(aggregate_udf_aversion.keys(), key=lambda b: aggregate_udf_aversion[b])\n",
    "    \n",
    "    def find_popular(remaining, restrict_to, preference_order=None):\n",
    "        '''\n",
    "        Parameters\n",
    "        ----------\n",
    "        \n",
    "        preference_order: Order of preference for tie breaking if several formats can work for the same number of UDFs\n",
    "        '''\n",
    "        if preference_order is None:\n",
    "            preference_order = ( )\n",
    "        popular = defaultdict(OrderedDict)\n",
    "        for udf in remaining:\n",
    "            for b in _canonical_backends(udf.get_backends()):\n",
    "                if b in restrict_to:\n",
    "                    # Use dict with value True to make sure UDFs are not counted double\n",
    "                    popular[b][udf] = True\n",
    "        most_popular = sorted(popular.keys(), key=lambda b: len(popular[b]), reverse=True)\n",
    "        if most_popular:\n",
    "            max_len = len(popular[most_popular[0]])\n",
    "            most_popular = [b for b in most_popular if len(popular[b]) >= max_len]\n",
    "            if len(most_popular) > 1:\n",
    "                for b in preference_order:\n",
    "                    if b in most_popular:\n",
    "                        return b, list(popular[b].keys())\n",
    "            b = most_popular[0]\n",
    "            return b, list(popular[b].keys())\n",
    "        else:\n",
    "            return None, None\n",
    "    \n",
    "    def apply(backend, udfs):\n",
    "        if backend is not None:\n",
    "            execution_plan[backend] = udfs\n",
    "            for udf in udfs:\n",
    "                remaining.remove(udf)\n",
    "                \n",
    "    # First assign UDFs that work without conversion\n",
    "    # with a tile format native to dataset and device class\n",
    "    apply(*find_popular(\n",
    "        remaining,\n",
    "        restrict_to=native_backends.intersection(ds.array_backends),\n",
    "        preference_order=ds.array_backends\n",
    "    ))\n",
    "    # Then assign UDFs that work with an array format that matches the devie class\n",
    "    # That means arrays will be converted to allow execution on GPU or CPU even if the\n",
    "    # dataset can't deliver that natively. That is the case for the dataset default NumPy\n",
    "    while True:\n",
    "        backend, selected_udfs = find_popular(\n",
    "            remaining,\n",
    "            restrict_to=native_backends,\n",
    "            preference_order=backend_popularity\n",
    "        )\n",
    "        if backend is not None:\n",
    "            apply(backend, selected_udfs)\n",
    "        else:\n",
    "            break\n",
    "    # Assign UDFs that work with a tile fomat native to the dataset\n",
    "    apply(*find_popular(\n",
    "        remaining,\n",
    "        restrict_to=available_backends.intersection(ds.array_backends),\n",
    "        preference_order=ds.array_backends\n",
    "    ))\n",
    "    # Finally assign UDFs to array formats even if they don't match the\n",
    "    # dataset or device class. This includes CPU fallback on GPU workers\n",
    "    while True:\n",
    "        backend, selected_udfs = find_popular(\n",
    "            remaining,\n",
    "            restrict_to=available_backends,\n",
    "            preference_order=backend_popularity\n",
    "        )\n",
    "        if backend is not None:\n",
    "            apply(backend, selected_udfs)\n",
    "        else:\n",
    "            break\n",
    "    # Now we should have covered all\n",
    "    if remaining:\n",
    "        for r in remaining:\n",
    "            for b in _canonical_backends(r.get_backends()):\n",
    "                if b not in BACKENDS:\n",
    "                    raise ValueError(f\"UDF {r} returned invalid backend {b}.\")\n",
    "        raise RuntimeError(f\"Could not find backends for remaining {remaining}.\")\n",
    "        \n",
    "    all_udfs = set()\n",
    "    for b, selected_udfs in execution_plan.items():\n",
    "        for udf in selected_udfs:\n",
    "            assert b in _canonical_backends(udf.get_backends())\n",
    "            assert b in available_backends\n",
    "            assert udf not in all_udfs\n",
    "            all_udfs.add(udf)\n",
    "    assert set(udfs) == all_udfs\n",
    "            \n",
    "    return execution_plan\n",
    "        "
   ]
  },
  {
   "cell_type": "code",
   "execution_count": 101,
   "id": "60c8bdb3",
   "metadata": {},
   "outputs": [
    {
     "data": {
      "text/plain": [
       "OrderedDict([('cuda', [<__main__.UDF5 at 0x1f95f71bca0>]),\n",
       "             ('numpy',\n",
       "              [<__main__.UDF1 at 0x1f9605d7af0>,\n",
       "               <__main__.UDF2 at 0x1f9605d7df0>,\n",
       "               <__main__.UDF3 at 0x1f95f71b220>])])"
      ]
     },
     "execution_count": 101,
     "metadata": {},
     "output_type": "execute_result"
    }
   ],
   "source": [
    "execution_plan(DS3(), 'cuda', (UDF1(), UDF2(), UDF3(), UDF5()), CPU_BACKENDS.union({CUDA}))"
   ]
  },
  {
   "cell_type": "code",
   "execution_count": 27,
   "id": "20feb3ab",
   "metadata": {},
   "outputs": [
    {
     "data": {
      "text/plain": [
       "[1, 2, 3]"
      ]
     },
     "execution_count": 27,
     "metadata": {},
     "output_type": "execute_result"
    }
   ],
   "source": [
    "l = [1, 2, 3]\n",
    "ll = list(l)\n",
    "ll.remove(3)\n",
    "l"
   ]
  },
  {
   "cell_type": "code",
   "execution_count": 1,
   "id": "d600e7f3",
   "metadata": {},
   "outputs": [
    {
     "ename": "NameError",
     "evalue": "name 'np' is not defined",
     "output_type": "error",
     "traceback": [
      "\u001b[1;31m---------------------------------------------------------------------------\u001b[0m",
      "\u001b[1;31mNameError\u001b[0m                                 Traceback (most recent call last)",
      "Input \u001b[1;32mIn [1]\u001b[0m, in \u001b[0;36m<cell line: 1>\u001b[1;34m()\u001b[0m\n\u001b[1;32m----> 1\u001b[0m \u001b[43mnp\u001b[49m\n",
      "\u001b[1;31mNameError\u001b[0m: name 'np' is not defined"
     ]
    }
   ],
   "source": [
    "np"
   ]
  },
  {
   "cell_type": "code",
   "execution_count": 2,
   "id": "88272527",
   "metadata": {},
   "outputs": [
    {
     "ename": "NameError",
     "evalue": "name 'np' is not defined",
     "output_type": "error",
     "traceback": [
      "\u001b[1;31m---------------------------------------------------------------------------\u001b[0m",
      "\u001b[1;31mNameError\u001b[0m                                 Traceback (most recent call last)",
      "Input \u001b[1;32mIn [2]\u001b[0m, in \u001b[0;36m<cell line: 1>\u001b[1;34m()\u001b[0m\n\u001b[1;32m----> 1\u001b[0m \u001b[43mnp\u001b[49m\u001b[38;5;241m.\u001b[39mmatrix\n",
      "\u001b[1;31mNameError\u001b[0m: name 'np' is not defined"
     ]
    }
   ],
   "source": [
    "np.matrix"
   ]
  },
  {
   "cell_type": "code",
   "execution_count": null,
   "id": "678f67e4",
   "metadata": {},
   "outputs": [],
   "source": []
  }
 ],
 "metadata": {
  "kernelspec": {
   "display_name": "Python 3 (ipykernel)",
   "language": "python",
   "name": "python3"
  },
  "language_info": {
   "codemirror_mode": {
    "name": "ipython",
    "version": 3
   },
   "file_extension": ".py",
   "mimetype": "text/x-python",
   "name": "python",
   "nbconvert_exporter": "python",
   "pygments_lexer": "ipython3",
   "version": "3.10.4"
  }
 },
 "nbformat": 4,
 "nbformat_minor": 5
}
