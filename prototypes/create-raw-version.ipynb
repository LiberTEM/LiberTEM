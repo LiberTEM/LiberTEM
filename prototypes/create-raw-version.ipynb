{
 "cells": [
  {
   "cell_type": "code",
   "execution_count": 1,
   "metadata": {},
   "outputs": [],
   "source": [
    "%matplotlib nbagg"
   ]
  },
  {
   "cell_type": "code",
   "execution_count": 2,
   "metadata": {},
   "outputs": [
    {
     "name": "stderr",
     "output_type": "stream",
     "text": [
      "/Users/weber/.conda/envs/libertem37/lib/python3.7/site-packages/pyUSID/viz/__init__.py:18: FutureWarning: Please use sidpy.viz.plot_utils instead of pyUSID.viz.plot_utils. pyUSID.plot_utils will be removed in a future release of pyUSID\n",
      "  FutureWarning)\n",
      "WARNING:hyperspy.api:The ipywidgets GUI elements are not available, probably because the hyperspy_gui_ipywidgets package is not installed.\n",
      "WARNING:hyperspy.api:The traitsui GUI elements are not available, probably because the hyperspy_gui_traitsui package is not installed.\n",
      "WARNING:silx.opencl.common:Unable to import pyOpenCl. Please install it from: http://pypi.python.org/pypi/pyopencl\n"
     ]
    }
   ],
   "source": [
    "import os\n",
    "import contextlib\n",
    "import glob\n",
    "\n",
    "import matplotlib.pyplot as plt\n",
    "import numpy as np\n",
    "import hyperspy.api as hs\n",
    "import pyxem\n",
    "import mrcfile\n",
    "import stemtool\n",
    "import pims\n",
    "\n",
    "import libertem\n",
    "import libertem.api as lt\n",
    "from libertem.executor.inline import InlineJobExecutor\n",
    "from libertem.udf.base import UDF\n",
    "from libertem.common.buffers import reshaped_view"
   ]
  },
  {
   "cell_type": "code",
   "execution_count": 3,
   "metadata": {},
   "outputs": [
    {
     "data": {
      "text/plain": [
       "'0.6.0.dev0'"
      ]
     },
     "execution_count": 3,
     "metadata": {},
     "output_type": "execute_result"
    }
   ],
   "source": [
    "libertem.__version__"
   ]
  },
  {
   "cell_type": "code",
   "execution_count": 4,
   "metadata": {},
   "outputs": [],
   "source": [
    "sourcefolder = '/cachedata/users/clausen/libertem-test-data/'\n",
    "targetfolder = '/cachedata/users/weber/libertem-test-data-raw/'\n",
    "assert os.path.exists(sourcefolder)\n",
    "assert os.path.exists(targetfolder)"
   ]
  },
  {
   "cell_type": "code",
   "execution_count": 5,
   "metadata": {},
   "outputs": [],
   "source": [
    "@contextlib.contextmanager\n",
    "def targetmap(targetfolder, relpath, shape, dtype):\n",
    "    targetname = os.path.join(targetfolder, f'{relpath}_{shape}_{dtype}.raw')\n",
    "    os.makedirs(os.path.dirname(targetname), exist_ok=True)\n",
    "    target = np.memmap(targetname, mode='w+', shape=shape, dtype=dtype)\n",
    "    yield target\n",
    "    del target"
   ]
  },
  {
   "cell_type": "code",
   "execution_count": 6,
   "metadata": {},
   "outputs": [
    {
     "name": "stdout",
     "output_type": "stream",
     "text": [
      "default.blo\n",
      "default.ser\n"
     ]
    }
   ],
   "source": [
    "for path in ['default.blo', 'default.ser']:\n",
    "    print(path)\n",
    "    data = hs.load(os.path.join(sourcefolder, path))\n",
    "    with targetmap(targetfolder, path, data.data.shape, data.data.dtype) as target:\n",
    "        target[:] = data.data"
   ]
  },
  {
   "cell_type": "code",
   "execution_count": 7,
   "metadata": {},
   "outputs": [
    {
     "name": "stdout",
     "output_type": "stream",
     "text": [
      "This mib file appears to be TEM data. The stack is returned with no reshaping.\n"
     ]
    }
   ],
   "source": [
    "relpath = 'default.mib'\n",
    "assert os.path.exists(os.path.join(sourcefolder, relpath))\n",
    "data = pyxem.utils.io_utils.load_mib(os.path.join(sourcefolder, relpath))\n",
    "shape = (32, 32, 256, 256)\n",
    "with targetmap(targetfolder, relpath, shape, data.data.dtype) as target:\n",
    "    target[:] = data.data.reshape(shape).compute()"
   ]
  },
  {
   "cell_type": "code",
   "execution_count": 8,
   "metadata": {},
   "outputs": [
    {
     "name": "stdout",
     "output_type": "stream",
     "text": [
      "0 /cachedata/users/clausen/libertem-test-data/dm/2018-7-17 15_29_0000.dm4 (3838, 3710)\n",
      "1 /cachedata/users/clausen/libertem-test-data/dm/2018-7-17 15_29_0001.dm4 (3838, 3710)\n",
      "2 /cachedata/users/clausen/libertem-test-data/dm/2018-7-17 15_29_0002.dm4 (3838, 3710)\n",
      "3 /cachedata/users/clausen/libertem-test-data/dm/2018-7-17 15_29_0003.dm4 (3838, 3710)\n",
      "4 /cachedata/users/clausen/libertem-test-data/dm/2018-7-17 15_29_0004.dm4 (3838, 3710)\n",
      "5 /cachedata/users/clausen/libertem-test-data/dm/2018-7-17 15_29_0005.dm4 (3838, 3710)\n",
      "6 /cachedata/users/clausen/libertem-test-data/dm/2018-7-17 15_29_0006.dm4 (3838, 3710)\n",
      "7 /cachedata/users/clausen/libertem-test-data/dm/2018-7-17 15_29_0007.dm4 (3838, 3710)\n",
      "8 /cachedata/users/clausen/libertem-test-data/dm/2018-7-17 15_29_0008.dm4 (3838, 3710)\n",
      "9 /cachedata/users/clausen/libertem-test-data/dm/2018-7-17 15_29_0009.dm4 (3838, 3710)\n"
     ]
    }
   ],
   "source": [
    "shape = (10, 3838, 3710)\n",
    "with targetmap(targetfolder, 'dm/2018-7-17 15_29.dm4', shape, 'float32') as target:\n",
    "    for i, f in enumerate(sorted(glob.glob(os.path.join(sourcefolder, 'dm/*.dm4')))):\n",
    "        data = hs.load(f)\n",
    "        print(i, f, data.data.shape)\n",
    "        target[i] = data.data"
   ]
  },
  {
   "cell_type": "code",
   "execution_count": 9,
   "metadata": {},
   "outputs": [
    {
     "name": "stdout",
     "output_type": "stream",
     "text": [
      "0 /cachedata/users/clausen/libertem-test-data/dm/3D/alpha-50_obj.dm3 (20, 3838, 3710)\n",
      "1 /cachedata/users/clausen/libertem-test-data/dm/3D/alpha-50_ref.dm3 (20, 3838, 3710)\n"
     ]
    }
   ],
   "source": [
    "shape = (40, 3838, 3710)\n",
    "with targetmap(targetfolder, 'dm/3D/alpha-50.dm3', shape, 'float32') as target:\n",
    "    for i, f in enumerate(sorted(glob.glob(os.path.join(sourcefolder, 'dm/3D/*.dm3')))):\n",
    "        data = hs.load(f)\n",
    "        print(i, f, data.data.shape)\n",
    "        target[i*20:(i+1)*20] = data.data"
   ]
  },
  {
   "cell_type": "code",
   "execution_count": 10,
   "metadata": {},
   "outputs": [],
   "source": [
    "class ExportUDF(UDF):\n",
    "    def __init__(self, targetmap):\n",
    "        super().__init__(targetmap=targetmap)\n",
    "        \n",
    "    def get_preferred_input_dtype(self):\n",
    "        return UDF.USE_NATIVE_DTYPE\n",
    "    \n",
    "    def get_result_buffers(self):\n",
    "        return {}        \n",
    "    \n",
    "    def process_tile(self, tile):\n",
    "        p = self.params\n",
    "        shape = self.meta.dataset_shape\n",
    "        v = reshaped_view(p.targetmap, (np.prod(shape.nav), ) + tuple(shape.sig))\n",
    "        v[self.meta.slice.get()] = tile"
   ]
  },
  {
   "cell_type": "code",
   "execution_count": 11,
   "metadata": {},
   "outputs": [
    {
     "name": "stderr",
     "output_type": "stream",
     "text": [
      "/cachedata/users/weber/LiberTEM-uellue/src/libertem/utils/devices.py:19: RuntimeWarning: ImportError('CuPy is not correctly installed.\\n\\nIf you are using wheel distribution (cupy-cudaXX), make sure that the version of CuPy you installed matches with the version of CUDA on your host.\\nAlso, confirm that only one CuPy package is installed:\\n  $ pip freeze\\n\\nIf you are building CuPy from source, please check your environment, uninstall CuPy and reinstall it with:\\n  $ pip install cupy --no-cache-dir -vvvv\\n\\nCheck the Installation Guide for details:\\n  https://docs.cupy.dev/en/latest/install.html\\n\\noriginal error: libcudart.so.10.1: cannot open shared object file: No such file or directory')\n",
      "  warnings.warn(repr(e), RuntimeWarning)\n",
      "100%|██████████| 17/17 [00:26<00:00,  1.54s/it]\n"
     ]
    }
   ],
   "source": [
    "# K2IS uses LiberTEM to generate the reference for now since there are only two alternative readers available: Written\n",
    "# in Matlab by Colin Ophus, and integrated in GMS.\n",
    "\n",
    "relpath = 'Capture52/Capture52_.gtg'\n",
    "ctx = lt.Context(executor=InlineJobExecutor())\n",
    "ds = ctx.load('auto', path=os.path.join(sourcefolder, relpath))\n",
    "with targetmap(\n",
    "        targetfolder=targetfolder,\n",
    "        relpath=relpath,\n",
    "        shape=tuple(ds.shape),\n",
    "        dtype=ds.dtype) as target:\n",
    "    ctx.run_udf(udf=ExportUDF(targetmap=target), dataset=ds, progress=True)"
   ]
  },
  {
   "cell_type": "code",
   "execution_count": 12,
   "metadata": {
    "scrolled": false
   },
   "outputs": [],
   "source": [
    "relpath = 'frms6/C16_15_24_151203_019.hdr'\n",
    "ctx = lt.Context(executor=InlineJobExecutor())\n",
    "ds = ctx.load('frms6', path=os.path.join(sourcefolder, relpath), enable_offset_correction=False)\n",
    "ds_corr = ctx.load('frms6', path=os.path.join(sourcefolder, relpath), enable_offset_correction=True)\n",
    "assert tuple(ds.shape) == (256, 256, 264, 264)\n",
    "\n",
    "def unfold_stemtool_frms6(data):\n",
    "    return np.moveaxis(  # undo the transpose that pycroscopy does\n",
    "        np.repeat(  # unbinning 4x in x direction\n",
    "            # invert lower half and attach right of upper half\n",
    "            # The detector consists of two chips that are arranged head-to-head\n",
    "            # The outputs of the two chips are just concatenated in the file, while LiberTEM\n",
    "            # re-assembles the data taking the spatial relation into account\n",
    "            np.concatenate((data[:264], np.flip(data[264:], axis=(0, 1,))), axis=1),\n",
    "            4, axis=1  # repeat options unbinning x\n",
    "        ),\n",
    "        (0, 1, 2), (2, 1, 0)  # moveaxis options undo transpose\n",
    "    )\n",
    "\n",
    "\n",
    "def read_contents(fname):\n",
    "    raw_shape = stemtool.util.pnccd.Frms6Reader.getDataShape(fname)\n",
    "    frame_count = raw_shape[-1]\n",
    "    return stemtool.util.pnccd.Frms6Reader.readData(\n",
    "        fname,\n",
    "        image_range=(0,frame_count),\n",
    "        pixels_x = raw_shape[0],\n",
    "        pixels_y = raw_shape[1]\n",
    "    )\n",
    "\n",
    "with targetmap(\n",
    "        targetfolder=targetfolder,\n",
    "        relpath=relpath,\n",
    "        shape=tuple(ds.shape),\n",
    "        dtype='float32') as target:\n",
    "    # stemtool opens data as 3D stack, therefore flatten nav\n",
    "    v = reshaped_view(target, (np.prod(ds.shape.nav), ) + tuple(ds.shape.sig))\n",
    "    \n",
    "    fname = os.path.join(sourcefolder, f'frms6/C16_15_24_151203_019_000.frms6')\n",
    "    darkref_raw = read_contents(fname)\n",
    "    darkref = np.mean(unfold_stemtool_frms6(darkref_raw), axis=0).astype(np.float32)\n",
    "    \n",
    "    # fig, axes = plt.subplots(1, 3)\n",
    "    # axes[0].imshow(ds_corr._get_dark_frame())\n",
    "    # axes[1].imshow(darkref)\n",
    "    # axes[2].imshow(ds_corr._get_dark_frame() - darkref)\n",
    "    \n",
    "    offset = 0\n",
    "    # The first file contains a zero reference    \n",
    "    for i in range(1, 4):\n",
    "        fname = os.path.join(sourcefolder, f'frms6/C16_15_24_151203_019_00{i}.frms6')\n",
    "        data = read_contents(fname)        \n",
    "        frame_count = data.shape[-1]\n",
    "        v[offset:offset+frame_count] = unfold_stemtool_frms6(data)\n",
    "        offset += frame_count\n",
    "    \n",
    "\n",
    "    # Consistency check since the reader above is not trivial\n",
    "    for count in range(10):\n",
    "        # fig, axes = plt.subplots(2, 3)\n",
    "        i = np.random.randint(0, np.prod(ds.shape.nav))\n",
    "        y = i // 256\n",
    "        x = i % 256\n",
    "        a = ctx.create_pick_analysis(dataset=ds, y=y, x=x)\n",
    "        res = ctx.run(a)\n",
    "        a_corr = ctx.create_pick_analysis(dataset=ds_corr, y=y, x=x)\n",
    "        res_corr = ctx.run(a_corr)\n",
    "        # axes[0, 0].imshow(res['intensity'].raw_data)\n",
    "        # axes[0, 1].imshow(target[y, x])\n",
    "        # axes[0, 2].imshow(res['intensity'].raw_data - target[y, x])\n",
    "        \n",
    "        # axes[1, 0].imshow(res_corr['intensity'].raw_data)\n",
    "        # axes[1, 1].imshow(target[y, x] - darkref)\n",
    "        # axes[1, 2].imshow(res_corr['intensity'].raw_data - target[y, x] + darkref)\n",
    "        \n",
    "        assert np.allclose(res['intensity'].raw_data, target[y, x])\n",
    "        assert np.allclose(res_corr['intensity'].raw_data, target[y, x] - darkref)"
   ]
  },
  {
   "cell_type": "code",
   "execution_count": 13,
   "metadata": {},
   "outputs": [],
   "source": [
    "for size in (4, 256):\n",
    "    relpath = f'EMPAD/scan_11_x{size}_y{size}.raw'\n",
    "    shape = (size, size, 128, 128)\n",
    "    dtype = 'float32'\n",
    "    with targetmap(\n",
    "            targetfolder=targetfolder,\n",
    "            relpath=relpath,\n",
    "            shape=shape,\n",
    "            dtype=dtype) as target:\n",
    "        source = np.memmap(os.path.join(sourcefolder, relpath), shape=(size, size, 130, 128), dtype=dtype, mode='r')\n",
    "        target[:] = source[:, :, :128, :]"
   ]
  },
  {
   "cell_type": "code",
   "execution_count": 14,
   "metadata": {
    "scrolled": false
   },
   "outputs": [],
   "source": [
    "relpath = 'mrc/20200821_92978_movie.mrc'\n",
    "mrc = mrcfile.open(os.path.join(sourcefolder, relpath))\n",
    "with targetmap(\n",
    "        targetfolder=targetfolder,\n",
    "        relpath=relpath,\n",
    "        shape=mrc.data.shape,\n",
    "        dtype=mrc.data.dtype) as target:\n",
    "    target[:] = mrc.data"
   ]
  },
  {
   "cell_type": "code",
   "execution_count": 15,
   "metadata": {},
   "outputs": [],
   "source": [
    "relpath = 'default.seq'\n",
    "images = pims.open(os.path.join(sourcefolder, relpath))"
   ]
  },
  {
   "cell_type": "code",
   "execution_count": 16,
   "metadata": {},
   "outputs": [
    {
     "data": {
      "text/plain": [
       "array([[[ 393,  419,  393, ...,  413,  346,  397],\n",
       "        [ 342,  396,  396, ...,  403,  400,  415],\n",
       "        [ 326,  375,  343, ...,  343,  330,  394],\n",
       "        ...,\n",
       "        [ 990, 1000,  846, ...,  840,  770, 1002],\n",
       "        [ 789, 1142,  664, ...,  671,  684,  836],\n",
       "        [ 759,  958, 1156, ...,  691,  936,  847]],\n",
       "\n",
       "       [[ 391,  420,  391, ...,  414,  347,  399],\n",
       "        [ 345,  396,  396, ...,  402,  400,  418],\n",
       "        [ 327,  373,  344, ...,  341,  333,  394],\n",
       "        ...,\n",
       "        [ 704,  862,  741, ...,  895,  645,  850],\n",
       "        [ 566,  792,  891, ...,  709,  709,  826],\n",
       "        [ 721,  639,  963, ...,  671,  899,  853]],\n",
       "\n",
       "       [[ 392,  420,  394, ...,  415,  347,  394],\n",
       "        [ 342,  396,  396, ...,  404,  402,  417],\n",
       "        [ 331,  376,  342, ...,  340,  334,  395],\n",
       "        ...,\n",
       "        [ 618,  670,  882, ...,  727,  866,  704],\n",
       "        [ 639,  929,  654, ..., 1124,  908,  833],\n",
       "        [ 725,  815,  647, ...,  997,  986,  848]],\n",
       "\n",
       "       ...,\n",
       "\n",
       "       [[ 392,  421,  391, ...,  414,  345,  397],\n",
       "        [ 345,  395,  394, ...,  403,  401,  415],\n",
       "        [ 327,  373,  343, ...,  344,  335,  396],\n",
       "        ...,\n",
       "        [ 561,  706, 1051, ...,  916, 1113,  852],\n",
       "        [ 654,  749,  620, ..., 1056,  925,  981],\n",
       "        [ 637,  680,  995, ...,  691,  935,  798]],\n",
       "\n",
       "       [[ 394,  421,  394, ...,  415,  345,  398],\n",
       "        [ 343,  396,  397, ...,  405,  400,  419],\n",
       "        [ 329,  373,  342, ...,  342,  333,  394],\n",
       "        ...,\n",
       "        [ 727,  698,  865, ..., 1167, 1165,  810],\n",
       "        [ 802,  831,  644, ...,  668,  582,  909],\n",
       "        [ 775,  740,  735, ...,  966,  586,  777]],\n",
       "\n",
       "       [[ 391,  420,  395, ...,  416,  347,  395],\n",
       "        [ 342,  395,  396, ...,  403,  399,  417],\n",
       "        [ 328,  373,  342, ...,  342,  335,  394],\n",
       "        ...,\n",
       "        [1065, 1108,  913, ...,  781,  678,  864],\n",
       "        [ 769,  782, 1090, ...,  706,  696,  783],\n",
       "        [1150,  966,  670, ...,  911,  780,  804]]], dtype=uint16)"
      ]
     },
     "execution_count": 16,
     "metadata": {},
     "output_type": "execute_result"
    }
   ],
   "source": [
    "np.array(images)"
   ]
  },
  {
   "cell_type": "code",
   "execution_count": null,
   "metadata": {},
   "outputs": [],
   "source": []
  }
 ],
 "metadata": {
  "@webio": {
   "lastCommId": null,
   "lastKernelId": null
  },
  "kernelspec": {
   "display_name": "Python 3.7 (libertem)",
   "language": "python",
   "name": "libertem37"
  },
  "language_info": {
   "codemirror_mode": {
    "name": "ipython",
    "version": 3
   },
   "file_extension": ".py",
   "mimetype": "text/x-python",
   "name": "python",
   "nbconvert_exporter": "python",
   "pygments_lexer": "ipython3",
   "version": "3.7.4"
  }
 },
 "nbformat": 4,
 "nbformat_minor": 4
}
