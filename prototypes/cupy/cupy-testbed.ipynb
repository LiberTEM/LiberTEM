{
 "cells": [
  {
   "cell_type": "code",
   "execution_count": 1,
   "metadata": {},
   "outputs": [],
   "source": [
    "%load_ext autoreload"
   ]
  },
  {
   "cell_type": "code",
   "execution_count": 2,
   "metadata": {},
   "outputs": [
    {
     "name": "stderr",
     "output_type": "stream",
     "text": [
      "c:\\users\\weber\\documents\\libertem\\libertem\\src\\libertem\\api.py:17: RuntimeWarning: ImportError('CuPy is not correctly installed.\\n\\nIf you are using wheel distribution (cupy-cudaXX), make sure that the version of CuPy you installed matches with the version of CUDA on your host.\\nAlso, confirm that only one CuPy package is installed:\\n  $ pip freeze\\n\\nIf you are building CuPy from source, please check your environment, uninstall CuPy and reinstall it with:\\n  $ pip install cupy --no-cache-dir -vvvv\\n\\nCheck the Installation Guide for details:\\n  https://docs-cupy.chainer.org/en/latest/install.html\\n\\noriginal error: DLL load failed: The specified module could not be found.')\n",
      "  warnings.warn(repr(e), RuntimeWarning)\n"
     ]
    }
   ],
   "source": [
    "import os\n",
    "\n",
    "import numpy as np\n",
    "\n",
    "from libertem import api\n",
    "from libertem.udf.sum import SumUDF\n",
    "from libertem.udf.base import UDF"
   ]
  },
  {
   "cell_type": "code",
   "execution_count": 3,
   "metadata": {},
   "outputs": [
    {
     "name": "stderr",
     "output_type": "stream",
     "text": [
      "distributed.scheduler - INFO - Clear task state\n",
      "distributed.scheduler - INFO -   Scheduler at:  tcp://134.94.7.199:59935\n",
      "distributed.nanny - INFO -         Start Nanny at: 'tcp://134.94.7.199:59937'\n",
      "distributed.nanny - INFO -         Start Nanny at: 'tcp://134.94.7.199:59938'\n",
      "distributed.nanny - INFO -         Start Nanny at: 'tcp://134.94.7.199:59939'\n",
      "distributed.nanny - INFO -         Start Nanny at: 'tcp://134.94.7.199:59940'\n",
      "distributed.scheduler - INFO - Register tcp://134.94.7.199:59957\n",
      "distributed.scheduler - INFO - Starting worker compute stream, tcp://134.94.7.199:59957\n",
      "distributed.core - INFO - Starting established connection\n",
      "distributed.scheduler - INFO - Register tcp://134.94.7.199:59959\n",
      "distributed.scheduler - INFO - Starting worker compute stream, tcp://134.94.7.199:59959\n",
      "distributed.core - INFO - Starting established connection\n",
      "distributed.scheduler - INFO - Register tcp://134.94.7.199:59961\n",
      "distributed.scheduler - INFO - Starting worker compute stream, tcp://134.94.7.199:59961\n",
      "distributed.core - INFO - Starting established connection\n",
      "distributed.scheduler - INFO - Register tcp://134.94.7.199:59963\n",
      "distributed.scheduler - INFO - Starting worker compute stream, tcp://134.94.7.199:59963\n",
      "distributed.core - INFO - Starting established connection\n",
      "distributed.scheduler - INFO - Receive client connection: Client-e4953c4a-88bd-11ea-8bfc-e8b1fc1a1ad9\n",
      "distributed.core - INFO - Starting established connection\n"
     ]
    }
   ],
   "source": [
    "%autoreload\n",
    "ctx = api.Context()"
   ]
  },
  {
   "cell_type": "code",
   "execution_count": 4,
   "metadata": {
    "scrolled": true
   },
   "outputs": [
    {
     "data": {
      "text/plain": [
       "{'type': 'Scheduler',\n",
       " 'id': 'Scheduler-b5b949e5-0ec4-4298-830c-a7712aec33b6',\n",
       " 'address': 'tcp://134.94.7.199:59935',\n",
       " 'services': {},\n",
       " 'workers': {'tcp://134.94.7.199:59957': {'type': 'Worker',\n",
       "   'id': 'service-0',\n",
       "   'host': '134.94.7.199',\n",
       "   'resources': {},\n",
       "   'local_directory': 'C:\\\\Users\\\\weber\\\\Documents\\\\LiberTEM\\\\LiberTEM\\\\prototypes\\\\cupy\\\\dask-worker-space\\\\worker-ljxzyamy',\n",
       "   'name': 'service-0',\n",
       "   'nthreads': 1,\n",
       "   'memory_limit': 2065603584,\n",
       "   'last_seen': 1588015974.8182626,\n",
       "   'services': {},\n",
       "   'metrics': {'cpu': 0.0,\n",
       "    'memory': 36147200,\n",
       "    'time': 1588015974.748206,\n",
       "    'read_bytes': 0.0,\n",
       "    'write_bytes': 0.0,\n",
       "    'executing': 0,\n",
       "    'in_memory': 0,\n",
       "    'ready': 0,\n",
       "    'in_flight': 0,\n",
       "    'bandwidth': {'total': 100000000, 'workers': {}, 'types': {}}},\n",
       "   'nanny': 'tcp://134.94.7.199:59939'},\n",
       "  'tcp://134.94.7.199:59959': {'type': 'Worker',\n",
       "   'id': 'cuda-0',\n",
       "   'host': '134.94.7.199',\n",
       "   'resources': {'CUDA': 1, 'compute': 1},\n",
       "   'local_directory': 'C:\\\\Users\\\\weber\\\\Documents\\\\LiberTEM\\\\LiberTEM\\\\prototypes\\\\cupy\\\\dask-worker-space\\\\worker-1sgflthj',\n",
       "   'name': 'cuda-0',\n",
       "   'nthreads': 1,\n",
       "   'memory_limit': 2065603584,\n",
       "   'last_seen': 1588015975.076981,\n",
       "   'services': {},\n",
       "   'metrics': {'cpu': 0.0,\n",
       "    'memory': 36352000,\n",
       "    'time': 1588015974.824152,\n",
       "    'read_bytes': 0.0,\n",
       "    'write_bytes': 0.0,\n",
       "    'executing': 0,\n",
       "    'in_memory': 0,\n",
       "    'ready': 0,\n",
       "    'in_flight': 0,\n",
       "    'bandwidth': {'total': 100000000, 'workers': {}, 'types': {}}},\n",
       "   'nanny': 'tcp://134.94.7.199:59937'},\n",
       "  'tcp://134.94.7.199:59961': {'type': 'Worker',\n",
       "   'id': 'cpu-1',\n",
       "   'host': '134.94.7.199',\n",
       "   'resources': {'CPU': 1, 'compute': 1},\n",
       "   'local_directory': 'C:\\\\Users\\\\weber\\\\Documents\\\\LiberTEM\\\\LiberTEM\\\\prototypes\\\\cupy\\\\dask-worker-space\\\\worker-jsv2blcg',\n",
       "   'name': 'cpu-1',\n",
       "   'nthreads': 1,\n",
       "   'memory_limit': 2065603584,\n",
       "   'last_seen': 1588015975.152522,\n",
       "   'services': {},\n",
       "   'metrics': {'cpu': 0.0,\n",
       "    'memory': 36151296,\n",
       "    'time': 1588015974.9966302,\n",
       "    'read_bytes': 0.0,\n",
       "    'write_bytes': 0.0,\n",
       "    'executing': 0,\n",
       "    'in_memory': 0,\n",
       "    'ready': 0,\n",
       "    'in_flight': 0,\n",
       "    'bandwidth': {'total': 100000000, 'workers': {}, 'types': {}}},\n",
       "   'nanny': 'tcp://134.94.7.199:59940'},\n",
       "  'tcp://134.94.7.199:59963': {'type': 'Worker',\n",
       "   'id': 'cpu-0',\n",
       "   'host': '134.94.7.199',\n",
       "   'resources': {'CPU': 1, 'compute': 1},\n",
       "   'local_directory': 'C:\\\\Users\\\\weber\\\\Documents\\\\LiberTEM\\\\LiberTEM\\\\prototypes\\\\cupy\\\\dask-worker-space\\\\worker-8p00p8ni',\n",
       "   'name': 'cpu-0',\n",
       "   'nthreads': 1,\n",
       "   'memory_limit': 2065603584,\n",
       "   'last_seen': 1588015975.2986765,\n",
       "   'services': {},\n",
       "   'metrics': {'cpu': 0.0,\n",
       "    'memory': 36360192,\n",
       "    'time': 1588015975.1813092,\n",
       "    'read_bytes': 0.0,\n",
       "    'write_bytes': 0.0,\n",
       "    'executing': 0,\n",
       "    'in_memory': 0,\n",
       "    'ready': 0,\n",
       "    'in_flight': 0,\n",
       "    'bandwidth': {'total': 100000000, 'workers': {}, 'types': {}}},\n",
       "   'nanny': 'tcp://134.94.7.199:59938'}}}"
      ]
     },
     "execution_count": 4,
     "metadata": {},
     "output_type": "execute_result"
    }
   ],
   "source": [
    "ctx.executor.client.scheduler_info()"
   ]
  },
  {
   "cell_type": "code",
   "execution_count": 5,
   "metadata": {},
   "outputs": [],
   "source": [
    "def info():\n",
    "    import os\n",
    "    return (os.environ.get(\"LIBERTEM_USE_CPU\", None), os.environ.get(\"LIBERTEM_USE_CUDA\", None))"
   ]
  },
  {
   "cell_type": "code",
   "execution_count": 6,
   "metadata": {},
   "outputs": [
    {
     "data": {
      "text/plain": [
       "{'tcp://134.94.7.199:59957': (None, None),\n",
       " 'tcp://134.94.7.199:59959': (None, '0'),\n",
       " 'tcp://134.94.7.199:59961': ('1', None),\n",
       " 'tcp://134.94.7.199:59963': ('0', None)}"
      ]
     },
     "execution_count": 6,
     "metadata": {},
     "output_type": "execute_result"
    }
   ],
   "source": [
    "ctx.executor.client.run(info)"
   ]
  },
  {
   "cell_type": "code",
   "execution_count": 7,
   "metadata": {},
   "outputs": [],
   "source": [
    "data = np.ones((4, 4, 4, 4))\n",
    "\n",
    "ds = ctx.load(\"memory\", data=data, num_partitions=8)"
   ]
  },
  {
   "cell_type": "code",
   "execution_count": 8,
   "metadata": {},
   "outputs": [],
   "source": [
    "class DebugUDF(UDF):\n",
    "    def get_result_buffers(self):\n",
    "        return {\n",
    "            'debug': self.buffer(kind=\"single\", dtype=\"object\"),\n",
    "            'on_device': self.buffer(kind=\"sig\", dtype=np.float32, where=\"device\"),\n",
    "            'backend': self.buffer(kind=\"nav\", dtype=\"object\"),\n",
    "        }\n",
    "    \n",
    "    def preprocess(self):\n",
    "        self.results.debug[0] = dict()\n",
    "    \n",
    "    def process_partition(self, partition):\n",
    "        cpu = os.environ.get(\"LIBERTEM_USE_CPU\", None)\n",
    "        cuda = os.environ.get(\"LIBERTEM_USE_CUDA\", None)\n",
    "        self.results.debug[0][self.meta.slice] = (cpu, cuda)\n",
    "        self.results.on_device[:] += self.xp.sum(partition, axis=0)\n",
    "        self.results.backend[:] = self.meta.backend\n",
    "        print(f\"meta backend {self.meta.backend}\")\n",
    "        \n",
    "    def merge(self, dest, src):\n",
    "        de, sr = dest['debug'][0], src['debug'][0]\n",
    "        for key, value in sr.items():\n",
    "            assert key not in de\n",
    "            de[key] = value\n",
    "            \n",
    "        dest['on_device'][:] += src['on_device']\n",
    "        dest['backend'][:] = src['backend']\n",
    "            \n",
    "    def get_backends(self):\n",
    "        return ('cupy', 'numpy')\n",
    "        "
   ]
  },
  {
   "cell_type": "code",
   "execution_count": 9,
   "metadata": {},
   "outputs": [
    {
     "name": "stdout",
     "output_type": "stream",
     "text": [
      "UDFMeta backend: numpy\n",
      "[{<Slice origin=(4, 0, 0) shape=(2, 4, 4)>: ('0', None), <Slice origin=(10, 0, 0) shape=(2, 4, 4)>: ('0', None), <Slice origin=(0, 0, 0) shape=(2, 4, 4)>: ('1', None), <Slice origin=(6, 0, 0) shape=(2, 4, 4)>: ('1', None), <Slice origin=(12, 0, 0) shape=(2, 4, 4)>: ('1', None), <Slice origin=(2, 0, 0) shape=(2, 4, 4)>: (None, '0'), <Slice origin=(8, 0, 0) shape=(2, 4, 4)>: (None, '0'), <Slice origin=(14, 0, 0) shape=(2, 4, 4)>: (None, '0')}]\n",
      "[[16. 16. 16. 16.]\n",
      " [16. 16. 16. 16.]\n",
      " [16. 16. 16. 16.]\n",
      " [16. 16. 16. 16.]]\n",
      "[['numpy' 'numpy' 'cupy' 'cupy']\n",
      " ['numpy' 'numpy' 'numpy' 'numpy']\n",
      " ['cupy' 'cupy' 'numpy' 'numpy']\n",
      " ['numpy' 'numpy' 'cupy' 'cupy']]\n"
     ]
    }
   ],
   "source": [
    "res = ctx.run_udf(udf=DebugUDF(), dataset=ds)\n",
    "print(res['debug'].data)\n",
    "print(res['on_device'].data)\n",
    "print(res['backend'].data)"
   ]
  },
  {
   "cell_type": "code",
   "execution_count": null,
   "metadata": {},
   "outputs": [],
   "source": []
  }
 ],
 "metadata": {
  "kernelspec": {
   "display_name": "Python 3",
   "language": "python",
   "name": "python3"
  },
  "language_info": {
   "codemirror_mode": {
    "name": "ipython",
    "version": 3
   },
   "file_extension": ".py",
   "mimetype": "text/x-python",
   "name": "python",
   "nbconvert_exporter": "python",
   "pygments_lexer": "ipython3",
   "version": "3.7.4"
  }
 },
 "nbformat": 4,
 "nbformat_minor": 2
}
