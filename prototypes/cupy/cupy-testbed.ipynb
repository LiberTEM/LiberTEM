{
 "cells": [
  {
   "cell_type": "code",
   "execution_count": 1,
   "metadata": {},
   "outputs": [],
   "source": [
    "%load_ext autoreload"
   ]
  },
  {
   "cell_type": "code",
   "execution_count": 2,
   "metadata": {},
   "outputs": [
    {
     "name": "stderr",
     "output_type": "stream",
     "text": [
      "c:\\users\\weber\\documents\\libertem\\libertem\\src\\libertem\\utils\\devices.py:13: RuntimeWarning: ImportError('CuPy is not correctly installed.\\n\\nIf you are using wheel distribution (cupy-cudaXX), make sure that the version of CuPy you installed matches with the version of CUDA on your host.\\nAlso, confirm that only one CuPy package is installed:\\n  $ pip freeze\\n\\nIf you are building CuPy from source, please check your environment, uninstall CuPy and reinstall it with:\\n  $ pip install cupy --no-cache-dir -vvvv\\n\\nCheck the Installation Guide for details:\\n  https://docs-cupy.chainer.org/en/latest/install.html\\n\\noriginal error: DLL load failed: The specified module could not be found.')\n",
      "  warnings.warn(repr(e), RuntimeWarning)\n"
     ]
    }
   ],
   "source": [
    "import os\n",
    "\n",
    "import numpy as np\n",
    "\n",
    "from libertem import api\n",
    "from libertem.udf.sum import SumUDF\n",
    "from libertem.udf.base import UDF"
   ]
  },
  {
   "cell_type": "code",
   "execution_count": 3,
   "metadata": {},
   "outputs": [],
   "source": [
    "%autoreload\n",
    "ctx = api.Context()"
   ]
  },
  {
   "cell_type": "code",
   "execution_count": 4,
   "metadata": {
    "scrolled": true
   },
   "outputs": [
    {
     "data": {
      "text/plain": [
       "{'type': 'Scheduler',\n",
       " 'id': 'Scheduler-cc13e512-ff01-4dfc-bb7e-16a21b348849',\n",
       " 'address': 'tcp://192.168.178.52:58598',\n",
       " 'services': {},\n",
       " 'workers': {'tcp://192.168.178.52:58618': {'type': 'Worker',\n",
       "   'id': 'cpu-1',\n",
       "   'host': '192.168.178.52',\n",
       "   'resources': {'CPU': 1, 'compute': 1},\n",
       "   'local_directory': 'C:\\\\Users\\\\weber\\\\Documents\\\\LiberTEM\\\\LiberTEM\\\\prototypes\\\\cupy\\\\dask-worker-space\\\\worker-p0whzvdo',\n",
       "   'name': 'cpu-1',\n",
       "   'nthreads': 1,\n",
       "   'memory_limit': 2065603584,\n",
       "   'last_seen': 1589308959.182538,\n",
       "   'services': {},\n",
       "   'metrics': {'cpu': 0.0,\n",
       "    'memory': 36118528,\n",
       "    'time': 1589308954.7392683,\n",
       "    'read_bytes': 0.0,\n",
       "    'write_bytes': 0.0,\n",
       "    'executing': 0,\n",
       "    'in_memory': 0,\n",
       "    'ready': 0,\n",
       "    'in_flight': 0,\n",
       "    'bandwidth': {'total': 100000000, 'workers': {}, 'types': {}}},\n",
       "   'nanny': 'tcp://192.168.178.52:58601'},\n",
       "  'tcp://192.168.178.52:58619': {'type': 'Worker',\n",
       "   'id': 'service-0',\n",
       "   'host': '192.168.178.52',\n",
       "   'resources': {},\n",
       "   'local_directory': 'C:\\\\Users\\\\weber\\\\Documents\\\\LiberTEM\\\\LiberTEM\\\\prototypes\\\\cupy\\\\dask-worker-space\\\\worker-ts0kfiwj',\n",
       "   'name': 'service-0',\n",
       "   'nthreads': 1,\n",
       "   'memory_limit': 2065603584,\n",
       "   'last_seen': 1589308958.8607957,\n",
       "   'services': {},\n",
       "   'metrics': {'cpu': 0.0,\n",
       "    'memory': 38494208,\n",
       "    'time': 1589308958.8355312,\n",
       "    'read_bytes': 0.0,\n",
       "    'write_bytes': 0.0,\n",
       "    'executing': 0,\n",
       "    'in_memory': 0,\n",
       "    'ready': 0,\n",
       "    'in_flight': 0,\n",
       "    'bandwidth': {'total': 100000000, 'workers': {}, 'types': {}}},\n",
       "   'nanny': 'tcp://192.168.178.52:58600'},\n",
       "  'tcp://192.168.178.52:58621': {'type': 'Worker',\n",
       "   'id': 'cpu-0',\n",
       "   'host': '192.168.178.52',\n",
       "   'resources': {'CPU': 1, 'compute': 1},\n",
       "   'local_directory': 'C:\\\\Users\\\\weber\\\\Documents\\\\LiberTEM\\\\LiberTEM\\\\prototypes\\\\cupy\\\\dask-worker-space\\\\worker-7yz1yooc',\n",
       "   'name': 'cpu-0',\n",
       "   'nthreads': 1,\n",
       "   'memory_limit': 2065603584,\n",
       "   'last_seen': 1589308959.1715856,\n",
       "   'services': {},\n",
       "   'metrics': {'cpu': 0.0,\n",
       "    'memory': 36147200,\n",
       "    'time': 1589308954.816338,\n",
       "    'read_bytes': 0.0,\n",
       "    'write_bytes': 0.0,\n",
       "    'executing': 0,\n",
       "    'in_memory': 0,\n",
       "    'ready': 0,\n",
       "    'in_flight': 0,\n",
       "    'bandwidth': {'total': 100000000, 'workers': {}, 'types': {}}},\n",
       "   'nanny': 'tcp://192.168.178.52:58602'}}}"
      ]
     },
     "execution_count": 4,
     "metadata": {},
     "output_type": "execute_result"
    }
   ],
   "source": [
    "ctx.executor.client.scheduler_info()"
   ]
  },
  {
   "cell_type": "code",
   "execution_count": 5,
   "metadata": {},
   "outputs": [],
   "source": [
    "def info():\n",
    "    import os\n",
    "    return (os.environ.get(\"LIBERTEM_USE_CPU\", None), os.environ.get(\"LIBERTEM_USE_CUDA\", None))"
   ]
  },
  {
   "cell_type": "code",
   "execution_count": 6,
   "metadata": {},
   "outputs": [
    {
     "data": {
      "text/plain": [
       "{'tcp://192.168.178.52:58618': ('1', None),\n",
       " 'tcp://192.168.178.52:58619': (None, None),\n",
       " 'tcp://192.168.178.52:58621': ('0', None)}"
      ]
     },
     "execution_count": 6,
     "metadata": {},
     "output_type": "execute_result"
    }
   ],
   "source": [
    "ctx.executor.client.run(info)"
   ]
  },
  {
   "cell_type": "code",
   "execution_count": 7,
   "metadata": {},
   "outputs": [],
   "source": [
    "data = np.ones((4, 4, 4, 4))\n",
    "\n",
    "ds = ctx.load(\"memory\", data=data, num_partitions=16)"
   ]
  },
  {
   "cell_type": "code",
   "execution_count": 8,
   "metadata": {},
   "outputs": [],
   "source": [
    "class DebugUDF(UDF):\n",
    "    def get_result_buffers(self):\n",
    "        return {\n",
    "            'debug': self.buffer(kind=\"single\", dtype=\"object\"),\n",
    "            'on_device': self.buffer(kind=\"sig\", dtype=np.float32, where=\"device\"),\n",
    "            'backend': self.buffer(kind=\"nav\", dtype=\"object\"),\n",
    "        }\n",
    "    \n",
    "    def preprocess(self):\n",
    "        self.results.debug[0] = dict()\n",
    "    \n",
    "    def process_partition(self, partition):\n",
    "        cpu = os.environ.get(\"LIBERTEM_USE_CPU\", None)\n",
    "        cuda = os.environ.get(\"LIBERTEM_USE_CUDA\", None)\n",
    "        self.results.debug[0][self.meta.slice] = (cpu, cuda)\n",
    "        self.results.on_device[:] += self.xp.sum(partition, axis=0)\n",
    "        self.results.backend[:] = self.meta.backend\n",
    "        print(f\"meta backend {self.meta.backend}\")\n",
    "        \n",
    "    def merge(self, dest, src):\n",
    "        de, sr = dest['debug'][0], src['debug'][0]\n",
    "        for key, value in sr.items():\n",
    "            assert key not in de\n",
    "            de[key] = value\n",
    "        \n",
    "        dest['on_device'][:] += src['on_device']\n",
    "        dest['backend'][:] = src['backend']\n",
    "            \n",
    "    def get_backends(self):\n",
    "        return ('cupy', 'numpy')\n",
    "        "
   ]
  },
  {
   "cell_type": "code",
   "execution_count": 9,
   "metadata": {
    "scrolled": false
   },
   "outputs": [
    {
     "ename": "RuntimeError",
     "evalue": "('Requested resources %s not available in cluster', {'compute': 1, 'unobtain': 1})",
     "output_type": "error",
     "traceback": [
      "\u001b[1;31m---------------------------------------------------------------------------\u001b[0m",
      "\u001b[1;31mRuntimeError\u001b[0m                              Traceback (most recent call last)",
      "\u001b[1;32m<ipython-input-9-7aed0120c428>\u001b[0m in \u001b[0;36m<module>\u001b[1;34m\u001b[0m\n\u001b[1;32m----> 1\u001b[1;33m \u001b[0mres\u001b[0m \u001b[1;33m=\u001b[0m \u001b[0mctx\u001b[0m\u001b[1;33m.\u001b[0m\u001b[0mrun_udf\u001b[0m\u001b[1;33m(\u001b[0m\u001b[0mudf\u001b[0m\u001b[1;33m=\u001b[0m\u001b[0mDebugUDF\u001b[0m\u001b[1;33m(\u001b[0m\u001b[1;33m)\u001b[0m\u001b[1;33m,\u001b[0m \u001b[0mdataset\u001b[0m\u001b[1;33m=\u001b[0m\u001b[0mds\u001b[0m\u001b[1;33m)\u001b[0m\u001b[1;33m\u001b[0m\u001b[1;33m\u001b[0m\u001b[0m\n\u001b[0m\u001b[0;32m      2\u001b[0m \u001b[0mprint\u001b[0m\u001b[1;33m(\u001b[0m\u001b[0mres\u001b[0m\u001b[1;33m[\u001b[0m\u001b[1;34m'debug'\u001b[0m\u001b[1;33m]\u001b[0m\u001b[1;33m.\u001b[0m\u001b[0mdata\u001b[0m\u001b[1;33m)\u001b[0m\u001b[1;33m\u001b[0m\u001b[1;33m\u001b[0m\u001b[0m\n\u001b[0;32m      3\u001b[0m \u001b[0mprint\u001b[0m\u001b[1;33m(\u001b[0m\u001b[0mres\u001b[0m\u001b[1;33m[\u001b[0m\u001b[1;34m'on_device'\u001b[0m\u001b[1;33m]\u001b[0m\u001b[1;33m.\u001b[0m\u001b[0mdata\u001b[0m\u001b[1;33m)\u001b[0m\u001b[1;33m\u001b[0m\u001b[1;33m\u001b[0m\u001b[0m\n\u001b[0;32m      4\u001b[0m \u001b[0mprint\u001b[0m\u001b[1;33m(\u001b[0m\u001b[0mres\u001b[0m\u001b[1;33m[\u001b[0m\u001b[1;34m'backend'\u001b[0m\u001b[1;33m]\u001b[0m\u001b[1;33m.\u001b[0m\u001b[0mdata\u001b[0m\u001b[1;33m)\u001b[0m\u001b[1;33m\u001b[0m\u001b[1;33m\u001b[0m\u001b[0m\n",
      "\u001b[1;32mc:\\users\\weber\\documents\\libertem\\libertem\\src\\libertem\\api.py\u001b[0m in \u001b[0;36mrun_udf\u001b[1;34m(self, dataset, udf, roi, progress)\u001b[0m\n\u001b[0;32m    654\u001b[0m             \u001b[1;33m:\u001b[0m\u001b[0mattr\u001b[0m\u001b[1;33m:\u001b[0m\u001b[0;31m`\u001b[0m\u001b[1;33m~\u001b[0m\u001b[0mlibertem\u001b[0m\u001b[1;33m.\u001b[0m\u001b[0mcommon\u001b[0m\u001b[1;33m.\u001b[0m\u001b[0mbuffers\u001b[0m\u001b[1;33m.\u001b[0m\u001b[0mBufferWrapper\u001b[0m\u001b[1;33m.\u001b[0m\u001b[0mdata\u001b[0m\u001b[0;31m`\u001b[0m \u001b[0mproperty\u001b[0m\u001b[1;33m.\u001b[0m\u001b[1;33m\u001b[0m\u001b[1;33m\u001b[0m\u001b[0m\n\u001b[0;32m    655\u001b[0m         \"\"\"\n\u001b[1;32m--> 656\u001b[1;33m         \u001b[1;32mreturn\u001b[0m \u001b[0mUDFRunner\u001b[0m\u001b[1;33m(\u001b[0m\u001b[0mudf\u001b[0m\u001b[1;33m)\u001b[0m\u001b[1;33m.\u001b[0m\u001b[0mrun_for_dataset\u001b[0m\u001b[1;33m(\u001b[0m\u001b[0mdataset\u001b[0m\u001b[1;33m,\u001b[0m \u001b[0mself\u001b[0m\u001b[1;33m.\u001b[0m\u001b[0mexecutor\u001b[0m\u001b[1;33m,\u001b[0m \u001b[0mroi\u001b[0m\u001b[1;33m,\u001b[0m \u001b[0mprogress\u001b[0m\u001b[1;33m=\u001b[0m\u001b[0mprogress\u001b[0m\u001b[1;33m)\u001b[0m\u001b[1;33m\u001b[0m\u001b[1;33m\u001b[0m\u001b[0m\n\u001b[0m\u001b[0;32m    657\u001b[0m \u001b[1;33m\u001b[0m\u001b[0m\n\u001b[0;32m    658\u001b[0m     def map(self, dataset: DataSet, f, roi: np.ndarray = None,\n",
      "\u001b[1;32mc:\\users\\weber\\documents\\libertem\\libertem\\src\\libertem\\udf\\base.py\u001b[0m in \u001b[0;36mrun_for_dataset\u001b[1;34m(self, dataset, executor, roi, progress)\u001b[0m\n\u001b[0;32m    935\u001b[0m         \u001b[1;32mif\u001b[0m \u001b[0mprogress\u001b[0m\u001b[1;33m:\u001b[0m\u001b[1;33m\u001b[0m\u001b[1;33m\u001b[0m\u001b[0m\n\u001b[0;32m    936\u001b[0m             \u001b[0mt\u001b[0m \u001b[1;33m=\u001b[0m \u001b[0mtqdm\u001b[0m\u001b[1;33m.\u001b[0m\u001b[0mtqdm\u001b[0m\u001b[1;33m(\u001b[0m\u001b[0mtotal\u001b[0m\u001b[1;33m=\u001b[0m\u001b[0mlen\u001b[0m\u001b[1;33m(\u001b[0m\u001b[0mtasks\u001b[0m\u001b[1;33m)\u001b[0m\u001b[1;33m)\u001b[0m\u001b[1;33m\u001b[0m\u001b[1;33m\u001b[0m\u001b[0m\n\u001b[1;32m--> 937\u001b[1;33m         \u001b[1;32mfor\u001b[0m \u001b[0mpart_results\u001b[0m\u001b[1;33m,\u001b[0m \u001b[0mtask\u001b[0m \u001b[1;32min\u001b[0m \u001b[0mexecutor\u001b[0m\u001b[1;33m.\u001b[0m\u001b[0mrun_tasks\u001b[0m\u001b[1;33m(\u001b[0m\u001b[0mtasks\u001b[0m\u001b[1;33m,\u001b[0m \u001b[0mcancel_id\u001b[0m\u001b[1;33m)\u001b[0m\u001b[1;33m:\u001b[0m\u001b[1;33m\u001b[0m\u001b[1;33m\u001b[0m\u001b[0m\n\u001b[0m\u001b[0;32m    938\u001b[0m             \u001b[1;32mif\u001b[0m \u001b[0mprogress\u001b[0m\u001b[1;33m:\u001b[0m\u001b[1;33m\u001b[0m\u001b[1;33m\u001b[0m\u001b[0m\n\u001b[0;32m    939\u001b[0m                 \u001b[0mt\u001b[0m\u001b[1;33m.\u001b[0m\u001b[0mupdate\u001b[0m\u001b[1;33m(\u001b[0m\u001b[1;36m1\u001b[0m\u001b[1;33m)\u001b[0m\u001b[1;33m\u001b[0m\u001b[1;33m\u001b[0m\u001b[0m\n",
      "\u001b[1;32mc:\\users\\weber\\documents\\libertem\\libertem\\src\\libertem\\executor\\dask.py\u001b[0m in \u001b[0;36mrun_tasks\u001b[1;34m(self, tasks, cancel_id)\u001b[0m\n\u001b[0;32m    187\u001b[0m             \u001b[0mtasks_wrapped\u001b[0m\u001b[1;33m.\u001b[0m\u001b[0mappend\u001b[0m\u001b[1;33m(\u001b[0m\u001b[0mTaskProxy\u001b[0m\u001b[1;33m(\u001b[0m\u001b[0morig_task\u001b[0m\u001b[1;33m,\u001b[0m \u001b[0midx\u001b[0m\u001b[1;33m)\u001b[0m\u001b[1;33m)\u001b[0m\u001b[1;33m\u001b[0m\u001b[1;33m\u001b[0m\u001b[0m\n\u001b[0;32m    188\u001b[0m \u001b[1;33m\u001b[0m\u001b[0m\n\u001b[1;32m--> 189\u001b[1;33m         \u001b[0mfutures\u001b[0m \u001b[1;33m=\u001b[0m \u001b[0mself\u001b[0m\u001b[1;33m.\u001b[0m\u001b[0m_get_futures\u001b[0m\u001b[1;33m(\u001b[0m\u001b[0mtasks_wrapped\u001b[0m\u001b[1;33m)\u001b[0m\u001b[1;33m\u001b[0m\u001b[1;33m\u001b[0m\u001b[0m\n\u001b[0m\u001b[0;32m    190\u001b[0m         \u001b[0mself\u001b[0m\u001b[1;33m.\u001b[0m\u001b[0m_futures\u001b[0m\u001b[1;33m[\u001b[0m\u001b[0mcancel_id\u001b[0m\u001b[1;33m]\u001b[0m \u001b[1;33m=\u001b[0m \u001b[0mfutures\u001b[0m\u001b[1;33m\u001b[0m\u001b[1;33m\u001b[0m\u001b[0m\n\u001b[0;32m    191\u001b[0m \u001b[1;33m\u001b[0m\u001b[0m\n",
      "\u001b[1;32mc:\\users\\weber\\documents\\libertem\\libertem\\src\\libertem\\executor\\dask.py\u001b[0m in \u001b[0;36m_get_futures\u001b[1;34m(self, tasks)\u001b[0m\n\u001b[0;32m    151\u001b[0m                 \u001b[0mtask\u001b[0m\u001b[1;33m.\u001b[0m\u001b[0mget_resources\u001b[0m\u001b[1;33m(\u001b[0m\u001b[1;33m)\u001b[0m\u001b[1;33m\u001b[0m\u001b[1;33m\u001b[0m\u001b[0m\n\u001b[0;32m    152\u001b[0m             )\n\u001b[1;32m--> 153\u001b[1;33m             \u001b[1;32mfor\u001b[0m \u001b[0mtask\u001b[0m \u001b[1;32min\u001b[0m \u001b[0mtasks\u001b[0m\u001b[1;33m\u001b[0m\u001b[1;33m\u001b[0m\u001b[0m\n\u001b[0m\u001b[0;32m    154\u001b[0m         ])\n\u001b[0;32m    155\u001b[0m \u001b[1;33m\u001b[0m\u001b[0m\n",
      "\u001b[1;32mc:\\users\\weber\\documents\\libertem\\libertem\\src\\libertem\\executor\\dask.py\u001b[0m in \u001b[0;36m_futures_for_locations\u001b[1;34m(self, fns_and_meta)\u001b[0m\n\u001b[0;32m    126\u001b[0m                 \u001b[0mlocations\u001b[0m \u001b[1;33m=\u001b[0m \u001b[0mlocations\u001b[0m\u001b[1;33m.\u001b[0m\u001b[0mnames\u001b[0m\u001b[1;33m(\u001b[0m\u001b[1;33m)\u001b[0m\u001b[1;33m\u001b[0m\u001b[1;33m\u001b[0m\u001b[0m\n\u001b[0;32m    127\u001b[0m             \u001b[1;32mif\u001b[0m \u001b[1;32mnot\u001b[0m \u001b[0mself\u001b[0m\u001b[1;33m.\u001b[0m\u001b[0m_resources_available\u001b[0m\u001b[1;33m(\u001b[0m\u001b[0mworkers\u001b[0m\u001b[1;33m,\u001b[0m \u001b[0mresources\u001b[0m\u001b[1;33m)\u001b[0m\u001b[1;33m:\u001b[0m\u001b[1;33m\u001b[0m\u001b[1;33m\u001b[0m\u001b[0m\n\u001b[1;32m--> 128\u001b[1;33m                 \u001b[1;32mraise\u001b[0m \u001b[0mRuntimeError\u001b[0m\u001b[1;33m(\u001b[0m\u001b[1;34m\"Requested resources %s not available in cluster\"\u001b[0m\u001b[1;33m,\u001b[0m \u001b[0mresources\u001b[0m\u001b[1;33m)\u001b[0m\u001b[1;33m\u001b[0m\u001b[1;33m\u001b[0m\u001b[0m\n\u001b[0m\u001b[0;32m    129\u001b[0m             \u001b[0msubmit_kwargs\u001b[0m\u001b[1;33m[\u001b[0m\u001b[1;34m'workers'\u001b[0m\u001b[1;33m]\u001b[0m \u001b[1;33m=\u001b[0m \u001b[0mlocations\u001b[0m\u001b[1;33m\u001b[0m\u001b[1;33m\u001b[0m\u001b[0m\n\u001b[0;32m    130\u001b[0m             \u001b[0msubmit_kwargs\u001b[0m\u001b[1;33m[\u001b[0m\u001b[1;34m'resources'\u001b[0m\u001b[1;33m]\u001b[0m \u001b[1;33m=\u001b[0m \u001b[0mresources\u001b[0m\u001b[1;33m\u001b[0m\u001b[1;33m\u001b[0m\u001b[0m\n",
      "\u001b[1;31mRuntimeError\u001b[0m: ('Requested resources %s not available in cluster', {'compute': 1, 'unobtain': 1})"
     ]
    }
   ],
   "source": [
    "res = ctx.run_udf(udf=DebugUDF(), dataset=ds)\n",
    "print(res['debug'].data)\n",
    "print(res['on_device'].data)\n",
    "print(res['backend'].data)"
   ]
  },
  {
   "cell_type": "code",
   "execution_count": 11,
   "metadata": {},
   "outputs": [
    {
     "data": {
      "text/plain": [
       "True"
      ]
     },
     "execution_count": 11,
     "metadata": {},
     "output_type": "execute_result"
    }
   ],
   "source": [
    "np.any(res['backend'].data == 'cupy')"
   ]
  },
  {
   "cell_type": "code",
   "execution_count": null,
   "metadata": {},
   "outputs": [],
   "source": []
  }
 ],
 "metadata": {
  "kernelspec": {
   "display_name": "Python 3",
   "language": "python",
   "name": "python3"
  },
  "language_info": {
   "codemirror_mode": {
    "name": "ipython",
    "version": 3
   },
   "file_extension": ".py",
   "mimetype": "text/x-python",
   "name": "python",
   "nbconvert_exporter": "python",
   "pygments_lexer": "ipython3",
   "version": "3.7.4"
  }
 },
 "nbformat": 4,
 "nbformat_minor": 2
}
