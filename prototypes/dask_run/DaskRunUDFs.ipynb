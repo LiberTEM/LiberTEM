{
 "cells": [
  {
   "cell_type": "markdown",
   "id": "03b16386",
   "metadata": {},
   "source": [
    "# DaskDataSet Example\n",
    "\n",
    "Creates a ~2.5 GB raw dataset, loads it as a chunked Dask array and then runs sig and nav sum UDFs on it.\n",
    "\n",
    "The only new code in LiberTEM is the Dask array wrapper, it wasn't necessary to modify the UDFRunner or other endpoints."
   ]
  },
  {
   "cell_type": "code",
   "execution_count": 1,
   "id": "cb016e92",
   "metadata": {},
   "outputs": [],
   "source": [
    "import os\n",
    "import math\n",
    "import itertools\n",
    "from time import perf_counter\n",
    "from contextlib import contextmanager\n",
    "import pathlib\n",
    "import numpy as np\n",
    "import distributed\n",
    "import dask\n",
    "import dask.array as da\n",
    "import matplotlib.pyplot as plt"
   ]
  },
  {
   "cell_type": "code",
   "execution_count": 2,
   "id": "20caa1a1",
   "metadata": {},
   "outputs": [],
   "source": [
    "import libertem.api as lt\n",
    "from libertem.executor.dask import DaskJobExecutor\n",
    "from dask_dataset import DaskDataSet\n",
    "from libertem.udf.sum import SumUDF\n",
    "from libertem.udf.sumsigudf import SumSigUDF"
   ]
  },
  {
   "cell_type": "markdown",
   "id": "7eb2e831",
   "metadata": {},
   "source": [
    "### Util functions"
   ]
  },
  {
   "cell_type": "code",
   "execution_count": 3,
   "id": "17e33cbb",
   "metadata": {},
   "outputs": [],
   "source": [
    "def make_raw_ds(fpath, dtype, sig_shape, nav_shape, div=0):\n",
    "    assert sig_shape[0] == sig_shape[1]\n",
    "    dim = sig_shape[0]\n",
    "    ramp = np.linspace(0, 1., num=dim, endpoint=True, dtype=dtype)\n",
    "    base_array = ramp[:, np.newaxis] * ramp[np.newaxis, :]\n",
    "    if div > 0:\n",
    "        stripe = dim // div\n",
    "        linear_mask = np.zeros((dim,), dtype=bool)\n",
    "        for s in range(stripe//2, dim, 2*stripe):\n",
    "            linear_mask[s:s+stripe] = True\n",
    "        base_array[linear_mask,:] = 0\n",
    "        base_array[:, linear_mask] = 0\n",
    "    with pathlib.Path(fpath).open('wb') as fp:\n",
    "        for idx in range(np.prod(nav_shape)):\n",
    "            fp.write((base_array * idx).data)  \n",
    "            \n",
    "@contextmanager\n",
    "def timer(msg=None):\n",
    "    start = perf_counter()\n",
    "    yield\n",
    "    if msg is None:   \n",
    "        print(f'{perf_counter()-start:.3f} s')\n",
    "    else:\n",
    "        print(f'{msg} - {perf_counter()-start:.3f} s')\n",
    "\n",
    "\n",
    "def take_n(iterable, n):\n",
    "    \"\"\"\n",
    "    Split a interable into chunks of length n with the final element\n",
    "    being the remainder len < n if n does not divide evenly\n",
    "    \"\"\"\n",
    "    len_iter = len(iterable)\n",
    "    return [iterable[i:min(i+n, len_iter)] for i in range(0, len_iter, n)]\n",
    "\n",
    "\n",
    "def reshape_list(to_reshape, new_shape):\n",
    "    \"\"\"\n",
    "    Recursively reshape a list into new_shape following C-ordering\n",
    "    Unlike numpy.reshape this will happily create a ragged array when \n",
    "    the dimensions in new_shape do not divide perfectly into to_reshape!\n",
    "    \"\"\"\n",
    "    left = new_shape[:-1]\n",
    "    n = new_shape[-1]\n",
    "    reshaped = take_n(to_reshape, n)\n",
    "    if len(left) == 0:\n",
    "        return reshaped[0]\n",
    "    else:\n",
    "        return reshape_list(reshaped, left)           "
   ]
  },
  {
   "cell_type": "markdown",
   "id": "821af5e0",
   "metadata": {},
   "source": [
    "### da.array creation routines"
   ]
  },
  {
   "cell_type": "code",
   "execution_count": 4,
   "id": "feaa8cbe",
   "metadata": {},
   "outputs": [],
   "source": [
    "def mmap_load_chunk(filename, shape, dtype, offset, sl):\n",
    "    data = np.memmap(filename, mode='r', shape=shape, dtype=dtype, offset=offset)\n",
    "    return data[sl]\n",
    "\n",
    "\n",
    "def load_chunk(filename, shape, dtype, offset, sl):\n",
    "    \"\"\"\n",
    "    An implementation of loading a raw file without memmapping\n",
    "    Tested this for Windows use but found no real improvement on this data size\n",
    "    Offset is not supported with this read function except for an integer number of items\n",
    "    Currently only supports slices in the first dimension!\n",
    "    \"\"\"\n",
    "    # tested this for Windows use but found no real improvement on this data\n",
    "    # offset is not supported with this read function except for an integer number of items\n",
    "    dtype_bytes = np.dtype(dtype).itemsize\n",
    "    macroframe_itemsize = math.prod(shape[1:])\n",
    "    start_item = sl.start *  macroframe_itemsize\n",
    "    end_item = sl.stop * macroframe_itemsize\n",
    "    np_shape = (sl.stop - sl.start,) + shape[1:]\n",
    "    with filename.open('rb') as fp:\n",
    "        return np.fromfile(fp, offset=start_item * dtype_bytes, dtype=dtype, count=end_item - start_item).reshape(np_shape)\n",
    "\n",
    "\n",
    "def blocksize_to_dim_slices(blocksize, dim):\n",
    "    \"\"\"\n",
    "    Generate the slices along a dimension of length dim\n",
    "    to split dim into chunks of length blocksize, with the final chunk\n",
    "    being the remainder if dim % blocksize != 0\n",
    "    \n",
    "    A blocksize of -1 is converted to a None slice\n",
    "    \"\"\"\n",
    "    slices = []\n",
    "    if blocksize == -1:\n",
    "        slices.append(slice(None))\n",
    "    else:\n",
    "        for index in range(0, dim, blocksize):\n",
    "            chunk_size = min(blocksize, dim - index)\n",
    "            slices.append(slice(index, index + chunk_size))\n",
    "    return slices \n",
    "\n",
    "\n",
    "def slices_to_chunk_shape(slices, full_shape):\n",
    "    \"\"\"\n",
    "    Generate the shape tuple of the array resulting from applying\n",
    "    the sequence of slices to an array with shape full_shape\n",
    "    \"\"\"\n",
    "    chunk_shape = []\n",
    "    for s, dim in zip(slices, full_shape):\n",
    "        if s.start is not None and s.stop is not None:\n",
    "            chunk_shape.append(s.stop - s.start)\n",
    "        elif s.start is None and s.stop is None:\n",
    "            chunk_shape.append(dim)\n",
    "        else:\n",
    "            raise NotImplementedError(f'Open-ended slices are currently unhandled {s}')\n",
    "    return tuple(chunk_shape)    \n",
    "\n",
    "\n",
    "def get_block_slices(blocksizes, shape):\n",
    "    \"\"\"\n",
    "    Converts blocksizes into a list of list of slices along each dimension in shape\n",
    "    An integer blocksizes is treated as a blocksize for the 0th dimension only\n",
    "    A blocksize of -1 is treated as slice(None) for that dimension\n",
    "    \"\"\"\n",
    "    if isinstance(blocksizes, int):\n",
    "        # assume chunking only in first dimension\n",
    "        blocksizes = (blocksizes,) + ((-1,) * len(shape[1:]))\n",
    "    assert len(blocksizes) == len(shape), 'Must supply a blocksize for every dimension, (-1 == no chunking), or int'\n",
    "    return [blocksize_to_dim_slices(bsize, dim) for bsize, dim in zip(blocksizes, shape)]\n",
    "\n",
    "\n",
    "def create_dask_array(filename, shape, dtype, offset=0, blocksizes=8):\n",
    "    \"\"\"\n",
    "    Create a dask array from a raw file using memmapping\n",
    "    \n",
    "    Chunking is defined by blocksizes, see prior docstrings for info\n",
    "    \"\"\"\n",
    "    load = dask.delayed(mmap_load_chunk, name='mmap_load_chunk', pure=True, traverse=False)\n",
    "    \n",
    "    slices_per_dim = get_block_slices(blocksizes, shape)\n",
    "    blocks = []\n",
    "    # rightmost advances fastest with itertools.product\n",
    "    for chunk_slices in itertools.product(*slices_per_dim):\n",
    "        chunk_shape = slices_to_chunk_shape(chunk_slices, shape)\n",
    "        chunk = dask.array.from_delayed(\n",
    "            load(\n",
    "                filename,\n",
    "                shape=shape,\n",
    "                dtype=dtype,\n",
    "                offset=offset,\n",
    "                sl=chunk_slices\n",
    "            ),\n",
    "            shape=chunk_shape,\n",
    "            dtype=dtype\n",
    "        )\n",
    "        blocks.append(chunk)\n",
    "    nblocks_per_dim = tuple([len(ss) for ss in slices_per_dim])\n",
    "    blocks = reshape_list(blocks, nblocks_per_dim)\n",
    "    return da.block(blocks)"
   ]
  },
  {
   "cell_type": "markdown",
   "id": "31799842",
   "metadata": {},
   "source": [
    "### Setup Dask/Distributed"
   ]
  },
  {
   "cell_type": "code",
   "execution_count": 5,
   "id": "600bbcce",
   "metadata": {},
   "outputs": [
    {
     "name": "stdout",
     "output_type": "stream",
     "text": [
      "Create Dask Scheduler - 1.556 s\n"
     ]
    }
   ],
   "source": [
    "with timer('Create Dask Scheduler'):\n",
    "    client = distributed.Client()"
   ]
  },
  {
   "cell_type": "markdown",
   "id": "aeff6a83",
   "metadata": {},
   "source": [
    "### Parameters and make dataset"
   ]
  },
  {
   "cell_type": "code",
   "execution_count": 6,
   "id": "58d75a4a",
   "metadata": {},
   "outputs": [],
   "source": [
    "path = pathlib.Path('./ds.raw').absolute()\n",
    "nav_shape = (70,128)\n",
    "sig_shape = (256,256)\n",
    "shape = nav_shape + sig_shape\n",
    "dtype = np.float32\n",
    "if not path.is_file():\n",
    "    make_raw_ds(path, np.float32, sig_shape, nav_shape, div=8)"
   ]
  },
  {
   "cell_type": "code",
   "execution_count": 23,
   "id": "d20d6b3d",
   "metadata": {},
   "outputs": [],
   "source": [
    "blocksizes = (8, -1, -1, -1) # number of elements per-block per-dimension"
   ]
  },
  {
   "cell_type": "code",
   "execution_count": 8,
   "id": "2ffbb407",
   "metadata": {
    "scrolled": false
   },
   "outputs": [
    {
     "data": {
      "text/html": [
       "<table>\n",
       "    <tr>\n",
       "        <td>\n",
       "            <table>\n",
       "                <thead>\n",
       "                    <tr>\n",
       "                        <td> </td>\n",
       "                        <th> Array </th>\n",
       "                        <th> Chunk </th>\n",
       "                    </tr>\n",
       "                </thead>\n",
       "                <tbody>\n",
       "                    \n",
       "                    <tr>\n",
       "                        <th> Bytes </th>\n",
       "                        <td> 2.19 GiB </td>\n",
       "                        <td> 256.00 MiB </td>\n",
       "                    </tr>\n",
       "                    \n",
       "                    <tr>\n",
       "                        <th> Shape </th>\n",
       "                        <td> (70, 128, 256, 256) </td>\n",
       "                        <td> (8, 128, 256, 256) </td>\n",
       "                    </tr>\n",
       "                    <tr>\n",
       "                        <th> Count </th>\n",
       "                        <td> 27 Tasks </td>\n",
       "                        <td> 9 Chunks </td>\n",
       "                    </tr>\n",
       "                    <tr>\n",
       "                    <th> Type </th>\n",
       "                    <td> float32 </td>\n",
       "                    <td> numpy.ndarray </td>\n",
       "                    </tr>\n",
       "                </tbody>\n",
       "            </table>\n",
       "        </td>\n",
       "        <td>\n",
       "        <svg width=\"431\" height=\"205\" style=\"stroke:rgb(0,0,0);stroke-width:1\" >\n",
       "\n",
       "  <!-- Horizontal lines -->\n",
       "  <line x1=\"0\" y1=\"0\" x2=\"43\" y2=\"0\" style=\"stroke-width:2\" />\n",
       "  <line x1=\"0\" y1=\"25\" x2=\"43\" y2=\"25\" style=\"stroke-width:2\" />\n",
       "\n",
       "  <!-- Vertical lines -->\n",
       "  <line x1=\"0\" y1=\"0\" x2=\"0\" y2=\"25\" style=\"stroke-width:2\" />\n",
       "  <line x1=\"4\" y1=\"0\" x2=\"4\" y2=\"25\" />\n",
       "  <line x1=\"9\" y1=\"0\" x2=\"9\" y2=\"25\" />\n",
       "  <line x1=\"14\" y1=\"0\" x2=\"14\" y2=\"25\" />\n",
       "  <line x1=\"19\" y1=\"0\" x2=\"19\" y2=\"25\" />\n",
       "  <line x1=\"24\" y1=\"0\" x2=\"24\" y2=\"25\" />\n",
       "  <line x1=\"29\" y1=\"0\" x2=\"29\" y2=\"25\" />\n",
       "  <line x1=\"34\" y1=\"0\" x2=\"34\" y2=\"25\" />\n",
       "  <line x1=\"39\" y1=\"0\" x2=\"39\" y2=\"25\" />\n",
       "  <line x1=\"43\" y1=\"0\" x2=\"43\" y2=\"25\" style=\"stroke-width:2\" />\n",
       "\n",
       "  <!-- Colored Rectangle -->\n",
       "  <polygon points=\"0.0,0.0 43.22527105711083,0.0 43.22527105711083,25.412616514582485 0.0,25.412616514582485\" style=\"fill:#ECB172A0;stroke-width:0\"/>\n",
       "\n",
       "  <!-- Text -->\n",
       "  <text x=\"21.612636\" y=\"45.412617\" font-size=\"1.0rem\" font-weight=\"100\" text-anchor=\"middle\" >70</text>\n",
       "  <text x=\"63.225271\" y=\"12.706308\" font-size=\"1.0rem\" font-weight=\"100\" text-anchor=\"middle\" transform=\"rotate(0,63.225271,12.706308)\">1</text>\n",
       "\n",
       "\n",
       "  <!-- Horizontal lines -->\n",
       "  <line x1=\"113\" y1=\"0\" x2=\"148\" y2=\"35\" style=\"stroke-width:2\" />\n",
       "  <line x1=\"113\" y1=\"120\" x2=\"148\" y2=\"155\" style=\"stroke-width:2\" />\n",
       "\n",
       "  <!-- Vertical lines -->\n",
       "  <line x1=\"113\" y1=\"0\" x2=\"113\" y2=\"120\" style=\"stroke-width:2\" />\n",
       "  <line x1=\"148\" y1=\"35\" x2=\"148\" y2=\"155\" style=\"stroke-width:2\" />\n",
       "\n",
       "  <!-- Colored Rectangle -->\n",
       "  <polygon points=\"113.0,0.0 148.29411764705884,35.294117647058826 148.29411764705884,155.29411764705884 113.0,120.0\" style=\"fill:#ECB172A0;stroke-width:0\"/>\n",
       "\n",
       "  <!-- Horizontal lines -->\n",
       "  <line x1=\"113\" y1=\"0\" x2=\"233\" y2=\"0\" style=\"stroke-width:2\" />\n",
       "  <line x1=\"148\" y1=\"35\" x2=\"268\" y2=\"35\" style=\"stroke-width:2\" />\n",
       "\n",
       "  <!-- Vertical lines -->\n",
       "  <line x1=\"113\" y1=\"0\" x2=\"148\" y2=\"35\" style=\"stroke-width:2\" />\n",
       "  <line x1=\"233\" y1=\"0\" x2=\"268\" y2=\"35\" style=\"stroke-width:2\" />\n",
       "\n",
       "  <!-- Colored Rectangle -->\n",
       "  <polygon points=\"113.0,0.0 233.0,0.0 268.29411764705884,35.294117647058826 148.29411764705884,35.294117647058826\" style=\"fill:#ECB172A0;stroke-width:0\"/>\n",
       "\n",
       "  <!-- Horizontal lines -->\n",
       "  <line x1=\"148\" y1=\"35\" x2=\"268\" y2=\"35\" style=\"stroke-width:2\" />\n",
       "  <line x1=\"148\" y1=\"155\" x2=\"268\" y2=\"155\" style=\"stroke-width:2\" />\n",
       "\n",
       "  <!-- Vertical lines -->\n",
       "  <line x1=\"148\" y1=\"35\" x2=\"148\" y2=\"155\" style=\"stroke-width:2\" />\n",
       "  <line x1=\"268\" y1=\"35\" x2=\"268\" y2=\"155\" style=\"stroke-width:2\" />\n",
       "\n",
       "  <!-- Colored Rectangle -->\n",
       "  <polygon points=\"148.29411764705884,35.294117647058826 268.29411764705884,35.294117647058826 268.29411764705884,155.29411764705884 148.29411764705884,155.29411764705884\" style=\"fill:#ECB172A0;stroke-width:0\"/>\n",
       "\n",
       "  <!-- Text -->\n",
       "  <text x=\"208.294118\" y=\"175.294118\" font-size=\"1.0rem\" font-weight=\"100\" text-anchor=\"middle\" >256</text>\n",
       "  <text x=\"288.294118\" y=\"95.294118\" font-size=\"1.0rem\" font-weight=\"100\" text-anchor=\"middle\" transform=\"rotate(-90,288.294118,95.294118)\">256</text>\n",
       "  <text x=\"120.647059\" y=\"157.647059\" font-size=\"1.0rem\" font-weight=\"100\" text-anchor=\"middle\" transform=\"rotate(45,120.647059,157.647059)\">128</text>\n",
       "</svg>\n",
       "        </td>\n",
       "    </tr>\n",
       "</table>"
      ],
      "text/plain": [
       "dask.array<concatenate, shape=(70, 128, 256, 256), dtype=float32, chunksize=(8, 128, 256, 256), chunktype=numpy.ndarray>"
      ]
     },
     "execution_count": 8,
     "metadata": {},
     "output_type": "execute_result"
    }
   ],
   "source": [
    "d_arr = create_dask_array(\n",
    "    filename=path,\n",
    "    shape=shape,\n",
    "    dtype=dtype,\n",
    "    blocksizes=blocksizes\n",
    ")\n",
    "d_arr"
   ]
  },
  {
   "cell_type": "markdown",
   "id": "671c5013",
   "metadata": {},
   "source": [
    "### Load LiberTEM context and the DaskDataSet"
   ]
  },
  {
   "cell_type": "code",
   "execution_count": 9,
   "id": "8ced39e1",
   "metadata": {
    "scrolled": true
   },
   "outputs": [],
   "source": [
    "executor = DaskJobExecutor(client)\n",
    "ctx = lt.Context(executor=executor)"
   ]
  },
  {
   "cell_type": "code",
   "execution_count": 10,
   "id": "988d3ab9",
   "metadata": {
    "scrolled": false
   },
   "outputs": [
    {
     "data": {
      "text/html": [
       "<table>\n",
       "    <tr>\n",
       "        <td>\n",
       "            <table>\n",
       "                <thead>\n",
       "                    <tr>\n",
       "                        <td> </td>\n",
       "                        <th> Array </th>\n",
       "                        <th> Chunk </th>\n",
       "                    </tr>\n",
       "                </thead>\n",
       "                <tbody>\n",
       "                    \n",
       "                    <tr>\n",
       "                        <th> Bytes </th>\n",
       "                        <td> 2.19 GiB </td>\n",
       "                        <td> 256.00 MiB </td>\n",
       "                    </tr>\n",
       "                    \n",
       "                    <tr>\n",
       "                        <th> Shape </th>\n",
       "                        <td> (70, 128, 256, 256) </td>\n",
       "                        <td> (8, 128, 256, 256) </td>\n",
       "                    </tr>\n",
       "                    <tr>\n",
       "                        <th> Count </th>\n",
       "                        <td> 27 Tasks </td>\n",
       "                        <td> 9 Chunks </td>\n",
       "                    </tr>\n",
       "                    <tr>\n",
       "                    <th> Type </th>\n",
       "                    <td> float32 </td>\n",
       "                    <td> numpy.ndarray </td>\n",
       "                    </tr>\n",
       "                </tbody>\n",
       "            </table>\n",
       "        </td>\n",
       "        <td>\n",
       "        <svg width=\"431\" height=\"205\" style=\"stroke:rgb(0,0,0);stroke-width:1\" >\n",
       "\n",
       "  <!-- Horizontal lines -->\n",
       "  <line x1=\"0\" y1=\"0\" x2=\"43\" y2=\"0\" style=\"stroke-width:2\" />\n",
       "  <line x1=\"0\" y1=\"25\" x2=\"43\" y2=\"25\" style=\"stroke-width:2\" />\n",
       "\n",
       "  <!-- Vertical lines -->\n",
       "  <line x1=\"0\" y1=\"0\" x2=\"0\" y2=\"25\" style=\"stroke-width:2\" />\n",
       "  <line x1=\"4\" y1=\"0\" x2=\"4\" y2=\"25\" />\n",
       "  <line x1=\"9\" y1=\"0\" x2=\"9\" y2=\"25\" />\n",
       "  <line x1=\"14\" y1=\"0\" x2=\"14\" y2=\"25\" />\n",
       "  <line x1=\"19\" y1=\"0\" x2=\"19\" y2=\"25\" />\n",
       "  <line x1=\"24\" y1=\"0\" x2=\"24\" y2=\"25\" />\n",
       "  <line x1=\"29\" y1=\"0\" x2=\"29\" y2=\"25\" />\n",
       "  <line x1=\"34\" y1=\"0\" x2=\"34\" y2=\"25\" />\n",
       "  <line x1=\"39\" y1=\"0\" x2=\"39\" y2=\"25\" />\n",
       "  <line x1=\"43\" y1=\"0\" x2=\"43\" y2=\"25\" style=\"stroke-width:2\" />\n",
       "\n",
       "  <!-- Colored Rectangle -->\n",
       "  <polygon points=\"0.0,0.0 43.22527105711083,0.0 43.22527105711083,25.412616514582485 0.0,25.412616514582485\" style=\"fill:#ECB172A0;stroke-width:0\"/>\n",
       "\n",
       "  <!-- Text -->\n",
       "  <text x=\"21.612636\" y=\"45.412617\" font-size=\"1.0rem\" font-weight=\"100\" text-anchor=\"middle\" >70</text>\n",
       "  <text x=\"63.225271\" y=\"12.706308\" font-size=\"1.0rem\" font-weight=\"100\" text-anchor=\"middle\" transform=\"rotate(0,63.225271,12.706308)\">1</text>\n",
       "\n",
       "\n",
       "  <!-- Horizontal lines -->\n",
       "  <line x1=\"113\" y1=\"0\" x2=\"148\" y2=\"35\" style=\"stroke-width:2\" />\n",
       "  <line x1=\"113\" y1=\"120\" x2=\"148\" y2=\"155\" style=\"stroke-width:2\" />\n",
       "\n",
       "  <!-- Vertical lines -->\n",
       "  <line x1=\"113\" y1=\"0\" x2=\"113\" y2=\"120\" style=\"stroke-width:2\" />\n",
       "  <line x1=\"148\" y1=\"35\" x2=\"148\" y2=\"155\" style=\"stroke-width:2\" />\n",
       "\n",
       "  <!-- Colored Rectangle -->\n",
       "  <polygon points=\"113.0,0.0 148.29411764705884,35.294117647058826 148.29411764705884,155.29411764705884 113.0,120.0\" style=\"fill:#ECB172A0;stroke-width:0\"/>\n",
       "\n",
       "  <!-- Horizontal lines -->\n",
       "  <line x1=\"113\" y1=\"0\" x2=\"233\" y2=\"0\" style=\"stroke-width:2\" />\n",
       "  <line x1=\"148\" y1=\"35\" x2=\"268\" y2=\"35\" style=\"stroke-width:2\" />\n",
       "\n",
       "  <!-- Vertical lines -->\n",
       "  <line x1=\"113\" y1=\"0\" x2=\"148\" y2=\"35\" style=\"stroke-width:2\" />\n",
       "  <line x1=\"233\" y1=\"0\" x2=\"268\" y2=\"35\" style=\"stroke-width:2\" />\n",
       "\n",
       "  <!-- Colored Rectangle -->\n",
       "  <polygon points=\"113.0,0.0 233.0,0.0 268.29411764705884,35.294117647058826 148.29411764705884,35.294117647058826\" style=\"fill:#ECB172A0;stroke-width:0\"/>\n",
       "\n",
       "  <!-- Horizontal lines -->\n",
       "  <line x1=\"148\" y1=\"35\" x2=\"268\" y2=\"35\" style=\"stroke-width:2\" />\n",
       "  <line x1=\"148\" y1=\"155\" x2=\"268\" y2=\"155\" style=\"stroke-width:2\" />\n",
       "\n",
       "  <!-- Vertical lines -->\n",
       "  <line x1=\"148\" y1=\"35\" x2=\"148\" y2=\"155\" style=\"stroke-width:2\" />\n",
       "  <line x1=\"268\" y1=\"35\" x2=\"268\" y2=\"155\" style=\"stroke-width:2\" />\n",
       "\n",
       "  <!-- Colored Rectangle -->\n",
       "  <polygon points=\"148.29411764705884,35.294117647058826 268.29411764705884,35.294117647058826 268.29411764705884,155.29411764705884 148.29411764705884,155.29411764705884\" style=\"fill:#ECB172A0;stroke-width:0\"/>\n",
       "\n",
       "  <!-- Text -->\n",
       "  <text x=\"208.294118\" y=\"175.294118\" font-size=\"1.0rem\" font-weight=\"100\" text-anchor=\"middle\" >256</text>\n",
       "  <text x=\"288.294118\" y=\"95.294118\" font-size=\"1.0rem\" font-weight=\"100\" text-anchor=\"middle\" transform=\"rotate(-90,288.294118,95.294118)\">256</text>\n",
       "  <text x=\"120.647059\" y=\"157.647059\" font-size=\"1.0rem\" font-weight=\"100\" text-anchor=\"middle\" transform=\"rotate(45,120.647059,157.647059)\">128</text>\n",
       "</svg>\n",
       "        </td>\n",
       "    </tr>\n",
       "</table>"
      ],
      "text/plain": [
       "dask.array<concatenate, shape=(70, 128, 256, 256), dtype=float32, chunksize=(8, 128, 256, 256), chunktype=numpy.ndarray>"
      ]
     },
     "execution_count": 10,
     "metadata": {},
     "output_type": "execute_result"
    }
   ],
   "source": [
    "ds = DaskDataSet(d_arr, sig_dims=len(sig_shape), preserve_dimensions=False)\n",
    "ds.initialize(executor)\n",
    "ds.array"
   ]
  },
  {
   "cell_type": "markdown",
   "id": "edc1b033",
   "metadata": {},
   "source": [
    "#### Try to warm up the filecache"
   ]
  },
  {
   "cell_type": "code",
   "execution_count": 11,
   "id": "68582421",
   "metadata": {},
   "outputs": [],
   "source": [
    "with path.open('rb') as fp:\n",
    "    array = np.fromfile(fp, dtype=dtype).reshape(shape)"
   ]
  },
  {
   "cell_type": "markdown",
   "id": "38380139",
   "metadata": {},
   "source": [
    "#### Run UDFs"
   ]
  },
  {
   "cell_type": "code",
   "execution_count": 12,
   "id": "83197771",
   "metadata": {},
   "outputs": [],
   "source": [
    "sum_udf = SumUDF()\n",
    "sigsum_udf = SumSigUDF()"
   ]
  },
  {
   "cell_type": "code",
   "execution_count": 13,
   "id": "8946052b",
   "metadata": {},
   "outputs": [
    {
     "name": "stdout",
     "output_type": "stream",
     "text": [
      "Run UDFs - 3.940 s\n"
     ]
    }
   ],
   "source": [
    "with timer('Run UDFs'):\n",
    "    res = ctx.run_udf(ds, [sum_udf, sigsum_udf])"
   ]
  },
  {
   "cell_type": "code",
   "execution_count": 14,
   "id": "2072000e",
   "metadata": {},
   "outputs": [
    {
     "data": {
      "image/png": "[encoded data removed]",
      "text/plain": [
       "<Figure size 720x432 with 2 Axes>"
      ]
     },
     "metadata": {
      "needs_background": "light"
     },
     "output_type": "display_data"
    }
   ],
   "source": [
    "fig, axs = plt.subplots(1, 2, figsize=(10, 6))\n",
    "axs[0].imshow(res[0]['intensity'].data);\n",
    "axs[0].set_title('Sum over nav axes');\n",
    "axs[1].imshow(res[1]['intensity'].data);\n",
    "axs[1].set_title('Sum over sig axes');"
   ]
  },
  {
   "cell_type": "markdown",
   "id": "d58dedca",
   "metadata": {},
   "source": [
    "### Numpy-only, whole file read"
   ]
  },
  {
   "cell_type": "code",
   "execution_count": 15,
   "id": "3fa50350",
   "metadata": {},
   "outputs": [
    {
     "name": "stdout",
     "output_type": "stream",
     "text": [
      "Numpy single read - 2.018 s\n"
     ]
    }
   ],
   "source": [
    "with timer('Numpy single read'):\n",
    "    with path.open('rb') as fp:\n",
    "        array = np.fromfile(fp, dtype=dtype).reshape(shape)\n",
    "    xx = array.sum(axis=(0, 1))\n",
    "    yy = array.sum(axis=(2, 3))"
   ]
  },
  {
   "cell_type": "markdown",
   "id": "11c970ac",
   "metadata": {},
   "source": [
    "### Numpy-only, partitioned reads without chunk optimisation"
   ]
  },
  {
   "cell_type": "code",
   "execution_count": 16,
   "id": "83cb9a6c",
   "metadata": {},
   "outputs": [
    {
     "name": "stdout",
     "output_type": "stream",
     "text": [
      "Numpy partitioned read - 0.685 s\n"
     ]
    }
   ],
   "source": [
    "with timer('Numpy partitioned read'):\n",
    "    slices_per_dim = get_block_slices(blocksizes, shape)\n",
    "    \n",
    "    for chunk_slices in itertools.product(*slices_per_dim):\n",
    "        array = mmap_load_chunk(\n",
    "                path,\n",
    "                shape=shape,\n",
    "                dtype=dtype,\n",
    "                offset=0,\n",
    "                sl=chunk_slices\n",
    "            )\n",
    "        xx = array.sum(axis=(0, 1))\n",
    "        yy = array.sum(axis=(2, 3))"
   ]
  },
  {
   "cell_type": "markdown",
   "id": "837511fb",
   "metadata": {},
   "source": [
    "### Test various array chunkings"
   ]
  },
  {
   "cell_type": "code",
   "execution_count": 17,
   "id": "553e8a21",
   "metadata": {},
   "outputs": [],
   "source": [
    "def test_blocksizes(blocksizes):\n",
    "    d_arr = create_dask_array(\n",
    "        filename=path,\n",
    "        shape=shape,\n",
    "        dtype=dtype,\n",
    "        blocksizes=blocksizes\n",
    "    )\n",
    "    ds = DaskDataSet(d_arr, sig_dims=len(sig_shape), preserve_dimensions=False)\n",
    "    original_n_blocks = [len(c) for c in d_arr.chunks]\n",
    "    ds.initialize(executor)\n",
    "    new_n_blocks = [len(c) for c in ds.array.chunks]\n",
    "    if original_n_blocks != new_n_blocks:\n",
    "        print(f'N Blocks adapted from {original_n_blocks} to {new_n_blocks}')\n",
    "    with timer('Run UDFs'):\n",
    "        res = ctx.run_udf(ds, [sum_udf, sigsum_udf])"
   ]
  },
  {
   "cell_type": "code",
   "execution_count": 18,
   "id": "9edbaa75",
   "metadata": {},
   "outputs": [
    {
     "name": "stdout",
     "output_type": "stream",
     "text": [
      "Run UDFs - 0.869 s\n"
     ]
    }
   ],
   "source": [
    "blocksizes = (8, -1, -1, -1) # easy, zeroth dimension partitioning\n",
    "test_blocksizes(blocksizes)"
   ]
  },
  {
   "cell_type": "code",
   "execution_count": 19,
   "id": "d86c80e6",
   "metadata": {},
   "outputs": [
    {
     "name": "stdout",
     "output_type": "stream",
     "text": [
      "N Blocks adapted from [18, 4, 1, 1] to [17, 1, 1, 1]\n"
     ]
    },
    {
     "name": "stderr",
     "output_type": "stream",
     "text": [
      "/home/mat/Workspace/libertem_dev/dask_dataset/prototypes/dask_run/dask_dataset.py:213: DaskRechunkWarning: Merging nav dimension chunks according to scheme {1: -1} as we cannot maintain continuity of frame indexing in the flattened navigation dimension. Original n_blocks: [18, 4, 1, 1]. New n_blocks: [18, 1, 1, 1].\n",
      "  warnings.warn(('Merging nav dimension chunks according to scheme '\n",
      "/home/mat/Workspace/libertem_dev/dask_dataset/prototypes/dask_run/dask_dataset.py:227: DaskRechunkWarning: Applying re-chunking to increase minimum partition size. n_blocks: [18, 1, 1, 1] => [17, 1, 1, 1]. Min chunk size 67.1 => 134.2 MiB , Max chunk size 134.2 => 201.3 MiB.\n",
      "  warnings.warn(('Applying re-chunking to increase minimum partition size. '\n"
     ]
    },
    {
     "name": "stdout",
     "output_type": "stream",
     "text": [
      "Run UDFs - 1.579 s\n"
     ]
    }
   ],
   "source": [
    "blocksizes = (4, 32, -1, -1) # moderate, blocks on all nav dimensions\n",
    "test_blocksizes(blocksizes)"
   ]
  },
  {
   "cell_type": "code",
   "execution_count": 20,
   "id": "c655a63f",
   "metadata": {},
   "outputs": [
    {
     "name": "stderr",
     "output_type": "stream",
     "text": [
      "/home/mat/Workspace/libertem_dev/dask_dataset/prototypes/dask_run/dask_dataset.py:172: DaskRechunkWarning: Merging sig dim chunks as LiberTEM does not support paritioning along the sig axes. Original n_blocks: [70, 2, 2, 2]. New n_blocks: [70, 2, 1, 1].\n",
      "  warnings.warn(('Merging sig dim chunks as LiberTEM does not '\n",
      "/home/mat/Workspace/libertem_dev/dask_dataset/prototypes/dask_run/dask_dataset.py:227: DaskRechunkWarning: Applying re-chunking to increase minimum partition size. n_blocks: [70, 2, 1, 1] => [17, 1, 1, 1]. Min chunk size 16.8 => 134.2 MiB , Max chunk size 16.8 => 201.3 MiB.\n",
      "  warnings.warn(('Applying re-chunking to increase minimum partition size. '\n"
     ]
    },
    {
     "name": "stdout",
     "output_type": "stream",
     "text": [
      "N Blocks adapted from [70, 2, 2, 2] to [17, 1, 1, 1]\n",
      "Run UDFs - 3.427 s\n"
     ]
    }
   ],
   "source": [
    "blocksizes = (1, 64, 128, 128) # hard, many partitions on zeroth nav, partitioned sig\n",
    "test_blocksizes(blocksizes)"
   ]
  },
  {
   "cell_type": "code",
   "execution_count": 21,
   "id": "d1a94c8a",
   "metadata": {},
   "outputs": [
    {
     "name": "stderr",
     "output_type": "stream",
     "text": [
      "/home/mat/Workspace/libertem_dev/dask_dataset/prototypes/dask_run/dask_dataset.py:187: DaskRechunkWarning: Re-ordered nav_dimensions to improve partitioning, create the dataset with preserve_dimensions=True to suppress this behaviour. Original shape: (70, 128, 256, 256) with n_blocks: [70, 128, 1, 1]. New shape: (128, 70, 256, 256) with n_blocks: [128, 70, 1, 1].\n",
      "  warnings.warn(('Re-ordered nav_dimensions to improve partitioning, '\n",
      "/home/mat/Workspace/libertem_dev/dask_dataset/prototypes/dask_run/dask_dataset.py:227: DaskRechunkWarning: Applying re-chunking to increase minimum partition size. n_blocks: [128, 70, 1, 1] => [16, 1, 1, 1]. Min chunk size 0.3 => 146.8 MiB , Max chunk size 0.3 => 146.8 MiB.\n",
      "  warnings.warn(('Applying re-chunking to increase minimum partition size. '\n"
     ]
    },
    {
     "name": "stdout",
     "output_type": "stream",
     "text": [
      "N Blocks adapted from [70, 128, 1, 1] to [16, 1, 1, 1]\n"
     ]
    },
    {
     "name": "stderr",
     "output_type": "stream",
     "text": [
      "/home/mat/.pyenv/versions/3.9.6/envs/dask_dataset/lib/python3.9/site-packages/distributed/worker.py:3877: UserWarning: Large object of size 4.17 MiB detected in task graph: \n",
      "  (<TaskProxy: <UDFTask [<libertem.udf.sum.SumUDF ob ... a0>]> (id=0)>,)\n",
      "Consider scattering large objects ahead of time\n",
      "with client.scatter to reduce scheduler burden and \n",
      "keep data on workers\n",
      "\n",
      "    future = client.submit(func, big_data)    # bad\n",
      "\n",
      "    big_future = client.scatter(big_data)     # good\n",
      "    future = client.submit(func, big_future)  # good\n",
      "  warnings.warn(\n"
     ]
    },
    {
     "name": "stdout",
     "output_type": "stream",
     "text": [
      "Run UDFs - 16.701 s\n"
     ]
    }
   ],
   "source": [
    "blocksizes = (1, 1, 256, 256) # equivalent to one file per frame\n",
    "test_blocksizes(blocksizes)"
   ]
  },
  {
   "cell_type": "code",
   "execution_count": 22,
   "id": "5fff9d1f",
   "metadata": {},
   "outputs": [
    {
     "name": "stderr",
     "output_type": "stream",
     "text": [
      "/home/mat/Workspace/libertem_dev/dask_dataset/prototypes/dask_run/dask_dataset.py:159: DaskRechunkWarning: Dask array is not chunked in navigation dimensions, cannot split into nav-partitions without loading the whole dataset on each worker. Array shape: (70, 128, 256, 256). Chunking: ((70,), (128,), (256,), (256,)). Array size 2348.81024 MiB.\n",
      "  warnings.warn(('Dask array is not chunked in navigation dimensions, '\n",
      "/home/mat/Workspace/libertem_dev/dask_dataset/prototypes/dask_run/dask_dataset.py:187: DaskRechunkWarning: Re-ordered nav_dimensions to improve partitioning, create the dataset with preserve_dimensions=True to suppress this behaviour. Original shape: (70, 128, 256, 256) with n_blocks: [1, 1, 1, 1]. New shape: (128, 70, 256, 256) with n_blocks: [1, 1, 1, 1].\n",
      "  warnings.warn(('Re-ordered nav_dimensions to improve partitioning, '\n",
      "distributed.nanny - WARNING - Worker exceeded 95% memory budget. Restarting\n",
      "distributed.nanny - WARNING - Restarting worker\n",
      "distributed.nanny - WARNING - Worker exceeded 95% memory budget. Restarting\n",
      "distributed.nanny - WARNING - Restarting worker\n",
      "distributed.worker - WARNING - Unmanaged memory use is high. This may indicate a memory leak or the memory may not be released to the OS; see https://distributed.dask.org/en/latest/worker.html#memtrim for more information. -- Unmanaged memory: 3.10 GiB -- Worker memory limit: 3.88 GiB\n",
      "distributed.nanny - WARNING - Worker exceeded 95% memory budget. Restarting\n",
      "distributed.nanny - WARNING - Restarting worker\n",
      "distributed.nanny - WARNING - Worker exceeded 95% memory budget. Restarting\n"
     ]
    },
    {
     "name": "stdout",
     "output_type": "stream",
     "text": [
      "Task stopped, out of memory?\n"
     ]
    },
    {
     "name": "stderr",
     "output_type": "stream",
     "text": [
      "distributed.nanny - WARNING - Restarting worker\n"
     ]
    }
   ],
   "source": [
    "blocksizes = (70, 128, 256, 256) # bizarre, no chunking at all, can kill workers due to memory\n",
    "try:\n",
    "    test_blocksizes(blocksizes)\n",
    "except distributed.scheduler.KilledWorker:\n",
    "    print('Task stopped, out of memory?')"
   ]
  }
 ],
 "metadata": {
  "kernelspec": {
   "display_name": "Python 3 (ipykernel)",
   "language": "python",
   "name": "python3"
  },
  "language_info": {
   "codemirror_mode": {
    "name": "ipython",
    "version": 3
   },
   "file_extension": ".py",
   "mimetype": "text/x-python",
   "name": "python",
   "nbconvert_exporter": "python",
   "pygments_lexer": "ipython3",
   "version": "3.9.6"
  }
 },
 "nbformat": 4,
 "nbformat_minor": 5
}
