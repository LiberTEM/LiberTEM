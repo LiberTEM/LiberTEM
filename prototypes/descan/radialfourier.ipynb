{
 "cells": [
  {
   "cell_type": "markdown",
   "id": "63d34ccb",
   "metadata": {},
   "source": [
    "## Run UDFs on Merlin live streams\n",
    "\n",
    "If you want to use this with the simulated data source, run a simple Merlin simulator in the background that replays an MIB dataset:\n",
    "\n",
    "`libertem-live-mib-sim ~/Data/default.hdr --cached=MEM --wait-trigger`\n",
    "\n",
    "The `--wait-trigger` option is important for this notebook to function correctly since that allows to drain the data socket before an acquisition like it is necessary for a real-world Merlin detector.\n",
    "\n",
    "A suitable MIB dataset can be downloaded at https://zenodo.org/record/5113449.\n",
    "\n",
    "On Linux, `MEMFD` is also supported as a cache. Use `NONE` to deactivate the cache.\n",
    "\n",
    "* Make sure to adjust the `NAV_SHAPE` below to match the scan of the data source!\n",
    "* This notebook requires the `bqplot` extra of LiberTEM: `pip install libertem[bqplot]`"
   ]
  },
  {
   "cell_type": "code",
   "execution_count": 1,
   "id": "57cc5000",
   "metadata": {},
   "outputs": [],
   "source": [
    "# Uncomment to use Matplotlib-based plots\n",
    "# This requires ipympl and allows to capture Matplotlib plots as ipywidgets.\n",
    "# %matplotlib widget"
   ]
  },
  {
   "cell_type": "code",
   "execution_count": 2,
   "id": "80ca2207",
   "metadata": {},
   "outputs": [],
   "source": [
    "# set this to the host/port where the merlin data server is listening:\n",
    "MERLIN_DATA_SOCKET = ('127.0.0.1', 6342)\n",
    "MERLIN_CONTROL_SOCKET = ('127.0.0.1', 6341)\n",
    "NAV_SHAPE = (256, 256)\n",
    "SIG_SHAPE = (256, 256)"
   ]
  },
  {
   "cell_type": "code",
   "execution_count": 3,
   "id": "62e7a79d",
   "metadata": {},
   "outputs": [],
   "source": [
    "import logging\n",
    "import time\n",
    "import concurrent.futures\n",
    "\n",
    "\n",
    "import numpy as np\n",
    "import ipywidgets\n",
    "from contextlib import contextmanager"
   ]
  },
  {
   "cell_type": "code",
   "execution_count": 4,
   "id": "069fc672",
   "metadata": {},
   "outputs": [],
   "source": [
    "logging.basicConfig(level=logging.INFO)"
   ]
  },
  {
   "cell_type": "code",
   "execution_count": 5,
   "id": "6ff9b76a",
   "metadata": {},
   "outputs": [
    {
     "name": "stderr",
     "output_type": "stream",
     "text": [
      "INFO:empyre:Imported EMPyRe V-0.3.1 GIT-d9fd62abe46ee1e69c8f2a81609d3c1858ca061c\n"
     ]
    }
   ],
   "source": [
    "# Sum all detector frames, result is a map of the detector\n",
    "from libertem.udf.sum import SumUDF\n",
    "# Sum up each detector frame, result is a bright field STEM image of the scan area\n",
    "from libertem.udf.sumsigudf import SumSigUDF\n",
    "from libertem.udf.masks import ApplyShiftedMasksUDF\n",
    "from libertem.analysis.radialfourier import radial_mask_factory\n",
    "from empyre.vis.colors import ColormapCubehelix\n",
    "\n",
    "# ImageGL-accelerated plot for fast live display\n",
    "from libertem.viz.bqp import BQLive2DPlot\n",
    "# Alternatively a version that uses the slower, but more mature Matplotlib\n",
    "from libertem.viz.mpl import MPLLive2DPlot"
   ]
  },
  {
   "cell_type": "code",
   "execution_count": 6,
   "id": "c0f229d9",
   "metadata": {},
   "outputs": [],
   "source": [
    "from libertem_live.api import LiveContext\n",
    "from libertem_live.detectors.merlin import MerlinControl\n",
    "from libertem_live.udf.monitor import SignalMonitorUDF\n",
    "from libertem.executor.pipelined import PipelinedExecutor"
   ]
  },
  {
   "cell_type": "code",
   "execution_count": 7,
   "id": "c0902f05",
   "metadata": {},
   "outputs": [
    {
     "name": "stderr",
     "output_type": "stream",
     "text": [
      "INFO:numba.cuda.cudadrv.driver:init\n"
     ]
    }
   ],
   "source": [
    "ctx = LiveContext(executor=PipelinedExecutor())"
   ]
  },
  {
   "cell_type": "markdown",
   "id": "4b3dafb4",
   "metadata": {},
   "source": [
    "### Camera setup routines\n",
    "\n",
    "Different from offline processing, the shape, type and content of a dataset is not predetermined in live processing.\n",
    "Instead, the data source has to be configured to supply the desired data. The `set_nav()` function at the bottom accepts an acquisition object as a parameter to make it easier to configure a matching scan resolution."
   ]
  },
  {
   "cell_type": "code",
   "execution_count": 8,
   "id": "674c1643",
   "metadata": {},
   "outputs": [],
   "source": [
    "def merlin_setup(c: MerlinControl, dwell_time=1e-3, depth=6, save_path=None):\n",
    "    print(\"Setting Merlin acquisition parameters\")\n",
    "    # Here go commands to control the camera and the rest of the setup\n",
    "    # to perform an acquisition.\n",
    "\n",
    "    # The Merlin simulator currently accepts all kinds of commands\n",
    "    # and doesn't respond like a real Merlin detector.\n",
    "    c.set('CONTINUOUSRW', 1)\n",
    "    c.set('ACQUISITIONTIME' , dwell_time * 1e3)  # Time in miliseconds\n",
    "    c.set('COUNTERDEPTH', depth)\n",
    "    \n",
    "    # Soft trigger for testing\n",
    "    # For a real STEM acquisition the trigger setup has to be adapted for the given instrument.\n",
    "    # See the MerlinEM User Manual for more details on trigger setup\n",
    "    c.set('TRIGGERSTART', 5)\n",
    "    \n",
    "    c.set('RUNHEADLESS', 1)\n",
    "    c.set('FILEFORMAT', 2)  # 0 binary, 2 raw binary\n",
    "\n",
    "    if save_path is not None:\n",
    "        c.set('IMAGESPERFILE', 256)\n",
    "        c.set('FILEENABLE', 1)\n",
    "        c.set('USETIMESTAMPING', 0)  # raw format with timestamping is buggy, we need to do it ourselves\n",
    "        c.set('FILEFORMAT', 2)  # raw format, less overhead?\n",
    "        c.set('FILEDIRECTORY', save_path)\n",
    "    else:\n",
    "        c.set('FILEENABLE', 0)\n",
    "\n",
    "    print(\"Finished Merlin setup.\")\n",
    "        \n",
    "def microscope_setup(dwell_time=1e-3):\n",
    "    # Here go instructions to set dwell time and\n",
    "    # other scan parameters\n",
    "    # microscope.set_dwell_time(dwell_time)\n",
    "    pass\n",
    "\n",
    "def set_nav(c: MerlinControl, aq):\n",
    "    height, width = aq.shape.nav\n",
    "    print(\"Setting resolution...\")\n",
    "    c.set('NUMFRAMESTOACQUIRE', height * width)\n",
    "    # Only one trigger for the whole scan with SOFTTRIGGER\n",
    "    # This has to be adapted to the real trigger setup.\n",
    "    # Set to `width` for line trigger and to `1` for pixel trigger.\n",
    "    c.set('NUMFRAMESPERTRIGGER', height * width)\n",
    "    \n",
    "    # microscope.configure_scan(shape=aq.shape.nav)"
   ]
  },
  {
   "cell_type": "markdown",
   "id": "7e62ba62",
   "metadata": {},
   "source": [
    "### Trigger function\n",
    "\n",
    "A LiberTEM Live acquisition object should include a trigger callback function so that LiberTEM Live can set off the acquisition as soon as it has connected to the camera and is ready to receive data. The trigger function receives the acquisition object as a parameter. Here we also create an `AcquisitionState` object that allows to collect the result of a trigger function, and a thread pool to run a blocking function in the background."
   ]
  },
  {
   "cell_type": "code",
   "execution_count": 9,
   "id": "b0296eb6",
   "metadata": {},
   "outputs": [],
   "source": [
    "class AcquisitionState:\n",
    "    def __init__(self):\n",
    "        self.trigger_result = None\n",
    "\n",
    "    def set_trigger_result(self, result):\n",
    "        self.trigger_result = result"
   ]
  },
  {
   "cell_type": "code",
   "execution_count": 10,
   "id": "d5dd54bd",
   "metadata": {},
   "outputs": [],
   "source": [
    "acquisition_state = AcquisitionState()"
   ]
  },
  {
   "cell_type": "code",
   "execution_count": 11,
   "id": "4b370267",
   "metadata": {},
   "outputs": [],
   "source": [
    "pool = concurrent.futures.ThreadPoolExecutor(1)"
   ]
  },
  {
   "cell_type": "code",
   "execution_count": 12,
   "id": "f4d5d350",
   "metadata": {},
   "outputs": [],
   "source": [
    "def trigger(aq):\n",
    "    print(\"Arming Merlin...\")\n",
    "    # c is a MerlinControl, will be created in the cell that runs the scan\n",
    "    # below. This arms the detector and sends the acquisition headers.\n",
    "    with c:\n",
    "        c.cmd('STARTACQUISITION')\n",
    "    # microscope.start_scanning()\n",
    "    time.sleep(1)\n",
    "    \n",
    "    print(\"Merlin ready for trigger.\")\n",
    "    print(\"Triggering!\")\n",
    "    height, width = aq.shape.nav\n",
    "    \n",
    "    # Real-world example: Function call to trigger the scan engine\n",
    "    # that triggers the detector with a hardware trigger to match the scan of the beam.\n",
    "    # This function is blocking until the scan is complete.\n",
    "    # do_scan = lambda: ceos.call.acquireScan(width=width, height=height+1, imageName=\"test\")\n",
    "    \n",
    "    # Testing: Use soft trigger\n",
    "    # The emulator can trigger on the 'SOFTTRIGGER' command like the Merlin detector.\n",
    "    def do_scan():\n",
    "        '''\n",
    "        Emulated blocking scan function using the Merlin simulator.\n",
    "        \n",
    "        This function doesn't actually block, but it could!\n",
    "        '''\n",
    "        print(\"do_scan()\")\n",
    "        with c:\n",
    "            c.cmd('SOFTTRIGGER')\n",
    "            \n",
    "    # The real-world scan function might be blocking. We run it in a thread pool here\n",
    "    # so that `trigger()` returns and the acquisition can start.\n",
    "    fut = pool.submit(do_scan)\n",
    "    acquisition_state.set_trigger_result(fut)"
   ]
  },
  {
   "cell_type": "code",
   "execution_count": 13,
   "id": "e3094a57",
   "metadata": {},
   "outputs": [],
   "source": [
    "aq = ctx.prepare_acquisition(\n",
    "    'merlin',\n",
    "    trigger=trigger,\n",
    "    nav_shape=NAV_SHAPE,\n",
    "    sig_shape=SIG_SHAPE,\n",
    "    host=MERLIN_DATA_SOCKET[0],\n",
    "    port=MERLIN_DATA_SOCKET[1],\n",
    "    frames_per_partition=800,\n",
    "    pool_size=2,\n",
    "    timeout=5,\n",
    ")"
   ]
  },
  {
   "cell_type": "code",
   "execution_count": 14,
   "id": "6c84ce1b",
   "metadata": {},
   "outputs": [],
   "source": [
    "mask_factory = radial_mask_factory(\n",
    "    detector_x=aq.shape.sig[1],\n",
    "    detector_y=aq.shape.sig[0],\n",
    "    cx=119.5,\n",
    "    cy=135.9,\n",
    "    ri=31,\n",
    "    ro=102,\n",
    "    n_bins=1,\n",
    "    max_order=8,\n",
    "    use_sparse=False,\n",
    ")\n",
    "\n",
    "ch = ColormapCubehelix(start=1, rot=1, minLight=0.5, maxLight=0.5, sat=2)\n",
    "\n",
    "def abs_order_6(intensity):\n",
    "    return np.abs(intensity[..., 6])\n",
    "\n",
    "def angle_order_6(intensity):\n",
    "    return np.angle(intensity[..., 6])\n",
    "\n",
    "def vector_order_6(intensity):\n",
    "    return ch.rgb_from_vector((intensity[..., 6].real, intensity[..., 6].imag, 0))\n",
    "\n",
    "def color_plot(udf_result, damage):\n",
    "    intensity = udf_result['intensity'].data\n",
    "    bright = np.abs(intensity[..., 0])\n",
    "    asymm = intensity[..., 1:]\n",
    "    toplot = asymm.sum(axis=-1)\n",
    "    return ch.rgb_from_vector((toplot.real, toplot.imag, bright)), damage"
   ]
  },
  {
   "cell_type": "code",
   "execution_count": 15,
   "id": "1518f349",
   "metadata": {},
   "outputs": [],
   "source": [
    "udfs = [ApplyShiftedMasksUDF(mask_factories=mask_factory), SumSigUDF(), SignalMonitorUDF()]"
   ]
  },
  {
   "cell_type": "code",
   "execution_count": 16,
   "id": "e0530334",
   "metadata": {},
   "outputs": [],
   "source": [
    "LivePlot = BQLive2DPlot\n",
    "# Uncomment below to use Matplotlib-based plotting\n",
    "# See also the top of the notebook to select the correct matplotlib backend\n",
    "# LivePlot = MPLLive2DPlot\n",
    "\n",
    "p0 = LivePlot(aq, udfs[0], channel=color_plot)\n",
    "p1 = LivePlot(aq, udfs[1])\n",
    "p2 = LivePlot(aq, udfs[2])"
   ]
  },
  {
   "cell_type": "code",
   "execution_count": 17,
   "id": "c65263b1",
   "metadata": {},
   "outputs": [],
   "source": [
    "# NBVAL_IGNORE_OUTPUT\n",
    "# (output is ignored in nbval run because it somehow doesn't play nice with bqplot)\n",
    "\n",
    "outputs = []\n",
    "\n",
    "for p in [p0, p1, p2]:\n",
    "    # Capture the plots to display them in a grid later\n",
    "    output = ipywidgets.Output()\n",
    "    with output:\n",
    "        p.display()\n",
    "        # Some plot-specific tweaks for grid display\n",
    "        if isinstance(p, BQLive2DPlot):\n",
    "            p.figure.fig_margin={'top': 50, 'bottom': 0, 'left': 25, 'right': 25}\n",
    "            p.figure.layout.width = '300px'\n",
    "            p.figure.layout.height = '300px'\n",
    "        elif isinstance(p, MPLLive2DPlot):\n",
    "            p.fig.tight_layout()\n",
    "            p.fig.set_size_inches((3, 3))\n",
    "            p.fig.canvas.toolbar_position = 'bottom'\n",
    "    outputs.append(output)"
   ]
  },
  {
   "cell_type": "code",
   "execution_count": 18,
   "id": "f58002d1",
   "metadata": {},
   "outputs": [
    {
     "data": {
      "application/vnd.jupyter.widget-view+json": {
       "model_id": "86018e8083234a4388aa4d473a81a5e7",
       "version_major": 2,
       "version_minor": 0
      },
      "text/plain": [
       "HBox(children=(Output(), Output(), Output()))"
      ]
     },
     "metadata": {},
     "output_type": "display_data"
    }
   ],
   "source": [
    "# Show the plot grid\n",
    "ipywidgets.HBox(outputs)"
   ]
  },
  {
   "cell_type": "markdown",
   "id": "9074cda9",
   "metadata": {},
   "source": [
    "### Sample output\n",
    "\n",
    "The plots are not preserved when saving the notebook. They look like this:\n",
    "\n",
    "![sample plot](run_on_merlin_data.png)"
   ]
  },
  {
   "cell_type": "markdown",
   "id": "488d3959",
   "metadata": {},
   "source": [
    "### Run one scan\n",
    "\n",
    "The live plots above are updated with the results"
   ]
  },
  {
   "cell_type": "code",
   "execution_count": 20,
   "id": "04e409cb",
   "metadata": {
    "scrolled": false
   },
   "outputs": [
    {
     "name": "stdout",
     "output_type": "stream",
     "text": [
      "Connecting Merlin control...\n",
      "Setting Merlin acquisition parameters\n",
      "Finished Merlin setup.\n",
      "Setting resolution...\n",
      "Arming Merlin...\n",
      "Merlin ready for trigger.\n",
      "Triggering!\n",
      "do_scan()\n"
     ]
    },
    {
     "name": "stderr",
     "output_type": "stream",
     "text": [
      "INFO:libertem_live.detectors.merlin.data:got headers; frame offset = 0\n"
     ]
    },
    {
     "name": "stdout",
     "output_type": "stream",
     "text": [
      "Waiting for blocking scan function...\n",
      "result = None\n",
      "Finished.\n"
     ]
    }
   ],
   "source": [
    "c = MerlinControl(*MERLIN_CONTROL_SOCKET)\n",
    "\n",
    "print(\"Connecting Merlin control...\")\n",
    "with c:\n",
    "    merlin_setup(c)\n",
    "    microscope_setup()\n",
    "\n",
    "    set_nav(c, aq)\n",
    "try:\n",
    "    # This will call the trigger function defined above as soon as\n",
    "    # LiberTEM-live is ready to receive data.\n",
    "    ctx.run_udf(dataset=aq, udf=udfs, plots=[p0, p1, p2])\n",
    "finally:\n",
    "    try:\n",
    "        if acquisition_state.trigger_result is not None:\n",
    "            print(\"Waiting for blocking scan function...\")\n",
    "            print(f\"result = {acquisition_state.trigger_result.result()}\")\n",
    "    finally:\n",
    "        # Real world:\n",
    "        # microscope.stop_scanning()\n",
    "        pass\n",
    "print(\"Finished.\")"
   ]
  },
  {
   "cell_type": "code",
   "execution_count": null,
   "id": "240bdee1",
   "metadata": {},
   "outputs": [],
   "source": []
  }
 ],
 "metadata": {
  "@webio": {
   "lastCommId": null,
   "lastKernelId": null
  },
  "kernelspec": {
   "display_name": "Python 3.9 (libertem)",
   "language": "python",
   "name": "libertem39"
  },
  "language_info": {
   "codemirror_mode": {
    "name": "ipython",
    "version": 3
   },
   "file_extension": ".py",
   "mimetype": "text/x-python",
   "name": "python",
   "nbconvert_exporter": "python",
   "pygments_lexer": "ipython3",
   "version": "3.9.12"
  }
 },
 "nbformat": 4,
 "nbformat_minor": 5
}
