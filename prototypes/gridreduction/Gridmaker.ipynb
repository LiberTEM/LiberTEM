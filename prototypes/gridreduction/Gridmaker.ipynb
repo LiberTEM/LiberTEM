{
 "cells": [
  {
   "cell_type": "code",
   "execution_count": 30,
   "metadata": {},
   "outputs": [],
   "source": [
    "import numpy as np\n",
    "import matplotlib.pyplot as plt\n",
    "from matplotlib import cm\n",
    "from itertools import product\n",
    "import numba"
   ]
  },
  {
   "cell_type": "code",
   "execution_count": 167,
   "metadata": {},
   "outputs": [],
   "source": [
    "def peak_grid(zero, v1, v2, xes, yes, delta):\n",
    "    zero = np.array(zero)\n",
    "    v1 = np.array(v1)\n",
    "    v2 = np.array(v2)\n",
    "    coords = map(lambda pair: zero + v1*pair[0] + v2*pair[1] + delta*np.random.randn(2) , product(xes, yes))\n",
    "    return coords\n",
    "\n",
    "\n",
    "def ring_filter(center, r1, r2):\n",
    "    center = np.array(center)\n",
    "    def f(pair):\n",
    "        d = np.linalg.norm(center - pair)\n",
    "        return (d > r1) and (d < r2)\n",
    "    \n",
    "    return f"
   ]
  },
  {
   "cell_type": "code",
   "execution_count": 184,
   "metadata": {},
   "outputs": [],
   "source": [
    "coords_1 = peak_grid((0,0), (0.7, 0.39), (0.7, -0.39), np.arange(-5, 5), np.arange(-5, 5), 0.01)\n",
    "coords_1 = filter(ring_filter((0,0), 0, 3), coords_1)\n",
    "coords_1 = np.array(list(coords_1)).T\n",
    "\n",
    "coords_2 = peak_grid((0,0), (0.6, 0.4), (0.3, -0.8), np.arange(-5, 5), np.arange(-5, 5), 0.01)\n",
    "coords_2 = filter(ring_filter((3,3), 3, 5), coords_2)\n",
    "coords_2 = filter(ring_filter((0,0), 0, 2.5), coords_2)\n",
    "coords_2 = np.array(list(coords_2)).T"
   ]
  },
  {
   "cell_type": "code",
   "execution_count": 185,
   "metadata": {},
   "outputs": [
    {
     "data": {
      "text/plain": [
       "<matplotlib.collections.PathCollection at 0x1f28cdab320>"
      ]
     },
     "execution_count": 185,
     "metadata": {},
     "output_type": "execute_result"
    },
    {
     "data": {
      "image/png": "[encoded data removed]",
      "text/plain": [
       "<Figure size 432x288 with 1 Axes>"
      ]
     },
     "metadata": {},
     "output_type": "display_data"
    }
   ],
   "source": [
    "fig, axes = plt.subplots()\n",
    "axes.scatter(coords_1[0], coords_1[1])\n",
    "axes.scatter(coords_2[0], coords_2[1])"
   ]
  },
  {
   "cell_type": "code",
   "execution_count": 199,
   "metadata": {},
   "outputs": [],
   "source": [
    "coords = np.concatenate((coords_1, coords_2), axis=1)"
   ]
  },
  {
   "cell_type": "code",
   "execution_count": 200,
   "metadata": {},
   "outputs": [
    {
     "data": {
      "text/plain": [
       "<matplotlib.collections.PathCollection at 0x1f28ce027b8>"
      ]
     },
     "execution_count": 200,
     "metadata": {},
     "output_type": "execute_result"
    },
    {
     "data": {
      "image/png": "[encoded data removed]",
      "text/plain": [
       "<Figure size 432x288 with 1 Axes>"
      ]
     },
     "metadata": {},
     "output_type": "display_data"
    }
   ],
   "source": [
    "fig, axes = plt.subplots()\n",
    "axes.scatter(coords[0], coords[1])"
   ]
  },
  {
   "cell_type": "code",
   "execution_count": null,
   "metadata": {},
   "outputs": [],
   "source": []
  }
 ],
 "metadata": {
  "kernelspec": {
   "display_name": "Python 3",
   "language": "python",
   "name": "python3"
  },
  "language_info": {
   "codemirror_mode": {
    "name": "ipython",
    "version": 3
   },
   "file_extension": ".py",
   "mimetype": "text/x-python",
   "name": "python",
   "nbconvert_exporter": "python",
   "pygments_lexer": "ipython3",
   "version": "3.6.6"
  }
 },
 "nbformat": 4,
 "nbformat_minor": 2
}
