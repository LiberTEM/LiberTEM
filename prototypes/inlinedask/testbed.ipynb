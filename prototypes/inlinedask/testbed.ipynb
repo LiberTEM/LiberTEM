{
 "cells": [
  {
   "cell_type": "code",
   "execution_count": 1,
   "metadata": {},
   "outputs": [],
   "source": [
    "%matplotlib nbagg\n",
    "#%load_ext autoreload"
   ]
  },
  {
   "cell_type": "code",
   "execution_count": 2,
   "metadata": {},
   "outputs": [],
   "source": [
    "import numpy as np\n",
    "import scipy.sparse as sp\n",
    "import matplotlib.pyplot as plt\n",
    "from matplotlib import cm\n",
    "from dask import delayed\n",
    "from dask import array as da\n",
    "from copy import deepcopy\n",
    "\n",
    "import libertem\n",
    "from libertem import api\n",
    "from libertem.executor.dask import DelayedJobExecutor\n",
    "from libertem.executor.inline import InlineJobExecutor\n",
    "\n",
    "from libertem.udf.base import UDFRunner, UDF"
   ]
  },
  {
   "cell_type": "code",
   "execution_count": 3,
   "metadata": {},
   "outputs": [],
   "source": [
    "delayed_e = DelayedJobExecutor()\n",
    "ctx = api.Context(executor=delayed_e)\n",
    "# inline_ctx = api.Context(executor=InlineJobExecutor())\n",
    "# dist_ctx = api.Context()"
   ]
  },
  {
   "cell_type": "code",
   "execution_count": 4,
   "metadata": {},
   "outputs": [],
   "source": [
    "ds = ctx.load(\n",
    "    \"auto\",\n",
    "    path=r\"E:\\LargeData\\LargeData\\ER-C-1\\groups\\data_science\\data\\reference\\EMPAD\\BiFeO3\\acquisition_12.xml\",\n",
    ")\n",
    "(scan_y, scan_x, detector_y, detector_x) = ds.shape\n",
    "mask_shape = np.array((detector_y, detector_x))\n",
    "cx = detector_x/2\n",
    "cy = detector_y/2\n",
    "y = scan_y//2\n",
    "x = scan_x//2 + 1"
   ]
  },
  {
   "cell_type": "code",
   "execution_count": 5,
   "metadata": {},
   "outputs": [],
   "source": [
    "def all_ones():\n",
    "    return np.ones((detector_y, detector_x))"
   ]
  },
  {
   "cell_type": "code",
   "execution_count": 6,
   "metadata": {},
   "outputs": [],
   "source": [
    "def single_pixel():\n",
    "    buf = np.zeros((detector_y, detector_x))\n",
    "    buf[int(cy), int(cx)] = 1\n",
    "    return buf"
   ]
  },
  {
   "cell_type": "markdown",
   "metadata": {},
   "source": [
    "Here we use a mask UDF. This UDF uses the LiberTEM computation rather directly and returns a simple numerical result. See further below for examples that use the high-level analysis interface instead."
   ]
  },
  {
   "cell_type": "code",
   "execution_count": 7,
   "metadata": {},
   "outputs": [],
   "source": [
    "mask_udf = libertem.udf.masks.ApplyMasksUDF(mask_factories=[all_ones, single_pixel])\n",
    "sum_udf = libertem.udf.sum.SumUDF()\n",
    "roi = np.random.choice([True, False], size=ds.shape.nav)"
   ]
  },
  {
   "cell_type": "code",
   "execution_count": 16,
   "metadata": {},
   "outputs": [
    {
     "name": "stdout",
     "output_type": "stream",
     "text": [
      "Wall time: 3.23 s\n"
     ]
    }
   ],
   "source": [
    "%%time\n",
    "runner = UDFRunner([mask_udf, sum_udf])\n",
    "direct_result = runner.run_for_dataset(\n",
    "    dataset=ds,\n",
    "    executor=delayed_e,\n",
    "    roi=roi,\n",
    "    corrections=None,\n",
    "    backends=None\n",
    ")"
   ]
  },
  {
   "cell_type": "code",
   "execution_count": 9,
   "metadata": {},
   "outputs": [],
   "source": [
    "runner = UDFRunner([mask_udf, sum_udf])\n",
    "delayed_result = runner.delayed_for_dataset(\n",
    "    dataset=ds,\n",
    "    executor=delayed_e,\n",
    "    roi=roi,\n",
    "    corrections=None,\n",
    "    backends=None\n",
    ")"
   ]
  },
  {
   "cell_type": "code",
   "execution_count": 10,
   "metadata": {},
   "outputs": [
    {
     "data": {
      "text/html": [
       "<table>\n",
       "<tr>\n",
       "<td>\n",
       "<table>\n",
       "  <thead>\n",
       "    <tr><td> </td><th> Array </th><th> Chunk </th></tr>\n",
       "  </thead>\n",
       "  <tbody>\n",
       "    <tr><th> Bytes </th><td> 1.05 MB </td> <td> 1.05 MB </td></tr>\n",
       "    <tr><th> Shape </th><td> (256, 256, 2) </td> <td> (256, 256, 2) </td></tr>\n",
       "    <tr><th> Count </th><td> 27 Tasks </td><td> 1 Chunks </td></tr>\n",
       "    <tr><th> Type </th><td> float64 </td><td> numpy.ndarray </td></tr>\n",
       "  </tbody>\n",
       "</table>\n",
       "</td>\n",
       "<td>\n",
       "<svg width=\"156\" height=\"240\" style=\"stroke:rgb(0,0,0);stroke-width:1\" >\n",
       "\n",
       "  <!-- Horizontal lines -->\n",
       "  <line x1=\"10\" y1=\"0\" x2=\"80\" y2=\"70\" style=\"stroke-width:2\" />\n",
       "  <line x1=\"10\" y1=\"120\" x2=\"80\" y2=\"190\" style=\"stroke-width:2\" />\n",
       "\n",
       "  <!-- Vertical lines -->\n",
       "  <line x1=\"10\" y1=\"0\" x2=\"10\" y2=\"120\" style=\"stroke-width:2\" />\n",
       "  <line x1=\"80\" y1=\"70\" x2=\"80\" y2=\"190\" style=\"stroke-width:2\" />\n",
       "\n",
       "  <!-- Colored Rectangle -->\n",
       "  <polygon points=\"10.0,0.0 80.58823529411765,70.58823529411765 80.58823529411765,190.58823529411765 10.0,120.0\" style=\"fill:#ECB172A0;stroke-width:0\"/>\n",
       "\n",
       "  <!-- Horizontal lines -->\n",
       "  <line x1=\"10\" y1=\"0\" x2=\"35\" y2=\"0\" style=\"stroke-width:2\" />\n",
       "  <line x1=\"80\" y1=\"70\" x2=\"106\" y2=\"70\" style=\"stroke-width:2\" />\n",
       "\n",
       "  <!-- Vertical lines -->\n",
       "  <line x1=\"10\" y1=\"0\" x2=\"80\" y2=\"70\" style=\"stroke-width:2\" />\n",
       "  <line x1=\"35\" y1=\"0\" x2=\"106\" y2=\"70\" style=\"stroke-width:2\" />\n",
       "\n",
       "  <!-- Colored Rectangle -->\n",
       "  <polygon points=\"10.0,0.0 35.41261651458248,0.0 106.00085180870013,70.58823529411765 80.58823529411765,70.58823529411765\" style=\"fill:#ECB172A0;stroke-width:0\"/>\n",
       "\n",
       "  <!-- Horizontal lines -->\n",
       "  <line x1=\"80\" y1=\"70\" x2=\"106\" y2=\"70\" style=\"stroke-width:2\" />\n",
       "  <line x1=\"80\" y1=\"190\" x2=\"106\" y2=\"190\" style=\"stroke-width:2\" />\n",
       "\n",
       "  <!-- Vertical lines -->\n",
       "  <line x1=\"80\" y1=\"70\" x2=\"80\" y2=\"190\" style=\"stroke-width:2\" />\n",
       "  <line x1=\"106\" y1=\"70\" x2=\"106\" y2=\"190\" style=\"stroke-width:2\" />\n",
       "\n",
       "  <!-- Colored Rectangle -->\n",
       "  <polygon points=\"80.58823529411765,70.58823529411765 106.00085180870013,70.58823529411765 106.00085180870013,190.58823529411765 80.58823529411765,190.58823529411765\" style=\"fill:#ECB172A0;stroke-width:0\"/>\n",
       "\n",
       "  <!-- Text -->\n",
       "  <text x=\"93.294544\" y=\"210.588235\" font-size=\"1.0rem\" font-weight=\"100\" text-anchor=\"middle\" >2</text>\n",
       "  <text x=\"126.000852\" y=\"130.588235\" font-size=\"1.0rem\" font-weight=\"100\" text-anchor=\"middle\" transform=\"rotate(-90,126.000852,130.588235)\">256</text>\n",
       "  <text x=\"35.294118\" y=\"175.294118\" font-size=\"1.0rem\" font-weight=\"100\" text-anchor=\"middle\" transform=\"rotate(45,35.294118,175.294118)\">256</text>\n",
       "</svg>\n",
       "</td>\n",
       "</tr>\n",
       "</table>"
      ],
      "text/plain": [
       "dask.array<from-value, shape=(256, 256, 2), dtype=float64, chunksize=(256, 256, 2), chunktype=numpy.ndarray>"
      ]
     },
     "execution_count": 10,
     "metadata": {},
     "output_type": "execute_result"
    }
   ],
   "source": [
    "delayed_result[0]['intensity'].data"
   ]
  },
  {
   "cell_type": "code",
   "execution_count": 12,
   "metadata": {},
   "outputs": [
    {
     "data": {
      "text/html": [
       "<table>\n",
       "<tr>\n",
       "<td>\n",
       "<table>\n",
       "  <thead>\n",
       "    <tr><td> </td><th> Array </th><th> Chunk </th></tr>\n",
       "  </thead>\n",
       "  <tbody>\n",
       "    <tr><th> Bytes </th><td> 1.05 MB </td> <td> 262.14 kB </td></tr>\n",
       "    <tr><th> Shape </th><td> (65536, 2) </td> <td> (16384, 2) </td></tr>\n",
       "    <tr><th> Count </th><td> 24 Tasks </td><td> 4 Chunks </td></tr>\n",
       "    <tr><th> Type </th><td> float64 </td><td> numpy.ndarray </td></tr>\n",
       "  </tbody>\n",
       "</table>\n",
       "</td>\n",
       "<td>\n",
       "<svg width=\"75\" height=\"170\" style=\"stroke:rgb(0,0,0);stroke-width:1\" >\n",
       "\n",
       "  <!-- Horizontal lines -->\n",
       "  <line x1=\"0\" y1=\"0\" x2=\"25\" y2=\"0\" style=\"stroke-width:2\" />\n",
       "  <line x1=\"0\" y1=\"30\" x2=\"25\" y2=\"30\" />\n",
       "  <line x1=\"0\" y1=\"60\" x2=\"25\" y2=\"60\" />\n",
       "  <line x1=\"0\" y1=\"90\" x2=\"25\" y2=\"90\" />\n",
       "  <line x1=\"0\" y1=\"120\" x2=\"25\" y2=\"120\" style=\"stroke-width:2\" />\n",
       "\n",
       "  <!-- Vertical lines -->\n",
       "  <line x1=\"0\" y1=\"0\" x2=\"0\" y2=\"120\" style=\"stroke-width:2\" />\n",
       "  <line x1=\"25\" y1=\"0\" x2=\"25\" y2=\"120\" style=\"stroke-width:2\" />\n",
       "\n",
       "  <!-- Colored Rectangle -->\n",
       "  <polygon points=\"0.0,0.0 25.412616514582485,0.0 25.412616514582485,120.0 0.0,120.0\" style=\"fill:#ECB172A0;stroke-width:0\"/>\n",
       "\n",
       "  <!-- Text -->\n",
       "  <text x=\"12.706308\" y=\"140.000000\" font-size=\"1.0rem\" font-weight=\"100\" text-anchor=\"middle\" >2</text>\n",
       "  <text x=\"45.412617\" y=\"60.000000\" font-size=\"1.0rem\" font-weight=\"100\" text-anchor=\"middle\" transform=\"rotate(-90,45.412617,60.000000)\">65536</text>\n",
       "</svg>\n",
       "</td>\n",
       "</tr>\n",
       "</table>"
      ],
      "text/plain": [
       "dask.array<concatenate, shape=(65536, 2), dtype=float64, chunksize=(16384, 2), chunktype=numpy.ndarray>"
      ]
     },
     "execution_count": 12,
     "metadata": {},
     "output_type": "execute_result"
    }
   ],
   "source": [
    "delayed_result[0]['intensity'].raw_data"
   ]
  },
  {
   "cell_type": "code",
   "execution_count": 11,
   "metadata": {},
   "outputs": [
    {
     "data": {
      "text/html": [
       "<table>\n",
       "<tr>\n",
       "<td>\n",
       "<table>\n",
       "  <thead>\n",
       "    <tr><td> </td><th> Array </th><th> Chunk </th></tr>\n",
       "  </thead>\n",
       "  <tbody>\n",
       "    <tr><th> Bytes </th><td> 65.54 kB </td> <td> 65.54 kB </td></tr>\n",
       "    <tr><th> Shape </th><td> (128, 128) </td> <td> (128, 128) </td></tr>\n",
       "    <tr><th> Count </th><td> 16 Tasks </td><td> 1 Chunks </td></tr>\n",
       "    <tr><th> Type </th><td> float32 </td><td> numpy.ndarray </td></tr>\n",
       "  </tbody>\n",
       "</table>\n",
       "</td>\n",
       "<td>\n",
       "<svg width=\"170\" height=\"170\" style=\"stroke:rgb(0,0,0);stroke-width:1\" >\n",
       "\n",
       "  <!-- Horizontal lines -->\n",
       "  <line x1=\"0\" y1=\"0\" x2=\"120\" y2=\"0\" style=\"stroke-width:2\" />\n",
       "  <line x1=\"0\" y1=\"120\" x2=\"120\" y2=\"120\" style=\"stroke-width:2\" />\n",
       "\n",
       "  <!-- Vertical lines -->\n",
       "  <line x1=\"0\" y1=\"0\" x2=\"0\" y2=\"120\" style=\"stroke-width:2\" />\n",
       "  <line x1=\"120\" y1=\"0\" x2=\"120\" y2=\"120\" style=\"stroke-width:2\" />\n",
       "\n",
       "  <!-- Colored Rectangle -->\n",
       "  <polygon points=\"0.0,0.0 120.0,0.0 120.0,120.0 0.0,120.0\" style=\"fill:#ECB172A0;stroke-width:0\"/>\n",
       "\n",
       "  <!-- Text -->\n",
       "  <text x=\"60.000000\" y=\"140.000000\" font-size=\"1.0rem\" font-weight=\"100\" text-anchor=\"middle\" >128</text>\n",
       "  <text x=\"140.000000\" y=\"60.000000\" font-size=\"1.0rem\" font-weight=\"100\" text-anchor=\"middle\" transform=\"rotate(-90,140.000000,60.000000)\">128</text>\n",
       "</svg>\n",
       "</td>\n",
       "</tr>\n",
       "</table>"
      ],
      "text/plain": [
       "dask.array<from-value, shape=(128, 128), dtype=float32, chunksize=(128, 128), chunktype=numpy.ndarray>"
      ]
     },
     "execution_count": 11,
     "metadata": {},
     "output_type": "execute_result"
    }
   ],
   "source": [
    "delayed_result[1]['intensity'].data"
   ]
  },
  {
   "cell_type": "code",
   "execution_count": 15,
   "metadata": {},
   "outputs": [
    {
     "name": "stdout",
     "output_type": "stream",
     "text": [
      "Wall time: 3.14 s\n"
     ]
    },
    {
     "data": {
      "text/plain": [
       "[array([[[           nan,            nan],\n",
       "         [           nan,            nan],\n",
       "         [2.92068387e+07, 6.49072412e+03],\n",
       "         ...,\n",
       "         [           nan,            nan],\n",
       "         [2.83885469e+07, 6.46167285e+03],\n",
       "         [           nan,            nan]],\n",
       " \n",
       "        [[2.86121717e+07, 1.14116309e+04],\n",
       "         [2.89554789e+07, 1.35690986e+04],\n",
       "         [           nan,            nan],\n",
       "         ...,\n",
       "         [           nan,            nan],\n",
       "         [           nan,            nan],\n",
       "         [2.83712761e+07, 4.68074365e+03]],\n",
       " \n",
       "        [[           nan,            nan],\n",
       "         [2.84225564e+07, 1.05717480e+04],\n",
       "         [2.93321367e+07, 7.03878223e+03],\n",
       "         ...,\n",
       "         [2.87344133e+07, 1.21677715e+04],\n",
       "         [           nan,            nan],\n",
       "         [           nan,            nan]],\n",
       " \n",
       "        ...,\n",
       " \n",
       "        [[2.61672790e+07, 7.09153076e+03],\n",
       "         [           nan,            nan],\n",
       "         [           nan,            nan],\n",
       "         ...,\n",
       "         [2.71181134e+07, 5.46790283e+03],\n",
       "         [           nan,            nan],\n",
       "         [2.72663923e+07, 6.13710596e+03]],\n",
       " \n",
       "        [[           nan,            nan],\n",
       "         [           nan,            nan],\n",
       "         [           nan,            nan],\n",
       "         ...,\n",
       "         [           nan,            nan],\n",
       "         [2.69665130e+07, 6.30663135e+03],\n",
       "         [2.69328029e+07, 6.18553857e+03]],\n",
       " \n",
       "        [[           nan,            nan],\n",
       "         [           nan,            nan],\n",
       "         [           nan,            nan],\n",
       "         ...,\n",
       "         [           nan,            nan],\n",
       "         [           nan,            nan],\n",
       "         [           nan,            nan]]]),\n",
       " array([[5587717. , 4253869. , 4086136.5, ..., 4580864.5, 5087702. ,\n",
       "         4034031.5],\n",
       "        [5263353.5, 3897637. , 3639702.5, ..., 4419765. , 4942979. ,\n",
       "         4071054.2],\n",
       "        [5259847. , 3820197.5, 3579817. , ..., 4575438.5, 5140197.5,\n",
       "         4066869.5],\n",
       "        ...,\n",
       "        [6209125. , 4402949.5, 4016021.5, ..., 4639568. , 4743799. ,\n",
       "         6429743. ],\n",
       "        [7620590. , 5796312.5, 5362308. , ..., 6332427. , 6433407.5,\n",
       "         7822931.5],\n",
       "        [7610902. , 5792325. , 5350596.5, ..., 6292965. , 6450552. ,\n",
       "         7875142.5]], dtype=float32)]"
      ]
     },
     "execution_count": 15,
     "metadata": {},
     "output_type": "execute_result"
    }
   ],
   "source": [
    "%%time\n",
    "delayed()([delayed_result[0]['intensity'].data, delayed_result[1]['intensity'].data]).compute()"
   ]
  },
  {
   "cell_type": "code",
   "execution_count": 17,
   "metadata": {},
   "outputs": [
    {
     "data": {
      "text/plain": [
       "True"
      ]
     },
     "execution_count": 17,
     "metadata": {},
     "output_type": "execute_result"
    }
   ],
   "source": [
    "np.allclose(delayed_result[0]['intensity'].data.compute(), direct_result[0]['intensity'].data, equal_nan=True)"
   ]
  },
  {
   "cell_type": "code",
   "execution_count": 18,
   "metadata": {},
   "outputs": [
    {
     "data": {
      "text/plain": [
       "True"
      ]
     },
     "execution_count": 18,
     "metadata": {},
     "output_type": "execute_result"
    }
   ],
   "source": [
    "np.allclose(delayed_result[1]['intensity'].data.compute(), direct_result[1]['intensity'].data)"
   ]
  },
  {
   "cell_type": "code",
   "execution_count": null,
   "metadata": {},
   "outputs": [],
   "source": []
  }
 ],
 "metadata": {
  "kernelspec": {
   "display_name": "Python 3",
   "language": "python",
   "name": "python3"
  },
  "language_info": {
   "codemirror_mode": {
    "name": "ipython",
    "version": 3
   },
   "file_extension": ".py",
   "mimetype": "text/x-python",
   "name": "python",
   "nbconvert_exporter": "python",
   "pygments_lexer": "ipython3",
   "version": "3.8.5"
  }
 },
 "nbformat": 4,
 "nbformat_minor": 2
}
