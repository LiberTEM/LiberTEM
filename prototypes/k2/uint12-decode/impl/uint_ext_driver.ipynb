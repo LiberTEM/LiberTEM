{
 "cells": [
  {
   "cell_type": "code",
   "execution_count": 1,
   "metadata": {},
   "outputs": [
    {
     "name": "stdout",
     "output_type": "stream",
     "text": [
      "out= [4059  636 2332 ...  139 2856 1980]\n",
      "out2= [4059  636 2332 ...  139 2856 1980]\n",
      "True\n"
     ]
    }
   ],
   "source": [
    "import numpy as np\n",
    "import time\n",
    "import u12mod\n",
    "import mmap\n",
    "import numba\n",
    "\n",
    "@numba.jit\n",
    "def decode_uint12_ref(inp, out):\n",
    "    \"\"\"\n",
    "    decode bytes from bytestring ``inp`` as 12 bit into ``out``\n",
    "    \"\"\"\n",
    "    o = 0\n",
    "    for i in range(0, len(inp), 3):\n",
    "        s = inp[i:i + 3]\n",
    "        a = s[0] | (s[1] & 0x0F) << 8\n",
    "        b = (s[1] & 0xF0) >> 4 | s[2] << 4\n",
    "        out[o] = a\n",
    "        out[o + 1] = b\n",
    "        o += 2\n",
    "    return out\n",
    "\n",
    "input_data = np.random.bytes(0x5758)\n",
    "\n",
    "out = np.zeros(930*16, dtype=\"uint16\")\n",
    "out2 = np.zeros(930*16, dtype=\"uint16\")\n",
    "\n",
    "decode_uint12_ref(input_data[40:], out)\n",
    "\n",
    "print(\"out=\", out)\n",
    "\n",
    "u12mod.decode_uint12_cpp_uint16_naive(inp=input_data[40:], out=out2)\n",
    "\n",
    "print(\"out2=\", out2)\n",
    "\n",
    "for idx, (i, j) in enumerate(zip(out, out2)):\n",
    "    if i != j:\n",
    "        print(idx, i, j)\n",
    "print(np.allclose(out, out2))"
   ]
  },
  {
   "cell_type": "code",
   "execution_count": 2,
   "metadata": {},
   "outputs": [
    {
     "name": "stdout",
     "output_type": "stream",
     "text": [
      "25.2 µs ± 594 ns per loop (mean ± std. dev. of 7 runs, 10000 loops each)\n"
     ]
    }
   ],
   "source": [
    "%timeit decode_uint12_ref(input_data[40:], out)"
   ]
  },
  {
   "cell_type": "code",
   "execution_count": 3,
   "metadata": {},
   "outputs": [
    {
     "name": "stdout",
     "output_type": "stream",
     "text": [
      "8.71 µs ± 1.46 µs per loop (mean ± std. dev. of 7 runs, 100000 loops each)\n"
     ]
    }
   ],
   "source": [
    "%timeit u12mod.decode_uint12_cpp_uint16_naive(inp=input_data[40:], out=out2)"
   ]
  },
  {
   "cell_type": "code",
   "execution_count": 4,
   "metadata": {},
   "outputs": [
    {
     "name": "stdout",
     "output_type": "stream",
     "text": [
      "13.4 µs ± 814 ns per loop (mean ± std. dev. of 7 runs, 100000 loops each)\n"
     ]
    }
   ],
   "source": [
    "%timeit u12mod.decode_uint12_cpp_uint16(inp=input_data[40:], out=out2)"
   ]
  },
  {
   "cell_type": "code",
   "execution_count": 5,
   "metadata": {},
   "outputs": [
    {
     "name": "stdout",
     "output_type": "stream",
     "text": [
      "114 ms ± 7.4 ms per loop (mean ± std. dev. of 7 runs, 10 loops each)\n"
     ]
    }
   ],
   "source": [
    "%timeit u12mod.decode_uint12(inp=input_data[40:], out=out2)"
   ]
  },
  {
   "cell_type": "code",
   "execution_count": null,
   "metadata": {},
   "outputs": [],
   "source": []
  }
 ],
 "metadata": {
  "kernelspec": {
   "display_name": "Python 3",
   "language": "python",
   "name": "python3"
  },
  "language_info": {
   "codemirror_mode": {
    "name": "ipython",
    "version": 3
   },
   "file_extension": ".py",
   "mimetype": "text/x-python",
   "name": "python",
   "nbconvert_exporter": "python",
   "pygments_lexer": "ipython3",
   "version": "3.6.6+"
  }
 },
 "nbformat": 4,
 "nbformat_minor": 2
}
