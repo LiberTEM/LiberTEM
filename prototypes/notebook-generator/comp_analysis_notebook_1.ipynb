{
 "cells": [
  {
   "cell_type": "code",
   "execution_count": null,
   "metadata": {},
   "outputs": [],
   "source": [
    "import matplotlib.pyplot as plt\n",
    "import libertem.api as lt\n",
    "import numpy as np\n",
    "from libertem.analysis.getroi import get_roi\n",
    "import numpy as np"
   ]
  },
  {
   "cell_type": "code",
   "execution_count": null,
   "metadata": {},
   "outputs": [],
   "source": [
    "%matplotlib nbagg"
   ]
  },
  {
   "cell_type": "markdown",
   "metadata": {},
   "source": [
    "# Connection\n",
    "**more about local conn**"
   ]
  },
  {
   "cell_type": "code",
   "execution_count": null,
   "metadata": {},
   "outputs": [],
   "source": [
    "ctx = lt.Context()"
   ]
  },
  {
   "cell_type": "code",
   "execution_count": null,
   "metadata": {},
   "outputs": [],
   "source": [
    "params = {'path': '/home/abi/Documents/LiberTEM_data/calibrationData_circularProbe.h5', 'ds_path': '4DSTEM_experiment/data/datacubes/polyAu_4DSTEM/data'}\n",
    "ds = ctx.load(\"HDF5\", **params)"
   ]
  },
  {
   "cell_type": "markdown",
   "metadata": {},
   "source": [
    "# SUM Analysis\n",
    "***about sum analysis ***"
   ]
  },
  {
   "cell_type": "code",
   "execution_count": null,
   "metadata": {},
   "outputs": [],
   "source": [
    "sum_analysis = ctx.create_sum_analysis(dataset=ds)\n",
    "roi_params = {'shape': 'disk', 'cx': 42, 'cy': 50, 'r': 10.5}\n",
    "roi = get_roi(roi_params, ds.shape.nav)\n",
    "udf = sum_analysis.get_udf()\n",
    "sum_result = ctx.run_udf(ds, udf, roi, progress=True)"
   ]
  },
  {
   "cell_type": "code",
   "execution_count": null,
   "metadata": {},
   "outputs": [],
   "source": [
    "plt.figure()\n",
    "plt.imshow(sum_result['intensity'].raw_data)"
   ]
  },
  {
   "cell_type": "markdown",
   "metadata": {},
   "source": [
    "# Point Analysis\n",
    "***about point analysis ***"
   ]
  },
  {
   "cell_type": "code",
   "execution_count": null,
   "metadata": {},
   "outputs": [],
   "source": [
    "point_analysis = ctx.create_point_analysis(dataset=ds, x=125, y=125)\n",
    "roi = point_analysis.get_roi()\n",
    "udf = point_analysis.get_udf()\n",
    "point_result = ctx.run_udf(ds, udf, roi, progress=True)"
   ]
  },
  {
   "cell_type": "code",
   "execution_count": null,
   "metadata": {},
   "outputs": [],
   "source": [
    "plt.figure()\n",
    "plt.imshow(np.squeeze(point_result['intensity'].data))"
   ]
  }
 ],
 "metadata": {},
 "nbformat": 4,
 "nbformat_minor": 4
}
