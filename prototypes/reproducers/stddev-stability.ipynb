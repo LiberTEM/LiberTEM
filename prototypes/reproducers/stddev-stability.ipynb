{
 "cells": [
  {
   "cell_type": "code",
   "execution_count": 8,
   "metadata": {},
   "outputs": [],
   "source": [
    "import numpy as np\n",
    "\n",
    "from libertem import api\n",
    "from libertem.udf.stddev import StdDevUDF\n",
    "from libertem.udf.sum import SumUDF"
   ]
  },
  {
   "cell_type": "code",
   "execution_count": 2,
   "metadata": {},
   "outputs": [],
   "source": [
    "ctx = api.Context()"
   ]
  },
  {
   "cell_type": "code",
   "execution_count": 3,
   "metadata": {},
   "outputs": [],
   "source": [
    "ds = ctx.load(\"auto\", path='/cachedata/users/clausen/libertem-test-data/Capture52/Capture52_.gtg')"
   ]
  },
  {
   "cell_type": "code",
   "execution_count": 5,
   "metadata": {},
   "outputs": [],
   "source": [
    "roi = np.ones(ds.shape.nav, dtype=bool)"
   ]
  },
  {
   "cell_type": "code",
   "execution_count": 4,
   "metadata": {},
   "outputs": [],
   "source": [
    "stddev_1 = ctx.run_udf(udf=StdDevUDF(), dataset=ds)"
   ]
  },
  {
   "cell_type": "code",
   "execution_count": 6,
   "metadata": {},
   "outputs": [],
   "source": [
    "stddev_2 = ctx.run_udf(udf=StdDevUDF(), dataset=ds, roi=roi)"
   ]
  },
  {
   "cell_type": "code",
   "execution_count": 7,
   "metadata": {},
   "outputs": [
    {
     "data": {
      "text/plain": [
       "array([[-2898.28677107, -3094.03116246, -2845.51818182, ...,\n",
       "           73.33842628,    73.33842628,   165.01145913],\n",
       "       [-5599.76232175, -5465.11568946, -5457.41959511, ...,\n",
       "          293.35370512,   293.35370512,   293.35370512],\n",
       "       [-5526.12851732, -6714.48932709, -5489.48139165, ...,\n",
       "          293.35370512,   293.35370512,   293.35370512],\n",
       "       ...,\n",
       "       [-6564.77091291, -8518.55307487, -6456.46292335, ...,\n",
       "          293.35370512,   293.35370512,   293.35370512],\n",
       "       [-6176.62653107, -6114.268637  , -5895.25560224, ...,\n",
       "          293.35370512,   293.35370512,   293.35370512],\n",
       "       [-5354.94717341, -6522.53803476, -5615.84924242, ...,\n",
       "          293.35370512,   293.35370512,   165.01145913]])"
      ]
     },
     "execution_count": 7,
     "metadata": {},
     "output_type": "execute_result"
    }
   ],
   "source": [
    "stddev_1['varsum'].data - stddev_2['varsum'].data"
   ]
  },
  {
   "cell_type": "code",
   "execution_count": 14,
   "metadata": {},
   "outputs": [
    {
     "data": {
      "text/plain": [
       "array([[ -6276.,  -6082.,  -6137., ...,  -7200.,  -7200., -10800.],\n",
       "       [-14272., -13145., -12965., ..., -14400., -14400., -14400.],\n",
       "       [-13600., -13139., -12976., ..., -14400., -14400., -14400.],\n",
       "       ...,\n",
       "       [-14121., -12043., -13768., ..., -14400., -14400., -14400.],\n",
       "       [-13456., -13456., -13915., ..., -14400., -14400., -14400.],\n",
       "       [-12909., -12558., -13804., ..., -14400., -14400., -10800.]])"
      ]
     },
     "execution_count": 14,
     "metadata": {},
     "output_type": "execute_result"
    }
   ],
   "source": [
    "stddev_1['sum'].data - stddev_2['sum'].data"
   ]
  },
  {
   "cell_type": "code",
   "execution_count": 15,
   "metadata": {},
   "outputs": [
    {
     "data": {
      "text/plain": [
       "array([0])"
      ]
     },
     "execution_count": 15,
     "metadata": {},
     "output_type": "execute_result"
    }
   ],
   "source": [
    "stddev_1['num_frames'].data - stddev_2['num_frames'].data"
   ]
  },
  {
   "cell_type": "code",
   "execution_count": 9,
   "metadata": {},
   "outputs": [],
   "source": [
    "sum_1 = ctx.run_udf(udf=SumUDF(), dataset=ds)"
   ]
  },
  {
   "cell_type": "code",
   "execution_count": 11,
   "metadata": {},
   "outputs": [],
   "source": [
    "sum_2 = ctx.run_udf(udf=SumUDF(), dataset=ds, roi=roi)"
   ]
  },
  {
   "cell_type": "code",
   "execution_count": 13,
   "metadata": {},
   "outputs": [
    {
     "data": {
      "text/plain": [
       "array([[0., 0., 0., ..., 0., 0., 0.],\n",
       "       [0., 0., 0., ..., 0., 0., 0.],\n",
       "       [0., 0., 0., ..., 0., 0., 0.],\n",
       "       ...,\n",
       "       [0., 0., 0., ..., 0., 0., 0.],\n",
       "       [0., 0., 0., ..., 0., 0., 0.],\n",
       "       [0., 0., 0., ..., 0., 0., 0.]], dtype=float32)"
      ]
     },
     "execution_count": 13,
     "metadata": {},
     "output_type": "execute_result"
    }
   ],
   "source": [
    "sum_1['intensity'].data - sum_2['intensity'].data"
   ]
  },
  {
   "cell_type": "code",
   "execution_count": null,
   "metadata": {},
   "outputs": [],
   "source": []
  }
 ],
 "metadata": {
  "kernelspec": {
   "display_name": "Python (libertem-uellue)",
   "language": "python",
   "name": "libertem-uellue"
  },
  "language_info": {
   "codemirror_mode": {
    "name": "ipython",
    "version": 3
   },
   "file_extension": ".py",
   "mimetype": "text/x-python",
   "name": "python",
   "nbconvert_exporter": "python",
   "pygments_lexer": "ipython3",
   "version": "3.6.6"
  }
 },
 "nbformat": 4,
 "nbformat_minor": 2
}
