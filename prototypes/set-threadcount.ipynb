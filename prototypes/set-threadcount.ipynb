{
 "cells": [
  {
   "cell_type": "code",
   "execution_count": 1,
   "metadata": {},
   "outputs": [],
   "source": [
    "%matplotlib nbagg\n",
    "%load_ext line_profiler"
   ]
  },
  {
   "cell_type": "code",
   "execution_count": 2,
   "metadata": {},
   "outputs": [],
   "source": [
    "import numpy as np\n",
    "import distributed as dd\n",
    "\n",
    "from libertem import api\n",
    "\n",
    "from libertem.udf.stddev import StdDevUDF, process_tile\n",
    "from libertem.executor.inline import InlineJobExecutor\n",
    "from libertem.executor.dask import DaskJobExecutor"
   ]
  },
  {
   "cell_type": "code",
   "execution_count": 3,
   "metadata": {},
   "outputs": [],
   "source": [
    "# client = dd.Client('localhost:31314', set_as_default=False)\n",
    "# ctx = api.Context(executor=InlineJobExecutor())\n",
    "ctx = api.Context()\n",
    "# ctx = api.Context(executor=DaskJobExecutor(client))"
   ]
  },
  {
   "cell_type": "code",
   "execution_count": 4,
   "metadata": {},
   "outputs": [],
   "source": [
    "ds = ctx.load(\n",
    "    'auto',\n",
    "#     path='/Users/weber/cachedata/data/thibaud/2018-10-26_SiGe-transistor/Capture93_.gtg',\n",
    "     path='/Users/weber/cachedata/data/Glasgow/10 um 110.blo',\n",
    ")"
   ]
  },
  {
   "cell_type": "code",
   "execution_count": 5,
   "metadata": {},
   "outputs": [],
   "source": [
    "analysis = ctx.create_ring_analysis(dataset=ds)"
   ]
  },
  {
   "cell_type": "code",
   "execution_count": 6,
   "metadata": {},
   "outputs": [
    {
     "name": "stdout",
     "output_type": "stream",
     "text": [
      "195 ms ± 6.69 ms per loop (mean ± std. dev. of 7 runs, 10 loops each)\n"
     ]
    }
   ],
   "source": [
    "ctx.run(analysis)\n",
    "%timeit ctx.run(analysis)"
   ]
  },
  {
   "cell_type": "code",
   "execution_count": 7,
   "metadata": {},
   "outputs": [],
   "source": [
    "udf = StdDevUDF()"
   ]
  },
  {
   "cell_type": "code",
   "execution_count": 8,
   "metadata": {},
   "outputs": [
    {
     "name": "stdout",
     "output_type": "stream",
     "text": [
      "141 ms ± 11.7 ms per loop (mean ± std. dev. of 7 runs, 10 loops each)\n"
     ]
    }
   ],
   "source": [
    "ctx.run_udf(udf=udf, dataset=ds)\n",
    "%timeit ctx.run_udf(udf=udf, dataset=ds)"
   ]
  }
 ],
 "metadata": {
  "kernelspec": {
   "display_name": "Python (libertem-uellue)",
   "language": "python",
   "name": "libertem-uellue"
  },
  "language_info": {
   "codemirror_mode": {
    "name": "ipython",
    "version": 3
   },
   "file_extension": ".py",
   "mimetype": "text/x-python",
   "name": "python",
   "nbconvert_exporter": "python",
   "pygments_lexer": "ipython3",
   "version": "3.6.6"
  }
 },
 "nbformat": 4,
 "nbformat_minor": 2
}
