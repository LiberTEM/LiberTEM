{
 "cells": [
  {
   "cell_type": "code",
   "execution_count": 1,
   "id": "comic-destination",
   "metadata": {},
   "outputs": [],
   "source": [
    "%load_ext autoreload"
   ]
  },
  {
   "cell_type": "code",
   "execution_count": 2,
   "id": "marked-brake",
   "metadata": {},
   "outputs": [
    {
     "data": {
      "text/plain": [
       "'3.8.5 (default, Sep  3 2020, 21:29:08) [MSC v.1916 64 bit (AMD64)]'"
      ]
     },
     "execution_count": 2,
     "metadata": {},
     "output_type": "execute_result"
    }
   ],
   "source": [
    "import sys\n",
    "sys.version"
   ]
  },
  {
   "cell_type": "code",
   "execution_count": 3,
   "id": "respected-private",
   "metadata": {},
   "outputs": [],
   "source": [
    "import functools\n",
    "import time\n",
    "import logging\n",
    "from multiprocessing import shared_memory as shm\n",
    "import multiprocessing\n",
    "import json\n",
    "from io import BytesIO\n",
    "\n",
    "log = logging.getLogger(__name__)\n",
    "\n",
    "import sparse\n",
    "import scipy.sparse\n",
    "import numpy as np\n",
    "import cloudpickle\n",
    "\n",
    "from libertem.masks import to_dense, to_sparse, is_sparse\n",
    "from libertem.common import Slice"
   ]
  },
  {
   "cell_type": "code",
   "execution_count": 4,
   "id": "registered-durham",
   "metadata": {},
   "outputs": [],
   "source": [
    "import shmem"
   ]
  },
  {
   "cell_type": "code",
   "execution_count": 5,
   "id": "favorite-summary",
   "metadata": {},
   "outputs": [],
   "source": [
    "ref_queue = multiprocessing.JoinableQueue()"
   ]
  },
  {
   "cell_type": "code",
   "execution_count": 6,
   "id": "guided-cooking",
   "metadata": {},
   "outputs": [
    {
     "name": "stdout",
     "output_type": "stream",
     "text": [
      "starting <Process name='Process-1' parent=17092 initial>\n",
      "<Process name='Process-1' pid=22408 parent=17092 started>\n"
     ]
    }
   ],
   "source": [
    "%autoreload\n",
    "ref_p = multiprocessing.Process(target=shmem.keep_a_reference, args=(ref_queue, ))\n",
    "print(f\"starting {ref_p}\")\n",
    "ref_p.start()\n",
    "print(ref_p)"
   ]
  },
  {
   "cell_type": "code",
   "execution_count": 7,
   "id": "certified-trial",
   "metadata": {},
   "outputs": [],
   "source": [
    "ref_queue.put('hurz')"
   ]
  },
  {
   "cell_type": "code",
   "execution_count": 8,
   "id": "brazilian-creator",
   "metadata": {},
   "outputs": [
    {
     "data": {
      "text/plain": [
       "<Process name='Process-1' pid=22408 parent=17092 started>"
      ]
     },
     "execution_count": 8,
     "metadata": {},
     "output_type": "execute_result"
    }
   ],
   "source": [
    "ref_p"
   ]
  },
  {
   "cell_type": "code",
   "execution_count": 14,
   "id": "deluxe-thomas",
   "metadata": {},
   "outputs": [],
   "source": [
    "f = functools.partial(sparse.eye, 13)"
   ]
  },
  {
   "cell_type": "code",
   "execution_count": 10,
   "id": "promotional-acrylic",
   "metadata": {},
   "outputs": [
    {
     "name": "stdout",
     "output_type": "stream",
     "text": [
      "stored 0_ffb6a9f3e5c80e8ed2bad9976551b6c54caed58515e27ac2feb2002bf30a59331e93c90e0aa706820490a6d0e3ba28461e81a009776a5fc809043ef310c2859c\n"
     ]
    }
   ],
   "source": [
    "%autoreload\n",
    "m = shmem.load_or_create(f, ref_queue)"
   ]
  },
  {
   "cell_type": "code",
   "execution_count": 11,
   "id": "intense-tobago",
   "metadata": {},
   "outputs": [
    {
     "name": "stdout",
     "output_type": "stream",
     "text": [
      "[WinError 183] File exists: '0_ffb6a9f3e5c80e8ed2bad9976551b6c54caed58515e27ac2feb2002bf30a59331e93c90e0aa706820490a6d0e3ba28461e81a009776a5fc809043ef310c2859c'\n",
      "loading 0_ffb6a9f3e5c80e8ed2bad9976551b6c54caed58515e27ac2feb2002bf30a59331e93c90e0aa706820490a6d0e3ba28461e81a009776a5fc809043ef310c2859c...\n"
     ]
    },
    {
     "data": {
      "text/plain": [
       "(<COO: shape=(12, 12), dtype=float64, nnz=12, fill_value=0.0>,\n",
       " [SharedMemory('0_ffb6a9f3e5c80e8ed2bad9976551b6c54caed58515e27ac2feb2002bf30a59331e93c90e0aa706820490a6d0e3ba28461e81a009776a5fc809043ef310c2859c_meta', size=4096),\n",
       "  SharedMemory('0_ffb6a9f3e5c80e8ed2bad9976551b6c54caed58515e27ac2feb2002bf30a59331e93c90e0aa706820490a6d0e3ba28461e81a009776a5fc809043ef310c2859c_coords', size=4096),\n",
       "  SharedMemory('0_ffb6a9f3e5c80e8ed2bad9976551b6c54caed58515e27ac2feb2002bf30a59331e93c90e0aa706820490a6d0e3ba28461e81a009776a5fc809043ef310c2859c_data', size=4096),\n",
       "  SharedMemory('0_ffb6a9f3e5c80e8ed2bad9976551b6c54caed58515e27ac2feb2002bf30a59331e93c90e0aa706820490a6d0e3ba28461e81a009776a5fc809043ef310c2859c', size=4096)])"
      ]
     },
     "execution_count": 11,
     "metadata": {},
     "output_type": "execute_result"
    }
   ],
   "source": [
    "%autoreload\n",
    "shmem.load_or_create(f, ref_queue)"
   ]
  },
  {
   "cell_type": "code",
   "execution_count": 12,
   "id": "vital-constitution",
   "metadata": {},
   "outputs": [
    {
     "name": "stdout",
     "output_type": "stream",
     "text": [
      "[WinError 183] File exists: '0_ffb6a9f3e5c80e8ed2bad9976551b6c54caed58515e27ac2feb2002bf30a59331e93c90e0aa706820490a6d0e3ba28461e81a009776a5fc809043ef310c2859c'\n",
      "loading 0_ffb6a9f3e5c80e8ed2bad9976551b6c54caed58515e27ac2feb2002bf30a59331e93c90e0aa706820490a6d0e3ba28461e81a009776a5fc809043ef310c2859c...\n"
     ]
    },
    {
     "data": {
      "text/plain": [
       "(<COO: shape=(12, 12), dtype=float64, nnz=12, fill_value=0.0>,\n",
       " [SharedMemory('0_ffb6a9f3e5c80e8ed2bad9976551b6c54caed58515e27ac2feb2002bf30a59331e93c90e0aa706820490a6d0e3ba28461e81a009776a5fc809043ef310c2859c_meta', size=4096),\n",
       "  SharedMemory('0_ffb6a9f3e5c80e8ed2bad9976551b6c54caed58515e27ac2feb2002bf30a59331e93c90e0aa706820490a6d0e3ba28461e81a009776a5fc809043ef310c2859c_coords', size=4096),\n",
       "  SharedMemory('0_ffb6a9f3e5c80e8ed2bad9976551b6c54caed58515e27ac2feb2002bf30a59331e93c90e0aa706820490a6d0e3ba28461e81a009776a5fc809043ef310c2859c_data', size=4096),\n",
       "  SharedMemory('0_ffb6a9f3e5c80e8ed2bad9976551b6c54caed58515e27ac2feb2002bf30a59331e93c90e0aa706820490a6d0e3ba28461e81a009776a5fc809043ef310c2859c', size=4096)])"
      ]
     },
     "execution_count": 12,
     "metadata": {},
     "output_type": "execute_result"
    }
   ],
   "source": [
    "shmem.load_or_create(f, ref_queue)"
   ]
  },
  {
   "cell_type": "code",
   "execution_count": 15,
   "id": "loved-enclosure",
   "metadata": {},
   "outputs": [
    {
     "name": "stdout",
     "output_type": "stream",
     "text": [
      "starting <Process name='Process-7' parent=17092 initial>\n",
      "<Process name='Process-7' pid=20272 parent=17092 started>\n",
      "starting <Process name='Process-8' parent=17092 initial>\n",
      "<Process name='Process-8' pid=17652 parent=17092 started>\n",
      "starting <Process name='Process-9' parent=17092 initial>\n",
      "<Process name='Process-9' pid=6692 parent=17092 started>\n",
      "starting <Process name='Process-10' parent=17092 initial>\n",
      "<Process name='Process-10' pid=14920 parent=17092 started>\n",
      "starting <Process name='Process-11' parent=17092 initial>\n",
      "<Process name='Process-11' pid=9808 parent=17092 started>\n",
      "joining <Process name='Process-7' pid=20272 parent=17092 started>...\n",
      "Done <Process name='Process-7' pid=20272 parent=17092 stopped exitcode=0>.\n",
      "joining <Process name='Process-8' pid=17652 parent=17092 started>...\n",
      "Done <Process name='Process-8' pid=17652 parent=17092 stopped exitcode=0>.\n",
      "joining <Process name='Process-9' pid=6692 parent=17092 stopped exitcode=0>...\n",
      "Done <Process name='Process-9' pid=6692 parent=17092 stopped exitcode=0>.\n",
      "joining <Process name='Process-10' pid=14920 parent=17092 stopped exitcode=0>...\n",
      "Done <Process name='Process-10' pid=14920 parent=17092 stopped exitcode=0>.\n",
      "joining <Process name='Process-11' pid=9808 parent=17092 stopped exitcode=0>...\n",
      "Done <Process name='Process-11' pid=9808 parent=17092 stopped exitcode=0>.\n"
     ]
    }
   ],
   "source": [
    "if __name__ == '__main__':\n",
    "    processes = []\n",
    "    for i in range(5):\n",
    "        p = multiprocessing.Process(target=shmem.load_or_create, args=(f, ref_queue))\n",
    "        print(f\"starting {p}\")\n",
    "        p.start()\n",
    "        print(p)\n",
    "        processes.append(p)\n",
    "    for p in processes:\n",
    "        print(f\"joining {p}...\")\n",
    "        p.join()\n",
    "        print(f\"Done {p}.\")"
   ]
  },
  {
   "cell_type": "code",
   "execution_count": null,
   "id": "divided-stick",
   "metadata": {},
   "outputs": [],
   "source": []
  }
 ],
 "metadata": {
  "kernelspec": {
   "display_name": "Python 3",
   "language": "python",
   "name": "python3"
  },
  "language_info": {
   "codemirror_mode": {
    "name": "ipython",
    "version": 3
   },
   "file_extension": ".py",
   "mimetype": "text/x-python",
   "name": "python",
   "nbconvert_exporter": "python",
   "pygments_lexer": "ipython3",
   "version": "3.8.5"
  }
 },
 "nbformat": 4,
 "nbformat_minor": 5
}
