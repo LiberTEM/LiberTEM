{
 "cells": [
  {
   "cell_type": "code",
   "execution_count": null,
   "metadata": {},
   "outputs": [],
   "source": [
    "import numpy as np\n",
    "import scipy.sparse\n",
    "import numba"
   ]
  },
  {
   "cell_type": "code",
   "execution_count": null,
   "metadata": {},
   "outputs": [],
   "source": [
    "data = np.random.random((2*16384, 2*16384)).astype(np.float32)"
   ]
  },
  {
   "cell_type": "code",
   "execution_count": 18,
   "metadata": {},
   "outputs": [],
   "source": [
    "sparse_mask_left = scipy.sparse.csr_matrix(([1.]*1000, (range(1000), [0]*1000)), shape=(2*16384, 1), dtype=np.float32)"
   ]
  },
  {
   "cell_type": "code",
   "execution_count": null,
   "metadata": {},
   "outputs": [],
   "source": [
    "%timeit sparse_mask_left.__rmatmul__(data)"
   ]
  },
  {
   "cell_type": "code",
   "execution_count": null,
   "metadata": {},
   "outputs": [],
   "source": [
    "%timeit sparse_mask_left.__rmatmul__(data.T)"
   ]
  },
  {
   "cell_type": "code",
   "execution_count": null,
   "metadata": {},
   "outputs": [],
   "source": [
    "dense_mask_left = sparse_mask_left.toarray()"
   ]
  },
  {
   "cell_type": "code",
   "execution_count": null,
   "metadata": {},
   "outputs": [],
   "source": [
    "%timeit dense_mask_left.__rmatmul__(data)"
   ]
  },
  {
   "cell_type": "code",
   "execution_count": 20,
   "metadata": {},
   "outputs": [],
   "source": [
    "sparse_mask_right = scipy.sparse.csr_matrix(([1.]*1000, ([0]*1000, range(1000))), shape=(1, 2*16384), dtype=np.float32)"
   ]
  },
  {
   "cell_type": "code",
   "execution_count": 21,
   "metadata": {},
   "outputs": [
    {
     "name": "stdout",
     "output_type": "stream",
     "text": [
      "13.1 ms ± 46.4 µs per loop (mean ± std. dev. of 7 runs, 100 loops each)\n"
     ]
    }
   ],
   "source": [
    "%timeit sparse_mask_right.__matmul__(data)"
   ]
  },
  {
   "cell_type": "code",
   "execution_count": null,
   "metadata": {},
   "outputs": [],
   "source": [
    "%timeit sparse_mask_right.__matmul__(data.T)"
   ]
  },
  {
   "cell_type": "code",
   "execution_count": null,
   "metadata": {},
   "outputs": [],
   "source": [
    "dense_mask_right = sparse_mask_right.toarray()"
   ]
  },
  {
   "cell_type": "code",
   "execution_count": null,
   "metadata": {},
   "outputs": [],
   "source": [
    "%timeit dense_mask_right.__matmul__(data)"
   ]
  },
  {
   "cell_type": "code",
   "execution_count": null,
   "metadata": {},
   "outputs": [],
   "source": [
    "import sys, scipy, numpy; print(scipy.__version__, numpy.__version__, sys.version_info)"
   ]
  },
  {
   "cell_type": "code",
   "execution_count": 36,
   "metadata": {},
   "outputs": [],
   "source": [
    "test_data = np.array((\n",
    "    [2, 3, 5],\n",
    "    [7, 11, 13],\n",
    "    [1, 2, 3],\n",
    "    [4, 5, 6]\n",
    "))\n",
    "\n",
    "test_sparse = scipy.sparse.csc_matrix(np.array((\n",
    "    [17, 19],\n",
    "    [23, 29],\n",
    "    [31, 37]\n",
    ")))"
   ]
  },
  {
   "cell_type": "code",
   "execution_count": 48,
   "metadata": {},
   "outputs": [
    {
     "data": {
      "text/plain": [
       "array([[258, 310],\n",
       "       [775, 933],\n",
       "       [156, 188],\n",
       "       [369, 443]])"
      ]
     },
     "execution_count": 48,
     "metadata": {},
     "output_type": "execute_result"
    }
   ],
   "source": [
    "test_data @ test_sparse"
   ]
  },
  {
   "cell_type": "code",
   "execution_count": 8,
   "metadata": {},
   "outputs": [
    {
     "data": {
      "text/plain": [
       "array([0, 1, 2, 0, 1, 2], dtype=int32)"
      ]
     },
     "execution_count": 8,
     "metadata": {},
     "output_type": "execute_result"
    }
   ],
   "source": [
    "test_sparse.indices"
   ]
  },
  {
   "cell_type": "code",
   "execution_count": 9,
   "metadata": {},
   "outputs": [
    {
     "data": {
      "text/plain": [
       "array([0, 3, 6], dtype=int32)"
      ]
     },
     "execution_count": 9,
     "metadata": {},
     "output_type": "execute_result"
    }
   ],
   "source": [
    "test_sparse.indptr"
   ]
  },
  {
   "cell_type": "code",
   "execution_count": 10,
   "metadata": {},
   "outputs": [
    {
     "data": {
      "text/plain": [
       "array([17, 23, 31, 19, 29, 37])"
      ]
     },
     "execution_count": 10,
     "metadata": {},
     "output_type": "execute_result"
    }
   ],
   "source": [
    "test_sparse.data"
   ]
  },
  {
   "cell_type": "code",
   "execution_count": 49,
   "metadata": {},
   "outputs": [],
   "source": [
    "def rmatmul(left_dense, right_sparse):\n",
    "    if len(left_dense.shape) != 2:\n",
    "        raise ValueError(f\"Shape of left_dense is not 2D, but {left_dense.shape}\")\n",
    "    if len(right_sparse.shape) != 2:\n",
    "        raise ValueError(f\"Shape of right_sparse is not 2D, but {right_sparse.shape}\")\n",
    "    if left_dense.shape[1] != right_sparse.shape[0]:\n",
    "        raise ValueError(\n",
    "            f\"Shape mismatch: left_dense.shape[1] != right_sparse.shape[0], \"\n",
    "            f\"got {left_dense.shape[1], right_sparse.shape[0]}.\"\n",
    "        )\n",
    "    \n",
    "    \n",
    "    result_t = np.zeros(\n",
    "        shape=(right_sparse.shape[1], left_dense.shape[0]),\n",
    "        dtype=np.result_type(right_sparse, left_dense)\n",
    "    )\n",
    "    \n",
    "    if isinstance(right_sparse, scipy.sparse.csc_matrix):\n",
    "        _rmatmul_csc(\n",
    "            left_dense=left_dense,\n",
    "            right_data=right_sparse.data,\n",
    "            right_indices=right_sparse.indices,\n",
    "            right_indptr=right_sparse.indptr,\n",
    "            res_inout_t=result_t\n",
    "        )\n",
    "    elif isinstance(right_sparse, scipy.sparse.csr_matrix):\n",
    "        _rmatmul_csr(\n",
    "            left_dense=left_dense,\n",
    "            right_data=right_sparse.data,\n",
    "            right_indices=right_sparse.indices,\n",
    "            right_indptr=right_sparse.indptr,\n",
    "            res_inout_t=result_t\n",
    "        )\n",
    "    else:\n",
    "        raise ValueError(\n",
    "            f\"Right hand matrix mus be of type scipy.sparse.csc_matrix or scipy.sparse.csr_matrix, \"\n",
    "            f\"got {type(right_sparse)}.\"\n",
    "        )\n",
    "    return result_t.T.copy()\n",
    "\n",
    "\n",
    "@numba.njit(fastmath=True)\n",
    "def _rmatmul_csc(left_dense, right_data, right_indices, right_indptr, res_inout_t):\n",
    "    left_columns = left_dense.shape[1]\n",
    "    left_rows = left_dense.shape[0]\n",
    "    for right_column in range(len(right_indptr) - 1):\n",
    "        offset = right_indptr[right_column]\n",
    "        items = right_indptr[right_column+1] - offset\n",
    "        if items > 0:\n",
    "            for i in range(items):\n",
    "                index = i + offset\n",
    "                right_row = right_indices[index]\n",
    "                right_value = right_data[index]\n",
    "                for left_row in range(left_rows):\n",
    "                    tmp = left_dense[left_row, right_row] * right_value\n",
    "                    res_inout_t[right_column, left_row] += tmp\n",
    "\n",
    "@numba.njit(fastmath=True)\n",
    "def _rmatmul_csr(left_dense, right_data, right_indices, right_indptr, res_inout_t):\n",
    "    left_columns = left_dense.shape[1]\n",
    "    left_rows = left_dense.shape[0]\n",
    "    rowbuf = np.empty(shape=(left_rows,), dtype=left_dense.dtype)\n",
    "    for right_row in range(len(right_indptr) - 1):\n",
    "        offset = right_indptr[right_row]\n",
    "        items = right_indptr[right_row+1] - offset\n",
    "        if items > 0:\n",
    "            rowbuf[:] = left_dense[:, right_row]\n",
    "            for i in range(items):\n",
    "                index = i + offset\n",
    "                right_column = right_indices[index]\n",
    "                right_value = right_data[index]\n",
    "                \n",
    "                for left_row in range(left_rows):\n",
    "                    tmp = rowbuf[left_row] * right_value\n",
    "                    res_inout_t[right_column, left_row] += tmp"
   ]
  },
  {
   "cell_type": "code",
   "execution_count": 50,
   "metadata": {},
   "outputs": [
    {
     "data": {
      "text/plain": [
       "array([[258, 310],\n",
       "       [775, 933],\n",
       "       [156, 188],\n",
       "       [369, 443]])"
      ]
     },
     "execution_count": 50,
     "metadata": {},
     "output_type": "execute_result"
    }
   ],
   "source": [
    "rmatmul(test_data, test_sparse.tocsc())"
   ]
  },
  {
   "cell_type": "code",
   "execution_count": 52,
   "metadata": {},
   "outputs": [
    {
     "data": {
      "text/plain": [
       "array([[258, 310],\n",
       "       [775, 933],\n",
       "       [156, 188],\n",
       "       [369, 443]])"
      ]
     },
     "execution_count": 52,
     "metadata": {},
     "output_type": "execute_result"
    }
   ],
   "source": [
    "rmatmul(test_data, test_sparse.tocsr())"
   ]
  },
  {
   "cell_type": "code",
   "execution_count": 53,
   "metadata": {},
   "outputs": [
    {
     "name": "stdout",
     "output_type": "stream",
     "text": [
      "511 ms ± 2.07 ms per loop (mean ± std. dev. of 7 runs, 1 loop each)\n"
     ]
    }
   ],
   "source": [
    "%timeit rmatmul_csc(data, sparse_mask_left.tocsc())"
   ]
  },
  {
   "cell_type": "code",
   "execution_count": 54,
   "metadata": {},
   "outputs": [
    {
     "name": "stdout",
     "output_type": "stream",
     "text": [
      "552 ms ± 1.56 ms per loop (mean ± std. dev. of 7 runs, 1 loop each)\n"
     ]
    }
   ],
   "source": [
    "%timeit rmatmul_csr(data, sparse_mask_left.tocsr())"
   ]
  },
  {
   "cell_type": "code",
   "execution_count": null,
   "metadata": {},
   "outputs": [],
   "source": [
    "sparse_mask_left.indptr"
   ]
  },
  {
   "cell_type": "code",
   "execution_count": null,
   "metadata": {},
   "outputs": [],
   "source": [
    "sparse_mask_left"
   ]
  },
  {
   "cell_type": "code",
   "execution_count": null,
   "metadata": {},
   "outputs": [],
   "source": [
    "sparse_mask_left.tocsc().indptr"
   ]
  },
  {
   "cell_type": "code",
   "execution_count": null,
   "metadata": {},
   "outputs": [],
   "source": []
  }
 ],
 "metadata": {
  "@webio": {
   "lastCommId": null,
   "lastKernelId": null
  },
  "kernelspec": {
   "display_name": "Python 3.7 (libertem)",
   "language": "python",
   "name": "libertem37"
  },
  "language_info": {
   "codemirror_mode": {
    "name": "ipython",
    "version": 3
   },
   "file_extension": ".py",
   "mimetype": "text/x-python",
   "name": "python",
   "nbconvert_exporter": "python",
   "pygments_lexer": "ipython3",
   "version": "3.7.4"
  }
 },
 "nbformat": 4,
 "nbformat_minor": 4
}
