{
 "cells": [
  {
   "cell_type": "code",
   "execution_count": 1,
   "metadata": {},
   "outputs": [],
   "source": [
    "import numpy as np\n",
    "import scipy.sparse as sp\n",
    "import sparse\n",
    "import torch\n",
    "import scipy.signal\n",
    "import numba\n",
    "import pyfftw\n",
    "pyfftw.interfaces.cache.enable()"
   ]
  },
  {
   "cell_type": "code",
   "execution_count": 2,
   "metadata": {},
   "outputs": [
    {
     "name": "stdout",
     "output_type": "stream",
     "text": [
      "4\n"
     ]
    }
   ],
   "source": [
    "# 1 MiB tile size\n",
    "size = 1024*1024*1\n",
    "\n",
    "(fy, fx) = (512, 512)\n",
    "\n",
    "l = size // (fy*fx)\n",
    "\n",
    "print(l)\n",
    "\n",
    "data = pyfftw.zeros_aligned((l, fy*fx))\n",
    "\n",
    "data[:] = np.random.random((l, fy*fx))\n",
    "\n",
    "data_t = data.T.copy()\n",
    "\n",
    "n_masks = 1000\n",
    "n_entries = 20\n",
    "\n",
    "masks = pyfftw.zeros_aligned((n_masks, (fy*fx)))\n",
    "\n",
    "mask_indices = []\n",
    "frame_indices = []\n",
    "values = []\n",
    "\n",
    "for i in range(n_masks):\n",
    "    for y in np.random.choice(range(fy), size=n_entries, replace=False):\n",
    "        for x in np.random.choice(range(fx), size=n_entries, replace=False):\n",
    "            index = y*fx + x\n",
    "            mask_indices.append(i)\n",
    "            frame_indices.append(index)\n",
    "            masks[i, index] = 1\n",
    "            values.append(1)"
   ]
  },
  {
   "cell_type": "code",
   "execution_count": 3,
   "metadata": {},
   "outputs": [],
   "source": [
    "@numba.njit\n",
    "def _dot(values, iis, data, res):\n",
    "    # Magic number 32: This is the smallest number where overheads\n",
    "    # did not have an impact on the performance\n",
    "    j_block_size = 32\n",
    "    j_blocks = data.shape[0] // j_block_size\n",
    "    j_remainder = data.shape[0] % j_block_size\n",
    "    # The blocking helps to keep iis and values in the cache for\n",
    "    # the j range that is being processed\n",
    "    for j_block in range(j_blocks):\n",
    "        for idx in range(values.shape[0]):\n",
    "            # This is also values.shape[1]\n",
    "            for j in range(j_block*j_block_size, (j_block + 1)*j_block_size):\n",
    "                i = iis[idx, j]\n",
    "                v = values[idx, j]\n",
    "                for k in range(data.shape[1]):\n",
    "                    # FIXME sum is not numerically stable\n",
    "                    # That should be tolerable if the matrix is sparse, i.e. there aren't many summands\n",
    "                    # Stable implementation may require an intermediate buffer\n",
    "                    res[i, k] += data[j, k] * v\n",
    "    for idx in range(values.shape[0]):\n",
    "        # This is also values.shape[1]\n",
    "        for j in range(j_blocks*j_block_size, j_blocks*j_block_size + j_remainder):\n",
    "            i = iis[idx, j]\n",
    "            v = values[idx, j]\n",
    "            for k in range(data.shape[1]):\n",
    "                # FIXME sum is not numerically stable\n",
    "                # That should be tolerable if the matrix is sparse, i.e. there aren't many summands\n",
    "                # Stable implementation may require an intermediate buffer\n",
    "                res[i, k] += data[j, k] * v\n",
    "                \n",
    "@numba.njit\n",
    "def _transposed_left_dot(data, values, iis, res):\n",
    "    '''\n",
    "    This function performs dot(data, masks.T) with an optimized\n",
    "    access pattern. This matches the way how data and mask are \"naturally\"\n",
    "    stored and handled in LiberTEM\n",
    "    '''\n",
    "    # Magic number 32: This is the smallest number where overheads\n",
    "    # did not have an impact on the performance\n",
    "    j_block_size = 32\n",
    "    j_blocks = data.shape[1] // j_block_size\n",
    "    j_remainder = data.shape[1] % j_block_size\n",
    "    \n",
    "    # The blocking helps to keep iis and values in the cache for\n",
    "    # the j range that is being processed\n",
    "    for j_block in range(j_blocks):\n",
    "        for idx in range(values.shape[0]):\n",
    "            for j in range(j_block*j_block_size, (j_block + 1)*j_block_size):\n",
    "                i = iis[idx, j]\n",
    "                v = values[idx, j]\n",
    "                for k in range(data.shape[0]):\n",
    "                    # FIXME sum is not numerically stable\n",
    "                    # That should be tolerable if the matrix is sparse, i.e. there aren't many summands\n",
    "                    # Stable implementation may require an intermediate buffer\n",
    "                    res[k, i] += data[k, j] * v\n",
    "    for idx in range(values.shape[0]):\n",
    "        for j in range(j_blocks*j_block_size, j_blocks*j_block_size + j_remainder):\n",
    "            i = iis[idx, j]\n",
    "            v = values[idx, j]\n",
    "            for k in range(data.shape[0]):\n",
    "                # FIXME sum is not numerically stable\n",
    "                # That should be tolerable if the matrix is sparse, i.e. there aren't many summands\n",
    "                # Stable implementation may require an intermediate buffer\n",
    "                res[k, i] += data[k, j] * v\n",
    "\n",
    "# Necessary for inlining in Nopython mode\n",
    "@numba.njit\n",
    "def _add_index_depth(values, iis, n):\n",
    "    iis = np.concatenate((iis, np.zeros((n, iis.shape[1]), dtype=iis.dtype)), axis=0)\n",
    "    values = np.concatenate((values, np.zeros((n, values.shape[1]), dtype=values.dtype)), axis=0)\n",
    "    return (values, iis)\n",
    "                \n",
    "@numba.njit                                \n",
    "def _set_coords(new_iis, new_jjs, new_vals, indices, iis, values):\n",
    "    for k in range(len(new_iis)):\n",
    "        i = new_iis[k]\n",
    "        j = new_jjs[k]\n",
    "        idx = 0\n",
    "        new = True\n",
    "        for idx in range(indices[j]):\n",
    "            if iis[idx, j] == i and values[idx, j] != 0:\n",
    "                new = False\n",
    "                break\n",
    "        # was unset and remains unset\n",
    "        if new and new_vals[k] == 0:\n",
    "            continue\n",
    "        if new:\n",
    "            idx += 1\n",
    "        if values.shape[0] <= idx:\n",
    "            (values, iis) = _add_index_depth(values, iis, n=idx - values.shape[0] + 1)\n",
    "\n",
    "        iis[idx, j] = i\n",
    "        values[idx, j] = new_vals[k]\n",
    "        if new:\n",
    "            indices[j] = idx + 1\n",
    "    return (indices, iis, values)\n",
    "\n",
    "\n",
    "@numba.njit\n",
    "def _todense(shape, iis, values):\n",
    "    res = np.zeros(shape=shape, dtype=values.dtype)\n",
    "    for j in range(iis.shape[1]):\n",
    "        for idx in range(iis.shape[0]):\n",
    "            i = iis[idx, j]\n",
    "            v = values[idx, j]\n",
    "            if v != 0:\n",
    "                res[i, j] = v\n",
    "    return res\n",
    "\n",
    "class StackMatrix(object):\n",
    "    \n",
    "    def __init__(self, shape, dtype, indices, values, iis):\n",
    "        self._shape = shape\n",
    "        self._dtype = dtype\n",
    "        self._indices = indices\n",
    "        self._values = values\n",
    "        self._iis = iis\n",
    "    \n",
    "    @classmethod\n",
    "    def from_numpy(cls, matrix):\n",
    "        '''\n",
    "        For simplicity, only support m x n matrices for now\n",
    "        '''\n",
    "        assert len(matrix.shape) == 2        \n",
    "        shape = matrix.shape\n",
    "        dtype = matrix.dtype\n",
    "        (i, j) = np.mgrid[0:matrix.shape[0], 0:matrix.shape[1]]\n",
    "        non_zero = (matrix != 0)\n",
    "        depth = np.max(non_zero.astype(np.int64).sum(axis=0))\n",
    "\n",
    "        m = cls.zeros(shape=shape, dtype=dtype, depth=depth)\n",
    "        m.set_coords(i[non_zero], j[non_zero], matrix[non_zero])              \n",
    "        return m\n",
    "    \n",
    "    @classmethod\n",
    "    def from_sparse(cls, sp):\n",
    "        non_zero = (sp != 0)\n",
    "        depth = np.max(non_zero.astype(np.int64).sum(axis=0))\n",
    "        m = cls.zeros(shape=shape, dtype=dtype, depth=depth)\n",
    "        m.set_coords(*sp.coords, vals=sp.data)\n",
    "                    \n",
    "    @classmethod\n",
    "    def zeros(cls, shape, dtype=np.float64, depth=0):\n",
    "        assert len(shape) == 2\n",
    "        dtype = np.dtype(dtype)\n",
    "        \n",
    "        indices = np.zeros(shape[1], dtype=np.int64)\n",
    "        values = np.zeros((depth, shape[1]), dtype=dtype)\n",
    "        iis = np.zeros((depth, shape[1]), dtype=np.int64)\n",
    "        \n",
    "        return cls(shape, dtype, indices, values, iis)\n",
    "                    \n",
    "    def __getitem__(self, idx):\n",
    "        i, j = idx\n",
    "        idx = np.where(self._iis[:, j] == i)\n",
    "        if idx:\n",
    "            return self._values[idx, j]\n",
    "        else:\n",
    "            return 0\n",
    "        \n",
    "    def set_layer(self, i, mask):\n",
    "        non_zero = mask != 0\n",
    "        jj = np.arange(self._shape[1], dtype=np.int64)\n",
    "        ii = i*np.ones(self._shape[1], dtype=np.int64)\n",
    "        self.set_coords(iis=ii[non_zero], jjs=jj[non_zero], vals=mask[non_zero])\n",
    "    \n",
    "    def set_coords(self, iis, jjs, vals):\n",
    "        (self._indices, self._iis, self._values) = _set_coords(\n",
    "            new_iis=iis, new_jjs=jjs, new_vals=vals,\n",
    "            indices=self._indices, iis=self._iis, values=self._values\n",
    "        )        \n",
    "    \n",
    "    def __setitem__(self, idx, value):\n",
    "        i, j = idx\n",
    "        self.set_coords([i], [j], [value])\n",
    "\n",
    "    def add_index_depth(self, n=1):\n",
    "        (self._values, self._iis) = _add_index_depth(self._values, self._iis, n)\n",
    "\n",
    "    def dot(self, data):\n",
    "        assert data.shape[0] == self._shape[1]\n",
    "        res = np.zeros((self._shape[0], data.shape[1]), dtype=np.float64)\n",
    "        _dot(values=self._values, iis=self._iis, data=data, res=res)\n",
    "        return res\n",
    "    \n",
    "    def transposed_left_dot(self, data):\n",
    "        assert data.shape[1] == self._shape[1]\n",
    "        res = np.zeros((data.shape[0], self._shape[0]), dtype=np.float64)\n",
    "        _transposed_left_dot(data=data, values=self._values, iis=self._iis, res=res)\n",
    "        return res\n",
    "    \n",
    "    def todense(self):\n",
    "        return _todense(self._shape, self._iis, self._values)\n",
    "    \n",
    "    def tosparse(self):\n",
    "        nonzero = self._values != 0\n",
    "        iis = self._iis[nonzero]\n",
    "        row = np.arange(self._shape[1], dtype=np.int64)\n",
    "        jjs = np.tile(row, (self._iis.shape[0], 1))[nonzero]\n",
    "        return sparse.COO(coords=(iis, jjs), data=self._values[nonzero], shape=self._shape)\n",
    "    \n",
    "    def tocsc(self):\n",
    "        nonzero = self._values != 0\n",
    "        iis = self._iis[nonzero]\n",
    "        row = np.arange(self._shape[1], dtype=np.int64)\n",
    "        jjs = np.tile(row, (self._iis.shape[0], 1))[nonzero]\n",
    "        return scipy.sparse.csc_matrix((self._values[nonzero], (iis, jjs)), shape=self._shape)\n",
    "\n",
    "    @property\n",
    "    def shape(self):\n",
    "        return self._shape\n",
    "    \n",
    "    @property\n",
    "    def dtype(self):\n",
    "        return self._dtype\n",
    "    \n",
    "    @property \n",
    "    def depth(self):\n",
    "        return self._iis.shape[0]"
   ]
  },
  {
   "cell_type": "code",
   "execution_count": 4,
   "metadata": {},
   "outputs": [
    {
     "name": "stdout",
     "output_type": "stream",
     "text": [
      "1.23 s ± 209 ms per loop (mean ± std. dev. of 7 runs, 1 loop each)\n"
     ]
    }
   ],
   "source": [
    "# naive one\n",
    "d = np.dot(data, masks.T)\n",
    "%timeit np.dot(data, masks.T)"
   ]
  },
  {
   "cell_type": "code",
   "execution_count": 5,
   "metadata": {},
   "outputs": [
    {
     "name": "stdout",
     "output_type": "stream",
     "text": [
      "888 ms ± 20.9 ms per loop (mean ± std. dev. of 7 runs, 1 loop each)\n"
     ]
    }
   ],
   "source": [
    "# naive one\n",
    "%timeit np.dot(masks, data_t)"
   ]
  },
  {
   "cell_type": "code",
   "execution_count": 6,
   "metadata": {},
   "outputs": [],
   "source": [
    "homebuilt = StackMatrix.from_numpy(masks)\n",
    "homebuilt_t = StackMatrix.from_numpy(masks.T)"
   ]
  },
  {
   "cell_type": "code",
   "execution_count": 7,
   "metadata": {},
   "outputs": [
    {
     "name": "stdout",
     "output_type": "stream",
     "text": [
      "(262144, 4)\n",
      "(4, 262144)\n",
      "(1000, 262144)\n",
      "(262144, 1000)\n"
     ]
    }
   ],
   "source": [
    "print(data_t.shape)\n",
    "print(data.shape)\n",
    "print(homebuilt.shape)\n",
    "print(homebuilt_t.shape)"
   ]
  },
  {
   "cell_type": "code",
   "execution_count": 8,
   "metadata": {},
   "outputs": [
    {
     "name": "stdout",
     "output_type": "stream",
     "text": [
      "31.5 ms ± 831 µs per loop (mean ± std. dev. of 7 runs, 10 loops each)\n"
     ]
    }
   ],
   "source": [
    "homebuilt.dot(data_t)\n",
    "%timeit homebuilt.dot(data_t)"
   ]
  },
  {
   "cell_type": "code",
   "execution_count": 9,
   "metadata": {},
   "outputs": [
    {
     "name": "stdout",
     "output_type": "stream",
     "text": [
      "41 ms ± 542 µs per loop (mean ± std. dev. of 7 runs, 10 loops each)\n"
     ]
    }
   ],
   "source": [
    "homebuilt.transposed_left_dot(data)\n",
    "%timeit homebuilt.transposed_left_dot(data)"
   ]
  },
  {
   "cell_type": "code",
   "execution_count": 10,
   "metadata": {},
   "outputs": [
    {
     "name": "stdout",
     "output_type": "stream",
     "text": [
      "609 ms ± 86.7 ms per loop (mean ± std. dev. of 7 runs, 1 loop each)\n"
     ]
    }
   ],
   "source": [
    "t_data = torch.from_numpy(data)\n",
    "t_masks = torch.from_numpy(masks.T)\n",
    "torch.mm(t_data, t_masks)\n",
    "%timeit torch.mm(t_data, t_masks)"
   ]
  },
  {
   "cell_type": "code",
   "execution_count": 11,
   "metadata": {},
   "outputs": [
    {
     "name": "stdout",
     "output_type": "stream",
     "text": [
      "10.4 ms ± 219 µs per loop (mean ± std. dev. of 7 runs, 100 loops each)\n"
     ]
    }
   ],
   "source": [
    "sp_csr_masks = sp.csr_matrix(masks)\n",
    "sp_csr_masks.dot(data_t)\n",
    "%timeit sp_csr_masks.dot(data_t)"
   ]
  },
  {
   "cell_type": "code",
   "execution_count": null,
   "metadata": {},
   "outputs": [],
   "source": []
  },
  {
   "cell_type": "code",
   "execution_count": 12,
   "metadata": {},
   "outputs": [
    {
     "name": "stdout",
     "output_type": "stream",
     "text": [
      "7.15 ms ± 110 µs per loop (mean ± std. dev. of 7 runs, 100 loops each)\n"
     ]
    }
   ],
   "source": [
    "sp_csc_masks = sp.csc_matrix(masks)\n",
    "sp_csc_masks.dot(data_t)\n",
    "%timeit sp_csc_masks.dot(data_t)"
   ]
  },
  {
   "cell_type": "code",
   "execution_count": 13,
   "metadata": {},
   "outputs": [
    {
     "name": "stdout",
     "output_type": "stream",
     "text": [
      "True\n",
      "18.1 ms ± 532 µs per loop (mean ± std. dev. of 7 runs, 100 loops each)\n"
     ]
    }
   ],
   "source": [
    "sp_csr_masks_t = sp.csr_matrix(masks.T)\n",
    "tmp = data * sp_csr_masks_t\n",
    "print(np.allclose(d, tmp))\n",
    "%timeit data * sp_csr_masks_t"
   ]
  },
  {
   "cell_type": "code",
   "execution_count": 14,
   "metadata": {},
   "outputs": [
    {
     "name": "stdout",
     "output_type": "stream",
     "text": [
      "22.8 ms ± 3.22 ms per loop (mean ± std. dev. of 7 runs, 10 loops each)\n"
     ]
    }
   ],
   "source": [
    "sp_csc_masks_t = sp.csc_matrix(masks.T)\n",
    "data * sp_csc_masks_t\n",
    "%timeit data * sp_csc_masks_t"
   ]
  },
  {
   "cell_type": "code",
   "execution_count": 15,
   "metadata": {},
   "outputs": [
    {
     "name": "stdout",
     "output_type": "stream",
     "text": [
      "209 ms ± 13.9 ms per loop (mean ± std. dev. of 7 runs, 1 loop each)\n"
     ]
    }
   ],
   "source": [
    "i = torch.LongTensor([mask_indices, frame_indices])\n",
    "v = torch.DoubleTensor(values)\n",
    "t_sp_mask = torch.sparse.DoubleTensor(i, v, torch.Size([n_masks, fy*fx]))\n",
    "t_sp_data = torch.from_numpy(data.T)\n",
    "torch.sparse.mm(t_sp_mask, t_sp_data)\n",
    "%timeit torch.sparse.mm(t_sp_mask, t_sp_data)"
   ]
  },
  {
   "cell_type": "code",
   "execution_count": 16,
   "metadata": {},
   "outputs": [
    {
     "name": "stdout",
     "output_type": "stream",
     "text": [
      "159 ms ± 3.35 ms per loop (mean ± std. dev. of 7 runs, 10 loops each)\n"
     ]
    }
   ],
   "source": [
    "pydata_sp_mask = sparse.COO([frame_indices, mask_indices], values, shape=(fy*fx, n_masks))\n",
    "sparse.dot(data, pydata_sp_mask)\n",
    "%timeit sparse.dot(data, pydata_sp_mask)"
   ]
  },
  {
   "cell_type": "code",
   "execution_count": 17,
   "metadata": {},
   "outputs": [],
   "source": [
    "fft = pyfftw.interfaces.numpy_fft\n",
    "# fft = np.fft"
   ]
  },
  {
   "cell_type": "code",
   "execution_count": 18,
   "metadata": {},
   "outputs": [
    {
     "name": "stdout",
     "output_type": "stream",
     "text": [
      "5.18 ms ± 139 µs per loop (mean ± std. dev. of 7 runs, 100 loops each)\n"
     ]
    }
   ],
   "source": [
    "m = masks[0].reshape((fy, fx))\n",
    "template = pyfftw.interfaces.numpy_fft.rfft2(m)\n",
    "%timeit template = pyfftw.interfaces.numpy_fft.rfft2(m)"
   ]
  },
  {
   "cell_type": "code",
   "execution_count": 19,
   "metadata": {},
   "outputs": [
    {
     "name": "stdout",
     "output_type": "stream",
     "text": [
      "69 ms ± 1.87 ms per loop (mean ± std. dev. of 7 runs, 10 loops each)\n"
     ]
    }
   ],
   "source": [
    "%%timeit\n",
    "for d in data.reshape((-1, fy, fx)):\n",
    "    spec = pyfftw.interfaces.numpy_fft.rfft2(d)\n",
    "    corrspec = spec * template\n",
    "    corr = pyfftw.interfaces.numpy_fft.fftshift(pyfftw.interfaces.numpy_fft.irfft2(corrspec))"
   ]
  },
  {
   "cell_type": "code",
   "execution_count": 20,
   "metadata": {},
   "outputs": [
    {
     "name": "stdout",
     "output_type": "stream",
     "text": [
      "187 ms ± 5.9 ms per loop (mean ± std. dev. of 7 runs, 1 loop each)\n"
     ]
    }
   ],
   "source": [
    "%%timeit\n",
    "for d in data.reshape((-1, fy, fx)):\n",
    "    spec = np.fft.rfft2(d)\n",
    "    corrspec = spec * template\n",
    "    corr = np.fft.fftshift(np.fft.irfft2(corrspec))"
   ]
  },
  {
   "cell_type": "code",
   "execution_count": 21,
   "metadata": {},
   "outputs": [
    {
     "name": "stdout",
     "output_type": "stream",
     "text": [
      "936 ms ± 10.7 ms per loop (mean ± std. dev. of 7 runs, 1 loop each)\n"
     ]
    }
   ],
   "source": [
    "%%timeit\n",
    "for d in data.reshape((-1, fy, fx)):\n",
    "    corr = scipy.signal.convolve(m, d)"
   ]
  },
  {
   "cell_type": "code",
   "execution_count": 22,
   "metadata": {},
   "outputs": [],
   "source": [
    "scipy.fft = pyfftw.interfaces.scipy_fftpack\n",
    "scipy.fftpack = pyfftw.interfaces.scipy_fftpack"
   ]
  },
  {
   "cell_type": "code",
   "execution_count": 23,
   "metadata": {},
   "outputs": [
    {
     "name": "stdout",
     "output_type": "stream",
     "text": [
      "942 ms ± 19.8 ms per loop (mean ± std. dev. of 7 runs, 1 loop each)\n"
     ]
    }
   ],
   "source": [
    "%%timeit\n",
    "for d in data.reshape((-1, fy, fx)):\n",
    "    corr = scipy.signal.convolve(m, d)"
   ]
  },
  {
   "cell_type": "code",
   "execution_count": null,
   "metadata": {},
   "outputs": [],
   "source": []
  }
 ],
 "metadata": {
  "kernelspec": {
   "display_name": "Python 3",
   "language": "python",
   "name": "python3"
  },
  "language_info": {
   "codemirror_mode": {
    "name": "ipython",
    "version": 3
   },
   "file_extension": ".py",
   "mimetype": "text/x-python",
   "name": "python",
   "nbconvert_exporter": "python",
   "pygments_lexer": "ipython3",
   "version": "3.7.2"
  }
 },
 "nbformat": 4,
 "nbformat_minor": 2
}
