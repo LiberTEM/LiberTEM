{
 "cells": [
  {
   "cell_type": "code",
   "execution_count": 1,
   "id": "afraid-stuart",
   "metadata": {},
   "outputs": [],
   "source": [
    "%load_ext autoreload"
   ]
  },
  {
   "cell_type": "code",
   "execution_count": 13,
   "id": "expired-toyota",
   "metadata": {},
   "outputs": [],
   "source": [
    "import sparse\n",
    "import numpy as np\n",
    "\n",
    "from libertem.api import Context\n",
    "from libertem.udf.sum import SumUDF\n",
    "from libertem.common import Slice, Shape"
   ]
  },
  {
   "cell_type": "code",
   "execution_count": 14,
   "id": "happy-think",
   "metadata": {},
   "outputs": [],
   "source": [
    "data = sparse.random((7, 11, 13))"
   ]
  },
  {
   "cell_type": "code",
   "execution_count": 15,
   "id": "legislative-spread",
   "metadata": {},
   "outputs": [],
   "source": [
    "%autoreload\n",
    "ctx = Context.make_with('inline')\n",
    "ds = ctx.load('memory', data=data)\n",
    "res = ctx.run_udf(dataset=ds, udf=SumUDF())"
   ]
  },
  {
   "cell_type": "code",
   "execution_count": 16,
   "id": "minus-funeral",
   "metadata": {},
   "outputs": [
    {
     "data": {
      "text/plain": [
       "True"
      ]
     },
     "execution_count": 16,
     "metadata": {},
     "output_type": "execute_result"
    }
   ],
   "source": [
    "np.allclose(data.sum(axis=0).todense(), res['intensity'].raw_data)"
   ]
  },
  {
   "cell_type": "code",
   "execution_count": null,
   "id": "cognitive-bosnia",
   "metadata": {},
   "outputs": [],
   "source": []
  }
 ],
 "metadata": {
  "kernelspec": {
   "display_name": "Python 3",
   "language": "python",
   "name": "python3"
  },
  "language_info": {
   "codemirror_mode": {
    "name": "ipython",
    "version": 3
   },
   "file_extension": ".py",
   "mimetype": "text/x-python",
   "name": "python",
   "nbconvert_exporter": "python",
   "pygments_lexer": "ipython3",
   "version": "3.7.10"
  }
 },
 "nbformat": 4,
 "nbformat_minor": 5
}
