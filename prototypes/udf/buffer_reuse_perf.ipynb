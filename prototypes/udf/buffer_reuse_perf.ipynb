{
 "cells": [
  {
   "cell_type": "code",
   "execution_count": 1,
   "metadata": {},
   "outputs": [
    {
     "name": "stdout",
     "output_type": "stream",
     "text": [
      "env: OMP_NUM_THREADS=1\n",
      "env: MKL_NUM_THREADS=1\n",
      "env: OPENBLAS_NUM_THREADS=1\n"
     ]
    }
   ],
   "source": [
    "%env OMP_NUM_THREADS=1\n",
    "%env MKL_NUM_THREADS=1\n",
    "%env OPENBLAS_NUM_THREADS=1\n",
    "%matplotlib nbagg\n",
    "import matplotlib.pyplot as plt"
   ]
  },
  {
   "cell_type": "code",
   "execution_count": 3,
   "metadata": {},
   "outputs": [],
   "source": [
    "import numpy as np\n",
    "from libertem import api\n",
    "from libertem.executor.inline import InlineJobExecutor\n",
    "from libertem.common.buffers import zeros_aligned\n",
    "from libertem.udf.base import UDF"
   ]
  },
  {
   "cell_type": "code",
   "execution_count": 5,
   "metadata": {},
   "outputs": [],
   "source": [
    "inline = InlineJobExecutor()\n",
    "ctx = api.Context(executor=None)\n",
    "# ctx = api.Context(executor=InlineJobExecutor())"
   ]
  },
  {
   "cell_type": "code",
   "execution_count": 6,
   "metadata": {},
   "outputs": [],
   "source": [
    "ds = ctx.load(\"mib\", path=\"/home/clausen/Data/Merlin/strain_karina/MOSFET/20181119 184223/default.hdr\")"
   ]
  },
  {
   "cell_type": "code",
   "execution_count": 7,
   "metadata": {},
   "outputs": [],
   "source": [
    "class MaxUDF(UDF):\n",
    "    def get_result_buffers(self):\n",
    "        return {\n",
    "            'maxbuf': self.buffer(\n",
    "                kind=\"sig\", dtype=\"float32\"\n",
    "            )\n",
    "        }\n",
    "    \n",
    "    def get_task_data(self, meta):\n",
    "        return {\n",
    "            'tmpbuf': self._zeros(ds.shape.sig, dtype=\"float32\"),\n",
    "        }\n",
    "    \n",
    "    def _zeros(self, *args, **kwargs):\n",
    "        if self.params.aligned:\n",
    "            return zeros_aligned(*args, **kwargs)\n",
    "        else:\n",
    "            return np.zeros(*args, **kwargs)\n",
    " \n",
    "    def process_frame(self, frame):\n",
    "        if self.params.keep_buffer:\n",
    "            fprime = self.task_data.tmpbuf\n",
    "        else:\n",
    "            fprime = self._zeros(ds.shape.sig, dtype=\"float32\")\n",
    "        np.multiply(frame, frame, out=fprime)\n",
    "        self.results.maxbuf[:] = np.maximum(fprime, self.results.maxbuf)\n",
    " \n",
    "    def merge(self, dest, src):\n",
    "        dest['maxbuf'][:] = np.maximum(dest['maxbuf'], src['maxbuf'])"
   ]
  },
  {
   "cell_type": "code",
   "execution_count": 8,
   "metadata": {},
   "outputs": [
    {
     "name": "stdout",
     "output_type": "stream",
     "text": [
      "7.72 s ± 612 ms per loop (mean ± std. dev. of 7 runs, 1 loop each)\n"
     ]
    }
   ],
   "source": [
    "%%timeit\n",
    "res = ctx.run_udf(\n",
    "   udf=MaxUDF(keep_buffer=True, aligned=True),\n",
    "   dataset=ds,\n",
    ")"
   ]
  },
  {
   "cell_type": "code",
   "execution_count": 9,
   "metadata": {},
   "outputs": [
    {
     "name": "stdout",
     "output_type": "stream",
     "text": [
      "9.96 s ± 102 ms per loop (mean ± std. dev. of 7 runs, 1 loop each)\n"
     ]
    }
   ],
   "source": [
    "%%timeit\n",
    "res = ctx.run_udf(\n",
    "   udf=MaxUDF(keep_buffer=False, aligned=True),\n",
    "   dataset=ds,\n",
    ")"
   ]
  },
  {
   "cell_type": "code",
   "execution_count": 10,
   "metadata": {},
   "outputs": [
    {
     "name": "stdout",
     "output_type": "stream",
     "text": [
      "6.76 s ± 92.7 ms per loop (mean ± std. dev. of 7 runs, 1 loop each)\n"
     ]
    }
   ],
   "source": [
    "%%timeit\n",
    "res = ctx.run_udf(\n",
    "   udf=MaxUDF(keep_buffer=True, aligned=False),\n",
    "   dataset=ds,\n",
    ")"
   ]
  },
  {
   "cell_type": "code",
   "execution_count": 11,
   "metadata": {},
   "outputs": [
    {
     "name": "stdout",
     "output_type": "stream",
     "text": [
      "7.16 s ± 151 ms per loop (mean ± std. dev. of 7 runs, 1 loop each)\n"
     ]
    }
   ],
   "source": [
    "%%timeit\n",
    "res = ctx.run_udf(\n",
    "   udf=MaxUDF(keep_buffer=False, aligned=False),\n",
    "   dataset=ds,\n",
    ")"
   ]
  },
  {
   "cell_type": "code",
   "execution_count": null,
   "metadata": {},
   "outputs": [],
   "source": []
  }
 ],
 "metadata": {
  "kernelspec": {
   "display_name": "Python 3",
   "language": "python",
   "name": "python3"
  },
  "language_info": {
   "codemirror_mode": {
    "name": "ipython",
    "version": 3
   },
   "file_extension": ".py",
   "mimetype": "text/x-python",
   "name": "python",
   "nbconvert_exporter": "python",
   "pygments_lexer": "ipython3",
   "version": "3.7.2+"
  }
 },
 "nbformat": 4,
 "nbformat_minor": 2
}
