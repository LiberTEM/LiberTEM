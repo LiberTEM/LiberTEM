{
 "cells": [
  {
   "cell_type": "code",
   "execution_count": 18,
   "metadata": {},
   "outputs": [],
   "source": [
    "from sklearn.decomposition import NMF, IncrementalPCA\n",
    "from scipy.stats import ortho_group\n",
    "from scipy.linalg import eigh\n",
    "import fbpca\n",
    "import numpy as np\n",
    "import matplotlib.pyplot as plt"
   ]
  },
  {
   "cell_type": "code",
   "execution_count": 2,
   "metadata": {},
   "outputs": [],
   "source": [
    "loading = np.random.normal(loc=0, scale=1, size=(256, 256)) # create loading matrix\n",
    "components = ortho_group.rvs(dim=256)[:, :16] # create orthonomal matrix"
   ]
  },
  {
   "cell_type": "code",
   "execution_count": 3,
   "metadata": {},
   "outputs": [
    {
     "name": "stdout",
     "output_type": "stream",
     "text": [
      "(256, 16)\n",
      "(256, 256)\n"
     ]
    }
   ],
   "source": [
    "print(components.shape)\n",
    "print(loading.shape)"
   ]
  },
  {
   "cell_type": "code",
   "execution_count": 4,
   "metadata": {},
   "outputs": [],
   "source": [
    "data = loading @ components\n",
    "data = data.reshape(16, 16, 4, 4)"
   ]
  },
  {
   "cell_type": "code",
   "execution_count": 5,
   "metadata": {},
   "outputs": [],
   "source": [
    "class IPCA:\n",
    "\n",
    "    def __init__(self, K, D, Uhat0=None, sigma2_0=None, tol=1e-7):\n",
    "\n",
    "        if Uhat0 is not None:\n",
    "            assert Uhat0.shape == (D, K), \"The shape of the initial guess Uhat0 must be (D,K)=(%d,%d)\" % (D, K)\n",
    "            self.Uhat = Uhat0.copy()\n",
    "\n",
    "        else:\n",
    "            # random initalization if not provided\n",
    "            self.Uhat = np.random.normal(loc=0, scale=1 / D, size=(D, K))\n",
    "\n",
    "        self.t = 1\n",
    "\n",
    "        if sigma2_0 is not None:\n",
    "            assert sigma2_0.shape == (K,), \"The shape of the initial guess lambda0 must be (K,)=(%d,)\" % (K)\n",
    "            self.sigma2 = sigma2_0.copy()\n",
    "        else:\n",
    "            self.sigma2 = np.abs(np.random.normal(0, 1, (K,))) / np.sqrt(K)\n",
    "\n",
    "        self.K = K\n",
    "        self.D = D\n",
    "        self.f = 1.0 / self.t\n",
    "        self.tol = tol\n",
    "\n",
    "    def fit_next(self, x):\n",
    "\n",
    "        assert x.shape == (self.D,)\n",
    "        self.t += 1\n",
    "        self.f = 1.0 / self.t\n",
    "\n",
    "        t, f, sigma2, Uhat, K, tol = self.t, self.f, self.sigma2, self.Uhat, self.K, self.tol\n",
    "\n",
    "        sigma2 = (1 - f) * sigma2\n",
    "        x = np.sqrt(f) * x\n",
    "\n",
    "        # Project X into current estimate and check residual error\n",
    "        y     = Uhat.T.dot(x)\n",
    "        x     = x - Uhat.dot(y)\n",
    "        normx = np.sqrt(x.dot(x))\n",
    "\n",
    "        if (normx >= tol):\n",
    "            sigma2 = np.concatenate((sigma2, [0]))\n",
    "            y = np.concatenate((y, [normx]))\n",
    "            Uhat = np.concatenate((Uhat, x[:, np.newaxis] / normx), 1)\n",
    "\n",
    "        M = np.diag(sigma2) + np.outer(y, y.T)\n",
    "        d, V = eigh(M, overwrite_a=True)\n",
    "\n",
    "        idx    = np.argsort(d)[::-1]\n",
    "        sigma2 = d[idx][:K]\n",
    "        V      = V[:, idx]\n",
    "        Uhat   = Uhat.dot(V[:, :K])\n",
    "\n",
    "        self.Uhat   = Uhat\n",
    "        self.sigma2 = sigma2\n",
    "\n",
    "    def get_components(self, orthogonalize=True):\n",
    "\n",
    "        components = np.asarray(self.Uhat)\n",
    "        if orthogonalize:\n",
    "            components, _ = np.linalg.qr(components)\n",
    "\n",
    "        return components\n"
   ]
  },
  {
   "cell_type": "code",
   "execution_count": 6,
   "metadata": {},
   "outputs": [],
   "source": [
    "def process_frame(ipca, frame):\n",
    "    \"\"\"\n",
    "    Process frame as it is done in libertem architecture\n",
    "    \"\"\"\n",
    "    frame_flatten = frame.reshape(frame.size,)\n",
    "    ipca.fit_next(frame_flatten)"
   ]
  },
  {
   "cell_type": "code",
   "execution_count": 7,
   "metadata": {},
   "outputs": [],
   "source": [
    "def process_partitions(prev, partitions):\n",
    "    \"\"\"\n",
    "    Process partitions as it is done in libertem architecture\n",
    "    i.e., stack up partitions, which are components vectors\n",
    "    \"\"\"\n",
    "    return np.vstack([prev, partitions])"
   ]
  },
  {
   "cell_type": "code",
   "execution_count": 8,
   "metadata": {},
   "outputs": [],
   "source": [
    "def perform_pca(component, n_components=10):\n",
    "    \"\"\"\n",
    "    Perform PCA\n",
    "    \"\"\"\n",
    "    U, S, V = fbpca.pca(component, k=n_components)\n",
    "    \n",
    "    loading = U @ S\n",
    "    component = V\n",
    "    \n",
    "    return loading, component\n",
    "    "
   ]
  },
  {
   "cell_type": "code",
   "execution_count": 9,
   "metadata": {},
   "outputs": [],
   "source": [
    "def partition(data, num_part=4):\n",
    "    \"\"\"\n",
    "    Partition the data as it is done in libertem architecture\n",
    "    \"\"\"\n",
    "    nav_row, nav_col, sig_row, sig_col = data.shape\n",
    "    \n",
    "    partitions = []\n",
    "    \n",
    "    for i in range(0, nav_row, num_part):\n",
    "        for j in range(0, nav_col, num_part):\n",
    "            partitions.append(data[i:i+num_part, j:j+num_part, :, :].copy())\n",
    "\n",
    "    return partitions"
   ]
  },
  {
   "cell_type": "code",
   "execution_count": 10,
   "metadata": {},
   "outputs": [],
   "source": [
    "def fetch_frame(partition):\n",
    "    \"\"\"\n",
    "    Take a frame from a partition as it is done in libertem architecture\n",
    "    \"\"\"\n",
    "    frames = []\n",
    "    \n",
    "    part_row, part_col, sig_row, sig_col = partition.shape\n",
    "    \n",
    "    for i in range(part_row):\n",
    "        for j in range(part_col):\n",
    "            frames.append(partition[i, j, :, :].copy())\n",
    "            \n",
    "    return frames"
   ]
  },
  {
   "cell_type": "code",
   "execution_count": 11,
   "metadata": {},
   "outputs": [],
   "source": [
    "def PCA(data):\n",
    "    \"\"\"\n",
    "    Perform PCA as it is done in liberteme architecture under UDF interface\n",
    "    \"\"\"\n",
    "    sig_dim = data.shape[2] * data.shape[3]\n",
    "    partitions = partition(data)\n",
    "    i = False\n",
    "    \n",
    "    for part in partitions:\n",
    "        frames = fetch_frame(part)\n",
    "        \n",
    "        ipca = IPCA(K=16, D=sig_dim)\n",
    "\n",
    "        for frame in frames:\n",
    "            process_frame(ipca, frame)\n",
    "\n",
    "        part_comp = ipca.get_components()\n",
    "        \n",
    "#         print(part_comp.shape)\n",
    "        if not i:\n",
    "            components = part_comp\n",
    "        else:\n",
    "            components = process_partitions(components, part_comp)\n",
    "            \n",
    "        i = True\n",
    "    \n",
    "#     print(components.shape)\n",
    "    loading, component = perform_pca(components, n_components=16)\n",
    "    \n",
    "    return loading, component\n",
    "        \n",
    "        \n",
    "            "
   ]
  },
  {
   "cell_type": "code",
   "execution_count": 12,
   "metadata": {},
   "outputs": [],
   "source": [
    "loading, component = PCA(data)"
   ]
  },
  {
   "cell_type": "code",
   "execution_count": 13,
   "metadata": {},
   "outputs": [
    {
     "data": {
      "text/plain": [
       "((256,), (16, 16), (16, 16, 4, 4))"
      ]
     },
     "execution_count": 13,
     "metadata": {},
     "output_type": "execute_result"
    }
   ],
   "source": [
    "loading.shape, component.shape, data.shape"
   ]
  },
  {
   "cell_type": "code",
   "execution_count": 14,
   "metadata": {},
   "outputs": [],
   "source": [
    "data = data.reshape((data.shape[0]*data.shape[1], data.shape[2]*data.shape[3]))"
   ]
  },
  {
   "cell_type": "code",
   "execution_count": 15,
   "metadata": {},
   "outputs": [],
   "source": [
    "projected_data = data @ component"
   ]
  },
  {
   "cell_type": "code",
   "execution_count": 16,
   "metadata": {},
   "outputs": [
    {
     "name": "stdout",
     "output_type": "stream",
     "text": [
      "(256, 16)\n"
     ]
    }
   ],
   "source": [
    "print(projected_data.shape)"
   ]
  },
  {
   "cell_type": "code",
   "execution_count": 17,
   "metadata": {},
   "outputs": [
    {
     "ename": "NameError",
     "evalue": "name 'plt' is not defined",
     "output_type": "error",
     "traceback": [
      "\u001b[0;31m---------------------------------------------------------------------------\u001b[0m",
      "\u001b[0;31mNameError\u001b[0m                                 Traceback (most recent call last)",
      "\u001b[0;32m<ipython-input-17-d995ee2bf1e8>\u001b[0m in \u001b[0;36m<module>\u001b[0;34m\u001b[0m\n\u001b[0;32m----> 1\u001b[0;31m \u001b[0mfig\u001b[0m\u001b[0;34m,\u001b[0m \u001b[0maxes\u001b[0m \u001b[0;34m=\u001b[0m \u001b[0mplt\u001b[0m\u001b[0;34m.\u001b[0m\u001b[0msubplots\u001b[0m\u001b[0;34m(\u001b[0m\u001b[0;34m)\u001b[0m\u001b[0;34m\u001b[0m\u001b[0;34m\u001b[0m\u001b[0m\n\u001b[0m\u001b[1;32m      2\u001b[0m \u001b[0maxes\u001b[0m\u001b[0;34m.\u001b[0m\u001b[0mimshow\u001b[0m\u001b[0;34m(\u001b[0m\u001b[0mprojected_data\u001b[0m\u001b[0;34m)\u001b[0m\u001b[0;34m\u001b[0m\u001b[0;34m\u001b[0m\u001b[0m\n",
      "\u001b[0;31mNameError\u001b[0m: name 'plt' is not defined"
     ]
    }
   ],
   "source": [
    "fig, axes = plt.subplots()\n",
    "axes.imshow(projected_data)"
   ]
  },
  {
   "cell_type": "code",
   "execution_count": null,
   "metadata": {},
   "outputs": [],
   "source": []
  }
 ],
 "metadata": {
  "kernelspec": {
   "display_name": "Python (libertem)",
   "language": "python",
   "name": "libertem"
  },
  "language_info": {
   "codemirror_mode": {
    "name": "ipython",
    "version": 3
   },
   "file_extension": ".py",
   "mimetype": "text/x-python",
   "name": "python",
   "nbconvert_exporter": "python",
   "pygments_lexer": "ipython3",
   "version": "3.6.8"
  }
 },
 "nbformat": 4,
 "nbformat_minor": 2
}
