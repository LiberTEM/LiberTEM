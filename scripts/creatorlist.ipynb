{
 "cells": [
  {
   "cell_type": "code",
   "execution_count": 7,
   "metadata": {},
   "outputs": [],
   "source": [
    "import json"
   ]
  },
  {
   "cell_type": "code",
   "execution_count": 8,
   "metadata": {},
   "outputs": [],
   "source": [
    "creators_file = '../packaging/creators.json'\n",
    "with open(creators_file, 'r', encoding='utf-8') as f:\n",
    "    creators = json.load(f)"
   ]
  },
  {
   "cell_type": "code",
   "execution_count": 9,
   "metadata": {},
   "outputs": [
    {
     "data": {
      "text/plain": [
       "[{'displayname': 'Alexander Clausen',\n",
       "  'authorname': 'Clausen, Alexander',\n",
       "  'affiliation': 'Jülich Research Centre',\n",
       "  'github': 'sk1p',\n",
       "  'contribution': 'System design, engineering, implementation, documentation, management, majority of the code',\n",
       "  'orcid': '0000-0002-9555-7455'},\n",
       " {'displayname': 'Dieter Weber',\n",
       "  'authorname': 'Weber, Dieter',\n",
       "  'affiliation': 'Jülich Research Centre',\n",
       "  'github': 'uellue',\n",
       "  'contribution': 'Management, requirements analysis, system design, testing, documentation, communication',\n",
       "  'orcid': '0000-0001-6635-9567'},\n",
       " {'displayname': 'Karina Ruzaeva',\n",
       "  'authorname': 'Ruzaeva, Karina',\n",
       "  'affiliation': 'Jülich Research Centre',\n",
       "  'github': 'kruzaeva',\n",
       "  'contribution': 'Fast diffraction analysis',\n",
       "  'orcid': '0000-0003-3610-0989'},\n",
       " {'displayname': 'Vadim Migunov',\n",
       "  'authorname': 'Migunov, Vadim',\n",
       "  'affiliation': 'RWTH Aachen University, Jülich Research Centre, Ernst Ruska-Centre',\n",
       "  'github': 'woozey',\n",
       "  'contribution': 'Scientific advisory, discussion, sample data, binning prototype, holography features',\n",
       "  'orcid': '0000-0002-6296-4492'},\n",
       " {'displayname': 'Anand Baburajan',\n",
       "  'authorname': 'Baburajan, Anand',\n",
       "  'affiliation': 'APJ Abdul Kalam Technological University',\n",
       "  'github': 'anandbaburajan',\n",
       "  'contribution': 'Various GUI fixes'},\n",
       " {'displayname': 'Abijith Bahuleyan',\n",
       "  'authorname': 'Bahuleyan, Abijith',\n",
       "  'affiliation': 'APJ Abdul Kalam Technical University',\n",
       "  'github': 'twentyse7en',\n",
       "  'contribution': 'Fix issue 81'},\n",
       " {'displayname': 'Jan Caron',\n",
       "  'authorname': 'Caron, Jan',\n",
       "  'affiliation': 'Jülich Research Centre',\n",
       "  'github': 'jan-car',\n",
       "  'contribution': 'Discussions, advanced color wheel for vector field visualization',\n",
       "  'orcid': '0000-0002-0873-889X'},\n",
       " {'displayname': 'Rahul Chandra',\n",
       "  'authorname': 'Chandra, Rahul',\n",
       "  'affiliation': 'Chandigarh University',\n",
       "  'github': 'irahulcse',\n",
       "  'contribution': 'Test and update of examples'},\n",
       " {'displayname': 'Shankhadeep Dey',\n",
       "  'authorname': 'Dey, Shankhadeep',\n",
       "  'affiliation': 'Siliguri Institute of Technology',\n",
       "  'github': 'iamshankhadeep',\n",
       "  'contribution': 'Added types to libertem.api.Context #643'},\n",
       " {'displayname': 'Magnus Nord',\n",
       "  'authorname': 'Nord, Magnus',\n",
       "  'affiliation': 'University of Antwerp',\n",
       "  'github': 'magnunor',\n",
       "  'contribution': 'Discussions, tests, code in related projects',\n",
       "  'orcid': '0000-0001-7981-5293'},\n",
       " {'displayname': 'Colin Ophus',\n",
       "  'authorname': 'Ophus, Colin',\n",
       "  'affiliation': 'Lawrence Livermore National Lab',\n",
       "  'github': 'cophus',\n",
       "  'contribution': 'Discussions, sample code for K2 reader, overview of related projects, reference files',\n",
       "  'orcid': '0000-0003-2348-8558'},\n",
       " {'displayname': 'Simon Peter',\n",
       "  'authorname': 'Peter, Simon',\n",
       "  'github': 'probonopd',\n",
       "  'contribution': 'Help with setting up AppImage building and Continuous Integration'},\n",
       " {'displayname': 'Jay van Schyndel',\n",
       "  'authorname': 'Schyndel van, Jay',\n",
       "  'affiliation': 'Monash University eResearch Centre',\n",
       "  'github': 'ozej8y',\n",
       "  'contribution': 'Fix issue 80 to allow container deployment'},\n",
       " {'displayname': 'Jaeweon Shin',\n",
       "  'authorname': 'Shin, Jaeweon',\n",
       "  'affiliation': 'ETH Zürich',\n",
       "  'github': 'jaewshin',\n",
       "  'contribution': 'Single pass numerically stable standard deviation'},\n",
       " {'displayname': 'Knut Müller-Caspary',\n",
       "  'authorname': 'Müller-Caspary, Knut',\n",
       "  'affiliation': 'Jülich Research Centre',\n",
       "  'contribution': 'Scientific advisory, discussion, sample data regarding strain mapping, sample code for MIB reader',\n",
       "  'orcid': '0000-0002-2588-7993'},\n",
       " {'displayname': 'Rafal E. Dunin-Borkowski',\n",
       "  'authorname': 'Dunin-Borkowski, Rafal E.',\n",
       "  'affiliation': 'Jülich Research Centre',\n",
       "  'contribution': 'Scientific advisory, resources, discussion, publications',\n",
       "  'orcid': '0000-0001-8082-0647'}]"
      ]
     },
     "execution_count": 9,
     "metadata": {},
     "output_type": "execute_result"
    }
   ],
   "source": [
    "creators"
   ]
  },
  {
   "cell_type": "code",
   "execution_count": 10,
   "metadata": {},
   "outputs": [],
   "source": [
    "affiliations = []\n",
    "authordescs = []\n",
    "\n",
    "for entry in creators:\n",
    "    try:\n",
    "        affiliation = entry['affiliation']\n",
    "        if affiliation not in affiliations:\n",
    "            affiliations.append(affiliation)\n",
    "        index = affiliations.index(affiliation)\n",
    "    except KeyError:\n",
    "        index = -1\n",
    "    authordescs.append((entry['displayname'], index))\n"
   ]
  },
  {
   "cell_type": "code",
   "execution_count": 11,
   "metadata": {},
   "outputs": [],
   "source": [
    "# https://stackoverflow.com/questions/8651361/how-do-you-print-superscript-in-python\n",
    "superscript_map = {\n",
    "    \"0\": \"⁰\", \"1\": \"¹\", \"2\": \"²\", \"3\": \"³\", \"4\": \"⁴\", \"5\": \"⁵\", \"6\": \"⁶\",\n",
    "    \"7\": \"⁷\", \"8\": \"⁸\", \"9\": \"⁹\", \"a\": \"ᵃ\", \"b\": \"ᵇ\", \"c\": \"ᶜ\", \"d\": \"ᵈ\",\n",
    "    \"e\": \"ᵉ\", \"f\": \"ᶠ\", \"g\": \"ᵍ\", \"h\": \"ʰ\", \"i\": \"ᶦ\", \"j\": \"ʲ\", \"k\": \"ᵏ\",\n",
    "    \"l\": \"ˡ\", \"m\": \"ᵐ\", \"n\": \"ⁿ\", \"o\": \"ᵒ\", \"p\": \"ᵖ\", \"q\": \"۹\", \"r\": \"ʳ\",\n",
    "    \"s\": \"ˢ\", \"t\": \"ᵗ\", \"u\": \"ᵘ\", \"v\": \"ᵛ\", \"w\": \"ʷ\", \"x\": \"ˣ\", \"y\": \"ʸ\",\n",
    "    \"z\": \"ᶻ\", \"A\": \"ᴬ\", \"B\": \"ᴮ\", \"C\": \"ᶜ\", \"D\": \"ᴰ\", \"E\": \"ᴱ\", \"F\": \"ᶠ\",\n",
    "    \"G\": \"ᴳ\", \"H\": \"ᴴ\", \"I\": \"ᴵ\", \"J\": \"ᴶ\", \"K\": \"ᴷ\", \"L\": \"ᴸ\", \"M\": \"ᴹ\",\n",
    "    \"N\": \"ᴺ\", \"O\": \"ᴼ\", \"P\": \"ᴾ\", \"Q\": \"Q\", \"R\": \"ᴿ\", \"S\": \"ˢ\", \"T\": \"ᵀ\",\n",
    "    \"U\": \"ᵁ\", \"V\": \"ⱽ\", \"W\": \"ᵂ\", \"X\": \"ˣ\", \"Y\": \"ʸ\", \"Z\": \"ᶻ\", \"+\": \"⁺\",\n",
    "    \"-\": \"⁻\", \"=\": \"⁼\", \"(\": \"⁽\", \")\": \"⁾\"}\n",
    "trans = str.maketrans(\n",
    "    ''.join(superscript_map.keys()),\n",
    "    ''.join(superscript_map.values()))"
   ]
  },
  {
   "cell_type": "code",
   "execution_count": 12,
   "metadata": {},
   "outputs": [
    {
     "name": "stdout",
     "output_type": "stream",
     "text": [
      "Alexander Clausen¹, Dieter Weber¹, Karina Ruzaeva¹, Vadim Migunov², Anand Baburajan³, Abijith Bahuleyan⁴, Jan Caron¹, Rahul Chandra⁵, Shankhadeep Dey⁶, Magnus Nord⁷, Colin Ophus⁸, Simon Peter, Jay van Schyndel⁹, Jaeweon Shin¹⁰, Knut Müller-Caspary¹, Rafal E. Dunin-Borkowski¹\n",
      "\n",
      "¹ Jülich Research Centre\n",
      "² RWTH Aachen University, Jülich Research Centre, Ernst Ruska-Centre\n",
      "³ APJ Abdul Kalam Technological University\n",
      "⁴ APJ Abdul Kalam Technical University\n",
      "⁵ Chandigarh University\n",
      "⁶ Siliguri Institute of Technology\n",
      "⁷ University of Antwerp\n",
      "⁸ Lawrence Livermore National Lab\n",
      "⁹ Monash University eResearch Centre\n",
      "¹⁰ ETH Zürich\n"
     ]
    }
   ],
   "source": [
    "authorstrings = []\n",
    "\n",
    "for a in authordescs:\n",
    "    authorstring = a[0]\n",
    "    if a[1] >= 0:\n",
    "        authorstring += str(a[1] + 1).translate(trans)\n",
    "    authorstrings.append(authorstring)\n",
    "print(', '.join(authorstrings))\n",
    "print()\n",
    "for index, affiliation in enumerate(affiliations):\n",
    "    print(str(index + 1).translate(trans), affiliation)"
   ]
  },
  {
   "cell_type": "code",
   "execution_count": null,
   "metadata": {},
   "outputs": [],
   "source": []
  }
 ],
 "metadata": {
  "kernelspec": {
   "display_name": "Python 3",
   "language": "python",
   "name": "python3"
  },
  "language_info": {
   "codemirror_mode": {
    "name": "ipython",
    "version": 3
   },
   "file_extension": ".py",
   "mimetype": "text/x-python",
   "name": "python",
   "nbconvert_exporter": "python",
   "pygments_lexer": "ipython3",
   "version": "3.7.4"
  }
 },
 "nbformat": 4,
 "nbformat_minor": 2
}
