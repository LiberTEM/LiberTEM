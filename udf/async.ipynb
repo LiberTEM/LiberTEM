{
 "cells": [
  {
   "cell_type": "markdown",
   "id": "informed-dragon",
   "metadata": {},
   "source": [
    "## Synchronous and asynchronous UDF execution\n",
    "\n",
    "This notebook demonstrates the following features that were introduced in release 0.7.0:\n",
    "\n",
    "* Execute several UDFs in one pass\n",
    "* Obtain intermediate results from each merge step by executing UDFs as an iterator\n",
    "* Execute UDFs asynchronously\n",
    "\n",
    "Please see example live-plotting.ipynb for the related live plotting feature!"
   ]
  },
  {
   "cell_type": "code",
   "execution_count": 1,
   "id": "virgin-duplicate",
   "metadata": {
    "execution": {
     "iopub.execute_input": "2022-11-03T13:22:38.582376Z",
     "iopub.status.busy": "2022-11-03T13:22:38.582216Z",
     "iopub.status.idle": "2022-11-03T13:22:39.222060Z",
     "shell.execute_reply": "2022-11-03T13:22:39.221430Z"
    }
   },
   "outputs": [],
   "source": [
    "import os\n",
    "import pprint\n",
    "import asyncio\n",
    "import copy\n",
    "\n",
    "import numpy as np\n",
    "\n",
    "import libertem.api as lt\n",
    "from libertem.udf.sum import SumUDF\n",
    "from libertem.udf.sumsigudf import SumSigUDF"
   ]
  },
  {
   "cell_type": "code",
   "execution_count": 2,
   "id": "painful-nirvana",
   "metadata": {
    "execution": {
     "iopub.execute_input": "2022-11-03T13:22:39.224799Z",
     "iopub.status.busy": "2022-11-03T13:22:39.224651Z",
     "iopub.status.idle": "2022-11-03T13:22:40.605330Z",
     "shell.execute_reply": "2022-11-03T13:22:40.604664Z"
    }
   },
   "outputs": [
    {
     "name": "stderr",
     "output_type": "stream",
     "text": [
      "/home/weber/miniconda3/envs/libertem39/lib/python3.9/site-packages/distributed/node.py:182: UserWarning: Port 8787 is already in use.\n",
      "Perhaps you already have a cluster running?\n",
      "Hosting the HTTP server on port 40445 instead\n",
      "  warnings.warn(\n",
      "2023-01-12 16:17:08,313 - distributed.preloading - INFO - Creating preload: from libertem.executor.dask import worker_setup; worker_setup(resource=\"CPU\", device=15)\n",
      "2023-01-12 16:17:08,313 - distributed.utils - INFO - Reload module tmpioryzcko from .py file\n",
      "2023-01-12 16:17:08,323 - distributed.preloading - INFO - Creating preload: from libertem.executor.dask import worker_setup; worker_setup(resource=\"CPU\", device=16)\n",
      "2023-01-12 16:17:08,323 - distributed.utils - INFO - Reload module tmph8_w2ycc from .py file\n",
      "2023-01-12 16:17:08,338 - distributed.preloading - INFO - Creating preload: from libertem.executor.dask import worker_setup; worker_setup(resource=\"CPU\", device=21)\n",
      "2023-01-12 16:17:08,339 - distributed.utils - INFO - Reload module tmp7qw173dt from .py file\n",
      "2023-01-12 16:17:08,354 - distributed.preloading - INFO - Creating preload: from libertem.executor.dask import worker_setup; worker_setup(resource=\"CPU\", device=18)\n",
      "2023-01-12 16:17:08,354 - distributed.utils - INFO - Reload module tmp5qsl_mgf from .py file\n",
      "2023-01-12 16:17:08,359 - distributed.preloading - INFO - Creating preload: from libertem.executor.dask import worker_setup; worker_setup(resource=\"CPU\", device=11)\n",
      "2023-01-12 16:17:08,360 - distributed.utils - INFO - Reload module tmpg9shv96a from .py file\n",
      "2023-01-12 16:17:08,374 - distributed.preloading - INFO - Creating preload: from libertem.executor.dask import worker_setup; worker_setup(resource=\"CPU\", device=7)\n",
      "2023-01-12 16:17:08,375 - distributed.utils - INFO - Reload module tmpk38e72ru from .py file\n",
      "2023-01-12 16:17:08,387 - distributed.preloading - INFO - Creating preload: from libertem.executor.dask import worker_setup; worker_setup(resource=\"CPU\", device=19)\n",
      "2023-01-12 16:17:08,388 - distributed.utils - INFO - Reload module tmp5k8ln3d6 from .py file\n",
      "2023-01-12 16:17:08,403 - distributed.preloading - INFO - Creating preload: from libertem.executor.dask import worker_setup; worker_setup(resource=\"CPU\", device=8)\n",
      "2023-01-12 16:17:08,403 - distributed.utils - INFO - Reload module tmpciaau8cj from .py file\n",
      "2023-01-12 16:17:08,416 - distributed.preloading - INFO - Creating preload: from libertem.executor.dask import worker_setup; worker_setup(resource=\"CPU\", device=13)\n",
      "2023-01-12 16:17:08,416 - distributed.utils - INFO - Reload module tmph4ri158_ from .py file\n",
      "2023-01-12 16:17:08,439 - distributed.preloading - INFO - Creating preload: from libertem.executor.dask import worker_setup; worker_setup(resource=\"CPU\", device=9)\n",
      "2023-01-12 16:17:08,440 - distributed.utils - INFO - Reload module tmp8n6u_f8r from .py file\n",
      "2023-01-12 16:17:08,454 - distributed.preloading - INFO - Creating preload: from libertem.executor.dask import worker_setup; worker_setup(resource=\"CPU\", device=23)\n",
      "2023-01-12 16:17:08,455 - distributed.preloading - INFO - Creating preload: from libertem.executor.dask import worker_setup; worker_setup(resource=\"CPU\", device=4)\n",
      "2023-01-12 16:17:08,455 - distributed.utils - INFO - Reload module tmpu4b_ap_8 from .py file\n",
      "2023-01-12 16:17:08,455 - distributed.utils - INFO - Reload module tmp7briwqsy from .py file\n",
      "2023-01-12 16:17:08,488 - distributed.preloading - INFO - Creating preload: from libertem.executor.dask import worker_setup; worker_setup(resource=\"CPU\", device=1)\n",
      "2023-01-12 16:17:08,488 - distributed.utils - INFO - Reload module tmp28hfv12y from .py file\n",
      "2023-01-12 16:17:08,492 - distributed.preloading - INFO - Creating preload: from libertem.executor.dask import worker_setup; worker_setup(resource=\"CPU\", device=17)\n",
      "2023-01-12 16:17:08,492 - distributed.utils - INFO - Reload module tmp91gia771 from .py file\n",
      "2023-01-12 16:17:08,510 - distributed.preloading - INFO - Creating preload: from libertem.executor.dask import worker_setup; worker_setup(resource=\"CPU\", device=10)\n",
      "2023-01-12 16:17:08,511 - distributed.utils - INFO - Reload module tmph1cyy14q from .py file\n",
      "2023-01-12 16:17:08,531 - distributed.preloading - INFO - Creating preload: from libertem.executor.dask import worker_setup; worker_setup(resource=\"CPU\", device=22)\n",
      "2023-01-12 16:17:08,531 - distributed.utils - INFO - Reload module tmpmp21k6t_ from .py file\n",
      "2023-01-12 16:17:08,533 - distributed.preloading - INFO - Creating preload: from libertem.common.tracing import maybe_setup_tracing; maybe_setup_tracing(service_name='default-service-0', service_id='0')\n",
      "2023-01-12 16:17:08,533 - distributed.utils - INFO - Reload module tmp__q7et61 from .py file\n",
      "2023-01-12 16:17:08,557 - distributed.preloading - INFO - Creating preload: from libertem.executor.dask import worker_setup; worker_setup(resource=\"CPU\", device=6)\n",
      "2023-01-12 16:17:08,558 - distributed.utils - INFO - Reload module tmpagqz6y9z from .py file\n",
      "2023-01-12 16:17:08,559 - distributed.preloading - INFO - Creating preload: from libertem.executor.dask import worker_setup; worker_setup(resource=\"CPU\", device=12)\n",
      "2023-01-12 16:17:08,559 - distributed.utils - INFO - Reload module tmpgifm6cp1 from .py file\n",
      "2023-01-12 16:17:08,569 - distributed.preloading - INFO - Creating preload: from libertem.executor.dask import worker_setup; worker_setup(resource=\"CPU\", device=5)\n",
      "2023-01-12 16:17:08,570 - distributed.utils - INFO - Reload module tmpwzgbq6em from .py file\n",
      "2023-01-12 16:17:08,597 - distributed.preloading - INFO - Creating preload: from libertem.executor.dask import worker_setup; worker_setup(resource=\"CPU\", device=3)\n",
      "2023-01-12 16:17:08,598 - distributed.utils - INFO - Reload module tmp3cyljleg from .py file\n",
      "2023-01-12 16:17:08,600 - distributed.preloading - INFO - Creating preload: from libertem.executor.dask import worker_setup; worker_setup(resource=\"CUDA\", device=0)\n",
      "2023-01-12 16:17:08,600 - distributed.utils - INFO - Reload module tmp2tfzjdmu from .py file\n",
      "2023-01-12 16:17:08,606 - distributed.preloading - INFO - Creating preload: from libertem.executor.dask import worker_setup; worker_setup(resource=\"CPU\", device=14)\n",
      "2023-01-12 16:17:08,607 - distributed.utils - INFO - Reload module tmpw32ydyaz from .py file\n",
      "2023-01-12 16:17:08,613 - distributed.preloading - INFO - Import preload module: /tmp/tmph8_w2ycc.py\n",
      "2023-01-12 16:17:08,613 - distributed.preloading - INFO - Creating preload: from libertem.common.tracing import maybe_setup_tracing; maybe_setup_tracing(service_name='default-cpu-16', service_id='16')\n",
      "2023-01-12 16:17:08,613 - distributed.utils - INFO - Reload module tmpw_3r5ys8 from .py file\n",
      "2023-01-12 16:17:08,614 - distributed.preloading - INFO - Import preload module: /tmp/tmpw_3r5ys8.py\n",
      "2023-01-12 16:17:08,614 - distributed.preloading - INFO - Creating preload: libertem.preload\n",
      "2023-01-12 16:17:08,617 - distributed.preloading - INFO - Creating preload: from libertem.executor.dask import worker_setup; worker_setup(resource=\"CPU\", device=0)\n",
      "2023-01-12 16:17:08,617 - distributed.utils - INFO - Reload module tmpmf74ytxf from .py file\n",
      "2023-01-12 16:17:08,639 - distributed.preloading - INFO - Creating preload: from libertem.executor.dask import worker_setup; worker_setup(resource=\"CPU\", device=20)\n",
      "2023-01-12 16:17:08,639 - distributed.utils - INFO - Reload module tmpg8_h6muw from .py file\n",
      "2023-01-12 16:17:08,652 - distributed.preloading - INFO - Import preload module: /tmp/tmp5qsl_mgf.py\n",
      "2023-01-12 16:17:08,652 - distributed.preloading - INFO - Creating preload: from libertem.common.tracing import maybe_setup_tracing; maybe_setup_tracing(service_name='default-cpu-18', service_id='18')\n",
      "2023-01-12 16:17:08,653 - distributed.utils - INFO - Reload module tmps3w38vgu from .py file\n",
      "2023-01-12 16:17:08,653 - distributed.preloading - INFO - Import preload module: /tmp/tmps3w38vgu.py\n",
      "2023-01-12 16:17:08,653 - distributed.preloading - INFO - Creating preload: libertem.preload\n",
      "2023-01-12 16:17:08,659 - distributed.preloading - INFO - Import preload module: libertem.preload\n",
      "2023-01-12 16:17:08,666 - distributed.preloading - INFO - Import preload module: /tmp/tmpg9shv96a.py\n",
      "2023-01-12 16:17:08,666 - distributed.preloading - INFO - Creating preload: from libertem.common.tracing import maybe_setup_tracing; maybe_setup_tracing(service_name='default-cpu-11', service_id='11')\n",
      "2023-01-12 16:17:08,666 - distributed.utils - INFO - Reload module tmpue1fwqm_ from .py file\n",
      "2023-01-12 16:17:08,667 - distributed.preloading - INFO - Import preload module: /tmp/tmpue1fwqm_.py\n",
      "2023-01-12 16:17:08,667 - distributed.preloading - INFO - Creating preload: libertem.preload\n",
      "2023-01-12 16:17:08,668 - distributed.preloading - INFO - Import preload module: /tmp/tmpioryzcko.py\n",
      "2023-01-12 16:17:08,669 - distributed.preloading - INFO - Creating preload: from libertem.common.tracing import maybe_setup_tracing; maybe_setup_tracing(service_name='default-cpu-15', service_id='15')\n",
      "2023-01-12 16:17:08,669 - distributed.utils - INFO - Reload module tmp9dg3oypu from .py file\n",
      "2023-01-12 16:17:08,669 - distributed.preloading - INFO - Import preload module: /tmp/tmp9dg3oypu.py\n",
      "2023-01-12 16:17:08,669 - distributed.preloading - INFO - Creating preload: libertem.preload\n",
      "2023-01-12 16:17:08,673 - distributed.preloading - INFO - Import preload module: /tmp/tmpk38e72ru.py\n",
      "2023-01-12 16:17:08,674 - distributed.preloading - INFO - Creating preload: from libertem.common.tracing import maybe_setup_tracing; maybe_setup_tracing(service_name='default-cpu-7', service_id='7')\n",
      "2023-01-12 16:17:08,674 - distributed.preloading - INFO - Import preload module: /tmp/tmp7qw173dt.py\n",
      "2023-01-12 16:17:08,674 - distributed.preloading - INFO - Creating preload: from libertem.common.tracing import maybe_setup_tracing; maybe_setup_tracing(service_name='default-cpu-21', service_id='21')\n",
      "2023-01-12 16:17:08,674 - distributed.utils - INFO - Reload module tmp2qlo6kj1 from .py file\n",
      "2023-01-12 16:17:08,674 - distributed.utils - INFO - Reload module tmpmrnqf556 from .py file\n",
      "2023-01-12 16:17:08,674 - distributed.preloading - INFO - Import preload module: /tmp/tmp2qlo6kj1.py\n",
      "2023-01-12 16:17:08,674 - distributed.preloading - INFO - Creating preload: libertem.preload\n",
      "2023-01-12 16:17:08,674 - distributed.preloading - INFO - Import preload module: /tmp/tmpmrnqf556.py\n",
      "2023-01-12 16:17:08,675 - distributed.preloading - INFO - Creating preload: libertem.preload\n",
      "2023-01-12 16:17:08,682 - distributed.preloading - INFO - Import preload module: /tmp/tmp5k8ln3d6.py\n",
      "2023-01-12 16:17:08,682 - distributed.preloading - INFO - Creating preload: from libertem.common.tracing import maybe_setup_tracing; maybe_setup_tracing(service_name='default-cpu-19', service_id='19')\n",
      "2023-01-12 16:17:08,682 - distributed.utils - INFO - Reload module tmp1jzei7i6 from .py file\n",
      "2023-01-12 16:17:08,682 - distributed.preloading - INFO - Import preload module: /tmp/tmp1jzei7i6.py\n",
      "2023-01-12 16:17:08,682 - distributed.preloading - INFO - Creating preload: libertem.preload\n",
      "2023-01-12 16:17:08,690 - distributed.preloading - INFO - Creating preload: from libertem.executor.dask import worker_setup; worker_setup(resource=\"CPU\", device=2)\n",
      "2023-01-12 16:17:08,691 - distributed.utils - INFO - Reload module tmpcv7bxv_2 from .py file\n",
      "2023-01-12 16:17:08,701 - distributed.preloading - INFO - Import preload module: libertem.preload\n",
      "2023-01-12 16:17:08,705 - distributed.preloading - INFO - Import preload module: /tmp/tmph4ri158_.py\n",
      "2023-01-12 16:17:08,705 - distributed.preloading - INFO - Creating preload: from libertem.common.tracing import maybe_setup_tracing; maybe_setup_tracing(service_name='default-cpu-13', service_id='13')\n",
      "2023-01-12 16:17:08,705 - distributed.utils - INFO - Reload module tmpieybz66v from .py file\n",
      "2023-01-12 16:17:08,706 - distributed.preloading - INFO - Import preload module: /tmp/tmpieybz66v.py\n",
      "2023-01-12 16:17:08,706 - distributed.preloading - INFO - Creating preload: libertem.preload\n",
      "2023-01-12 16:17:08,714 - distributed.preloading - INFO - Import preload module: libertem.preload\n",
      "2023-01-12 16:17:08,716 - distributed.preloading - INFO - Import preload module: libertem.preload\n",
      "2023-01-12 16:17:08,719 - distributed.preloading - INFO - Import preload module: libertem.preload\n",
      "2023-01-12 16:17:08,720 - distributed.preloading - INFO - Import preload module: libertem.preload\n",
      "2023-01-12 16:17:08,728 - distributed.preloading - INFO - Import preload module: libertem.preload\n"
     ]
    },
    {
     "name": "stderr",
     "output_type": "stream",
     "text": [
      "2023-01-12 16:17:08,734 - distributed.preloading - INFO - Import preload module: /tmp/tmpu4b_ap_8.py\n",
      "2023-01-12 16:17:08,735 - distributed.preloading - INFO - Creating preload: from libertem.common.tracing import maybe_setup_tracing; maybe_setup_tracing(service_name='default-cpu-23', service_id='23')\n",
      "2023-01-12 16:17:08,735 - distributed.utils - INFO - Reload module tmpvjz5j24f from .py file\n",
      "2023-01-12 16:17:08,735 - distributed.preloading - INFO - Import preload module: /tmp/tmpvjz5j24f.py\n",
      "2023-01-12 16:17:08,735 - distributed.preloading - INFO - Creating preload: libertem.preload\n",
      "2023-01-12 16:17:08,745 - distributed.preloading - INFO - Import preload module: /tmp/tmp8n6u_f8r.py\n",
      "2023-01-12 16:17:08,745 - distributed.preloading - INFO - Creating preload: from libertem.common.tracing import maybe_setup_tracing; maybe_setup_tracing(service_name='default-cpu-9', service_id='9')\n",
      "2023-01-12 16:17:08,746 - distributed.utils - INFO - Reload module tmpoplyvbei from .py file\n",
      "2023-01-12 16:17:08,746 - distributed.preloading - INFO - Import preload module: /tmp/tmpoplyvbei.py\n",
      "2023-01-12 16:17:08,746 - distributed.preloading - INFO - Creating preload: libertem.preload\n",
      "2023-01-12 16:17:08,750 - distributed.preloading - INFO - Import preload module: libertem.preload\n",
      "2023-01-12 16:17:08,765 - distributed.preloading - INFO - Import preload module: /tmp/tmpciaau8cj.py\n",
      "2023-01-12 16:17:08,765 - distributed.preloading - INFO - Creating preload: from libertem.common.tracing import maybe_setup_tracing; maybe_setup_tracing(service_name='default-cpu-8', service_id='8')\n",
      "2023-01-12 16:17:08,766 - distributed.utils - INFO - Reload module tmp1kfvaomt from .py file\n",
      "2023-01-12 16:17:08,766 - distributed.preloading - INFO - Import preload module: /tmp/tmp1kfvaomt.py\n",
      "2023-01-12 16:17:08,766 - distributed.preloading - INFO - Creating preload: libertem.preload\n",
      "2023-01-12 16:17:08,767 - distributed.preloading - INFO - Import preload module: /tmp/tmp91gia771.py\n",
      "2023-01-12 16:17:08,767 - distributed.preloading - INFO - Creating preload: from libertem.common.tracing import maybe_setup_tracing; maybe_setup_tracing(service_name='default-cpu-17', service_id='17')\n",
      "2023-01-12 16:17:08,767 - distributed.utils - INFO - Reload module tmpd_0j1z0u from .py file\n",
      "2023-01-12 16:17:08,768 - distributed.preloading - INFO - Import preload module: /tmp/tmpd_0j1z0u.py\n",
      "2023-01-12 16:17:08,768 - distributed.preloading - INFO - Creating preload: libertem.preload\n",
      "2023-01-12 16:17:08,781 - distributed.preloading - INFO - Import preload module: libertem.preload\n",
      "2023-01-12 16:17:08,788 - distributed.preloading - INFO - Import preload module: /tmp/tmp__q7et61.py\n",
      "2023-01-12 16:17:08,788 - distributed.preloading - INFO - Creating preload: libertem.preload\n",
      "2023-01-12 16:17:08,791 - distributed.preloading - INFO - Import preload module: libertem.preload\n",
      "2023-01-12 16:17:08,813 - distributed.preloading - INFO - Import preload module: libertem.preload\n",
      "2023-01-12 16:17:08,813 - distributed.preloading - INFO - Import preload module: libertem.preload\n",
      "2023-01-12 16:17:08,820 - distributed.preloading - INFO - Import preload module: /tmp/tmph1cyy14q.py\n",
      "2023-01-12 16:17:08,820 - distributed.preloading - INFO - Creating preload: from libertem.common.tracing import maybe_setup_tracing; maybe_setup_tracing(service_name='default-cpu-10', service_id='10')\n",
      "2023-01-12 16:17:08,821 - distributed.utils - INFO - Reload module tmpg69_e1ll from .py file\n",
      "2023-01-12 16:17:08,821 - distributed.preloading - INFO - Import preload module: /tmp/tmpg69_e1ll.py\n",
      "2023-01-12 16:17:08,821 - distributed.preloading - INFO - Creating preload: libertem.preload\n",
      "2023-01-12 16:17:08,826 - distributed.preloading - INFO - Import preload module: /tmp/tmp7briwqsy.py\n",
      "2023-01-12 16:17:08,827 - distributed.preloading - INFO - Creating preload: from libertem.common.tracing import maybe_setup_tracing; maybe_setup_tracing(service_name='default-cpu-4', service_id='4')\n",
      "2023-01-12 16:17:08,827 - distributed.utils - INFO - Reload module tmps67qqebg from .py file\n",
      "2023-01-12 16:17:08,828 - distributed.preloading - INFO - Import preload module: /tmp/tmps67qqebg.py\n",
      "2023-01-12 16:17:08,828 - distributed.preloading - INFO - Creating preload: libertem.preload\n",
      "2023-01-12 16:17:08,841 - distributed.preloading - INFO - Import preload module: /tmp/tmpwzgbq6em.py\n",
      "2023-01-12 16:17:08,841 - distributed.preloading - INFO - Creating preload: from libertem.common.tracing import maybe_setup_tracing; maybe_setup_tracing(service_name='default-cpu-5', service_id='5')\n",
      "2023-01-12 16:17:08,841 - distributed.utils - INFO - Reload module tmpgtd36kxl from .py file\n",
      "2023-01-12 16:17:08,842 - distributed.preloading - INFO - Import preload module: /tmp/tmpgtd36kxl.py\n",
      "2023-01-12 16:17:08,842 - distributed.preloading - INFO - Creating preload: libertem.preload\n",
      "2023-01-12 16:17:08,845 - distributed.preloading - INFO - Import preload module: libertem.preload\n",
      "2023-01-12 16:17:08,848 - distributed.preloading - INFO - Import preload module: /tmp/tmpmp21k6t_.py\n",
      "2023-01-12 16:17:08,848 - distributed.preloading - INFO - Creating preload: from libertem.common.tracing import maybe_setup_tracing; maybe_setup_tracing(service_name='default-cpu-22', service_id='22')\n",
      "2023-01-12 16:17:08,849 - distributed.utils - INFO - Reload module tmpsrlhukl0 from .py file\n",
      "2023-01-12 16:17:08,849 - distributed.preloading - INFO - Import preload module: /tmp/tmpsrlhukl0.py\n",
      "2023-01-12 16:17:08,849 - distributed.preloading - INFO - Creating preload: libertem.preload\n",
      "2023-01-12 16:17:08,857 - distributed.preloading - INFO - Import preload module: /tmp/tmpgifm6cp1.py\n",
      "2023-01-12 16:17:08,857 - distributed.preloading - INFO - Creating preload: from libertem.common.tracing import maybe_setup_tracing; maybe_setup_tracing(service_name='default-cpu-12', service_id='12')\n",
      "2023-01-12 16:17:08,857 - distributed.utils - INFO - Reload module tmpjguc39bg from .py file\n",
      "2023-01-12 16:17:08,858 - distributed.preloading - INFO - Import preload module: /tmp/tmpjguc39bg.py\n",
      "2023-01-12 16:17:08,858 - distributed.preloading - INFO - Creating preload: libertem.preload\n",
      "2023-01-12 16:17:08,860 - distributed.preloading - INFO - Import preload module: /tmp/tmpagqz6y9z.py\n",
      "2023-01-12 16:17:08,860 - distributed.preloading - INFO - Creating preload: from libertem.common.tracing import maybe_setup_tracing; maybe_setup_tracing(service_name='default-cpu-6', service_id='6')\n",
      "2023-01-12 16:17:08,861 - distributed.utils - INFO - Reload module tmp5394248q from .py file\n",
      "2023-01-12 16:17:08,861 - distributed.preloading - INFO - Import preload module: /tmp/tmp5394248q.py\n",
      "2023-01-12 16:17:08,861 - distributed.preloading - INFO - Creating preload: libertem.preload\n",
      "2023-01-12 16:17:08,866 - distributed.preloading - INFO - Import preload module: libertem.preload\n",
      "2023-01-12 16:17:08,880 - distributed.preloading - INFO - Import preload module: /tmp/tmp3cyljleg.py\n",
      "2023-01-12 16:17:08,880 - distributed.preloading - INFO - Creating preload: from libertem.common.tracing import maybe_setup_tracing; maybe_setup_tracing(service_name='default-cpu-3', service_id='3')\n",
      "2023-01-12 16:17:08,881 - distributed.utils - INFO - Reload module tmphha6hli_ from .py file\n",
      "2023-01-12 16:17:08,881 - distributed.preloading - INFO - Import preload module: /tmp/tmphha6hli_.py\n",
      "2023-01-12 16:17:08,881 - distributed.preloading - INFO - Creating preload: libertem.preload\n",
      "2023-01-12 16:17:08,886 - distributed.preloading - INFO - Import preload module: libertem.preload\n",
      "2023-01-12 16:17:08,889 - distributed.preloading - INFO - Import preload module: /tmp/tmp2tfzjdmu.py\n",
      "2023-01-12 16:17:08,889 - distributed.preloading - INFO - Creating preload: from libertem.common.tracing import maybe_setup_tracing; maybe_setup_tracing(service_name='default-cuda-0', service_id='0')\n",
      "2023-01-12 16:17:08,890 - distributed.utils - INFO - Reload module tmpvs6mftm5 from .py file\n",
      "2023-01-12 16:17:08,890 - distributed.preloading - INFO - Import preload module: /tmp/tmpvs6mftm5.py\n",
      "2023-01-12 16:17:08,890 - distributed.preloading - INFO - Creating preload: libertem.preload\n",
      "2023-01-12 16:17:08,891 - distributed.preloading - INFO - Import preload module: /tmp/tmpmf74ytxf.py\n",
      "2023-01-12 16:17:08,891 - distributed.preloading - INFO - Creating preload: from libertem.common.tracing import maybe_setup_tracing; maybe_setup_tracing(service_name='default-cpu-0', service_id='0')\n",
      "2023-01-12 16:17:08,891 - distributed.utils - INFO - Reload module tmptqa4lwge from .py file\n",
      "2023-01-12 16:17:08,892 - distributed.preloading - INFO - Import preload module: /tmp/tmptqa4lwge.py\n",
      "2023-01-12 16:17:08,892 - distributed.preloading - INFO - Creating preload: libertem.preload\n",
      "2023-01-12 16:17:08,894 - distributed.preloading - INFO - Import preload module: libertem.preload\n",
      "2023-01-12 16:17:08,896 - distributed.preloading - INFO - Import preload module: libertem.preload\n",
      "2023-01-12 16:17:08,897 - distributed.preloading - INFO - Import preload module: /tmp/tmp28hfv12y.py\n",
      "2023-01-12 16:17:08,897 - distributed.preloading - INFO - Creating preload: from libertem.common.tracing import maybe_setup_tracing; maybe_setup_tracing(service_name='default-cpu-1', service_id='1')\n",
      "2023-01-12 16:17:08,898 - distributed.utils - INFO - Reload module tmp2dwo7__c from .py file\n",
      "2023-01-12 16:17:08,898 - distributed.preloading - INFO - Import preload module: /tmp/tmp2dwo7__c.py\n",
      "2023-01-12 16:17:08,898 - distributed.preloading - INFO - Creating preload: libertem.preload\n",
      "2023-01-12 16:17:08,903 - distributed.preloading - INFO - Import preload module: libertem.preload\n",
      "2023-01-12 16:17:08,907 - distributed.preloading - INFO - Import preload module: libertem.preload\n",
      "2023-01-12 16:17:08,909 - distributed.preloading - INFO - Import preload module: /tmp/tmpg8_h6muw.py\n",
      "2023-01-12 16:17:08,909 - distributed.preloading - INFO - Creating preload: from libertem.common.tracing import maybe_setup_tracing; maybe_setup_tracing(service_name='default-cpu-20', service_id='20')\n",
      "2023-01-12 16:17:08,909 - distributed.utils - INFO - Reload module tmpo8kbgqp1 from .py file\n",
      "2023-01-12 16:17:08,909 - distributed.preloading - INFO - Import preload module: /tmp/tmpo8kbgqp1.py\n",
      "2023-01-12 16:17:08,909 - distributed.preloading - INFO - Creating preload: libertem.preload\n",
      "2023-01-12 16:17:08,913 - distributed.preloading - INFO - Import preload module: /tmp/tmpw32ydyaz.py\n",
      "2023-01-12 16:17:08,913 - distributed.preloading - INFO - Creating preload: from libertem.common.tracing import maybe_setup_tracing; maybe_setup_tracing(service_name='default-cpu-14', service_id='14')\n",
      "2023-01-12 16:17:08,914 - distributed.utils - INFO - Reload module tmpuwbyt0sh from .py file\n",
      "2023-01-12 16:17:08,914 - distributed.preloading - INFO - Import preload module: /tmp/tmpuwbyt0sh.py\n",
      "2023-01-12 16:17:08,914 - distributed.preloading - INFO - Creating preload: libertem.preload\n",
      "2023-01-12 16:17:08,927 - distributed.preloading - INFO - Import preload module: libertem.preload\n"
     ]
    },
    {
     "name": "stderr",
     "output_type": "stream",
     "text": [
      "2023-01-12 16:17:08,937 - distributed.preloading - INFO - Import preload module: libertem.preload\n",
      "2023-01-12 16:17:08,945 - distributed.preloading - INFO - Import preload module: libertem.preload\n",
      "2023-01-12 16:17:08,945 - distributed.preloading - INFO - Import preload module: libertem.preload\n",
      "2023-01-12 16:17:08,953 - distributed.preloading - INFO - Import preload module: libertem.preload\n",
      "2023-01-12 16:17:08,958 - distributed.preloading - INFO - Import preload module: libertem.preload\n",
      "2023-01-12 16:17:08,964 - distributed.preloading - INFO - Import preload module: /tmp/tmpcv7bxv_2.py\n",
      "2023-01-12 16:17:08,964 - distributed.preloading - INFO - Creating preload: from libertem.common.tracing import maybe_setup_tracing; maybe_setup_tracing(service_name='default-cpu-2', service_id='2')\n",
      "2023-01-12 16:17:08,965 - distributed.utils - INFO - Reload module tmpc1f0r09y from .py file\n",
      "2023-01-12 16:17:08,965 - distributed.preloading - INFO - Import preload module: /tmp/tmpc1f0r09y.py\n",
      "2023-01-12 16:17:08,965 - distributed.preloading - INFO - Creating preload: libertem.preload\n",
      "2023-01-12 16:17:09,010 - distributed.preloading - INFO - Import preload module: libertem.preload\n"
     ]
    }
   ],
   "source": [
    "ctx = lt.Context()"
   ]
  },
  {
   "cell_type": "code",
   "execution_count": 3,
   "id": "behind-simon",
   "metadata": {
    "execution": {
     "iopub.execute_input": "2022-11-03T13:22:40.608163Z",
     "iopub.status.busy": "2022-11-03T13:22:40.607900Z",
     "iopub.status.idle": "2022-11-03T13:22:40.610686Z",
     "shell.execute_reply": "2022-11-03T13:22:40.610255Z"
    }
   },
   "outputs": [],
   "source": [
    "data_base_path = os.environ.get(\"TESTDATA_BASE_PATH\", \"/home/alex/Data/\")"
   ]
  },
  {
   "cell_type": "code",
   "execution_count": 4,
   "id": "hired-recipe",
   "metadata": {
    "execution": {
     "iopub.execute_input": "2022-11-03T13:22:40.613317Z",
     "iopub.status.busy": "2022-11-03T13:22:40.612351Z",
     "iopub.status.idle": "2022-11-03T13:22:40.942631Z",
     "shell.execute_reply": "2022-11-03T13:22:40.942033Z"
    }
   },
   "outputs": [
    {
     "name": "stderr",
     "output_type": "stream",
     "text": [
      "2023-01-12 16:17:09,425 - distributed.worker - WARNING - Compute Failed\n",
      "Key:       _do_detect-fa956156-516c-43c3-a192-5484c489a9e2\n",
      "Function:  _do_detect\n",
      "args:      ()\n",
      "kwargs:    {}\n",
      "Exception: 'DataSetException(\"OSError(\\'Unable to open file (file signature not found)\\')\")'\n",
      "\n"
     ]
    }
   ],
   "source": [
    "ds = ctx.load(\"auto\", path=os.path.join(data_base_path, \"20200518 165148/default.hdr\"))"
   ]
  },
  {
   "cell_type": "code",
   "execution_count": 5,
   "id": "attached-island",
   "metadata": {
    "execution": {
     "iopub.execute_input": "2022-11-03T13:22:40.945460Z",
     "iopub.status.busy": "2022-11-03T13:22:40.945306Z",
     "iopub.status.idle": "2022-11-03T13:22:40.948060Z",
     "shell.execute_reply": "2022-11-03T13:22:40.947610Z"
    }
   },
   "outputs": [],
   "source": [
    "udfs = [SumUDF(), SumSigUDF()]"
   ]
  },
  {
   "cell_type": "markdown",
   "id": "extensive-relay",
   "metadata": {},
   "source": [
    "### Synchronous execution, only result\n",
    "\n",
    "Note that both UDFs are executed in a single pass!"
   ]
  },
  {
   "cell_type": "code",
   "execution_count": 6,
   "id": "italic-shipping",
   "metadata": {
    "execution": {
     "iopub.execute_input": "2022-11-03T13:22:40.949973Z",
     "iopub.status.busy": "2022-11-03T13:22:40.949835Z",
     "iopub.status.idle": "2022-11-03T13:22:47.144475Z",
     "shell.execute_reply": "2022-11-03T13:22:47.143941Z"
    }
   },
   "outputs": [],
   "source": [
    "res = ctx.run_udf(dataset=ds, udf=udfs)"
   ]
  },
  {
   "cell_type": "markdown",
   "id": "electrical-rubber",
   "metadata": {},
   "source": [
    "The result is a tuple with one entry per UDF:"
   ]
  },
  {
   "cell_type": "code",
   "execution_count": 7,
   "id": "parental-craps",
   "metadata": {
    "execution": {
     "iopub.execute_input": "2022-11-03T13:22:47.147280Z",
     "iopub.status.busy": "2022-11-03T13:22:47.147109Z",
     "iopub.status.idle": "2022-11-03T13:22:47.150202Z",
     "shell.execute_reply": "2022-11-03T13:22:47.149704Z"
    }
   },
   "outputs": [
    {
     "name": "stdout",
     "output_type": "stream",
     "text": [
      "({'intensity': <BufferWrapper kind=sig dtype=float32 extra_shape=()>},\n",
      " {'intensity': <BufferWrapper kind=nav dtype=float32 extra_shape=()>})\n"
     ]
    }
   ],
   "source": [
    "pprint.pprint(res)"
   ]
  },
  {
   "cell_type": "markdown",
   "id": "valued-mason",
   "metadata": {},
   "source": [
    "The previous API when passing a single UDF is not changed, i.e. it doesn't return a tuple but a single UDF result"
   ]
  },
  {
   "cell_type": "code",
   "execution_count": 8,
   "id": "shared-accused",
   "metadata": {
    "execution": {
     "iopub.execute_input": "2022-11-03T13:22:47.152062Z",
     "iopub.status.busy": "2022-11-03T13:22:47.151902Z",
     "iopub.status.idle": "2022-11-03T13:22:47.274116Z",
     "shell.execute_reply": "2022-11-03T13:22:47.273549Z"
    }
   },
   "outputs": [],
   "source": [
    "res = ctx.run_udf(dataset=ds, udf=udfs[0])"
   ]
  },
  {
   "cell_type": "code",
   "execution_count": 9,
   "id": "frozen-incident",
   "metadata": {
    "execution": {
     "iopub.execute_input": "2022-11-03T13:22:47.276585Z",
     "iopub.status.busy": "2022-11-03T13:22:47.276402Z",
     "iopub.status.idle": "2022-11-03T13:22:47.280539Z",
     "shell.execute_reply": "2022-11-03T13:22:47.279628Z"
    }
   },
   "outputs": [
    {
     "name": "stdout",
     "output_type": "stream",
     "text": [
      "{'intensity': <BufferWrapper kind=sig dtype=float32 extra_shape=()>}\n"
     ]
    }
   ],
   "source": [
    "pprint.pprint(res)"
   ]
  },
  {
   "cell_type": "markdown",
   "id": "thermal-grass",
   "metadata": {},
   "source": [
    "### Asynchronous execution, only result\n",
    "\n",
    "By setting `sync=False`, the result is awaitable:"
   ]
  },
  {
   "cell_type": "code",
   "execution_count": 10,
   "id": "narrow-washer",
   "metadata": {
    "execution": {
     "iopub.execute_input": "2022-11-03T13:22:47.324750Z",
     "iopub.status.busy": "2022-11-03T13:22:47.324564Z",
     "iopub.status.idle": "2022-11-03T13:22:47.468938Z",
     "shell.execute_reply": "2022-11-03T13:22:47.468357Z"
    }
   },
   "outputs": [
    {
     "name": "stdout",
     "output_type": "stream",
     "text": [
      "Do something else while UDFs are running in the background\n",
      "Finished\n"
     ]
    }
   ],
   "source": [
    "async_res = ctx.run_udf(dataset=ds, udf=udfs, sync=False)\n",
    "print(\"Do something else while UDFs are running in the background\")\n",
    "res = await async_res\n",
    "print(\"Finished\")"
   ]
  },
  {
   "cell_type": "code",
   "execution_count": 11,
   "id": "adolescent-chicago",
   "metadata": {
    "execution": {
     "iopub.execute_input": "2022-11-03T13:22:47.470967Z",
     "iopub.status.busy": "2022-11-03T13:22:47.470743Z",
     "iopub.status.idle": "2022-11-03T13:22:47.473934Z",
     "shell.execute_reply": "2022-11-03T13:22:47.473465Z"
    }
   },
   "outputs": [
    {
     "name": "stdout",
     "output_type": "stream",
     "text": [
      "({'intensity': <BufferWrapper kind=sig dtype=float32 extra_shape=()>},\n",
      " {'intensity': <BufferWrapper kind=nav dtype=float32 extra_shape=()>})\n"
     ]
    }
   ],
   "source": [
    "pprint.pprint(res)"
   ]
  },
  {
   "cell_type": "markdown",
   "id": "published-startup",
   "metadata": {},
   "source": [
    "Just like in the synchronous case, running a single UDF returns the UDF result directly, not a tuple:"
   ]
  },
  {
   "cell_type": "code",
   "execution_count": 12,
   "id": "considerable-tower",
   "metadata": {
    "execution": {
     "iopub.execute_input": "2022-11-03T13:22:47.476107Z",
     "iopub.status.busy": "2022-11-03T13:22:47.475593Z",
     "iopub.status.idle": "2022-11-03T13:22:47.613892Z",
     "shell.execute_reply": "2022-11-03T13:22:47.612934Z"
    }
   },
   "outputs": [
    {
     "name": "stdout",
     "output_type": "stream",
     "text": [
      "Do something else while UDF is running in the background\n",
      "Finished\n"
     ]
    }
   ],
   "source": [
    "async_res = ctx.run_udf(dataset=ds, udf=udfs[0], sync=False)\n",
    "print(\"Do something else while UDF is running in the background\")\n",
    "res = await async_res\n",
    "print(\"Finished\")"
   ]
  },
  {
   "cell_type": "code",
   "execution_count": 13,
   "id": "loose-pride",
   "metadata": {
    "execution": {
     "iopub.execute_input": "2022-11-03T13:22:47.615848Z",
     "iopub.status.busy": "2022-11-03T13:22:47.615691Z",
     "iopub.status.idle": "2022-11-03T13:22:47.618785Z",
     "shell.execute_reply": "2022-11-03T13:22:47.618326Z"
    }
   },
   "outputs": [
    {
     "name": "stdout",
     "output_type": "stream",
     "text": [
      "{'intensity': <BufferWrapper kind=sig dtype=float32 extra_shape=()>}\n"
     ]
    }
   ],
   "source": [
    "pprint.pprint(res)"
   ]
  },
  {
   "cell_type": "markdown",
   "id": "amateur-doubt",
   "metadata": {},
   "source": [
    "### Synchronous execution as an iterator\n",
    "\n",
    "This returns `UDFResults` objects with attributes `buffers` and `damage`. `buffers` is a tuple with the results per UDF, and `damage` is a `BufferWrapper` with `kind='nav'` and `dtype=bool` that indicates which parts of the navigation space have been merged already."
   ]
  },
  {
   "cell_type": "code",
   "execution_count": 14,
   "id": "compatible-bottle",
   "metadata": {
    "execution": {
     "iopub.execute_input": "2022-11-03T13:22:47.620772Z",
     "iopub.status.busy": "2022-11-03T13:22:47.620503Z",
     "iopub.status.idle": "2022-11-03T13:22:47.847289Z",
     "shell.execute_reply": "2022-11-03T13:22:47.846683Z"
    },
    "scrolled": false
   },
   "outputs": [
    {
     "name": "stdout",
     "output_type": "stream",
     "text": [
      "683 nav positions processed\n",
      "({'intensity': <BufferWrapper kind=sig dtype=float32 extra_shape=()>},\n",
      " {'intensity': <BufferWrapper kind=nav dtype=float32 extra_shape=()>})\n",
      "1366 nav positions processed\n",
      "({'intensity': <BufferWrapper kind=sig dtype=float32 extra_shape=()>},\n",
      " {'intensity': <BufferWrapper kind=nav dtype=float32 extra_shape=()>})\n",
      "2048 nav positions processed\n",
      "({'intensity': <BufferWrapper kind=sig dtype=float32 extra_shape=()>},\n",
      " {'intensity': <BufferWrapper kind=nav dtype=float32 extra_shape=()>})\n",
      "2731 nav positions processed\n",
      "({'intensity': <BufferWrapper kind=sig dtype=float32 extra_shape=()>},\n",
      " {'intensity': <BufferWrapper kind=nav dtype=float32 extra_shape=()>})\n",
      "3414 nav positions processed\n",
      "({'intensity': <BufferWrapper kind=sig dtype=float32 extra_shape=()>},\n",
      " {'intensity': <BufferWrapper kind=nav dtype=float32 extra_shape=()>})\n",
      "4096 nav positions processed\n",
      "({'intensity': <BufferWrapper kind=sig dtype=float32 extra_shape=()>},\n",
      " {'intensity': <BufferWrapper kind=nav dtype=float32 extra_shape=()>})\n",
      "4779 nav positions processed\n",
      "({'intensity': <BufferWrapper kind=sig dtype=float32 extra_shape=()>},\n",
      " {'intensity': <BufferWrapper kind=nav dtype=float32 extra_shape=()>})\n",
      "5461 nav positions processed\n",
      "({'intensity': <BufferWrapper kind=sig dtype=float32 extra_shape=()>},\n",
      " {'intensity': <BufferWrapper kind=nav dtype=float32 extra_shape=()>})\n",
      "6143 nav positions processed\n",
      "({'intensity': <BufferWrapper kind=sig dtype=float32 extra_shape=()>},\n",
      " {'intensity': <BufferWrapper kind=nav dtype=float32 extra_shape=()>})\n",
      "6826 nav positions processed\n",
      "({'intensity': <BufferWrapper kind=sig dtype=float32 extra_shape=()>},\n",
      " {'intensity': <BufferWrapper kind=nav dtype=float32 extra_shape=()>})\n",
      "7509 nav positions processed\n",
      "({'intensity': <BufferWrapper kind=sig dtype=float32 extra_shape=()>},\n",
      " {'intensity': <BufferWrapper kind=nav dtype=float32 extra_shape=()>})\n",
      "8191 nav positions processed\n",
      "({'intensity': <BufferWrapper kind=sig dtype=float32 extra_shape=()>},\n",
      " {'intensity': <BufferWrapper kind=nav dtype=float32 extra_shape=()>})\n",
      "8874 nav positions processed\n",
      "({'intensity': <BufferWrapper kind=sig dtype=float32 extra_shape=()>},\n",
      " {'intensity': <BufferWrapper kind=nav dtype=float32 extra_shape=()>})\n",
      "9557 nav positions processed\n",
      "({'intensity': <BufferWrapper kind=sig dtype=float32 extra_shape=()>},\n",
      " {'intensity': <BufferWrapper kind=nav dtype=float32 extra_shape=()>})\n",
      "10240 nav positions processed\n",
      "({'intensity': <BufferWrapper kind=sig dtype=float32 extra_shape=()>},\n",
      " {'intensity': <BufferWrapper kind=nav dtype=float32 extra_shape=()>})\n",
      "10923 nav positions processed\n",
      "({'intensity': <BufferWrapper kind=sig dtype=float32 extra_shape=()>},\n",
      " {'intensity': <BufferWrapper kind=nav dtype=float32 extra_shape=()>})\n",
      "11606 nav positions processed\n",
      "({'intensity': <BufferWrapper kind=sig dtype=float32 extra_shape=()>},\n",
      " {'intensity': <BufferWrapper kind=nav dtype=float32 extra_shape=()>})\n",
      "12289 nav positions processed\n",
      "({'intensity': <BufferWrapper kind=sig dtype=float32 extra_shape=()>},\n",
      " {'intensity': <BufferWrapper kind=nav dtype=float32 extra_shape=()>})\n",
      "12971 nav positions processed\n",
      "({'intensity': <BufferWrapper kind=sig dtype=float32 extra_shape=()>},\n",
      " {'intensity': <BufferWrapper kind=nav dtype=float32 extra_shape=()>})\n",
      "13654 nav positions processed\n",
      "({'intensity': <BufferWrapper kind=sig dtype=float32 extra_shape=()>},\n",
      " {'intensity': <BufferWrapper kind=nav dtype=float32 extra_shape=()>})\n",
      "14337 nav positions processed\n",
      "({'intensity': <BufferWrapper kind=sig dtype=float32 extra_shape=()>},\n",
      " {'intensity': <BufferWrapper kind=nav dtype=float32 extra_shape=()>})\n",
      "15020 nav positions processed\n",
      "({'intensity': <BufferWrapper kind=sig dtype=float32 extra_shape=()>},\n",
      " {'intensity': <BufferWrapper kind=nav dtype=float32 extra_shape=()>})\n",
      "15702 nav positions processed\n",
      "({'intensity': <BufferWrapper kind=sig dtype=float32 extra_shape=()>},\n",
      " {'intensity': <BufferWrapper kind=nav dtype=float32 extra_shape=()>})\n",
      "16384 nav positions processed\n",
      "({'intensity': <BufferWrapper kind=sig dtype=float32 extra_shape=()>},\n",
      " {'intensity': <BufferWrapper kind=nav dtype=float32 extra_shape=()>})\n"
     ]
    }
   ],
   "source": [
    "# NBVAL_IGNORE_OUTPUT\n",
    "# (output is ignored in nbval run because the number of nav positions can be different)\n",
    "for res in ctx.run_udf_iter(dataset=ds, udf=udfs):\n",
    "    print(np.count_nonzero(res.damage.data), \"nav positions processed\")\n",
    "    pprint.pprint(res.buffers)"
   ]
  },
  {
   "cell_type": "markdown",
   "id": "leading-smooth",
   "metadata": {},
   "source": [
    "### Asynchronous execution as an iterator\n",
    "\n",
    "This allows several iterators to proceed asynchronously in parallel. This approach is used in the backend for the web GUI of LiberTEM to run several analyses concurrently. It could also be useful to implement live feedback to instrument control from UDF results if the control solution works asynchronously.\n",
    "\n",
    "Note that the UDFs are copied here so that different instances are executed in parallel. Executing the same UDF instances concurrently can lead to undefined behavior."
   ]
  },
  {
   "cell_type": "code",
   "execution_count": 15,
   "id": "inner-ceiling",
   "metadata": {
    "execution": {
     "iopub.execute_input": "2022-11-03T13:22:47.849466Z",
     "iopub.status.busy": "2022-11-03T13:22:47.849222Z",
     "iopub.status.idle": "2022-11-03T13:22:48.133209Z",
     "shell.execute_reply": "2022-11-03T13:22:48.132731Z"
    }
   },
   "outputs": [
    {
     "name": "stdout",
     "output_type": "stream",
     "text": [
      "Do something else while UDFs are running in the background\n",
      "one 682 nav positions processed\n",
      "('one',\n",
      " ({'intensity': <BufferWrapper kind=sig dtype=float32 extra_shape=()>},\n",
      "  {'intensity': <BufferWrapper kind=nav dtype=float32 extra_shape=()>}))\n",
      "one 1365 nav positions processed\n",
      "('one',\n",
      " ({'intensity': <BufferWrapper kind=sig dtype=float32 extra_shape=()>},\n",
      "  {'intensity': <BufferWrapper kind=nav dtype=float32 extra_shape=()>}))\n",
      "one 2048 nav positions processed\n",
      "('one',\n",
      " ({'intensity': <BufferWrapper kind=sig dtype=float32 extra_shape=()>},\n",
      "  {'intensity': <BufferWrapper kind=nav dtype=float32 extra_shape=()>}))\n",
      "one 2731 nav positions processed\n",
      "('one',\n",
      " ({'intensity': <BufferWrapper kind=sig dtype=float32 extra_shape=()>},\n",
      "  {'intensity': <BufferWrapper kind=nav dtype=float32 extra_shape=()>}))\n",
      "one 3414 nav positions processed\n",
      "('one',\n",
      " ({'intensity': <BufferWrapper kind=sig dtype=float32 extra_shape=()>},\n",
      "  {'intensity': <BufferWrapper kind=nav dtype=float32 extra_shape=()>}))\n",
      "one 4097 nav positions processed\n",
      "('one',\n",
      " ({'intensity': <BufferWrapper kind=sig dtype=float32 extra_shape=()>},\n",
      "  {'intensity': <BufferWrapper kind=nav dtype=float32 extra_shape=()>}))\n",
      "one 4779 nav positions processed\n",
      "('one',\n",
      " ({'intensity': <BufferWrapper kind=sig dtype=float32 extra_shape=()>},\n",
      "  {'intensity': <BufferWrapper kind=nav dtype=float32 extra_shape=()>}))\n",
      "one 5462 nav positions processed\n",
      "('one',\n",
      " ({'intensity': <BufferWrapper kind=sig dtype=float32 extra_shape=()>},\n",
      "  {'intensity': <BufferWrapper kind=nav dtype=float32 extra_shape=()>}))\n",
      "one 6145 nav positions processed\n",
      "('one',\n",
      " ({'intensity': <BufferWrapper kind=sig dtype=float32 extra_shape=()>},\n",
      "  {'intensity': <BufferWrapper kind=nav dtype=float32 extra_shape=()>}))\n",
      "one 6828 nav positions processed\n",
      "('one',\n",
      " ({'intensity': <BufferWrapper kind=sig dtype=float32 extra_shape=()>},\n",
      "  {'intensity': <BufferWrapper kind=nav dtype=float32 extra_shape=()>}))\n",
      "one 7510 nav positions processed\n",
      "('one',\n",
      " ({'intensity': <BufferWrapper kind=sig dtype=float32 extra_shape=()>},\n",
      "  {'intensity': <BufferWrapper kind=nav dtype=float32 extra_shape=()>}))\n",
      "one 8192 nav positions processed\n",
      "('one',\n",
      " ({'intensity': <BufferWrapper kind=sig dtype=float32 extra_shape=()>},\n",
      "  {'intensity': <BufferWrapper kind=nav dtype=float32 extra_shape=()>}))\n",
      "one 8875 nav positions processed\n",
      "('one',\n",
      " ({'intensity': <BufferWrapper kind=sig dtype=float32 extra_shape=()>},\n",
      "  {'intensity': <BufferWrapper kind=nav dtype=float32 extra_shape=()>}))\n",
      "one 9558 nav positions processed\n",
      "('one',\n",
      " ({'intensity': <BufferWrapper kind=sig dtype=float32 extra_shape=()>},\n",
      "  {'intensity': <BufferWrapper kind=nav dtype=float32 extra_shape=()>}))\n",
      "one 10240 nav positions processed\n",
      "('one',\n",
      " ({'intensity': <BufferWrapper kind=sig dtype=float32 extra_shape=()>},\n",
      "  {'intensity': <BufferWrapper kind=nav dtype=float32 extra_shape=()>}))\n",
      "one 10923 nav positions processed\n",
      "('one',\n",
      " ({'intensity': <BufferWrapper kind=sig dtype=float32 extra_shape=()>},\n",
      "  {'intensity': <BufferWrapper kind=nav dtype=float32 extra_shape=()>}))\n",
      "one 11606 nav positions processed\n",
      "('one',\n",
      " ({'intensity': <BufferWrapper kind=sig dtype=float32 extra_shape=()>},\n",
      "  {'intensity': <BufferWrapper kind=nav dtype=float32 extra_shape=()>}))\n",
      "one 12289 nav positions processed\n",
      "('one',\n",
      " ({'intensity': <BufferWrapper kind=sig dtype=float32 extra_shape=()>},\n",
      "  {'intensity': <BufferWrapper kind=nav dtype=float32 extra_shape=()>}))\n",
      "one 12972 nav positions processed\n",
      "('one',\n",
      " ({'intensity': <BufferWrapper kind=sig dtype=float32 extra_shape=()>},\n",
      "  {'intensity': <BufferWrapper kind=nav dtype=float32 extra_shape=()>}))\n",
      "one 13654 nav positions processed\n",
      "('one',\n",
      " ({'intensity': <BufferWrapper kind=sig dtype=float32 extra_shape=()>},\n",
      "  {'intensity': <BufferWrapper kind=nav dtype=float32 extra_shape=()>}))\n",
      "one 14336 nav positions processed\n",
      "('one',\n",
      " ({'intensity': <BufferWrapper kind=sig dtype=float32 extra_shape=()>},\n",
      "  {'intensity': <BufferWrapper kind=nav dtype=float32 extra_shape=()>}))\n",
      "one 15019 nav positions processed\n",
      "('one',\n",
      " ({'intensity': <BufferWrapper kind=sig dtype=float32 extra_shape=()>},\n",
      "  {'intensity': <BufferWrapper kind=nav dtype=float32 extra_shape=()>}))\n",
      "two 682 nav positions processed\n",
      "('two',\n",
      " ({'intensity': <BufferWrapper kind=sig dtype=float32 extra_shape=()>},\n",
      "  {'intensity': <BufferWrapper kind=nav dtype=float32 extra_shape=()>}))\n",
      "one 15702 nav positions processed\n",
      "('one',\n",
      " ({'intensity': <BufferWrapper kind=sig dtype=float32 extra_shape=()>},\n",
      "  {'intensity': <BufferWrapper kind=nav dtype=float32 extra_shape=()>}))\n",
      "one 16384 nav positions processed\n",
      "('one',\n",
      " ({'intensity': <BufferWrapper kind=sig dtype=float32 extra_shape=()>},\n",
      "  {'intensity': <BufferWrapper kind=nav dtype=float32 extra_shape=()>}))\n",
      "two 1365 nav positions processed\n",
      "('two',\n",
      " ({'intensity': <BufferWrapper kind=sig dtype=float32 extra_shape=()>},\n",
      "  {'intensity': <BufferWrapper kind=nav dtype=float32 extra_shape=()>}))\n",
      "two 2048 nav positions processed\n",
      "('two',\n",
      " ({'intensity': <BufferWrapper kind=sig dtype=float32 extra_shape=()>},\n",
      "  {'intensity': <BufferWrapper kind=nav dtype=float32 extra_shape=()>}))\n",
      "two 2730 nav positions processed\n",
      "('two',\n",
      " ({'intensity': <BufferWrapper kind=sig dtype=float32 extra_shape=()>},\n",
      "  {'intensity': <BufferWrapper kind=nav dtype=float32 extra_shape=()>}))\n",
      "two 3413 nav positions processed\n",
      "('two',\n",
      " ({'intensity': <BufferWrapper kind=sig dtype=float32 extra_shape=()>},\n",
      "  {'intensity': <BufferWrapper kind=nav dtype=float32 extra_shape=()>}))\n",
      "two 4096 nav positions processed\n",
      "('two',\n",
      " ({'intensity': <BufferWrapper kind=sig dtype=float32 extra_shape=()>},\n",
      "  {'intensity': <BufferWrapper kind=nav dtype=float32 extra_shape=()>}))\n",
      "two 4778 nav positions processed\n",
      "('two',\n",
      " ({'intensity': <BufferWrapper kind=sig dtype=float32 extra_shape=()>},\n",
      "  {'intensity': <BufferWrapper kind=nav dtype=float32 extra_shape=()>}))\n",
      "two 5461 nav positions processed\n",
      "('two',\n",
      " ({'intensity': <BufferWrapper kind=sig dtype=float32 extra_shape=()>},\n",
      "  {'intensity': <BufferWrapper kind=nav dtype=float32 extra_shape=()>}))\n",
      "two 6144 nav positions processed\n",
      "('two',\n",
      " ({'intensity': <BufferWrapper kind=sig dtype=float32 extra_shape=()>},\n",
      "  {'intensity': <BufferWrapper kind=nav dtype=float32 extra_shape=()>}))\n",
      "two 6827 nav positions processed\n",
      "('two',\n",
      " ({'intensity': <BufferWrapper kind=sig dtype=float32 extra_shape=()>},\n",
      "  {'intensity': <BufferWrapper kind=nav dtype=float32 extra_shape=()>}))\n",
      "two 7509 nav positions processed\n",
      "('two',\n",
      " ({'intensity': <BufferWrapper kind=sig dtype=float32 extra_shape=()>},\n",
      "  {'intensity': <BufferWrapper kind=nav dtype=float32 extra_shape=()>}))\n",
      "two 8192 nav positions processed\n",
      "('two',\n",
      " ({'intensity': <BufferWrapper kind=sig dtype=float32 extra_shape=()>},\n",
      "  {'intensity': <BufferWrapper kind=nav dtype=float32 extra_shape=()>}))\n",
      "two 8875 nav positions processed\n",
      "('two',\n",
      " ({'intensity': <BufferWrapper kind=sig dtype=float32 extra_shape=()>},\n",
      "  {'intensity': <BufferWrapper kind=nav dtype=float32 extra_shape=()>}))\n",
      "two 9557 nav positions processed\n",
      "('two',\n",
      " ({'intensity': <BufferWrapper kind=sig dtype=float32 extra_shape=()>},\n",
      "  {'intensity': <BufferWrapper kind=nav dtype=float32 extra_shape=()>}))\n",
      "two 10240 nav positions processed\n",
      "('two',\n",
      " ({'intensity': <BufferWrapper kind=sig dtype=float32 extra_shape=()>},\n",
      "  {'intensity': <BufferWrapper kind=nav dtype=float32 extra_shape=()>}))\n",
      "two 10923 nav positions processed\n",
      "('two',\n",
      " ({'intensity': <BufferWrapper kind=sig dtype=float32 extra_shape=()>},\n",
      "  {'intensity': <BufferWrapper kind=nav dtype=float32 extra_shape=()>}))\n",
      "two 11606 nav positions processed\n",
      "('two',\n",
      " ({'intensity': <BufferWrapper kind=sig dtype=float32 extra_shape=()>},\n",
      "  {'intensity': <BufferWrapper kind=nav dtype=float32 extra_shape=()>}))\n",
      "two 12289 nav positions processed\n",
      "('two',\n",
      " ({'intensity': <BufferWrapper kind=sig dtype=float32 extra_shape=()>},\n",
      "  {'intensity': <BufferWrapper kind=nav dtype=float32 extra_shape=()>}))\n",
      "two 12971 nav positions processed\n",
      "('two',\n",
      " ({'intensity': <BufferWrapper kind=sig dtype=float32 extra_shape=()>},\n",
      "  {'intensity': <BufferWrapper kind=nav dtype=float32 extra_shape=()>}))\n",
      "two 13654 nav positions processed\n",
      "('two',\n",
      " ({'intensity': <BufferWrapper kind=sig dtype=float32 extra_shape=()>},\n",
      "  {'intensity': <BufferWrapper kind=nav dtype=float32 extra_shape=()>}))\n",
      "two 14336 nav positions processed\n",
      "('two',\n",
      " ({'intensity': <BufferWrapper kind=sig dtype=float32 extra_shape=()>},\n",
      "  {'intensity': <BufferWrapper kind=nav dtype=float32 extra_shape=()>}))\n",
      "two 15018 nav positions processed\n",
      "('two',\n",
      " ({'intensity': <BufferWrapper kind=sig dtype=float32 extra_shape=()>},\n",
      "  {'intensity': <BufferWrapper kind=nav dtype=float32 extra_shape=()>}))\n",
      "two 15701 nav positions processed\n",
      "('two',\n",
      " ({'intensity': <BufferWrapper kind=sig dtype=float32 extra_shape=()>},\n",
      "  {'intensity': <BufferWrapper kind=nav dtype=float32 extra_shape=()>}))\n",
      "two 16384 nav positions processed\n",
      "('two',\n",
      " ({'intensity': <BufferWrapper kind=sig dtype=float32 extra_shape=()>},\n",
      "  {'intensity': <BufferWrapper kind=nav dtype=float32 extra_shape=()>}))\n"
     ]
    },
    {
     "data": {
      "text/plain": [
       "[<libertem.udf.base.UDFResults at 0x7f01744ebe50>,\n",
       " <libertem.udf.base.UDFResults at 0x7f01770e5f70>]"
      ]
     },
     "execution_count": 15,
     "metadata": {},
     "output_type": "execute_result"
    }
   ],
   "source": [
    "# NBVAL_IGNORE_OUTPUT\n",
    "# (output is ignored in nbval run because the number of nav positions can be different)\n",
    "async def doit(label, udfs):\n",
    "    async for res in ctx.run_udf_iter(dataset=ds, udf=udfs, sync=False):\n",
    "        print(label, np.count_nonzero(res.damage.data), \"nav positions processed\")\n",
    "        pprint.pprint((label, res.buffers))\n",
    "    return res\n",
    "        \n",
    "p1 = doit(\"one\", copy.deepcopy(udfs))\n",
    "p2 = doit(\"two\", copy.deepcopy(udfs))\n",
    "print(\"Do something else while UDFs are running in the background\")\n",
    "await asyncio.gather(p1, p2)"
   ]
  },
  {
   "cell_type": "code",
   "execution_count": null,
   "id": "realistic-helicopter",
   "metadata": {},
   "outputs": [],
   "source": []
  }
 ],
 "metadata": {
  "kernelspec": {
   "display_name": "Python (libertem39)",
   "language": "python",
   "name": "libertem39"
  },
  "language_info": {
   "codemirror_mode": {
    "name": "ipython",
    "version": 3
   },
   "file_extension": ".py",
   "mimetype": "text/x-python",
   "name": "python",
   "nbconvert_exporter": "python",
   "pygments_lexer": "ipython3",
   "version": "3.9.15"
  }
 },
 "nbformat": 4,
 "nbformat_minor": 5
}
